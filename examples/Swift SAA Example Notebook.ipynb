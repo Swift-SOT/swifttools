{
 "cells": [
  {
   "cell_type": "markdown",
   "id": "7a04a5ae",
   "metadata": {},
   "source": [
    "# `swift_too` module\n",
    "\n",
    "## `Swift_SAA` example - Querying times when Swift is passing through the South Atlantic Anomaly\n",
    "\n",
    "### API version = 1.2, `swifttools` version 2.4.2\n",
    "\n",
    "#### Author: Jamie A. Kennea (Penn State)\n",
    "\n",
    "This is a class to determine when Swift will be inside the South Atlantic Anomaly (SAA). During SAA passages, all instruments are turned off. There are two SAA definitions, the default is the Spacecraft SAA definition which is used by the Swift X-ray Telescope (XRT) and UV/Optical Telescope (UVOT). The second is an approximation of the Burst Alert Telescope (BAT) SAA time. As BAT self determines if it is in the SAA based on rates, the BAT SAA is based on a model that predicts when this should happen. "
   ]
  },
  {
   "cell_type": "code",
   "execution_count": 1,
   "id": "f3e1bdf4",
   "metadata": {},
   "outputs": [],
   "source": [
    "from swifttools.swift_too import SAA"
   ]
  },
  {
   "cell_type": "markdown",
   "id": "f5a0c632",
   "metadata": {},
   "source": [
    "### Querying SAA times\n",
    "\n",
    "In order to query when Swift will be going through the SAA on a particular day, just call as follows:"
   ]
  },
  {
   "cell_type": "code",
   "execution_count": 2,
   "id": "938b66cc",
   "metadata": {},
   "outputs": [
    {
     "data": {
      "text/html": [
       "<table><thead><th style='text-align: left;'>#</th><th style='text-align: left;'>Begin</th><th style='text-align: left;'>End</th></thead><tr><td style='text-align: left;'>0</td><td style='text-align: left;'>2022-03-30 00:00:00</td><td style='text-align: left;'>2022-03-30 00:14:52</td></tr><tr><td style='text-align: left;'>1</td><td style='text-align: left;'>2022-03-30 10:30:56</td><td style='text-align: left;'>2022-03-30 10:38:45</td></tr><tr><td style='text-align: left;'>2</td><td style='text-align: left;'>2022-03-30 12:07:36</td><td style='text-align: left;'>2022-03-30 12:29:02</td></tr><tr><td style='text-align: left;'>3</td><td style='text-align: left;'>2022-03-30 13:46:03</td><td style='text-align: left;'>2022-03-30 14:10:57</td></tr><tr><td style='text-align: left;'>4</td><td style='text-align: left;'>2022-03-30 15:24:52</td><td style='text-align: left;'>2022-03-30 15:51:18</td></tr><tr><td style='text-align: left;'>5</td><td style='text-align: left;'>2022-03-30 17:04:51</td><td style='text-align: left;'>2022-03-30 17:31:00</td></tr><tr><td style='text-align: left;'>6</td><td style='text-align: left;'>2022-03-30 18:46:35</td><td style='text-align: left;'>2022-03-30 19:10:39</td></tr><tr><td style='text-align: left;'>7</td><td style='text-align: left;'>2022-03-30 20:28:38</td><td style='text-align: left;'>2022-03-30 20:50:18</td></tr><tr><td style='text-align: left;'>8</td><td style='text-align: left;'>2022-03-30 22:10:30</td><td style='text-align: left;'>2022-03-30 22:29:49</td></tr><tr><td style='text-align: left;'>9</td><td style='text-align: left;'>2022-03-30 23:53:01</td><td style='text-align: left;'>2022-03-31 00:00:00</td></tr></table>"
      ],
      "text/plain": [
       "Swift_SAA(username='anonymous',begin='2022-03-30 00:00:00',end='2022-03-31 00:00:00',bat='False')"
      ]
     },
     "execution_count": 2,
     "metadata": {},
     "output_type": "execute_result"
    }
   ],
   "source": [
    "saa = SAA('2022-03-30')\n",
    "saa"
   ]
  },
  {
   "cell_type": "markdown",
   "id": "ef440bce",
   "metadata": {},
   "source": [
    "As can be seen able, the returned value is a table of SAA `begin` and `end` times. The default first parameter passed to SAA above is `begin`. For this request `length` defaults to 1 day, so the value of `end` is automatically set to `2022-03-30`. You can set `begin`, `end` and `length` by hand if you wish.\n",
    "\n",
    "So an alternative way to do the above could be:"
   ]
  },
  {
   "cell_type": "code",
   "execution_count": 3,
   "id": "59942b12",
   "metadata": {},
   "outputs": [
    {
     "data": {
      "text/html": [
       "<table><thead><th style='text-align: left;'>#</th><th style='text-align: left;'>Begin</th><th style='text-align: left;'>End</th></thead><tr><td style='text-align: left;'>0</td><td style='text-align: left;'>2022-03-29 00:07:09</td><td style='text-align: left;'>2022-03-29 00:24:03</td></tr><tr><td style='text-align: left;'>1</td><td style='text-align: left;'>2022-03-29 12:15:50</td><td style='text-align: left;'>2022-03-29 12:35:52</td></tr><tr><td style='text-align: left;'>2</td><td style='text-align: left;'>2022-03-29 13:54:10</td><td style='text-align: left;'>2022-03-29 14:18:32</td></tr><tr><td style='text-align: left;'>3</td><td style='text-align: left;'>2022-03-29 15:32:57</td><td style='text-align: left;'>2022-03-29 15:59:06</td></tr><tr><td style='text-align: left;'>4</td><td style='text-align: left;'>2022-03-29 17:12:22</td><td style='text-align: left;'>2022-03-29 17:38:55</td></tr><tr><td style='text-align: left;'>5</td><td style='text-align: left;'>2022-03-29 18:53:52</td><td style='text-align: left;'>2022-03-29 19:18:31</td></tr><tr><td style='text-align: left;'>6</td><td style='text-align: left;'>2022-03-29 20:36:01</td><td style='text-align: left;'>2022-03-29 20:58:14</td></tr><tr><td style='text-align: left;'>7</td><td style='text-align: left;'>2022-03-29 22:17:53</td><td style='text-align: left;'>2022-03-29 22:37:45</td></tr><tr><td style='text-align: left;'>8</td><td style='text-align: left;'>2022-03-29 23:59:55</td><td style='text-align: left;'>2022-03-30 00:00:00</td></tr></table>"
      ],
      "text/plain": [
       "Swift_SAA(username='anonymous',begin='2022-03-29 00:00:00',end='2022-03-30 00:00:00',bat='False')"
      ]
     },
     "execution_count": 3,
     "metadata": {},
     "output_type": "execute_result"
    }
   ],
   "source": [
    "SAA('2022-03-29','2022-03-30')"
   ]
  },
  {
   "cell_type": "markdown",
   "id": "06b6aa22",
   "metadata": {},
   "source": [
    "or"
   ]
  },
  {
   "cell_type": "code",
   "execution_count": 4,
   "id": "403cdcb6",
   "metadata": {},
   "outputs": [
    {
     "data": {
      "text/html": [
       "<table><thead><th style='text-align: left;'>#</th><th style='text-align: left;'>Begin</th><th style='text-align: left;'>End</th></thead><tr><td style='text-align: left;'>0</td><td style='text-align: left;'>2022-03-29 00:07:09</td><td style='text-align: left;'>2022-03-29 00:24:03</td></tr><tr><td style='text-align: left;'>1</td><td style='text-align: left;'>2022-03-29 12:15:50</td><td style='text-align: left;'>2022-03-29 12:35:52</td></tr><tr><td style='text-align: left;'>2</td><td style='text-align: left;'>2022-03-29 13:54:10</td><td style='text-align: left;'>2022-03-29 14:18:32</td></tr><tr><td style='text-align: left;'>3</td><td style='text-align: left;'>2022-03-29 15:32:57</td><td style='text-align: left;'>2022-03-29 15:59:06</td></tr><tr><td style='text-align: left;'>4</td><td style='text-align: left;'>2022-03-29 17:12:22</td><td style='text-align: left;'>2022-03-29 17:38:55</td></tr><tr><td style='text-align: left;'>5</td><td style='text-align: left;'>2022-03-29 18:53:52</td><td style='text-align: left;'>2022-03-29 19:18:31</td></tr><tr><td style='text-align: left;'>6</td><td style='text-align: left;'>2022-03-29 20:36:01</td><td style='text-align: left;'>2022-03-29 20:58:14</td></tr><tr><td style='text-align: left;'>7</td><td style='text-align: left;'>2022-03-29 22:17:53</td><td style='text-align: left;'>2022-03-29 22:37:45</td></tr><tr><td style='text-align: left;'>8</td><td style='text-align: left;'>2022-03-29 23:59:55</td><td style='text-align: left;'>2022-03-30 00:00:00</td></tr></table>"
      ],
      "text/plain": [
       "Swift_SAA(username='anonymous',begin='2022-03-29 00:00:00',end='2022-03-30 00:00:00',bat='False')"
      ]
     },
     "execution_count": 4,
     "metadata": {},
     "output_type": "execute_result"
    }
   ],
   "source": [
    "SAA('2022-03-29',length=1)"
   ]
  },
  {
   "cell_type": "markdown",
   "id": "89f76ae9",
   "metadata": {},
   "source": [
    "### BAT SAA passage times\n",
    "\n",
    "In order to estimate SAA passage times for the BAT instrument, simply set the parameter `bat = True`, e.g.:"
   ]
  },
  {
   "cell_type": "code",
   "execution_count": 5,
   "id": "c73e314d",
   "metadata": {},
   "outputs": [
    {
     "data": {
      "text/html": [
       "<table><thead><th style='text-align: left;'>#</th><th style='text-align: left;'>Begin</th><th style='text-align: left;'>End</th></thead><tr><td style='text-align: left;'>0</td><td style='text-align: left;'>2022-03-29 00:07:23</td><td style='text-align: left;'>2022-03-29 00:22:15</td></tr><tr><td style='text-align: left;'>1</td><td style='text-align: left;'>2022-03-29 01:52:22</td><td style='text-align: left;'>2022-03-29 01:52:40</td></tr><tr><td style='text-align: left;'>2</td><td style='text-align: left;'>2022-03-29 01:52:51</td><td style='text-align: left;'>2022-03-29 01:57:44</td></tr><tr><td style='text-align: left;'>3</td><td style='text-align: left;'>2022-03-29 12:16:36</td><td style='text-align: left;'>2022-03-29 12:21:49</td></tr><tr><td style='text-align: left;'>4</td><td style='text-align: left;'>2022-03-29 12:21:55</td><td style='text-align: left;'>2022-03-29 12:24:13</td></tr><tr><td style='text-align: left;'>5</td><td style='text-align: left;'>2022-03-29 13:52:48</td><td style='text-align: left;'>2022-03-29 14:11:21</td></tr><tr><td style='text-align: left;'>6</td><td style='text-align: left;'>2022-03-29 15:32:12</td><td style='text-align: left;'>2022-03-29 15:53:08</td></tr><tr><td style='text-align: left;'>7</td><td style='text-align: left;'>2022-03-29 17:12:31</td><td style='text-align: left;'>2022-03-29 17:35:01</td></tr><tr><td style='text-align: left;'>8</td><td style='text-align: left;'>2022-03-29 18:54:06</td><td style='text-align: left;'>2022-03-29 19:14:14</td></tr><tr><td style='text-align: left;'>9</td><td style='text-align: left;'>2022-03-29 20:36:23</td><td style='text-align: left;'>2022-03-29 20:55:09</td></tr><tr><td style='text-align: left;'>10</td><td style='text-align: left;'>2022-03-29 22:18:12</td><td style='text-align: left;'>2022-03-29 22:34:33</td></tr></table>"
      ],
      "text/plain": [
       "Swift_SAA(username='anonymous',begin='2022-03-29 00:00:00',end='2022-03-30 00:00:00',bat='True')"
      ]
     },
     "execution_count": 5,
     "metadata": {},
     "output_type": "execute_result"
    }
   ],
   "source": [
    "saa = SAA('2022-03-29',bat=True)\n",
    "saa"
   ]
  },
  {
   "cell_type": "markdown",
   "id": "79441e20",
   "metadata": {},
   "source": [
    "You will notice that the times for entry and exit differ for BAT, and the passages are usually shorter.\n",
    "\n",
    "### Accessing the pass information\n",
    "\n",
    "In order to access information on an individual pass, you can see in the tables above the first column gives the array index of each entry, therefore you can access the information about the SAA pass @ 18:54:06 by the following command:"
   ]
  },
  {
   "cell_type": "code",
   "execution_count": 6,
   "id": "881340aa",
   "metadata": {},
   "outputs": [
    {
     "data": {
      "text/html": [
       "<table><thead><th style='text-align: left;'>Begin</th><th style='text-align: left;'>End</th></thead><tr><td style='text-align: left;'>2022-03-29 18:54:06</td><td style='text-align: left;'>2022-03-29 19:14:14</td></tr></table>"
      ],
      "text/plain": [
       "Swift_SAA_Entry()"
      ]
     },
     "execution_count": 6,
     "metadata": {},
     "output_type": "execute_result"
    }
   ],
   "source": [
    "saa[8]"
   ]
  },
  {
   "cell_type": "markdown",
   "id": "def78327",
   "metadata": {},
   "source": [
    "The above is a instance of the `Swift_SAA_Entry` class, which is a simple container class that contains two entries, `begin` and `end`, which give the beginning and end times of the SAA passage. "
   ]
  },
  {
   "cell_type": "code",
   "execution_count": 7,
   "id": "37e45f84",
   "metadata": {},
   "outputs": [
    {
     "name": "stdout",
     "output_type": "stream",
     "text": [
      "2022-03-29 18:54:06\n"
     ]
    }
   ],
   "source": [
    "print(saa[8].begin)"
   ]
  },
  {
   "cell_type": "code",
   "execution_count": 8,
   "id": "c96274b8",
   "metadata": {},
   "outputs": [
    {
     "name": "stdout",
     "output_type": "stream",
     "text": [
      "2022-03-29 19:14:14\n"
     ]
    }
   ],
   "source": [
    "print(saa[8].end)"
   ]
  },
  {
   "cell_type": "markdown",
   "id": "73261855",
   "metadata": {},
   "source": [
    "### A note about clock correction\n",
    "\n",
    "Note that all times in the `Swift_SAA` class are times in UTC. However, if you want to know when the SAA times will happen in either Mission Elapsed Time (seconds since 2001-01-01 as measured by Swift's onboard clock) or Swift Time (a simple conversion of MET to a UTC-like date format, without leap second or clock drift adjustments), you can perform a clock correction using the `clock_correct()` method, e.g.:"
   ]
  },
  {
   "cell_type": "code",
   "execution_count": 9,
   "id": "10f1f2aa",
   "metadata": {},
   "outputs": [
    {
     "data": {
      "text/html": [
       "<table><thead><th style='text-align: left;'>#</th><th style='text-align: left;'>Begin (UTC)</th><th style='text-align: left;'>End (UTC)</th></thead><tr><td style='text-align: left;'>0</td><td style='text-align: left;'>2022-03-29 00:07:23</td><td style='text-align: left;'>2022-03-29 00:22:15</td></tr><tr><td style='text-align: left;'>1</td><td style='text-align: left;'>2022-03-29 01:52:22</td><td style='text-align: left;'>2022-03-29 01:52:40</td></tr><tr><td style='text-align: left;'>2</td><td style='text-align: left;'>2022-03-29 01:52:51</td><td style='text-align: left;'>2022-03-29 01:57:44</td></tr><tr><td style='text-align: left;'>3</td><td style='text-align: left;'>2022-03-29 12:16:36</td><td style='text-align: left;'>2022-03-29 12:21:49</td></tr><tr><td style='text-align: left;'>4</td><td style='text-align: left;'>2022-03-29 12:21:55</td><td style='text-align: left;'>2022-03-29 12:24:13</td></tr><tr><td style='text-align: left;'>5</td><td style='text-align: left;'>2022-03-29 13:52:48</td><td style='text-align: left;'>2022-03-29 14:11:21</td></tr><tr><td style='text-align: left;'>6</td><td style='text-align: left;'>2022-03-29 15:32:12</td><td style='text-align: left;'>2022-03-29 15:53:08</td></tr><tr><td style='text-align: left;'>7</td><td style='text-align: left;'>2022-03-29 17:12:31</td><td style='text-align: left;'>2022-03-29 17:35:01</td></tr><tr><td style='text-align: left;'>8</td><td style='text-align: left;'>2022-03-29 18:54:06</td><td style='text-align: left;'>2022-03-29 19:14:14</td></tr><tr><td style='text-align: left;'>9</td><td style='text-align: left;'>2022-03-29 20:36:23</td><td style='text-align: left;'>2022-03-29 20:55:09</td></tr><tr><td style='text-align: left;'>10</td><td style='text-align: left;'>2022-03-29 22:18:12</td><td style='text-align: left;'>2022-03-29 22:34:33</td></tr></table>"
      ],
      "text/plain": [
       "Swift_SAA(username='anonymous',begin='2022-03-29 00:00:00',end='2022-03-30 00:00:00',bat='True')"
      ]
     },
     "execution_count": 9,
     "metadata": {},
     "output_type": "execute_result"
    }
   ],
   "source": [
    "saa.clock_correct()\n",
    "saa"
   ]
  },
  {
   "cell_type": "markdown",
   "id": "b7104f3c",
   "metadata": {},
   "source": [
    "As you can see now the columns are explicitly listed as being UTC. You can convert to Swift Time easily, like so:"
   ]
  },
  {
   "cell_type": "code",
   "execution_count": 10,
   "id": "6bdc84fb",
   "metadata": {},
   "outputs": [
    {
     "data": {
      "text/html": [
       "<table><thead><th style='text-align: left;'>#</th><th style='text-align: left;'>Begin (Swift)</th><th style='text-align: left;'>End (Swift)</th></thead><tr><td style='text-align: left;'>0</td><td style='text-align: left;'>2022-03-29 00:07:51.864421</td><td style='text-align: left;'>2022-03-29 00:22:43.864481</td></tr><tr><td style='text-align: left;'>1</td><td style='text-align: left;'>2022-03-29 01:52:50.864847</td><td style='text-align: left;'>2022-03-29 01:53:08.864848</td></tr><tr><td style='text-align: left;'>2</td><td style='text-align: left;'>2022-03-29 01:53:19.864849</td><td style='text-align: left;'>2022-03-29 01:58:12.864869</td></tr><tr><td style='text-align: left;'>3</td><td style='text-align: left;'>2022-03-29 12:17:04.867379</td><td style='text-align: left;'>2022-03-29 12:22:17.867400</td></tr><tr><td style='text-align: left;'>4</td><td style='text-align: left;'>2022-03-29 12:22:23.867400</td><td style='text-align: left;'>2022-03-29 12:24:41.867410</td></tr><tr><td style='text-align: left;'>5</td><td style='text-align: left;'>2022-03-29 13:53:16.867769</td><td style='text-align: left;'>2022-03-29 14:11:49.867844</td></tr><tr><td style='text-align: left;'>6</td><td style='text-align: left;'>2022-03-29 15:32:40.868172</td><td style='text-align: left;'>2022-03-29 15:53:36.868257</td></tr><tr><td style='text-align: left;'>7</td><td style='text-align: left;'>2022-03-29 17:12:59.868579</td><td style='text-align: left;'>2022-03-29 17:35:29.868670</td></tr><tr><td style='text-align: left;'>8</td><td style='text-align: left;'>2022-03-29 18:54:34.868991</td><td style='text-align: left;'>2022-03-29 19:14:42.869073</td></tr><tr><td style='text-align: left;'>9</td><td style='text-align: left;'>2022-03-29 20:36:51.869406</td><td style='text-align: left;'>2022-03-29 20:55:37.869482</td></tr><tr><td style='text-align: left;'>10</td><td style='text-align: left;'>2022-03-29 22:18:40.869819</td><td style='text-align: left;'>2022-03-29 22:35:01.869885</td></tr></table>"
      ],
      "text/plain": [
       "Swift_SAA(username='anonymous',begin='2022-03-29 00:00:00',end='2022-03-30 00:00:00',bat='True')"
      ]
     },
     "execution_count": 10,
     "metadata": {},
     "output_type": "execute_result"
    }
   ],
   "source": [
    "saa.to_swifttime()\n",
    "saa"
   ]
  },
  {
   "cell_type": "markdown",
   "id": "3c696267",
   "metadata": {},
   "source": [
    "or access the MET times of individual SAA passage times, by using the `met` attribute:"
   ]
  },
  {
   "cell_type": "code",
   "execution_count": 11,
   "id": "1c2b7b34",
   "metadata": {},
   "outputs": [
    {
     "data": {
      "text/plain": [
       "670272874.868991"
      ]
     },
     "execution_count": 11,
     "metadata": {},
     "output_type": "execute_result"
    }
   ],
   "source": [
    "saa[8].begin.met"
   ]
  }
 ],
 "metadata": {
  "kernelspec": {
   "display_name": "Python 3 (ipykernel)",
   "language": "python",
   "name": "python3"
  },
  "language_info": {
   "codemirror_mode": {
    "name": "ipython",
    "version": 3
   },
   "file_extension": ".py",
   "mimetype": "text/x-python",
   "name": "python",
   "nbconvert_exporter": "python",
   "pygments_lexer": "ipython3",
   "version": "3.9.10"
  }
 },
 "nbformat": 4,
 "nbformat_minor": 5
}
