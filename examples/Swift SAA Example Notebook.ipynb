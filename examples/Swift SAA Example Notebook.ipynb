{
 "cells": [
  {
   "cell_type": "markdown",
   "id": "7a04a5ae",
   "metadata": {},
   "source": [
    "# `swift_too` module\n",
    "\n",
    "## `Swift_SAA` example - Querying and fetching the results of an existing job\n",
    "\n",
    "### API version = 1.2, `swifttools` version 3.0.8\n",
    "\n",
    "#### Author: Jamie A. Kennea (Penn State)\n",
    "\n",
    "This is a class to determine when Swift will be inside the South Atlantic Anomaly (SAA). During SAA passages, all instruments are turned off. There are two SAA definitions, the default is the Spacecraft SAA definition which is used by the Swift X-ray Telescope (XRT) and UV/Optical Telescope (UVOT). The second is an approximation of the Burst Alert Telescope (BAT) SAA time. As BAT self determines if it is in the SAA based on rates, the BAT SAA is based on a model that predicts when this should happen. "
   ]
  },
  {
   "cell_type": "code",
   "execution_count": 1,
   "id": "f3e1bdf4",
   "metadata": {},
   "outputs": [],
   "source": [
    "from swifttools.swift_too import SAA"
   ]
  },
  {
   "cell_type": "markdown",
   "id": "f5a0c632",
   "metadata": {},
   "source": [
    "### Querying SAA times\n",
    "\n",
    "In order to query when Swift will be going through the SAA on a particular day, just call as follows:"
   ]
  },
  {
   "cell_type": "code",
   "execution_count": 2,
   "id": "938b66cc",
   "metadata": {},
   "outputs": [
    {
     "data": {
      "text/html": [
       "<table><thead><th style='text-align: left;'>#</th><th style='text-align: left;'>Begin</th><th style='text-align: left;'>End</th></thead><tr><td style='text-align: left;'>0</td><td style='text-align: left;'>2022-03-30 00:00:00</td><td style='text-align: left;'>2022-03-30 00:14:48</td></tr><tr><td style='text-align: left;'>1</td><td style='text-align: left;'>2022-03-30 10:30:53</td><td style='text-align: left;'>2022-03-30 10:38:42</td></tr><tr><td style='text-align: left;'>2</td><td style='text-align: left;'>2022-03-30 12:07:33</td><td style='text-align: left;'>2022-03-30 12:28:59</td></tr><tr><td style='text-align: left;'>3</td><td style='text-align: left;'>2022-03-30 13:45:59</td><td style='text-align: left;'>2022-03-30 14:10:53</td></tr><tr><td style='text-align: left;'>4</td><td style='text-align: left;'>2022-03-30 15:24:49</td><td style='text-align: left;'>2022-03-30 15:51:14</td></tr><tr><td style='text-align: left;'>5</td><td style='text-align: left;'>2022-03-30 17:04:48</td><td style='text-align: left;'>2022-03-30 17:30:56</td></tr><tr><td style='text-align: left;'>6</td><td style='text-align: left;'>2022-03-30 18:46:32</td><td style='text-align: left;'>2022-03-30 19:10:35</td></tr><tr><td style='text-align: left;'>7</td><td style='text-align: left;'>2022-03-30 20:28:35</td><td style='text-align: left;'>2022-03-30 20:50:14</td></tr><tr><td style='text-align: left;'>8</td><td style='text-align: left;'>2022-03-30 22:10:27</td><td style='text-align: left;'>2022-03-30 22:29:44</td></tr><tr><td style='text-align: left;'>9</td><td style='text-align: left;'>2022-03-30 23:52:58</td><td style='text-align: left;'>2022-03-31 00:00:00</td></tr></table>"
      ],
      "text/plain": [
       "Swift_SAA(username='anonymous',begin='2022-03-30 00:00:00',end='2022-03-31 00:00:00',bat='False')"
      ]
     },
     "execution_count": 2,
     "metadata": {},
     "output_type": "execute_result"
    }
   ],
   "source": [
    "saa = SAA('2022-03-30')\n",
    "saa"
   ]
  },
  {
   "cell_type": "markdown",
   "id": "ef440bce",
   "metadata": {},
   "source": [
    "As can be seen able, the returned value is a table of SAA `begin` and `end` times. The default first parameter passed to SAA above is `begin`. For this request `length` defaults to 1 day, so the value of `end` is automatically set to `2022-03-30`. You can set `begin`, `end` and `length` by hand if you wish.\n",
    "\n",
    "So an alternative way to do the above could be:"
   ]
  },
  {
   "cell_type": "code",
   "execution_count": 3,
   "id": "59942b12",
   "metadata": {},
   "outputs": [
    {
     "data": {
      "text/html": [
       "<table><thead><th style='text-align: left;'>#</th><th style='text-align: left;'>Begin</th><th style='text-align: left;'>End</th></thead><tr><td style='text-align: left;'>0</td><td style='text-align: left;'>2022-03-29 00:07:07</td><td style='text-align: left;'>2022-03-29 00:24:00</td></tr><tr><td style='text-align: left;'>1</td><td style='text-align: left;'>2022-03-29 12:15:47</td><td style='text-align: left;'>2022-03-29 12:35:49</td></tr><tr><td style='text-align: left;'>2</td><td style='text-align: left;'>2022-03-29 13:54:08</td><td style='text-align: left;'>2022-03-29 14:18:29</td></tr><tr><td style='text-align: left;'>3</td><td style='text-align: left;'>2022-03-29 15:32:55</td><td style='text-align: left;'>2022-03-29 15:59:03</td></tr><tr><td style='text-align: left;'>4</td><td style='text-align: left;'>2022-03-29 17:12:20</td><td style='text-align: left;'>2022-03-29 17:38:52</td></tr><tr><td style='text-align: left;'>5</td><td style='text-align: left;'>2022-03-29 18:53:50</td><td style='text-align: left;'>2022-03-29 19:18:27</td></tr><tr><td style='text-align: left;'>6</td><td style='text-align: left;'>2022-03-29 20:35:58</td><td style='text-align: left;'>2022-03-29 20:58:10</td></tr><tr><td style='text-align: left;'>7</td><td style='text-align: left;'>2022-03-29 22:17:51</td><td style='text-align: left;'>2022-03-29 22:37:41</td></tr><tr><td style='text-align: left;'>8</td><td style='text-align: left;'>2022-03-29 23:59:53</td><td style='text-align: left;'>2022-03-30 00:00:00</td></tr></table>"
      ],
      "text/plain": [
       "Swift_SAA(username='anonymous',begin='2022-03-29 00:00:00',end='2022-03-30 00:00:00',bat='False')"
      ]
     },
     "execution_count": 3,
     "metadata": {},
     "output_type": "execute_result"
    }
   ],
   "source": [
    "SAA('2022-03-29','2022-03-30')"
   ]
  },
  {
   "cell_type": "markdown",
   "id": "06b6aa22",
   "metadata": {},
   "source": [
    "or"
   ]
  },
  {
   "cell_type": "code",
   "execution_count": 4,
   "id": "403cdcb6",
   "metadata": {},
   "outputs": [
    {
     "data": {
      "text/html": [
       "<table><thead><th style='text-align: left;'>#</th><th style='text-align: left;'>Begin</th><th style='text-align: left;'>End</th></thead><tr><td style='text-align: left;'>0</td><td style='text-align: left;'>2022-03-29 00:07:07</td><td style='text-align: left;'>2022-03-29 00:24:00</td></tr><tr><td style='text-align: left;'>1</td><td style='text-align: left;'>2022-03-29 12:15:47</td><td style='text-align: left;'>2022-03-29 12:35:49</td></tr><tr><td style='text-align: left;'>2</td><td style='text-align: left;'>2022-03-29 13:54:08</td><td style='text-align: left;'>2022-03-29 14:18:29</td></tr><tr><td style='text-align: left;'>3</td><td style='text-align: left;'>2022-03-29 15:32:55</td><td style='text-align: left;'>2022-03-29 15:59:03</td></tr><tr><td style='text-align: left;'>4</td><td style='text-align: left;'>2022-03-29 17:12:20</td><td style='text-align: left;'>2022-03-29 17:38:52</td></tr><tr><td style='text-align: left;'>5</td><td style='text-align: left;'>2022-03-29 18:53:50</td><td style='text-align: left;'>2022-03-29 19:18:27</td></tr><tr><td style='text-align: left;'>6</td><td style='text-align: left;'>2022-03-29 20:35:58</td><td style='text-align: left;'>2022-03-29 20:58:10</td></tr><tr><td style='text-align: left;'>7</td><td style='text-align: left;'>2022-03-29 22:17:51</td><td style='text-align: left;'>2022-03-29 22:37:41</td></tr><tr><td style='text-align: left;'>8</td><td style='text-align: left;'>2022-03-29 23:59:53</td><td style='text-align: left;'>2022-03-30 00:00:00</td></tr></table>"
      ],
      "text/plain": [
       "Swift_SAA(username='anonymous',begin='2022-03-29 00:00:00',end='2022-03-30 00:00:00',bat='False')"
      ]
     },
     "execution_count": 4,
     "metadata": {},
     "output_type": "execute_result"
    }
   ],
   "source": [
    "SAA('2022-03-29',length=1)"
   ]
  },
  {
   "cell_type": "markdown",
   "id": "ee3124a6",
   "metadata": {},
   "source": [
    "### `swifttools 3.0.8` more for astropy fans\n",
    "\n",
    "You can also use `astropy` `Time` to define start and end, and as of `3.0.8` you can use `astropy` units also, let's demonstrate!"
   ]
  },
  {
   "cell_type": "code",
   "execution_count": 5,
   "id": "75a60e7d",
   "metadata": {},
   "outputs": [
    {
     "data": {
      "text/html": [
       "<table><thead><th style='text-align: left;'>#</th><th style='text-align: left;'>Begin</th><th style='text-align: left;'>End</th></thead><tr><td style='text-align: left;'>0</td><td style='text-align: left;'>2022-08-09 00:00:00</td><td style='text-align: left;'>2022-08-09 00:15:08</td></tr><tr><td style='text-align: left;'>1</td><td style='text-align: left;'>2022-08-09 01:37:30</td><td style='text-align: left;'>2022-08-09 01:51:52</td></tr><tr><td style='text-align: left;'>2</td><td style='text-align: left;'>2022-08-09 12:07:36</td><td style='text-align: left;'>2022-08-09 12:16:47</td></tr><tr><td style='text-align: left;'>3</td><td style='text-align: left;'>2022-08-09 13:44:32</td><td style='text-align: left;'>2022-08-09 14:06:09</td></tr><tr><td style='text-align: left;'>4</td><td style='text-align: left;'>2022-08-09 15:22:56</td><td style='text-align: left;'>2022-08-09 15:47:50</td></tr><tr><td style='text-align: left;'>5</td><td style='text-align: left;'>2022-08-09 17:01:42</td><td style='text-align: left;'>2022-08-09 17:28:04</td></tr><tr><td style='text-align: left;'>6</td><td style='text-align: left;'>2022-08-09 18:41:43</td><td style='text-align: left;'>2022-08-09 19:07:41</td></tr><tr><td style='text-align: left;'>7</td><td style='text-align: left;'>2022-08-09 20:23:26</td><td style='text-align: left;'>2022-08-09 20:47:17</td></tr><tr><td style='text-align: left;'>8</td><td style='text-align: left;'>2022-08-09 22:05:23</td><td style='text-align: left;'>2022-08-09 22:26:53</td></tr><tr><td style='text-align: left;'>9</td><td style='text-align: left;'>2022-08-09 23:47:10</td><td style='text-align: left;'>2022-08-10 00:00:00</td></tr></table>"
      ],
      "text/plain": [
       "Swift_SAA(username='anonymous',begin='2022-08-09 00:00:00',end='2022-08-10 00:00:00',bat='False')"
      ]
     },
     "execution_count": 5,
     "metadata": {},
     "output_type": "execute_result"
    }
   ],
   "source": [
    "from astropy.time import Time\n",
    "import astropy.units as u\n",
    "\n",
    "t = Time(59800,format='mjd')\n",
    "SAA(t, t + 1*u.day)"
   ]
  },
  {
   "cell_type": "markdown",
   "id": "89f76ae9",
   "metadata": {},
   "source": [
    "### BAT SAA passage times\n",
    "\n",
    "In order to estimate SAA passage times for the BAT instrument, simply set the parameter `bat = True`, e.g.:"
   ]
  },
  {
   "cell_type": "code",
   "execution_count": 6,
   "id": "c73e314d",
   "metadata": {},
   "outputs": [
    {
     "data": {
      "text/html": [
       "<table><thead><th style='text-align: left;'>#</th><th style='text-align: left;'>Begin</th><th style='text-align: left;'>End</th></thead><tr><td style='text-align: left;'>0</td><td style='text-align: left;'>2022-03-29 00:07:22</td><td style='text-align: left;'>2022-03-29 00:22:12</td></tr><tr><td style='text-align: left;'>1</td><td style='text-align: left;'>2022-03-29 01:52:21</td><td style='text-align: left;'>2022-03-29 01:52:37</td></tr><tr><td style='text-align: left;'>2</td><td style='text-align: left;'>2022-03-29 01:52:50</td><td style='text-align: left;'>2022-03-29 01:57:41</td></tr><tr><td style='text-align: left;'>3</td><td style='text-align: left;'>2022-03-29 12:16:33</td><td style='text-align: left;'>2022-03-29 12:21:47</td></tr><tr><td style='text-align: left;'>4</td><td style='text-align: left;'>2022-03-29 12:21:53</td><td style='text-align: left;'>2022-03-29 12:24:11</td></tr><tr><td style='text-align: left;'>5</td><td style='text-align: left;'>2022-03-29 13:52:46</td><td style='text-align: left;'>2022-03-29 14:11:18</td></tr><tr><td style='text-align: left;'>6</td><td style='text-align: left;'>2022-03-29 15:32:10</td><td style='text-align: left;'>2022-03-29 15:53:05</td></tr><tr><td style='text-align: left;'>7</td><td style='text-align: left;'>2022-03-29 17:12:28</td><td style='text-align: left;'>2022-03-29 17:34:58</td></tr><tr><td style='text-align: left;'>8</td><td style='text-align: left;'>2022-03-29 18:54:04</td><td style='text-align: left;'>2022-03-29 19:14:10</td></tr><tr><td style='text-align: left;'>9</td><td style='text-align: left;'>2022-03-29 20:36:20</td><td style='text-align: left;'>2022-03-29 20:55:06</td></tr><tr><td style='text-align: left;'>10</td><td style='text-align: left;'>2022-03-29 22:18:10</td><td style='text-align: left;'>2022-03-29 22:34:30</td></tr></table>"
      ],
      "text/plain": [
       "Swift_SAA(username='anonymous',begin='2022-03-29 00:00:00',end='2022-03-30 00:00:00',bat='True')"
      ]
     },
     "execution_count": 6,
     "metadata": {},
     "output_type": "execute_result"
    }
   ],
   "source": [
    "saa = SAA('2022-03-29',bat=True)\n",
    "saa"
   ]
  },
  {
   "cell_type": "markdown",
   "id": "79441e20",
   "metadata": {},
   "source": [
    "You will notice that the times for entry and exit differ for BAT, and the passages are usually shorter.\n",
    "\n",
    "### Accessing the pass information\n",
    "\n",
    "In order to access information on an individual pass, you can see in the tables above the first column gives the array index of each entry, therefore you can access the information about the SAA pass @ 18:54:06 by the following command:"
   ]
  },
  {
   "cell_type": "code",
   "execution_count": 7,
   "id": "881340aa",
   "metadata": {},
   "outputs": [
    {
     "data": {
      "text/html": [
       "<table><thead><th style='text-align: left;'>Begin</th><th style='text-align: left;'>End</th></thead><tr><td style='text-align: left;'>2022-03-29 18:54:04</td><td style='text-align: left;'>2022-03-29 19:14:10</td></tr></table>"
      ],
      "text/plain": [
       "Swift_SAA_Entry()"
      ]
     },
     "execution_count": 7,
     "metadata": {},
     "output_type": "execute_result"
    }
   ],
   "source": [
    "saa[8]"
   ]
  },
  {
   "cell_type": "markdown",
   "id": "def78327",
   "metadata": {},
   "source": [
    "The above is a instance of the `Swift_SAA_Entry` class, which is a simple container class that contains two entries, `begin` and `end`, which give the beginning and end times of the SAA passage. "
   ]
  },
  {
   "cell_type": "code",
   "execution_count": 8,
   "id": "37e45f84",
   "metadata": {},
   "outputs": [
    {
     "name": "stdout",
     "output_type": "stream",
     "text": [
      "2022-03-29 18:54:04\n"
     ]
    }
   ],
   "source": [
    "print(saa[8].begin)"
   ]
  },
  {
   "cell_type": "code",
   "execution_count": 9,
   "id": "c96274b8",
   "metadata": {},
   "outputs": [
    {
     "name": "stdout",
     "output_type": "stream",
     "text": [
      "2022-03-29 19:14:10\n"
     ]
    }
   ],
   "source": [
    "print(saa[8].end)"
   ]
  },
  {
   "cell_type": "markdown",
   "id": "73261855",
   "metadata": {},
   "source": [
    "### A note about clock correction\n",
    "\n",
    "Note that all times in the `Swift_SAA` class are times in UTC. However, if you want to know when the SAA times will happen in either Mission Elapsed Time (seconds since 2001-01-01 as measured by Swift's onboard clock) or Swift Time (a simple conversion of MET to a UTC-like date format, without leap second or clock drift adjustments), you can perform a clock correction using the `clock_correct()` method, e.g.:"
   ]
  },
  {
   "cell_type": "code",
   "execution_count": 10,
   "id": "10f1f2aa",
   "metadata": {},
   "outputs": [
    {
     "data": {
      "text/html": [
       "<table><thead><th style='text-align: left;'>#</th><th style='text-align: left;'>Begin (UTC)</th><th style='text-align: left;'>End (UTC)</th></thead><tr><td style='text-align: left;'>0</td><td style='text-align: left;'>2022-03-29 00:07:22</td><td style='text-align: left;'>2022-03-29 00:22:12</td></tr><tr><td style='text-align: left;'>1</td><td style='text-align: left;'>2022-03-29 01:52:21</td><td style='text-align: left;'>2022-03-29 01:52:37</td></tr><tr><td style='text-align: left;'>2</td><td style='text-align: left;'>2022-03-29 01:52:50</td><td style='text-align: left;'>2022-03-29 01:57:41</td></tr><tr><td style='text-align: left;'>3</td><td style='text-align: left;'>2022-03-29 12:16:33</td><td style='text-align: left;'>2022-03-29 12:21:47</td></tr><tr><td style='text-align: left;'>4</td><td style='text-align: left;'>2022-03-29 12:21:53</td><td style='text-align: left;'>2022-03-29 12:24:11</td></tr><tr><td style='text-align: left;'>5</td><td style='text-align: left;'>2022-03-29 13:52:46</td><td style='text-align: left;'>2022-03-29 14:11:18</td></tr><tr><td style='text-align: left;'>6</td><td style='text-align: left;'>2022-03-29 15:32:10</td><td style='text-align: left;'>2022-03-29 15:53:05</td></tr><tr><td style='text-align: left;'>7</td><td style='text-align: left;'>2022-03-29 17:12:28</td><td style='text-align: left;'>2022-03-29 17:34:58</td></tr><tr><td style='text-align: left;'>8</td><td style='text-align: left;'>2022-03-29 18:54:04</td><td style='text-align: left;'>2022-03-29 19:14:10</td></tr><tr><td style='text-align: left;'>9</td><td style='text-align: left;'>2022-03-29 20:36:20</td><td style='text-align: left;'>2022-03-29 20:55:06</td></tr><tr><td style='text-align: left;'>10</td><td style='text-align: left;'>2022-03-29 22:18:10</td><td style='text-align: left;'>2022-03-29 22:34:30</td></tr></table>"
      ],
      "text/plain": [
       "Swift_SAA(username='anonymous',begin='2022-03-29 00:00:00',end='2022-03-30 00:00:00',bat='True')"
      ]
     },
     "execution_count": 10,
     "metadata": {},
     "output_type": "execute_result"
    }
   ],
   "source": [
    "saa.clock_correct()\n",
    "saa"
   ]
  },
  {
   "cell_type": "markdown",
   "id": "b7104f3c",
   "metadata": {},
   "source": [
    "As you can see now the columns are explicitly listed as being UTC. You can convert to Swift Time easily, like so:"
   ]
  },
  {
   "cell_type": "code",
   "execution_count": 11,
   "id": "6bdc84fb",
   "metadata": {},
   "outputs": [
    {
     "data": {
      "text/html": [
       "<table><thead><th style='text-align: left;'>#</th><th style='text-align: left;'>Begin (Swift)</th><th style='text-align: left;'>End (Swift)</th></thead><tr><td style='text-align: left;'>0</td><td style='text-align: left;'>2022-03-29 00:07:50.864459</td><td style='text-align: left;'>2022-03-29 00:22:40.864519</td></tr><tr><td style='text-align: left;'>1</td><td style='text-align: left;'>2022-03-29 01:52:49.864885</td><td style='text-align: left;'>2022-03-29 01:53:05.864886</td></tr><tr><td style='text-align: left;'>2</td><td style='text-align: left;'>2022-03-29 01:53:18.864887</td><td style='text-align: left;'>2022-03-29 01:58:09.864906</td></tr><tr><td style='text-align: left;'>3</td><td style='text-align: left;'>2022-03-29 12:17:01.867418</td><td style='text-align: left;'>2022-03-29 12:22:15.867439</td></tr><tr><td style='text-align: left;'>4</td><td style='text-align: left;'>2022-03-29 12:22:21.867440</td><td style='text-align: left;'>2022-03-29 12:24:39.867449</td></tr><tr><td style='text-align: left;'>5</td><td style='text-align: left;'>2022-03-29 13:53:14.867808</td><td style='text-align: left;'>2022-03-29 14:11:46.867884</td></tr><tr><td style='text-align: left;'>6</td><td style='text-align: left;'>2022-03-29 15:32:38.868212</td><td style='text-align: left;'>2022-03-29 15:53:33.868297</td></tr><tr><td style='text-align: left;'>7</td><td style='text-align: left;'>2022-03-29 17:12:56.868619</td><td style='text-align: left;'>2022-03-29 17:35:26.868710</td></tr><tr><td style='text-align: left;'>8</td><td style='text-align: left;'>2022-03-29 18:54:32.869031</td><td style='text-align: left;'>2022-03-29 19:14:38.869113</td></tr><tr><td style='text-align: left;'>9</td><td style='text-align: left;'>2022-03-29 20:36:48.869446</td><td style='text-align: left;'>2022-03-29 20:55:34.869522</td></tr><tr><td style='text-align: left;'>10</td><td style='text-align: left;'>2022-03-29 22:18:38.869860</td><td style='text-align: left;'>2022-03-29 22:34:58.869926</td></tr></table>"
      ],
      "text/plain": [
       "Swift_SAA(username='anonymous',begin='2022-03-29 00:00:00',end='2022-03-30 00:00:00',bat='True')"
      ]
     },
     "execution_count": 11,
     "metadata": {},
     "output_type": "execute_result"
    }
   ],
   "source": [
    "saa.to_swifttime()\n",
    "saa"
   ]
  },
  {
   "cell_type": "markdown",
   "id": "3c696267",
   "metadata": {},
   "source": [
    "or access the MET times of individual SAA passage times, by using the `met` attribute:"
   ]
  },
  {
   "cell_type": "code",
   "execution_count": 12,
   "id": "1c2b7b34",
   "metadata": {},
   "outputs": [
    {
     "data": {
      "text/plain": [
       "670272872.869031"
      ]
     },
     "execution_count": 12,
     "metadata": {},
     "output_type": "execute_result"
    }
   ],
   "source": [
    "saa[8].begin.met"
   ]
  }
 ],
 "metadata": {
  "kernelspec": {
   "display_name": "Python 3 (ipykernel)",
   "language": "python",
   "name": "python3"
  },
  "language_info": {
   "codemirror_mode": {
    "name": "ipython",
    "version": 3
   },
   "file_extension": ".py",
   "mimetype": "text/x-python",
   "name": "python",
   "nbconvert_exporter": "python",
   "pygments_lexer": "ipython3",
   "version": "3.9.14"
  }
 },
 "nbformat": 4,
 "nbformat_minor": 5
}
