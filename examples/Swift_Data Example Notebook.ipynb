{
 "cells": [
  {
   "cell_type": "markdown",
   "id": "0350a10f",
   "metadata": {},
   "source": [
    "# `swift_too` module\n",
    "\n",
    "## Swift_Data example - querying Swift SDC data and downloading it\n",
    "\n",
    "### API version = 1.2, `swifttools` = 2.4\n",
    "\n",
    "#### Author: Jamie A. Kennea (Penn State)"
   ]
  },
  {
   "cell_type": "code",
   "execution_count": 1,
   "id": "af1a8a11",
   "metadata": {},
   "outputs": [],
   "source": [
    "from swifttools.swift_too import Data\n",
    "from swifttools.swift_too import ObsQuery"
   ]
  },
  {
   "cell_type": "markdown",
   "id": "9a8a0072",
   "metadata": {},
   "source": [
    "### Introduction\n",
    "\n",
    "We've demonstrated that with classes such as Swift_ObsQuery we can find out what Swift has observed, but what if we want to download the data associated with an observation? Before you had to go to a web interface to download the data you wanted. More confusingly, the data usually reside in one of two places: the archive or the quicklook area. Typically recent observations exist in quicklook, and older observations are in the archive. \n",
    "\n",
    "\n",
    "### Finding an interesting observation\n",
    "\n",
    "`Swift_Data` aims to make fetching observation data automated, and somewhat abstracted, so you don't have to care about if data are from quicklook or not. Let's find a recent observation, and download it. How about the first few observations of Jan 10th, 2021? As of `swifttools` 2.3, you can shorten the names of the classes by removing the `Swift_` so we'll use just `Data` and for the next example, `ObsQuery`."
   ]
  },
  {
   "cell_type": "code",
   "execution_count": 2,
   "id": "195c63b4",
   "metadata": {
    "scrolled": false
   },
   "outputs": [
    {
     "data": {
      "text/html": [
       "<table><thead><th style='text-align: left;'>Begin Time</th><th style='text-align: left;'>End Time</th><th style='text-align: left;'>Target Name</th><th style='text-align: left;'>Observation Number</th><th style='text-align: left;'>Exposure (s)</th><th style='text-align: left;'>Slewtime (s)</th></thead><tr><td style='text-align: left;'>2022-01-09 23:52:02</td><td style='text-align: left;'>2022-01-10 00:12:58</td><td style='text-align: left;'>NGC5986</td><td style='text-align: left;'>00045907009</td><td style='text-align: left;'>1115</td><td style='text-align: left;'>141</td></tr><tr><td style='text-align: left;'>2022-01-10 00:13:02</td><td style='text-align: left;'>2022-01-10 00:20:57</td><td style='text-align: left;'>PSZ1_G357.43+30.60</td><td style='text-align: left;'>00085651001</td><td style='text-align: left;'>410</td><td style='text-align: left;'>65</td></tr><tr><td style='text-align: left;'>2022-01-10 00:21:02</td><td style='text-align: left;'>2022-01-10 00:51:01</td><td style='text-align: left;'>GRB 220101A</td><td style='text-align: left;'>01091527009</td><td style='text-align: left;'>1610</td><td style='text-align: left;'>189</td></tr><tr><td style='text-align: left;'>2022-01-10 00:51:02</td><td style='text-align: left;'>2022-01-10 01:12:01</td><td style='text-align: left;'>OGP_4313</td><td style='text-align: left;'>03103018001</td><td style='text-align: left;'>1080</td><td style='text-align: left;'>179</td></tr><tr><td style='text-align: left;'>2022-01-10 01:12:02</td><td style='text-align: left;'>2022-01-10 01:28:57</td><td style='text-align: left;'>MRK 817</td><td style='text-align: left;'>00096450022</td><td style='text-align: left;'>835</td><td style='text-align: left;'>180</td></tr><tr><td style='text-align: left;'>2022-01-10 01:29:02</td><td style='text-align: left;'>2022-01-10 01:36:01</td><td style='text-align: left;'>NGC 5398</td><td style='text-align: left;'>03110928017</td><td style='text-align: left;'>275</td><td style='text-align: left;'>144</td></tr><tr><td style='text-align: left;'>2022-01-10 01:36:02</td><td style='text-align: left;'>2022-01-10 01:57:59</td><td style='text-align: left;'>HEN 3-1103</td><td style='text-align: left;'>00083966007</td><td style='text-align: left;'>1260</td><td style='text-align: left;'>57</td></tr><tr><td style='text-align: left;'>2022-01-10 01:58:02</td><td style='text-align: left;'>2022-01-10 02:23:00</td><td style='text-align: left;'>RX J0134.2-4258</td><td style='text-align: left;'>00036528060</td><td style='text-align: left;'>1355</td><td style='text-align: left;'>143</td></tr><tr><td style='text-align: left;'>2022-01-10 02:23:02</td><td style='text-align: left;'>2022-01-10 02:44:58</td><td style='text-align: left;'>OGP_3952</td><td style='text-align: left;'>03103167003</td><td style='text-align: left;'>1185</td><td style='text-align: left;'>131</td></tr></table>"
      ],
      "text/plain": [
       "Swift_AFST(username='anonymous',begin='2022-01-10 00:00:00',end='2022-01-10 02:24:00',radius='0.19666666666666668')"
      ]
     },
     "execution_count": 2,
     "metadata": {},
     "output_type": "execute_result"
    }
   ],
   "source": [
    "oq = ObsQuery(begin=\"2022-01-10\", length=0.1)\n",
    "oq"
   ]
  },
  {
   "cell_type": "markdown",
   "id": "41d74f39",
   "metadata": {},
   "source": [
    "OK, so that observation fo NGC 5986 is interesting, so let's check it out. The important identifier for any observation is the Observation Number (or Observation ID). In the table above, this is given in SDC format, which is a importantly, a string (those leading zeros are required). So for this observation, the obsid is `00045907009`. However, we don't have to make transcription errors here, it's the first in the oq data structure, i.e..."
   ]
  },
  {
   "cell_type": "code",
   "execution_count": 3,
   "id": "103158d6",
   "metadata": {},
   "outputs": [
    {
     "data": {
      "text/html": [
       "<table><thead><th style='text-align: left;'>Begin Time</th><th style='text-align: left;'>End Time</th><th style='text-align: left;'>Target Name</th><th style='text-align: left;'>Observation Number</th><th style='text-align: left;'>Exposure (s)</th><th style='text-align: left;'>Slewtime (s)</th></thead><tr><td style='text-align: left;'>2022-01-09 23:52:02</td><td style='text-align: left;'>2022-01-10 00:12:58</td><td style='text-align: left;'>NGC5986</td><td style='text-align: left;'>00045907009</td><td style='text-align: left;'>1115</td><td style='text-align: left;'>141</td></tr></table>"
      ],
      "text/plain": [
       "Swift_AFST_Entry()"
      ]
     },
     "execution_count": 3,
     "metadata": {},
     "output_type": "execute_result"
    }
   ],
   "source": [
    "oq[0]"
   ]
  },
  {
   "cell_type": "markdown",
   "id": "d14531ef",
   "metadata": {},
   "source": [
    "### Demonstrating the `Swift_Data` class\n",
    "\n",
    "So let's demonstrate use of the Swift_Data class. As usual, it can be set up by creating the class and then setting the parameters, then submitting using the `submit` method, or you can pass the parameters as arguments to the class. We'll do the former first."
   ]
  },
  {
   "cell_type": "code",
   "execution_count": 4,
   "id": "2b87abe6",
   "metadata": {},
   "outputs": [],
   "source": [
    "data = Data()\n",
    "data.obsid = oq[0].obsid"
   ]
  },
  {
   "cell_type": "markdown",
   "id": "d220507c",
   "metadata": {
    "scrolled": false
   },
   "source": [
    "OK so this sets up that we want to fetch data associated with the obsid for NGC5986. Next we have a few options to set. Firstly, there are 5 types of data that can be downloaded. These are:\n",
    "\n",
    "- `auxil` : Auxillary data required to process Swift data, including Two Line Element (TLE) to calculated an ephemeris, and spacecraft housekeeping.\n",
    "- `log` : Log files from the SDC processing. Of interest, but usually inessential for data analysis.\n",
    "- `xrt` : Data for Swift's X-ray Telescope.\n",
    "- `bat` : Data for Swift's Burst Alert Telescope \n",
    "- `uvot` : Data for Swift's UV/Optical Telescope\n",
    "\n",
    "In order to select which data you wish to download, simply set the parameter listed above to true, so if you want XRT data, set `xrt = True`. If you just want to get everything, you can set `all = True` as a shortcut. Let's get XRT, BAT and UVOT data for this observation, forget about the logs. FYI `auxil` data come down by default, as you always need those if you're going to run processing pipeline tools like `xrtpipeline`."
   ]
  },
  {
   "cell_type": "code",
   "execution_count": 5,
   "id": "0404d87b",
   "metadata": {},
   "outputs": [],
   "source": [
    "data.xrt = True\n",
    "data.uvot = True\n",
    "data.bat = True"
   ]
  },
  {
   "cell_type": "markdown",
   "id": "5990fcb8",
   "metadata": {
    "scrolled": false
   },
   "source": [
    "So in terms of basic configuration, this is pretty much it. Next step is to query the existance of data. This is done by submitting the job. "
   ]
  },
  {
   "cell_type": "code",
   "execution_count": 6,
   "id": "6fdb070c",
   "metadata": {},
   "outputs": [
    {
     "data": {
      "text/plain": [
       "True"
      ]
     },
     "execution_count": 6,
     "metadata": {},
     "output_type": "execute_result"
    }
   ],
   "source": [
    "data.submit()"
   ]
  },
  {
   "cell_type": "markdown",
   "id": "5a286aa3",
   "metadata": {},
   "source": [
    "OK that appeared to have worked, so let's look at the files available. In a Jupyter Notebook, just type in the name of the `Swift_Data` object we created."
   ]
  },
  {
   "cell_type": "code",
   "execution_count": 7,
   "id": "d05ea1e1",
   "metadata": {},
   "outputs": [
    {
     "data": {
      "text/html": [
       "<table><thead><th style='text-align: left;'>Path</th><th style='text-align: left;'>Filename</th><th style='text-align: left;'>Description</th></thead><tr><td style='text-align: left;'>00045907009/auxil</td><td style='text-align: left;'>SWIFT_TLE_ARCHIVE.txt.22018.37267907.gz</td><td style='text-align: left;'>Auxillary   file</td></tr><tr><td style='text-align: left;'>''</td><td style='text-align: left;'>sw00045907009pat.fits.gz</td><td style='text-align: left;'>Auxillary   attitude file</td></tr><tr><td style='text-align: left;'>''</td><td style='text-align: left;'>sw00045907009pjb.par.gz</td><td style='text-align: left;'>Auxillary   file</td></tr><tr><td style='text-align: left;'>''</td><td style='text-align: left;'>sw00045907009pob.cat.gz</td><td style='text-align: left;'>Auxillary   catalog</td></tr><tr><td style='text-align: left;'>''</td><td style='text-align: left;'>sw00045907009ppr.par.gz</td><td style='text-align: left;'>Auxillary   file</td></tr><tr><td style='text-align: left;'>''</td><td style='text-align: left;'>sw00045907009s.mkf.gz</td><td style='text-align: left;'>Auxillary   file</td></tr><tr><td style='text-align: left;'>''</td><td style='text-align: left;'>sw00045907009sao.fits.gz</td><td style='text-align: left;'>Auxillary   file</td></tr><tr><td style='text-align: left;'>''</td><td style='text-align: left;'>sw00045907009sat.fits.gz</td><td style='text-align: left;'>Auxillary   attitude file</td></tr><tr><td style='text-align: left;'>''</td><td style='text-align: left;'>sw00045907009sen.hk.gz</td><td style='text-align: left;'>Auxillary   housekeeping</td></tr><tr><td style='text-align: left;'>''</td><td style='text-align: left;'>sw00045907009sti.fits.gz</td><td style='text-align: left;'>Auxillary   file</td></tr><tr><td style='text-align: left;'>''</td><td style='text-align: left;'>sw00045907009uat.fits.gz</td><td style='text-align: left;'>Auxillary   attitude file</td></tr><tr><td style='text-align: left;'>''</td><td style='text-align: left;'>sw00045907009x.mkf.gz</td><td style='text-align: left;'>Auxillary   file</td></tr><tr><td style='text-align: left;'>00045907009/xrt/event</td><td style='text-align: left;'>sw00045907009xpcw3po_cl.evt.gz</td><td style='text-align: left;'>XRT pointed cleaned PC event file</td></tr><tr><td style='text-align: left;'>''</td><td style='text-align: left;'>sw00045907009xpcw3po_uf.evt.gz</td><td style='text-align: left;'>XRT pointed unfiltered PC event file</td></tr><tr><td style='text-align: left;'>''</td><td style='text-align: left;'>sw00045907009xwtw2sl_cl.evt.gz</td><td style='text-align: left;'>XRT slew cleaned WT event file</td></tr><tr><td style='text-align: left;'>''</td><td style='text-align: left;'>sw00045907009xwtw2sl_uf.evt.gz</td><td style='text-align: left;'>XRT slew unfiltered WT event file</td></tr><tr><td style='text-align: left;'>''</td><td style='text-align: left;'>sw00045907009xwtw2sl_ufre.evt.gz</td><td style='text-align: left;'>XRT slew unfiltered WT event file</td></tr><tr><td style='text-align: left;'>''</td><td style='text-align: left;'>sw00045907009xwtw2st_cl.evt.gz</td><td style='text-align: left;'>XRT settling cleaned WT event file</td></tr><tr><td style='text-align: left;'>''</td><td style='text-align: left;'>sw00045907009xwtw2st_uf.evt.gz</td><td style='text-align: left;'>XRT settling unfiltered WT event file</td></tr><tr><td style='text-align: left;'>''</td><td style='text-align: left;'>sw00045907009xwtw2st_ufre.evt.gz</td><td style='text-align: left;'>XRT settling unfiltered WT event file</td></tr><tr><td style='text-align: left;'>00045907009/xrt/hk</td><td style='text-align: left;'>sw00045907009xbf_rw.img.gz</td><td style='text-align: left;'>XRT raw housekeeping image</td></tr><tr><td style='text-align: left;'>''</td><td style='text-align: left;'>sw00045907009xen.hk.gz</td><td style='text-align: left;'>XRT  housekeeping file</td></tr><tr><td style='text-align: left;'>''</td><td style='text-align: left;'>sw00045907009xhd.hk.gz</td><td style='text-align: left;'>XRT  housekeeping file</td></tr><tr><td style='text-align: left;'>''</td><td style='text-align: left;'>sw00045907009xtr.hk.gz</td><td style='text-align: left;'>XRT  housekeeping file</td></tr><tr><td style='text-align: left;'>00045907009/xrt/products</td><td style='text-align: left;'>sw00045907009x_skim.gif</td><td style='text-align: left;'>XRT sky  GIF preview</td></tr><tr><td style='text-align: left;'>''</td><td style='text-align: left;'>sw00045907009xpc_ex.img.gz</td><td style='text-align: left;'>XRT exposure map PC image</td></tr><tr><td style='text-align: left;'>''</td><td style='text-align: left;'>sw00045907009xpc_sk.img.gz</td><td style='text-align: left;'>XRT sky PC image</td></tr><tr><td style='text-align: left;'>00045907009/bat/hk</td><td style='text-align: left;'>sw00045907009bdecb.hk.gz</td><td style='text-align: left;'>BAT  housekeeping file</td></tr><tr><td style='text-align: left;'>''</td><td style='text-align: left;'>sw00045907009bdp.hk.gz</td><td style='text-align: left;'>BAT  housekeeping file</td></tr><tr><td style='text-align: left;'>''</td><td style='text-align: left;'>sw00045907009ben.hk.gz</td><td style='text-align: left;'>BAT  housekeeping file</td></tr><tr><td style='text-align: left;'>''</td><td style='text-align: left;'>sw00045907009bgocb.hk.gz</td><td style='text-align: left;'>BAT  housekeeping file</td></tr><tr><td style='text-align: left;'>''</td><td style='text-align: left;'>sw00045907009bhd.hk.gz</td><td style='text-align: left;'>BAT  housekeeping file</td></tr><tr><td style='text-align: left;'>00045907009/bat/masktag</td><td style='text-align: left;'>sw00045907009bmt00010003.lc.gz</td><td style='text-align: left;'>BAT  mask tagged lightcurve</td></tr><tr><td style='text-align: left;'>''</td><td style='text-align: left;'>sw00045907009bmt00010003_rw.lc.gz</td><td style='text-align: left;'>BAT raw mask tagged lightcurve</td></tr><tr><td style='text-align: left;'>''</td><td style='text-align: left;'>sw00045907009bmt00010029.lc.gz</td><td style='text-align: left;'>BAT  mask tagged lightcurve</td></tr><tr><td style='text-align: left;'>''</td><td style='text-align: left;'>sw00045907009bmt00010029_rw.lc.gz</td><td style='text-align: left;'>BAT raw mask tagged lightcurve</td></tr><tr><td style='text-align: left;'>''</td><td style='text-align: left;'>sw00045907009bmt00010051.lc.gz</td><td style='text-align: left;'>BAT  mask tagged lightcurve</td></tr><tr><td style='text-align: left;'>''</td><td style='text-align: left;'>sw00045907009bmt00010051_rw.lc.gz</td><td style='text-align: left;'>BAT raw mask tagged lightcurve</td></tr><tr><td style='text-align: left;'>00045907009/bat/rate</td><td style='text-align: left;'>sw00045907009brt1s.lc.gz</td><td style='text-align: left;'>BAT  rate lightcurve</td></tr><tr><td style='text-align: left;'>''</td><td style='text-align: left;'>sw00045907009brtmc.lc.gz</td><td style='text-align: left;'>BAT  rate lightcurve</td></tr><tr><td style='text-align: left;'>''</td><td style='text-align: left;'>sw00045907009brtms.lc.gz</td><td style='text-align: left;'>BAT  rate lightcurve</td></tr><tr><td style='text-align: left;'>''</td><td style='text-align: left;'>sw00045907009brtqd.lc.gz</td><td style='text-align: left;'>BAT  rate lightcurve</td></tr><tr><td style='text-align: left;'>00045907009/bat/survey</td><td style='text-align: left;'>sw00045907009bsvpbo2b4dg0919.dph.gz</td><td style='text-align: left;'>BAT  survey DPH</td></tr><tr><td style='text-align: left;'>''</td><td style='text-align: left;'>sw00045907009bsvpbo2b6cg0920.dph.gz</td><td style='text-align: left;'>BAT  survey DPH</td></tr><tr><td style='text-align: left;'>00045907009/uvot/hk</td><td style='text-align: left;'>sw00045907009uac.hk.gz</td><td style='text-align: left;'>UVOT  housekeeping file</td></tr><tr><td style='text-align: left;'>''</td><td style='text-align: left;'>sw00045907009uaf.hk.gz</td><td style='text-align: left;'>UVOT  housekeeping file</td></tr><tr><td style='text-align: left;'>''</td><td style='text-align: left;'>sw00045907009uct.hk.gz</td><td style='text-align: left;'>UVOT  housekeeping file</td></tr><tr><td style='text-align: left;'>''</td><td style='text-align: left;'>sw00045907009uen.hk.gz</td><td style='text-align: left;'>UVOT  housekeeping file</td></tr><tr><td style='text-align: left;'>''</td><td style='text-align: left;'>sw00045907009uer.hk.gz</td><td style='text-align: left;'>UVOT  housekeeping file</td></tr><tr><td style='text-align: left;'>''</td><td style='text-align: left;'>sw00045907009ues.hk.gz</td><td style='text-align: left;'>UVOT  housekeeping file</td></tr><tr><td style='text-align: left;'>00045907009/uvot/image</td><td style='text-align: left;'>sw00045907009uuu_ex.img.gz</td><td style='text-align: left;'>UVOT exposure map u image</td></tr><tr><td style='text-align: left;'>''</td><td style='text-align: left;'>sw00045907009uuu_rw.img.gz</td><td style='text-align: left;'>UVOT raw u image</td></tr><tr><td style='text-align: left;'>''</td><td style='text-align: left;'>sw00045907009uuu_sk.img.gz</td><td style='text-align: left;'>UVOT sky u image</td></tr><tr><td style='text-align: left;'>00045907009/uvot/products</td><td style='text-align: left;'>sw00045907009u.cat.gz</td><td style='text-align: left;'>UVOT   catalog</td></tr><tr><td style='text-align: left;'>''</td><td style='text-align: left;'>sw00045907009u_ex.img.gz</td><td style='text-align: left;'>UVOT exposure map  image</td></tr><tr><td style='text-align: left;'>''</td><td style='text-align: left;'>sw00045907009u_sk.img.gz</td><td style='text-align: left;'>UVOT sky  image</td></tr><tr><td style='text-align: left;'>''</td><td style='text-align: left;'>sw00045907009uuuskim.gif</td><td style='text-align: left;'>UVOT sky u GIF preview</td></tr></table>"
      ],
      "text/plain": [
       "Swift_Data(username='anonymous',obsid='00045907009',quicklook='False',auxil='True',bat='True',xrt='True',uvot='True')"
      ]
     },
     "execution_count": 7,
     "metadata": {},
     "output_type": "execute_result"
    }
   ],
   "source": [
    "data"
   ]
  },
  {
   "cell_type": "markdown",
   "id": "dec6f637",
   "metadata": {},
   "source": [
    "OK so what you should see above is a list of all the files, including the subdirectories they will exist in, along with basic description of each file. Importantly, at this stage, the data are not yet downloaded. Let's look in depth at one of these files."
   ]
  },
  {
   "cell_type": "code",
   "execution_count": 8,
   "id": "8a0f63a2",
   "metadata": {},
   "outputs": [
    {
     "data": {
      "text/html": [
       "<table><thead><th style='text-align: left;'>Parameter</th><th style='text-align: left;'>Value</th></thead><tr><td style='text-align: left;'>filename</td><td style='text-align: left;'>SWIFT_TLE_ARCHIVE.txt.22018.37267907.gz</td></tr><tr><td style='text-align: left;'>path</td><td style='text-align: left;'>00045907009/auxil</td></tr><tr><td style='text-align: left;'>url</td><td style='text-align: left;'>https://heasarc.gsfc.nasa.gov/FTP/swift/data/obs/2022_01/00045907009/a<br>uxil/SWIFT_TLE_ARCHIVE.txt.22018.37267907.gz</td></tr><tr><td style='text-align: left;'>quicklook</td><td style='text-align: left;'>False</td></tr><tr><td style='text-align: left;'>type</td><td style='text-align: left;'>Auxillary   file</td></tr></table>"
      ],
      "text/plain": [
       "Swift_Data_File(filename='SWIFT_TLE_ARCHIVE.txt.22018.37267907.gz',path='00045907009/auxil',url='https://heasarc.gsfc.nasa.gov/FTP/swift/data/obs/2022_01/00045907009/auxil/SWIFT_TLE_ARCHIVE.txt.22018.37267907.gz',quicklook='False',type='Auxillary   file')"
      ]
     },
     "execution_count": 8,
     "metadata": {},
     "output_type": "execute_result"
    }
   ],
   "source": [
    "data[0]"
   ]
  },
  {
   "cell_type": "markdown",
   "id": "f38e5073",
   "metadata": {},
   "source": [
    "OK so a few things here. Firstly, from the `url` you can see where the data reside online. As this is a nasa.gov address, this is the US data center. If you wanted to retrieve from the UK data center, simply pass the parameter `uksdc = True`. Similarly if you wish to use the Italian SDC, use `itsdc = True`.\n",
    "\n",
    "\n",
    "Secondly, this is quicklook data. By default `Swift_Data` looks in the archive first, but if the data is recent, it will look in quicklook. Note that quicklook data are by their nature preliminary, and can evolve with time. For US and Italian SDC you'll see that the URL has a version number ('009') included, this number increments when the data are changed. For UK SDC, this does not happen, however, you can just redownload data to get the most up-to-date value. \n",
    "\n",
    "For published papers, we recommend using data from the archive if available.\n",
    "\n",
    "### Downloading the data\n",
    "\n",
    "Final step is to download the data to disk, so we can process the data using our HEAsoft tools. This is perfomed utilizing the `download()` method. If we want to specify the directory to download, simply use the `outdir` parameter, either as a class parameter, or an argument to download. Let's put in in our computer's Downloads directory."
   ]
  },
  {
   "cell_type": "code",
   "execution_count": 9,
   "id": "2bc34ec0",
   "metadata": {},
   "outputs": [
    {
     "name": "stdout",
     "output_type": "stream",
     "text": [
      "Downloading 57 files...\n"
     ]
    },
    {
     "data": {
      "text/plain": [
       "True"
      ]
     },
     "execution_count": 9,
     "metadata": {},
     "output_type": "execute_result"
    }
   ],
   "source": [
    "data.download(outdir=\"~/Downloads\")"
   ]
  },
  {
   "cell_type": "markdown",
   "id": "8361bde3",
   "metadata": {},
   "source": [
    "If you have `tqdm` installed, you should have seen a progress bar showing how many files were downloaded. If not, then you'll just see a simple text message. Now the data should be in the Downloads directory, in a directory named after the `obsid` of the data we requested. Note that the files inside are gzipped by default, but do not need to be decompressed to be used with the HEAsoft tools, so you can save some disk space!\n",
    "\n",
    "### Download data in one line\n",
    "\n",
    "Last thing we'll demonstrate is downloading data in one line of code. This is very simple, just pass the arguments when you intiate the class, and it will download the data itself. If you want to do this, and not download the data automatically, pass the argument `fetch=False`. We'll fetch the 3rd observation above, but just the XRT data:"
   ]
  },
  {
   "cell_type": "code",
   "execution_count": 10,
   "id": "1f3baf2f",
   "metadata": {},
   "outputs": [
    {
     "name": "stdout",
     "output_type": "stream",
     "text": [
      "ERROR: Directory /Users/myuser/Downloads/01091527009 exists (set clobber=True to override this).\n"
     ]
    }
   ],
   "source": [
    "newdata = Data(obsid=oq[2].obsid, xrt=True, outdir=\"~/Downloads\")"
   ]
  },
  {
   "cell_type": "markdown",
   "id": "2a8edfa2",
   "metadata": {},
   "source": [
    "That should have downloaded the `auxil` and `xrt` data for that observation in into your Downloads directory. Let's look at the file structure."
   ]
  },
  {
   "cell_type": "code",
   "execution_count": 11,
   "id": "6297a135",
   "metadata": {},
   "outputs": [
    {
     "data": {
      "text/html": [
       "<table><thead><th style='text-align: left;'>Path</th><th style='text-align: left;'>Filename</th><th style='text-align: left;'>Description</th></thead><tr><td style='text-align: left;'>01091527009/auxil</td><td style='text-align: left;'>SWIFT_TLE_ARCHIVE.txt.22020.02942007.gz</td><td style='text-align: left;'>Auxillary   file</td></tr><tr><td style='text-align: left;'>''</td><td style='text-align: left;'>sw01091527009pat.fits.gz</td><td style='text-align: left;'>Auxillary   attitude file</td></tr><tr><td style='text-align: left;'>''</td><td style='text-align: left;'>sw01091527009pjb.par.gz</td><td style='text-align: left;'>Auxillary   file</td></tr><tr><td style='text-align: left;'>''</td><td style='text-align: left;'>sw01091527009pob.cat.gz</td><td style='text-align: left;'>Auxillary   catalog</td></tr><tr><td style='text-align: left;'>''</td><td style='text-align: left;'>sw01091527009ppr.par.gz</td><td style='text-align: left;'>Auxillary   file</td></tr><tr><td style='text-align: left;'>''</td><td style='text-align: left;'>sw01091527009s.mkf.gz</td><td style='text-align: left;'>Auxillary   file</td></tr><tr><td style='text-align: left;'>''</td><td style='text-align: left;'>sw01091527009sao.fits.gz</td><td style='text-align: left;'>Auxillary   file</td></tr><tr><td style='text-align: left;'>''</td><td style='text-align: left;'>sw01091527009sat.fits.gz</td><td style='text-align: left;'>Auxillary   attitude file</td></tr><tr><td style='text-align: left;'>''</td><td style='text-align: left;'>sw01091527009sen.hk.gz</td><td style='text-align: left;'>Auxillary   housekeeping</td></tr><tr><td style='text-align: left;'>''</td><td style='text-align: left;'>sw01091527009sti.fits.gz</td><td style='text-align: left;'>Auxillary   file</td></tr><tr><td style='text-align: left;'>''</td><td style='text-align: left;'>sw01091527009uat.fits.gz</td><td style='text-align: left;'>Auxillary   attitude file</td></tr><tr><td style='text-align: left;'>''</td><td style='text-align: left;'>sw01091527009x.mkf.gz</td><td style='text-align: left;'>Auxillary   file</td></tr><tr><td style='text-align: left;'>01091527009/xrt/event</td><td style='text-align: left;'>sw01091527009xpcw3po_cl.evt.gz</td><td style='text-align: left;'>XRT pointed cleaned PC event file</td></tr><tr><td style='text-align: left;'>''</td><td style='text-align: left;'>sw01091527009xpcw3po_uf.evt.gz</td><td style='text-align: left;'>XRT pointed unfiltered PC event file</td></tr><tr><td style='text-align: left;'>''</td><td style='text-align: left;'>sw01091527009xwtw2sl_cl.evt.gz</td><td style='text-align: left;'>XRT slew cleaned WT event file</td></tr><tr><td style='text-align: left;'>''</td><td style='text-align: left;'>sw01091527009xwtw2sl_uf.evt.gz</td><td style='text-align: left;'>XRT slew unfiltered WT event file</td></tr><tr><td style='text-align: left;'>''</td><td style='text-align: left;'>sw01091527009xwtw2sl_ufre.evt.gz</td><td style='text-align: left;'>XRT slew unfiltered WT event file</td></tr><tr><td style='text-align: left;'>''</td><td style='text-align: left;'>sw01091527009xwtw2st_cl.evt.gz</td><td style='text-align: left;'>XRT settling cleaned WT event file</td></tr><tr><td style='text-align: left;'>''</td><td style='text-align: left;'>sw01091527009xwtw2st_uf.evt.gz</td><td style='text-align: left;'>XRT settling unfiltered WT event file</td></tr><tr><td style='text-align: left;'>''</td><td style='text-align: left;'>sw01091527009xwtw2st_ufre.evt.gz</td><td style='text-align: left;'>XRT settling unfiltered WT event file</td></tr><tr><td style='text-align: left;'>01091527009/xrt/hk</td><td style='text-align: left;'>sw01091527009xbf_rw.img.gz</td><td style='text-align: left;'>XRT raw housekeeping image</td></tr><tr><td style='text-align: left;'>''</td><td style='text-align: left;'>sw01091527009xen.hk.gz</td><td style='text-align: left;'>XRT  housekeeping file</td></tr><tr><td style='text-align: left;'>''</td><td style='text-align: left;'>sw01091527009xhd.hk.gz</td><td style='text-align: left;'>XRT  housekeeping file</td></tr><tr><td style='text-align: left;'>''</td><td style='text-align: left;'>sw01091527009xtr.hk.gz</td><td style='text-align: left;'>XRT  housekeeping file</td></tr><tr><td style='text-align: left;'>01091527009/xrt/products</td><td style='text-align: left;'>sw01091527009x_skim.gif</td><td style='text-align: left;'>XRT sky  GIF preview</td></tr><tr><td style='text-align: left;'>''</td><td style='text-align: left;'>sw01091527009xpc_ex.img.gz</td><td style='text-align: left;'>XRT exposure map PC image</td></tr><tr><td style='text-align: left;'>''</td><td style='text-align: left;'>sw01091527009xpc_sk.img.gz</td><td style='text-align: left;'>XRT sky PC image</td></tr></table>"
      ],
      "text/plain": [
       "Swift_Data(username='anonymous',obsid='01091527009',quicklook='False',auxil='True',xrt='True')"
      ]
     },
     "execution_count": 11,
     "metadata": {},
     "output_type": "execute_result"
    }
   ],
   "source": [
    "newdata"
   ]
  },
  {
   "cell_type": "markdown",
   "id": "caa9b0aa",
   "metadata": {},
   "source": [
    "### Updating data, fetching additional instruments\n",
    "\n",
    "OK, so what if you want to update directory, say the data has been updated. Well we would recommend that you delete the old data, and redownload, and to encourage this, if you try to download again, you'll get an error:"
   ]
  },
  {
   "cell_type": "code",
   "execution_count": 12,
   "id": "324e0a71",
   "metadata": {},
   "outputs": [
    {
     "name": "stdout",
     "output_type": "stream",
     "text": [
      "ERROR: Directory /Users/myuser/Downloads/01091527009 exists (set clobber=True to override this).\n"
     ]
    }
   ],
   "source": [
    "newdata = Data(obsid=oq[2].obsid, xrt=True, outdir=\"~/Downloads\")"
   ]
  },
  {
   "cell_type": "markdown",
   "id": "10b861bd",
   "metadata": {},
   "source": [
    "However, we can overwrite the existing data, by (as the error message suggests), setting `clobber = True`."
   ]
  },
  {
   "cell_type": "code",
   "execution_count": 13,
   "id": "b0a56a93",
   "metadata": {},
   "outputs": [
    {
     "name": "stdout",
     "output_type": "stream",
     "text": [
      "Downloading 27 files...\n"
     ]
    },
    {
     "data": {
      "text/plain": [
       "True"
      ]
     },
     "execution_count": 13,
     "metadata": {},
     "output_type": "execute_result"
    }
   ],
   "source": [
    "newdata.clobber = True\n",
    "newdata.download()"
   ]
  },
  {
   "cell_type": "markdown",
   "id": "6c2ef11c",
   "metadata": {},
   "source": [
    "Use of `clobber` can be useful also if you decide to you really wanted that UVOT data to go along with your XRT data on that observation. Remember `auxil` is fetched by default, so as we already have it, we'll turn it off. This isn't necessary, but if you don't turn it off the data will be redownloaded and overwrite the old data, which wastes bandwidth."
   ]
  },
  {
   "cell_type": "code",
   "execution_count": 14,
   "id": "76684870",
   "metadata": {},
   "outputs": [
    {
     "name": "stdout",
     "output_type": "stream",
     "text": [
      "Downloading 17 files...\n"
     ]
    }
   ],
   "source": [
    "newdata = Data(\n",
    "    obsid=oq[2].obsid, uvot=True, auxil=False, outdir=\"~/Downloads\", clobber=True\n",
    ")"
   ]
  },
  {
   "cell_type": "markdown",
   "id": "925813a4",
   "metadata": {},
   "source": [
    "So the above listing will show the UVOT data files that you just downloaded to add to your XRT and Auxillary data. \n",
    "\n",
    "That's pretty much all there is to it! Enjoy your data. "
   ]
  }
 ],
 "metadata": {
  "kernelspec": {
   "display_name": "Python 3 (ipykernel)",
   "language": "python",
   "name": "python3"
  },
  "language_info": {
   "codemirror_mode": {
    "name": "ipython",
    "version": 3
   },
   "file_extension": ".py",
   "mimetype": "text/x-python",
   "name": "python",
   "nbconvert_exporter": "python",
   "pygments_lexer": "ipython3",
   "version": "3.9.11"
  }
 },
 "nbformat": 4,
 "nbformat_minor": 5
}
