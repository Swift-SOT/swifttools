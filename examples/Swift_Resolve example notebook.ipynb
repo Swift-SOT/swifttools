{
 "cells": [
  {
   "cell_type": "markdown",
   "id": "e6ae2f15",
   "metadata": {},
   "source": [
    "# `swift_too` module\n",
    "\n",
    "## Swift Resolve example - conversion of name of object into coordinates\n",
    "\n",
    "### API version = 1.2 `swiftools` = 3.0.8\n",
    "\n",
    "#### Author: Jamie A. Kennea (Penn State)"
   ]
  },
  {
   "cell_type": "code",
   "execution_count": 1,
   "id": "1c75dc34",
   "metadata": {},
   "outputs": [],
   "source": [
    "from swifttools.swift_too import Swift_Resolve, Resolve, ObsQuery, VisQuery, TOO"
   ]
  },
  {
   "cell_type": "markdown",
   "id": "c9190304",
   "metadata": {},
   "source": [
    "### Name Resolution\n",
    "\n",
    "\"Name resolution\" is the process of looking up a target by name to find out it's coordinates. the Swift TOO API provides (as of `swifttools 2.3`) a method for performing this task called `Swift_Resolve`, although for most cases you won't actually need to call this class by itself. `Swift_Resolve` essentially queries online name resolvers for a given name. We can demonstrate the usage as follows:"
   ]
  },
  {
   "cell_type": "code",
   "execution_count": 2,
   "id": "7682fdbd",
   "metadata": {},
   "outputs": [
    {
     "data": {
      "text/html": [
       "<table><thead><th style='text-align: left;'>Name</th><th style='text-align: left;'>RA (J2000)</th><th style='text-align: left;'>Dec (J2000)</th><th style='text-align: left;'>Resolver</th></thead><tr><td style='text-align: left;'>LMC X-3</td><td style='text-align: left;'>84.73597</td><td style='text-align: left;'>-64.08426</td><td style='text-align: left;'>Simbad</td></tr></table>"
      ],
      "text/plain": [
       "Swift_Resolve(username='anonymous',name='LMC X-3')"
      ]
     },
     "execution_count": 2,
     "metadata": {},
     "output_type": "execute_result"
    }
   ],
   "source": [
    "Swift_Resolve(name=\"LMC X-3\")"
   ]
  },
  {
   "cell_type": "markdown",
   "id": "afc17d47",
   "metadata": {},
   "source": [
    "So here we see that the RA / Dec value has been returned for RA/Dec based on the Simbad database (http://simbad.u-strasbg.fr/simbad/). We can also query more recent transients by querying transient brokers for coordinates such as TNS (https://www.wis-tns.org) and MARS (https://mars.lco.global). The choice of name resolver is automatic, so for example:"
   ]
  },
  {
   "cell_type": "code",
   "execution_count": 3,
   "id": "96125e09",
   "metadata": {},
   "outputs": [
    {
     "data": {
      "text/html": [
       "<table><thead><th style='text-align: left;'>Name</th><th style='text-align: left;'>RA (J2000)</th><th style='text-align: left;'>Dec (J2000)</th><th style='text-align: left;'>Resolver</th></thead><tr><td style='text-align: left;'>AT2018cow</td><td style='text-align: left;'>244.00092</td><td style='text-align: left;'>22.26803</td><td style='text-align: left;'>TNS</td></tr></table>"
      ],
      "text/plain": [
       "Swift_Resolve(username='anonymous',name='AT2018cow')"
      ]
     },
     "execution_count": 3,
     "metadata": {},
     "output_type": "execute_result"
    }
   ],
   "source": [
    "Resolve(name=\"AT2018cow\")"
   ]
  },
  {
   "cell_type": "markdown",
   "id": "619d3057",
   "metadata": {},
   "source": [
    "Firstly, for `swifttools 2.3` we have introduced shorthand names for these classes, no longer do you need to include the `Swift_` prefix, so just `Resolve` works.\n",
    "\n",
    "You can see that for \"The Cow\" the name has been resolved using TNS. This is because it recognizes that names starting with AT originate with TNS. This is useful for recent transients as Simbad often will not include them until results have been published. E.g. "
   ]
  },
  {
   "cell_type": "code",
   "execution_count": 4,
   "id": "2e416b4c",
   "metadata": {},
   "outputs": [
    {
     "data": {
      "text/html": [
       "<table><thead><th style='text-align: left;'>Name</th><th style='text-align: left;'>RA (J2000)</th><th style='text-align: left;'>Dec (J2000)</th><th style='text-align: left;'>Resolver</th></thead><tr><td style='text-align: left;'>AT2022aaa</td><td style='text-align: left;'>265.88051</td><td style='text-align: left;'>36.31897</td><td style='text-align: left;'>TNS</td></tr></table>"
      ],
      "text/plain": [
       "Swift_Resolve(username='anonymous',name='AT2022aaa')"
      ]
     },
     "execution_count": 4,
     "metadata": {},
     "output_type": "execute_result"
    }
   ],
   "source": [
    "Resolve(name=\"AT2022aaa\")"
   ]
  },
  {
   "cell_type": "markdown",
   "id": "6e3d3f81",
   "metadata": {},
   "source": [
    "For ZTF sources, MARS, which is a broker for ZTF transients, is used."
   ]
  },
  {
   "cell_type": "code",
   "execution_count": 5,
   "id": "5c3c6120",
   "metadata": {},
   "outputs": [
    {
     "data": {
      "text/html": [
       "<table><thead><th style='text-align: left;'>Name</th><th style='text-align: left;'>RA (J2000)</th><th style='text-align: left;'>Dec (J2000)</th><th style='text-align: left;'>Resolver</th></thead><tr><td style='text-align: left;'>ZTF20aasoapr</td><td style='text-align: left;'>172.94754</td><td style='text-align: left;'>-25.72712</td><td style='text-align: left;'>MARS</td></tr></table>"
      ],
      "text/plain": [
       "Swift_Resolve(username='anonymous',name='ZTF20aasoapr')"
      ]
     },
     "execution_count": 5,
     "metadata": {},
     "output_type": "execute_result"
    }
   ],
   "source": [
    "res = Resolve(name=\"ZTF20aasoapr\")\n",
    "res"
   ]
  },
  {
   "cell_type": "markdown",
   "id": "c0aa4462",
   "metadata": {},
   "source": [
    "We can as well as `ra` and `dec` attributes, use the `skycoord` attribute to return a astropy SkyCoord for the location. Note this will only work if you have `astropy` installed, and if you don't the next line will cause an error."
   ]
  },
  {
   "cell_type": "code",
   "execution_count": 6,
   "id": "9b971cc9",
   "metadata": {},
   "outputs": [
    {
     "data": {
      "text/plain": [
       "<SkyCoord (FK5: equinox=J2000.000): (ra, dec) in deg\n",
       "    (172.9475431, -25.727119)>"
      ]
     },
     "execution_count": 6,
     "metadata": {},
     "output_type": "execute_result"
    }
   ],
   "source": [
    "res.skycoord"
   ]
  },
  {
   "cell_type": "markdown",
   "id": "2ec55653",
   "metadata": {},
   "source": [
    "This is of course useful if you want to do things like convert to different formats, e.g."
   ]
  },
  {
   "cell_type": "code",
   "execution_count": 7,
   "id": "59a7aacf",
   "metadata": {},
   "outputs": [
    {
     "data": {
      "text/plain": [
       "<SkyCoord (Galactic): (l, b) in deg\n",
       "    (281.27179256, 33.77254096)>"
      ]
     },
     "execution_count": 7,
     "metadata": {},
     "output_type": "execute_result"
    }
   ],
   "source": [
    "res.skycoord.galactic"
   ]
  },
  {
   "cell_type": "markdown",
   "id": "ad0f729b",
   "metadata": {},
   "source": [
    "### Using Swift_Resolve in API queries\n",
    "\n",
    "Note that in order to use the RA/Dec of a source in API queries, we can simply pass the `ra`, `dec` or `skycoord` to the API query, for example:"
   ]
  },
  {
   "cell_type": "code",
   "execution_count": 8,
   "id": "aec699a3",
   "metadata": {},
   "outputs": [
    {
     "data": {
      "text/html": [
       "No data"
      ],
      "text/plain": [
       "Swift_VisQuery(username='anonymous',ra='172.9475431',dec='-25.727119',length='7.0',begin='2022-09-23 10:22:00')"
      ]
     },
     "execution_count": 8,
     "metadata": {},
     "output_type": "execute_result"
    }
   ],
   "source": [
    "VisQuery(ra=res.ra, dec=res.dec, length=7)"
   ]
  },
  {
   "cell_type": "code",
   "execution_count": 9,
   "id": "a538baa0",
   "metadata": {},
   "outputs": [
    {
     "data": {
      "text/html": [
       "No data"
      ],
      "text/plain": [
       "Swift_VisQuery(username='anonymous',ra='172.9475431',dec='-25.727119',length='7.0',begin='2022-09-23 10:22:00')"
      ]
     },
     "execution_count": 9,
     "metadata": {},
     "output_type": "execute_result"
    }
   ],
   "source": [
    "VisQuery(skycoord=res.skycoord, length=7)"
   ]
  },
  {
   "cell_type": "markdown",
   "id": "907d8edb",
   "metadata": {},
   "source": [
    "### Using Swift_Resolve automatically\n",
    "\n",
    "However, for most cases you will not want to have to generate a stand alone `Swift_Resolve` instance, as for API calls as of `swifttools 2.3` you can simply pass the `name` parameter, and it will automatically look up the RA/Dec. Here is an example using `Swift_ObsQuery`:"
   ]
  },
  {
   "cell_type": "code",
   "execution_count": 10,
   "id": "fb07ee84",
   "metadata": {},
   "outputs": [
    {
     "data": {
      "text/html": [
       "<table><thead><th style='text-align: left;'>Begin Time</th><th style='text-align: left;'>End Time</th><th style='text-align: left;'>Target Name</th><th style='text-align: left;'>Observation Number</th><th style='text-align: left;'>Exposure (s)</th><th style='text-align: left;'>Slewtime (s)</th></thead><tr><td style='text-align: left;'>2018-07-29 20:50:02</td><td style='text-align: left;'>2018-07-29 21:07:57</td><td style='text-align: left;'>AT 2018ahz</td><td style='text-align: left;'>00010770001</td><td style='text-align: left;'>995</td><td style='text-align: left;'>80</td></tr><tr><td style='text-align: left;'>2018-07-29 22:25:02</td><td style='text-align: left;'>2018-07-29 22:42:58</td><td style='text-align: left;'>AT 2018ahz</td><td style='text-align: left;'>00010770001</td><td style='text-align: left;'>900</td><td style='text-align: left;'>176</td></tr></table>"
      ],
      "text/plain": [
       "Swift_AFST(username='anonymous',ra='215.959340833',dec='-9.38821416667',radius='0.19666666666666668')"
      ]
     },
     "execution_count": 10,
     "metadata": {},
     "output_type": "execute_result"
    }
   ],
   "source": [
    "obs = ObsQuery(name=\"AT2018ahz\")\n",
    "obs"
   ]
  },
  {
   "cell_type": "markdown",
   "id": "f1ee7572",
   "metadata": {},
   "source": [
    "In this case, the `Swift_Resolve` call was generated automatically, and the results passed into the `Swift_ObsQuery` class. You can get the results of that call by looking at the `resolve` attribute:"
   ]
  },
  {
   "cell_type": "code",
   "execution_count": 11,
   "id": "daf60df2",
   "metadata": {},
   "outputs": [
    {
     "data": {
      "text/html": [
       "<table><thead><th style='text-align: left;'>Name</th><th style='text-align: left;'>RA (J2000)</th><th style='text-align: left;'>Dec (J2000)</th><th style='text-align: left;'>Resolver</th></thead><tr><td style='text-align: left;'>AT2018ahz</td><td style='text-align: left;'>215.95934</td><td style='text-align: left;'>-9.38821</td><td style='text-align: left;'>TNS</td></tr></table>"
      ],
      "text/plain": [
       "Swift_Resolve(username='anonymous',name='AT2018ahz')"
      ]
     },
     "execution_count": 11,
     "metadata": {},
     "output_type": "execute_result"
    }
   ],
   "source": [
    "obs.resolve"
   ]
  },
  {
   "cell_type": "code",
   "execution_count": 12,
   "id": "14358050",
   "metadata": {},
   "outputs": [
    {
     "data": {
      "text/plain": [
       "<SkyCoord (FK5: equinox=J2000.000): (ra, dec) in deg\n",
       "    (215.95934083, -9.38821417)>"
      ]
     },
     "execution_count": 12,
     "metadata": {},
     "output_type": "execute_result"
    }
   ],
   "source": [
    "obs.skycoord"
   ]
  },
  {
   "cell_type": "markdown",
   "id": "731b5594",
   "metadata": {},
   "source": [
    "### Use in `Swift_TOO` \n",
    "\n",
    "Update for `swifttools 3.0.8`, `Swift_TOO` AKA `TOO` will now auto-resolve any name given to `source_name`, so all you have to do now is give the name of your source, and it will automatically fill the coordinates in. Please of course, remember to double check your coordinates!"
   ]
  },
  {
   "cell_type": "code",
   "execution_count": 13,
   "id": "46722a70",
   "metadata": {},
   "outputs": [
    {
     "name": "stdout",
     "output_type": "stream",
     "text": [
      "RA/Dec(J2000) = 05h34m31.9474s +22d00m52.153s\n"
     ]
    }
   ],
   "source": [
    "too = TOO(source_name='Crab')\n",
    "print(f\"RA/Dec(J2000) = {too.skycoord.to_string(style='hmsdms')}\")"
   ]
  },
  {
   "cell_type": "markdown",
   "id": "3623da95",
   "metadata": {},
   "source": [
    "Or course, you can still set the values of RA/Dec manually."
   ]
  },
  {
   "cell_type": "code",
   "execution_count": 14,
   "id": "164a0ff4",
   "metadata": {},
   "outputs": [
    {
     "name": "stdout",
     "output_type": "stream",
     "text": [
      "RA/Dec(J2000) = 05h34m31.944s +22d00m52.2s\n"
     ]
    }
   ],
   "source": [
    "too.ra = 83.6331\n",
    "too.dec = 22.0145\n",
    "print(f\"RA/Dec(J2000) = {too.skycoord.to_string(style='hmsdms')}\")"
   ]
  }
 ],
 "metadata": {
  "kernelspec": {
   "display_name": "Python 3 (ipykernel)",
   "language": "python",
   "name": "python3"
  },
  "language_info": {
   "codemirror_mode": {
    "name": "ipython",
    "version": 3
   },
   "file_extension": ".py",
   "mimetype": "text/x-python",
   "name": "python",
   "nbconvert_exporter": "python",
   "pygments_lexer": "ipython3",
   "version": "3.9.14"
  }
 },
 "nbformat": 4,
 "nbformat_minor": 5
}
