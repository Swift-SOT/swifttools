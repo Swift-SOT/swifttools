{
 "cells": [
  {
   "cell_type": "markdown",
   "metadata": {},
   "source": [
    "# `swift_too` module\n",
    "\n",
    "## Swift_VisQuery Example - Querying the visibility for a given target\n",
    "\n",
    "### API version = 1.2, `swifttools` version = 2.2\n",
    "\n",
    "#### Author: Jamie A. Kennea (Penn State)\n",
    "\n",
    "### Introduction \n",
    "\n",
    "This example shows how we can use the `swift_too` module to give us predicted long term visibility for targets. Note that long term visibility calculates if a target can be observed on Swift based on Sun, Moon and Pole constraints. It does not calculate the visibility due to Earth occultations. \n",
    "\n",
    "Visibility is based on the most up to date TLE derived prediction of the spacecraft location into the future. Although this will not affect Sun and Moon constraints, Pole constraint accuracy may get worse the further into the future we look.\n",
    "\n",
    "### Setting up the Query\n",
    "\n",
    "First step, import the `Swift_VisQuery` class from TOO API, and whatever supporting Python modules we might need along the way."
   ]
  },
  {
   "cell_type": "code",
   "execution_count": 1,
   "metadata": {},
   "outputs": [],
   "source": [
    "from swifttools.swift_too import Swift_VisQuery\n",
    "from datetime import datetime,timedelta\n",
    "from time import sleep"
   ]
  },
  {
   "cell_type": "markdown",
   "metadata": {},
   "source": [
    "Next we'll set up our username and shared_secret. No need to do this in variables, but we'll use them more than once, so it's easier this way."
   ]
  },
  {
   "cell_type": "code",
   "execution_count": 2,
   "metadata": {},
   "outputs": [],
   "source": [
    "username = \"myuser\"\n",
    "shared_secret = \"mysharedsecret\""
   ]
  },
  {
   "cell_type": "markdown",
   "metadata": {},
   "source": [
    "However, if you don't have a user or just don't want to use it, you can submit this request anonymously. In this case you just give the username and shared secret as \"anonymous\""
   ]
  },
  {
   "cell_type": "code",
   "execution_count": 3,
   "metadata": {},
   "outputs": [],
   "source": [
    "username = 'anonymous'\n",
    "shared_secret = 'anonymous'"
   ]
  },
  {
   "cell_type": "markdown",
   "metadata": {},
   "source": [
    "However, as of `swifttools 2.2` username and shared_secret default to anonymous, so you do not have to give them any more. I'll just comment them out below so you can see how you would pass them if you wanted to."
   ]
  },
  {
   "cell_type": "code",
   "execution_count": 4,
   "metadata": {},
   "outputs": [],
   "source": [
    "query = Swift_VisQuery()\n",
    "#query.username = username\n",
    "#query.shared_secret = shared_secret"
   ]
  },
  {
   "cell_type": "markdown",
   "metadata": {},
   "source": [
    "### Coordinate formats\n",
    "\n",
    "We set up the parameters for the query, the minimum required parameters are RA/Dec coordinates, and the number of days to calculate the visibility over in days. RA/Dec are given in decimal degrees in J2000."
   ]
  },
  {
   "cell_type": "code",
   "execution_count": 5,
   "metadata": {},
   "outputs": [],
   "source": [
    "query.ra, query.dec = 113.771875, -69.131472"
   ]
  },
  {
   "cell_type": "markdown",
   "metadata": {},
   "source": [
    "Or for convenience we can use Astropy SkyCoord object to submit the coordinates in any format you like. They will just be converted into J2000 / FK5 RA/Dec upon submission. The following example shows how to submit a request based on Galactic Coordinates, in our case, the Galactic Center (lII/bII = 0,0)."
   ]
  },
  {
   "cell_type": "code",
   "execution_count": 6,
   "metadata": {},
   "outputs": [],
   "source": [
    "from astropy.coordinates import SkyCoord\n",
    "query.skycoord = SkyCoord('0.0', '0.0', frame='galactic', unit='deg')"
   ]
  },
  {
   "cell_type": "markdown",
   "metadata": {},
   "source": [
    "If we print out RA / Dec now, we'll see it reflects the SkyCoord in the previous line."
   ]
  },
  {
   "cell_type": "code",
   "execution_count": 7,
   "metadata": {},
   "outputs": [
    {
     "name": "stdout",
     "output_type": "stream",
     "text": [
      "SkyCoord should be the equivalent of RA/Dec(J2000) = 266.4050, -28.9362\n"
     ]
    }
   ],
   "source": [
    "print(f\"SkyCoord should be the equivalent of RA/Dec(J2000) = {query.ra:.4f}, {query.dec:.4f}\")"
   ]
  },
  {
   "cell_type": "markdown",
   "metadata": {},
   "source": [
    "Note if you modify the RA/Dec values after setting a skycoord, the skycoord variable is altered to match the new coordinates. Note that the frame will default to FK5. If `astropy` is installed, `swifttools 2.2` will allow you to access skycoord version of RA/Dec using the `skycoord` attribute."
   ]
  },
  {
   "cell_type": "code",
   "execution_count": 8,
   "metadata": {},
   "outputs": [
    {
     "name": "stdout",
     "output_type": "stream",
     "text": [
      "<SkyCoord (FK5: equinox=J2000.000): (ra, dec) in deg\n",
      "    (113.7718769, -69.1314721)>\n"
     ]
    }
   ],
   "source": [
    "query.ra = 113.7718769\n",
    "query.dec = -69.1314721\n",
    "print(query.skycoord)"
   ]
  },
  {
   "cell_type": "markdown",
   "metadata": {},
   "source": [
    "### Visibility Period\n",
    "\n",
    "Final parameter, we set the length of time we wish to calculate the visibility for. Note we haven't set a start time, it will default to now."
   ]
  },
  {
   "cell_type": "code",
   "execution_count": 9,
   "metadata": {},
   "outputs": [],
   "source": [
    "query.length = 7 # days"
   ]
  },
  {
   "cell_type": "markdown",
   "metadata": {},
   "source": [
    "### Submitting the Query for processing\n",
    "\n",
    "Now we submit the request to the Swift TOO API server."
   ]
  },
  {
   "cell_type": "code",
   "execution_count": 10,
   "metadata": {},
   "outputs": [
    {
     "name": "stdout",
     "output_type": "stream",
     "text": [
      "Waiting for job #112383 to be processed ...\n",
      "Done. Job #112383 complete\n"
     ]
    }
   ],
   "source": [
    "if query.queue():\n",
    "    while(not query.complete):\n",
    "        print(f\"Waiting for job #{query.status.jobnumber} to be processed ...\")\n",
    "        sleep(2)\n",
    "    print(f\"Done. Job #{query.status.jobnumber} complete\")\n",
    "else:\n",
    "    print(f\"Request rejected. Error: {query.status.errors}\")"
   ]
  },
  {
   "cell_type": "code",
   "execution_count": 11,
   "metadata": {},
   "outputs": [
    {
     "name": "stdout",
     "output_type": "stream",
     "text": [
      "Success!\n"
     ]
    }
   ],
   "source": [
    "if query.submit():\n",
    "    print(\"Success!\")\n",
    "else:\n",
    "    print(\"Failure\")"
   ]
  },
  {
   "cell_type": "markdown",
   "metadata": {},
   "source": [
    "### Examining the returned results\n",
    "\n",
    "Assuming success let's see what we get from the TOO API server in response to this request. We'll do this by typing in the name of the query object, which in a Jupyter Notebook will display the results as a table."
   ]
  },
  {
   "cell_type": "code",
   "execution_count": 16,
   "metadata": {},
   "outputs": [
    {
     "data": {
      "text/plain": [
       "{'username': 'anonymous',\n",
       " 'ra': 113.7718769,\n",
       " 'dec': -69.1314721,\n",
       " 'begin': '2021-12-15 21:57:01.977243',\n",
       " 'length': 7,\n",
       " 'hires': False}"
      ]
     },
     "execution_count": 16,
     "metadata": {},
     "output_type": "execute_result"
    }
   ],
   "source": [
    "query.api_data"
   ]
  },
  {
   "cell_type": "markdown",
   "metadata": {},
   "source": [
    "We can see here that the results are encoded within the parameter \"windows\", which contains the entries encoded in the Swift_VisWindow class. This simple class just contains the start and end or length of the window. We can access this by simply indexing the query.\n"
   ]
  },
  {
   "cell_type": "code",
   "execution_count": 17,
   "metadata": {
    "scrolled": false
   },
   "outputs": [
    {
     "name": "stdout",
     "output_type": "stream",
     "text": [
      "2021-12-15 21:57:00 - 2021-12-22 21:57:00 (7 days, 0:00:00)\n"
     ]
    }
   ],
   "source": [
    "_ = [print(window) for window in query]"
   ]
  },
  {
   "cell_type": "markdown",
   "metadata": {},
   "source": [
    "Or we can get this by simply typing in the name of the class in this Jupyter Notebook."
   ]
  },
  {
   "cell_type": "code",
   "execution_count": 18,
   "metadata": {},
   "outputs": [
    {
     "data": {
      "text/html": [
       "<table><thead><th style='text-align: left;'>Begin Time</th><th style='text-align: left;'>End Time</th><th style='text-align: left;'>Window length</th></thead><tr><td style='text-align: left;'>2021-12-15 21:57:00</td><td style='text-align: left;'>2021-12-22 21:57:00</td><td style='text-align: left;'>7 days, 0:00:00</td></tr></table>"
      ],
      "text/plain": [
       "Swift_VisQuery(username='anonymous',ra='113.7718769',dec='-69.1314721',begin='2021-12-15 21:57:01.977243',length='7',hires='False')"
      ]
     },
     "execution_count": 18,
     "metadata": {},
     "output_type": "execute_result"
    }
   ],
   "source": [
    "query"
   ]
  },
  {
   "cell_type": "markdown",
   "metadata": {},
   "source": [
    "You'll notice the API starts calculating the visibility from when the submission was sent, or at least to the nearest minute, if the `begin` property is not set. If the target is still visibile window after the amount of time you specified by `length` has ended, it will report that as the end of the visibility window, because it does not calculate beyond that."
   ]
  },
  {
   "cell_type": "code",
   "execution_count": 19,
   "metadata": {},
   "outputs": [
    {
     "name": "stdout",
     "output_type": "stream",
     "text": [
      "Time between start of first window and end of last window = 7 days, 0:00:00\n"
     ]
    }
   ],
   "source": [
    "print(f\"Time between start of first window and end of last window = {query[-1][1] - query[0][0]}\")"
   ]
  },
  {
   "cell_type": "markdown",
   "metadata": {},
   "source": [
    "### Time formats \n",
    "\n",
    "Window start / stop times are datetime structures and values are UTC."
   ]
  },
  {
   "cell_type": "code",
   "execution_count": 20,
   "metadata": {},
   "outputs": [
    {
     "data": {
      "text/plain": [
       "datetime.datetime(2021, 12, 15, 21, 57)"
      ]
     },
     "execution_count": 20,
     "metadata": {},
     "output_type": "execute_result"
    }
   ],
   "source": [
    "query[0].begin"
   ]
  },
  {
   "cell_type": "markdown",
   "metadata": {},
   "source": [
    "astropy fans can convert these to a Time class easily."
   ]
  },
  {
   "cell_type": "code",
   "execution_count": 23,
   "metadata": {},
   "outputs": [
    {
     "data": {
      "text/plain": [
       "<Time object: scale='utc' format='datetime' value=2021-12-15 21:57:00>"
      ]
     },
     "execution_count": 23,
     "metadata": {},
     "output_type": "execute_result"
    }
   ],
   "source": [
    "from astropy.time import Time\n",
    "\n",
    "tbegins = Time([q.begin for q in query], scale='utc')\n",
    "tends = Time([q.end for q in query], scale='utc')\n",
    "tbegins[0]"
   ]
  },
  {
   "cell_type": "markdown",
   "metadata": {},
   "source": [
    "Which of course makes things like converting into other formats easy!"
   ]
  },
  {
   "cell_type": "code",
   "execution_count": 24,
   "metadata": {
    "scrolled": false
   },
   "outputs": [
    {
     "name": "stdout",
     "output_type": "stream",
     "text": [
      "MJD Visibility Periods for RA/Dec(J2000) = 113.7718769, -69.1314721:\n",
      "\n",
      "MJD 59563.915 - MJD 59570.915\n"
     ]
    }
   ],
   "source": [
    "print(f\"MJD Visibility Periods for RA/Dec(J2000) = {query.ra}, {query.dec}:\\n\")\n",
    "for i in range(len(tbegins)):\n",
    "    print(f\"MJD {tbegins[i].mjd:.3f} - MJD {tends[i].mjd:.3f}\")"
   ]
  },
  {
   "cell_type": "markdown",
   "metadata": {},
   "source": [
    "### High resolution visibility\n",
    "\n",
    "*Swift* is in a low Earth orbit, so visibility of a target depends on not just the relative positions of the Sun and Moon, but also on whether the target is occulted by the Earth. As Swift's orbit is approximately 96 minutes long, these Earth occultations regularly occur. As you can see from the visibility period above, it does not take these into account. \n",
    "\n",
    "In addition *Swift* cannot observe while the spacecraft is passing through the [South Atlantic Anomaly](https://en.wikipedia.org/wiki/South_Atlantic_Anomaly), and so these periods must be blocked out.\n",
    "\n",
    "You can calculate visiblity windows including these constraints using the `hires` flag. \n",
    "\n",
    "Let's set up a new VisQuery, using the hires flag. This time we'll use a more compact argument based to call it. Note that here we explicity set a `begin` and `end` time for the visibility period."
   ]
  },
  {
   "cell_type": "code",
   "execution_count": 25,
   "metadata": {},
   "outputs": [],
   "source": [
    "hvq = Swift_VisQuery(ra=113.771875, dec=-69.131472, \n",
    "                     begin=datetime(2021,2,1),\n",
    "                     end=datetime(2021,2,2), \n",
    "                     hires=True)"
   ]
  },
  {
   "cell_type": "markdown",
   "metadata": {},
   "source": [
    "Note that using this form, we don't have to use the `submit()` method, it is called automatically. Still we should still check that the request was successful."
   ]
  },
  {
   "cell_type": "code",
   "execution_count": 26,
   "metadata": {},
   "outputs": [
    {
     "name": "stdout",
     "output_type": "stream",
     "text": [
      "All Good!\n"
     ]
    }
   ],
   "source": [
    "if hvq.status.status == 'Accepted':\n",
    "    print(\"All Good!\")\n",
    "else:\n",
    "    print(f\"Not good: {hvq.status}\")"
   ]
  },
  {
   "cell_type": "markdown",
   "metadata": {},
   "source": [
    "OK, let's see how our visibility windows look now:"
   ]
  },
  {
   "cell_type": "code",
   "execution_count": 27,
   "metadata": {},
   "outputs": [
    {
     "data": {
      "text/html": [
       "<table><thead><th style='text-align: left;'>Begin Time</th><th style='text-align: left;'>End Time</th><th style='text-align: left;'>Window length</th></thead><tr><td style='text-align: left;'>2021-02-01 00:33:00</td><td style='text-align: left;'>2021-02-01 00:37:00</td><td style='text-align: left;'>0:04:00</td></tr><tr><td style='text-align: left;'>2021-02-01 01:04:00</td><td style='text-align: left;'>2021-02-01 01:12:00</td><td style='text-align: left;'>0:08:00</td></tr><tr><td style='text-align: left;'>2021-02-01 02:09:00</td><td style='text-align: left;'>2021-02-01 02:17:00</td><td style='text-align: left;'>0:08:00</td></tr><tr><td style='text-align: left;'>2021-02-01 02:44:00</td><td style='text-align: left;'>2021-02-01 02:47:00</td><td style='text-align: left;'>0:03:00</td></tr><tr><td style='text-align: left;'>2021-02-01 03:44:00</td><td style='text-align: left;'>2021-02-01 03:58:00</td><td style='text-align: left;'>0:14:00</td></tr><tr><td style='text-align: left;'>2021-02-01 05:20:00</td><td style='text-align: left;'>2021-02-01 05:41:00</td><td style='text-align: left;'>0:21:00</td></tr><tr><td style='text-align: left;'>2021-02-01 06:55:00</td><td style='text-align: left;'>2021-02-01 07:23:00</td><td style='text-align: left;'>0:28:00</td></tr><tr><td style='text-align: left;'>2021-02-01 08:31:00</td><td style='text-align: left;'>2021-02-01 09:05:00</td><td style='text-align: left;'>0:34:00</td></tr><tr><td style='text-align: left;'>2021-02-01 10:06:00</td><td style='text-align: left;'>2021-02-01 10:45:00</td><td style='text-align: left;'>0:39:00</td></tr><tr><td style='text-align: left;'>2021-02-01 11:42:00</td><td style='text-align: left;'>2021-02-01 12:20:00</td><td style='text-align: left;'>0:38:00</td></tr><tr><td style='text-align: left;'>2021-02-01 13:17:00</td><td style='text-align: left;'>2021-02-01 13:56:00</td><td style='text-align: left;'>0:39:00</td></tr><tr><td style='text-align: left;'>2021-02-01 14:53:00</td><td style='text-align: left;'>2021-02-01 15:32:00</td><td style='text-align: left;'>0:39:00</td></tr><tr><td style='text-align: left;'>2021-02-01 16:28:00</td><td style='text-align: left;'>2021-02-01 17:07:00</td><td style='text-align: left;'>0:39:00</td></tr><tr><td style='text-align: left;'>2021-02-01 18:04:00</td><td style='text-align: left;'>2021-02-01 18:43:00</td><td style='text-align: left;'>0:39:00</td></tr><tr><td style='text-align: left;'>2021-02-01 19:49:00</td><td style='text-align: left;'>2021-02-01 20:18:00</td><td style='text-align: left;'>0:29:00</td></tr><tr><td style='text-align: left;'>2021-02-01 21:36:00</td><td style='text-align: left;'>2021-02-01 21:54:00</td><td style='text-align: left;'>0:18:00</td></tr><tr><td style='text-align: left;'>2021-02-01 22:50:00</td><td style='text-align: left;'>2021-02-01 22:51:00</td><td style='text-align: left;'>0:01:00</td></tr><tr><td style='text-align: left;'>2021-02-01 23:17:00</td><td style='text-align: left;'>2021-02-01 23:29:00</td><td style='text-align: left;'>0:12:00</td></tr></table>"
      ],
      "text/plain": [
       "Swift_VisQuery(username='anonymous',ra='113.771875',dec='-69.131472',begin='2021-02-01 00:00:00',length='1.0',hires='True')"
      ]
     },
     "execution_count": 27,
     "metadata": {},
     "output_type": "execute_result"
    }
   ],
   "source": [
    "hvq"
   ]
  },
  {
   "cell_type": "markdown",
   "metadata": {},
   "source": [
    "As you can see, despite only being for a period covering one day, the number of windows is much greater, and the windows are shorter. These windows are the true visibility of a target to *Swift*. Note however, that although windows can be up to 45 minutes long, the maximum that *Swift* can observed a pre-planned target for is 30 minutes.\n",
    "\n",
    "**Another thing to note**: Maximum length that can be calculated in high resolution is 20 days. This is because it is computationally expensive to make this calculation. In addition, these windows are calculated based on a contemporary *Swift* ephemeris derived from a [Two Line Element](https://en.wikipedia.org/wiki/Two-line_element_set). This means that if you go too far into the future, the accuracy of the orbit prediction will suffer. We therefore recommend that you treat predictions of high resolution visibility that go more than 20 days into the future with caution."
   ]
  }
 ],
 "metadata": {
  "kernelspec": {
   "display_name": "Python 3 (ipykernel)",
   "language": "python",
   "name": "python3"
  },
  "language_info": {
   "codemirror_mode": {
    "name": "ipython",
    "version": 3
   },
   "file_extension": ".py",
   "mimetype": "text/x-python",
   "name": "python",
   "nbconvert_exporter": "python",
   "pygments_lexer": "ipython3",
   "version": "3.9.9"
  }
 },
 "nbformat": 4,
 "nbformat_minor": 4
}
