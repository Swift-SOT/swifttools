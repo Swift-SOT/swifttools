{
 "cells": [
  {
   "cell_type": "markdown",
   "metadata": {},
   "source": [
    "# `swift_too` module\n",
    "\n",
    "## Swift_VisQuery Example - Querying the visibility for a given target\n",
    "\n",
    "### API version = 1.2, `swifttools` version = 3.0.8\n",
    "\n",
    "#### Author: Jamie A. Kennea (Penn State)\n",
    "\n",
    "### Introduction \n",
    "\n",
    "This example shows how we can use the `swift_too` module to give us predicted long term visibility for targets. Note that long term visibility calculates if a target can be observed on Swift based on Sun, Moon and Pole constraints. It does not calculate the visibility due to Earth occultations. \n",
    "\n",
    "Visibility is based on the most up to date TLE derived prediction of the spacecraft location into the future. Although this will not affect Sun and Moon constraints, Pole constraint accuracy may get worse the further into the future we look.\n",
    "\n",
    "### Setting up the Query\n",
    "\n",
    "First step, import the `Swift_VisQuery` class from TOO API, and whatever supporting Python modules we might need along the way. *Note*: As of `swifttools` 2.3, we can use shorthand for class names, by omitting the `Swift_`, so in this case, just `VisQuery` will do."
   ]
  },
  {
   "cell_type": "code",
   "execution_count": 1,
   "metadata": {},
   "outputs": [],
   "source": [
    "from swifttools.swift_too import VisQuery\n",
    "from datetime import datetime, timedelta\n",
    "from time import sleep"
   ]
  },
  {
   "cell_type": "markdown",
   "metadata": {},
   "source": [
    "As of `swifttools 2.2` username and shared_secret default to anonymous, so you do not have to give them any more."
   ]
  },
  {
   "cell_type": "code",
   "execution_count": 2,
   "metadata": {},
   "outputs": [],
   "source": [
    "query = VisQuery()"
   ]
  },
  {
   "cell_type": "markdown",
   "metadata": {},
   "source": [
    "### Coordinate formats\n",
    "\n",
    "We set up the parameters for the query, the minimum required parameters are RA/Dec coordinates, and the number of days to calculate the visibility over in days. RA/Dec are given in decimal degrees in J2000."
   ]
  },
  {
   "cell_type": "code",
   "execution_count": 3,
   "metadata": {},
   "outputs": [],
   "source": [
    "query.ra, query.dec = 19.27144, -73.44334"
   ]
  },
  {
   "cell_type": "markdown",
   "metadata": {},
   "source": [
    "Of if you want to just use the name of the source, `Swift_VisQuery` will automatically resolve it for you, like so:"
   ]
  },
  {
   "cell_type": "code",
   "execution_count": 4,
   "metadata": {},
   "outputs": [
    {
     "data": {
      "text/html": [
       "<table><thead><th style='text-align: left;'>Name</th><th style='text-align: left;'>RA (J2000)</th><th style='text-align: left;'>Dec (J2000)</th><th style='text-align: left;'>Resolver</th></thead><tr><td style='text-align: left;'>SMC X-1</td><td style='text-align: left;'>19.27144</td><td style='text-align: left;'>-73.44334</td><td style='text-align: left;'>Simbad</td></tr></table>"
      ],
      "text/plain": [
       "Swift_Resolve(username='anonymous',name='SMC X-1')"
      ]
     },
     "execution_count": 4,
     "metadata": {},
     "output_type": "execute_result"
    }
   ],
   "source": [
    "query.name = \"SMC X-1\"\n",
    "query.resolve"
   ]
  },
  {
   "cell_type": "markdown",
   "metadata": {},
   "source": [
    "You can see here that the `resolve` attribute shows the coordinates of SMC X-1 as resolved by Simbad. These values are automatically copied to `ra` and `dec`, and also `skycoord` (if `astropy` is installed)."
   ]
  },
  {
   "cell_type": "code",
   "execution_count": 5,
   "metadata": {},
   "outputs": [
    {
     "data": {
      "text/plain": [
       "<SkyCoord (FK5: equinox=J2000.000): (ra, dec) in deg\n",
       "    (19.27144042, -73.44333722)>"
      ]
     },
     "execution_count": 5,
     "metadata": {},
     "output_type": "execute_result"
    }
   ],
   "source": [
    "query.skycoord"
   ]
  },
  {
   "cell_type": "markdown",
   "metadata": {},
   "source": [
    "Or for convenience we can use Astropy SkyCoord object to submit the coordinates in any format you like. They will just be converted into J2000 / FK5 RA/Dec upon submission. The following example shows how to submit a request based on Galactic Coordinates, in our case, the Galactic Center (lII/bII = 0,0)."
   ]
  },
  {
   "cell_type": "code",
   "execution_count": 6,
   "metadata": {},
   "outputs": [],
   "source": [
    "from astropy.coordinates import SkyCoord\n",
    "\n",
    "query.skycoord = SkyCoord(\"0.0\", \"0.0\", frame=\"galactic\", unit=\"deg\")"
   ]
  },
  {
   "cell_type": "markdown",
   "metadata": {},
   "source": [
    "If we print out RA / Dec now, we'll see it reflects the SkyCoord in the previous line."
   ]
  },
  {
   "cell_type": "code",
   "execution_count": 7,
   "metadata": {},
   "outputs": [
    {
     "name": "stdout",
     "output_type": "stream",
     "text": [
      "SkyCoord should be the equivalent of RA/Dec(J2000) = 266.4050, -28.9362\n"
     ]
    }
   ],
   "source": [
    "print(\n",
    "    f\"SkyCoord should be the equivalent of RA/Dec(J2000) = {query.ra:.4f}, {query.dec:.4f}\"\n",
    ")"
   ]
  },
  {
   "cell_type": "markdown",
   "metadata": {},
   "source": [
    "Note if you modify the RA/Dec values after setting a skycoord, the skycoord variable is altered to match the new coordinates. Note that the frame will default to FK5. If `astropy` is installed, `swifttools 2.2` and above will allow you to access skycoord version of RA/Dec using the `skycoord` attribute."
   ]
  },
  {
   "cell_type": "code",
   "execution_count": 8,
   "metadata": {},
   "outputs": [
    {
     "name": "stdout",
     "output_type": "stream",
     "text": [
      "<SkyCoord (FK5: equinox=J2000.000): (ra, dec) in deg\n",
      "    (19.2714, -73.4433)>\n"
     ]
    }
   ],
   "source": [
    "query.ra = 19.2714\n",
    "query.dec = -73.4433\n",
    "print(query.skycoord)"
   ]
  },
  {
   "cell_type": "markdown",
   "metadata": {},
   "source": [
    "### Visibility Period\n",
    "\n",
    "Final parameter, we set the length of time we wish to calculate the visibility for. Note we haven't set a start time, it will default to now. The default value is 7 days, so if you want to search for a week, then this value is isn't required. We'll set it anyway."
   ]
  },
  {
   "cell_type": "code",
   "execution_count": 9,
   "metadata": {},
   "outputs": [],
   "source": [
    "query.length = 7  # days"
   ]
  },
  {
   "cell_type": "markdown",
   "metadata": {},
   "source": [
    "### `swifttools 3.0.8` astropy units support\n",
    "\n",
    "`swifttools 3.0.8` broadends support for `astropy` conventions, adding unit support, so now you can give units when setting things like `length`. Let's demonstrate:"
   ]
  },
  {
   "cell_type": "code",
   "execution_count": 10,
   "metadata": {},
   "outputs": [
    {
     "name": "stdout",
     "output_type": "stream",
     "text": [
      "query.length=7.0\n"
     ]
    }
   ],
   "source": [
    "import astropy.units as u\n",
    "\n",
    "query.length = 1 * u.week\n",
    "print(f\"{query.length=}\") # Note if this crashes, you're probably using Python 3.6."
   ]
  },
  {
   "cell_type": "markdown",
   "metadata": {},
   "source": [
    "Note that `VisQuery` stores length as days internally, so using the `astropy` `week` unit here, simply converts to 7."
   ]
  },
  {
   "cell_type": "markdown",
   "metadata": {},
   "source": [
    "### Submitting the Query for processing\n",
    "\n",
    "Now we submit the request to the Swift TOO API server. The following code is a bit overcooked, you can just do `query.submit()` and it achieves the same thing, but you will have to check it for any errors."
   ]
  },
  {
   "cell_type": "code",
   "execution_count": 11,
   "metadata": {},
   "outputs": [
    {
     "name": "stdout",
     "output_type": "stream",
     "text": [
      "Waiting for job #578325 to be processed ...\n",
      "Done. Job #578325 complete\n"
     ]
    }
   ],
   "source": [
    "if query.queue():\n",
    "    while not query.complete:\n",
    "        print(f\"Waiting for job #{query.status.jobnumber} to be processed ...\")\n",
    "        sleep(2)\n",
    "    print(f\"Done. Job #{query.status.jobnumber} complete\")\n",
    "else:\n",
    "    print(f\"Request rejected. Error: {query.status.errors}\")"
   ]
  },
  {
   "cell_type": "markdown",
   "metadata": {},
   "source": [
    "### Examining the returned results\n",
    "\n",
    "Assuming success let's see what we get from the TOO API server in response to this request. We'll do this by typing in the name of the query object, which in a Jupyter Notebook will display the results as a table."
   ]
  },
  {
   "cell_type": "code",
   "execution_count": 12,
   "metadata": {},
   "outputs": [
    {
     "data": {
      "text/html": [
       "<table><thead><th style='text-align: left;'>Begin Time</th><th style='text-align: left;'>End Time</th><th style='text-align: left;'>Window length</th></thead><tr><td style='text-align: left;'>2022-09-23 10:25:00</td><td style='text-align: left;'>2022-09-26 14:55:00</td><td style='text-align: left;'>3 days, 4:30:00</td></tr><tr><td style='text-align: left;'>2022-09-26 15:35:00</td><td style='text-align: left;'>2022-09-26 16:15:00</td><td style='text-align: left;'>0:40:00</td></tr><tr><td style='text-align: left;'>2022-09-26 17:25:00</td><td style='text-align: left;'>2022-09-26 17:45:00</td><td style='text-align: left;'>0:20:00</td></tr></table>"
      ],
      "text/plain": [
       "Swift_VisQuery(username='anonymous',ra='19.2714',dec='-73.4433',length='7.0',begin='2022-09-23 10:25:00')"
      ]
     },
     "execution_count": 12,
     "metadata": {},
     "output_type": "execute_result"
    }
   ],
   "source": [
    "query"
   ]
  },
  {
   "cell_type": "markdown",
   "metadata": {},
   "source": [
    "You'll notice the API starts calculating the visibility from when the submission was sent, or at least to the nearest minute, if the `begin` property is not set. If the target is still visibile window after the amount of time you specified by `length` has ended, it will report that as the end of the visibility window, because it does not calculate beyond that."
   ]
  },
  {
   "cell_type": "code",
   "execution_count": 13,
   "metadata": {},
   "outputs": [
    {
     "name": "stdout",
     "output_type": "stream",
     "text": [
      "Time between start of first window and end of last window = 3 days, 7:20:00\n"
     ]
    }
   ],
   "source": [
    "print(\n",
    "    f\"Time between start of first window and end of last window = {query[-1][1] - query[0][0]}\"\n",
    ")"
   ]
  },
  {
   "cell_type": "markdown",
   "metadata": {},
   "source": [
    "### Time formats \n",
    "\n",
    "Window start / stop times are datetime structures and values are UTC."
   ]
  },
  {
   "cell_type": "code",
   "execution_count": 14,
   "metadata": {},
   "outputs": [
    {
     "data": {
      "text/plain": [
       "datetime.datetime(2022, 9, 23, 10, 25)"
      ]
     },
     "execution_count": 14,
     "metadata": {},
     "output_type": "execute_result"
    }
   ],
   "source": [
    "query[0].begin"
   ]
  },
  {
   "cell_type": "markdown",
   "metadata": {},
   "source": [
    "`astropy` fans can convert these to a `Time` class easily."
   ]
  },
  {
   "cell_type": "code",
   "execution_count": 15,
   "metadata": {},
   "outputs": [
    {
     "data": {
      "text/plain": [
       "<Time object: scale='utc' format='datetime' value=2022-09-23 10:25:00>"
      ]
     },
     "execution_count": 15,
     "metadata": {},
     "output_type": "execute_result"
    }
   ],
   "source": [
    "from astropy.time import Time\n",
    "\n",
    "tbegins = Time([q.begin for q in query], scale=\"utc\")\n",
    "tends = Time([q.end for q in query], scale=\"utc\")\n",
    "tbegins[0]"
   ]
  },
  {
   "cell_type": "markdown",
   "metadata": {},
   "source": [
    "Which of course makes things like converting into other formats easy!"
   ]
  },
  {
   "cell_type": "code",
   "execution_count": 16,
   "metadata": {
    "scrolled": false
   },
   "outputs": [
    {
     "name": "stdout",
     "output_type": "stream",
     "text": [
      "MJD Visibility Periods for RA/Dec(J2000) = 19.2714, -73.4433:\n",
      "\n",
      "MJD 59845.434 - MJD 59848.622\n",
      "MJD 59848.649 - MJD 59848.677\n",
      "MJD 59848.726 - MJD 59848.740\n"
     ]
    }
   ],
   "source": [
    "print(f\"MJD Visibility Periods for RA/Dec(J2000) = {query.ra}, {query.dec}:\\n\")\n",
    "for i in range(len(tbegins)):\n",
    "    print(f\"MJD {tbegins[i].mjd:.3f} - MJD {tends[i].mjd:.3f}\")"
   ]
  },
  {
   "cell_type": "markdown",
   "metadata": {},
   "source": [
    "### High resolution visibility\n",
    "\n",
    "*Swift* is in a low Earth orbit, so visibility of a target depends on not just the relative positions of the Sun and Moon, but also on whether the target is occulted by the Earth. As Swift's orbit is approximately 96 minutes long, these Earth occultations regularly occur. As you can see from the visibility period above, it does not take these into account. \n",
    "\n",
    "In addition *Swift* cannot observe while the spacecraft is passing through the [South Atlantic Anomaly](https://en.wikipedia.org/wiki/South_Atlantic_Anomaly), and so these periods must be blocked out.\n",
    "\n",
    "You can calculate visiblity windows including these constraints using the `hires` flag. \n",
    "\n",
    "Let's set up a new VisQuery, using the hires flag. This time we'll use a more compact argument based to call it. Note that here we explicity set a `begin` and `end` time for the visibility period. Note that `length` can also be used in place of `end`."
   ]
  },
  {
   "cell_type": "code",
   "execution_count": 17,
   "metadata": {},
   "outputs": [],
   "source": [
    "hvq = VisQuery(\n",
    "    ra=19.2714,\n",
    "    dec=-73.4433,\n",
    "    begin=datetime(2021, 2, 1),\n",
    "    end=datetime(2021, 2, 2),\n",
    "    hires=True,\n",
    ")"
   ]
  },
  {
   "cell_type": "markdown",
   "metadata": {},
   "source": [
    "Note that using this form, we don't have to use the `submit()` method, it is called automatically. Still we should still check that the request was successful."
   ]
  },
  {
   "cell_type": "code",
   "execution_count": 18,
   "metadata": {},
   "outputs": [
    {
     "name": "stdout",
     "output_type": "stream",
     "text": [
      "All Good!\n"
     ]
    }
   ],
   "source": [
    "if hvq.status.status == \"Accepted\":\n",
    "    print(\"All Good!\")\n",
    "else:\n",
    "    print(f\"Not good: {hvq.status}\")"
   ]
  },
  {
   "cell_type": "markdown",
   "metadata": {},
   "source": [
    "OK, let's see how our visibility windows look now:"
   ]
  },
  {
   "cell_type": "code",
   "execution_count": 19,
   "metadata": {},
   "outputs": [
    {
     "data": {
      "text/html": [
       "<table><thead><th style='text-align: left;'>Begin Time</th><th style='text-align: left;'>End Time</th><th style='text-align: left;'>Window length</th></thead><tr><td style='text-align: left;'>2021-02-01 00:27:00</td><td style='text-align: left;'>2021-02-01 00:37:00</td><td style='text-align: left;'>0:10:00</td></tr><tr><td style='text-align: left;'>2021-02-01 02:02:00</td><td style='text-align: left;'>2021-02-01 02:17:00</td><td style='text-align: left;'>0:15:00</td></tr><tr><td style='text-align: left;'>2021-02-01 03:38:00</td><td style='text-align: left;'>2021-02-01 03:58:00</td><td style='text-align: left;'>0:20:00</td></tr><tr><td style='text-align: left;'>2021-02-01 05:13:00</td><td style='text-align: left;'>2021-02-01 05:41:00</td><td style='text-align: left;'>0:28:00</td></tr><tr><td style='text-align: left;'>2021-02-01 06:49:00</td><td style='text-align: left;'>2021-02-01 07:20:00</td><td style='text-align: left;'>0:31:00</td></tr><tr><td style='text-align: left;'>2021-02-01 08:24:00</td><td style='text-align: left;'>2021-02-01 08:55:00</td><td style='text-align: left;'>0:31:00</td></tr><tr><td style='text-align: left;'>2021-02-01 10:00:00</td><td style='text-align: left;'>2021-02-01 10:31:00</td><td style='text-align: left;'>0:31:00</td></tr><tr><td style='text-align: left;'>2021-02-01 11:35:00</td><td style='text-align: left;'>2021-02-01 12:06:00</td><td style='text-align: left;'>0:31:00</td></tr><tr><td style='text-align: left;'>2021-02-01 13:10:00</td><td style='text-align: left;'>2021-02-01 13:42:00</td><td style='text-align: left;'>0:32:00</td></tr><tr><td style='text-align: left;'>2021-02-01 14:46:00</td><td style='text-align: left;'>2021-02-01 15:18:00</td><td style='text-align: left;'>0:32:00</td></tr><tr><td style='text-align: left;'>2021-02-01 16:21:00</td><td style='text-align: left;'>2021-02-01 16:53:00</td><td style='text-align: left;'>0:32:00</td></tr><tr><td style='text-align: left;'>2021-02-01 17:57:00</td><td style='text-align: left;'>2021-02-01 18:29:00</td><td style='text-align: left;'>0:32:00</td></tr><tr><td style='text-align: left;'>2021-02-01 19:32:00</td><td style='text-align: left;'>2021-02-01 19:34:00</td><td style='text-align: left;'>0:02:00</td></tr><tr><td style='text-align: left;'>2021-02-01 19:49:00</td><td style='text-align: left;'>2021-02-01 20:04:00</td><td style='text-align: left;'>0:15:00</td></tr><tr><td style='text-align: left;'>2021-02-01 21:08:00</td><td style='text-align: left;'>2021-02-01 21:12:00</td><td style='text-align: left;'>0:04:00</td></tr><tr><td style='text-align: left;'>2021-02-01 21:36:00</td><td style='text-align: left;'>2021-02-01 21:40:00</td><td style='text-align: left;'>0:04:00</td></tr><tr><td style='text-align: left;'>2021-02-01 22:43:00</td><td style='text-align: left;'>2021-02-01 22:51:00</td><td style='text-align: left;'>0:08:00</td></tr></table>"
      ],
      "text/plain": [
       "Swift_VisQuery(username='anonymous',ra='19.2714',dec='-73.4433',length='1.0',begin='2021-02-01 00:00:00',hires='True')"
      ]
     },
     "execution_count": 19,
     "metadata": {},
     "output_type": "execute_result"
    }
   ],
   "source": [
    "hvq"
   ]
  },
  {
   "cell_type": "markdown",
   "metadata": {},
   "source": [
    "As you can see, despite only being for a period covering one day, the number of windows is much greater, and the windows are shorter. These windows are the true visibility of a target to *Swift*. Note however, that although windows can be up to 45 minutes long, the maximum that *Swift* can observed a pre-planned target for is 30 minutes.\n",
    "\n",
    "**Another thing to note**: Maximum length that can be calculated in high resolution is 20 days. This is because it is computationally expensive to make this calculation. In addition, these windows are calculated based on a contemporary *Swift* ephemeris derived from a [Two Line Element](https://en.wikipedia.org/wiki/Two-line_element_set). This means that if you go too far into the future, the accuracy of the orbit prediction will suffer. We therefore recommend that you treat predictions of high resolution visibility that go more than 20 days into the future with caution."
   ]
  },
  {
   "cell_type": "markdown",
   "metadata": {},
   "source": [
    "### A note about clock correction\n",
    "\n",
    "#### New in `swifttools 2.4`.\n",
    "\n",
    "The times reported by `VisQuery` are in UTC. However, Swift observations are scheduled using time defined by the Swift onboard clock. This clock not only does not include leap seconds, but also is drifting slightly over time. In order to convert UTC visibility times to Swift times, you can perform a clock correction using the `clock_correction()` method."
   ]
  },
  {
   "cell_type": "code",
   "execution_count": 20,
   "metadata": {},
   "outputs": [
    {
     "data": {
      "text/html": [
       "<table><thead><th style='text-align: left;'>Begin Time (UTC)</th><th style='text-align: left;'>End Time (UTC)</th><th style='text-align: left;'>Window length</th></thead><tr><td style='text-align: left;'>2021-02-01 00:27:00.000001</td><td style='text-align: left;'>2021-02-01 00:37:00</td><td style='text-align: left;'>0:09:59.999999</td></tr><tr><td style='text-align: left;'>2021-02-01 02:02:00</td><td style='text-align: left;'>2021-02-01 02:17:00</td><td style='text-align: left;'>0:15:00</td></tr><tr><td style='text-align: left;'>2021-02-01 03:38:00</td><td style='text-align: left;'>2021-02-01 03:58:00</td><td style='text-align: left;'>0:20:00</td></tr><tr><td style='text-align: left;'>2021-02-01 05:13:00</td><td style='text-align: left;'>2021-02-01 05:41:00</td><td style='text-align: left;'>0:28:00</td></tr><tr><td style='text-align: left;'>2021-02-01 06:49:00</td><td style='text-align: left;'>2021-02-01 07:20:00</td><td style='text-align: left;'>0:31:00</td></tr><tr><td style='text-align: left;'>2021-02-01 08:24:00</td><td style='text-align: left;'>2021-02-01 08:55:00</td><td style='text-align: left;'>0:31:00</td></tr><tr><td style='text-align: left;'>2021-02-01 10:00:00</td><td style='text-align: left;'>2021-02-01 10:31:00</td><td style='text-align: left;'>0:31:00</td></tr><tr><td style='text-align: left;'>2021-02-01 11:35:00</td><td style='text-align: left;'>2021-02-01 12:06:00</td><td style='text-align: left;'>0:31:00</td></tr><tr><td style='text-align: left;'>2021-02-01 13:10:00</td><td style='text-align: left;'>2021-02-01 13:42:00</td><td style='text-align: left;'>0:32:00</td></tr><tr><td style='text-align: left;'>2021-02-01 14:46:00</td><td style='text-align: left;'>2021-02-01 15:18:00</td><td style='text-align: left;'>0:32:00</td></tr><tr><td style='text-align: left;'>2021-02-01 16:21:00</td><td style='text-align: left;'>2021-02-01 16:53:00</td><td style='text-align: left;'>0:32:00</td></tr><tr><td style='text-align: left;'>2021-02-01 17:57:00</td><td style='text-align: left;'>2021-02-01 18:29:00</td><td style='text-align: left;'>0:32:00</td></tr><tr><td style='text-align: left;'>2021-02-01 19:31:59.999999</td><td style='text-align: left;'>2021-02-01 19:34:00</td><td style='text-align: left;'>0:02:00.000001</td></tr><tr><td style='text-align: left;'>2021-02-01 19:49:00</td><td style='text-align: left;'>2021-02-01 20:04:00</td><td style='text-align: left;'>0:15:00</td></tr><tr><td style='text-align: left;'>2021-02-01 21:08:00</td><td style='text-align: left;'>2021-02-01 21:12:00</td><td style='text-align: left;'>0:04:00</td></tr><tr><td style='text-align: left;'>2021-02-01 21:36:00</td><td style='text-align: left;'>2021-02-01 21:40:00</td><td style='text-align: left;'>0:04:00</td></tr><tr><td style='text-align: left;'>2021-02-01 22:43:00</td><td style='text-align: left;'>2021-02-01 22:51:00</td><td style='text-align: left;'>0:08:00</td></tr></table>"
      ],
      "text/plain": [
       "Swift_VisQuery(username='anonymous',ra='19.2714',dec='-73.4433',length='1.0',begin='2021-02-01 00:00:00',hires='True')"
      ]
     },
     "execution_count": 20,
     "metadata": {},
     "output_type": "execute_result"
    }
   ],
   "source": [
    "hvq.clock_correct()\n",
    "hvq"
   ]
  },
  {
   "cell_type": "markdown",
   "metadata": {},
   "source": [
    "You can now see that the times are explicitely stated to be in UTC. You can convert the above table to give times in the Swift internal clock format, but using the `to_swifttime()` method, e.g.:"
   ]
  },
  {
   "cell_type": "code",
   "execution_count": 21,
   "metadata": {},
   "outputs": [
    {
     "data": {
      "text/html": [
       "<table><thead><th style='text-align: left;'>Begin Time (Swift)</th><th style='text-align: left;'>End Time (Swift)</th><th style='text-align: left;'>Window length</th></thead><tr><td style='text-align: left;'>2021-02-01 00:27:26.428442</td><td style='text-align: left;'>2021-02-01 00:37:26.428481</td><td style='text-align: left;'>0:10:00.000039</td></tr><tr><td style='text-align: left;'>2021-02-01 02:02:26.428819</td><td style='text-align: left;'>2021-02-01 02:17:26.428878</td><td style='text-align: left;'>0:15:00.000059</td></tr><tr><td style='text-align: left;'>2021-02-01 03:38:26.429200</td><td style='text-align: left;'>2021-02-01 03:58:26.429279</td><td style='text-align: left;'>0:20:00.000079</td></tr><tr><td style='text-align: left;'>2021-02-01 05:13:26.429577</td><td style='text-align: left;'>2021-02-01 05:41:26.429688</td><td style='text-align: left;'>0:28:00.000111</td></tr><tr><td style='text-align: left;'>2021-02-01 06:49:26.429958</td><td style='text-align: left;'>2021-02-01 07:20:26.430081</td><td style='text-align: left;'>0:31:00.000123</td></tr><tr><td style='text-align: left;'>2021-02-01 08:24:26.430335</td><td style='text-align: left;'>2021-02-01 08:55:26.430458</td><td style='text-align: left;'>0:31:00.000123</td></tr><tr><td style='text-align: left;'>2021-02-01 10:00:26.430716</td><td style='text-align: left;'>2021-02-01 10:31:26.430840</td><td style='text-align: left;'>0:31:00.000124</td></tr><tr><td style='text-align: left;'>2021-02-01 11:35:26.431094</td><td style='text-align: left;'>2021-02-01 12:06:26.431217</td><td style='text-align: left;'>0:31:00.000123</td></tr><tr><td style='text-align: left;'>2021-02-01 13:10:26.431471</td><td style='text-align: left;'>2021-02-01 13:42:26.431598</td><td style='text-align: left;'>0:32:00.000127</td></tr><tr><td style='text-align: left;'>2021-02-01 14:46:26.431852</td><td style='text-align: left;'>2021-02-01 15:18:26.431971</td><td style='text-align: left;'>0:32:00.000119</td></tr><tr><td style='text-align: left;'>2021-02-01 16:21:26.432221</td><td style='text-align: left;'>2021-02-01 16:53:26.432348</td><td style='text-align: left;'>0:32:00.000127</td></tr><tr><td style='text-align: left;'>2021-02-01 17:57:26.432602</td><td style='text-align: left;'>2021-02-01 18:29:26.432729</td><td style='text-align: left;'>0:32:00.000127</td></tr><tr><td style='text-align: left;'>2021-02-01 19:32:26.432979</td><td style='text-align: left;'>2021-02-01 19:34:26.432987</td><td style='text-align: left;'>0:02:00.000008</td></tr><tr><td style='text-align: left;'>2021-02-01 19:49:26.433047</td><td style='text-align: left;'>2021-02-01 20:04:26.433107</td><td style='text-align: left;'>0:15:00.000060</td></tr><tr><td style='text-align: left;'>2021-02-01 21:08:26.433361</td><td style='text-align: left;'>2021-02-01 21:12:26.433377</td><td style='text-align: left;'>0:04:00.000016</td></tr><tr><td style='text-align: left;'>2021-02-01 21:36:26.433472</td><td style='text-align: left;'>2021-02-01 21:40:26.433488</td><td style='text-align: left;'>0:04:00.000016</td></tr><tr><td style='text-align: left;'>2021-02-01 22:43:26.433738</td><td style='text-align: left;'>2021-02-01 22:51:26.433770</td><td style='text-align: left;'>0:08:00.000032</td></tr></table>"
      ],
      "text/plain": [
       "Swift_VisQuery(username='anonymous',ra='19.2714',dec='-73.4433',length='1.0',begin='2021-02-01 00:00:00',hires='True')"
      ]
     },
     "execution_count": 21,
     "metadata": {},
     "output_type": "execute_result"
    }
   ],
   "source": [
    "hvq.to_swifttime()\n",
    "hvq"
   ]
  },
  {
   "cell_type": "markdown",
   "metadata": {},
   "source": [
    "As you can see above, the times are now slightly different and the table has changed to indicate that the times are Swift times. Note that for planning purposes, Swift does not schedule at resolution higher than 1 minute, so these clock corrections are not crucial."
   ]
  }
 ],
 "metadata": {
  "kernelspec": {
   "display_name": "Python 3 (ipykernel)",
   "language": "python",
   "name": "python3"
  },
  "language_info": {
   "codemirror_mode": {
    "name": "ipython",
    "version": 3
   },
   "file_extension": ".py",
   "mimetype": "text/x-python",
   "name": "python",
   "nbconvert_exporter": "python",
   "pygments_lexer": "ipython3",
   "version": "3.9.14"
  }
 },
 "nbformat": 4,
 "nbformat_minor": 4
}
