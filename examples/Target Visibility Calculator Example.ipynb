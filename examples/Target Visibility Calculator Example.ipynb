{
 "cells": [
  {
   "cell_type": "markdown",
   "metadata": {},
   "source": [
    "# `swift_too` module\n",
    "\n",
    "## Swift_VisQuery Example - Querying the visibility for a given target\n",
    "\n",
    "### API Version 1.2\n",
    "\n",
    "#### Author: Jamie A. Kennea (Penn State)\n",
    "\n",
    "### Introduction \n",
    "\n",
    "This example shows how we can use the `swift_too` module to give us predicted long term visibility for targets. Note that long term visibility calculates if a target can be observed on Swift based on Sun, Moon and Pole constraints. It does not calculate the visibility due to Earth occultations. \n",
    "\n",
    "Visibility is based on the most up to date TLE derived prediction of the spacecraft location into the future. Although this will not affect Sun and Moon constraints, Pole constraint accuracy may get worse the further into the future we look.\n",
    "\n",
    "### Setting up the Query\n",
    "\n",
    "First step, import the `Swift_VisQuery` class from TOO API, and whatever supporting Python modules we might need along the way."
   ]
  },
  {
   "cell_type": "code",
   "execution_count": 1,
   "metadata": {},
   "outputs": [],
   "source": [
    "from swifttools.swift_too import Swift_VisQuery\n",
    "from datetime import datetime,timedelta\n",
    "from time import sleep\n",
    "import numpy as np"
   ]
  },
  {
   "cell_type": "markdown",
   "metadata": {},
   "source": [
    "Next we'll set up our username and shared_secret. No need to do this in variables, but we'll use them more than once, so it's easier this way."
   ]
  },
  {
   "cell_type": "code",
   "execution_count": 2,
   "metadata": {},
   "outputs": [],
   "source": [
    "username = \"myuser\"\n",
    "shared_secret = \"mysharedsecret\""
   ]
  },
  {
   "cell_type": "markdown",
   "metadata": {},
   "source": [
    "Next, we set up the class and set our username and shared_secret. All TOO API submissions require a validated username and shared_secret, so we can track who made the submissions and verify that they were from that person."
   ]
  },
  {
   "cell_type": "code",
   "execution_count": 3,
   "metadata": {},
   "outputs": [],
   "source": [
    "query = Swift_VisQuery()\n",
    "query.username = username\n",
    "query.shared_secret = shared_secret"
   ]
  },
  {
   "cell_type": "markdown",
   "metadata": {},
   "source": [
    "### Coordinate formats\n",
    "\n",
    "We set up the parameters for the query, the minimum required parameters are RA/Dec coordinates, and the number of days to calculate the visibility over in days. RA/Dec are given in decimal degrees in J2000."
   ]
  },
  {
   "cell_type": "code",
   "execution_count": 4,
   "metadata": {},
   "outputs": [],
   "source": [
    "query.ra, query.dec = 113.771875, -69.131472"
   ]
  },
  {
   "cell_type": "markdown",
   "metadata": {},
   "source": [
    "Or for convenience we can use Astropy SkyCoord object to submit the coordinates in any format you like. They will just be converted into J2000 / FK5 RA/Dec upon submission. The following example shows how to submit a request based on Galactic Coordinates, in our case, the Galactic Center (lII/bII = 0,0)."
   ]
  },
  {
   "cell_type": "code",
   "execution_count": 5,
   "metadata": {},
   "outputs": [],
   "source": [
    "from astropy.coordinates import SkyCoord\n",
    "query.skycoord = SkyCoord('0.0', '0.0', frame='galactic', unit='deg')"
   ]
  },
  {
   "cell_type": "markdown",
   "metadata": {},
   "source": [
    "If we print out RA / Dec now, we'll see it reflects the SkyCoord in the previous line."
   ]
  },
  {
   "cell_type": "code",
   "execution_count": 6,
   "metadata": {},
   "outputs": [
    {
     "name": "stdout",
     "output_type": "stream",
     "text": [
      "SkyCoord should be the equivalent of RA/Dec(J2000) = 266.4050, -28.9362\n"
     ]
    }
   ],
   "source": [
    "print(f\"SkyCoord should be the equivalent of RA/Dec(J2000) = {query.ra:.4f}, {query.dec:.4f}\")"
   ]
  },
  {
   "cell_type": "markdown",
   "metadata": {},
   "source": [
    "Note if you modify the RA/Dec values after setting a skycoord, the skycoord variable is altered to match the new coordinates. Note that the frame will default to FK5. This is a neat trick, but it must be noted that unless you pass a SkyCoord, TOO_API will not return one. This is because the Swift TOO API does not depend on astropy. However if you do use SkyCoords, then compatibility is assured!"
   ]
  },
  {
   "cell_type": "code",
   "execution_count": 7,
   "metadata": {},
   "outputs": [
    {
     "name": "stdout",
     "output_type": "stream",
     "text": [
      "<SkyCoord (FK5: equinox=J2000.000): (ra, dec) in deg\n",
      "    (113.7718769, -68.71338971)>\n"
     ]
    }
   ],
   "source": [
    "query.ra = 113.7718769\n",
    "query.dec = -69.1314721 + np.random.random()*1\n",
    "print(query.skycoord)"
   ]
  },
  {
   "cell_type": "markdown",
   "metadata": {},
   "source": [
    "### Visibility Period\n",
    "\n",
    "Final parameter, we set the length of time we wish to calculate the visibility for. Note we haven't set a start time, it will default to now."
   ]
  },
  {
   "cell_type": "code",
   "execution_count": 8,
   "metadata": {},
   "outputs": [],
   "source": [
    "query.length = 7 # days"
   ]
  },
  {
   "cell_type": "markdown",
   "metadata": {},
   "source": [
    "### Submitting the Query for processing\n",
    "\n",
    "Now we submit the request to the Swift TOO API server."
   ]
  },
  {
   "cell_type": "code",
   "execution_count": 9,
   "metadata": {},
   "outputs": [
    {
     "name": "stdout",
     "output_type": "stream",
     "text": [
      "Done. Job #47600 complete\n"
     ]
    }
   ],
   "source": [
    "if query.queue():\n",
    "    while(not query.complete):\n",
    "        print(f\"Waiting for job #{query.status.jobnumber} to be processed ...\")\n",
    "        sleep(2)\n",
    "    print(f\"Done. Job #{query.status.jobnumber} complete\")\n",
    "else:\n",
    "    print(f\"Request rejected. Error: {query.status.errors}\")"
   ]
  },
  {
   "cell_type": "code",
   "execution_count": 10,
   "metadata": {},
   "outputs": [
    {
     "name": "stdout",
     "output_type": "stream",
     "text": [
      "Success!\n"
     ]
    }
   ],
   "source": [
    "if query.submit():\n",
    "    print(\"Success!\")\n",
    "else:\n",
    "    print(\"Failure\")"
   ]
  },
  {
   "cell_type": "markdown",
   "metadata": {},
   "source": [
    "### Examining the returned results\n",
    "\n",
    "Assuming success let's see what we get from the TOO API server in response to this request. We'll do this by printing out api_data which is a dictionary containing the both the input parameters and the returned parameters."
   ]
  },
  {
   "cell_type": "code",
   "execution_count": 11,
   "metadata": {},
   "outputs": [
    {
     "data": {
      "text/plain": [
       "{'username': 'myuser',\n",
       " 'ra': 113.7718769,\n",
       " 'dec': -68.71338971439681,\n",
       " 'begin': '2021-07-06 16:59:04.310320',\n",
       " 'length': 7,\n",
       " 'hires': False,\n",
       " 'windows': [{'api_name': 'Swift_VisWindow',\n",
       "   'api_version': '1.2',\n",
       "   'api_data': {'begin': '2021-07-06 16:59:00',\n",
       "    'end': '2021-07-13 16:59:00'}}]}"
      ]
     },
     "execution_count": 11,
     "metadata": {},
     "output_type": "execute_result"
    }
   ],
   "source": [
    "query.api_data"
   ]
  },
  {
   "cell_type": "markdown",
   "metadata": {},
   "source": [
    "We can see here that the results are encoded within the parameter \"windows\", which contains the entries encoded in the Swift_VisWindow class. This simple class just contains the start and end of the window. We can access this by simply indexing the query.\n"
   ]
  },
  {
   "cell_type": "code",
   "execution_count": 12,
   "metadata": {
    "scrolled": false
   },
   "outputs": [
    {
     "name": "stdout",
     "output_type": "stream",
     "text": [
      "2021-07-06 16:59:00 - 2021-07-13 16:59:00 (7 days, 0:00:00)\n"
     ]
    }
   ],
   "source": [
    "_ = [print(window) for window in query]"
   ]
  },
  {
   "cell_type": "markdown",
   "metadata": {},
   "source": [
    "Or we can get this by simply typing in the name of the class in this Jupyter Notebook."
   ]
  },
  {
   "cell_type": "code",
   "execution_count": 13,
   "metadata": {},
   "outputs": [
    {
     "data": {
      "text/html": [
       "<table>\n",
       "<thead>\n",
       "<tr><th style=\"text-align: left;\">              Begin</th><th style=\"text-align: left;\">                End</th><th style=\"text-align: left;\">         Length</th></tr>\n",
       "</thead>\n",
       "<tbody>\n",
       "<tr><td style=\"text-align: left;\">2021-07-06 16:59:00</td><td style=\"text-align: left;\">2021-07-13 16:59:00</td><td style=\"text-align: left;\">7 days, 0:00:00</td></tr>\n",
       "</tbody>\n",
       "</table>"
      ],
      "text/plain": [
       "<swift_too.swift_visquery.Swift_VisQuery at 0x10b4f6b50>"
      ]
     },
     "execution_count": 13,
     "metadata": {},
     "output_type": "execute_result"
    }
   ],
   "source": [
    "query"
   ]
  },
  {
   "cell_type": "markdown",
   "metadata": {},
   "source": [
    "You'll notice the API starts calculating the visibility from when the submission was sent, or at least to the nearest minute, if the `begin` property is not set. If the target is still visibile window after the amount of time you specified by `length` has ended, it will report that as the end of the visibility window, because it does not calculate beyond that."
   ]
  },
  {
   "cell_type": "code",
   "execution_count": 14,
   "metadata": {},
   "outputs": [
    {
     "name": "stdout",
     "output_type": "stream",
     "text": [
      "Time between start of first window and end of last window = 7 days, 0:00:00\n"
     ]
    }
   ],
   "source": [
    "print(f\"Time between start of first window and end of last window = {query[-1][1] - query[0][0]}\")"
   ]
  },
  {
   "cell_type": "markdown",
   "metadata": {},
   "source": [
    "### Time formats \n",
    "\n",
    "Window start / stop times are datetime structures and values are UTC."
   ]
  },
  {
   "cell_type": "code",
   "execution_count": 15,
   "metadata": {},
   "outputs": [
    {
     "data": {
      "text/plain": [
       "datetime.datetime(2021, 7, 6, 16, 59)"
      ]
     },
     "execution_count": 15,
     "metadata": {},
     "output_type": "execute_result"
    }
   ],
   "source": [
    "query[0].begin"
   ]
  },
  {
   "cell_type": "markdown",
   "metadata": {},
   "source": [
    "astropy fans can convert these to a Time class easily."
   ]
  },
  {
   "cell_type": "code",
   "execution_count": 16,
   "metadata": {},
   "outputs": [
    {
     "data": {
      "text/plain": [
       "<Time object: scale='utc' format='datetime' value=2021-07-06 16:59:00>"
      ]
     },
     "execution_count": 16,
     "metadata": {},
     "output_type": "execute_result"
    }
   ],
   "source": [
    "from astropy.time import Time\n",
    "\n",
    "tbegins = Time([q.begin for q in query], scale='utc')\n",
    "tends = Time([q.end for q in query], scale='utc')\n",
    "tbegins[0]"
   ]
  },
  {
   "cell_type": "markdown",
   "metadata": {},
   "source": [
    "Which of course makes things like converting into other formats easy!"
   ]
  },
  {
   "cell_type": "code",
   "execution_count": 17,
   "metadata": {
    "scrolled": false
   },
   "outputs": [
    {
     "name": "stdout",
     "output_type": "stream",
     "text": [
      "MJD Visibility Periods for RA/Dec(J2000) = 113.7718769, -68.71338971439681:\n",
      "\n",
      "MJD 59401.708 - MJD 59408.708\n"
     ]
    }
   ],
   "source": [
    "print(f\"MJD Visibility Periods for RA/Dec(J2000) = {query.ra}, {query.dec}:\\n\")\n",
    "for i in range(len(tbegins)):\n",
    "    print(f\"MJD {tbegins[i].mjd:.3f} - MJD {tends[i].mjd:.3f}\")"
   ]
  },
  {
   "cell_type": "markdown",
   "metadata": {},
   "source": [
    "### High resolution visibility\n",
    "\n",
    "*Swift* is in a low Earth orbit, so visibility of a target depends on not just the relative positions of the Sun and Moon, but also on whether the target is occulted by the Earth. As Swift's orbit is approximately 96 minutes long, these Earth occultations regularly occur. As you can see from the visibility period above, it does not take these into account. \n",
    "\n",
    "In addition *Swift* cannot observe while the spacecraft is passing through the [South Atlantic Anomaly](https://en.wikipedia.org/wiki/South_Atlantic_Anomaly), and so these periods must be blocked out.\n",
    "\n",
    "You can calculate visiblity windows including these constraints using the `hires` flag. \n",
    "\n",
    "Let's set up a new VisQuery, using the hires flag. This time we'll use a more compact argument based to call it. Note that here we explicity set a `begin` and `end` time for the visibility period."
   ]
  },
  {
   "cell_type": "code",
   "execution_count": 18,
   "metadata": {},
   "outputs": [],
   "source": [
    "hvq = Swift_VisQuery(username=username,\n",
    "                     shared_secret=shared_secret,\n",
    "                     ra=113.771875, dec=-69.131472, \n",
    "                     begin=datetime(2021,2,1),\n",
    "                     end=datetime(2021,2,2), \n",
    "                     hires=True)"
   ]
  },
  {
   "cell_type": "markdown",
   "metadata": {},
   "source": [
    "Note that using this form, we don't have to use the `submit()` method, it is called automatically. Still we should still check that the request was successful."
   ]
  },
  {
   "cell_type": "code",
   "execution_count": 19,
   "metadata": {},
   "outputs": [
    {
     "name": "stdout",
     "output_type": "stream",
     "text": [
      "All Good!\n"
     ]
    }
   ],
   "source": [
    "if hvq.status.status == 'Accepted':\n",
    "    print(\"All Good!\")\n",
    "else:\n",
    "    print(f\"Not good: {hvq.status}\")"
   ]
  },
  {
   "cell_type": "markdown",
   "metadata": {},
   "source": [
    "OK, let's see how our visibility windows look now:"
   ]
  },
  {
   "cell_type": "code",
   "execution_count": 20,
   "metadata": {},
   "outputs": [
    {
     "data": {
      "text/html": [
       "<table>\n",
       "<thead>\n",
       "<tr><th style=\"text-align: left;\">              Begin</th><th style=\"text-align: left;\">                End</th><th style=\"text-align: left;\">  Length</th></tr>\n",
       "</thead>\n",
       "<tbody>\n",
       "<tr><td style=\"text-align: left;\">2021-02-01 00:33:00</td><td style=\"text-align: left;\">2021-02-01 00:50:00</td><td style=\"text-align: left;\"> 0:17:00</td></tr>\n",
       "<tr><td style=\"text-align: left;\">2021-02-01 00:59:00</td><td style=\"text-align: left;\">2021-02-01 01:12:00</td><td style=\"text-align: left;\"> 0:13:00</td></tr>\n",
       "<tr><td style=\"text-align: left;\">2021-02-01 02:09:00</td><td style=\"text-align: left;\">2021-02-01 02:32:00</td><td style=\"text-align: left;\"> 0:23:00</td></tr>\n",
       "<tr><td style=\"text-align: left;\">2021-02-01 02:41:00</td><td style=\"text-align: left;\">2021-02-01 02:47:00</td><td style=\"text-align: left;\"> 0:06:00</td></tr>\n",
       "<tr><td style=\"text-align: left;\">2021-02-01 03:44:00</td><td style=\"text-align: left;\">2021-02-01 04:14:00</td><td style=\"text-align: left;\"> 0:30:00</td></tr>\n",
       "<tr><td style=\"text-align: left;\">2021-02-01 04:22:00</td><td style=\"text-align: left;\">2021-02-01 04:23:00</td><td style=\"text-align: left;\"> 0:01:00</td></tr>\n",
       "<tr><td style=\"text-align: left;\">2021-02-01 05:20:00</td><td style=\"text-align: left;\">2021-02-01 05:56:00</td><td style=\"text-align: left;\"> 0:36:00</td></tr>\n",
       "<tr><td style=\"text-align: left;\">2021-02-01 06:55:00</td><td style=\"text-align: left;\">2021-02-01 07:34:00</td><td style=\"text-align: left;\"> 0:39:00</td></tr>\n",
       "<tr><td style=\"text-align: left;\">2021-02-01 08:31:00</td><td style=\"text-align: left;\">2021-02-01 09:09:00</td><td style=\"text-align: left;\"> 0:38:00</td></tr>\n",
       "<tr><td style=\"text-align: left;\">2021-02-01 10:06:00</td><td style=\"text-align: left;\">2021-02-01 10:45:00</td><td style=\"text-align: left;\"> 0:39:00</td></tr>\n",
       "<tr><td style=\"text-align: left;\">2021-02-01 11:42:00</td><td style=\"text-align: left;\">2021-02-01 12:20:00</td><td style=\"text-align: left;\"> 0:38:00</td></tr>\n",
       "<tr><td style=\"text-align: left;\">2021-02-01 13:17:00</td><td style=\"text-align: left;\">2021-02-01 13:56:00</td><td style=\"text-align: left;\"> 0:39:00</td></tr>\n",
       "<tr><td style=\"text-align: left;\">2021-02-01 14:53:00</td><td style=\"text-align: left;\">2021-02-01 15:32:00</td><td style=\"text-align: left;\"> 0:39:00</td></tr>\n",
       "<tr><td style=\"text-align: left;\">2021-02-01 16:28:00</td><td style=\"text-align: left;\">2021-02-01 17:07:00</td><td style=\"text-align: left;\"> 0:39:00</td></tr>\n",
       "<tr><td style=\"text-align: left;\">2021-02-01 18:04:00</td><td style=\"text-align: left;\">2021-02-01 18:43:00</td><td style=\"text-align: left;\"> 0:39:00</td></tr>\n",
       "<tr><td style=\"text-align: left;\">2021-02-01 19:45:00</td><td style=\"text-align: left;\">2021-02-01 20:18:00</td><td style=\"text-align: left;\"> 0:33:00</td></tr>\n",
       "<tr><td style=\"text-align: left;\">2021-02-01 21:15:00</td><td style=\"text-align: left;\">2021-02-01 21:19:00</td><td style=\"text-align: left;\"> 0:04:00</td></tr>\n",
       "<tr><td style=\"text-align: left;\">2021-02-01 21:28:00</td><td style=\"text-align: left;\">2021-02-01 21:54:00</td><td style=\"text-align: left;\"> 0:26:00</td></tr>\n",
       "<tr><td style=\"text-align: left;\">2021-02-01 22:50:00</td><td style=\"text-align: left;\">2021-02-01 23:01:00</td><td style=\"text-align: left;\"> 0:11:00</td></tr>\n",
       "<tr><td style=\"text-align: left;\">2021-02-01 23:11:00</td><td style=\"text-align: left;\">2021-02-01 23:29:00</td><td style=\"text-align: left;\"> 0:18:00</td></tr>\n",
       "</tbody>\n",
       "</table>"
      ],
      "text/plain": [
       "<swift_too.swift_visquery.Swift_VisQuery at 0x112ca04f0>"
      ]
     },
     "execution_count": 20,
     "metadata": {},
     "output_type": "execute_result"
    }
   ],
   "source": [
    "hvq"
   ]
  },
  {
   "cell_type": "markdown",
   "metadata": {},
   "source": [
    "As you can see, despite only being for a period covering one day, the number of windows is much greater, and the windows are shorter. These windows are the true visibility of a target to *Swift*. Note however, that although windows can be up to 45 minutes long, the maximum that *Swift* can observed a pre-planned target for is 30 minutes.\n",
    "\n",
    "**Another thing to note**: Maximum length that can be calculated in high resolution is 20 days. This is because it is computationally expensive to make this calculation. In addition, these windows are calculated based on a contemporary *Swift* ephemeris derived from a [Two Line Element](https://en.wikipedia.org/wiki/Two-line_element_set). This means that if you go too far into the future, the accuracy of the orbit prediction will suffer. We therefore recommend that you treat predictions of high resolution visibility that go more than 20 days into the future with caution."
   ]
  }
 ],
 "metadata": {
  "kernelspec": {
   "display_name": "Python 3",
   "language": "python",
   "name": "python3"
  },
  "language_info": {
   "codemirror_mode": {
    "name": "ipython",
    "version": 3
   },
   "file_extension": ".py",
   "mimetype": "text/x-python",
   "name": "python",
   "nbconvert_exporter": "python",
   "pygments_lexer": "ipython3",
   "version": "3.9.5"
  }
 },
 "nbformat": 4,
 "nbformat_minor": 4
}
