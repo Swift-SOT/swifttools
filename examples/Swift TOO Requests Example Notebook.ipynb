{
 "cells": [
  {
   "cell_type": "markdown",
   "id": "10c30734",
   "metadata": {},
   "source": [
    "# `swift_too` module\n",
    "\n",
    "## Swift_TOO_Requests example - querying planned *Swift* observations\n",
    "\n",
    "### API version = 1.2, `swifttools` version = 2.2\n",
    "\n",
    "#### Author: Jamie A. Kennea (Penn State)\n",
    "\n",
    "The `Swift_TOO_Requests` allows the user to query submitted Swift TOO requests. This can be used either to retrieve detail on requests that you have submitted, or details on all TOO requests.\n",
    "\n",
    "Two important caveats:\n",
    "\n",
    "1. Detailed information on TOOs, including Science Justification text are only retrievable if you are the TOO submitter.\n",
    "\n",
    "2. Only details of approved TOO requests are available. TOOs that have been rejected cannot be fetched.\n",
    "\n",
    "This is therefore useful if you wish to retrieve what you have previously submitted, or see what the current active TOOs are, so you can see if someone has already submitted a TOO for the target you are interested in."
   ]
  },
  {
   "cell_type": "code",
   "execution_count": 1,
   "id": "4707436d",
   "metadata": {},
   "outputs": [],
   "source": [
    "from swifttools.swift_too import Swift_TOO_Requests"
   ]
  },
  {
   "cell_type": "markdown",
   "id": "bc24d815",
   "metadata": {},
   "source": [
    "### First example - the 20 most recent Swift TOO requests\n",
    "\n",
    "In this example we request information on the last 20 TOO requests approved for observation by Swift. No username or shared_secret needs to be submitted for this request, however if you do submit them the result will be no different. "
   ]
  },
  {
   "cell_type": "code",
   "execution_count": 2,
   "id": "4a1696d9",
   "metadata": {},
   "outputs": [],
   "source": [
    "toos = Swift_TOO_Requests(limit=20)"
   ]
  },
  {
   "cell_type": "code",
   "execution_count": 3,
   "id": "bbaa5569",
   "metadata": {},
   "outputs": [
    {
     "name": "stdout",
     "output_type": "stream",
     "text": [
      "Success!\n"
     ]
    }
   ],
   "source": [
    "if toos.submit():\n",
    "    print(\"Success!\")\n",
    "else:\n",
    "    print(\"Failure: {toos.status.errors}\")"
   ]
  },
  {
   "cell_type": "markdown",
   "id": "aca5818a",
   "metadata": {},
   "source": [
    "That should have worked, so we can now display the 20 most recent approved Swift TOOs by simply display"
   ]
  },
  {
   "cell_type": "code",
   "execution_count": 4,
   "id": "5bd376d9",
   "metadata": {},
   "outputs": [
    {
     "data": {
      "text/html": [
       "<table><thead><th style='text-align: left;'>ToO ID</th><th style='text-align: left;'>Object Name</th><th style='text-align: left;'>Instrument</th><th style='text-align: left;'>Right Ascenscion (J2000)</th><th style='text-align: left;'>Declination (J2000)</th><th style='text-align: left;'>UVOT Mode (Approved)</th><th style='text-align: left;'>XRT Mode (Approved)</th><th style='text-align: left;'>Time Submitted</th><th style='text-align: left;'>Requester</th><th style='text-align: left;'>Urgency</th><th style='text-align: left;'>Begin date</th><th style='text-align: left;'>End date</th><th style='text-align: left;'>Primary Target ID</th></thead><tr><td style='text-align: left;'>16758</td><td style='text-align: left;'>4FGL J2108.5+1434</td><td style='text-align: left;'>XRT</td><td style='text-align: left;'>317.15</td><td style='text-align: left;'>14.58</td><td style='text-align: left;'>0x9999</td><td style='text-align: left;'>PC</td><td style='text-align: left;'>2021-12-16 08:45:13</td><td style='text-align: left;'>Khatoon</td><td style='text-align: left;'>2</td><td style='text-align: left;'>2021-12-16</td><td style='text-align: left;'>2021-12-16</td><td style='text-align: left;'>14988</td></tr><tr><td style='text-align: left;'>16757</td><td style='text-align: left;'>4FGL J2100.0+1445</td><td style='text-align: left;'>XRT</td><td style='text-align: left;'>315.02</td><td style='text-align: left;'>14.76</td><td style='text-align: left;'>0x9999</td><td style='text-align: left;'>PC</td><td style='text-align: left;'>2021-12-16 08:39:26</td><td style='text-align: left;'>Khatoon</td><td style='text-align: left;'>2</td><td style='text-align: left;'>2021-12-16</td><td style='text-align: left;'>2021-12-16</td><td style='text-align: left;'>14987</td></tr><tr><td style='text-align: left;'>16756</td><td style='text-align: left;'>WISEA J181036.03-812023.4</td><td style='text-align: left;'>XRT</td><td style='text-align: left;'>272.64963</td><td style='text-align: left;'>-81.33975</td><td style='text-align: left;'>0x018c</td><td style='text-align: left;'>PC</td><td style='text-align: left;'>2021-12-16 06:31:55</td><td style='text-align: left;'>Krumpe</td><td style='text-align: left;'>3</td><td style='text-align: left;'>2021-12-19</td><td style='text-align: left;'>2021-12-19</td><td style='text-align: left;'>14930</td></tr><tr><td style='text-align: left;'>16755</td><td style='text-align: left;'>RX J1003.2-2607</td><td style='text-align: left;'>XRT</td><td style='text-align: left;'>150.82416666667</td><td style='text-align: left;'>-26.119722222222</td><td style='text-align: left;'>0x9999</td><td style='text-align: left;'>PC</td><td style='text-align: left;'>2021-12-16 06:04:11</td><td style='text-align: left;'>Liu</td><td style='text-align: left;'>3</td><td style='text-align: left;'>2021-12-23</td><td style='text-align: left;'>2021-12-23</td><td style='text-align: left;'>14863</td></tr><tr><td style='text-align: left;'>16754</td><td style='text-align: left;'>J1543+1006</td><td style='text-align: left;'>XRT</td><td style='text-align: left;'>235.99001</td><td style='text-align: left;'>10.103743</td><td style='text-align: left;'>0x2081</td><td style='text-align: left;'>PC</td><td style='text-align: left;'>2021-12-16 01:10:21</td><td style='text-align: left;'>Jiang</td><td style='text-align: left;'>3</td><td style='text-align: left;'>2021-12-22</td><td style='text-align: left;'>2021-12-22</td><td style='text-align: left;'>14986</td></tr><tr><td style='text-align: left;'>16753</td><td style='text-align: left;'>SN2020dhj</td><td style='text-align: left;'>XRT</td><td style='text-align: left;'>223.37659252</td><td style='text-align: left;'>17.2891396457</td><td style='text-align: left;'>0x223f</td><td style='text-align: left;'>PC</td><td style='text-align: left;'>2021-12-15 13:29:36</td><td style='text-align: left;'>Devarakonda</td><td style='text-align: left;'>4</td><td style='text-align: left;'>2021-12-29</td><td style='text-align: left;'>2021-12-29</td><td style='text-align: left;'>13278</td></tr><tr><td style='text-align: left;'>16752</td><td style='text-align: left;'>SN2020zpi</td><td style='text-align: left;'>XRT</td><td style='text-align: left;'>40.085208</td><td style='text-align: left;'>-1.446861</td><td style='text-align: left;'>0x223f</td><td style='text-align: left;'>PC</td><td style='text-align: left;'>2021-12-15 13:28:15</td><td style='text-align: left;'>Devarakonda</td><td style='text-align: left;'>4</td><td style='text-align: left;'>2021-12-26</td><td style='text-align: left;'>2021-12-26</td><td style='text-align: left;'>13897</td></tr><tr><td style='text-align: left;'>16751</td><td style='text-align: left;'>SN2020lil</td><td style='text-align: left;'>XRT</td><td style='text-align: left;'>219.498583</td><td style='text-align: left;'>9.388539</td><td style='text-align: left;'>0x223f</td><td style='text-align: left;'>PC</td><td style='text-align: left;'>2021-12-15 13:22:00</td><td style='text-align: left;'>Devarakonda</td><td style='text-align: left;'>4</td><td style='text-align: left;'>2021-12-24</td><td style='text-align: left;'>2021-12-24</td><td style='text-align: left;'>13556</td></tr><tr><td style='text-align: left;'>16750</td><td style='text-align: left;'>OJ 287</td><td style='text-align: left;'>XRT</td><td style='text-align: left;'>133.70375</td><td style='text-align: left;'>20.108611111111</td><td style='text-align: left;'>0x30ed</td><td style='text-align: left;'>PC</td><td style='text-align: left;'>2021-12-15 11:42:13</td><td style='text-align: left;'>Komossa</td><td style='text-align: left;'>3</td><td style='text-align: left;'>2021-12-19</td><td style='text-align: left;'>2022-01-15</td><td style='text-align: left;'>35905</td></tr><tr><td style='text-align: left;'>16749</td><td style='text-align: left;'>ZTF18aaayemw</td><td style='text-align: left;'>XRT</td><td style='text-align: left;'>134.898294</td><td style='text-align: left;'>45.611627</td><td style='text-align: left;'>0x223f</td><td style='text-align: left;'>PC</td><td style='text-align: left;'>2021-12-15 09:56:29</td><td style='text-align: left;'>Irani</td><td style='text-align: left;'>4</td><td style='text-align: left;'>2021-12-26</td><td style='text-align: left;'>2021-12-26</td><td style='text-align: left;'>10573</td></tr><tr><td style='text-align: left;'>16748</td><td style='text-align: left;'>ZTF20abqkaoc</td><td style='text-align: left;'>XRT</td><td style='text-align: left;'>250.983433</td><td style='text-align: left;'>77.879879</td><td style='text-align: left;'>0x223f</td><td style='text-align: left;'>PC</td><td style='text-align: left;'>2021-12-15 09:47:07</td><td style='text-align: left;'>Irani</td><td style='text-align: left;'>4</td><td style='text-align: left;'>2021-12-26</td><td style='text-align: left;'>2021-12-26</td><td style='text-align: left;'>13638</td></tr><tr><td style='text-align: left;'>16747</td><td style='text-align: left;'>ZTF20abybeex</td><td style='text-align: left;'>XRT</td><td style='text-align: left;'>260.769559</td><td style='text-align: left;'>55.072465</td><td style='text-align: left;'>0x223f</td><td style='text-align: left;'>PC</td><td style='text-align: left;'>2021-12-15 09:38:14</td><td style='text-align: left;'>Irani</td><td style='text-align: left;'>4</td><td style='text-align: left;'>2021-12-27</td><td style='text-align: left;'>2021-12-27</td><td style='text-align: left;'>13682</td></tr><tr><td style='text-align: left;'>16746</td><td style='text-align: left;'>ZTF21aasfseg</td><td style='text-align: left;'>XRT</td><td style='text-align: left;'>132.5587009</td><td style='text-align: left;'>37.0269863</td><td style='text-align: left;'>0x223f</td><td style='text-align: left;'>PC</td><td style='text-align: left;'>2021-12-15 09:21:48</td><td style='text-align: left;'>Irani</td><td style='text-align: left;'>4</td><td style='text-align: left;'>2021-12-27</td><td style='text-align: left;'>2021-12-27</td><td style='text-align: left;'>14254</td></tr><tr><td style='text-align: left;'>16745</td><td style='text-align: left;'>ZTF18aabybkt</td><td style='text-align: left;'>XRT</td><td style='text-align: left;'>207.169734</td><td style='text-align: left;'>43.418372</td><td style='text-align: left;'>0x223f</td><td style='text-align: left;'>PC</td><td style='text-align: left;'>2021-12-15 09:09:58</td><td style='text-align: left;'>Irani</td><td style='text-align: left;'>4</td><td style='text-align: left;'>2021-12-25</td><td style='text-align: left;'>2021-12-25</td><td style='text-align: left;'>10595</td></tr><tr><td style='text-align: left;'>16744</td><td style='text-align: left;'>ZTF19aatesgp</td><td style='text-align: left;'>XRT</td><td style='text-align: left;'>185.733969</td><td style='text-align: left;'>15.826129</td><td style='text-align: left;'>0x223f</td><td style='text-align: left;'>PC</td><td style='text-align: left;'>2021-12-15 08:57:24</td><td style='text-align: left;'>Irani</td><td style='text-align: left;'>4</td><td style='text-align: left;'>2021-12-26</td><td style='text-align: left;'>2021-12-26</td><td style='text-align: left;'>11339</td></tr><tr><td style='text-align: left;'>16743</td><td style='text-align: left;'>Q0957+561</td><td style='text-align: left;'>XRT</td><td style='text-align: left;'>150.336129</td><td style='text-align: left;'>55.898783</td><td style='text-align: left;'>0x30ed</td><td style='text-align: left;'>PC</td><td style='text-align: left;'>2021-12-15 07:45:14</td><td style='text-align: left;'>Jiang</td><td style='text-align: left;'>3</td><td style='text-align: left;'>2021-12-24</td><td style='text-align: left;'>2021-12-24</td><td style='text-align: left;'>31567</td></tr><tr><td style='text-align: left;'>16742</td><td style='text-align: left;'>PKS 0735+178</td><td style='text-align: left;'>XRT</td><td style='text-align: left;'>114.5308</td><td style='text-align: left;'>17.7053</td><td style='text-align: left;'>0x30ed</td><td style='text-align: left;'>PC</td><td style='text-align: left;'>2021-12-15 07:33:13</td><td style='text-align: left;'>Prince</td><td style='text-align: left;'>3</td><td style='text-align: left;'>2021-12-17</td><td style='text-align: left;'>2021-12-17</td><td style='text-align: left;'>36372</td></tr><tr><td style='text-align: left;'>16741</td><td style='text-align: left;'>4C +02.23</td><td style='text-align: left;'>XRT</td><td style='text-align: left;'>123.84567</td><td style='text-align: left;'>1.9165225</td><td style='text-align: left;'>0x30ed</td><td style='text-align: left;'>PC</td><td style='text-align: left;'>2021-12-14 20:43:03</td><td style='text-align: left;'>Jiang</td><td style='text-align: left;'>3</td><td style='text-align: left;'>2021-12-19</td><td style='text-align: left;'>2021-12-19</td><td style='text-align: left;'>14985</td></tr><tr><td style='text-align: left;'>16740</td><td style='text-align: left;'>SXP 15.6</td><td style='text-align: left;'>XRT</td><td style='text-align: left;'>12.228890419006</td><td style='text-align: left;'>-73.829299926758</td><td style='text-align: left;'>0x9999</td><td style='text-align: left;'>PC</td><td style='text-align: left;'>2021-12-14 10:01:24</td><td style='text-align: left;'>Kennea</td><td style='text-align: left;'>3</td><td style='text-align: left;'>2021-12-17</td><td style='text-align: left;'>2021-12-29</td><td style='text-align: left;'>34599</td></tr><tr><td style='text-align: left;'>16739</td><td style='text-align: left;'>FRB200919</td><td style='text-align: left;'>XRT</td><td style='text-align: left;'>331.87375</td><td style='text-align: left;'>-80.109583333333</td><td style='text-align: left;'>0x01aa</td><td style='text-align: left;'>PC</td><td style='text-align: left;'>2021-12-14 07:49:52</td><td style='text-align: left;'>Zhang</td><td style='text-align: left;'>4</td><td style='text-align: left;'>2021-12-17</td><td style='text-align: left;'>2021-12-17</td><td style='text-align: left;'>13708</td></tr></table>"
      ],
      "text/plain": [
       "Swift_TOO_Requests(username='anonymous',limit='20',detail='False',radius='0.19333333333333333')"
      ]
     },
     "execution_count": 4,
     "metadata": {},
     "output_type": "execute_result"
    }
   ],
   "source": [
    "toos"
   ]
  },
  {
   "cell_type": "markdown",
   "id": "bc0d2511",
   "metadata": {},
   "source": [
    "We can also display all the information we obtained for each TOO request as follows, to display the first (and by default most recent) TOO in the list above, do the following."
   ]
  },
  {
   "cell_type": "code",
   "execution_count": 5,
   "id": "0cc82450",
   "metadata": {},
   "outputs": [
    {
     "data": {
      "text/html": [
       "<table><thead><th style='text-align: left;'>Parameter</th><th style='text-align: left;'>Value</th></thead><tr><td style='text-align: left;'>ToO ID</td><td style='text-align: left;'>16758</td></tr><tr><td style='text-align: left;'>Requester</td><td style='text-align: left;'>Khatoon</td></tr><tr><td style='text-align: left;'>Time Submitted</td><td style='text-align: left;'>2021-12-16 08:45:13</td></tr><tr><td style='text-align: left;'>Urgency</td><td style='text-align: left;'>2</td></tr><tr><td style='text-align: left;'>Object Name</td><td style='text-align: left;'>4FGL J2108.5+1434</td></tr><tr><td style='text-align: left;'>Type or Classification</td><td style='text-align: left;'>AGN</td></tr><tr><td style='text-align: left;'>Right Ascenscion (J2000)</td><td style='text-align: left;'>317.15</td></tr><tr><td style='text-align: left;'>Declination (J2000)</td><td style='text-align: left;'>14.58</td></tr><tr><td style='text-align: left;'>Position Error (90% confidence - arcminutes)</td><td style='text-align: left;'>0</td></tr><tr><td style='text-align: left;'>Exposure Time per Visit (s)</td><td style='text-align: left;'>2000</td></tr><tr><td style='text-align: left;'>Number of Visits</td><td style='text-align: left;'>1</td></tr><tr><td style='text-align: left;'>Total Exposure (s)</td><td style='text-align: left;'>2000</td></tr><tr><td style='text-align: left;'>Instrument</td><td style='text-align: left;'>XRT</td></tr><tr><td style='text-align: left;'>XRT Mode (Approved)</td><td style='text-align: left;'>PC</td></tr><tr><td style='text-align: left;'>UVOT Mode (Approved)</td><td style='text-align: left;'>0x9999</td></tr><tr><td style='text-align: left;'>Primary Target ID</td><td style='text-align: left;'>14988</td></tr></table>"
      ],
      "text/plain": [
       "Swift_TOO_Request(source_name='4FGL J2108.5+1434',source_type='AGN',ra='317.15',dec='14.58',poserr='0',instrument='XRT',urgency='2',num_of_visits='1',xrt_mode='PC',uvot_mode='0x9999',obs_n='single',debug='False')"
      ]
     },
     "execution_count": 5,
     "metadata": {},
     "output_type": "execute_result"
    }
   ],
   "source": [
    "toos[0]"
   ]
  },
  {
   "cell_type": "markdown",
   "id": "7c79a94b",
   "metadata": {},
   "source": [
    "If you want to fetch the information for a given `too_id` value, you get use the `by_id` method. Here is an example:"
   ]
  },
  {
   "cell_type": "code",
   "execution_count": 6,
   "id": "ac475b10",
   "metadata": {},
   "outputs": [
    {
     "data": {
      "text/html": [
       "<table><thead><th style='text-align: left;'>Parameter</th><th style='text-align: left;'>Value</th></thead><tr><td style='text-align: left;'>ToO ID</td><td style='text-align: left;'>16740</td></tr><tr><td style='text-align: left;'>Requester</td><td style='text-align: left;'>Kennea</td></tr><tr><td style='text-align: left;'>Time Submitted</td><td style='text-align: left;'>2021-12-14 10:01:24</td></tr><tr><td style='text-align: left;'>Urgency</td><td style='text-align: left;'>3</td></tr><tr><td style='text-align: left;'>Object Name</td><td style='text-align: left;'>SXP 15.6</td></tr><tr><td style='text-align: left;'>Type or Classification</td><td style='text-align: left;'>Be Binary System</td></tr><tr><td style='text-align: left;'>Right Ascenscion (J2000)</td><td style='text-align: left;'>12.228890419006</td></tr><tr><td style='text-align: left;'>Declination (J2000)</td><td style='text-align: left;'>-73.829299926758</td></tr><tr><td style='text-align: left;'>Position Error (90% confidence - arcminutes)</td><td style='text-align: left;'>0</td></tr><tr><td style='text-align: left;'>Exposure Time per Visit (s)</td><td style='text-align: left;'>2000</td></tr><tr><td style='text-align: left;'>Number of Visits</td><td style='text-align: left;'>7</td></tr><tr><td style='text-align: left;'>Total Exposure (s)</td><td style='text-align: left;'>14000</td></tr><tr><td style='text-align: left;'>Instrument</td><td style='text-align: left;'>XRT</td></tr><tr><td style='text-align: left;'>XRT Mode (Approved)</td><td style='text-align: left;'>PC</td></tr><tr><td style='text-align: left;'>UVOT Mode (Approved)</td><td style='text-align: left;'>0x9999</td></tr><tr><td style='text-align: left;'>Primary Target ID</td><td style='text-align: left;'>34599</td></tr></table>"
      ],
      "text/plain": [
       "Swift_TOO_Request(source_name='SXP 15.6',source_type='Be Binary System',ra='12.228890419006',dec='-73.829299926758',poserr='0',instrument='XRT',urgency='3',num_of_visits='1',xrt_mode='PC',uvot_mode='0x9999',obs_n='single',debug='False')"
      ]
     },
     "execution_count": 6,
     "metadata": {},
     "output_type": "execute_result"
    }
   ],
   "source": [
    "toos.by_id(16740)"
   ]
  },
  {
   "cell_type": "markdown",
   "id": "e27a7ce1",
   "metadata": {},
   "source": [
    "### Displaying the scheduling information for a TOO\n",
    "\n",
    "If you are interested to know when/if a TOO has been scheduled in the Swift Planning calendar, you can obtain this information by looking that the `calendar` attribute. This is an instance of the `Swift_Calendar` class. You can display it as follows."
   ]
  },
  {
   "cell_type": "code",
   "execution_count": 7,
   "id": "8f309424",
   "metadata": {},
   "outputs": [
    {
     "data": {
      "text/html": [
       "<table><thead><th style='text-align: left;'>#</th><th style='text-align: left;'>Start</th><th style='text-align: left;'>Stop</th><th style='text-align: left;'>XRT Mode</th><th style='text-align: left;'>UVOT Mode</th><th style='text-align: left;'>Exposure (s)</th><th style='text-align: left;'>AFST (s)</th></thead><tr><td style='text-align: left;'>0</td><td style='text-align: left;'>2021-12-17 00:00:00</td><td style='text-align: left;'>2021-12-18 00:00:00</td><td style='text-align: left;'>PC</td><td style='text-align: left;'>0x9999</td><td style='text-align: left;'>2000</td><td style='text-align: left;'>0</td></tr><tr><td style='text-align: left;'>1</td><td style='text-align: left;'>2021-12-19 00:00:00</td><td style='text-align: left;'>2021-12-20 00:00:00</td><td style='text-align: left;'>PC</td><td style='text-align: left;'>0x9999</td><td style='text-align: left;'>2000</td><td style='text-align: left;'>0</td></tr><tr><td style='text-align: left;'>2</td><td style='text-align: left;'>2021-12-21 00:00:00</td><td style='text-align: left;'>2021-12-22 00:00:00</td><td style='text-align: left;'>PC</td><td style='text-align: left;'>0x9999</td><td style='text-align: left;'>2000</td><td style='text-align: left;'>0</td></tr><tr><td style='text-align: left;'>3</td><td style='text-align: left;'>2021-12-23 00:00:00</td><td style='text-align: left;'>2021-12-24 00:00:00</td><td style='text-align: left;'>PC</td><td style='text-align: left;'>0x9999</td><td style='text-align: left;'>2000</td><td style='text-align: left;'>0</td></tr><tr><td style='text-align: left;'>4</td><td style='text-align: left;'>2021-12-25 00:00:00</td><td style='text-align: left;'>2021-12-26 00:00:00</td><td style='text-align: left;'>PC</td><td style='text-align: left;'>0x9999</td><td style='text-align: left;'>2000</td><td style='text-align: left;'>0</td></tr><tr><td style='text-align: left;'>5</td><td style='text-align: left;'>2021-12-27 00:00:00</td><td style='text-align: left;'>2021-12-28 00:00:00</td><td style='text-align: left;'>PC</td><td style='text-align: left;'>0x9999</td><td style='text-align: left;'>2000</td><td style='text-align: left;'>0</td></tr><tr><td style='text-align: left;'>6</td><td style='text-align: left;'>2021-12-29 00:00:00</td><td style='text-align: left;'>2021-12-30 00:00:00</td><td style='text-align: left;'>PC</td><td style='text-align: left;'>0x9999</td><td style='text-align: left;'>2000</td><td style='text-align: left;'>0</td></tr></table>"
      ],
      "text/plain": [
       "Swift_Calendar(username='anonymous',too_id='16740')"
      ]
     },
     "execution_count": 7,
     "metadata": {},
     "output_type": "execute_result"
    }
   ],
   "source": [
    "toos.by_id(16740).calendar"
   ]
  },
  {
   "cell_type": "markdown",
   "id": "04590d3d",
   "metadata": {},
   "source": [
    "You can see here that the calendar has even more information about the TOO. This includes the start and end time of each window, the XRT and UVOT modes used, the requested exposure time per window, and the column **AFST** shows the amount of exposure time taken on that target during the window.\n",
    "\n",
    "Note that a window here is a period of time for which an observation is requested to occur. If the window is a day long, that typically means that the observation can be scheduled at any time during the day. Shorter windows with specific start and end times typically denotes a time constrained observation, e.g. an observation coordinated with another telescope, or an observation where obtaining an observation at a given orbital phase is requested.\n",
    "\n",
    "Note the AFST column is just a guide. It only shows observations taken with the window, so if an observation were taken the next day, or not completely in the window, it will not reflect the full observation time. In order to obtain information about Swift observations of any given Target, use a `Swift_ObsQuery`."
   ]
  },
  {
   "cell_type": "markdown",
   "id": "94351dba",
   "metadata": {},
   "source": [
    "### Public vs Private TOO Requests\n",
    "\n",
    "So far the information we have retrieved is what is available publically. This is limited for privacy reasons, but if you have submitted a TOO yourself, you can retrieve more information. Note that the following is a TOO request made by the author. I have redacted my username for privacy reasons."
   ]
  },
  {
   "cell_type": "code",
   "execution_count": 8,
   "id": "80c9750b",
   "metadata": {},
   "outputs": [
    {
     "data": {
      "text/html": [
       "<table><thead><th style='text-align: left;'>Parameter</th><th style='text-align: left;'>Value</th></thead><tr><td style='text-align: left;'>status</td><td style='text-align: left;'>Accepted</td></tr><tr><td style='text-align: left;'>jobnumber</td><td style='text-align: left;'>114333</td></tr></table>"
      ],
      "text/plain": [
       "Swift_TOO_Status(jobnumber='114333')"
      ]
     },
     "execution_count": 8,
     "metadata": {},
     "output_type": "execute_result"
    }
   ],
   "source": [
    "mytoo = Swift_TOO_Requests()\n",
    "mytoo.username = 'XXXXXX'\n",
    "mytoo.detail = True\n",
    "mytoo.too_id = 16740\n",
    "mytoo.submit()\n",
    "mytoo.status\n"
   ]
  },
  {
   "cell_type": "code",
   "execution_count": 9,
   "id": "86aa8a79",
   "metadata": {},
   "outputs": [
    {
     "data": {
      "text/html": [
       "<table><thead><th style='text-align: left;'>Parameter</th><th style='text-align: left;'>Value</th></thead><tr><td style='text-align: left;'>ToO ID</td><td style='text-align: left;'>16740</td></tr><tr><td style='text-align: left;'>Requester</td><td style='text-align: left;'>Kennea</td></tr><tr><td style='text-align: left;'>Time Submitted</td><td style='text-align: left;'>2021-12-14 10:01:24</td></tr><tr><td style='text-align: left;'>Urgency</td><td style='text-align: left;'>3</td></tr><tr><td style='text-align: left;'>Object Name</td><td style='text-align: left;'>SXP 15.6</td></tr><tr><td style='text-align: left;'>Type or Classification</td><td style='text-align: left;'>Be Binary System</td></tr><tr><td style='text-align: left;'>Right Ascenscion (J2000)</td><td style='text-align: left;'>12.228890419006</td></tr><tr><td style='text-align: left;'>Declination (J2000)</td><td style='text-align: left;'>-73.829299926758</td></tr><tr><td style='text-align: left;'>Position Error (90% confidence - arcminutes)</td><td style='text-align: left;'>0</td></tr><tr><td style='text-align: left;'>Science Justification</td><td style='text-align: left;'>SXP was discovered to be in outburst by S-CUBED, the brightest outburst ever seen since the survey began. https://www.astronomerstelegram.org/?read=15054\r\n",
       "\r\n",
       "SXP 15.6 outburst appeared to be fading, but the last 2 observations have shown it to be rebrightening again. We wish to continue to monitor the source in outburst.</td></tr><tr><td style='text-align: left;'>XRT Estimated Rate (c/s)</td><td style='text-align: left;'>0.8</td></tr><tr><td style='text-align: left;'>Exposure Time per Visit (s)</td><td style='text-align: left;'>2000</td></tr><tr><td style='text-align: left;'>Number of Visits</td><td style='text-align: left;'>7</td></tr><tr><td style='text-align: left;'>Total Exposure (s)</td><td style='text-align: left;'>14000</td></tr><tr><td style='text-align: left;'>Monitoring Cadence</td><td style='text-align: left;'>2 day</td></tr><tr><td style='text-align: left;'>Immediate Objective</td><td style='text-align: left;'>We wish to continue monitoring the outburst of this Be/XRB which was discovered to be in outburst by the S-CUBED survey.</td></tr><tr><td style='text-align: left;'>Exposure Time Justification</td><td style='text-align: left;'>2ks per observation allows for an accurate measurement of flux. 1ks would suffice if time is limited, but accuracy would be less.</td></tr><tr><td style='text-align: left;'>Instrument</td><td style='text-align: left;'>XRT</td></tr><tr><td style='text-align: left;'>What is Driving the Exposure Time?</td><td style='text-align: left;'>Light Curve</td></tr><tr><td style='text-align: left;'>XRT Mode (Approved)</td><td style='text-align: left;'>PC</td></tr><tr><td style='text-align: left;'>UVOT Mode (Approved)</td><td style='text-align: left;'>0x9999</td></tr><tr><td style='text-align: left;'>Primary Target ID</td><td style='text-align: left;'>34599</td></tr></table>"
      ],
      "text/plain": [
       "Swift_TOO_Request(username='XXXXXX',source_name='SXP 15.6',source_type='Be Binary System',ra='12.228890419006',dec='-73.829299926758',poserr='0',instrument='XRT',urgency='3',xrt_countrate='0.8',immediate_objective='We wish to continue monitoring the outburst of this Be/XRB which was discovered to be in outburst by the S-CUBED survey.',science_just='SXP was discovered to be in outburst by S-CUBED, the brightest outburst ever seen since the survey began. https://www.astronomerstelegram.org/?read=15054\n",
       "\n",
       "SXP 15.6 outburst appeared to be fading, but the last 2 observations have shown it to be rebrightening again. We wish to continue to monitor the source in outburst.',exp_time_just='2ks per observation allows for an accurate measurement of flux. 1ks would suffice if time is limited, but accuracy would be less.',num_of_visits='1',monitoring_freq='2 day',proposal='no',xrt_mode='PC',uvot_mode='0x9999: Default (Filter of the day)',uvot_just='',tiling='No',number_of_tiles='None',obs_n='single',obs_type='Light Curve',debug='False')"
      ]
     },
     "execution_count": 9,
     "metadata": {},
     "output_type": "execute_result"
    }
   ],
   "source": [
    "mytoo[0]"
   ]
  },
  {
   "cell_type": "code",
   "execution_count": 10,
   "id": "c214664f",
   "metadata": {},
   "outputs": [
    {
     "data": {
      "text/html": [
       "<table><thead><th style='text-align: left;'>#</th><th style='text-align: left;'>Start</th><th style='text-align: left;'>Stop</th><th style='text-align: left;'>XRT Mode</th><th style='text-align: left;'>UVOT Mode</th><th style='text-align: left;'>Exposure (s)</th><th style='text-align: left;'>AFST (s)</th></thead><tr><td style='text-align: left;'>0</td><td style='text-align: left;'>2021-12-17 00:00:00</td><td style='text-align: left;'>2021-12-18 00:00:00</td><td style='text-align: left;'>PC</td><td style='text-align: left;'>0x9999</td><td style='text-align: left;'>2000</td><td style='text-align: left;'>0</td></tr><tr><td style='text-align: left;'>1</td><td style='text-align: left;'>2021-12-19 00:00:00</td><td style='text-align: left;'>2021-12-20 00:00:00</td><td style='text-align: left;'>PC</td><td style='text-align: left;'>0x9999</td><td style='text-align: left;'>2000</td><td style='text-align: left;'>0</td></tr><tr><td style='text-align: left;'>2</td><td style='text-align: left;'>2021-12-21 00:00:00</td><td style='text-align: left;'>2021-12-22 00:00:00</td><td style='text-align: left;'>PC</td><td style='text-align: left;'>0x9999</td><td style='text-align: left;'>2000</td><td style='text-align: left;'>0</td></tr><tr><td style='text-align: left;'>3</td><td style='text-align: left;'>2021-12-23 00:00:00</td><td style='text-align: left;'>2021-12-24 00:00:00</td><td style='text-align: left;'>PC</td><td style='text-align: left;'>0x9999</td><td style='text-align: left;'>2000</td><td style='text-align: left;'>0</td></tr><tr><td style='text-align: left;'>4</td><td style='text-align: left;'>2021-12-25 00:00:00</td><td style='text-align: left;'>2021-12-26 00:00:00</td><td style='text-align: left;'>PC</td><td style='text-align: left;'>0x9999</td><td style='text-align: left;'>2000</td><td style='text-align: left;'>0</td></tr><tr><td style='text-align: left;'>5</td><td style='text-align: left;'>2021-12-27 00:00:00</td><td style='text-align: left;'>2021-12-28 00:00:00</td><td style='text-align: left;'>PC</td><td style='text-align: left;'>0x9999</td><td style='text-align: left;'>2000</td><td style='text-align: left;'>0</td></tr><tr><td style='text-align: left;'>6</td><td style='text-align: left;'>2021-12-29 00:00:00</td><td style='text-align: left;'>2021-12-30 00:00:00</td><td style='text-align: left;'>PC</td><td style='text-align: left;'>0x9999</td><td style='text-align: left;'>2000</td><td style='text-align: left;'>0</td></tr></table>"
      ],
      "text/plain": [
       "Swift_Calendar(username='anonymous',too_id='16740')"
      ]
     },
     "execution_count": 10,
     "metadata": {},
     "output_type": "execute_result"
    }
   ],
   "source": [
    "mytoo[0].calendar"
   ]
  },
  {
   "cell_type": "markdown",
   "id": "feeb66c8",
   "metadata": {},
   "source": [
    "### Other ways to search TOOs\n",
    "\n",
    "You can also search on TOOs using other methods, for example, if you want to know how many TOOs for Vela X-1 have been submitted, you can search on the RA/Dec of that object."
   ]
  },
  {
   "cell_type": "code",
   "execution_count": 11,
   "id": "ed66f6d8",
   "metadata": {},
   "outputs": [
    {
     "data": {
      "text/html": [
       "<table><thead><th style='text-align: left;'>ToO ID</th><th style='text-align: left;'>Object Name</th><th style='text-align: left;'>Instrument</th><th style='text-align: left;'>Right Ascenscion (J2000)</th><th style='text-align: left;'>Declination (J2000)</th><th style='text-align: left;'>UVOT Mode (Approved)</th><th style='text-align: left;'>XRT Mode (Approved)</th><th style='text-align: left;'>Time Submitted</th><th style='text-align: left;'>Requester</th><th style='text-align: left;'>Urgency</th><th style='text-align: left;'>Begin date</th><th style='text-align: left;'>End date</th><th style='text-align: left;'>Primary Target ID</th></thead><tr><td style='text-align: left;'>14657</td><td style='text-align: left;'>Vela X-1</td><td style='text-align: left;'>XRT</td><td style='text-align: left;'>135.528588</td><td style='text-align: left;'>-40.554693</td><td style='text-align: left;'>0x0ff3</td><td style='text-align: left;'>WT</td><td style='text-align: left;'>2020-10-09 05:15:49</td><td style='text-align: left;'>van den Eijnden</td><td style='text-align: left;'>3</td><td style='text-align: left;'>2020-10-11</td><td style='text-align: left;'>2020-10-11</td><td style='text-align: left;'>33047</td></tr><tr><td style='text-align: left;'>14560</td><td style='text-align: left;'>Vela X-1</td><td style='text-align: left;'>XRT</td><td style='text-align: left;'>135.528588</td><td style='text-align: left;'>-40.554693</td><td style='text-align: left;'>0x0ff3</td><td style='text-align: left;'>WT</td><td style='text-align: left;'>2020-09-21 09:29:19</td><td style='text-align: left;'>van den Eijnden</td><td style='text-align: left;'>3</td><td style='text-align: left;'>2020-09-25</td><td style='text-align: left;'>2020-09-28</td><td style='text-align: left;'>33047</td></tr><tr><td style='text-align: left;'>11308</td><td style='text-align: left;'>Vela X-1</td><td style='text-align: left;'>XRT</td><td style='text-align: left;'>135.52858333333</td><td style='text-align: left;'>-40.554694444444</td><td style='text-align: left;'>0x9999</td><td style='text-align: left;'>WT</td><td style='text-align: left;'>2018-10-29 10:51:42</td><td style='text-align: left;'>Miller</td><td style='text-align: left;'>3</td><td style='text-align: left;'>2018-12-14</td><td style='text-align: left;'>2019-01-10</td><td style='text-align: left;'>33047</td></tr><tr><td style='text-align: left;'>6264</td><td style='text-align: left;'>Vela X-1</td><td style='text-align: left;'>XRT</td><td style='text-align: left;'>135.52858333333</td><td style='text-align: left;'>-40.554694444444</td><td style='text-align: left;'>0x0ff3</td><td style='text-align: left;'>Auto</td><td style='text-align: left;'>2014-12-19 04:15:13</td><td style='text-align: left;'>Kretschmar</td><td style='text-align: left;'>4</td><td style='text-align: left;'>2014-12-28</td><td style='text-align: left;'>2015-01-26</td><td style='text-align: left;'>33047</td></tr><tr><td style='text-align: left;'>5241</td><td style='text-align: left;'>Vela X-1</td><td style='text-align: left;'>XRT</td><td style='text-align: left;'>135.52858333333</td><td style='text-align: left;'>-40.554694444444</td><td style='text-align: left;'>0x9999</td><td style='text-align: left;'>Auto</td><td style='text-align: left;'>2013-12-02 10:16:04</td><td style='text-align: left;'>Romano</td><td style='text-align: left;'>3</td><td style='text-align: left;'>2013-12-02</td><td style='text-align: left;'>2013-12-08</td><td style='text-align: left;'>33047</td></tr></table>"
      ],
      "text/plain": [
       "Swift_TOO_Requests(username='anonymous',detail='False',ra='135.528588',dec='-40.554693',radius='0.19333333333333333')"
      ]
     },
     "execution_count": 11,
     "metadata": {},
     "output_type": "execute_result"
    }
   ],
   "source": [
    "Swift_TOO_Requests(limit=None,ra=135.528588, dec=-40.554693)"
   ]
  },
  {
   "cell_type": "markdown",
   "id": "9a7b7e89",
   "metadata": {},
   "source": [
    "You can also search for TOOs submitted within a certain date range... Say, how many TOOs submitted on Jan 1st, 2020?"
   ]
  },
  {
   "cell_type": "code",
   "execution_count": 12,
   "id": "45ccbc75",
   "metadata": {},
   "outputs": [
    {
     "data": {
      "text/html": [
       "<table><thead><th style='text-align: left;'>ToO ID</th><th style='text-align: left;'>Object Name</th><th style='text-align: left;'>Instrument</th><th style='text-align: left;'>Right Ascenscion (J2000)</th><th style='text-align: left;'>Declination (J2000)</th><th style='text-align: left;'>UVOT Mode (Approved)</th><th style='text-align: left;'>XRT Mode (Approved)</th><th style='text-align: left;'>Time Submitted</th><th style='text-align: left;'>Requester</th><th style='text-align: left;'>Urgency</th><th style='text-align: left;'>Begin date</th><th style='text-align: left;'>End date</th><th style='text-align: left;'>Primary Target ID</th></thead><tr><td style='text-align: left;'>13328</td><td style='text-align: left;'>AT2019yvq</td><td style='text-align: left;'>XRT</td><td style='text-align: left;'>186.840375</td><td style='text-align: left;'>64.799917</td><td style='text-align: left;'>0x223f</td><td style='text-align: left;'>PC</td><td style='text-align: left;'>2020-01-01 20:26:05</td><td style='text-align: left;'>Hiramatsu</td><td style='text-align: left;'>3</td><td style='text-align: left;'>2020-01-05</td><td style='text-align: left;'>2020-01-13</td><td style='text-align: left;'>13037</td></tr><tr><td style='text-align: left;'>13327</td><td style='text-align: left;'>B2 1420+32</td><td style='text-align: left;'>XRT</td><td style='text-align: left;'>215.62658333333</td><td style='text-align: left;'>32.386233333333</td><td style='text-align: left;'>0x0270</td><td style='text-align: left;'>PC</td><td style='text-align: left;'>2020-01-01 13:03:09</td><td style='text-align: left;'>Bonnoli</td><td style='text-align: left;'>2</td><td style='text-align: left;'>2020-01-02</td><td style='text-align: left;'>2020-01-02</td><td style='text-align: left;'>10520</td></tr><tr><td style='text-align: left;'>13326</td><td style='text-align: left;'>3C 66A</td><td style='text-align: left;'>XRT</td><td style='text-align: left;'>35.665041666667</td><td style='text-align: left;'>43.0355</td><td style='text-align: left;'>0x0270</td><td style='text-align: left;'>PC</td><td style='text-align: left;'>2020-01-01 12:35:36</td><td style='text-align: left;'>Bonnoli</td><td style='text-align: left;'>2</td><td style='text-align: left;'>2020-01-01</td><td style='text-align: left;'>2020-01-02</td><td style='text-align: left;'>31271</td></tr></table>"
      ],
      "text/plain": [
       "Swift_TOO_Requests(username='anonymous',limit='10',detail='False',radius='0.19333333333333333',begin='2020-01-01 00:00:00',length='1.0')"
      ]
     },
     "execution_count": 12,
     "metadata": {},
     "output_type": "execute_result"
    }
   ],
   "source": [
    "Swift_TOO_Requests(begin='2020-01-01',end='2020-01-02')"
   ]
  },
  {
   "cell_type": "markdown",
   "id": "f1cde8d9",
   "metadata": {},
   "source": [
    "How about the first week of 2019? Note that I have to set `limit` = `None` here because otherwise, it will only return 10 by default."
   ]
  },
  {
   "cell_type": "code",
   "execution_count": 13,
   "id": "a11f6df8",
   "metadata": {},
   "outputs": [
    {
     "data": {
      "text/plain": [
       "True"
      ]
     },
     "execution_count": 13,
     "metadata": {},
     "output_type": "execute_result"
    }
   ],
   "source": [
    "req = Swift_TOO_Requests()\n",
    "req.begin='2019-01-01'\n",
    "req.length=7\n",
    "req.limit=None\n",
    "req.submit()"
   ]
  },
  {
   "cell_type": "code",
   "execution_count": 14,
   "id": "705b58da",
   "metadata": {},
   "outputs": [
    {
     "data": {
      "text/html": [
       "<table><thead><th style='text-align: left;'>ToO ID</th><th style='text-align: left;'>Object Name</th><th style='text-align: left;'>Instrument</th><th style='text-align: left;'>Right Ascenscion (J2000)</th><th style='text-align: left;'>Declination (J2000)</th><th style='text-align: left;'>UVOT Mode (Approved)</th><th style='text-align: left;'>XRT Mode (Approved)</th><th style='text-align: left;'>Time Submitted</th><th style='text-align: left;'>Requester</th><th style='text-align: left;'>Urgency</th><th style='text-align: left;'>Begin date</th><th style='text-align: left;'>End date</th><th style='text-align: left;'>Primary Target ID</th></thead><tr><td style='text-align: left;'>11575</td><td style='text-align: left;'>PKS 2246+208</td><td style='text-align: left;'>XRT</td><td style='text-align: left;'>342.2523612</td><td style='text-align: left;'>21.1174542</td><td style='text-align: left;'>0x30ed</td><td style='text-align: left;'>PC</td><td style='text-align: left;'>2019-01-07 15:18:38</td><td style='text-align: left;'>Ciprini</td><td style='text-align: left;'>2</td><td style='text-align: left;'>2019-01-08</td><td style='text-align: left;'>2019-01-14</td><td style='text-align: left;'>11092</td></tr><tr><td style='text-align: left;'>11574</td><td style='text-align: left;'>2XMM J160050.7-514245</td><td style='text-align: left;'>XRT</td><td style='text-align: left;'>240.21125</td><td style='text-align: left;'>-51.7125</td><td style='text-align: left;'>0x9999</td><td style='text-align: left;'>PC</td><td style='text-align: left;'>2019-01-07 15:13:07</td><td style='text-align: left;'>Miller</td><td style='text-align: left;'>3</td><td style='text-align: left;'>2019-01-10</td><td style='text-align: left;'>2019-01-10</td><td style='text-align: left;'>11090</td></tr><tr><td style='text-align: left;'>11573</td><td style='text-align: left;'>sn2019bm</td><td style='text-align: left;'>XRT</td><td style='text-align: left;'>179.31808333333</td><td style='text-align: left;'>36.416308333333</td><td style='text-align: left;'>0x223f</td><td style='text-align: left;'>PC</td><td style='text-align: left;'>2019-01-07 15:11:58</td><td style='text-align: left;'>Milne</td><td style='text-align: left;'>2</td><td style='text-align: left;'>2019-01-08</td><td style='text-align: left;'>2019-01-29</td><td style='text-align: left;'>11091</td></tr><tr><td style='text-align: left;'>11572</td><td style='text-align: left;'>ZTF18acenqto</td><td style='text-align: left;'>XRT</td><td style='text-align: left;'>69.737083333333</td><td style='text-align: left;'>-20.662277777778</td><td style='text-align: left;'>0x223f</td><td style='text-align: left;'>PC</td><td style='text-align: left;'>2019-01-07 13:24:11</td><td style='text-align: left;'>Schulze</td><td style='text-align: left;'>3</td><td style='text-align: left;'>2019-01-10</td><td style='text-align: left;'>2019-01-22</td><td style='text-align: left;'>11009</td></tr><tr><td style='text-align: left;'>11571</td><td style='text-align: left;'>FBQS J0253-0124</td><td style='text-align: left;'>XRT</td><td style='text-align: left;'>43.315208333333</td><td style='text-align: left;'>-1.4015</td><td style='text-align: left;'>0x30ed</td><td style='text-align: left;'>PC</td><td style='text-align: left;'>2019-01-05 18:22:28</td><td style='text-align: left;'>Rajagopal</td><td style='text-align: left;'>3</td><td style='text-align: left;'>2019-01-09</td><td style='text-align: left;'>2019-01-09</td><td style='text-align: left;'>83760</td></tr><tr><td style='text-align: left;'>11570</td><td style='text-align: left;'>MAXI J1631-479</td><td style='text-align: left;'>XRT</td><td style='text-align: left;'>247.806</td><td style='text-align: left;'>-47.805</td><td style='text-align: left;'>0x9999</td><td style='text-align: left;'>PC</td><td style='text-align: left;'>2019-01-05 02:54:47</td><td style='text-align: left;'>Lin</td><td style='text-align: left;'>4</td><td style='text-align: left;'>2019-01-14</td><td style='text-align: left;'>2019-01-21</td><td style='text-align: left;'>11093</td></tr><tr><td style='text-align: left;'>11569</td><td style='text-align: left;'>SN2018hna</td><td style='text-align: left;'>XRT</td><td style='text-align: left;'>186.550208</td><td style='text-align: left;'>58.314194</td><td style='text-align: left;'>0x223f</td><td style='text-align: left;'>PC</td><td style='text-align: left;'>2019-01-04 15:53:02</td><td style='text-align: left;'>Brown</td><td style='text-align: left;'>3</td><td style='text-align: left;'>2019-01-09</td><td style='text-align: left;'>2019-02-06</td><td style='text-align: left;'>10946</td></tr><tr><td style='text-align: left;'>11568</td><td style='text-align: left;'>XTE J0052-723</td><td style='text-align: left;'>XRT</td><td style='text-align: left;'>12.91155825</td><td style='text-align: left;'>-72.28466584</td><td style='text-align: left;'>0x9999</td><td style='text-align: left;'>PC</td><td style='text-align: left;'>2019-01-04 12:34:40</td><td style='text-align: left;'>Semena</td><td style='text-align: left;'>3</td><td style='text-align: left;'>2019-01-09</td><td style='text-align: left;'>2019-01-25</td><td style='text-align: left;'>10977</td></tr><tr><td style='text-align: left;'>11567</td><td style='text-align: left;'>1ES_1218+304</td><td style='text-align: left;'>XRT</td><td style='text-align: left;'>185.34141666667</td><td style='text-align: left;'>30.176975</td><td style='text-align: left;'>0x9999</td><td style='text-align: left;'>WT</td><td style='text-align: left;'>2019-01-04 10:09:50</td><td style='text-align: left;'>Fallah Ramazani</td><td style='text-align: left;'>1</td><td style='text-align: left;'>2019-01-08</td><td style='text-align: left;'>2019-01-14</td><td style='text-align: left;'>30376</td></tr><tr><td style='text-align: left;'>11566</td><td style='text-align: left;'>AT2019bl</td><td style='text-align: left;'>XRT</td><td style='text-align: left;'>106.1486277</td><td style='text-align: left;'>17.56963111</td><td style='text-align: left;'>0x0270</td><td style='text-align: left;'>PC</td><td style='text-align: left;'>2019-01-04 10:04:25</td><td style='text-align: left;'>Brown</td><td style='text-align: left;'>2</td><td style='text-align: left;'>2019-01-05</td><td style='text-align: left;'>2019-01-07</td><td style='text-align: left;'>11089</td></tr><tr><td style='text-align: left;'>11565</td><td style='text-align: left;'>J2357.3-2522</td><td style='text-align: left;'>XRT</td><td style='text-align: left;'>357.98</td><td style='text-align: left;'>-26.65</td><td style='text-align: left;'>0x9999</td><td style='text-align: left;'>PC</td><td style='text-align: left;'>2019-01-04 07:55:33</td><td style='text-align: left;'>Gronwall</td><td style='text-align: left;'>2</td><td style='text-align: left;'>2019-01-04</td><td style='text-align: left;'>2019-01-04</td><td style='text-align: left;'>11051</td></tr><tr><td style='text-align: left;'>11564</td><td style='text-align: left;'>MAXI J1535-571</td><td style='text-align: left;'>XRT</td><td style='text-align: left;'>233.8321421</td><td style='text-align: left;'>-57.22988406</td><td style='text-align: left;'>0x9999</td><td style='text-align: left;'>Auto</td><td style='text-align: left;'>2019-01-04 07:23:38</td><td style='text-align: left;'>Parikh</td><td style='text-align: left;'>3</td><td style='text-align: left;'>2019-01-08</td><td style='text-align: left;'>2019-01-27</td><td style='text-align: left;'>10264</td></tr><tr><td style='text-align: left;'>11563</td><td style='text-align: left;'>J2357.3-2522</td><td style='text-align: left;'>XRT</td><td style='text-align: left;'>359.3299</td><td style='text-align: left;'>-25.3659</td><td style='text-align: left;'>0x0377</td><td style='text-align: left;'>Auto</td><td style='text-align: left;'>2019-01-04 03:36:02</td><td style='text-align: left;'>Keivani</td><td style='text-align: left;'>1</td><td style='text-align: left;'>2019-01-04</td><td style='text-align: left;'>2019-01-04</td><td style='text-align: left;'>11031</td></tr><tr><td style='text-align: left;'>11562</td><td style='text-align: left;'>ZTF18acszayr</td><td style='text-align: left;'>XRT</td><td style='text-align: left;'>35.290864</td><td style='text-align: left;'>-4.073244</td><td style='text-align: left;'>0x223f</td><td style='text-align: left;'>PC</td><td style='text-align: left;'>2019-01-03 05:17:36</td><td style='text-align: left;'>Schulze</td><td style='text-align: left;'>3</td><td style='text-align: left;'>2019-01-06</td><td style='text-align: left;'>2019-01-18</td><td style='text-align: left;'>11017</td></tr><tr><td style='text-align: left;'>11561</td><td style='text-align: left;'>AT2018lei</td><td style='text-align: left;'>XRT</td><td style='text-align: left;'>38.39334</td><td style='text-align: left;'>-39.0459</td><td style='text-align: left;'>0x0379</td><td style='text-align: left;'>PC</td><td style='text-align: left;'>2019-01-01 17:02:53</td><td style='text-align: left;'>Brown</td><td style='text-align: left;'>2</td><td style='text-align: left;'>2019-01-02</td><td style='text-align: left;'>2019-01-04</td><td style='text-align: left;'>11030</td></tr><tr><td style='text-align: left;'>11560</td><td style='text-align: left;'>SN2018kpo</td><td style='text-align: left;'>XRT</td><td style='text-align: left;'>55.17939</td><td style='text-align: left;'>-6.42337</td><td style='text-align: left;'>0x30d5</td><td style='text-align: left;'>PC</td><td style='text-align: left;'>2019-01-01 16:03:52</td><td style='text-align: left;'>Chen</td><td style='text-align: left;'>3</td><td style='text-align: left;'>2019-01-04</td><td style='text-align: left;'>2019-01-12</td><td style='text-align: left;'>11024</td></tr></table>"
      ],
      "text/plain": [
       "Swift_TOO_Requests(username='anonymous',detail='False',radius='0.19333333333333333',begin='2019-01-01 00:00:00',length='7')"
      ]
     },
     "execution_count": 14,
     "metadata": {},
     "output_type": "execute_result"
    }
   ],
   "source": [
    "req"
   ]
  }
 ],
 "metadata": {
  "kernelspec": {
   "display_name": "Python 3 (ipykernel)",
   "language": "python",
   "name": "python3"
  },
  "language_info": {
   "codemirror_mode": {
    "name": "ipython",
    "version": 3
   },
   "file_extension": ".py",
   "mimetype": "text/x-python",
   "name": "python",
   "nbconvert_exporter": "python",
   "pygments_lexer": "ipython3",
   "version": "3.9.9"
  }
 },
 "nbformat": 4,
 "nbformat_minor": 5
}
