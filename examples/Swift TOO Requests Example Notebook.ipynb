{
 "cells": [
  {
   "cell_type": "markdown",
   "id": "10c30734",
   "metadata": {},
   "source": [
    "# `swift_too` module\n",
    "\n",
    "## Swift_TOO_Requests example - querying planned *Swift* observations\n",
    "\n",
    "### API version = 1.2, `swifttools` version = 2.4\n",
    "\n",
    "#### Author: Jamie A. Kennea (Penn State)\n",
    "\n",
    "The `Swift_TOO_Requests` (or shorthand as of `swifttools` 2.3, `TOORequests`) allows the user to query submitted Swift TOO requests. This can be used either to retrieve detail on requests that you have submitted, or details on all TOO requests.\n",
    "\n",
    "Two important caveats:\n",
    "\n",
    "1. Detailed information on TOOs, including Science Justification text are only retrievable if you are the TOO submitter.\n",
    "\n",
    "2. Only details of approved TOO requests are available. TOOs that have been rejected cannot be fetched.\n",
    "\n",
    "This is therefore useful if you wish to retrieve what you have previously submitted, or see what the current active TOOs are, so you can see if someone has already submitted a TOO for the target you are interested in."
   ]
  },
  {
   "cell_type": "code",
   "execution_count": 1,
   "id": "4707436d",
   "metadata": {},
   "outputs": [],
   "source": [
    "from swifttools.swift_too import TOORequests"
   ]
  },
  {
   "cell_type": "markdown",
   "id": "bc24d815",
   "metadata": {},
   "source": [
    "### First example - the 20 most recent Swift TOO requests\n",
    "\n",
    "In this example we request information on the last 20 TOO requests approved for observation by Swift. No username or shared_secret needs to be submitted for this request, however if you do submit them the result will be no different. "
   ]
  },
  {
   "cell_type": "code",
   "execution_count": 2,
   "id": "4a1696d9",
   "metadata": {},
   "outputs": [],
   "source": [
    "toos = TOORequests(begin='2022-01-01',length=10)"
   ]
  },
  {
   "cell_type": "code",
   "execution_count": 3,
   "id": "bbaa5569",
   "metadata": {},
   "outputs": [
    {
     "name": "stdout",
     "output_type": "stream",
     "text": [
      "Success!\n"
     ]
    }
   ],
   "source": [
    "if toos.submit():\n",
    "    print(\"Success!\")\n",
    "else:\n",
    "    print(f\"Failure: {toos.status.errors}\")"
   ]
  },
  {
   "cell_type": "markdown",
   "id": "aca5818a",
   "metadata": {},
   "source": [
    "That should have worked, so we can now display the 20 most recent approved Swift TOOs by simply display"
   ]
  },
  {
   "cell_type": "code",
   "execution_count": 4,
   "id": "5bd376d9",
   "metadata": {
    "scrolled": false
   },
   "outputs": [
    {
     "data": {
      "text/html": [
       "<table><thead><th style='text-align: left;'>ToO ID</th><th style='text-align: left;'>Object Name</th><th style='text-align: left;'>Instrument</th><th style='text-align: left;'>Right Ascenscion (J2000)</th><th style='text-align: left;'>Declination (J2000)</th><th style='text-align: left;'>UVOT Mode (Approved)</th><th style='text-align: left;'>XRT Mode (Approved)</th><th style='text-align: left;'>Time Submitted</th><th style='text-align: left;'>Requester</th><th style='text-align: left;'>Urgency</th><th style='text-align: left;'>Begin date</th><th style='text-align: left;'>End date</th><th style='text-align: left;'>Primary Target ID</th></thead><tr><td style='text-align: left;'>16857</td><td style='text-align: left;'>None</td><td style='text-align: left;'>XRT</td><td style='text-align: left;'>13.483958</td><td style='text-align: left;'>-70.6345</td><td style='text-align: left;'>0x9999</td><td style='text-align: left;'>PC</td><td style='text-align: left;'>2022-01-10 20:14:25</td><td style='text-align: left;'>Walton</td><td style='text-align: left;'>3</td><td style='text-align: left;'>2022-01-17</td><td style='text-align: left;'>2022-01-19</td><td style='text-align: left;'>88155</td></tr><tr><td style='text-align: left;'>16855</td><td style='text-align: left;'>None</td><td style='text-align: left;'>UVOT</td><td style='text-align: left;'>140.40667208333</td><td style='text-align: left;'>-60.281952777778</td><td style='text-align: left;'>0x01bc</td><td style='text-align: left;'>PC</td><td style='text-align: left;'>2022-01-10 19:01:36</td><td style='text-align: left;'>Wilson</td><td style='text-align: left;'>3</td><td style='text-align: left;'>2022-01-20</td><td style='text-align: left;'>2022-01-20</td><td style='text-align: left;'>15014</td></tr><tr><td style='text-align: left;'>16854</td><td style='text-align: left;'>None</td><td style='text-align: left;'>XRT</td><td style='text-align: left;'>176.12446594238</td><td style='text-align: left;'>36.885723114014</td><td style='text-align: left;'>0x30ed</td><td style='text-align: left;'>PC</td><td style='text-align: left;'>2022-01-10 18:19:30</td><td style='text-align: left;'>Jiang</td><td style='text-align: left;'>3</td><td style='text-align: left;'>2022-01-20</td><td style='text-align: left;'>2022-04-28</td><td style='text-align: left;'>37565</td></tr><tr><td style='text-align: left;'>16853</td><td style='text-align: left;'>None</td><td style='text-align: left;'>XRT</td><td style='text-align: left;'>189.97993469238</td><td style='text-align: left;'>83.785339355469</td><td style='text-align: left;'>0x011e</td><td style='text-align: left;'>PC</td><td style='text-align: left;'>2022-01-10 11:35:17</td><td style='text-align: left;'>Burdge</td><td style='text-align: left;'>4</td><td style='text-align: left;'>2022-01-13</td><td style='text-align: left;'>2022-01-13</td><td style='text-align: left;'>15013</td></tr><tr><td style='text-align: left;'>16852</td><td style='text-align: left;'>None</td><td style='text-align: left;'>UVOT</td><td style='text-align: left;'>190.88433</td><td style='text-align: left;'>-41.36576</td><td style='text-align: left;'>0x223f</td><td style='text-align: left;'>PC</td><td style='text-align: left;'>2022-01-10 11:32:37</td><td style='text-align: left;'>Brown</td><td style='text-align: left;'>2</td><td style='text-align: left;'>2022-01-11</td><td style='text-align: left;'>2022-01-19</td><td style='text-align: left;'>15012</td></tr><tr><td style='text-align: left;'>16851</td><td style='text-align: left;'>None</td><td style='text-align: left;'>UVOT</td><td style='text-align: left;'>56.3254</td><td style='text-align: left;'>-32.3206</td><td style='text-align: left;'>0x018c</td><td style='text-align: left;'>PC</td><td style='text-align: left;'>2022-01-10 07:57:02</td><td style='text-align: left;'>Liu</td><td style='text-align: left;'>3</td><td style='text-align: left;'>2022-01-16</td><td style='text-align: left;'>2022-01-16</td><td style='text-align: left;'>14762</td></tr><tr><td style='text-align: left;'>16850</td><td style='text-align: left;'>None</td><td style='text-align: left;'>XRT</td><td style='text-align: left;'>25.915157916667</td><td style='text-align: left;'>50.688731111111</td><td style='text-align: left;'>0xffff</td><td style='text-align: left;'>WT</td><td style='text-align: left;'>2022-01-10 07:48:12</td><td style='text-align: left;'>Naze</td><td style='text-align: left;'>4</td><td style='text-align: left;'>2022-01-16</td><td style='text-align: left;'>2022-01-16</td><td style='text-align: left;'>15011</td></tr><tr><td style='text-align: left;'>16849</td><td style='text-align: left;'>None</td><td style='text-align: left;'>XRT</td><td style='text-align: left;'>102.69166666667</td><td style='text-align: left;'>25.05</td><td style='text-align: left;'>0x30ed</td><td style='text-align: left;'>WT</td><td style='text-align: left;'>2022-01-09 15:25:19</td><td style='text-align: left;'>Kapanadze</td><td style='text-align: left;'>3</td><td style='text-align: left;'>2022-01-14</td><td style='text-align: left;'>2022-02-18</td><td style='text-align: left;'>41535</td></tr><tr><td style='text-align: left;'>16848</td><td style='text-align: left;'>None</td><td style='text-align: left;'>UVOT</td><td style='text-align: left;'>5.0965</td><td style='text-align: left;'>59.292972222222</td><td style='text-align: left;'>0x01aa</td><td style='text-align: left;'>PC</td><td style='text-align: left;'>2022-01-09 02:55:47</td><td style='text-align: left;'>Gelfand</td><td style='text-align: left;'>3</td><td style='text-align: left;'>2022-01-13</td><td style='text-align: left;'>2022-02-06</td><td style='text-align: left;'>30835</td></tr><tr><td style='text-align: left;'>16847</td><td style='text-align: left;'>None</td><td style='text-align: left;'>UVOT</td><td style='text-align: left;'>79.899218333333</td><td style='text-align: left;'>-32.657756388889</td><td style='text-align: left;'>0x30ed</td><td style='text-align: left;'>PC</td><td style='text-align: left;'>2022-01-08 03:23:50</td><td style='text-align: left;'>Gonzalez</td><td style='text-align: left;'>3</td><td style='text-align: left;'>2022-01-13</td><td style='text-align: left;'>2022-02-01</td><td style='text-align: left;'>40311</td></tr><tr><td style='text-align: left;'>16846</td><td style='text-align: left;'>None</td><td style='text-align: left;'></td><td style='text-align: left;'>216.5</td><td style='text-align: left;'>20</td><td style='text-align: left;'>0x0377</td><td style='text-align: left;'>PC</td><td style='text-align: left;'>2022-01-07 22:06:11</td><td style='text-align: left;'>Fermi</td><td style='text-align: left;'>1</td><td style='text-align: left;'>2022-01-08</td><td style='text-align: left;'>2022-01-08</td><td style='text-align: left;'>21477</td></tr><tr><td style='text-align: left;'>16845</td><td style='text-align: left;'>None</td><td style='text-align: left;'>XRT</td><td style='text-align: left;'>169.76</td><td style='text-align: left;'>34.138</td><td style='text-align: left;'>0x2019</td><td style='text-align: left;'>PC</td><td style='text-align: left;'>2022-01-07 14:59:10</td><td style='text-align: left;'>Tohuvavohu</td><td style='text-align: left;'>1</td><td style='text-align: left;'>2022-01-14</td><td style='text-align: left;'>2022-01-18</td><td style='text-align: left;'>21476</td></tr><tr><td style='text-align: left;'>16844</td><td style='text-align: left;'>None</td><td style='text-align: left;'>XRT</td><td style='text-align: left;'>281.3026</td><td style='text-align: left;'>79.8039</td><td style='text-align: left;'>0x9999</td><td style='text-align: left;'>PC</td><td style='text-align: left;'>2022-01-07 11:04:00</td><td style='text-align: left;'>Quintin</td><td style='text-align: left;'>4</td><td style='text-align: left;'>2022-01-16</td><td style='text-align: left;'>2022-01-16</td><td style='text-align: left;'>15010</td></tr><tr><td style='text-align: left;'>16843</td><td style='text-align: left;'>None</td><td style='text-align: left;'>XRT</td><td style='text-align: left;'>71.657833333333</td><td style='text-align: left;'>-10.226361111111</td><td style='text-align: left;'>0x011e</td><td style='text-align: left;'>PC</td><td style='text-align: left;'>2022-01-07 05:46:35</td><td style='text-align: left;'>Short</td><td style='text-align: left;'>4</td><td style='text-align: left;'>2022-01-14</td><td style='text-align: left;'>2022-01-15</td><td style='text-align: left;'>12012</td></tr><tr><td style='text-align: left;'>16842</td><td style='text-align: left;'>None</td><td style='text-align: left;'>UVOT</td><td style='text-align: left;'>90.820370833333</td><td style='text-align: left;'>-23.211275</td><td style='text-align: left;'>0x223f</td><td style='text-align: left;'>PC</td><td style='text-align: left;'>2022-01-07 02:22:07</td><td style='text-align: left;'>Auchettl</td><td style='text-align: left;'>3</td><td style='text-align: left;'>2022-01-13</td><td style='text-align: left;'>2022-01-25</td><td style='text-align: left;'>15009</td></tr><tr><td style='text-align: left;'>16841</td><td style='text-align: left;'>None</td><td style='text-align: left;'>XRT</td><td style='text-align: left;'>95.471079166667</td><td style='text-align: left;'>-26.019577777778</td><td style='text-align: left;'>0x223f</td><td style='text-align: left;'>PC</td><td style='text-align: left;'>2022-01-07 01:12:49</td><td style='text-align: left;'>Auchettl</td><td style='text-align: left;'>3</td><td style='text-align: left;'>2022-01-12</td><td style='text-align: left;'>2022-01-27</td><td style='text-align: left;'>15008</td></tr><tr><td style='text-align: left;'>16840</td><td style='text-align: left;'>None</td><td style='text-align: left;'>UVOT</td><td style='text-align: left;'>234.542292</td><td style='text-align: left;'>4.780669</td><td style='text-align: left;'>0x223f</td><td style='text-align: left;'>PC</td><td style='text-align: left;'>2022-01-06 22:47:09</td><td style='text-align: left;'>Devarakonda</td><td style='text-align: left;'>4</td><td style='text-align: left;'>2022-01-13</td><td style='text-align: left;'>2022-01-13</td><td style='text-align: left;'>13511</td></tr><tr><td style='text-align: left;'>16839</td><td style='text-align: left;'>None</td><td style='text-align: left;'>UVOT</td><td style='text-align: left;'>64.97216796875</td><td style='text-align: left;'>-54.947944641113</td><td style='text-align: left;'>0x223f</td><td style='text-align: left;'>PC</td><td style='text-align: left;'>2022-01-06 21:44:33</td><td style='text-align: left;'>Sand</td><td style='text-align: left;'>3</td><td style='text-align: left;'>2022-01-12</td><td style='text-align: left;'>2022-02-01</td><td style='text-align: left;'>14916</td></tr><tr><td style='text-align: left;'>16838</td><td style='text-align: left;'>None</td><td style='text-align: left;'>XRT</td><td style='text-align: left;'>136.22158</td><td style='text-align: left;'>-57.584939444444</td><td style='text-align: left;'>0x9999</td><td style='text-align: left;'>PC</td><td style='text-align: left;'>2022-01-06 17:42:44</td><td style='text-align: left;'>Prince</td><td style='text-align: left;'>3</td><td style='text-align: left;'>2022-01-11</td><td style='text-align: left;'>2022-01-29</td><td style='text-align: left;'>33856</td></tr><tr><td style='text-align: left;'>16837</td><td style='text-align: left;'>None</td><td style='text-align: left;'>UVOT</td><td style='text-align: left;'>16.959266662598</td><td style='text-align: left;'>27.314798355103</td><td style='text-align: left;'>0x30d5</td><td style='text-align: left;'>PC</td><td style='text-align: left;'>2022-01-06 14:16:49</td><td style='text-align: left;'>Hinkle</td><td style='text-align: left;'>3</td><td style='text-align: left;'>2022-01-12</td><td style='text-align: left;'>2022-02-02</td><td style='text-align: left;'>14868</td></tr><tr><td style='text-align: left;'>16836</td><td style='text-align: left;'>None</td><td style='text-align: left;'>XRT</td><td style='text-align: left;'>45.614</td><td style='text-align: left;'>19.2986</td><td style='text-align: left;'>0x308f</td><td style='text-align: left;'>PC</td><td style='text-align: left;'>2022-01-06 11:01:53</td><td style='text-align: left;'>Osborne</td><td style='text-align: left;'>3</td><td style='text-align: left;'>2022-01-09</td><td style='text-align: left;'>2022-01-30</td><td style='text-align: left;'>14935</td></tr><tr><td style='text-align: left;'>16835</td><td style='text-align: left;'>None</td><td style='text-align: left;'>XRT</td><td style='text-align: left;'>349.56532791667</td><td style='text-align: left;'>0.261185</td><td style='text-align: left;'>0x30ed</td><td style='text-align: left;'>PC</td><td style='text-align: left;'>2022-01-06 02:49:47</td><td style='text-align: left;'>Cheng</td><td style='text-align: left;'>4</td><td style='text-align: left;'>2022-01-13</td><td style='text-align: left;'>2022-01-13</td><td style='text-align: left;'>15007</td></tr><tr><td style='text-align: left;'>16834</td><td style='text-align: left;'>None</td><td style='text-align: left;'>XRT</td><td style='text-align: left;'>187.70583333333</td><td style='text-align: left;'>12.391111111111</td><td style='text-align: left;'>0x30ed</td><td style='text-align: left;'>PC</td><td style='text-align: left;'>2022-01-05 16:45:15</td><td style='text-align: left;'>Falcone</td><td style='text-align: left;'>3</td><td style='text-align: left;'>2022-01-11</td><td style='text-align: left;'>2022-01-11</td><td style='text-align: left;'>31105</td></tr><tr><td style='text-align: left;'>16833</td><td style='text-align: left;'>None</td><td style='text-align: left;'>XRT</td><td style='text-align: left;'>176.270871</td><td style='text-align: left;'>19.606317</td><td style='text-align: left;'>0x30ed</td><td style='text-align: left;'>PC</td><td style='text-align: left;'>2022-01-05 16:41:37</td><td style='text-align: left;'>Falcone</td><td style='text-align: left;'>3</td><td style='text-align: left;'>2022-01-11</td><td style='text-align: left;'>2022-01-11</td><td style='text-align: left;'>10512</td></tr><tr><td style='text-align: left;'>16832</td><td style='text-align: left;'>None</td><td style='text-align: left;'>XRT</td><td style='text-align: left;'>12.228890419006</td><td style='text-align: left;'>-73.829299926758</td><td style='text-align: left;'>0x9999</td><td style='text-align: left;'>PC</td><td style='text-align: left;'>2022-01-05 12:00:19</td><td style='text-align: left;'>Kennea</td><td style='text-align: left;'>2</td><td style='text-align: left;'>2022-01-05</td><td style='text-align: left;'>2022-01-11</td><td style='text-align: left;'>34599</td></tr><tr><td style='text-align: left;'>16831</td><td style='text-align: left;'>None</td><td style='text-align: left;'>UVOT</td><td style='text-align: left;'>235.089020072</td><td style='text-align: left;'>7.28152761418</td><td style='text-align: left;'>0x223f</td><td style='text-align: left;'>PC</td><td style='text-align: left;'>2022-01-04 21:25:20</td><td style='text-align: left;'>Devarakonda</td><td style='text-align: left;'>4</td><td style='text-align: left;'>2022-01-13</td><td style='text-align: left;'>2022-01-13</td><td style='text-align: left;'>14337</td></tr><tr><td style='text-align: left;'>16829</td><td style='text-align: left;'>None</td><td style='text-align: left;'>UVOT</td><td style='text-align: left;'>233.637667</td><td style='text-align: left;'>37.533831</td><td style='text-align: left;'>0x223f</td><td style='text-align: left;'>PC</td><td style='text-align: left;'>2022-01-04 21:22:42</td><td style='text-align: left;'>Devarakonda</td><td style='text-align: left;'>4</td><td style='text-align: left;'>2022-01-09</td><td style='text-align: left;'>2022-01-09</td><td style='text-align: left;'>13352</td></tr><tr><td style='text-align: left;'>16828</td><td style='text-align: left;'>None</td><td style='text-align: left;'>UVOT</td><td style='text-align: left;'>155.6927542</td><td style='text-align: left;'>30.5717346</td><td style='text-align: left;'>0x30d5</td><td style='text-align: left;'>PC</td><td style='text-align: left;'>2022-01-04 16:13:09</td><td style='text-align: left;'>Yao</td><td style='text-align: left;'>3</td><td style='text-align: left;'>2022-01-11</td><td style='text-align: left;'>2022-01-25</td><td style='text-align: left;'>15006</td></tr><tr><td style='text-align: left;'>16827</td><td style='text-align: left;'>None</td><td style='text-align: left;'>XRT</td><td style='text-align: left;'>232.6575481</td><td style='text-align: left;'>26.9824432</td><td style='text-align: left;'>0x9999</td><td style='text-align: left;'>PC</td><td style='text-align: left;'>2022-01-04 15:32:13</td><td style='text-align: left;'>Yao</td><td style='text-align: left;'>4</td><td style='text-align: left;'>2022-01-10</td><td style='text-align: left;'>2022-01-10</td><td style='text-align: left;'>13976</td></tr><tr><td style='text-align: left;'>16826</td><td style='text-align: left;'>None</td><td style='text-align: left;'>XRT</td><td style='text-align: left;'>33.6398375</td><td style='text-align: left;'>-0.76671666666667</td><td style='text-align: left;'>0x30dd</td><td style='text-align: left;'>PC</td><td style='text-align: left;'>2022-01-04 15:30:40</td><td style='text-align: left;'>Vestergaard</td><td style='text-align: left;'>3</td><td style='text-align: left;'>2022-01-07</td><td style='text-align: left;'>2022-01-12</td><td style='text-align: left;'>95662</td></tr><tr><td style='text-align: left;'>16825</td><td style='text-align: left;'>None</td><td style='text-align: left;'>XRT</td><td style='text-align: left;'>238.463576</td><td style='text-align: left;'>55.5888162</td><td style='text-align: left;'>0x308f</td><td style='text-align: left;'>PC</td><td style='text-align: left;'>2022-01-04 15:17:59</td><td style='text-align: left;'>Yao</td><td style='text-align: left;'>4</td><td style='text-align: left;'>2022-01-10</td><td style='text-align: left;'>2022-01-10</td><td style='text-align: left;'>14385</td></tr><tr><td style='text-align: left;'>16824</td><td style='text-align: left;'>None</td><td style='text-align: left;'>UVOT</td><td style='text-align: left;'>238.7581281</td><td style='text-align: left;'>16.3045289</td><td style='text-align: left;'>0x30d5</td><td style='text-align: left;'>PC</td><td style='text-align: left;'>2022-01-04 14:46:41</td><td style='text-align: left;'>Yao</td><td style='text-align: left;'>3</td><td style='text-align: left;'>2022-01-09</td><td style='text-align: left;'>2022-01-23</td><td style='text-align: left;'>13989</td></tr><tr><td style='text-align: left;'>16823</td><td style='text-align: left;'>None</td><td style='text-align: left;'>XRT</td><td style='text-align: left;'>140.19275958333</td><td style='text-align: left;'>-8.0560930555556</td><td style='text-align: left;'>0x9999</td><td style='text-align: left;'>PC</td><td style='text-align: left;'>2022-01-04 08:19:42</td><td style='text-align: left;'>Middei</td><td style='text-align: left;'>3</td><td style='text-align: left;'>2022-01-09</td><td style='text-align: left;'>2022-01-10</td><td style='text-align: left;'>35262</td></tr><tr><td style='text-align: left;'>16822</td><td style='text-align: left;'>None</td><td style='text-align: left;'>UVOT</td><td style='text-align: left;'>56.3254</td><td style='text-align: left;'>-32.3206</td><td style='text-align: left;'>0x018c</td><td style='text-align: left;'>PC</td><td style='text-align: left;'>2022-01-04 06:47:28</td><td style='text-align: left;'>Liu</td><td style='text-align: left;'>3</td><td style='text-align: left;'>2022-01-08</td><td style='text-align: left;'>2022-01-08</td><td style='text-align: left;'>14762</td></tr><tr><td style='text-align: left;'>16821</td><td style='text-align: left;'>None</td><td style='text-align: left;'>XRT</td><td style='text-align: left;'>1.5813399553299</td><td style='text-align: left;'>20.202909469604</td><td style='text-align: left;'>0x30ed</td><td style='text-align: left;'>PC</td><td style='text-align: left;'>2022-01-03 22:34:12</td><td style='text-align: left;'>Grupe</td><td style='text-align: left;'>3</td><td style='text-align: left;'>2022-01-07</td><td style='text-align: left;'>2022-02-11</td><td style='text-align: left;'>13544</td></tr><tr><td style='text-align: left;'>16820</td><td style='text-align: left;'>None</td><td style='text-align: left;'>XRT</td><td style='text-align: left;'>347.7682</td><td style='text-align: left;'>34.4223</td><td style='text-align: left;'>0x9999</td><td style='text-align: left;'>PC</td><td style='text-align: left;'>2022-01-01 23:49:37</td><td style='text-align: left;'>Valverde</td><td style='text-align: left;'>3</td><td style='text-align: left;'>2022-01-06</td><td style='text-align: left;'>2022-01-30</td><td style='text-align: left;'>38484</td></tr></table>"
      ],
      "text/plain": [
       "Swift_TOO_Requests(username='anonymous',detail='False',begin='2022-01-01 00:00:00',length='10.0')"
      ]
     },
     "execution_count": 4,
     "metadata": {},
     "output_type": "execute_result"
    }
   ],
   "source": [
    "toos"
   ]
  },
  {
   "cell_type": "markdown",
   "id": "bc0d2511",
   "metadata": {},
   "source": [
    "We can also display all the information we obtained for each TOO request as follows, to display the first (and by default most recent) TOO in the list above, do the following."
   ]
  },
  {
   "cell_type": "code",
   "execution_count": 5,
   "id": "0cc82450",
   "metadata": {},
   "outputs": [
    {
     "data": {
      "text/html": [
       "<table><thead><th style='text-align: left;'>Parameter</th><th style='text-align: left;'>Value</th></thead><tr><td style='text-align: left;'>ToO ID</td><td style='text-align: left;'>16855</td></tr><tr><td style='text-align: left;'>Requester</td><td style='text-align: left;'>Wilson</td></tr><tr><td style='text-align: left;'>Time Submitted</td><td style='text-align: left;'>2022-01-10 19:01:36</td></tr><tr><td style='text-align: left;'>Urgency</td><td style='text-align: left;'>3</td></tr><tr><td style='text-align: left;'>Type or Classification</td><td style='text-align: left;'>M dwarf</td></tr><tr><td style='text-align: left;'>Right Ascenscion (J2000)</td><td style='text-align: left;'>140.40667208333</td></tr><tr><td style='text-align: left;'>Declination (J2000)</td><td style='text-align: left;'>-60.281952777778</td></tr><tr><td style='text-align: left;'>Position Error (90% confidence - arcminutes)</td><td style='text-align: left;'>0</td></tr><tr><td style='text-align: left;'>Exposure Time per Visit (s)</td><td style='text-align: left;'>1600</td></tr><tr><td style='text-align: left;'>Number of Visits</td><td style='text-align: left;'>2</td></tr><tr><td style='text-align: left;'>Total Exposure (s)</td><td style='text-align: left;'>3200</td></tr><tr><td style='text-align: left;'>Instrument</td><td style='text-align: left;'>UVOT</td></tr><tr><td style='text-align: left;'>XRT Mode (Approved)</td><td style='text-align: left;'>PC</td></tr><tr><td style='text-align: left;'>UVOT Mode (Approved)</td><td style='text-align: left;'>0x01bc</td></tr><tr><td style='text-align: left;'>Primary Target ID</td><td style='text-align: left;'>15014</td></tr></table>"
      ],
      "text/plain": [
       "Swift_TOO_Request(source_type='M dwarf',ra='140.40667208333',dec='-60.281952777778',poserr='0',instrument='UVOT',urgency='3',num_of_visits='1',xrt_mode='PC',uvot_mode='0x9999',obs_n='single',debug='False',quiet='False')"
      ]
     },
     "execution_count": 5,
     "metadata": {},
     "output_type": "execute_result"
    }
   ],
   "source": [
    "toos[1]"
   ]
  },
  {
   "cell_type": "markdown",
   "id": "7c79a94b",
   "metadata": {},
   "source": [
    "If you want to fetch the information for a given `too_id` value, you get use the `by_id` method. Here is an example:"
   ]
  },
  {
   "cell_type": "code",
   "execution_count": 6,
   "id": "ac475b10",
   "metadata": {},
   "outputs": [
    {
     "data": {
      "text/html": [
       "<table><thead><th style='text-align: left;'>Parameter</th><th style='text-align: left;'>Value</th></thead><tr><td style='text-align: left;'>ToO ID</td><td style='text-align: left;'>16821</td></tr><tr><td style='text-align: left;'>Requester</td><td style='text-align: left;'>Grupe</td></tr><tr><td style='text-align: left;'>Time Submitted</td><td style='text-align: left;'>2022-01-03 22:34:12</td></tr><tr><td style='text-align: left;'>Urgency</td><td style='text-align: left;'>3</td></tr><tr><td style='text-align: left;'>Type or Classification</td><td style='text-align: left;'>AGN</td></tr><tr><td style='text-align: left;'>Right Ascenscion (J2000)</td><td style='text-align: left;'>1.5813399553299</td></tr><tr><td style='text-align: left;'>Declination (J2000)</td><td style='text-align: left;'>20.202909469604</td></tr><tr><td style='text-align: left;'>Position Error (90% confidence - arcminutes)</td><td style='text-align: left;'>0</td></tr><tr><td style='text-align: left;'>Exposure Time per Visit (s)</td><td style='text-align: left;'>1000</td></tr><tr><td style='text-align: left;'>Number of Visits</td><td style='text-align: left;'>6</td></tr><tr><td style='text-align: left;'>Total Exposure (s)</td><td style='text-align: left;'>6000</td></tr><tr><td style='text-align: left;'>Instrument</td><td style='text-align: left;'>XRT</td></tr><tr><td style='text-align: left;'>XRT Mode (Approved)</td><td style='text-align: left;'>PC</td></tr><tr><td style='text-align: left;'>UVOT Mode (Approved)</td><td style='text-align: left;'>0x30ed</td></tr><tr><td style='text-align: left;'>Primary Target ID</td><td style='text-align: left;'>13544</td></tr></table>"
      ],
      "text/plain": [
       "Swift_TOO_Request(source_type='AGN',ra='1.5813399553299',dec='20.202909469604',poserr='0',instrument='XRT',urgency='3',num_of_visits='1',xrt_mode='PC',uvot_mode='0x9999',obs_n='single',debug='False',quiet='False')"
      ]
     },
     "execution_count": 6,
     "metadata": {},
     "output_type": "execute_result"
    }
   ],
   "source": [
    "toos.by_id(16821)"
   ]
  },
  {
   "cell_type": "markdown",
   "id": "e27a7ce1",
   "metadata": {},
   "source": [
    "### Displaying the scheduling information for a TOO\n",
    "\n",
    "If you are interested to know when/if a TOO has been scheduled in the Swift Planning calendar, you can obtain this information by looking that the `calendar` attribute. This is an instance of the `Swift_Calendar` class. You can display it as follows."
   ]
  },
  {
   "cell_type": "code",
   "execution_count": 7,
   "id": "8f309424",
   "metadata": {},
   "outputs": [
    {
     "data": {
      "text/html": [
       "<table><thead><th style='text-align: left;'>#</th><th style='text-align: left;'>Start</th><th style='text-align: left;'>Stop</th><th style='text-align: left;'>XRT Mode</th><th style='text-align: left;'>UVOT Mode</th><th style='text-align: left;'>Exposure (s)</th><th style='text-align: left;'>AFST (s)</th></thead><tr><td style='text-align: left;'>0</td><td style='text-align: left;'>2022-01-07 00:00:00</td><td style='text-align: left;'>2022-01-08 00:00:00</td><td style='text-align: left;'>PC</td><td style='text-align: left;'>0x30ed</td><td style='text-align: left;'>1000.0</td><td style='text-align: left;'>990.0</td></tr><tr><td style='text-align: left;'>1</td><td style='text-align: left;'>2022-01-14 00:00:00</td><td style='text-align: left;'>2022-01-15 00:00:00</td><td style='text-align: left;'>PC</td><td style='text-align: left;'>0x30ed</td><td style='text-align: left;'>1000.0</td><td style='text-align: left;'>1450.0</td></tr><tr><td style='text-align: left;'>2</td><td style='text-align: left;'>2022-01-21 00:00:00</td><td style='text-align: left;'>2022-01-22 00:00:00</td><td style='text-align: left;'>PC</td><td style='text-align: left;'>0x30ed</td><td style='text-align: left;'>1000.0</td><td style='text-align: left;'>0</td></tr><tr><td style='text-align: left;'>3</td><td style='text-align: left;'>2022-01-28 00:00:00</td><td style='text-align: left;'>2022-01-29 00:00:00</td><td style='text-align: left;'>PC</td><td style='text-align: left;'>0x30ed</td><td style='text-align: left;'>1000.0</td><td style='text-align: left;'>0</td></tr><tr><td style='text-align: left;'>4</td><td style='text-align: left;'>2022-02-04 00:00:00</td><td style='text-align: left;'>2022-02-05 00:00:00</td><td style='text-align: left;'>PC</td><td style='text-align: left;'>0x30ed</td><td style='text-align: left;'>1000.0</td><td style='text-align: left;'>0</td></tr><tr><td style='text-align: left;'>5</td><td style='text-align: left;'>2022-02-11 00:00:00</td><td style='text-align: left;'>2022-02-12 00:00:00</td><td style='text-align: left;'>PC</td><td style='text-align: left;'>0x30ed</td><td style='text-align: left;'>1000.0</td><td style='text-align: left;'>0</td></tr></table>"
      ],
      "text/plain": [
       "Swift_Calendar(username='anonymous',too_id='16821')"
      ]
     },
     "execution_count": 7,
     "metadata": {},
     "output_type": "execute_result"
    }
   ],
   "source": [
    "toos.by_id(16821).calendar"
   ]
  },
  {
   "cell_type": "markdown",
   "id": "04590d3d",
   "metadata": {},
   "source": [
    "You can see here that the calendar has even more information about the TOO. This includes the start and end time of each window, the XRT and UVOT modes used, the requested exposure time per window, and the column **AFST** shows the amount of exposure time taken on that target during the window.\n",
    "\n",
    "Note that a window here is a period of time for which an observation is requested to occur. If the window is a day long, that typically means that the observation can be scheduled at any time during the day. Shorter windows with specific start and end times typically denotes a time constrained observation, e.g. an observation coordinated with another telescope, or an observation where obtaining an observation at a given orbital phase is requested.\n",
    "\n",
    "Note the AFST column is just a guide. It only shows observations taken with the window, so if an observation were taken the next day, or not completely in the window, it will not reflect the full observation time. In order to obtain information about Swift observations of any given Target, use a `Swift_ObsQuery`.\n",
    "\n",
    "### Public vs Private TOO Requests\n",
    "\n",
    "So far the information we have retrieved is what is available publically. This is limited for privacy reasons, but if you have submitted a TOO yourself, you can retrieve more information. To do this you need to provide your `username` and `shared_secret`. Note that if your computer supports Python's `keyring` module, for storing passwords, then your secret should already be stored if you've used it before to submit a TOO request. In this case you can just give your username."
   ]
  },
  {
   "cell_type": "code",
   "execution_count": 8,
   "id": "ec27aeb4",
   "metadata": {},
   "outputs": [
    {
     "data": {
      "text/plain": [
       "True"
      ]
     },
     "execution_count": 8,
     "metadata": {},
     "output_type": "execute_result"
    }
   ],
   "source": [
    "mytoo = TOORequests()\n",
    "mytoo.username = \"myuser\"\n",
    "mytoo.shared_secret = 'mysharedsecret'\n",
    "mytoo.detail = True\n",
    "mytoo.too_id = 16832\n",
    "mytoo.submit()"
   ]
  },
  {
   "cell_type": "markdown",
   "id": "44ae7ce7",
   "metadata": {},
   "source": [
    "You can now look at the detailed information from your TOO request, including non-public information. The TOO request below was submitted by the author (Jamie Kennea), so this is what is presented here."
   ]
  },
  {
   "cell_type": "code",
   "execution_count": 9,
   "id": "86aa8a79",
   "metadata": {},
   "outputs": [
    {
     "data": {
      "text/html": [
       "<table><thead><th style='text-align: left;'>ToO ID</th><th style='text-align: left;'>Object Name</th><th style='text-align: left;'>Instrument</th><th style='text-align: left;'>Right Ascenscion (J2000)</th><th style='text-align: left;'>Declination (J2000)</th><th style='text-align: left;'>UVOT Mode (Approved)</th><th style='text-align: left;'>XRT Mode (Approved)</th><th style='text-align: left;'>Time Submitted</th><th style='text-align: left;'>Requester</th><th style='text-align: left;'>Urgency</th><th style='text-align: left;'>Begin date</th><th style='text-align: left;'>End date</th><th style='text-align: left;'>Primary Target ID</th></thead><tr><td style='text-align: left;'>16832</td><td style='text-align: left;'>None</td><td style='text-align: left;'>XRT</td><td style='text-align: left;'>12.228890419006</td><td style='text-align: left;'>-73.829299926758</td><td style='text-align: left;'>0x9999</td><td style='text-align: left;'>PC</td><td style='text-align: left;'>2022-01-05 12:00:19</td><td style='text-align: left;'>Kennea</td><td style='text-align: left;'>2</td><td style='text-align: left;'>2022-01-05</td><td style='text-align: left;'>2022-01-11</td><td style='text-align: left;'>34599</td></tr></table>"
      ],
      "text/plain": [
       "Swift_TOO_Requests(username='myuser',too_id='16832',detail='True')"
      ]
     },
     "execution_count": 9,
     "metadata": {},
     "output_type": "execute_result"
    }
   ],
   "source": [
    "mytoo"
   ]
  },
  {
   "cell_type": "markdown",
   "id": "401e5de4",
   "metadata": {},
   "source": [
    "Also the calendar for this TOO, including what was observed vs what was planned. "
   ]
  },
  {
   "cell_type": "code",
   "execution_count": 10,
   "id": "c214664f",
   "metadata": {},
   "outputs": [
    {
     "data": {
      "text/html": [
       "<table><thead><th style='text-align: left;'>#</th><th style='text-align: left;'>Start</th><th style='text-align: left;'>Stop</th><th style='text-align: left;'>XRT Mode</th><th style='text-align: left;'>UVOT Mode</th><th style='text-align: left;'>Exposure (s)</th><th style='text-align: left;'>AFST (s)</th></thead><tr><td style='text-align: left;'>0</td><td style='text-align: left;'>2022-01-05 00:00:00</td><td style='text-align: left;'>2022-01-06 00:00:00</td><td style='text-align: left;'>PC</td><td style='text-align: left;'>0x9999</td><td style='text-align: left;'>2000.0</td><td style='text-align: left;'>1995.0</td></tr><tr><td style='text-align: left;'>1</td><td style='text-align: left;'>2022-01-07 00:00:00</td><td style='text-align: left;'>2022-01-08 00:00:00</td><td style='text-align: left;'>PC</td><td style='text-align: left;'>0x9999</td><td style='text-align: left;'>2000.0</td><td style='text-align: left;'>2265.0</td></tr><tr><td style='text-align: left;'>2</td><td style='text-align: left;'>2022-01-09 00:00:00</td><td style='text-align: left;'>2022-01-10 00:00:00</td><td style='text-align: left;'>PC</td><td style='text-align: left;'>0x9999</td><td style='text-align: left;'>2000.0</td><td style='text-align: left;'>1960.0</td></tr><tr><td style='text-align: left;'>3</td><td style='text-align: left;'>2022-01-11 00:00:00</td><td style='text-align: left;'>2022-01-12 00:00:00</td><td style='text-align: left;'>PC</td><td style='text-align: left;'>0x9999</td><td style='text-align: left;'>2000.0</td><td style='text-align: left;'>1359.0</td></tr></table>"
      ],
      "text/plain": [
       "Swift_Calendar(username='anonymous',too_id='16832')"
      ]
     },
     "execution_count": 10,
     "metadata": {},
     "output_type": "execute_result"
    }
   ],
   "source": [
    "mytoo[0].calendar"
   ]
  },
  {
   "cell_type": "code",
   "execution_count": null,
   "id": "57e5f1cb",
   "metadata": {},
   "outputs": [],
   "source": []
  }
 ],
 "metadata": {
  "kernelspec": {
   "display_name": "Python 3 (ipykernel)",
   "language": "python",
   "name": "python3"
  },
  "language_info": {
   "codemirror_mode": {
    "name": "ipython",
    "version": 3
   },
   "file_extension": ".py",
   "mimetype": "text/x-python",
   "name": "python",
   "nbconvert_exporter": "python",
   "pygments_lexer": "ipython3",
   "version": "3.9.14"
  }
 },
 "nbformat": 4,
 "nbformat_minor": 5
}
