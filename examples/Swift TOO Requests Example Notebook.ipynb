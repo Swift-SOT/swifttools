{
 "cells": [
  {
   "cell_type": "markdown",
   "id": "10c30734",
   "metadata": {},
   "source": [
    "# `swift_too` module\n",
    "\n",
    "## Swift_TOO_Requests example - querying planned *Swift* observations\n",
    "\n",
    "### API version = 1.2, `swifttools` version = 2.3\n",
    "\n",
    "#### Author: Jamie A. Kennea (Penn State)\n",
    "\n",
    "The `Swift_TOO_Requests` (or shorthand as of `swifttools` 2.3, `TOORequests`) allows the user to query submitted Swift TOO requests. This can be used either to retrieve detail on requests that you have submitted, or details on all TOO requests.\n",
    "\n",
    "Two important caveats:\n",
    "\n",
    "1. Detailed information on TOOs, including Science Justification text are only retrievable if you are the TOO submitter.\n",
    "\n",
    "2. Only details of approved TOO requests are available. TOOs that have been rejected cannot be fetched.\n",
    "\n",
    "This is therefore useful if you wish to retrieve what you have previously submitted, or see what the current active TOOs are, so you can see if someone has already submitted a TOO for the target you are interested in."
   ]
  },
  {
   "cell_type": "code",
   "execution_count": 1,
   "id": "4707436d",
   "metadata": {},
   "outputs": [],
   "source": [
    "from swift_too import TOORequests"
   ]
  },
  {
   "cell_type": "markdown",
   "id": "bc24d815",
   "metadata": {},
   "source": [
    "### First example - the 20 most recent Swift TOO requests\n",
    "\n",
    "In this example we request information on the last 20 TOO requests approved for observation by Swift. No username or shared_secret needs to be submitted for this request, however if you do submit them the result will be no different. "
   ]
  },
  {
   "cell_type": "code",
   "execution_count": 2,
   "id": "4a1696d9",
   "metadata": {},
   "outputs": [],
   "source": [
    "toos = TOORequests(limit=20)"
   ]
  },
  {
   "cell_type": "code",
   "execution_count": 3,
   "id": "bbaa5569",
   "metadata": {},
   "outputs": [
    {
     "name": "stdout",
     "output_type": "stream",
     "text": [
      "Success!\n"
     ]
    }
   ],
   "source": [
    "if toos.submit():\n",
    "    print(\"Success!\")\n",
    "else:\n",
    "    print(\"Failure: {toos.status.errors}\")"
   ]
  },
  {
   "cell_type": "markdown",
   "id": "aca5818a",
   "metadata": {},
   "source": [
    "That should have worked, so we can now display the 20 most recent approved Swift TOOs by simply display"
   ]
  },
  {
   "cell_type": "code",
   "execution_count": 4,
   "id": "5bd376d9",
   "metadata": {},
   "outputs": [
    {
     "data": {
      "text/html": [
       "<table><thead><th style='text-align: left;'>ToO ID</th><th style='text-align: left;'>Object Name</th><th style='text-align: left;'>Instrument</th><th style='text-align: left;'>Right Ascenscion (J2000)</th><th style='text-align: left;'>Declination (J2000)</th><th style='text-align: left;'>UVOT Mode (Approved)</th><th style='text-align: left;'>XRT Mode (Approved)</th><th style='text-align: left;'>Time Submitted</th><th style='text-align: left;'>Requester</th><th style='text-align: left;'>Urgency</th><th style='text-align: left;'>Begin date</th><th style='text-align: left;'>End date</th><th style='text-align: left;'>Primary Target ID</th></thead><tr><td style='text-align: left;'>16883</td><td style='text-align: left;'>SN2020jdo</td><td style='text-align: left;'>XRT</td><td style='text-align: left;'>273.931854801</td><td style='text-align: left;'>58.2152610216</td><td style='text-align: left;'>0x223f</td><td style='text-align: left;'>PC</td><td style='text-align: left;'>2022-01-18 13:22:13</td><td style='text-align: left;'>Devarakonda</td><td style='text-align: left;'>4</td><td style='text-align: left;'>2022-01-18</td><td style='text-align: left;'>2022-02-15</td><td style='text-align: left;'>13497</td></tr><tr><td style='text-align: left;'>16882</td><td style='text-align: left;'>SN2020rgz</td><td style='text-align: left;'>XRT</td><td style='text-align: left;'>273.004417</td><td style='text-align: left;'>51.724581</td><td style='text-align: left;'>0x223f</td><td style='text-align: left;'>PC</td><td style='text-align: left;'>2022-01-18 13:20:33</td><td style='text-align: left;'>Devarakonda</td><td style='text-align: left;'>4</td><td style='text-align: left;'>2022-01-18</td><td style='text-align: left;'>2022-02-15</td><td style='text-align: left;'>13666</td></tr><tr><td style='text-align: left;'>16881</td><td style='text-align: left;'>SN2020rlj</td><td style='text-align: left;'>XRT</td><td style='text-align: left;'>345.290059561</td><td style='text-align: left;'>23.4872227538</td><td style='text-align: left;'>0x223f</td><td style='text-align: left;'>PC</td><td style='text-align: left;'>2022-01-18 13:18:09</td><td style='text-align: left;'>Devarakonda</td><td style='text-align: left;'>4</td><td style='text-align: left;'>2022-01-23</td><td style='text-align: left;'>2022-01-23</td><td style='text-align: left;'>13667</td></tr><tr><td style='text-align: left;'>16880</td><td style='text-align: left;'>ZTF21abzbmhz</td><td style='text-align: left;'>XRT</td><td style='text-align: left;'>24.442375</td><td style='text-align: left;'>-1.2549083333333</td><td style='text-align: left;'>0x01aa</td><td style='text-align: left;'>PC</td><td style='text-align: left;'>2022-01-18 06:49:32</td><td style='text-align: left;'>Schulze</td><td style='text-align: left;'>3</td><td style='text-align: left;'>2022-01-21</td><td style='text-align: left;'>2022-01-21</td><td style='text-align: left;'>14807</td></tr><tr><td style='text-align: left;'>16879</td><td style='text-align: left;'>ZTF20acpyldh</td><td style='text-align: left;'>XRT</td><td style='text-align: left;'>142.0011733</td><td style='text-align: left;'>14.1212856</td><td style='text-align: left;'>0x01aa</td><td style='text-align: left;'>PC</td><td style='text-align: left;'>2022-01-18 06:01:07</td><td style='text-align: left;'>Schulze</td><td style='text-align: left;'>3</td><td style='text-align: left;'>2022-01-23</td><td style='text-align: left;'>2022-02-12</td><td style='text-align: left;'>14134</td></tr><tr><td style='text-align: left;'>16878</td><td style='text-align: left;'>PG 1553+113</td><td style='text-align: left;'>XRT</td><td style='text-align: left;'>238.92935</td><td style='text-align: left;'>11.1901014</td><td style='text-align: left;'>0x30ed</td><td style='text-align: left;'>PC</td><td style='text-align: left;'>2022-01-18 03:57:35</td><td style='text-align: left;'>Stamerra</td><td style='text-align: left;'>3</td><td style='text-align: left;'>2022-01-23</td><td style='text-align: left;'>2022-05-02</td><td style='text-align: left;'>35021</td></tr><tr><td style='text-align: left;'>16877</td><td style='text-align: left;'>ZTF20abfcszi</td><td style='text-align: left;'>XRT</td><td style='text-align: left;'>7.8050591</td><td style='text-align: left;'>85.0087857</td><td style='text-align: left;'>0x223f</td><td style='text-align: left;'>PC</td><td style='text-align: left;'>2022-01-17 15:43:48</td><td style='text-align: left;'>Newsome</td><td style='text-align: left;'>4</td><td style='text-align: left;'>2022-01-22</td><td style='text-align: left;'>2022-01-22</td><td style='text-align: left;'>13647</td></tr><tr><td style='text-align: left;'>16876</td><td style='text-align: left;'>OJ 287</td><td style='text-align: left;'>XRT</td><td style='text-align: left;'>133.70375</td><td style='text-align: left;'>20.108611111111</td><td style='text-align: left;'>0x30ed</td><td style='text-align: left;'>PC</td><td style='text-align: left;'>2022-01-14 17:14:02</td><td style='text-align: left;'>Komossa</td><td style='text-align: left;'>3</td><td style='text-align: left;'>2022-01-23</td><td style='text-align: left;'>2022-02-19</td><td style='text-align: left;'>35905</td></tr><tr><td style='text-align: left;'>16875</td><td style='text-align: left;'>eRASSU J060839.5-704014</td><td style='text-align: left;'>XRT</td><td style='text-align: left;'>92.164583333333</td><td style='text-align: left;'>-70.670555555556</td><td style='text-align: left;'>0x9999</td><td style='text-align: left;'>PC</td><td style='text-align: left;'>2022-01-14 14:54:45</td><td style='text-align: left;'>Vasilopoulos</td><td style='text-align: left;'>3</td><td style='text-align: left;'>2022-01-20</td><td style='text-align: left;'>2022-02-03</td><td style='text-align: left;'>15020</td></tr><tr><td style='text-align: left;'>16874</td><td style='text-align: left;'>Markarian 501</td><td style='text-align: left;'>XRT</td><td style='text-align: left;'>253.4666595459</td><td style='text-align: left;'>39.760276794434</td><td style='text-align: left;'>0x30ed</td><td style='text-align: left;'>WT</td><td style='text-align: left;'>2022-01-14 11:39:17</td><td style='text-align: left;'>Kapanadze</td><td style='text-align: left;'>3</td><td style='text-align: left;'>2022-01-20</td><td style='text-align: left;'>2022-02-01</td><td style='text-align: left;'>11184</td></tr><tr><td style='text-align: left;'>16873</td><td style='text-align: left;'>ngc 3516</td><td style='text-align: left;'>XRT</td><td style='text-align: left;'>166.69775390625</td><td style='text-align: left;'>72.568664550781</td><td style='text-align: left;'>0x30ed</td><td style='text-align: left;'>PC</td><td style='text-align: left;'>2022-01-14 08:42:01</td><td style='text-align: left;'>Oknyansky</td><td style='text-align: left;'>3</td><td style='text-align: left;'>2022-01-20</td><td style='text-align: left;'>2022-03-15</td><td style='text-align: left;'>35462</td></tr><tr><td style='text-align: left;'>16872</td><td style='text-align: left;'>AT2020jhs</td><td style='text-align: left;'>XRT</td><td style='text-align: left;'>142.058708</td><td style='text-align: left;'>25.670369</td><td style='text-align: left;'>0x223f</td><td style='text-align: left;'>PC</td><td style='text-align: left;'>2022-01-14 00:24:10</td><td style='text-align: left;'>Auchettl</td><td style='text-align: left;'>3</td><td style='text-align: left;'>2022-01-17</td><td style='text-align: left;'>2022-02-02</td><td style='text-align: left;'>15019</td></tr><tr><td style='text-align: left;'>16871</td><td style='text-align: left;'>Mrk 590</td><td style='text-align: left;'>XRT</td><td style='text-align: left;'>33.6398375</td><td style='text-align: left;'>-0.76671666666667</td><td style='text-align: left;'>0x30ed</td><td style='text-align: left;'>PC</td><td style='text-align: left;'>2022-01-13 22:51:01</td><td style='text-align: left;'>Lawther</td><td style='text-align: left;'>3</td><td style='text-align: left;'>2022-01-20</td><td style='text-align: left;'>2022-01-20</td><td style='text-align: left;'>89297</td></tr><tr><td style='text-align: left;'>16870</td><td style='text-align: left;'>SN 2022jo</td><td style='text-align: left;'>XRT</td><td style='text-align: left;'>195.1569288</td><td style='text-align: left;'>28.0571572</td><td style='text-align: left;'>0x223f</td><td style='text-align: left;'>PC</td><td style='text-align: left;'>2022-01-12 14:32:03</td><td style='text-align: left;'>Jacobson-Galan</td><td style='text-align: left;'>2</td><td style='text-align: left;'>2022-01-13</td><td style='text-align: left;'>2022-01-19</td><td style='text-align: left;'>15016</td></tr><tr><td style='text-align: left;'>16869</td><td style='text-align: left;'>PMN J0942-0800</td><td style='text-align: left;'>XRT</td><td style='text-align: left;'>145.58942208333</td><td style='text-align: left;'>-7.9981118055556</td><td style='text-align: left;'>0x30ed</td><td style='text-align: left;'>PC</td><td style='text-align: left;'>2022-01-12 12:48:58</td><td style='text-align: left;'>SHENG</td><td style='text-align: left;'>3</td><td style='text-align: left;'>2022-01-19</td><td style='text-align: left;'>2022-01-19</td><td style='text-align: left;'>46470</td></tr><tr><td style='text-align: left;'>16868</td><td style='text-align: left;'>eRASSU J050810.4-660653</td><td style='text-align: left;'>XRT</td><td style='text-align: left;'>77.043333333333</td><td style='text-align: left;'>-66.114722222222</td><td style='text-align: left;'>0x9999</td><td style='text-align: left;'>PC</td><td style='text-align: left;'>2022-01-12 10:05:33</td><td style='text-align: left;'>Salganik</td><td style='text-align: left;'>3</td><td style='text-align: left;'>2022-01-18</td><td style='text-align: left;'>2022-02-03</td><td style='text-align: left;'>13299</td></tr><tr><td style='text-align: left;'>16867</td><td style='text-align: left;'>PKS 1413+135</td><td style='text-align: left;'>XRT</td><td style='text-align: left;'>213.99508333333</td><td style='text-align: left;'>13.339919444444</td><td style='text-align: left;'>0x209a</td><td style='text-align: left;'>PC</td><td style='text-align: left;'>2022-01-12 04:48:56</td><td style='text-align: left;'>Sitarek</td><td style='text-align: left;'>2</td><td style='text-align: left;'>2022-01-13</td><td style='text-align: left;'>2022-01-15</td><td style='text-align: left;'>36386</td></tr><tr><td style='text-align: left;'>16866</td><td style='text-align: left;'>AD Leo</td><td style='text-align: left;'>XRT</td><td style='text-align: left;'>154.90117001027</td><td style='text-align: left;'>19.870003899374</td><td style='text-align: left;'>0x015a</td><td style='text-align: left;'>PC</td><td style='text-align: left;'>2022-01-11 15:25:32</td><td style='text-align: left;'>Monsue</td><td style='text-align: left;'>3</td><td style='text-align: left;'>2022-02-02</td><td style='text-align: left;'>2022-02-22</td><td style='text-align: left;'>15018</td></tr><tr><td style='text-align: left;'>16865</td><td style='text-align: left;'>SN2020szr</td><td style='text-align: left;'>XRT</td><td style='text-align: left;'>347.387917</td><td style='text-align: left;'>15.659269</td><td style='text-align: left;'>0x223f</td><td style='text-align: left;'>PC</td><td style='text-align: left;'>2022-01-11 13:35:38</td><td style='text-align: left;'>Devarakonda</td><td style='text-align: left;'>4</td><td style='text-align: left;'>2022-01-16</td><td style='text-align: left;'>2022-01-16</td><td style='text-align: left;'>13713</td></tr><tr><td style='text-align: left;'>16864</td><td style='text-align: left;'>SN2020kyx</td><td style='text-align: left;'>XRT</td><td style='text-align: left;'>243.439625</td><td style='text-align: left;'>22.920661</td><td style='text-align: left;'>0x223f</td><td style='text-align: left;'>PC</td><td style='text-align: left;'>2022-01-11 13:34:19</td><td style='text-align: left;'>Devarakonda</td><td style='text-align: left;'>4</td><td style='text-align: left;'>2022-01-24</td><td style='text-align: left;'>2022-01-24</td><td style='text-align: left;'>13512</td></tr></table>"
      ],
      "text/plain": [
       "Swift_TOO_Requests(username='anonymous',limit='20',detail='False',radius='0.19333333333333333')"
      ]
     },
     "execution_count": 4,
     "metadata": {},
     "output_type": "execute_result"
    }
   ],
   "source": [
    "toos"
   ]
  },
  {
   "cell_type": "markdown",
   "id": "bc0d2511",
   "metadata": {},
   "source": [
    "We can also display all the information we obtained for each TOO request as follows, to display the first (and by default most recent) TOO in the list above, do the following."
   ]
  },
  {
   "cell_type": "code",
   "execution_count": 5,
   "id": "0cc82450",
   "metadata": {},
   "outputs": [
    {
     "data": {
      "text/html": [
       "<table><thead><th style='text-align: left;'>Parameter</th><th style='text-align: left;'>Value</th></thead><tr><td style='text-align: left;'>ToO ID</td><td style='text-align: left;'>16883</td></tr><tr><td style='text-align: left;'>Requester</td><td style='text-align: left;'>Devarakonda</td></tr><tr><td style='text-align: left;'>Time Submitted</td><td style='text-align: left;'>2022-01-18 13:22:13</td></tr><tr><td style='text-align: left;'>Urgency</td><td style='text-align: left;'>4</td></tr><tr><td style='text-align: left;'>Object Name</td><td style='text-align: left;'>SN2020jdo</td></tr><tr><td style='text-align: left;'>Type or Classification</td><td style='text-align: left;'>Supernova</td></tr><tr><td style='text-align: left;'>Right Ascenscion (J2000)</td><td style='text-align: left;'>273.931854801</td></tr><tr><td style='text-align: left;'>Declination (J2000)</td><td style='text-align: left;'>58.2152610216</td></tr><tr><td style='text-align: left;'>Position Error (90% confidence - arcminutes)</td><td style='text-align: left;'>0</td></tr><tr><td style='text-align: left;'>Exposure Time per Visit (s)</td><td style='text-align: left;'>3000</td></tr><tr><td style='text-align: left;'>Number of Visits</td><td style='text-align: left;'>1</td></tr><tr><td style='text-align: left;'>Total Exposure (s)</td><td style='text-align: left;'>3000</td></tr><tr><td style='text-align: left;'>Instrument</td><td style='text-align: left;'>XRT</td></tr><tr><td style='text-align: left;'>XRT Mode (Approved)</td><td style='text-align: left;'>PC</td></tr><tr><td style='text-align: left;'>UVOT Mode (Approved)</td><td style='text-align: left;'>0x223f</td></tr><tr><td style='text-align: left;'>Primary Target ID</td><td style='text-align: left;'>13497</td></tr></table>"
      ],
      "text/plain": [
       "Swift_TOO_Request(source_name='SN2020jdo',source_type='Supernova',ra='273.931854801',dec='58.2152610216',poserr='0',instrument='XRT',urgency='4',num_of_visits='1',xrt_mode='PC',uvot_mode='0x9999',obs_n='single',debug='False')"
      ]
     },
     "execution_count": 5,
     "metadata": {},
     "output_type": "execute_result"
    }
   ],
   "source": [
    "toos[0]"
   ]
  },
  {
   "cell_type": "markdown",
   "id": "7c79a94b",
   "metadata": {},
   "source": [
    "If you want to fetch the information for a given `too_id` value, you get use the `by_id` method. Here is an example:"
   ]
  },
  {
   "cell_type": "code",
   "execution_count": 6,
   "id": "ac475b10",
   "metadata": {},
   "outputs": [
    {
     "data": {
      "text/html": [
       "<table><thead><th style='text-align: left;'>Parameter</th><th style='text-align: left;'>Value</th></thead><tr><td style='text-align: left;'>ToO ID</td><td style='text-align: left;'>16864</td></tr><tr><td style='text-align: left;'>Requester</td><td style='text-align: left;'>Devarakonda</td></tr><tr><td style='text-align: left;'>Time Submitted</td><td style='text-align: left;'>2022-01-11 13:34:19</td></tr><tr><td style='text-align: left;'>Urgency</td><td style='text-align: left;'>4</td></tr><tr><td style='text-align: left;'>Object Name</td><td style='text-align: left;'>SN2020kyx</td></tr><tr><td style='text-align: left;'>Type or Classification</td><td style='text-align: left;'>Supernova</td></tr><tr><td style='text-align: left;'>Right Ascenscion (J2000)</td><td style='text-align: left;'>243.439625</td></tr><tr><td style='text-align: left;'>Declination (J2000)</td><td style='text-align: left;'>22.920661</td></tr><tr><td style='text-align: left;'>Position Error (90% confidence - arcminutes)</td><td style='text-align: left;'>0</td></tr><tr><td style='text-align: left;'>Exposure Time per Visit (s)</td><td style='text-align: left;'>3000</td></tr><tr><td style='text-align: left;'>Number of Visits</td><td style='text-align: left;'>1</td></tr><tr><td style='text-align: left;'>Total Exposure (s)</td><td style='text-align: left;'>3000</td></tr><tr><td style='text-align: left;'>Instrument</td><td style='text-align: left;'>XRT</td></tr><tr><td style='text-align: left;'>XRT Mode (Approved)</td><td style='text-align: left;'>PC</td></tr><tr><td style='text-align: left;'>UVOT Mode (Approved)</td><td style='text-align: left;'>0x223f</td></tr><tr><td style='text-align: left;'>Primary Target ID</td><td style='text-align: left;'>13512</td></tr></table>"
      ],
      "text/plain": [
       "Swift_TOO_Request(source_name='SN2020kyx',source_type='Supernova',ra='243.439625',dec='22.920661',poserr='0',instrument='XRT',urgency='4',num_of_visits='1',xrt_mode='PC',uvot_mode='0x9999',obs_n='single',debug='False')"
      ]
     },
     "execution_count": 6,
     "metadata": {},
     "output_type": "execute_result"
    }
   ],
   "source": [
    "toos.by_id(16864)"
   ]
  },
  {
   "cell_type": "markdown",
   "id": "e27a7ce1",
   "metadata": {},
   "source": [
    "### Displaying the scheduling information for a TOO\n",
    "\n",
    "If you are interested to know when/if a TOO has been scheduled in the Swift Planning calendar, you can obtain this information by looking that the `calendar` attribute. This is an instance of the `Swift_Calendar` class. You can display it as follows."
   ]
  },
  {
   "cell_type": "code",
   "execution_count": 7,
   "id": "8f309424",
   "metadata": {},
   "outputs": [
    {
     "data": {
      "text/html": [
       "<table><thead><th style='text-align: left;'>#</th><th style='text-align: left;'>Start</th><th style='text-align: left;'>Stop</th><th style='text-align: left;'>XRT Mode</th><th style='text-align: left;'>UVOT Mode</th><th style='text-align: left;'>Exposure (s)</th><th style='text-align: left;'>AFST (s)</th></thead><tr><td style='text-align: left;'>0</td><td style='text-align: left;'>2022-01-24 00:00:00</td><td style='text-align: left;'>2022-01-25 00:00:00</td><td style='text-align: left;'>PC</td><td style='text-align: left;'>0x223f</td><td style='text-align: left;'>3000</td><td style='text-align: left;'>0</td></tr></table>"
      ],
      "text/plain": [
       "Swift_Calendar(username='anonymous',too_id='16864')"
      ]
     },
     "execution_count": 7,
     "metadata": {},
     "output_type": "execute_result"
    }
   ],
   "source": [
    "toos.by_id(16864).calendar"
   ]
  },
  {
   "cell_type": "markdown",
   "id": "04590d3d",
   "metadata": {},
   "source": [
    "You can see here that the calendar has even more information about the TOO. This includes the start and end time of each window, the XRT and UVOT modes used, the requested exposure time per window, and the column **AFST** shows the amount of exposure time taken on that target during the window.\n",
    "\n",
    "Note that a window here is a period of time for which an observation is requested to occur. If the window is a day long, that typically means that the observation can be scheduled at any time during the day. Shorter windows with specific start and end times typically denotes a time constrained observation, e.g. an observation coordinated with another telescope, or an observation where obtaining an observation at a given orbital phase is requested.\n",
    "\n",
    "Note the AFST column is just a guide. It only shows observations taken with the window, so if an observation were taken the next day, or not completely in the window, it will not reflect the full observation time. In order to obtain information about Swift observations of any given Target, use a `Swift_ObsQuery`.\n",
    "\n",
    "### Public vs Private TOO Requests\n",
    "\n",
    "So far the information we have retrieved is what is available publically. This is limited for privacy reasons, but if you have submitted a TOO yourself, you can retrieve more information. To do this you need to provide your `username` and `shared_secret`. Note that if your computer supports Python's `keyring` module, for storing passwords, then your secret should already be stored if you've used it before to submit a TOO request. In this case you can just give your username."
   ]
  },
  {
   "cell_type": "code",
   "execution_count": 8,
   "id": "80c9750b",
   "metadata": {},
   "outputs": [
    {
     "data": {
      "text/plain": [
       "True"
      ]
     },
     "execution_count": 8,
     "metadata": {},
     "output_type": "execute_result"
    }
   ],
   "source": [
    "mytoo = TOORequests()\n",
    "mytoo.username = 'myuser'\n",
    "mytoo.detail = True\n",
    "mytoo.too_id = 16832\n",
    "mytoo.submit()"
   ]
  },
  {
   "cell_type": "markdown",
   "id": "44ae7ce7",
   "metadata": {},
   "source": [
    "You can now look at the detailed information from your TOO request, including non-public information. The TOO request below was submitted by the author (Jamie Kennea), so this is what is presented here."
   ]
  },
  {
   "cell_type": "code",
   "execution_count": 9,
   "id": "86aa8a79",
   "metadata": {},
   "outputs": [
    {
     "data": {
      "text/html": [
       "<table><thead><th style='text-align: left;'>Parameter</th><th style='text-align: left;'>Value</th></thead><tr><td style='text-align: left;'>ToO ID</td><td style='text-align: left;'>16832</td></tr><tr><td style='text-align: left;'>Requester</td><td style='text-align: left;'>Kennea</td></tr><tr><td style='text-align: left;'>Time Submitted</td><td style='text-align: left;'>2022-01-05 12:00:19</td></tr><tr><td style='text-align: left;'>Urgency</td><td style='text-align: left;'>2</td></tr><tr><td style='text-align: left;'>Object Name</td><td style='text-align: left;'>SXP 15.6</td></tr><tr><td style='text-align: left;'>Type or Classification</td><td style='text-align: left;'>Be Binary System</td></tr><tr><td style='text-align: left;'>Right Ascenscion (J2000)</td><td style='text-align: left;'>12.228890419006</td></tr><tr><td style='text-align: left;'>Declination (J2000)</td><td style='text-align: left;'>-73.829299926758</td></tr><tr><td style='text-align: left;'>Position Error (90% confidence - arcminutes)</td><td style='text-align: left;'>0</td></tr><tr><td style='text-align: left;'>Science Justification</td><td style='text-align: left;'>We wish to continue to monitor the brightness of SXP 15.6 in it's current outburst which was still ongoing as of Dec 30, . We request an initial observation ASAP, as the most recent observation with S-CUBED (Jan 4th) appeared to show a rebrightening. In addition we request resumption of monitoring until pole constraint.</td></tr><tr><td style='text-align: left;'>XRT Estimated Rate (c/s)</td><td style='text-align: left;'>0.15</td></tr><tr><td style='text-align: left;'>Exposure Time per Visit (s)</td><td style='text-align: left;'>2000</td></tr><tr><td style='text-align: left;'>Number of Visits</td><td style='text-align: left;'>4</td></tr><tr><td style='text-align: left;'>Total Exposure (s)</td><td style='text-align: left;'>8000</td></tr><tr><td style='text-align: left;'>Monitoring Cadence</td><td style='text-align: left;'>2 day</td></tr><tr><td style='text-align: left;'>Immediate Objective</td><td style='text-align: left;'>Continue to monitor the brightness of SXP 15.6. We request an initial observation ASAP.</td></tr><tr><td style='text-align: left;'>Exposure Time Justification</td><td style='text-align: left;'>2ks allows for accurate measurement of flux and spectrum.</td></tr><tr><td style='text-align: left;'>Instrument</td><td style='text-align: left;'>XRT</td></tr><tr><td style='text-align: left;'>What is Driving the Exposure Time?</td><td style='text-align: left;'>Light Curve</td></tr><tr><td style='text-align: left;'>XRT Mode (Approved)</td><td style='text-align: left;'>PC</td></tr><tr><td style='text-align: left;'>UVOT Mode (Approved)</td><td style='text-align: left;'>0x9999</td></tr><tr><td style='text-align: left;'>Primary Target ID</td><td style='text-align: left;'>34599</td></tr></table>"
      ],
      "text/plain": [
       "Swift_TOO_Request(username='myuser',source_name='SXP 15.6',source_type='Be Binary System',ra='12.228890419006',dec='-73.829299926758',poserr='0',instrument='XRT',urgency='2',xrt_countrate='0.15',immediate_objective='Continue to monitor the brightness of SXP 15.6. We request an initial observation ASAP.',science_just='We wish to continue to monitor the brightness of SXP 15.6 in it's current outburst which was still ongoing as of Dec 30, . We request an initial observation ASAP, as the most recent observation with S-CUBED (Jan 4th) appeared to show a rebrightening. In addition we request resumption of monitoring until pole constraint.',exp_time_just='2ks allows for accurate measurement of flux and spectrum.',num_of_visits='1',monitoring_freq='2 day',proposal='no',xrt_mode='PC',uvot_mode='0x9999',uvot_just='',tiling='No',number_of_tiles='None',obs_n='single',obs_type='Light Curve',debug='False')"
      ]
     },
     "execution_count": 9,
     "metadata": {},
     "output_type": "execute_result"
    }
   ],
   "source": [
    "mytoo[0]"
   ]
  },
  {
   "cell_type": "markdown",
   "id": "401e5de4",
   "metadata": {},
   "source": [
    "Also the calendar for this TOO, including what was observed vs what was planned. "
   ]
  },
  {
   "cell_type": "code",
   "execution_count": 10,
   "id": "c214664f",
   "metadata": {},
   "outputs": [
    {
     "data": {
      "text/html": [
       "<table><thead><th style='text-align: left;'>#</th><th style='text-align: left;'>Start</th><th style='text-align: left;'>Stop</th><th style='text-align: left;'>XRT Mode</th><th style='text-align: left;'>UVOT Mode</th><th style='text-align: left;'>Exposure (s)</th><th style='text-align: left;'>AFST (s)</th></thead><tr><td style='text-align: left;'>0</td><td style='text-align: left;'>2022-01-05 00:00:00</td><td style='text-align: left;'>2022-01-06 00:00:00</td><td style='text-align: left;'>PC</td><td style='text-align: left;'>0x9999</td><td style='text-align: left;'>2000</td><td style='text-align: left;'>1995.0</td></tr><tr><td style='text-align: left;'>1</td><td style='text-align: left;'>2022-01-07 00:00:00</td><td style='text-align: left;'>2022-01-08 00:00:00</td><td style='text-align: left;'>PC</td><td style='text-align: left;'>0x9999</td><td style='text-align: left;'>2000</td><td style='text-align: left;'>2265.0</td></tr><tr><td style='text-align: left;'>2</td><td style='text-align: left;'>2022-01-09 00:00:00</td><td style='text-align: left;'>2022-01-10 00:00:00</td><td style='text-align: left;'>PC</td><td style='text-align: left;'>0x9999</td><td style='text-align: left;'>2000</td><td style='text-align: left;'>1960.0</td></tr><tr><td style='text-align: left;'>3</td><td style='text-align: left;'>2022-01-11 00:00:00</td><td style='text-align: left;'>2022-01-12 00:00:00</td><td style='text-align: left;'>PC</td><td style='text-align: left;'>0x9999</td><td style='text-align: left;'>2000</td><td style='text-align: left;'>1359.0</td></tr></table>"
      ],
      "text/plain": [
       "Swift_Calendar(username='anonymous',too_id='16832')"
      ]
     },
     "execution_count": 10,
     "metadata": {},
     "output_type": "execute_result"
    }
   ],
   "source": [
    "mytoo[0].calendar"
   ]
  }
 ],
 "metadata": {
  "kernelspec": {
   "display_name": "Python 3 (ipykernel)",
   "language": "python",
   "name": "python3"
  },
  "language_info": {
   "codemirror_mode": {
    "name": "ipython",
    "version": 3
   },
   "file_extension": ".py",
   "mimetype": "text/x-python",
   "name": "python",
   "nbconvert_exporter": "python",
   "pygments_lexer": "ipython3",
   "version": "3.9.9"
  }
 },
 "nbformat": 4,
 "nbformat_minor": 5
}
