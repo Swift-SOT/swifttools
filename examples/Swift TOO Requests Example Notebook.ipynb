{
 "cells": [
  {
   "cell_type": "markdown",
   "id": "10c30734",
   "metadata": {},
   "source": [
    "# `swift_too` module\n",
    "\n",
    "## Swift_TOO_Requests example - querying planned *Swift* observations\n",
    "\n",
    "### API version = 1.2, `swifttools` version = 2.4\n",
    "\n",
    "#### Author: Jamie A. Kennea (Penn State)\n",
    "\n",
    "The `Swift_TOO_Requests` (or shorthand as of `swifttools` 2.3, `TOORequests`) allows the user to query submitted Swift TOO requests. This can be used either to retrieve detail on requests that you have submitted, or details on all TOO requests.\n",
    "\n",
    "Two important caveats:\n",
    "\n",
    "1. Detailed information on TOOs, including Science Justification text are only retrievable if you are the TOO submitter.\n",
    "\n",
    "2. Only details of approved TOO requests are available. TOOs that have been rejected cannot be fetched.\n",
    "\n",
    "This is therefore useful if you wish to retrieve what you have previously submitted, or see what the current active TOOs are, so you can see if someone has already submitted a TOO for the target you are interested in."
   ]
  },
  {
   "cell_type": "code",
   "execution_count": 1,
   "id": "4707436d",
   "metadata": {},
   "outputs": [],
   "source": [
    "from swifttools.swift_too import TOORequests"
   ]
  },
  {
   "cell_type": "markdown",
   "id": "bc24d815",
   "metadata": {},
   "source": [
    "### First example - the 20 most recent Swift TOO requests\n",
    "\n",
    "In this example we request information on the last 20 TOO requests approved for observation by Swift. No username or shared_secret needs to be submitted for this request, however if you do submit them the result will be no different. "
   ]
  },
  {
   "cell_type": "code",
   "execution_count": 2,
   "id": "4a1696d9",
   "metadata": {},
   "outputs": [],
   "source": [
    "toos = TOORequests(limit=20)"
   ]
  },
  {
   "cell_type": "code",
   "execution_count": 3,
   "id": "bbaa5569",
   "metadata": {},
   "outputs": [
    {
     "name": "stdout",
     "output_type": "stream",
     "text": [
      "Success!\n"
     ]
    }
   ],
   "source": [
    "if toos.submit():\n",
    "    print(\"Success!\")\n",
    "else:\n",
    "    print(\"Failure: {toos.status.errors}\")"
   ]
  },
  {
   "cell_type": "markdown",
   "id": "aca5818a",
   "metadata": {},
   "source": [
    "That should have worked, so we can now display the 20 most recent approved Swift TOOs by simply display"
   ]
  },
  {
   "cell_type": "code",
   "execution_count": 4,
   "id": "5bd376d9",
   "metadata": {},
   "outputs": [
    {
     "data": {
      "text/html": [
       "<table><thead><th style='text-align: left;'>ToO ID</th><th style='text-align: left;'>Object Name</th><th style='text-align: left;'>Instrument</th><th style='text-align: left;'>Right Ascenscion (J2000)</th><th style='text-align: left;'>Declination (J2000)</th><th style='text-align: left;'>UVOT Mode (Approved)</th><th style='text-align: left;'>XRT Mode (Approved)</th><th style='text-align: left;'>Time Submitted</th><th style='text-align: left;'>Requester</th><th style='text-align: left;'>Urgency</th><th style='text-align: left;'>Begin date</th><th style='text-align: left;'>End date</th><th style='text-align: left;'>Primary Target ID</th></thead><tr><td style='text-align: left;'>17089</td><td style='text-align: left;'>2MASS J10225172-3226044</td><td style='text-align: left;'>XRT</td><td style='text-align: left;'>155.71545833333</td><td style='text-align: left;'>-32.434638888889</td><td style='text-align: left;'>0x9999</td><td style='text-align: left;'>PC</td><td style='text-align: left;'>2022-03-27 17:16:57</td><td style='text-align: left;'>de Martino</td><td style='text-align: left;'>4</td><td style='text-align: left;'>2022-04-04</td><td style='text-align: left;'>2022-04-04</td><td style='text-align: left;'>15103</td></tr><tr><td style='text-align: left;'>17088</td><td style='text-align: left;'>AT2022ffv</td><td style='text-align: left;'>UVOT</td><td style='text-align: left;'>54.1236583</td><td style='text-align: left;'>-35.28935</td><td style='text-align: left;'>0x223f</td><td style='text-align: left;'>PC</td><td style='text-align: left;'>2022-03-27 17:04:44</td><td style='text-align: left;'>Jacobson-Galan</td><td style='text-align: left;'>2</td><td style='text-align: left;'>2022-03-28</td><td style='text-align: left;'>2022-04-05</td><td style='text-align: left;'>15102</td></tr><tr><td style='text-align: left;'>17087</td><td style='text-align: left;'>AT2022ffg</td><td style='text-align: left;'>UVOT</td><td style='text-align: left;'>153.45092916667</td><td style='text-align: left;'>18.127325</td><td style='text-align: left;'>0x223f</td><td style='text-align: left;'>PC</td><td style='text-align: left;'>2022-03-27 15:27:57</td><td style='text-align: left;'>Milne</td><td style='text-align: left;'>2</td><td style='text-align: left;'>2022-03-28</td><td style='text-align: left;'>2022-04-01</td><td style='text-align: left;'>15101</td></tr><tr><td style='text-align: left;'>17086</td><td style='text-align: left;'>WISEAJ045649.80-203748.0</td><td style='text-align: left;'>UVOT</td><td style='text-align: left;'>74.20751953125</td><td style='text-align: left;'>-20.629974365234</td><td style='text-align: left;'>0x015a</td><td style='text-align: left;'>PC</td><td style='text-align: left;'>2022-03-27 08:49:27</td><td style='text-align: left;'>Liu</td><td style='text-align: left;'>3</td><td style='text-align: left;'>2022-04-01</td><td style='text-align: left;'>2022-04-15</td><td style='text-align: left;'>14135</td></tr><tr><td style='text-align: left;'>17085</td><td style='text-align: left;'>2021eyw</td><td style='text-align: left;'>UVOT</td><td style='text-align: left;'>190.999875</td><td style='text-align: left;'>62.330083333333</td><td style='text-align: left;'>0x223f</td><td style='text-align: left;'>PC</td><td style='text-align: left;'>2022-03-25 19:20:33</td><td style='text-align: left;'>Siebert</td><td style='text-align: left;'>2</td><td style='text-align: left;'>2022-03-27</td><td style='text-align: left;'>2022-04-06</td><td style='text-align: left;'>15099</td></tr><tr><td style='text-align: left;'>17083</td><td style='text-align: left;'>1ES 1741+196</td><td style='text-align: left;'>XRT</td><td style='text-align: left;'>265.99095833333</td><td style='text-align: left;'>19.585833333333</td><td style='text-align: left;'>0x30ed</td><td style='text-align: left;'>PC</td><td style='text-align: left;'>2022-03-25 17:43:39</td><td style='text-align: left;'>Falcone</td><td style='text-align: left;'>3</td><td style='text-align: left;'>2022-04-06</td><td style='text-align: left;'>2022-04-06</td><td style='text-align: left;'>40639</td></tr><tr><td style='text-align: left;'>17082</td><td style='text-align: left;'>1ES 1727+502</td><td style='text-align: left;'>XRT</td><td style='text-align: left;'>262.07758333333</td><td style='text-align: left;'>50.219583333333</td><td style='text-align: left;'>0x30ed</td><td style='text-align: left;'>PC</td><td style='text-align: left;'>2022-03-25 17:39:50</td><td style='text-align: left;'>Falcone</td><td style='text-align: left;'>3</td><td style='text-align: left;'>2022-04-05</td><td style='text-align: left;'>2022-04-05</td><td style='text-align: left;'>33709</td></tr><tr><td style='text-align: left;'>17081</td><td style='text-align: left;'>PG 1553+113</td><td style='text-align: left;'>XRT</td><td style='text-align: left;'>238.9294</td><td style='text-align: left;'>11.1901</td><td style='text-align: left;'>0x30ed</td><td style='text-align: left;'>PC</td><td style='text-align: left;'>2022-03-25 17:37:46</td><td style='text-align: left;'>Falcone</td><td style='text-align: left;'>3</td><td style='text-align: left;'>2022-04-04</td><td style='text-align: left;'>2022-04-04</td><td style='text-align: left;'>35021</td></tr><tr><td style='text-align: left;'>17080</td><td style='text-align: left;'>H1426+428</td><td style='text-align: left;'>XRT</td><td style='text-align: left;'>217.135871</td><td style='text-align: left;'>42.672513</td><td style='text-align: left;'>0x30ed</td><td style='text-align: left;'>PC</td><td style='text-align: left;'>2022-03-25 17:34:57</td><td style='text-align: left;'>Falcone</td><td style='text-align: left;'>3</td><td style='text-align: left;'>2022-04-01</td><td style='text-align: left;'>2022-04-01</td><td style='text-align: left;'>30375</td></tr><tr><td style='text-align: left;'>17079</td><td style='text-align: left;'>PKS 1424+240</td><td style='text-align: left;'>XRT</td><td style='text-align: left;'>216.7516</td><td style='text-align: left;'>23.8</td><td style='text-align: left;'>0x30ed</td><td style='text-align: left;'>PC</td><td style='text-align: left;'>2022-03-25 17:32:44</td><td style='text-align: left;'>Falcone</td><td style='text-align: left;'>3</td><td style='text-align: left;'>2022-03-31</td><td style='text-align: left;'>2022-03-31</td><td style='text-align: left;'>41539</td></tr><tr><td style='text-align: left;'>17078</td><td style='text-align: left;'>1ES 1218+304</td><td style='text-align: left;'>XRT</td><td style='text-align: left;'>185.3414</td><td style='text-align: left;'>30.177</td><td style='text-align: left;'>0x30ed</td><td style='text-align: left;'>PC</td><td style='text-align: left;'>2022-03-25 17:29:44</td><td style='text-align: left;'>Falcone</td><td style='text-align: left;'>3</td><td style='text-align: left;'>2022-03-30</td><td style='text-align: left;'>2022-03-30</td><td style='text-align: left;'>30376</td></tr><tr><td style='text-align: left;'>17077</td><td style='text-align: left;'>W Com</td><td style='text-align: left;'>XRT</td><td style='text-align: left;'>185.3820343</td><td style='text-align: left;'>28.2329159</td><td style='text-align: left;'>0x30ed</td><td style='text-align: left;'>PC</td><td style='text-align: left;'>2022-03-25 17:26:51</td><td style='text-align: left;'>Falcone</td><td style='text-align: left;'>3</td><td style='text-align: left;'>2022-03-29</td><td style='text-align: left;'>2022-03-29</td><td style='text-align: left;'>35018</td></tr><tr><td style='text-align: left;'>17076</td><td style='text-align: left;'>SN2022qh</td><td style='text-align: left;'>UVOT</td><td style='text-align: left;'>164.83354166667</td><td style='text-align: left;'>-43.268658333333</td><td style='text-align: left;'>0x223f</td><td style='text-align: left;'>PC</td><td style='text-align: left;'>2022-03-25 13:59:49</td><td style='text-align: left;'>Roy</td><td style='text-align: left;'>3</td><td style='text-align: left;'>2022-03-30</td><td style='text-align: left;'>2022-04-11</td><td style='text-align: left;'>15100</td></tr><tr><td style='text-align: left;'>17075</td><td style='text-align: left;'>RBS0690</td><td style='text-align: left;'>XRT</td><td style='text-align: left;'>121.36102625</td><td style='text-align: left;'>75.573622222222</td><td style='text-align: left;'>0x9999</td><td style='text-align: left;'>PC</td><td style='text-align: left;'>2022-03-25 11:09:42</td><td style='text-align: left;'>Foffano</td><td style='text-align: left;'>4</td><td style='text-align: left;'>2022-04-04</td><td style='text-align: left;'>2022-04-04</td><td style='text-align: left;'>39145</td></tr><tr><td style='text-align: left;'>17074</td><td style='text-align: left;'>NGC 4151</td><td style='text-align: left;'>XRT</td><td style='text-align: left;'>182.6357449</td><td style='text-align: left;'>39.4057299</td><td style='text-align: left;'>0x30ed</td><td style='text-align: left;'>PC</td><td style='text-align: left;'>2022-03-25 05:38:37</td><td style='text-align: left;'>Middei</td><td style='text-align: left;'>3</td><td style='text-align: left;'>2022-03-29</td><td style='text-align: left;'>2022-04-06</td><td style='text-align: left;'>34455</td></tr><tr><td style='text-align: left;'>17073</td><td style='text-align: left;'>PKS 2155-304</td><td style='text-align: left;'>XRT</td><td style='text-align: left;'>329.71666666667</td><td style='text-align: left;'>-30.225555555556</td><td style='text-align: left;'>0x30ed</td><td style='text-align: left;'>PC</td><td style='text-align: left;'>2022-03-24 15:10:35</td><td style='text-align: left;'>Kapanadze</td><td style='text-align: left;'>3</td><td style='text-align: left;'>2022-03-30</td><td style='text-align: left;'>2022-04-17</td><td style='text-align: left;'>30795</td></tr><tr><td style='text-align: left;'>17072</td><td style='text-align: left;'>Mrk421</td><td style='text-align: left;'>XRT</td><td style='text-align: left;'>166.11380791667</td><td style='text-align: left;'>38.208832777778</td><td style='text-align: left;'>0x308f</td><td style='text-align: left;'>WT</td><td style='text-align: left;'>2022-03-24 14:05:37</td><td style='text-align: left;'>Paneque</td><td style='text-align: left;'>3</td><td style='text-align: left;'>2022-03-27</td><td style='text-align: left;'>2022-03-27</td><td style='text-align: left;'>31540</td></tr><tr><td style='text-align: left;'>17071</td><td style='text-align: left;'>WISEA J005739.96-850721.9</td><td style='text-align: left;'>XRT</td><td style='text-align: left;'>14.415</td><td style='text-align: left;'>-85.1224</td><td style='text-align: left;'>0x223f</td><td style='text-align: left;'>PC</td><td style='text-align: left;'>2022-03-24 13:10:52</td><td style='text-align: left;'>Krumpe</td><td style='text-align: left;'>3</td><td style='text-align: left;'>2022-03-30</td><td style='text-align: left;'>2022-03-30</td><td style='text-align: left;'>15098</td></tr><tr><td style='text-align: left;'>17070</td><td style='text-align: left;'>WISEA J124028.32-230926.7</td><td style='text-align: left;'>XRT</td><td style='text-align: left;'>190.11792</td><td style='text-align: left;'>-23.15722</td><td style='text-align: left;'>0x223f</td><td style='text-align: left;'>PC</td><td style='text-align: left;'>2022-03-24 12:36:50</td><td style='text-align: left;'>Krumpe</td><td style='text-align: left;'>3</td><td style='text-align: left;'>2022-03-29</td><td style='text-align: left;'>2022-03-29</td><td style='text-align: left;'>15025</td></tr><tr><td style='text-align: left;'>17069</td><td style='text-align: left;'>S5 1803+78</td><td style='text-align: left;'>XRT</td><td style='text-align: left;'>270.1903</td><td style='text-align: left;'>78.4678</td><td style='text-align: left;'>0x9999</td><td style='text-align: left;'>PC</td><td style='text-align: left;'>2022-03-24 11:00:26</td><td style='text-align: left;'>Prince</td><td style='text-align: left;'>3</td><td style='text-align: left;'>2022-03-29</td><td style='text-align: left;'>2022-04-06</td><td style='text-align: left;'>36393</td></tr></table>"
      ],
      "text/plain": [
       "Swift_TOO_Requests(username='anonymous',limit='20',detail='False',radius='0.19333333333333333')"
      ]
     },
     "execution_count": 4,
     "metadata": {},
     "output_type": "execute_result"
    }
   ],
   "source": [
    "toos"
   ]
  },
  {
   "cell_type": "markdown",
   "id": "bc0d2511",
   "metadata": {},
   "source": [
    "We can also display all the information we obtained for each TOO request as follows, to display the first (and by default most recent) TOO in the list above, do the following."
   ]
  },
  {
   "cell_type": "code",
   "execution_count": 5,
   "id": "0cc82450",
   "metadata": {},
   "outputs": [
    {
     "data": {
      "text/html": [
       "<table><thead><th style='text-align: left;'>Parameter</th><th style='text-align: left;'>Value</th></thead><tr><td style='text-align: left;'>ToO ID</td><td style='text-align: left;'>17088</td></tr><tr><td style='text-align: left;'>Requester</td><td style='text-align: left;'>Jacobson-Galan</td></tr><tr><td style='text-align: left;'>Time Submitted</td><td style='text-align: left;'>2022-03-27 17:04:44</td></tr><tr><td style='text-align: left;'>Urgency</td><td style='text-align: left;'>2</td></tr><tr><td style='text-align: left;'>Object Name</td><td style='text-align: left;'>AT2022ffv</td></tr><tr><td style='text-align: left;'>Type or Classification</td><td style='text-align: left;'>Supernova</td></tr><tr><td style='text-align: left;'>Right Ascenscion (J2000)</td><td style='text-align: left;'>54.1236583</td></tr><tr><td style='text-align: left;'>Declination (J2000)</td><td style='text-align: left;'>-35.28935</td></tr><tr><td style='text-align: left;'>Position Error (90% confidence - arcminutes)</td><td style='text-align: left;'>0</td></tr><tr><td style='text-align: left;'>Exposure Time per Visit (s)</td><td style='text-align: left;'>1000</td></tr><tr><td style='text-align: left;'>Number of Visits</td><td style='text-align: left;'>5</td></tr><tr><td style='text-align: left;'>Total Exposure (s)</td><td style='text-align: left;'>5000</td></tr><tr><td style='text-align: left;'>Instrument</td><td style='text-align: left;'>UVOT</td></tr><tr><td style='text-align: left;'>XRT Mode (Approved)</td><td style='text-align: left;'>PC</td></tr><tr><td style='text-align: left;'>UVOT Mode (Approved)</td><td style='text-align: left;'>0x223f</td></tr><tr><td style='text-align: left;'>Primary Target ID</td><td style='text-align: left;'>15102</td></tr></table>"
      ],
      "text/plain": [
       "Swift_TOO_Request(source_name='AT2022ffv',source_type='Supernova',ra='54.1236583',dec='-35.28935',poserr='0',instrument='UVOT',urgency='2',num_of_visits='1',xrt_mode='PC',uvot_mode='0x9999',obs_n='single',debug='False')"
      ]
     },
     "execution_count": 5,
     "metadata": {},
     "output_type": "execute_result"
    }
   ],
   "source": [
    "toos[1]"
   ]
  },
  {
   "cell_type": "markdown",
   "id": "7c79a94b",
   "metadata": {},
   "source": [
    "If you want to fetch the information for a given `too_id` value, you get use the `by_id` method. Here is an example:"
   ]
  },
  {
   "cell_type": "code",
   "execution_count": 6,
   "id": "ac475b10",
   "metadata": {},
   "outputs": [
    {
     "data": {
      "text/html": [
       "<table><thead><th style='text-align: left;'>Parameter</th><th style='text-align: left;'>Value</th></thead><tr><td style='text-align: left;'>ToO ID</td><td style='text-align: left;'>17086</td></tr><tr><td style='text-align: left;'>Requester</td><td style='text-align: left;'>Liu</td></tr><tr><td style='text-align: left;'>Time Submitted</td><td style='text-align: left;'>2022-03-27 08:49:27</td></tr><tr><td style='text-align: left;'>Urgency</td><td style='text-align: left;'>3</td></tr><tr><td style='text-align: left;'>Object Name</td><td style='text-align: left;'>WISEAJ045649.80-203748.0</td></tr><tr><td style='text-align: left;'>Type or Classification</td><td style='text-align: left;'>X-Ray Transient</td></tr><tr><td style='text-align: left;'>Right Ascenscion (J2000)</td><td style='text-align: left;'>74.20751953125</td></tr><tr><td style='text-align: left;'>Declination (J2000)</td><td style='text-align: left;'>-20.629974365234</td></tr><tr><td style='text-align: left;'>Position Error (90% confidence - arcminutes)</td><td style='text-align: left;'>0</td></tr><tr><td style='text-align: left;'>Exposure Time per Visit (s)</td><td style='text-align: left;'>3000</td></tr><tr><td style='text-align: left;'>Number of Visits</td><td style='text-align: left;'>3</td></tr><tr><td style='text-align: left;'>Total Exposure (s)</td><td style='text-align: left;'>9000</td></tr><tr><td style='text-align: left;'>Instrument</td><td style='text-align: left;'>UVOT</td></tr><tr><td style='text-align: left;'>XRT Mode (Approved)</td><td style='text-align: left;'>PC</td></tr><tr><td style='text-align: left;'>UVOT Mode (Approved)</td><td style='text-align: left;'>0x015a</td></tr><tr><td style='text-align: left;'>Primary Target ID</td><td style='text-align: left;'>14135</td></tr></table>"
      ],
      "text/plain": [
       "Swift_TOO_Request(source_name='WISEAJ045649.80-203748.0',source_type='X-Ray Transient',ra='74.20751953125',dec='-20.629974365234',poserr='0',instrument='UVOT',urgency='3',num_of_visits='1',xrt_mode='PC',uvot_mode='0x9999',obs_n='single',debug='False')"
      ]
     },
     "execution_count": 6,
     "metadata": {},
     "output_type": "execute_result"
    }
   ],
   "source": [
    "toos.by_id(17086)"
   ]
  },
  {
   "cell_type": "markdown",
   "id": "e27a7ce1",
   "metadata": {},
   "source": [
    "### Displaying the scheduling information for a TOO\n",
    "\n",
    "If you are interested to know when/if a TOO has been scheduled in the Swift Planning calendar, you can obtain this information by looking that the `calendar` attribute. This is an instance of the `Swift_Calendar` class. You can display it as follows."
   ]
  },
  {
   "cell_type": "code",
   "execution_count": 7,
   "id": "8f309424",
   "metadata": {},
   "outputs": [
    {
     "data": {
      "text/html": [
       "<table><thead><th style='text-align: left;'>#</th><th style='text-align: left;'>Start</th><th style='text-align: left;'>Stop</th><th style='text-align: left;'>XRT Mode</th><th style='text-align: left;'>UVOT Mode</th><th style='text-align: left;'>Exposure (s)</th><th style='text-align: left;'>AFST (s)</th></thead><tr><td style='text-align: left;'>0</td><td style='text-align: left;'>2022-04-01 00:00:00</td><td style='text-align: left;'>2022-04-02 00:00:00</td><td style='text-align: left;'>PC</td><td style='text-align: left;'>0x015a</td><td style='text-align: left;'>3000</td><td style='text-align: left;'>0</td></tr><tr><td style='text-align: left;'>1</td><td style='text-align: left;'>2022-04-08 00:00:00</td><td style='text-align: left;'>2022-04-09 00:00:00</td><td style='text-align: left;'>PC</td><td style='text-align: left;'>0x015a</td><td style='text-align: left;'>3000</td><td style='text-align: left;'>0</td></tr><tr><td style='text-align: left;'>2</td><td style='text-align: left;'>2022-04-15 00:00:00</td><td style='text-align: left;'>2022-04-16 00:00:00</td><td style='text-align: left;'>PC</td><td style='text-align: left;'>0x015a</td><td style='text-align: left;'>3000</td><td style='text-align: left;'>0</td></tr></table>"
      ],
      "text/plain": [
       "Swift_Calendar(username='anonymous',too_id='17086')"
      ]
     },
     "execution_count": 7,
     "metadata": {},
     "output_type": "execute_result"
    }
   ],
   "source": [
    "toos.by_id(17086).calendar"
   ]
  },
  {
   "cell_type": "markdown",
   "id": "04590d3d",
   "metadata": {},
   "source": [
    "You can see here that the calendar has even more information about the TOO. This includes the start and end time of each window, the XRT and UVOT modes used, the requested exposure time per window, and the column **AFST** shows the amount of exposure time taken on that target during the window.\n",
    "\n",
    "Note that a window here is a period of time for which an observation is requested to occur. If the window is a day long, that typically means that the observation can be scheduled at any time during the day. Shorter windows with specific start and end times typically denotes a time constrained observation, e.g. an observation coordinated with another telescope, or an observation where obtaining an observation at a given orbital phase is requested.\n",
    "\n",
    "Note the AFST column is just a guide. It only shows observations taken with the window, so if an observation were taken the next day, or not completely in the window, it will not reflect the full observation time. In order to obtain information about Swift observations of any given Target, use a `Swift_ObsQuery`.\n",
    "\n",
    "### Public vs Private TOO Requests\n",
    "\n",
    "So far the information we have retrieved is what is available publically. This is limited for privacy reasons, but if you have submitted a TOO yourself, you can retrieve more information. To do this you need to provide your `username` and `shared_secret`. Note that if your computer supports Python's `keyring` module, for storing passwords, then your secret should already be stored if you've used it before to submit a TOO request. In this case you can just give your username."
   ]
  },
  {
   "cell_type": "code",
   "execution_count": 10,
   "id": "ec27aeb4",
   "metadata": {},
   "outputs": [
    {
     "data": {
      "text/plain": [
       "True"
      ]
     },
     "execution_count": 10,
     "metadata": {},
     "output_type": "execute_result"
    }
   ],
   "source": [
    "mytoo = TOORequests()\n",
    "mytoo.username = \"myuser\"\n",
    "mytoo.shared_secret = 'my_shared_secret'\n",
    "mytoo.detail = True\n",
    "mytoo.too_id = 16832\n",
    "mytoo.submit()"
   ]
  },
  {
   "cell_type": "markdown",
   "id": "44ae7ce7",
   "metadata": {},
   "source": [
    "You can now look at the detailed information from your TOO request, including non-public information. The TOO request below was submitted by the author (Jamie Kennea), so this is what is presented here."
   ]
  },
  {
   "cell_type": "code",
   "execution_count": 11,
   "id": "86aa8a79",
   "metadata": {},
   "outputs": [
    {
     "data": {
      "text/html": [
       "<table><thead><th style='text-align: left;'>Parameter</th><th style='text-align: left;'>Value</th></thead><tr><td style='text-align: left;'>ToO ID</td><td style='text-align: left;'>16832</td></tr><tr><td style='text-align: left;'>Requester</td><td style='text-align: left;'>Kennea</td></tr><tr><td style='text-align: left;'>Time Submitted</td><td style='text-align: left;'>2022-01-05 12:00:19</td></tr><tr><td style='text-align: left;'>Urgency</td><td style='text-align: left;'>2</td></tr><tr><td style='text-align: left;'>Object Name</td><td style='text-align: left;'>SXP 15.6</td></tr><tr><td style='text-align: left;'>Type or Classification</td><td style='text-align: left;'>Be Binary System</td></tr><tr><td style='text-align: left;'>Right Ascenscion (J2000)</td><td style='text-align: left;'>12.228890419006</td></tr><tr><td style='text-align: left;'>Declination (J2000)</td><td style='text-align: left;'>-73.829299926758</td></tr><tr><td style='text-align: left;'>Position Error (90% confidence - arcminutes)</td><td style='text-align: left;'>0</td></tr><tr><td style='text-align: left;'>Science Justification</td><td style='text-align: left;'>We wish to continue to monitor the brightness of SXP 15.6 in it's current outburst which was still ongoing as of Dec 30, . We request an initial observation ASAP, as the most recent observation with S-CUBED (Jan 4th) appeared to show a rebrightening. In addition we request resumption of monitoring until pole constraint.</td></tr><tr><td style='text-align: left;'>XRT Estimated Rate (c/s)</td><td style='text-align: left;'>0.15</td></tr><tr><td style='text-align: left;'>Exposure Time per Visit (s)</td><td style='text-align: left;'>2000</td></tr><tr><td style='text-align: left;'>Number of Visits</td><td style='text-align: left;'>4</td></tr><tr><td style='text-align: left;'>Total Exposure (s)</td><td style='text-align: left;'>8000</td></tr><tr><td style='text-align: left;'>Monitoring Cadence</td><td style='text-align: left;'>2 day</td></tr><tr><td style='text-align: left;'>Immediate Objective</td><td style='text-align: left;'>Continue to monitor the brightness of SXP 15.6. We request an initial observation ASAP.</td></tr><tr><td style='text-align: left;'>Exposure Time Justification</td><td style='text-align: left;'>2ks allows for accurate measurement of flux and spectrum.</td></tr><tr><td style='text-align: left;'>Instrument</td><td style='text-align: left;'>XRT</td></tr><tr><td style='text-align: left;'>What is Driving the Exposure Time?</td><td style='text-align: left;'>Light Curve</td></tr><tr><td style='text-align: left;'>XRT Mode (Approved)</td><td style='text-align: left;'>PC</td></tr><tr><td style='text-align: left;'>UVOT Mode (Approved)</td><td style='text-align: left;'>0x9999</td></tr><tr><td style='text-align: left;'>Primary Target ID</td><td style='text-align: left;'>34599</td></tr></table>"
      ],
      "text/plain": [
       "Swift_TOO_Request(username='myuser',source_name='SXP 15.6',source_type='Be Binary System',ra='12.228890419006',dec='-73.829299926758',poserr='0',instrument='XRT',urgency='2',xrt_countrate='0.15',immediate_objective='Continue to monitor the brightness of SXP 15.6. We request an initial observation ASAP.',science_just='We wish to continue to monitor the brightness of SXP 15.6 in it's current outburst which was still ongoing as of Dec 30, . We request an initial observation ASAP, as the most recent observation with S-CUBED (Jan 4th) appeared to show a rebrightening. In addition we request resumption of monitoring until pole constraint.',exp_time_just='2ks allows for accurate measurement of flux and spectrum.',num_of_visits='1',monitoring_freq='2 day',proposal='no',xrt_mode='PC',uvot_mode='0x9999',uvot_just='',tiling='No',number_of_tiles='None',obs_n='single',obs_type='Light Curve',debug='False')"
      ]
     },
     "execution_count": 11,
     "metadata": {},
     "output_type": "execute_result"
    }
   ],
   "source": [
    "mytoo[0]"
   ]
  },
  {
   "cell_type": "markdown",
   "id": "401e5de4",
   "metadata": {},
   "source": [
    "Also the calendar for this TOO, including what was observed vs what was planned. "
   ]
  },
  {
   "cell_type": "code",
   "execution_count": 12,
   "id": "c214664f",
   "metadata": {},
   "outputs": [
    {
     "data": {
      "text/html": [
       "<table><thead><th style='text-align: left;'>#</th><th style='text-align: left;'>Start</th><th style='text-align: left;'>Stop</th><th style='text-align: left;'>XRT Mode</th><th style='text-align: left;'>UVOT Mode</th><th style='text-align: left;'>Exposure (s)</th><th style='text-align: left;'>AFST (s)</th></thead><tr><td style='text-align: left;'>0</td><td style='text-align: left;'>2022-01-05 00:00:00</td><td style='text-align: left;'>2022-01-06 00:00:00</td><td style='text-align: left;'>PC</td><td style='text-align: left;'>0x9999</td><td style='text-align: left;'>2000</td><td style='text-align: left;'>1995.0</td></tr><tr><td style='text-align: left;'>1</td><td style='text-align: left;'>2022-01-07 00:00:00</td><td style='text-align: left;'>2022-01-08 00:00:00</td><td style='text-align: left;'>PC</td><td style='text-align: left;'>0x9999</td><td style='text-align: left;'>2000</td><td style='text-align: left;'>2265.0</td></tr><tr><td style='text-align: left;'>2</td><td style='text-align: left;'>2022-01-09 00:00:00</td><td style='text-align: left;'>2022-01-10 00:00:00</td><td style='text-align: left;'>PC</td><td style='text-align: left;'>0x9999</td><td style='text-align: left;'>2000</td><td style='text-align: left;'>1960.0</td></tr><tr><td style='text-align: left;'>3</td><td style='text-align: left;'>2022-01-11 00:00:00</td><td style='text-align: left;'>2022-01-12 00:00:00</td><td style='text-align: left;'>PC</td><td style='text-align: left;'>0x9999</td><td style='text-align: left;'>2000</td><td style='text-align: left;'>1359.0</td></tr></table>"
      ],
      "text/plain": [
       "Swift_Calendar(username='anonymous',too_id='16832')"
      ]
     },
     "execution_count": 12,
     "metadata": {},
     "output_type": "execute_result"
    }
   ],
   "source": [
    "mytoo[0].calendar"
   ]
  },
  {
   "cell_type": "code",
   "execution_count": null,
   "id": "57e5f1cb",
   "metadata": {},
   "outputs": [],
   "source": []
  }
 ],
 "metadata": {
  "kernelspec": {
   "display_name": "Python 3 (ipykernel)",
   "language": "python",
   "name": "python3"
  },
  "language_info": {
   "codemirror_mode": {
    "name": "ipython",
    "version": 3
   },
   "file_extension": ".py",
   "mimetype": "text/x-python",
   "name": "python",
   "nbconvert_exporter": "python",
   "pygments_lexer": "ipython3",
   "version": "3.9.11"
  }
 },
 "nbformat": 4,
 "nbformat_minor": 5
}
