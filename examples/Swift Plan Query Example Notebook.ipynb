{
 "cells": [
  {
   "cell_type": "markdown",
   "metadata": {},
   "source": [
    "# `swift_too` module\n",
    "\n",
    "## Swift_PlanQuery example - querying planned *Swift* observations\n",
    "\n",
    "### API version = 1.2, `swifttools` version = 2.2\n",
    "\n",
    "#### Author: Jamie A. Kennea (Penn State)\n",
    "\n",
    "The Swift_PlanQuery class allows for querying the database of observations have have been planned for observation by Swift, otherwise known as the \"Pre-Planned Science Timeline\" (PPST). This allows the user to find out not only what was planned, but what will be observed by Swift in the future.\n",
    "\n",
    "Two important caveats:\n",
    "\n",
    "1. For past observations, what should have been down is mostly an academic exercise, as due to TOO uploads and GRBs, Swift's pre-planned observations can be obliterated. If you want to know what Swift *did* observe, do a Swift_ObsQuery\n",
    "\n",
    "2. Swift's planning is only done days into the future, so if you want to know what is going to happen weeks from now, you're out of luck.\n",
    "\n",
    "This therefore is mostly useful if you want to know what Swift is observing *today* and *tomorrow*."
   ]
  },
  {
   "cell_type": "code",
   "execution_count": 1,
   "metadata": {},
   "outputs": [],
   "source": [
    "from swifttools.swift_too import Swift_PlanQuery\n",
    "from datetime import datetime,timedelta"
   ]
  },
  {
   "cell_type": "markdown",
   "metadata": {},
   "source": [
    "### Setting up our username and secret key\n",
    "\n",
    "Set up the class, giving our username and shared secret. These can be set up [on the Swift TOO website](https://www.swift.psu.edu/toop/too.php). After you log in, you will find your shared secret, and can modify it as necessary under the [Update Account Info](https://www.swift.psu.edu/toop/account_info.php) link. "
   ]
  },
  {
   "cell_type": "code",
   "execution_count": 2,
   "metadata": {},
   "outputs": [],
   "source": [
    "username = 'myuser'\n",
    "shared_secret = 'mysharedsecret'"
   ]
  },
  {
   "cell_type": "markdown",
   "metadata": {},
   "source": [
    "However, if you don't have a user or just don't want to use it, you can submit this request anonymously. In this case you just give the username and shared secret as \"anonymous\""
   ]
  },
  {
   "cell_type": "code",
   "execution_count": 3,
   "metadata": {},
   "outputs": [],
   "source": [
    "username = 'anonymous'\n",
    "shared_secret = 'anonymous'"
   ]
  },
  {
   "cell_type": "markdown",
   "metadata": {},
   "source": [
    "Note: as of `swifttools 2.2`, anonymous login is the default, so if you do not give the username and shared_secret, it will log in as 'anonymous'"
   ]
  },
  {
   "cell_type": "markdown",
   "metadata": {},
   "source": [
    "### First Query\n",
    "\n",
    "First query example: What is Swift planned to observe now? Quite easy to construct. Here it is:"
   ]
  },
  {
   "cell_type": "code",
   "execution_count": 4,
   "metadata": {},
   "outputs": [
    {
     "data": {
      "text/html": [
       "<table><thead><th style='text-align: left;'>Begin Time</th><th style='text-align: left;'>End Time</th><th style='text-align: left;'>Target Name</th><th style='text-align: left;'>Observation Number</th><th style='text-align: left;'>Exposure (s)</th></thead><tr><td style='text-align: left;'>2021-12-15 21:35:00</td><td style='text-align: left;'>2021-12-15 22:04:00</td><td style='text-align: left;'>GJ 3631</td><td style='text-align: left;'>00014941013</td><td style='text-align: left;'>1740</td></tr></table>"
      ],
      "text/plain": [
       "Swift_PPST(username='anonymous',begin='2021-12-15 21:49:03.107634',end='2021-12-15 21:49:03.107634',radius='0.1967')"
      ]
     },
     "execution_count": 4,
     "metadata": {},
     "output_type": "execute_result"
    }
   ],
   "source": [
    "plan = Swift_PlanQuery(begin=datetime.utcnow())\n",
    "plan"
   ]
  },
  {
   "cell_type": "markdown",
   "metadata": {},
   "source": [
    "So the above should have reported back a single target. When you just give `begin` with no `end`, it simply returns the observation which is taking place at the time given. So what is happening at this time tomorrow?"
   ]
  },
  {
   "cell_type": "code",
   "execution_count": 5,
   "metadata": {},
   "outputs": [
    {
     "data": {
      "text/html": [
       "<table><thead><th style='text-align: left;'>Begin Time</th><th style='text-align: left;'>End Time</th><th style='text-align: left;'>Target Name</th><th style='text-align: left;'>Observation Number</th><th style='text-align: left;'>Exposure (s)</th></thead><tr><td style='text-align: left;'>2021-12-16 21:34:00</td><td style='text-align: left;'>2021-12-16 21:50:00</td><td style='text-align: left;'>MKN 6</td><td style='text-align: left;'>00035461079</td><td style='text-align: left;'>960</td></tr></table>"
      ],
      "text/plain": [
       "Swift_PPST(username='anonymous',begin='2021-12-16 21:49:04.887400',end='2021-12-16 21:49:04.887400',radius='0.1967')"
      ]
     },
     "execution_count": 5,
     "metadata": {},
     "output_type": "execute_result"
    }
   ],
   "source": [
    "plan = Swift_PlanQuery(begin=datetime.utcnow()+timedelta(days=1))\n",
    "plan"
   ]
  },
  {
   "cell_type": "markdown",
   "metadata": {},
   "source": [
    "Did the above query return anything? If not, then there simply isn't a plan for tomorrow. So how can we determine how far into the future Swift has a plan for? The `ppstmax` parameter. Let's check it out:"
   ]
  },
  {
   "cell_type": "code",
   "execution_count": 6,
   "metadata": {},
   "outputs": [
    {
     "data": {
      "text/plain": [
       "'PPSTs available up to 2021-12-17 00:00:00'"
      ]
     },
     "execution_count": 6,
     "metadata": {},
     "output_type": "execute_result"
    }
   ],
   "source": [
    "f\"PPSTs available up to {plan.ppstmax}\""
   ]
  },
  {
   "cell_type": "markdown",
   "metadata": {},
   "source": [
    "This gives the date of the last planned target. If the query for what Swift is observing this time tomorrow didn't return anything, this date is probably the end of the UT day today. If the time you're running this is before midday on a Monday-Thursday, this is as expected. Typically the plan for tomorrow is submitted for upload around 12pm Eastern time. The exception to this rule is for the weekend plan. Typically on Thursday at 12pm we submit a plan for Friday and Saturday, and on Friday at 12pm we submit a plan for Sunday-Monday. This allows us to cover the weekend, while working a 5 day week."
   ]
  },
  {
   "cell_type": "markdown",
   "metadata": {},
   "source": [
    "### Second query example\n",
    "\n",
    "Seeing a whole day's PPST. So let's see the whole day's Plan that goes farthest into the future."
   ]
  },
  {
   "cell_type": "code",
   "execution_count": 7,
   "metadata": {
    "scrolled": false
   },
   "outputs": [
    {
     "data": {
      "text/html": [
       "<table><thead><th style='text-align: left;'>Begin Time</th><th style='text-align: left;'>End Time</th><th style='text-align: left;'>Target Name</th><th style='text-align: left;'>Observation Number</th><th style='text-align: left;'>Exposure (s)</th></thead><tr><td style='text-align: left;'>2021-12-15 23:44:00</td><td style='text-align: left;'>2021-12-16 00:00:00</td><td style='text-align: left;'>OGP_0982</td><td style='text-align: left;'>03103494002</td><td style='text-align: left;'>960</td></tr><tr><td style='text-align: left;'>2021-12-16 00:00:00</td><td style='text-align: left;'>2021-12-16 00:14:00</td><td style='text-align: left;'>OGP_0100</td><td style='text-align: left;'>03104415004</td><td style='text-align: left;'>840</td></tr><tr><td style='text-align: left;'>2021-12-16 00:14:00</td><td style='text-align: left;'>2021-12-16 00:41:00</td><td style='text-align: left;'>saa-cold-150-12</td><td style='text-align: left;'>00074011070</td><td style='text-align: left;'>1620</td></tr><tr><td style='text-align: left;'>2021-12-16 00:41:00</td><td style='text-align: left;'>2021-12-16 01:01:00</td><td style='text-align: left;'>OJ287</td><td style='text-align: left;'>00035905178</td><td style='text-align: left;'>1200</td></tr><tr><td style='text-align: left;'>2021-12-16 01:01:00</td><td style='text-align: left;'>2021-12-16 01:26:00</td><td style='text-align: left;'>CDF-N</td><td style='text-align: left;'>00095931056</td><td style='text-align: left;'>1500</td></tr><tr><td style='text-align: left;'>2021-12-16 01:26:00</td><td style='text-align: left;'>2021-12-16 01:39:00</td><td style='text-align: left;'>OGP_0198</td><td style='text-align: left;'>03104130005</td><td style='text-align: left;'>780</td></tr><tr><td style='text-align: left;'>2021-12-16 01:39:00</td><td style='text-align: left;'>2021-12-16 01:55:00</td><td style='text-align: left;'>OGP_1260</td><td style='text-align: left;'>03103159001</td><td style='text-align: left;'>960</td></tr><tr><td style='text-align: left;'>2021-12-16 01:55:00</td><td style='text-align: left;'>2021-12-16 02:21:00</td><td style='text-align: left;'>saa-cold-350-01</td><td style='text-align: left;'>00076048055</td><td style='text-align: left;'>1560</td></tr><tr><td style='text-align: left;'>2021-12-16 02:21:00</td><td style='text-align: left;'>2021-12-16 02:26:00</td><td style='text-align: left;'>OGP_5272</td><td style='text-align: left;'>03104469001</td><td style='text-align: left;'>300</td></tr><tr><td style='text-align: left;'>2021-12-16 02:26:00</td><td style='text-align: left;'>2021-12-16 02:52:00</td><td style='text-align: left;'>eRASSt_J104938+234140</td><td style='text-align: left;'>00014968001</td><td style='text-align: left;'>1560</td></tr><tr><td style='text-align: left;'>2021-12-16 02:52:00</td><td style='text-align: left;'>2021-12-16 02:58:00</td><td style='text-align: left;'>NGC 4725</td><td style='text-align: left;'>03110926034</td><td style='text-align: left;'>360</td></tr><tr><td style='text-align: left;'>2021-12-16 02:58:00</td><td style='text-align: left;'>2021-12-16 03:15:00</td><td style='text-align: left;'>Mrk501</td><td style='text-align: left;'>00011184163</td><td style='text-align: left;'>1020</td></tr><tr><td style='text-align: left;'>2021-12-16 03:15:00</td><td style='text-align: left;'>2021-12-16 03:29:00</td><td style='text-align: left;'>OGP_1001</td><td style='text-align: left;'>03104124003</td><td style='text-align: left;'>840</td></tr><tr><td style='text-align: left;'>2021-12-16 03:29:00</td><td style='text-align: left;'>2021-12-16 03:37:00</td><td style='text-align: left;'>OGP_2340</td><td style='text-align: left;'>03103818001</td><td style='text-align: left;'>480</td></tr><tr><td style='text-align: left;'>2021-12-16 03:37:00</td><td style='text-align: left;'>2021-12-16 03:54:00</td><td style='text-align: left;'>saa-cold-123-16</td><td style='text-align: left;'>00074882008</td><td style='text-align: left;'>1020</td></tr><tr><td style='text-align: left;'>2021-12-16 03:54:00</td><td style='text-align: left;'>2021-12-16 04:01:00</td><td style='text-align: left;'>saa-cold-255-1</td><td style='text-align: left;'>00074277067</td><td style='text-align: left;'>420</td></tr><tr><td style='text-align: left;'>2021-12-16 04:01:00</td><td style='text-align: left;'>2021-12-16 04:27:00</td><td style='text-align: left;'>NGC4945 X-1</td><td style='text-align: left;'>00013908034</td><td style='text-align: left;'>1560</td></tr><tr><td style='text-align: left;'>2021-12-16 04:27:00</td><td style='text-align: left;'>2021-12-16 04:34:00</td><td style='text-align: left;'>NGC 4552</td><td style='text-align: left;'>03110925023</td><td style='text-align: left;'>420</td></tr><tr><td style='text-align: left;'>2021-12-16 04:34:00</td><td style='text-align: left;'>2021-12-16 04:41:00</td><td style='text-align: left;'>NGC 5713</td><td style='text-align: left;'>03110930010</td><td style='text-align: left;'>420</td></tr><tr><td style='text-align: left;'>2021-12-16 04:41:00</td><td style='text-align: left;'>2021-12-16 04:49:00</td><td style='text-align: left;'>OGP_0278</td><td style='text-align: left;'>03103918001</td><td style='text-align: left;'>480</td></tr><tr><td style='text-align: left;'>2021-12-16 04:49:00</td><td style='text-align: left;'>2021-12-16 05:19:00</td><td style='text-align: left;'>ZTF21abqhkjd</td><td style='text-align: left;'>00014780007</td><td style='text-align: left;'>1800</td></tr><tr><td style='text-align: left;'>2021-12-16 05:19:00</td><td style='text-align: left;'>2021-12-16 05:40:00</td><td style='text-align: left;'>saa-cold-71-1</td><td style='text-align: left;'>00074628086</td><td style='text-align: left;'>1260</td></tr><tr><td style='text-align: left;'>2021-12-16 05:40:00</td><td style='text-align: left;'>2021-12-16 05:54:00</td><td style='text-align: left;'>WR 48a</td><td style='text-align: left;'>00031900084</td><td style='text-align: left;'>840</td></tr><tr><td style='text-align: left;'>2021-12-16 05:54:00</td><td style='text-align: left;'>2021-12-16 06:03:00</td><td style='text-align: left;'>NGC 4552</td><td style='text-align: left;'>03110925023</td><td style='text-align: left;'>540</td></tr><tr><td style='text-align: left;'>2021-12-16 06:03:00</td><td style='text-align: left;'>2021-12-16 06:20:00</td><td style='text-align: left;'>MRK 817</td><td style='text-align: left;'>00096066252</td><td style='text-align: left;'>1020</td></tr><tr><td style='text-align: left;'>2021-12-16 06:20:00</td><td style='text-align: left;'>2021-12-16 06:35:00</td><td style='text-align: left;'>OGP_0228</td><td style='text-align: left;'>03103624003</td><td style='text-align: left;'>900</td></tr><tr><td style='text-align: left;'>2021-12-16 06:35:00</td><td style='text-align: left;'>2021-12-16 06:55:00</td><td style='text-align: left;'>ZTF21abqhkjd</td><td style='text-align: left;'>00014780007</td><td style='text-align: left;'>1200</td></tr><tr><td style='text-align: left;'>2021-12-16 06:55:00</td><td style='text-align: left;'>2021-12-16 07:01:00</td><td style='text-align: left;'>1RXS_J060825.2-110843</td><td style='text-align: left;'>00048506002</td><td style='text-align: left;'>360</td></tr><tr><td style='text-align: left;'>2021-12-16 07:01:00</td><td style='text-align: left;'>2021-12-16 07:19:00</td><td style='text-align: left;'>saa-cold-350-03</td><td style='text-align: left;'>00075730021</td><td style='text-align: left;'>1080</td></tr><tr><td style='text-align: left;'>2021-12-16 07:19:00</td><td style='text-align: left;'>2021-12-16 07:29:00</td><td style='text-align: left;'>eRASSt_J104938+234140</td><td style='text-align: left;'>00014968001</td><td style='text-align: left;'>600</td></tr><tr><td style='text-align: left;'>2021-12-16 07:29:00</td><td style='text-align: left;'>2021-12-16 07:45:00</td><td style='text-align: left;'>PMN J1420-1118</td><td style='text-align: left;'>00046514007</td><td style='text-align: left;'>960</td></tr><tr><td style='text-align: left;'>2021-12-16 07:45:00</td><td style='text-align: left;'>2021-12-16 07:52:00</td><td style='text-align: left;'>NGC 5713</td><td style='text-align: left;'>03110930010</td><td style='text-align: left;'>420</td></tr><tr><td style='text-align: left;'>2021-12-16 07:52:00</td><td style='text-align: left;'>2021-12-16 08:03:00</td><td style='text-align: left;'>OGP_0278</td><td style='text-align: left;'>03103918001</td><td style='text-align: left;'>660</td></tr><tr><td style='text-align: left;'>2021-12-16 08:03:00</td><td style='text-align: left;'>2021-12-16 08:33:00</td><td style='text-align: left;'>J010320.39+140152.5</td><td style='text-align: left;'>00011204003</td><td style='text-align: left;'>1800</td></tr><tr><td style='text-align: left;'>2021-12-16 08:33:00</td><td style='text-align: left;'>2021-12-16 08:44:00</td><td style='text-align: left;'>SN 2021acya</td><td style='text-align: left;'>00014940007</td><td style='text-align: left;'>660</td></tr><tr><td style='text-align: left;'>2021-12-16 08:44:00</td><td style='text-align: left;'>2021-12-16 09:05:00</td><td style='text-align: left;'>WR 48a</td><td style='text-align: left;'>00031900084</td><td style='text-align: left;'>1260</td></tr><tr><td style='text-align: left;'>2021-12-16 09:05:00</td><td style='text-align: left;'>2021-12-16 09:19:00</td><td style='text-align: left;'>{[KK98]208}</td><td style='text-align: left;'>00084480009</td><td style='text-align: left;'>840</td></tr><tr><td style='text-align: left;'>2021-12-16 09:19:00</td><td style='text-align: left;'>2021-12-16 09:27:00</td><td style='text-align: left;'>NGC 5713</td><td style='text-align: left;'>03110930010</td><td style='text-align: left;'>480</td></tr><tr><td style='text-align: left;'>2021-12-16 09:27:00</td><td style='text-align: left;'>2021-12-16 09:35:00</td><td style='text-align: left;'>OGP_0020</td><td style='text-align: left;'>03102952001</td><td style='text-align: left;'>480</td></tr><tr><td style='text-align: left;'>2021-12-16 09:35:00</td><td style='text-align: left;'>2021-12-16 10:05:00</td><td style='text-align: left;'>MRK 590</td><td style='text-align: left;'>00095662054</td><td style='text-align: left;'>1800</td></tr><tr><td style='text-align: left;'>2021-12-16 10:05:00</td><td style='text-align: left;'>2021-12-16 10:11:00</td><td style='text-align: left;'>OGP_5930</td><td style='text-align: left;'>03100903001</td><td style='text-align: left;'>360</td></tr><tr><td style='text-align: left;'>2021-12-16 10:11:00</td><td style='text-align: left;'>2021-12-16 10:31:00</td><td style='text-align: left;'>WR 48a</td><td style='text-align: left;'>00031900084</td><td style='text-align: left;'>1200</td></tr><tr><td style='text-align: left;'>2021-12-16 10:31:00</td><td style='text-align: left;'>2021-12-16 10:38:00</td><td style='text-align: left;'>ZTF18accdhxv</td><td style='text-align: left;'>00014924004</td><td style='text-align: left;'>420</td></tr><tr><td style='text-align: left;'>2021-12-16 10:38:00</td><td style='text-align: left;'>2021-12-16 10:43:00</td><td style='text-align: left;'>SDSS J140918.18+014217.5</td><td style='text-align: left;'>00046384005</td><td style='text-align: left;'>300</td></tr><tr><td style='text-align: left;'>2021-12-16 10:43:00</td><td style='text-align: left;'>2021-12-16 10:56:00</td><td style='text-align: left;'>PG 1302-102</td><td style='text-align: left;'>00095942027</td><td style='text-align: left;'>780</td></tr><tr><td style='text-align: left;'>2021-12-16 10:56:00</td><td style='text-align: left;'>2021-12-16 11:03:00</td><td style='text-align: left;'>NGC 5713</td><td style='text-align: left;'>03110930010</td><td style='text-align: left;'>420</td></tr><tr><td style='text-align: left;'>2021-12-16 11:03:00</td><td style='text-align: left;'>2021-12-16 11:16:00</td><td style='text-align: left;'>OGP_0636</td><td style='text-align: left;'>03102933001</td><td style='text-align: left;'>780</td></tr><tr><td style='text-align: left;'>2021-12-16 11:16:00</td><td style='text-align: left;'>2021-12-16 11:46:00</td><td style='text-align: left;'>CL2015_2</td><td style='text-align: left;'>00014447001</td><td style='text-align: left;'>1800</td></tr><tr><td style='text-align: left;'>2021-12-16 11:46:00</td><td style='text-align: left;'>2021-12-16 11:53:00</td><td style='text-align: left;'>OGP_5272</td><td style='text-align: left;'>03104469001</td><td style='text-align: left;'>420</td></tr><tr><td style='text-align: left;'>2021-12-16 11:53:00</td><td style='text-align: left;'>2021-12-16 12:04:00</td><td style='text-align: left;'>OJ287</td><td style='text-align: left;'>00035905178</td><td style='text-align: left;'>660</td></tr><tr><td style='text-align: left;'>2021-12-16 12:04:00</td><td style='text-align: left;'>2021-12-16 12:18:00</td><td style='text-align: left;'>NGC 5398</td><td style='text-align: left;'>03110928006</td><td style='text-align: left;'>840</td></tr><tr><td style='text-align: left;'>2021-12-16 12:18:00</td><td style='text-align: left;'>2021-12-16 12:31:00</td><td style='text-align: left;'>PBC J1353.6-1125</td><td style='text-align: left;'>00049633011</td><td style='text-align: left;'>780</td></tr><tr><td style='text-align: left;'>2021-12-16 12:31:00</td><td style='text-align: left;'>2021-12-16 12:39:00</td><td style='text-align: left;'>NGC 5713</td><td style='text-align: left;'>03110930010</td><td style='text-align: left;'>480</td></tr><tr><td style='text-align: left;'>2021-12-16 12:39:00</td><td style='text-align: left;'>2021-12-16 13:02:00</td><td style='text-align: left;'>OGP_1480</td><td style='text-align: left;'>03102930001</td><td style='text-align: left;'>1380</td></tr><tr><td style='text-align: left;'>2021-12-16 13:02:00</td><td style='text-align: left;'>2021-12-16 13:22:00</td><td style='text-align: left;'>CL2015_2</td><td style='text-align: left;'>00014447001</td><td style='text-align: left;'>1200</td></tr><tr><td style='text-align: left;'>2021-12-16 13:22:00</td><td style='text-align: left;'>2021-12-16 13:27:00</td><td style='text-align: left;'>OGP_4882</td><td style='text-align: left;'>03103391001</td><td style='text-align: left;'>300</td></tr><tr><td style='text-align: left;'>2021-12-16 13:27:00</td><td style='text-align: left;'>2021-12-16 13:44:00</td><td style='text-align: left;'>PG 1302-102</td><td style='text-align: left;'>00095942028</td><td style='text-align: left;'>1020</td></tr><tr><td style='text-align: left;'>2021-12-16 13:44:00</td><td style='text-align: left;'>2021-12-16 14:06:00</td><td style='text-align: left;'>NGC 4536</td><td style='text-align: left;'>03110924024</td><td style='text-align: left;'>1320</td></tr><tr><td style='text-align: left;'>2021-12-16 14:06:00</td><td style='text-align: left;'>2021-12-16 14:14:00</td><td style='text-align: left;'>NGC 5713</td><td style='text-align: left;'>03110930010</td><td style='text-align: left;'>480</td></tr><tr><td style='text-align: left;'>2021-12-16 14:14:00</td><td style='text-align: left;'>2021-12-16 14:26:00</td><td style='text-align: left;'>OGP_0504</td><td style='text-align: left;'>03103417002</td><td style='text-align: left;'>720</td></tr><tr><td style='text-align: left;'>2021-12-16 14:26:00</td><td style='text-align: left;'>2021-12-16 14:56:00</td><td style='text-align: left;'>J010320.39+140152.5</td><td style='text-align: left;'>00011204003</td><td style='text-align: left;'>1800</td></tr><tr><td style='text-align: left;'>2021-12-16 14:56:00</td><td style='text-align: left;'>2021-12-16 15:01:00</td><td style='text-align: left;'>OGP_5957</td><td style='text-align: left;'>00086906003</td><td style='text-align: left;'>300</td></tr><tr><td style='text-align: left;'>2021-12-16 15:01:00</td><td style='text-align: left;'>2021-12-16 15:11:00</td><td style='text-align: left;'>WR 48a</td><td style='text-align: left;'>00031900084</td><td style='text-align: left;'>600</td></tr><tr><td style='text-align: left;'>2021-12-16 15:11:00</td><td style='text-align: left;'>2021-12-16 15:25:00</td><td style='text-align: left;'>NGC4945 X-1</td><td style='text-align: left;'>00013908034</td><td style='text-align: left;'>840</td></tr><tr><td style='text-align: left;'>2021-12-16 15:25:00</td><td style='text-align: left;'>2021-12-16 15:42:00</td><td style='text-align: left;'>2cmXB1156+295</td><td style='text-align: left;'>00036381088</td><td style='text-align: left;'>1020</td></tr><tr><td style='text-align: left;'>2021-12-16 15:42:00</td><td style='text-align: left;'>2021-12-16 15:50:00</td><td style='text-align: left;'>NGC 5713</td><td style='text-align: left;'>03110930010</td><td style='text-align: left;'>480</td></tr><tr><td style='text-align: left;'>2021-12-16 15:50:00</td><td style='text-align: left;'>2021-12-16 16:08:00</td><td style='text-align: left;'>OGP_1157</td><td style='text-align: left;'>03104606002</td><td style='text-align: left;'>1080</td></tr><tr><td style='text-align: left;'>2021-12-16 16:08:00</td><td style='text-align: left;'>2021-12-16 16:31:00</td><td style='text-align: left;'>J010320.39+140152.5</td><td style='text-align: left;'>00011204003</td><td style='text-align: left;'>1380</td></tr><tr><td style='text-align: left;'>2021-12-16 16:31:00</td><td style='text-align: left;'>2021-12-16 16:38:00</td><td style='text-align: left;'>OGP_6031</td><td style='text-align: left;'>03104052001</td><td style='text-align: left;'>420</td></tr><tr><td style='text-align: left;'>2021-12-16 16:38:00</td><td style='text-align: left;'>2021-12-16 16:47:00</td><td style='text-align: left;'>NGC 4552</td><td style='text-align: left;'>03110925023</td><td style='text-align: left;'>540</td></tr><tr><td style='text-align: left;'>2021-12-16 16:47:00</td><td style='text-align: left;'>2021-12-16 17:17:00</td><td style='text-align: left;'>S5 1044+71</td><td style='text-align: left;'>00035034025</td><td style='text-align: left;'>1800</td></tr><tr><td style='text-align: left;'>2021-12-16 17:17:00</td><td style='text-align: left;'>2021-12-16 17:33:00</td><td style='text-align: left;'>OGP_0020</td><td style='text-align: left;'>03102952001</td><td style='text-align: left;'>960</td></tr><tr><td style='text-align: left;'>2021-12-16 17:33:00</td><td style='text-align: left;'>2021-12-16 17:38:00</td><td style='text-align: left;'>saa-cold-80-0</td><td style='text-align: left;'>00074572088</td><td style='text-align: left;'>300</td></tr><tr><td style='text-align: left;'>2021-12-16 17:38:00</td><td style='text-align: left;'>2021-12-16 17:46:00</td><td style='text-align: left;'>OGP_0143</td><td style='text-align: left;'>03104434002</td><td style='text-align: left;'>480</td></tr><tr><td style='text-align: left;'>2021-12-16 17:46:00</td><td style='text-align: left;'>2021-12-16 17:51:00</td><td style='text-align: left;'>OGP_1718</td><td style='text-align: left;'>03103433001</td><td style='text-align: left;'>300</td></tr><tr><td style='text-align: left;'>2021-12-16 17:51:00</td><td style='text-align: left;'>2021-12-16 18:16:00</td><td style='text-align: left;'>SN 2021acya</td><td style='text-align: left;'>00014940007</td><td style='text-align: left;'>1500</td></tr><tr><td style='text-align: left;'>2021-12-16 18:16:00</td><td style='text-align: left;'>2021-12-16 18:23:00</td><td style='text-align: left;'>OGP_6031</td><td style='text-align: left;'>03104052001</td><td style='text-align: left;'>420</td></tr><tr><td style='text-align: left;'>2021-12-16 18:23:00</td><td style='text-align: left;'>2021-12-16 18:53:00</td><td style='text-align: left;'>ZTF18acbwfup</td><td style='text-align: left;'>00014947002</td><td style='text-align: left;'>1800</td></tr><tr><td style='text-align: left;'>2021-12-16 18:53:00</td><td style='text-align: left;'>2021-12-16 19:10:00</td><td style='text-align: left;'>OGP_0025</td><td style='text-align: left;'>03103899003</td><td style='text-align: left;'>1020</td></tr><tr><td style='text-align: left;'>2021-12-16 19:10:00</td><td style='text-align: left;'>2021-12-16 19:31:00</td><td style='text-align: left;'>saa-cold-82-1</td><td style='text-align: left;'>00074576073</td><td style='text-align: left;'>1260</td></tr><tr><td style='text-align: left;'>2021-12-16 19:31:00</td><td style='text-align: left;'>2021-12-16 19:42:00</td><td style='text-align: left;'>MRK 590</td><td style='text-align: left;'>00095662054</td><td style='text-align: left;'>660</td></tr><tr><td style='text-align: left;'>2021-12-16 19:42:00</td><td style='text-align: left;'>2021-12-16 19:59:00</td><td style='text-align: left;'>PKS0903-57</td><td style='text-align: left;'>00033856037</td><td style='text-align: left;'>1020</td></tr><tr><td style='text-align: left;'>2021-12-16 19:59:00</td><td style='text-align: left;'>2021-12-16 20:15:00</td><td style='text-align: left;'>MKN 6</td><td style='text-align: left;'>00035461079</td><td style='text-align: left;'>960</td></tr><tr><td style='text-align: left;'>2021-12-16 20:15:00</td><td style='text-align: left;'>2021-12-16 20:29:00</td><td style='text-align: left;'>NGC 4552</td><td style='text-align: left;'>03110925023</td><td style='text-align: left;'>840</td></tr><tr><td style='text-align: left;'>2021-12-16 20:29:00</td><td style='text-align: left;'>2021-12-16 20:36:00</td><td style='text-align: left;'>NGC 5713</td><td style='text-align: left;'>03110930010</td><td style='text-align: left;'>420</td></tr><tr><td style='text-align: left;'>2021-12-16 20:36:00</td><td style='text-align: left;'>2021-12-16 20:48:00</td><td style='text-align: left;'>OGP_1260</td><td style='text-align: left;'>03103159001</td><td style='text-align: left;'>720</td></tr><tr><td style='text-align: left;'>2021-12-16 20:48:00</td><td style='text-align: left;'>2021-12-16 21:13:00</td><td style='text-align: left;'>saa-cold-158-10</td><td style='text-align: left;'>00074325077</td><td style='text-align: left;'>1500</td></tr><tr><td style='text-align: left;'>2021-12-16 21:13:00</td><td style='text-align: left;'>2021-12-16 21:34:00</td><td style='text-align: left;'>ZTF18accdhxv</td><td style='text-align: left;'>00014924004</td><td style='text-align: left;'>1260</td></tr><tr><td style='text-align: left;'>2021-12-16 21:34:00</td><td style='text-align: left;'>2021-12-16 21:50:00</td><td style='text-align: left;'>MKN 6</td><td style='text-align: left;'>00035461079</td><td style='text-align: left;'>960</td></tr><tr><td style='text-align: left;'>2021-12-16 21:50:00</td><td style='text-align: left;'>2021-12-16 22:04:00</td><td style='text-align: left;'>NGC 4536</td><td style='text-align: left;'>03110924024</td><td style='text-align: left;'>840</td></tr><tr><td style='text-align: left;'>2021-12-16 22:04:00</td><td style='text-align: left;'>2021-12-16 22:12:00</td><td style='text-align: left;'>NGC 5713</td><td style='text-align: left;'>03110930010</td><td style='text-align: left;'>480</td></tr><tr><td style='text-align: left;'>2021-12-16 22:12:00</td><td style='text-align: left;'>2021-12-16 22:27:00</td><td style='text-align: left;'>OGP_0243</td><td style='text-align: left;'>03103371004</td><td style='text-align: left;'>900</td></tr><tr><td style='text-align: left;'>2021-12-16 22:27:00</td><td style='text-align: left;'>2021-12-16 22:54:00</td><td style='text-align: left;'>saa-cold-105-2</td><td style='text-align: left;'>00074340135</td><td style='text-align: left;'>1620</td></tr><tr><td style='text-align: left;'>2021-12-16 22:54:00</td><td style='text-align: left;'>2021-12-16 23:10:00</td><td style='text-align: left;'>ZTF18accdhxv</td><td style='text-align: left;'>00014924004</td><td style='text-align: left;'>960</td></tr><tr><td style='text-align: left;'>2021-12-16 23:10:00</td><td style='text-align: left;'>2021-12-16 23:26:00</td><td style='text-align: left;'>MKN 6</td><td style='text-align: left;'>00035461079</td><td style='text-align: left;'>960</td></tr><tr><td style='text-align: left;'>2021-12-16 23:26:00</td><td style='text-align: left;'>2021-12-16 23:40:00</td><td style='text-align: left;'>NGC 4552</td><td style='text-align: left;'>03110925023</td><td style='text-align: left;'>840</td></tr><tr><td style='text-align: left;'>2021-12-16 23:40:00</td><td style='text-align: left;'>2021-12-16 23:48:00</td><td style='text-align: left;'>NGC 5713</td><td style='text-align: left;'>03110930010</td><td style='text-align: left;'>480</td></tr><tr><td style='text-align: left;'>2021-12-16 23:48:00</td><td style='text-align: left;'>2021-12-17 00:00:00</td><td style='text-align: left;'>OGP_0896</td><td style='text-align: left;'>03104272001</td><td style='text-align: left;'>720</td></tr></table>"
      ],
      "text/plain": [
       "Swift_PPST(username='anonymous',begin='2021-12-16 00:00:00',end='2021-12-17 00:00:00',radius='0.1967')"
      ]
     },
     "execution_count": 7,
     "metadata": {},
     "output_type": "execute_result"
    }
   ],
   "source": [
    "dayplan = Swift_PlanQuery(begin=plan.ppstmax-timedelta(days=1),end=plan.ppstmax)\n",
    "dayplan"
   ]
  },
  {
   "cell_type": "markdown",
   "metadata": {},
   "source": [
    "That's a lot of targets! Note that like Swift_ObsQuery it's showing you all the individual snapshots during the day. If you want to group these into observations, you can do that. Remember the `observations` method returns a dictionary, with obsid as the key, and the total observation details as the value. You can display it as a table in Jupyter Notebooks simply:"
   ]
  },
  {
   "cell_type": "code",
   "execution_count": 8,
   "metadata": {
    "scrolled": false
   },
   "outputs": [
    {
     "data": {
      "text/html": [
       "<table><thead><th style='text-align: left;'>Begin Time</th><th style='text-align: left;'>End Time</th><th style='text-align: left;'>Target Name</th><th style='text-align: left;'>Observation Number</th><th style='text-align: left;'>Exposure (s)</th></thead><tr><td style='text-align: left;'>2021-12-15 23:44:00</td><td style='text-align: left;'>2021-12-16 00:00:00</td><td style='text-align: left;'>OGP_0982</td><td style='text-align: left;'>03103494002</td><td style='text-align: left;'>960</td><td style='text-align: left;'>0</td></tr><tr><td style='text-align: left;'>2021-12-16 00:00:00</td><td style='text-align: left;'>2021-12-16 00:14:00</td><td style='text-align: left;'>OGP_0100</td><td style='text-align: left;'>03104415004</td><td style='text-align: left;'>840</td><td style='text-align: left;'>0</td></tr><tr><td style='text-align: left;'>2021-12-16 00:14:00</td><td style='text-align: left;'>2021-12-16 00:41:00</td><td style='text-align: left;'>saa-cold-150-12</td><td style='text-align: left;'>00074011070</td><td style='text-align: left;'>1620</td><td style='text-align: left;'>0</td></tr><tr><td style='text-align: left;'>2021-12-16 00:41:00</td><td style='text-align: left;'>2021-12-16 12:04:00</td><td style='text-align: left;'>OJ287</td><td style='text-align: left;'>00035905178</td><td style='text-align: left;'>1860</td><td style='text-align: left;'>0</td></tr><tr><td style='text-align: left;'>2021-12-16 01:01:00</td><td style='text-align: left;'>2021-12-16 01:26:00</td><td style='text-align: left;'>CDF-N</td><td style='text-align: left;'>00095931056</td><td style='text-align: left;'>1500</td><td style='text-align: left;'>0</td></tr><tr><td style='text-align: left;'>2021-12-16 01:26:00</td><td style='text-align: left;'>2021-12-16 01:39:00</td><td style='text-align: left;'>OGP_0198</td><td style='text-align: left;'>03104130005</td><td style='text-align: left;'>780</td><td style='text-align: left;'>0</td></tr><tr><td style='text-align: left;'>2021-12-16 01:39:00</td><td style='text-align: left;'>2021-12-16 20:48:00</td><td style='text-align: left;'>OGP_1260</td><td style='text-align: left;'>03103159001</td><td style='text-align: left;'>1680</td><td style='text-align: left;'>0</td></tr><tr><td style='text-align: left;'>2021-12-16 01:55:00</td><td style='text-align: left;'>2021-12-16 02:21:00</td><td style='text-align: left;'>saa-cold-350-01</td><td style='text-align: left;'>00076048055</td><td style='text-align: left;'>1560</td><td style='text-align: left;'>0</td></tr><tr><td style='text-align: left;'>2021-12-16 02:21:00</td><td style='text-align: left;'>2021-12-16 11:53:00</td><td style='text-align: left;'>OGP_5272</td><td style='text-align: left;'>03104469001</td><td style='text-align: left;'>720</td><td style='text-align: left;'>0</td></tr><tr><td style='text-align: left;'>2021-12-16 02:26:00</td><td style='text-align: left;'>2021-12-16 07:29:00</td><td style='text-align: left;'>eRASSt_J104938+234140</td><td style='text-align: left;'>00014968001</td><td style='text-align: left;'>2160</td><td style='text-align: left;'>0</td></tr><tr><td style='text-align: left;'>2021-12-16 02:52:00</td><td style='text-align: left;'>2021-12-16 02:58:00</td><td style='text-align: left;'>NGC 4725</td><td style='text-align: left;'>03110926034</td><td style='text-align: left;'>360</td><td style='text-align: left;'>0</td></tr><tr><td style='text-align: left;'>2021-12-16 02:58:00</td><td style='text-align: left;'>2021-12-16 03:15:00</td><td style='text-align: left;'>Mrk501</td><td style='text-align: left;'>00011184163</td><td style='text-align: left;'>1020</td><td style='text-align: left;'>0</td></tr><tr><td style='text-align: left;'>2021-12-16 03:15:00</td><td style='text-align: left;'>2021-12-16 03:29:00</td><td style='text-align: left;'>OGP_1001</td><td style='text-align: left;'>03104124003</td><td style='text-align: left;'>840</td><td style='text-align: left;'>0</td></tr><tr><td style='text-align: left;'>2021-12-16 03:29:00</td><td style='text-align: left;'>2021-12-16 03:37:00</td><td style='text-align: left;'>OGP_2340</td><td style='text-align: left;'>03103818001</td><td style='text-align: left;'>480</td><td style='text-align: left;'>0</td></tr><tr><td style='text-align: left;'>2021-12-16 03:37:00</td><td style='text-align: left;'>2021-12-16 03:54:00</td><td style='text-align: left;'>saa-cold-123-16</td><td style='text-align: left;'>00074882008</td><td style='text-align: left;'>1020</td><td style='text-align: left;'>0</td></tr><tr><td style='text-align: left;'>2021-12-16 03:54:00</td><td style='text-align: left;'>2021-12-16 04:01:00</td><td style='text-align: left;'>saa-cold-255-1</td><td style='text-align: left;'>00074277067</td><td style='text-align: left;'>420</td><td style='text-align: left;'>0</td></tr><tr><td style='text-align: left;'>2021-12-16 04:01:00</td><td style='text-align: left;'>2021-12-16 15:25:00</td><td style='text-align: left;'>NGC4945 X-1</td><td style='text-align: left;'>00013908034</td><td style='text-align: left;'>2400</td><td style='text-align: left;'>0</td></tr><tr><td style='text-align: left;'>2021-12-16 04:27:00</td><td style='text-align: left;'>2021-12-16 23:40:00</td><td style='text-align: left;'>NGC 4552</td><td style='text-align: left;'>03110925023</td><td style='text-align: left;'>3180</td><td style='text-align: left;'>0</td></tr><tr><td style='text-align: left;'>2021-12-16 04:34:00</td><td style='text-align: left;'>2021-12-16 23:48:00</td><td style='text-align: left;'>NGC 5713</td><td style='text-align: left;'>03110930010</td><td style='text-align: left;'>4560</td><td style='text-align: left;'>0</td></tr><tr><td style='text-align: left;'>2021-12-16 04:41:00</td><td style='text-align: left;'>2021-12-16 08:03:00</td><td style='text-align: left;'>OGP_0278</td><td style='text-align: left;'>03103918001</td><td style='text-align: left;'>1140</td><td style='text-align: left;'>0</td></tr><tr><td style='text-align: left;'>2021-12-16 04:49:00</td><td style='text-align: left;'>2021-12-16 06:55:00</td><td style='text-align: left;'>ZTF21abqhkjd</td><td style='text-align: left;'>00014780007</td><td style='text-align: left;'>3000</td><td style='text-align: left;'>0</td></tr><tr><td style='text-align: left;'>2021-12-16 05:19:00</td><td style='text-align: left;'>2021-12-16 05:40:00</td><td style='text-align: left;'>saa-cold-71-1</td><td style='text-align: left;'>00074628086</td><td style='text-align: left;'>1260</td><td style='text-align: left;'>0</td></tr><tr><td style='text-align: left;'>2021-12-16 05:40:00</td><td style='text-align: left;'>2021-12-16 15:11:00</td><td style='text-align: left;'>WR 48a</td><td style='text-align: left;'>00031900084</td><td style='text-align: left;'>3900</td><td style='text-align: left;'>0</td></tr><tr><td style='text-align: left;'>2021-12-16 06:03:00</td><td style='text-align: left;'>2021-12-16 06:20:00</td><td style='text-align: left;'>MRK 817</td><td style='text-align: left;'>00096066252</td><td style='text-align: left;'>1020</td><td style='text-align: left;'>0</td></tr><tr><td style='text-align: left;'>2021-12-16 06:20:00</td><td style='text-align: left;'>2021-12-16 06:35:00</td><td style='text-align: left;'>OGP_0228</td><td style='text-align: left;'>03103624003</td><td style='text-align: left;'>900</td><td style='text-align: left;'>0</td></tr><tr><td style='text-align: left;'>2021-12-16 06:55:00</td><td style='text-align: left;'>2021-12-16 07:01:00</td><td style='text-align: left;'>1RXS_J060825.2-110843</td><td style='text-align: left;'>00048506002</td><td style='text-align: left;'>360</td><td style='text-align: left;'>0</td></tr><tr><td style='text-align: left;'>2021-12-16 07:01:00</td><td style='text-align: left;'>2021-12-16 07:19:00</td><td style='text-align: left;'>saa-cold-350-03</td><td style='text-align: left;'>00075730021</td><td style='text-align: left;'>1080</td><td style='text-align: left;'>0</td></tr><tr><td style='text-align: left;'>2021-12-16 07:29:00</td><td style='text-align: left;'>2021-12-16 07:45:00</td><td style='text-align: left;'>PMN J1420-1118</td><td style='text-align: left;'>00046514007</td><td style='text-align: left;'>960</td><td style='text-align: left;'>0</td></tr><tr><td style='text-align: left;'>2021-12-16 08:03:00</td><td style='text-align: left;'>2021-12-16 16:31:00</td><td style='text-align: left;'>J010320.39+140152.5</td><td style='text-align: left;'>00011204003</td><td style='text-align: left;'>4980</td><td style='text-align: left;'>0</td></tr><tr><td style='text-align: left;'>2021-12-16 08:33:00</td><td style='text-align: left;'>2021-12-16 18:16:00</td><td style='text-align: left;'>SN 2021acya</td><td style='text-align: left;'>00014940007</td><td style='text-align: left;'>2160</td><td style='text-align: left;'>0</td></tr><tr><td style='text-align: left;'>2021-12-16 09:05:00</td><td style='text-align: left;'>2021-12-16 09:19:00</td><td style='text-align: left;'>{[KK98]208}</td><td style='text-align: left;'>00084480009</td><td style='text-align: left;'>840</td><td style='text-align: left;'>0</td></tr><tr><td style='text-align: left;'>2021-12-16 09:27:00</td><td style='text-align: left;'>2021-12-16 17:33:00</td><td style='text-align: left;'>OGP_0020</td><td style='text-align: left;'>03102952001</td><td style='text-align: left;'>1440</td><td style='text-align: left;'>0</td></tr><tr><td style='text-align: left;'>2021-12-16 09:35:00</td><td style='text-align: left;'>2021-12-16 19:42:00</td><td style='text-align: left;'>MRK 590</td><td style='text-align: left;'>00095662054</td><td style='text-align: left;'>2460</td><td style='text-align: left;'>0</td></tr><tr><td style='text-align: left;'>2021-12-16 10:05:00</td><td style='text-align: left;'>2021-12-16 10:11:00</td><td style='text-align: left;'>OGP_5930</td><td style='text-align: left;'>03100903001</td><td style='text-align: left;'>360</td><td style='text-align: left;'>0</td></tr><tr><td style='text-align: left;'>2021-12-16 10:31:00</td><td style='text-align: left;'>2021-12-16 23:10:00</td><td style='text-align: left;'>ZTF18accdhxv</td><td style='text-align: left;'>00014924004</td><td style='text-align: left;'>2640</td><td style='text-align: left;'>0</td></tr><tr><td style='text-align: left;'>2021-12-16 10:38:00</td><td style='text-align: left;'>2021-12-16 10:43:00</td><td style='text-align: left;'>SDSS J140918.18+014217.5</td><td style='text-align: left;'>00046384005</td><td style='text-align: left;'>300</td><td style='text-align: left;'>0</td></tr><tr><td style='text-align: left;'>2021-12-16 10:43:00</td><td style='text-align: left;'>2021-12-16 10:56:00</td><td style='text-align: left;'>PG 1302-102</td><td style='text-align: left;'>00095942027</td><td style='text-align: left;'>780</td><td style='text-align: left;'>0</td></tr><tr><td style='text-align: left;'>2021-12-16 11:03:00</td><td style='text-align: left;'>2021-12-16 11:16:00</td><td style='text-align: left;'>OGP_0636</td><td style='text-align: left;'>03102933001</td><td style='text-align: left;'>780</td><td style='text-align: left;'>0</td></tr><tr><td style='text-align: left;'>2021-12-16 11:16:00</td><td style='text-align: left;'>2021-12-16 13:22:00</td><td style='text-align: left;'>CL2015_2</td><td style='text-align: left;'>00014447001</td><td style='text-align: left;'>3000</td><td style='text-align: left;'>0</td></tr><tr><td style='text-align: left;'>2021-12-16 12:04:00</td><td style='text-align: left;'>2021-12-16 12:18:00</td><td style='text-align: left;'>NGC 5398</td><td style='text-align: left;'>03110928006</td><td style='text-align: left;'>840</td><td style='text-align: left;'>0</td></tr><tr><td style='text-align: left;'>2021-12-16 12:18:00</td><td style='text-align: left;'>2021-12-16 12:31:00</td><td style='text-align: left;'>PBC J1353.6-1125</td><td style='text-align: left;'>00049633011</td><td style='text-align: left;'>780</td><td style='text-align: left;'>0</td></tr><tr><td style='text-align: left;'>2021-12-16 12:39:00</td><td style='text-align: left;'>2021-12-16 13:02:00</td><td style='text-align: left;'>OGP_1480</td><td style='text-align: left;'>03102930001</td><td style='text-align: left;'>1380</td><td style='text-align: left;'>0</td></tr><tr><td style='text-align: left;'>2021-12-16 13:22:00</td><td style='text-align: left;'>2021-12-16 13:27:00</td><td style='text-align: left;'>OGP_4882</td><td style='text-align: left;'>03103391001</td><td style='text-align: left;'>300</td><td style='text-align: left;'>0</td></tr><tr><td style='text-align: left;'>2021-12-16 13:27:00</td><td style='text-align: left;'>2021-12-16 13:44:00</td><td style='text-align: left;'>PG 1302-102</td><td style='text-align: left;'>00095942028</td><td style='text-align: left;'>1020</td><td style='text-align: left;'>0</td></tr><tr><td style='text-align: left;'>2021-12-16 13:44:00</td><td style='text-align: left;'>2021-12-16 22:04:00</td><td style='text-align: left;'>NGC 4536</td><td style='text-align: left;'>03110924024</td><td style='text-align: left;'>2160</td><td style='text-align: left;'>0</td></tr><tr><td style='text-align: left;'>2021-12-16 14:14:00</td><td style='text-align: left;'>2021-12-16 14:26:00</td><td style='text-align: left;'>OGP_0504</td><td style='text-align: left;'>03103417002</td><td style='text-align: left;'>720</td><td style='text-align: left;'>0</td></tr><tr><td style='text-align: left;'>2021-12-16 14:56:00</td><td style='text-align: left;'>2021-12-16 15:01:00</td><td style='text-align: left;'>OGP_5957</td><td style='text-align: left;'>00086906003</td><td style='text-align: left;'>300</td><td style='text-align: left;'>0</td></tr><tr><td style='text-align: left;'>2021-12-16 15:25:00</td><td style='text-align: left;'>2021-12-16 15:42:00</td><td style='text-align: left;'>2cmXB1156+295</td><td style='text-align: left;'>00036381088</td><td style='text-align: left;'>1020</td><td style='text-align: left;'>0</td></tr><tr><td style='text-align: left;'>2021-12-16 15:50:00</td><td style='text-align: left;'>2021-12-16 16:08:00</td><td style='text-align: left;'>OGP_1157</td><td style='text-align: left;'>03104606002</td><td style='text-align: left;'>1080</td><td style='text-align: left;'>0</td></tr><tr><td style='text-align: left;'>2021-12-16 16:31:00</td><td style='text-align: left;'>2021-12-16 18:23:00</td><td style='text-align: left;'>OGP_6031</td><td style='text-align: left;'>03104052001</td><td style='text-align: left;'>840</td><td style='text-align: left;'>0</td></tr><tr><td style='text-align: left;'>2021-12-16 16:47:00</td><td style='text-align: left;'>2021-12-16 17:17:00</td><td style='text-align: left;'>S5 1044+71</td><td style='text-align: left;'>00035034025</td><td style='text-align: left;'>1800</td><td style='text-align: left;'>0</td></tr><tr><td style='text-align: left;'>2021-12-16 17:33:00</td><td style='text-align: left;'>2021-12-16 17:38:00</td><td style='text-align: left;'>saa-cold-80-0</td><td style='text-align: left;'>00074572088</td><td style='text-align: left;'>300</td><td style='text-align: left;'>0</td></tr><tr><td style='text-align: left;'>2021-12-16 17:38:00</td><td style='text-align: left;'>2021-12-16 17:46:00</td><td style='text-align: left;'>OGP_0143</td><td style='text-align: left;'>03104434002</td><td style='text-align: left;'>480</td><td style='text-align: left;'>0</td></tr><tr><td style='text-align: left;'>2021-12-16 17:46:00</td><td style='text-align: left;'>2021-12-16 17:51:00</td><td style='text-align: left;'>OGP_1718</td><td style='text-align: left;'>03103433001</td><td style='text-align: left;'>300</td><td style='text-align: left;'>0</td></tr><tr><td style='text-align: left;'>2021-12-16 18:23:00</td><td style='text-align: left;'>2021-12-16 18:53:00</td><td style='text-align: left;'>ZTF18acbwfup</td><td style='text-align: left;'>00014947002</td><td style='text-align: left;'>1800</td><td style='text-align: left;'>0</td></tr><tr><td style='text-align: left;'>2021-12-16 18:53:00</td><td style='text-align: left;'>2021-12-16 19:10:00</td><td style='text-align: left;'>OGP_0025</td><td style='text-align: left;'>03103899003</td><td style='text-align: left;'>1020</td><td style='text-align: left;'>0</td></tr><tr><td style='text-align: left;'>2021-12-16 19:10:00</td><td style='text-align: left;'>2021-12-16 19:31:00</td><td style='text-align: left;'>saa-cold-82-1</td><td style='text-align: left;'>00074576073</td><td style='text-align: left;'>1260</td><td style='text-align: left;'>0</td></tr><tr><td style='text-align: left;'>2021-12-16 19:42:00</td><td style='text-align: left;'>2021-12-16 19:59:00</td><td style='text-align: left;'>PKS0903-57</td><td style='text-align: left;'>00033856037</td><td style='text-align: left;'>1020</td><td style='text-align: left;'>0</td></tr><tr><td style='text-align: left;'>2021-12-16 19:59:00</td><td style='text-align: left;'>2021-12-16 23:26:00</td><td style='text-align: left;'>MKN 6</td><td style='text-align: left;'>00035461079</td><td style='text-align: left;'>2880</td><td style='text-align: left;'>0</td></tr><tr><td style='text-align: left;'>2021-12-16 20:48:00</td><td style='text-align: left;'>2021-12-16 21:13:00</td><td style='text-align: left;'>saa-cold-158-10</td><td style='text-align: left;'>00074325077</td><td style='text-align: left;'>1500</td><td style='text-align: left;'>0</td></tr><tr><td style='text-align: left;'>2021-12-16 22:12:00</td><td style='text-align: left;'>2021-12-16 22:27:00</td><td style='text-align: left;'>OGP_0243</td><td style='text-align: left;'>03103371004</td><td style='text-align: left;'>900</td><td style='text-align: left;'>0</td></tr><tr><td style='text-align: left;'>2021-12-16 22:27:00</td><td style='text-align: left;'>2021-12-16 22:54:00</td><td style='text-align: left;'>saa-cold-105-2</td><td style='text-align: left;'>00074340135</td><td style='text-align: left;'>1620</td><td style='text-align: left;'>0</td></tr><tr><td style='text-align: left;'>2021-12-16 23:48:00</td><td style='text-align: left;'>2021-12-17 00:00:00</td><td style='text-align: left;'>OGP_0896</td><td style='text-align: left;'>03104272001</td><td style='text-align: left;'>720</td><td style='text-align: left;'>0</td></tr></table>"
      ],
      "text/plain": [
       "{'03103494002': Swift_Observation(begin='2021-12-15 23:44:00',end='2021-12-16 00:00:00',targname='OGP_0982',targetid='3103494',seg='2',xrt='Auto',uvot='0x015a',entries='+---------------------+---------------------+-------------+--------------------+--------------+\n",
       " |          Begin Time |            End Time | Target Name | Observation Number | Exposure (s) |\n",
       " +---------------------+---------------------+-------------+--------------------+--------------+\n",
       " | 2021-12-15 23:44:00 | 2021-12-16 00:00:00 |    OGP_0982 |        03103494002 |          960 |\n",
       " +---------------------+---------------------+-------------+--------------------+--------------+'),\n",
       " '03104415004': Swift_Observation(begin='2021-12-16 00:00:00',end='2021-12-16 00:14:00',targname='OGP_0100',targetid='3104415',seg='4',xrt='Auto',uvot='0x015a',entries='+---------------------+---------------------+-------------+--------------------+--------------+\n",
       " |          Begin Time |            End Time | Target Name | Observation Number | Exposure (s) |\n",
       " +---------------------+---------------------+-------------+--------------------+--------------+\n",
       " | 2021-12-16 00:00:00 | 2021-12-16 00:14:00 |    OGP_0100 |        03104415004 |          840 |\n",
       " +---------------------+---------------------+-------------+--------------------+--------------+'),\n",
       " '00074011070': Swift_Observation(begin='2021-12-16 00:14:00',end='2021-12-16 00:41:00',targname='saa-cold-150-12',targetid='74011',seg='70',xrt='Auto',uvot='0x0009',entries='+---------------------+---------------------+-----------------+--------------------+--------------+\n",
       " |          Begin Time |            End Time |     Target Name | Observation Number | Exposure (s) |\n",
       " +---------------------+---------------------+-----------------+--------------------+--------------+\n",
       " | 2021-12-16 00:14:00 | 2021-12-16 00:41:00 | saa-cold-150-12 |        00074011070 |         1620 |\n",
       " +---------------------+---------------------+-----------------+--------------------+--------------+'),\n",
       " '00035905178': Swift_Observation(begin='2021-12-16 00:41:00',end='2021-12-16 12:04:00',targname='OJ287',targetid='35905',seg='178',xrt='PC',uvot='0x30ed',entries='+---------------------+---------------------+-------------+--------------------+--------------+\n",
       " |          Begin Time |            End Time | Target Name | Observation Number | Exposure (s) |\n",
       " +---------------------+---------------------+-------------+--------------------+--------------+\n",
       " | 2021-12-16 00:41:00 | 2021-12-16 01:01:00 |       OJ287 |        00035905178 |         1200 |\n",
       " | 2021-12-16 11:53:00 | 2021-12-16 12:04:00 |       OJ287 |        00035905178 |          660 |\n",
       " +---------------------+---------------------+-------------+--------------------+--------------+'),\n",
       " '00095931056': Swift_Observation(begin='2021-12-16 01:01:00',end='2021-12-16 01:26:00',targname='CDF-N',targetid='95931',seg='56',xrt='PC',uvot='0x01aa',entries='+---------------------+---------------------+-------------+--------------------+--------------+\n",
       " |          Begin Time |            End Time | Target Name | Observation Number | Exposure (s) |\n",
       " +---------------------+---------------------+-------------+--------------------+--------------+\n",
       " | 2021-12-16 01:01:00 | 2021-12-16 01:26:00 |       CDF-N |        00095931056 |         1500 |\n",
       " +---------------------+---------------------+-------------+--------------------+--------------+'),\n",
       " '03104130005': Swift_Observation(begin='2021-12-16 01:26:00',end='2021-12-16 01:39:00',targname='OGP_0198',targetid='3104130',seg='5',xrt='Auto',uvot='0x015a',entries='+---------------------+---------------------+-------------+--------------------+--------------+\n",
       " |          Begin Time |            End Time | Target Name | Observation Number | Exposure (s) |\n",
       " +---------------------+---------------------+-------------+--------------------+--------------+\n",
       " | 2021-12-16 01:26:00 | 2021-12-16 01:39:00 |    OGP_0198 |        03104130005 |          780 |\n",
       " +---------------------+---------------------+-------------+--------------------+--------------+'),\n",
       " '03103159001': Swift_Observation(begin='2021-12-16 01:39:00',end='2021-12-16 20:48:00',targname='OGP_1260',targetid='3103159',seg='1',xrt='Auto',uvot='0x0ff3',entries='+---------------------+---------------------+-------------+--------------------+--------------+\n",
       " |          Begin Time |            End Time | Target Name | Observation Number | Exposure (s) |\n",
       " +---------------------+---------------------+-------------+--------------------+--------------+\n",
       " | 2021-12-16 01:39:00 | 2021-12-16 01:55:00 |    OGP_1260 |        03103159001 |          960 |\n",
       " | 2021-12-16 20:36:00 | 2021-12-16 20:48:00 |    OGP_1260 |        03103159001 |          720 |\n",
       " +---------------------+---------------------+-------------+--------------------+--------------+'),\n",
       " '00076048055': Swift_Observation(begin='2021-12-16 01:55:00',end='2021-12-16 02:21:00',targname='saa-cold-350-01',targetid='76048',seg='55',xrt='Auto',uvot='0x0009',entries='+---------------------+---------------------+-----------------+--------------------+--------------+\n",
       " |          Begin Time |            End Time |     Target Name | Observation Number | Exposure (s) |\n",
       " +---------------------+---------------------+-----------------+--------------------+--------------+\n",
       " | 2021-12-16 01:55:00 | 2021-12-16 02:21:00 | saa-cold-350-01 |        00076048055 |         1560 |\n",
       " +---------------------+---------------------+-----------------+--------------------+--------------+'),\n",
       " '03104469001': Swift_Observation(begin='2021-12-16 02:21:00',end='2021-12-16 11:53:00',targname='OGP_5272',targetid='3104469',seg='1',xrt='Auto',uvot='0x015a',entries='+---------------------+---------------------+-------------+--------------------+--------------+\n",
       " |          Begin Time |            End Time | Target Name | Observation Number | Exposure (s) |\n",
       " +---------------------+---------------------+-------------+--------------------+--------------+\n",
       " | 2021-12-16 02:21:00 | 2021-12-16 02:26:00 |    OGP_5272 |        03104469001 |          300 |\n",
       " | 2021-12-16 11:46:00 | 2021-12-16 11:53:00 |    OGP_5272 |        03104469001 |          420 |\n",
       " +---------------------+---------------------+-------------+--------------------+--------------+'),\n",
       " '00014968001': Swift_Observation(begin='2021-12-16 02:26:00',end='2021-12-16 07:29:00',targname='eRASSt_J104938+234140',targetid='14968',seg='1',xrt='PC',uvot='0x018c',entries='+---------------------+---------------------+-----------------------+--------------------+--------------+\n",
       " |          Begin Time |            End Time |           Target Name | Observation Number | Exposure (s) |\n",
       " +---------------------+---------------------+-----------------------+--------------------+--------------+\n",
       " | 2021-12-16 02:26:00 | 2021-12-16 02:52:00 | eRASSt_J104938+234140 |        00014968001 |         1560 |\n",
       " | 2021-12-16 07:19:00 | 2021-12-16 07:29:00 | eRASSt_J104938+234140 |        00014968001 |          600 |\n",
       " +---------------------+---------------------+-----------------------+--------------------+--------------+'),\n",
       " '03110926034': Swift_Observation(begin='2021-12-16 02:52:00',end='2021-12-16 02:58:00',targname='NGC 4725',targetid='3110926',seg='34',xrt='PC',uvot='0x308f',entries='+---------------------+---------------------+-------------+--------------------+--------------+\n",
       " |          Begin Time |            End Time | Target Name | Observation Number | Exposure (s) |\n",
       " +---------------------+---------------------+-------------+--------------------+--------------+\n",
       " | 2021-12-16 02:52:00 | 2021-12-16 02:58:00 |    NGC 4725 |        03110926034 |          360 |\n",
       " +---------------------+---------------------+-------------+--------------------+--------------+'),\n",
       " '00011184163': Swift_Observation(begin='2021-12-16 02:58:00',end='2021-12-16 03:15:00',targname='Mrk501',targetid='11184',seg='163',xrt='WT',uvot='0x30ed',entries='+---------------------+---------------------+-------------+--------------------+--------------+\n",
       " |          Begin Time |            End Time | Target Name | Observation Number | Exposure (s) |\n",
       " +---------------------+---------------------+-------------+--------------------+--------------+\n",
       " | 2021-12-16 02:58:00 | 2021-12-16 03:15:00 |      Mrk501 |        00011184163 |         1020 |\n",
       " +---------------------+---------------------+-------------+--------------------+--------------+'),\n",
       " '03104124003': Swift_Observation(begin='2021-12-16 03:15:00',end='2021-12-16 03:29:00',targname='OGP_1001',targetid='3104124',seg='3',xrt='PC',uvot='0x015a',entries='+---------------------+---------------------+-------------+--------------------+--------------+\n",
       " |          Begin Time |            End Time | Target Name | Observation Number | Exposure (s) |\n",
       " +---------------------+---------------------+-------------+--------------------+--------------+\n",
       " | 2021-12-16 03:15:00 | 2021-12-16 03:29:00 |    OGP_1001 |        03104124003 |          840 |\n",
       " +---------------------+---------------------+-------------+--------------------+--------------+'),\n",
       " '03103818001': Swift_Observation(begin='2021-12-16 03:29:00',end='2021-12-16 03:37:00',targname='OGP_2340',targetid='3103818',seg='1',xrt='Auto',uvot='0x015a',entries='+---------------------+---------------------+-------------+--------------------+--------------+\n",
       " |          Begin Time |            End Time | Target Name | Observation Number | Exposure (s) |\n",
       " +---------------------+---------------------+-------------+--------------------+--------------+\n",
       " | 2021-12-16 03:29:00 | 2021-12-16 03:37:00 |    OGP_2340 |        03103818001 |          480 |\n",
       " +---------------------+---------------------+-------------+--------------------+--------------+'),\n",
       " '00074882008': Swift_Observation(begin='2021-12-16 03:37:00',end='2021-12-16 03:54:00',targname='saa-cold-123-16',targetid='74882',seg='8',xrt='Auto',uvot='0x0009',entries='+---------------------+---------------------+-----------------+--------------------+--------------+\n",
       " |          Begin Time |            End Time |     Target Name | Observation Number | Exposure (s) |\n",
       " +---------------------+---------------------+-----------------+--------------------+--------------+\n",
       " | 2021-12-16 03:37:00 | 2021-12-16 03:54:00 | saa-cold-123-16 |        00074882008 |         1020 |\n",
       " +---------------------+---------------------+-----------------+--------------------+--------------+'),\n",
       " '00074277067': Swift_Observation(begin='2021-12-16 03:54:00',end='2021-12-16 04:01:00',targname='saa-cold-255-1',targetid='74277',seg='67',xrt='Auto',uvot='0x0009',entries='+---------------------+---------------------+----------------+--------------------+--------------+\n",
       " |          Begin Time |            End Time |    Target Name | Observation Number | Exposure (s) |\n",
       " +---------------------+---------------------+----------------+--------------------+--------------+\n",
       " | 2021-12-16 03:54:00 | 2021-12-16 04:01:00 | saa-cold-255-1 |        00074277067 |          420 |\n",
       " +---------------------+---------------------+----------------+--------------------+--------------+'),\n",
       " '00013908034': Swift_Observation(begin='2021-12-16 04:01:00',end='2021-12-16 15:25:00',targname='NGC4945 X-1',targetid='13908',seg='34',xrt='Auto',uvot='0x0ff3',entries='+---------------------+---------------------+-------------+--------------------+--------------+\n",
       " |          Begin Time |            End Time | Target Name | Observation Number | Exposure (s) |\n",
       " +---------------------+---------------------+-------------+--------------------+--------------+\n",
       " | 2021-12-16 04:01:00 | 2021-12-16 04:27:00 | NGC4945 X-1 |        00013908034 |         1560 |\n",
       " | 2021-12-16 15:11:00 | 2021-12-16 15:25:00 | NGC4945 X-1 |        00013908034 |          840 |\n",
       " +---------------------+---------------------+-------------+--------------------+--------------+'),\n",
       " '03110925023': Swift_Observation(begin='2021-12-16 04:27:00',end='2021-12-16 23:40:00',targname='NGC 4552',targetid='3110925',seg='23',xrt='PC',uvot='0x308f',entries='+---------------------+---------------------+-------------+--------------------+--------------+\n",
       " |          Begin Time |            End Time | Target Name | Observation Number | Exposure (s) |\n",
       " +---------------------+---------------------+-------------+--------------------+--------------+\n",
       " | 2021-12-16 04:27:00 | 2021-12-16 04:34:00 |    NGC 4552 |        03110925023 |          420 |\n",
       " | 2021-12-16 05:54:00 | 2021-12-16 06:03:00 |    NGC 4552 |        03110925023 |          540 |\n",
       " | 2021-12-16 16:38:00 | 2021-12-16 16:47:00 |    NGC 4552 |        03110925023 |          540 |\n",
       " | 2021-12-16 20:15:00 | 2021-12-16 20:29:00 |    NGC 4552 |        03110925023 |          840 |\n",
       " | 2021-12-16 23:26:00 | 2021-12-16 23:40:00 |    NGC 4552 |        03110925023 |          840 |\n",
       " +---------------------+---------------------+-------------+--------------------+--------------+'),\n",
       " '03110930010': Swift_Observation(begin='2021-12-16 04:34:00',end='2021-12-16 23:48:00',targname='NGC 5713',targetid='3110930',seg='10',xrt='PC',uvot='0x308f',entries='+---------------------+---------------------+-------------+--------------------+--------------+\n",
       " |          Begin Time |            End Time | Target Name | Observation Number | Exposure (s) |\n",
       " +---------------------+---------------------+-------------+--------------------+--------------+\n",
       " | 2021-12-16 04:34:00 | 2021-12-16 04:41:00 |    NGC 5713 |        03110930010 |          420 |\n",
       " | 2021-12-16 07:45:00 | 2021-12-16 07:52:00 |    NGC 5713 |        03110930010 |          420 |\n",
       " | 2021-12-16 09:19:00 | 2021-12-16 09:27:00 |    NGC 5713 |        03110930010 |          480 |\n",
       " | 2021-12-16 10:56:00 | 2021-12-16 11:03:00 |    NGC 5713 |        03110930010 |          420 |\n",
       " | 2021-12-16 12:31:00 | 2021-12-16 12:39:00 |    NGC 5713 |        03110930010 |          480 |\n",
       " | 2021-12-16 14:06:00 | 2021-12-16 14:14:00 |    NGC 5713 |        03110930010 |          480 |\n",
       " | 2021-12-16 15:42:00 | 2021-12-16 15:50:00 |    NGC 5713 |        03110930010 |          480 |\n",
       " | 2021-12-16 20:29:00 | 2021-12-16 20:36:00 |    NGC 5713 |        03110930010 |          420 |\n",
       " | 2021-12-16 22:04:00 | 2021-12-16 22:12:00 |    NGC 5713 |        03110930010 |          480 |\n",
       " | 2021-12-16 23:40:00 | 2021-12-16 23:48:00 |    NGC 5713 |        03110930010 |          480 |\n",
       " +---------------------+---------------------+-------------+--------------------+--------------+'),\n",
       " '03103918001': Swift_Observation(begin='2021-12-16 04:41:00',end='2021-12-16 08:03:00',targname='OGP_0278',targetid='3103918',seg='1',xrt='Auto',uvot='0x015a',entries='+---------------------+---------------------+-------------+--------------------+--------------+\n",
       " |          Begin Time |            End Time | Target Name | Observation Number | Exposure (s) |\n",
       " +---------------------+---------------------+-------------+--------------------+--------------+\n",
       " | 2021-12-16 04:41:00 | 2021-12-16 04:49:00 |    OGP_0278 |        03103918001 |          480 |\n",
       " | 2021-12-16 07:52:00 | 2021-12-16 08:03:00 |    OGP_0278 |        03103918001 |          660 |\n",
       " +---------------------+---------------------+-------------+--------------------+--------------+'),\n",
       " '00014780007': Swift_Observation(begin='2021-12-16 04:49:00',end='2021-12-16 06:55:00',targname='ZTF21abqhkjd',targetid='14780',seg='7',xrt='Auto',uvot='0x30d5',entries='+---------------------+---------------------+--------------+--------------------+--------------+\n",
       " |          Begin Time |            End Time |  Target Name | Observation Number | Exposure (s) |\n",
       " +---------------------+---------------------+--------------+--------------------+--------------+\n",
       " | 2021-12-16 04:49:00 | 2021-12-16 05:19:00 | ZTF21abqhkjd |        00014780007 |         1800 |\n",
       " | 2021-12-16 06:35:00 | 2021-12-16 06:55:00 | ZTF21abqhkjd |        00014780007 |         1200 |\n",
       " +---------------------+---------------------+--------------+--------------------+--------------+'),\n",
       " '00074628086': Swift_Observation(begin='2021-12-16 05:19:00',end='2021-12-16 05:40:00',targname='saa-cold-71-1',targetid='74628',seg='86',xrt='Auto',uvot='0x0009',entries='+---------------------+---------------------+---------------+--------------------+--------------+\n",
       " |          Begin Time |            End Time |   Target Name | Observation Number | Exposure (s) |\n",
       " +---------------------+---------------------+---------------+--------------------+--------------+\n",
       " | 2021-12-16 05:19:00 | 2021-12-16 05:40:00 | saa-cold-71-1 |        00074628086 |         1260 |\n",
       " +---------------------+---------------------+---------------+--------------------+--------------+'),\n",
       " '00031900084': Swift_Observation(begin='2021-12-16 05:40:00',end='2021-12-16 15:11:00',targname='WR 48a',targetid='31900',seg='84',xrt='PC',uvot='0x01aa',entries='+---------------------+---------------------+-------------+--------------------+--------------+\n",
       " |          Begin Time |            End Time | Target Name | Observation Number | Exposure (s) |\n",
       " +---------------------+---------------------+-------------+--------------------+--------------+\n",
       " | 2021-12-16 05:40:00 | 2021-12-16 05:54:00 |      WR 48a |        00031900084 |          840 |\n",
       " | 2021-12-16 08:44:00 | 2021-12-16 09:05:00 |      WR 48a |        00031900084 |         1260 |\n",
       " | 2021-12-16 10:11:00 | 2021-12-16 10:31:00 |      WR 48a |        00031900084 |         1200 |\n",
       " | 2021-12-16 15:01:00 | 2021-12-16 15:11:00 |      WR 48a |        00031900084 |          600 |\n",
       " +---------------------+---------------------+-------------+--------------------+--------------+'),\n",
       " '00096066252': Swift_Observation(begin='2021-12-16 06:03:00',end='2021-12-16 06:20:00',targname='MRK 817',targetid='96066',seg='252',xrt='PC',uvot='0x224c',entries='+---------------------+---------------------+-------------+--------------------+--------------+\n",
       " |          Begin Time |            End Time | Target Name | Observation Number | Exposure (s) |\n",
       " +---------------------+---------------------+-------------+--------------------+--------------+\n",
       " | 2021-12-16 06:03:00 | 2021-12-16 06:20:00 |     MRK 817 |        00096066252 |         1020 |\n",
       " +---------------------+---------------------+-------------+--------------------+--------------+'),\n",
       " '03103624003': Swift_Observation(begin='2021-12-16 06:20:00',end='2021-12-16 06:35:00',targname='OGP_0228',targetid='3103624',seg='3',xrt='Auto',uvot='0x015a',entries='+---------------------+---------------------+-------------+--------------------+--------------+\n",
       " |          Begin Time |            End Time | Target Name | Observation Number | Exposure (s) |\n",
       " +---------------------+---------------------+-------------+--------------------+--------------+\n",
       " | 2021-12-16 06:20:00 | 2021-12-16 06:35:00 |    OGP_0228 |        03103624003 |          900 |\n",
       " +---------------------+---------------------+-------------+--------------------+--------------+'),\n",
       " '00048506002': Swift_Observation(begin='2021-12-16 06:55:00',end='2021-12-16 07:01:00',targname='1RXS_J060825.2-110843',targetid='48506',seg='2',xrt='Auto',uvot='0x01aa',entries='+---------------------+---------------------+-----------------------+--------------------+--------------+\n",
       " |          Begin Time |            End Time |           Target Name | Observation Number | Exposure (s) |\n",
       " +---------------------+---------------------+-----------------------+--------------------+--------------+\n",
       " | 2021-12-16 06:55:00 | 2021-12-16 07:01:00 | 1RXS_J060825.2-110843 |        00048506002 |          360 |\n",
       " +---------------------+---------------------+-----------------------+--------------------+--------------+'),\n",
       " '00075730021': Swift_Observation(begin='2021-12-16 07:01:00',end='2021-12-16 07:19:00',targname='saa-cold-350-03',targetid='75730',seg='21',xrt='Auto',uvot='0x0009',entries='+---------------------+---------------------+-----------------+--------------------+--------------+\n",
       " |          Begin Time |            End Time |     Target Name | Observation Number | Exposure (s) |\n",
       " +---------------------+---------------------+-----------------+--------------------+--------------+\n",
       " | 2021-12-16 07:01:00 | 2021-12-16 07:19:00 | saa-cold-350-03 |        00075730021 |         1080 |\n",
       " +---------------------+---------------------+-----------------+--------------------+--------------+'),\n",
       " '00046514007': Swift_Observation(begin='2021-12-16 07:29:00',end='2021-12-16 07:45:00',targname='PMN J1420-1118',targetid='46514',seg='7',xrt='PC',uvot='0x30ed',entries='+---------------------+---------------------+----------------+--------------------+--------------+\n",
       " |          Begin Time |            End Time |    Target Name | Observation Number | Exposure (s) |\n",
       " +---------------------+---------------------+----------------+--------------------+--------------+\n",
       " | 2021-12-16 07:29:00 | 2021-12-16 07:45:00 | PMN J1420-1118 |        00046514007 |          960 |\n",
       " +---------------------+---------------------+----------------+--------------------+--------------+'),\n",
       " '00011204003': Swift_Observation(begin='2021-12-16 08:03:00',end='2021-12-16 16:31:00',targname='J010320.39+140152.5',targetid='11204',seg='3',xrt='PC',uvot='0x2081',entries='+---------------------+---------------------+---------------------+--------------------+--------------+\n",
       " |          Begin Time |            End Time |         Target Name | Observation Number | Exposure (s) |\n",
       " +---------------------+---------------------+---------------------+--------------------+--------------+\n",
       " | 2021-12-16 08:03:00 | 2021-12-16 08:33:00 | J010320.39+140152.5 |        00011204003 |         1800 |\n",
       " | 2021-12-16 14:26:00 | 2021-12-16 14:56:00 | J010320.39+140152.5 |        00011204003 |         1800 |\n",
       " | 2021-12-16 16:08:00 | 2021-12-16 16:31:00 | J010320.39+140152.5 |        00011204003 |         1380 |\n",
       " +---------------------+---------------------+---------------------+--------------------+--------------+'),\n",
       " '00014940007': Swift_Observation(begin='2021-12-16 08:33:00',end='2021-12-16 18:16:00',targname='SN 2021acya',targetid='14940',seg='7',xrt='PC',uvot='0x30ed',entries='+---------------------+---------------------+-------------+--------------------+--------------+\n",
       " |          Begin Time |            End Time | Target Name | Observation Number | Exposure (s) |\n",
       " +---------------------+---------------------+-------------+--------------------+--------------+\n",
       " | 2021-12-16 08:33:00 | 2021-12-16 08:44:00 | SN 2021acya |        00014940007 |          660 |\n",
       " | 2021-12-16 17:51:00 | 2021-12-16 18:16:00 | SN 2021acya |        00014940007 |         1500 |\n",
       " +---------------------+---------------------+-------------+--------------------+--------------+'),\n",
       " '00084480009': Swift_Observation(begin='2021-12-16 09:05:00',end='2021-12-16 09:19:00',targname='{[KK98]208}',targetid='84480',seg='9',xrt='PC',uvot='0x308f',entries='+---------------------+---------------------+-------------+--------------------+--------------+\n",
       " |          Begin Time |            End Time | Target Name | Observation Number | Exposure (s) |\n",
       " +---------------------+---------------------+-------------+--------------------+--------------+\n",
       " | 2021-12-16 09:05:00 | 2021-12-16 09:19:00 | {[KK98]208} |        00084480009 |          840 |\n",
       " +---------------------+---------------------+-------------+--------------------+--------------+'),\n",
       " '03102952001': Swift_Observation(begin='2021-12-16 09:27:00',end='2021-12-16 17:33:00',targname='OGP_0020',targetid='3102952',seg='1',xrt='Auto',uvot='0x015a',entries='+---------------------+---------------------+-------------+--------------------+--------------+\n",
       " |          Begin Time |            End Time | Target Name | Observation Number | Exposure (s) |\n",
       " +---------------------+---------------------+-------------+--------------------+--------------+\n",
       " | 2021-12-16 09:27:00 | 2021-12-16 09:35:00 |    OGP_0020 |        03102952001 |          480 |\n",
       " | 2021-12-16 17:17:00 | 2021-12-16 17:33:00 |    OGP_0020 |        03102952001 |          960 |\n",
       " +---------------------+---------------------+-------------+--------------------+--------------+'),\n",
       " '00095662054': Swift_Observation(begin='2021-12-16 09:35:00',end='2021-12-16 19:42:00',targname='MRK 590',targetid='95662',seg='54',xrt='PC',uvot='0x30dd',entries='+---------------------+---------------------+-------------+--------------------+--------------+\n",
       " |          Begin Time |            End Time | Target Name | Observation Number | Exposure (s) |\n",
       " +---------------------+---------------------+-------------+--------------------+--------------+\n",
       " | 2021-12-16 09:35:00 | 2021-12-16 10:05:00 |     MRK 590 |        00095662054 |         1800 |\n",
       " | 2021-12-16 19:31:00 | 2021-12-16 19:42:00 |     MRK 590 |        00095662054 |          660 |\n",
       " +---------------------+---------------------+-------------+--------------------+--------------+'),\n",
       " '03100903001': Swift_Observation(begin='2021-12-16 10:05:00',end='2021-12-16 10:11:00',targname='OGP_5930',targetid='3100903',seg='1',xrt='PC',uvot='0x015a',entries='+---------------------+---------------------+-------------+--------------------+--------------+\n",
       " |          Begin Time |            End Time | Target Name | Observation Number | Exposure (s) |\n",
       " +---------------------+---------------------+-------------+--------------------+--------------+\n",
       " | 2021-12-16 10:05:00 | 2021-12-16 10:11:00 |    OGP_5930 |        03100903001 |          360 |\n",
       " +---------------------+---------------------+-------------+--------------------+--------------+'),\n",
       " '00014924004': Swift_Observation(begin='2021-12-16 10:31:00',end='2021-12-16 23:10:00',targname='ZTF18accdhxv',targetid='14924',seg='4',xrt='PC',uvot='0x204b',entries='+---------------------+---------------------+--------------+--------------------+--------------+\n",
       " |          Begin Time |            End Time |  Target Name | Observation Number | Exposure (s) |\n",
       " +---------------------+---------------------+--------------+--------------------+--------------+\n",
       " | 2021-12-16 10:31:00 | 2021-12-16 10:38:00 | ZTF18accdhxv |        00014924004 |          420 |\n",
       " | 2021-12-16 21:13:00 | 2021-12-16 21:34:00 | ZTF18accdhxv |        00014924004 |         1260 |\n",
       " | 2021-12-16 22:54:00 | 2021-12-16 23:10:00 | ZTF18accdhxv |        00014924004 |          960 |\n",
       " +---------------------+---------------------+--------------+--------------------+--------------+'),\n",
       " '00046384005': Swift_Observation(begin='2021-12-16 10:38:00',end='2021-12-16 10:43:00',targname='SDSS J140918.18+014217.5',targetid='46384',seg='5',xrt='PC',uvot='0x01aa',entries='+---------------------+---------------------+--------------------------+--------------------+--------------+\n",
       " |          Begin Time |            End Time |              Target Name | Observation Number | Exposure (s) |\n",
       " +---------------------+---------------------+--------------------------+--------------------+--------------+\n",
       " | 2021-12-16 10:38:00 | 2021-12-16 10:43:00 | SDSS J140918.18+014217.5 |        00046384005 |          300 |\n",
       " +---------------------+---------------------+--------------------------+--------------------+--------------+'),\n",
       " '00095942027': Swift_Observation(begin='2021-12-16 10:43:00',end='2021-12-16 10:56:00',targname='PG 1302-102',targetid='95942',seg='27',xrt='PC',uvot='0x30ed',entries='+---------------------+---------------------+-------------+--------------------+--------------+\n",
       " |          Begin Time |            End Time | Target Name | Observation Number | Exposure (s) |\n",
       " +---------------------+---------------------+-------------+--------------------+--------------+\n",
       " | 2021-12-16 10:43:00 | 2021-12-16 10:56:00 | PG 1302-102 |        00095942027 |          780 |\n",
       " +---------------------+---------------------+-------------+--------------------+--------------+'),\n",
       " '03102933001': Swift_Observation(begin='2021-12-16 11:03:00',end='2021-12-16 11:16:00',targname='OGP_0636',targetid='3102933',seg='1',xrt='Auto',uvot='0x015a',entries='+---------------------+---------------------+-------------+--------------------+--------------+\n",
       " |          Begin Time |            End Time | Target Name | Observation Number | Exposure (s) |\n",
       " +---------------------+---------------------+-------------+--------------------+--------------+\n",
       " | 2021-12-16 11:03:00 | 2021-12-16 11:16:00 |    OGP_0636 |        03102933001 |          780 |\n",
       " +---------------------+---------------------+-------------+--------------------+--------------+'),\n",
       " '00014447001': Swift_Observation(begin='2021-12-16 11:16:00',end='2021-12-16 13:22:00',targname='CL2015_2',targetid='14447',seg='1',xrt='Auto',uvot='0x01aa',entries='+---------------------+---------------------+-------------+--------------------+--------------+\n",
       " |          Begin Time |            End Time | Target Name | Observation Number | Exposure (s) |\n",
       " +---------------------+---------------------+-------------+--------------------+--------------+\n",
       " | 2021-12-16 11:16:00 | 2021-12-16 11:46:00 |    CL2015_2 |        00014447001 |         1800 |\n",
       " | 2021-12-16 13:02:00 | 2021-12-16 13:22:00 |    CL2015_2 |        00014447001 |         1200 |\n",
       " +---------------------+---------------------+-------------+--------------------+--------------+'),\n",
       " '03110928006': Swift_Observation(begin='2021-12-16 12:04:00',end='2021-12-16 12:18:00',targname='NGC 5398',targetid='3110928',seg='6',xrt='PC',uvot='0x308f',entries='+---------------------+---------------------+-------------+--------------------+--------------+\n",
       " |          Begin Time |            End Time | Target Name | Observation Number | Exposure (s) |\n",
       " +---------------------+---------------------+-------------+--------------------+--------------+\n",
       " | 2021-12-16 12:04:00 | 2021-12-16 12:18:00 |    NGC 5398 |        03110928006 |          840 |\n",
       " +---------------------+---------------------+-------------+--------------------+--------------+'),\n",
       " '00049633011': Swift_Observation(begin='2021-12-16 12:18:00',end='2021-12-16 12:31:00',targname='PBC J1353.6-1125',targetid='49633',seg='11',xrt='PC',uvot='0x01aa',entries='+---------------------+---------------------+------------------+--------------------+--------------+\n",
       " |          Begin Time |            End Time |      Target Name | Observation Number | Exposure (s) |\n",
       " +---------------------+---------------------+------------------+--------------------+--------------+\n",
       " | 2021-12-16 12:18:00 | 2021-12-16 12:31:00 | PBC J1353.6-1125 |        00049633011 |          780 |\n",
       " +---------------------+---------------------+------------------+--------------------+--------------+'),\n",
       " '03102930001': Swift_Observation(begin='2021-12-16 12:39:00',end='2021-12-16 13:02:00',targname='OGP_1480',targetid='3102930',seg='1',xrt='Auto',uvot='0x015a',entries='+---------------------+---------------------+-------------+--------------------+--------------+\n",
       " |          Begin Time |            End Time | Target Name | Observation Number | Exposure (s) |\n",
       " +---------------------+---------------------+-------------+--------------------+--------------+\n",
       " | 2021-12-16 12:39:00 | 2021-12-16 13:02:00 |    OGP_1480 |        03102930001 |         1380 |\n",
       " +---------------------+---------------------+-------------+--------------------+--------------+'),\n",
       " '03103391001': Swift_Observation(begin='2021-12-16 13:22:00',end='2021-12-16 13:27:00',targname='OGP_4882',targetid='3103391',seg='1',xrt='Auto',uvot='0x015a',entries='+---------------------+---------------------+-------------+--------------------+--------------+\n",
       " |          Begin Time |            End Time | Target Name | Observation Number | Exposure (s) |\n",
       " +---------------------+---------------------+-------------+--------------------+--------------+\n",
       " | 2021-12-16 13:22:00 | 2021-12-16 13:27:00 |    OGP_4882 |        03103391001 |          300 |\n",
       " +---------------------+---------------------+-------------+--------------------+--------------+'),\n",
       " '00095942028': Swift_Observation(begin='2021-12-16 13:27:00',end='2021-12-16 13:44:00',targname='PG 1302-102',targetid='95942',seg='28',xrt='PC',uvot='0x30ed',entries='+---------------------+---------------------+-------------+--------------------+--------------+\n",
       " |          Begin Time |            End Time | Target Name | Observation Number | Exposure (s) |\n",
       " +---------------------+---------------------+-------------+--------------------+--------------+\n",
       " | 2021-12-16 13:27:00 | 2021-12-16 13:44:00 | PG 1302-102 |        00095942028 |         1020 |\n",
       " +---------------------+---------------------+-------------+--------------------+--------------+'),\n",
       " '03110924024': Swift_Observation(begin='2021-12-16 13:44:00',end='2021-12-16 22:04:00',targname='NGC 4536',targetid='3110924',seg='24',xrt='PC',uvot='0x308f',entries='+---------------------+---------------------+-------------+--------------------+--------------+\n",
       " |          Begin Time |            End Time | Target Name | Observation Number | Exposure (s) |\n",
       " +---------------------+---------------------+-------------+--------------------+--------------+\n",
       " | 2021-12-16 13:44:00 | 2021-12-16 14:06:00 |    NGC 4536 |        03110924024 |         1320 |\n",
       " | 2021-12-16 21:50:00 | 2021-12-16 22:04:00 |    NGC 4536 |        03110924024 |          840 |\n",
       " +---------------------+---------------------+-------------+--------------------+--------------+'),\n",
       " '03103417002': Swift_Observation(begin='2021-12-16 14:14:00',end='2021-12-16 14:26:00',targname='OGP_0504',targetid='3103417',seg='2',xrt='Auto',uvot='0x015a',entries='+---------------------+---------------------+-------------+--------------------+--------------+\n",
       " |          Begin Time |            End Time | Target Name | Observation Number | Exposure (s) |\n",
       " +---------------------+---------------------+-------------+--------------------+--------------+\n",
       " | 2021-12-16 14:14:00 | 2021-12-16 14:26:00 |    OGP_0504 |        03103417002 |          720 |\n",
       " +---------------------+---------------------+-------------+--------------------+--------------+'),\n",
       " '00086906003': Swift_Observation(begin='2021-12-16 14:56:00',end='2021-12-16 15:01:00',targname='OGP_5957',targetid='86906',seg='3',xrt='PC',uvot='0x015a',entries='+---------------------+---------------------+-------------+--------------------+--------------+\n",
       " |          Begin Time |            End Time | Target Name | Observation Number | Exposure (s) |\n",
       " +---------------------+---------------------+-------------+--------------------+--------------+\n",
       " | 2021-12-16 14:56:00 | 2021-12-16 15:01:00 |    OGP_5957 |        00086906003 |          300 |\n",
       " +---------------------+---------------------+-------------+--------------------+--------------+'),\n",
       " '00036381088': Swift_Observation(begin='2021-12-16 15:25:00',end='2021-12-16 15:42:00',targname='2cmXB1156+295',targetid='36381',seg='88',xrt='Auto',uvot='0x30ed',entries='+---------------------+---------------------+---------------+--------------------+--------------+\n",
       " |          Begin Time |            End Time |   Target Name | Observation Number | Exposure (s) |\n",
       " +---------------------+---------------------+---------------+--------------------+--------------+\n",
       " | 2021-12-16 15:25:00 | 2021-12-16 15:42:00 | 2cmXB1156+295 |        00036381088 |         1020 |\n",
       " +---------------------+---------------------+---------------+--------------------+--------------+'),\n",
       " '03104606002': Swift_Observation(begin='2021-12-16 15:50:00',end='2021-12-16 16:08:00',targname='OGP_1157',targetid='3104606',seg='2',xrt='Auto',uvot='0x015a',entries='+---------------------+---------------------+-------------+--------------------+--------------+\n",
       " |          Begin Time |            End Time | Target Name | Observation Number | Exposure (s) |\n",
       " +---------------------+---------------------+-------------+--------------------+--------------+\n",
       " | 2021-12-16 15:50:00 | 2021-12-16 16:08:00 |    OGP_1157 |        03104606002 |         1080 |\n",
       " +---------------------+---------------------+-------------+--------------------+--------------+'),\n",
       " '03104052001': Swift_Observation(begin='2021-12-16 16:31:00',end='2021-12-16 18:23:00',targname='OGP_6031',targetid='3104052',seg='1',xrt='Auto',uvot='0x015a',entries='+---------------------+---------------------+-------------+--------------------+--------------+\n",
       " |          Begin Time |            End Time | Target Name | Observation Number | Exposure (s) |\n",
       " +---------------------+---------------------+-------------+--------------------+--------------+\n",
       " | 2021-12-16 16:31:00 | 2021-12-16 16:38:00 |    OGP_6031 |        03104052001 |          420 |\n",
       " | 2021-12-16 18:16:00 | 2021-12-16 18:23:00 |    OGP_6031 |        03104052001 |          420 |\n",
       " +---------------------+---------------------+-------------+--------------------+--------------+'),\n",
       " '00035034025': Swift_Observation(begin='2021-12-16 16:47:00',end='2021-12-16 17:17:00',targname='S5 1044+71',targetid='35034',seg='25',xrt='PC',uvot='0x30ed',entries='+---------------------+---------------------+-------------+--------------------+--------------+\n",
       " |          Begin Time |            End Time | Target Name | Observation Number | Exposure (s) |\n",
       " +---------------------+---------------------+-------------+--------------------+--------------+\n",
       " | 2021-12-16 16:47:00 | 2021-12-16 17:17:00 |  S5 1044+71 |        00035034025 |         1800 |\n",
       " +---------------------+---------------------+-------------+--------------------+--------------+'),\n",
       " '00074572088': Swift_Observation(begin='2021-12-16 17:33:00',end='2021-12-16 17:38:00',targname='saa-cold-80-0',targetid='74572',seg='88',xrt='Auto',uvot='0x0009',entries='+---------------------+---------------------+---------------+--------------------+--------------+\n",
       " |          Begin Time |            End Time |   Target Name | Observation Number | Exposure (s) |\n",
       " +---------------------+---------------------+---------------+--------------------+--------------+\n",
       " | 2021-12-16 17:33:00 | 2021-12-16 17:38:00 | saa-cold-80-0 |        00074572088 |          300 |\n",
       " +---------------------+---------------------+---------------+--------------------+--------------+'),\n",
       " '03104434002': Swift_Observation(begin='2021-12-16 17:38:00',end='2021-12-16 17:46:00',targname='OGP_0143',targetid='3104434',seg='2',xrt='Auto',uvot='0x015a',entries='+---------------------+---------------------+-------------+--------------------+--------------+\n",
       " |          Begin Time |            End Time | Target Name | Observation Number | Exposure (s) |\n",
       " +---------------------+---------------------+-------------+--------------------+--------------+\n",
       " | 2021-12-16 17:38:00 | 2021-12-16 17:46:00 |    OGP_0143 |        03104434002 |          480 |\n",
       " +---------------------+---------------------+-------------+--------------------+--------------+'),\n",
       " '03103433001': Swift_Observation(begin='2021-12-16 17:46:00',end='2021-12-16 17:51:00',targname='OGP_1718',targetid='3103433',seg='1',xrt='Auto',uvot='0x015a',entries='+---------------------+---------------------+-------------+--------------------+--------------+\n",
       " |          Begin Time |            End Time | Target Name | Observation Number | Exposure (s) |\n",
       " +---------------------+---------------------+-------------+--------------------+--------------+\n",
       " | 2021-12-16 17:46:00 | 2021-12-16 17:51:00 |    OGP_1718 |        03103433001 |          300 |\n",
       " +---------------------+---------------------+-------------+--------------------+--------------+'),\n",
       " '00014947002': Swift_Observation(begin='2021-12-16 18:23:00',end='2021-12-16 18:53:00',targname='ZTF18acbwfup',targetid='14947',seg='2',xrt='PC',uvot='0x30ed',entries='+---------------------+---------------------+--------------+--------------------+--------------+\n",
       " |          Begin Time |            End Time |  Target Name | Observation Number | Exposure (s) |\n",
       " +---------------------+---------------------+--------------+--------------------+--------------+\n",
       " | 2021-12-16 18:23:00 | 2021-12-16 18:53:00 | ZTF18acbwfup |        00014947002 |         1800 |\n",
       " +---------------------+---------------------+--------------+--------------------+--------------+'),\n",
       " '03103899003': Swift_Observation(begin='2021-12-16 18:53:00',end='2021-12-16 19:10:00',targname='OGP_0025',targetid='3103899',seg='3',xrt='Auto',uvot='0x015a',entries='+---------------------+---------------------+-------------+--------------------+--------------+\n",
       " |          Begin Time |            End Time | Target Name | Observation Number | Exposure (s) |\n",
       " +---------------------+---------------------+-------------+--------------------+--------------+\n",
       " | 2021-12-16 18:53:00 | 2021-12-16 19:10:00 |    OGP_0025 |        03103899003 |         1020 |\n",
       " +---------------------+---------------------+-------------+--------------------+--------------+'),\n",
       " '00074576073': Swift_Observation(begin='2021-12-16 19:10:00',end='2021-12-16 19:31:00',targname='saa-cold-82-1',targetid='74576',seg='73',xrt='Auto',uvot='0x0009',entries='+---------------------+---------------------+---------------+--------------------+--------------+\n",
       " |          Begin Time |            End Time |   Target Name | Observation Number | Exposure (s) |\n",
       " +---------------------+---------------------+---------------+--------------------+--------------+\n",
       " | 2021-12-16 19:10:00 | 2021-12-16 19:31:00 | saa-cold-82-1 |        00074576073 |         1260 |\n",
       " +---------------------+---------------------+---------------+--------------------+--------------+'),\n",
       " '00033856037': Swift_Observation(begin='2021-12-16 19:42:00',end='2021-12-16 19:59:00',targname='PKS0903-57',targetid='33856',seg='37',xrt='PC',uvot='0x30ed',entries='+---------------------+---------------------+-------------+--------------------+--------------+\n",
       " |          Begin Time |            End Time | Target Name | Observation Number | Exposure (s) |\n",
       " +---------------------+---------------------+-------------+--------------------+--------------+\n",
       " | 2021-12-16 19:42:00 | 2021-12-16 19:59:00 |  PKS0903-57 |        00033856037 |         1020 |\n",
       " +---------------------+---------------------+-------------+--------------------+--------------+'),\n",
       " '00035461079': Swift_Observation(begin='2021-12-16 19:59:00',end='2021-12-16 23:26:00',targname='MKN 6',targetid='35461',seg='79',xrt='PC',uvot='0x30ed',entries='+---------------------+---------------------+-------------+--------------------+--------------+\n",
       " |          Begin Time |            End Time | Target Name | Observation Number | Exposure (s) |\n",
       " +---------------------+---------------------+-------------+--------------------+--------------+\n",
       " | 2021-12-16 19:59:00 | 2021-12-16 20:15:00 |       MKN 6 |        00035461079 |          960 |\n",
       " | 2021-12-16 21:34:00 | 2021-12-16 21:50:00 |       MKN 6 |        00035461079 |          960 |\n",
       " | 2021-12-16 23:10:00 | 2021-12-16 23:26:00 |       MKN 6 |        00035461079 |          960 |\n",
       " +---------------------+---------------------+-------------+--------------------+--------------+'),\n",
       " '00074325077': Swift_Observation(begin='2021-12-16 20:48:00',end='2021-12-16 21:13:00',targname='saa-cold-158-10',targetid='74325',seg='77',xrt='Auto',uvot='0x0009',entries='+---------------------+---------------------+-----------------+--------------------+--------------+\n",
       " |          Begin Time |            End Time |     Target Name | Observation Number | Exposure (s) |\n",
       " +---------------------+---------------------+-----------------+--------------------+--------------+\n",
       " | 2021-12-16 20:48:00 | 2021-12-16 21:13:00 | saa-cold-158-10 |        00074325077 |         1500 |\n",
       " +---------------------+---------------------+-----------------+--------------------+--------------+'),\n",
       " '03103371004': Swift_Observation(begin='2021-12-16 22:12:00',end='2021-12-16 22:27:00',targname='OGP_0243',targetid='3103371',seg='4',xrt='Auto',uvot='0x015a',entries='+---------------------+---------------------+-------------+--------------------+--------------+\n",
       " |          Begin Time |            End Time | Target Name | Observation Number | Exposure (s) |\n",
       " +---------------------+---------------------+-------------+--------------------+--------------+\n",
       " | 2021-12-16 22:12:00 | 2021-12-16 22:27:00 |    OGP_0243 |        03103371004 |          900 |\n",
       " +---------------------+---------------------+-------------+--------------------+--------------+'),\n",
       " '00074340135': Swift_Observation(begin='2021-12-16 22:27:00',end='2021-12-16 22:54:00',targname='saa-cold-105-2',targetid='74340',seg='135',xrt='Auto',uvot='0x0009',entries='+---------------------+---------------------+----------------+--------------------+--------------+\n",
       " |          Begin Time |            End Time |    Target Name | Observation Number | Exposure (s) |\n",
       " +---------------------+---------------------+----------------+--------------------+--------------+\n",
       " | 2021-12-16 22:27:00 | 2021-12-16 22:54:00 | saa-cold-105-2 |        00074340135 |         1620 |\n",
       " +---------------------+---------------------+----------------+--------------------+--------------+'),\n",
       " '03104272001': Swift_Observation(begin='2021-12-16 23:48:00',end='2021-12-17 00:00:00',targname='OGP_0896',targetid='3104272',seg='1',xrt='Auto',uvot='0x015a',entries='+---------------------+---------------------+-------------+--------------------+--------------+\n",
       " |          Begin Time |            End Time | Target Name | Observation Number | Exposure (s) |\n",
       " +---------------------+---------------------+-------------+--------------------+--------------+\n",
       " | 2021-12-16 23:48:00 | 2021-12-17 00:00:00 |    OGP_0896 |        03104272001 |          720 |\n",
       " +---------------------+---------------------+-------------+--------------------+--------------+')}"
      ]
     },
     "execution_count": 8,
     "metadata": {},
     "output_type": "execute_result"
    }
   ],
   "source": [
    "dayplan.observations"
   ]
  }
 ],
 "metadata": {
  "kernelspec": {
   "display_name": "Python 3 (ipykernel)",
   "language": "python",
   "name": "python3"
  },
  "language_info": {
   "codemirror_mode": {
    "name": "ipython",
    "version": 3
   },
   "file_extension": ".py",
   "mimetype": "text/x-python",
   "name": "python",
   "nbconvert_exporter": "python",
   "pygments_lexer": "ipython3",
   "version": "3.9.9"
  }
 },
 "nbformat": 4,
 "nbformat_minor": 4
}
