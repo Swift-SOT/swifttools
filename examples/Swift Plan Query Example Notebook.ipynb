{
 "cells": [
  {
   "cell_type": "markdown",
   "metadata": {},
   "source": [
    "# `swift_too` module\n",
    "\n",
    "## Swift_PlanQuery example - querying planned *Swift* observations\n",
    "\n",
    "### API version = 1.2, `swifttools` version = 3.0.7\n",
    "\n",
    "#### Author: Jamie A. Kennea (Penn State)\n",
    "\n",
    "The Swift_PlanQuery class allows for querying the database of observations have have been planned for observation by Swift, otherwise known as the \"Pre-Planned Science Timeline\" (PPST). This allows the user to find out not only what was planned, but what will be observed by Swift in the future.\n",
    "\n",
    "Two important caveats:\n",
    "\n",
    "1. For past observations, what should have been down is mostly an academic exercise, as due to TOO uploads and GRBs, Swift's pre-planned observations can be obliterated. If you want to know what Swift *did* observe, do a Swift_ObsQuery\n",
    "\n",
    "2. Swift's planning is only done days into the future, so if you want to know what is going to happen weeks from now, you're out of luck.\n",
    "\n",
    "This therefore is mostly useful if you want to know what Swift is observing *today* and *tomorrow*."
   ]
  },
  {
   "cell_type": "code",
   "execution_count": 1,
   "metadata": {},
   "outputs": [],
   "source": [
    "from swifttools.swift_too import PlanQuery\n",
    "from datetime import datetime, timedelta"
   ]
  },
  {
   "cell_type": "markdown",
   "metadata": {},
   "source": [
    "### First Query\n",
    "\n",
    "Note: as of `swifttools 2.2`, anonymous login is the default, so if you do not give the `username` and `shared_secret`, it will log in as 'anonymous'\n",
    "\n",
    "First query example: What is Swift planned to observe now? Quite easy to construct. Note as of `swifttools` 2.3, you can omit the `Swift_` from class names. Here is our first query:"
   ]
  },
  {
   "cell_type": "code",
   "execution_count": 2,
   "metadata": {},
   "outputs": [
    {
     "data": {
      "text/html": [
       "<table><thead><th style='text-align: left;'>Begin Time</th><th style='text-align: left;'>End Time</th><th style='text-align: left;'>Target Name</th><th style='text-align: left;'>Observation Number</th><th style='text-align: left;'>Exposure (s)</th></thead><tr><td style='text-align: left;'>2022-09-23 09:50:00</td><td style='text-align: left;'>2022-09-23 10:20:00</td><td style='text-align: left;'>PDS456</td><td style='text-align: left;'>00010383117</td><td style='text-align: left;'>1800</td></tr></table>"
      ],
      "text/plain": [
       "Swift_PPST(username='anonymous',begin='2022-09-23 10:07:01.504577',end='2022-09-23 10:07:01.504577',radius='0.19666666666666668')"
      ]
     },
     "execution_count": 2,
     "metadata": {},
     "output_type": "execute_result"
    }
   ],
   "source": [
    "plan = PlanQuery(begin=datetime.utcnow())\n",
    "plan"
   ]
  },
  {
   "cell_type": "markdown",
   "metadata": {},
   "source": [
    "So the above should have reported back a single target. When you just give `begin` with no `end`, it simply returns the observation which is taking place at the time given. So what is happening at this time tomorrow?"
   ]
  },
  {
   "cell_type": "code",
   "execution_count": 3,
   "metadata": {},
   "outputs": [
    {
     "data": {
      "text/html": [
       "<table><thead><th style='text-align: left;'>Begin Time</th><th style='text-align: left;'>End Time</th><th style='text-align: left;'>Target Name</th><th style='text-align: left;'>Observation Number</th><th style='text-align: left;'>Exposure (s)</th></thead><tr><td style='text-align: left;'>2022-09-24 09:39:00</td><td style='text-align: left;'>2022-09-24 10:09:00</td><td style='text-align: left;'>FBQS J1644+2619</td><td style='text-align: left;'>00014979042</td><td style='text-align: left;'>1800</td></tr></table>"
      ],
      "text/plain": [
       "Swift_PPST(username='anonymous',begin='2022-09-24 10:07:05.711477',end='2022-09-24 10:07:05.711477',radius='0.19666666666666668')"
      ]
     },
     "execution_count": 3,
     "metadata": {},
     "output_type": "execute_result"
    }
   ],
   "source": [
    "plan = PlanQuery(begin=datetime.utcnow() + timedelta(days=1))\n",
    "plan"
   ]
  },
  {
   "cell_type": "markdown",
   "metadata": {},
   "source": [
    "Did the above query return anything? If not, then there simply isn't a plan for tomorrow. So how can we determine how far into the future Swift has a plan for? The `ppstmax` parameter. Let's check it out:"
   ]
  },
  {
   "cell_type": "code",
   "execution_count": 4,
   "metadata": {},
   "outputs": [
    {
     "data": {
      "text/plain": [
       "'PPSTs available up to 2022-09-25 00:00:00'"
      ]
     },
     "execution_count": 4,
     "metadata": {},
     "output_type": "execute_result"
    }
   ],
   "source": [
    "f\"PPSTs available up to {plan.ppstmax}\""
   ]
  },
  {
   "cell_type": "markdown",
   "metadata": {},
   "source": [
    "This gives the date of the last planned target. If the query for what Swift is observing this time tomorrow didn't return anything, this date is probably the end of the UT day today. If the time you're running this is before midday on a Monday-Thursday, this is as expected. Typically the plan for tomorrow is submitted for upload around 12pm Eastern time. The exception to this rule is for the weekend plan. Typically on Thursday at 12pm we submit a plan for Friday and Saturday, and on Friday at 12pm we submit a plan for Sunday-Monday. This allows us to cover the weekend, while working a 5 day week."
   ]
  },
  {
   "cell_type": "markdown",
   "metadata": {},
   "source": [
    "### Second query example\n",
    "\n",
    "Seeing a whole day's PPST. So let's see the whole day's Plan that goes farthest into the future."
   ]
  },
  {
   "cell_type": "code",
   "execution_count": 5,
   "metadata": {
    "scrolled": false
   },
   "outputs": [
    {
     "data": {
      "text/html": [
       "<table><thead><th style='text-align: left;'>Begin Time</th><th style='text-align: left;'>End Time</th><th style='text-align: left;'>Target Name</th><th style='text-align: left;'>Observation Number</th><th style='text-align: left;'>Exposure (s)</th></thead><tr><td style='text-align: left;'>2022-09-23 23:56:00</td><td style='text-align: left;'>2022-09-24 00:06:00</td><td style='text-align: left;'>SGWGS-3730</td><td style='text-align: left;'>03108521005</td><td style='text-align: left;'>600</td></tr><tr><td style='text-align: left;'>2022-09-24 00:06:00</td><td style='text-align: left;'>2022-09-24 00:23:00</td><td style='text-align: left;'>Mrk501</td><td style='text-align: left;'>00011184247</td><td style='text-align: left;'>1020</td></tr><tr><td style='text-align: left;'>2022-09-24 00:23:00</td><td style='text-align: left;'>2022-09-24 00:42:00</td><td style='text-align: left;'>saa-cold-199-0</td><td style='text-align: left;'>00074924063</td><td style='text-align: left;'>1140</td></tr><tr><td style='text-align: left;'>2022-09-24 00:42:00</td><td style='text-align: left;'>2022-09-24 00:47:00</td><td style='text-align: left;'>4FGL_J0159.0+3313</td><td style='text-align: left;'>03111906023</td><td style='text-align: left;'>300</td></tr><tr><td style='text-align: left;'>2022-09-24 00:47:00</td><td style='text-align: left;'>2022-09-24 01:13:00</td><td style='text-align: left;'>WISEA J045649.80-203748.0</td><td style='text-align: left;'>00014135059</td><td style='text-align: left;'>1560</td></tr><tr><td style='text-align: left;'>2022-09-24 01:13:00</td><td style='text-align: left;'>2022-09-24 01:30:00</td><td style='text-align: left;'>M81</td><td style='text-align: left;'>00096886077</td><td style='text-align: left;'>1020</td></tr><tr><td style='text-align: left;'>2022-09-24 01:30:00</td><td style='text-align: left;'>2022-09-24 01:35:00</td><td style='text-align: left;'>SDSSJ140027.4+410138.3</td><td style='text-align: left;'>00037952008</td><td style='text-align: left;'>300</td></tr><tr><td style='text-align: left;'>2022-09-24 01:35:00</td><td style='text-align: left;'>2022-09-24 01:56:00</td><td style='text-align: left;'>U Sco</td><td style='text-align: left;'>00031417174</td><td style='text-align: left;'>1260</td></tr><tr><td style='text-align: left;'>2022-09-24 01:56:00</td><td style='text-align: left;'>2022-09-24 02:13:00</td><td style='text-align: left;'>GX 339-4</td><td style='text-align: left;'>00014052107</td><td style='text-align: left;'>1020</td></tr><tr><td style='text-align: left;'>2022-09-24 02:13:00</td><td style='text-align: left;'>2022-09-24 02:18:00</td><td style='text-align: left;'>V378 Vul</td><td style='text-align: left;'>00034826034</td><td style='text-align: left;'>300</td></tr><tr><td style='text-align: left;'>2022-09-24 02:18:00</td><td style='text-align: left;'>2022-09-24 02:23:00</td><td style='text-align: left;'>Tycho_500_100</td><td style='text-align: left;'>00059152050</td><td style='text-align: left;'>300</td></tr><tr><td style='text-align: left;'>2022-09-24 02:23:00</td><td style='text-align: left;'>2022-09-24 02:48:00</td><td style='text-align: left;'>Tycho_500_100</td><td style='text-align: left;'>00059152051</td><td style='text-align: left;'>1500</td></tr><tr><td style='text-align: left;'>2022-09-24 02:48:00</td><td style='text-align: left;'>2022-09-24 03:05:00</td><td style='text-align: left;'>M82 Transient</td><td style='text-align: left;'>00031201004</td><td style='text-align: left;'>1020</td></tr><tr><td style='text-align: left;'>2022-09-24 03:05:00</td><td style='text-align: left;'>2022-09-24 03:10:00</td><td style='text-align: left;'>SDSSJ140027.4+410138.3</td><td style='text-align: left;'>00037952008</td><td style='text-align: left;'>300</td></tr><tr><td style='text-align: left;'>2022-09-24 03:10:00</td><td style='text-align: left;'>2022-09-24 03:33:00</td><td style='text-align: left;'>U Sco</td><td style='text-align: left;'>00031417174</td><td style='text-align: left;'>1380</td></tr><tr><td style='text-align: left;'>2022-09-24 03:33:00</td><td style='text-align: left;'>2022-09-24 03:42:00</td><td style='text-align: left;'>M5</td><td style='text-align: left;'>00096751038</td><td style='text-align: left;'>540</td></tr><tr><td style='text-align: left;'>2022-09-24 03:42:00</td><td style='text-align: left;'>2022-09-24 03:59:00</td><td style='text-align: left;'>NGC 6814</td><td style='text-align: left;'>00015314064</td><td style='text-align: left;'>1020</td></tr><tr><td style='text-align: left;'>2022-09-24 03:59:00</td><td style='text-align: left;'>2022-09-24 04:26:00</td><td style='text-align: left;'>NGC 925</td><td style='text-align: left;'>00014387032</td><td style='text-align: left;'>1620</td></tr><tr><td style='text-align: left;'>2022-09-24 04:26:00</td><td style='text-align: left;'>2022-09-24 04:42:00</td><td style='text-align: left;'>OJ 287</td><td style='text-align: left;'>00035011006</td><td style='text-align: left;'>960</td></tr><tr><td style='text-align: left;'>2022-09-24 04:42:00</td><td style='text-align: left;'>2022-09-24 04:49:00</td><td style='text-align: left;'>SDSSJ140027.4+410138.3</td><td style='text-align: left;'>00037952008</td><td style='text-align: left;'>420</td></tr><tr><td style='text-align: left;'>2022-09-24 04:49:00</td><td style='text-align: left;'>2022-09-24 04:59:00</td><td style='text-align: left;'>ZTF22abgwgsv</td><td style='text-align: left;'>00015351003</td><td style='text-align: left;'>600</td></tr><tr><td style='text-align: left;'>2022-09-24 04:59:00</td><td style='text-align: left;'>2022-09-24 05:10:00</td><td style='text-align: left;'>Nova Her 2021</td><td style='text-align: left;'>00014398015</td><td style='text-align: left;'>660</td></tr><tr><td style='text-align: left;'>2022-09-24 05:10:00</td><td style='text-align: left;'>2022-09-24 05:24:00</td><td style='text-align: left;'>GALACTIC CENTER</td><td style='text-align: left;'>00096721158</td><td style='text-align: left;'>840</td></tr><tr><td style='text-align: left;'>2022-09-24 05:24:00</td><td style='text-align: left;'>2022-09-24 05:29:00</td><td style='text-align: left;'>V378 Vul</td><td style='text-align: left;'>00034826034</td><td style='text-align: left;'>300</td></tr><tr><td style='text-align: left;'>2022-09-24 05:29:00</td><td style='text-align: left;'>2022-09-24 05:34:00</td><td style='text-align: left;'>Tycho_500_100</td><td style='text-align: left;'>00059152050</td><td style='text-align: left;'>300</td></tr><tr><td style='text-align: left;'>2022-09-24 05:34:00</td><td style='text-align: left;'>2022-09-24 05:59:00</td><td style='text-align: left;'>Tycho_500_100</td><td style='text-align: left;'>00059152051</td><td style='text-align: left;'>1500</td></tr><tr><td style='text-align: left;'>2022-09-24 05:59:00</td><td style='text-align: left;'>2022-09-24 06:11:00</td><td style='text-align: left;'>OGP_4569</td><td style='text-align: left;'>03103365001</td><td style='text-align: left;'>720</td></tr><tr><td style='text-align: left;'>2022-09-24 06:11:00</td><td style='text-align: left;'>2022-09-24 06:27:00</td><td style='text-align: left;'>SGWGS-3228</td><td style='text-align: left;'>03108019003</td><td style='text-align: left;'>960</td></tr><tr><td style='text-align: left;'>2022-09-24 06:27:00</td><td style='text-align: left;'>2022-09-24 06:33:00</td><td style='text-align: left;'>SAXJ1808.4-3658</td><td style='text-align: left;'>00030034158</td><td style='text-align: left;'>360</td></tr><tr><td style='text-align: left;'>2022-09-24 06:33:00</td><td style='text-align: left;'>2022-09-24 06:49:00</td><td style='text-align: left;'>PSR J1417-4402</td><td style='text-align: left;'>00096549003</td><td style='text-align: left;'>960</td></tr><tr><td style='text-align: left;'>2022-09-24 06:49:00</td><td style='text-align: left;'>2022-09-24 07:02:00</td><td style='text-align: left;'>AT2022exr</td><td style='text-align: left;'>00015348004</td><td style='text-align: left;'>780</td></tr><tr><td style='text-align: left;'>2022-09-24 07:02:00</td><td style='text-align: left;'>2022-09-24 07:22:00</td><td style='text-align: left;'>BL Lacertae</td><td style='text-align: left;'>00014925017</td><td style='text-align: left;'>1200</td></tr><tr><td style='text-align: left;'>2022-09-24 07:22:00</td><td style='text-align: left;'>2022-09-24 07:52:00</td><td style='text-align: left;'>MCG+11-11-032</td><td style='text-align: left;'>00034134041</td><td style='text-align: left;'>1800</td></tr><tr><td style='text-align: left;'>2022-09-24 07:52:00</td><td style='text-align: left;'>2022-09-24 08:03:00</td><td style='text-align: left;'>PG 1448+273</td><td style='text-align: left;'>03111761003</td><td style='text-align: left;'>660</td></tr><tr><td style='text-align: left;'>2022-09-24 08:03:00</td><td style='text-align: left;'>2022-09-24 08:18:00</td><td style='text-align: left;'>ZTF22abgwgsv</td><td style='text-align: left;'>00015351003</td><td style='text-align: left;'>900</td></tr><tr><td style='text-align: left;'>2022-09-24 08:18:00</td><td style='text-align: left;'>2022-09-24 08:29:00</td><td style='text-align: left;'>V378 Vul</td><td style='text-align: left;'>00034826034</td><td style='text-align: left;'>660</td></tr><tr><td style='text-align: left;'>2022-09-24 08:29:00</td><td style='text-align: left;'>2022-09-24 08:46:00</td><td style='text-align: left;'>NGC 6814</td><td style='text-align: left;'>00015314063</td><td style='text-align: left;'>1020</td></tr><tr><td style='text-align: left;'>2022-09-24 08:46:00</td><td style='text-align: left;'>2022-09-24 08:51:00</td><td style='text-align: left;'>MRC B2331-416</td><td style='text-align: left;'>03111887011</td><td style='text-align: left;'>300</td></tr><tr><td style='text-align: left;'>2022-09-24 08:51:00</td><td style='text-align: left;'>2022-09-24 08:57:00</td><td style='text-align: left;'>OGP_3981</td><td style='text-align: left;'>03103547002</td><td style='text-align: left;'>360</td></tr><tr><td style='text-align: left;'>2022-09-24 08:57:00</td><td style='text-align: left;'>2022-09-24 09:24:00</td><td style='text-align: left;'>MCG+11-11-032</td><td style='text-align: left;'>00034134041</td><td style='text-align: left;'>1620</td></tr><tr><td style='text-align: left;'>2022-09-24 09:24:00</td><td style='text-align: left;'>2022-09-24 09:39:00</td><td style='text-align: left;'>SDSSJ140027.4+410138.3</td><td style='text-align: left;'>00037952008</td><td style='text-align: left;'>900</td></tr><tr><td style='text-align: left;'>2022-09-24 09:39:00</td><td style='text-align: left;'>2022-09-24 10:09:00</td><td style='text-align: left;'>FBQS J1644+2619</td><td style='text-align: left;'>00014979042</td><td style='text-align: left;'>1800</td></tr><tr><td style='text-align: left;'>2022-09-24 10:09:00</td><td style='text-align: left;'>2022-09-24 10:15:00</td><td style='text-align: left;'>4FGLJ2353.2+3135</td><td style='text-align: left;'>03112000031</td><td style='text-align: left;'>360</td></tr><tr><td style='text-align: left;'>2022-09-24 10:15:00</td><td style='text-align: left;'>2022-09-24 10:20:00</td><td style='text-align: left;'>Tycho_500_100</td><td style='text-align: left;'>00059152050</td><td style='text-align: left;'>300</td></tr><tr><td style='text-align: left;'>2022-09-24 10:20:00</td><td style='text-align: left;'>2022-09-24 10:45:00</td><td style='text-align: left;'>Tycho_500_100</td><td style='text-align: left;'>00059152051</td><td style='text-align: left;'>1500</td></tr><tr><td style='text-align: left;'>2022-09-24 10:45:00</td><td style='text-align: left;'>2022-09-24 10:50:00</td><td style='text-align: left;'>SWIFT J0805.1-0609</td><td style='text-align: left;'>03111959011</td><td style='text-align: left;'>300</td></tr><tr><td style='text-align: left;'>2022-09-24 10:50:00</td><td style='text-align: left;'>2022-09-24 11:02:00</td><td style='text-align: left;'>M82 Transient</td><td style='text-align: left;'>00031201004</td><td style='text-align: left;'>720</td></tr><tr><td style='text-align: left;'>2022-09-24 11:02:00</td><td style='text-align: left;'>2022-09-24 11:11:00</td><td style='text-align: left;'>SDSSJ140027.4+410138.3</td><td style='text-align: left;'>00037952008</td><td style='text-align: left;'>540</td></tr><tr><td style='text-align: left;'>2022-09-24 11:11:00</td><td style='text-align: left;'>2022-09-24 11:24:00</td><td style='text-align: left;'>U Sco</td><td style='text-align: left;'>00031417174</td><td style='text-align: left;'>780</td></tr><tr><td style='text-align: left;'>2022-09-24 11:24:00</td><td style='text-align: left;'>2022-09-24 11:44:00</td><td style='text-align: left;'>FBQS J1644+2619</td><td style='text-align: left;'>00014979042</td><td style='text-align: left;'>1200</td></tr><tr><td style='text-align: left;'>2022-09-24 11:44:00</td><td style='text-align: left;'>2022-09-24 11:49:00</td><td style='text-align: left;'>XTE J1829-098</td><td style='text-align: left;'>00010806012</td><td style='text-align: left;'>300</td></tr><tr><td style='text-align: left;'>2022-09-24 11:49:00</td><td style='text-align: left;'>2022-09-24 12:15:00</td><td style='text-align: left;'>IRAS F01004-2237</td><td style='text-align: left;'>00014990018</td><td style='text-align: left;'>1560</td></tr><tr><td style='text-align: left;'>2022-09-24 12:15:00</td><td style='text-align: left;'>2022-09-24 12:20:00</td><td style='text-align: left;'>SWIFT J0717.0+0029</td><td style='text-align: left;'>03111957017</td><td style='text-align: left;'>300</td></tr><tr><td style='text-align: left;'>2022-09-24 12:20:00</td><td style='text-align: left;'>2022-09-24 12:25:00</td><td style='text-align: left;'>SWIFT J0805.1-0609</td><td style='text-align: left;'>03111959011</td><td style='text-align: left;'>300</td></tr><tr><td style='text-align: left;'>2022-09-24 12:25:00</td><td style='text-align: left;'>2022-09-24 12:32:00</td><td style='text-align: left;'>SWIFT J0717.0+0029</td><td style='text-align: left;'>03111957017</td><td style='text-align: left;'>420</td></tr><tr><td style='text-align: left;'>2022-09-24 12:32:00</td><td style='text-align: left;'>2022-09-24 12:41:00</td><td style='text-align: left;'>saa-cold-267-5</td><td style='text-align: left;'>00074303123</td><td style='text-align: left;'>540</td></tr><tr><td style='text-align: left;'>2022-09-24 12:41:00</td><td style='text-align: left;'>2022-09-24 12:51:00</td><td style='text-align: left;'>saa-cold-267-7</td><td style='text-align: left;'>00074590074</td><td style='text-align: left;'>600</td></tr><tr><td style='text-align: left;'>2022-09-24 12:51:00</td><td style='text-align: left;'>2022-09-24 12:56:00</td><td style='text-align: left;'>4FGL J1532.9-0313</td><td style='text-align: left;'>03111837006</td><td style='text-align: left;'>300</td></tr><tr><td style='text-align: left;'>2022-09-24 12:56:00</td><td style='text-align: left;'>2022-09-24 13:06:00</td><td style='text-align: left;'>XTE J1829-098</td><td style='text-align: left;'>00010806012</td><td style='text-align: left;'>600</td></tr><tr><td style='text-align: left;'>2022-09-24 13:06:00</td><td style='text-align: left;'>2022-09-24 13:18:00</td><td style='text-align: left;'>NGC 6814</td><td style='text-align: left;'>00015314062</td><td style='text-align: left;'>720</td></tr><tr><td style='text-align: left;'>2022-09-24 13:18:00</td><td style='text-align: left;'>2022-09-24 13:26:00</td><td style='text-align: left;'>V378 Vul</td><td style='text-align: left;'>00034826034</td><td style='text-align: left;'>480</td></tr><tr><td style='text-align: left;'>2022-09-24 13:26:00</td><td style='text-align: left;'>2022-09-24 13:31:00</td><td style='text-align: left;'>Tycho_500_100</td><td style='text-align: left;'>00059152050</td><td style='text-align: left;'>300</td></tr><tr><td style='text-align: left;'>2022-09-24 13:31:00</td><td style='text-align: left;'>2022-09-24 13:56:00</td><td style='text-align: left;'>Tycho_500_100</td><td style='text-align: left;'>00059152051</td><td style='text-align: left;'>1500</td></tr><tr><td style='text-align: left;'>2022-09-24 13:56:00</td><td style='text-align: left;'>2022-09-24 14:01:00</td><td style='text-align: left;'>SWIFT J0805.1-0609</td><td style='text-align: left;'>03111959011</td><td style='text-align: left;'>300</td></tr><tr><td style='text-align: left;'>2022-09-24 14:01:00</td><td style='text-align: left;'>2022-09-24 14:10:00</td><td style='text-align: left;'>OGP_5690</td><td style='text-align: left;'>03104428002</td><td style='text-align: left;'>540</td></tr><tr><td style='text-align: left;'>2022-09-24 14:10:00</td><td style='text-align: left;'>2022-09-24 14:35:00</td><td style='text-align: left;'>saa-cold-267-7</td><td style='text-align: left;'>00074590074</td><td style='text-align: left;'>1500</td></tr><tr><td style='text-align: left;'>2022-09-24 14:35:00</td><td style='text-align: left;'>2022-09-24 14:43:00</td><td style='text-align: left;'>AT2022exr</td><td style='text-align: left;'>00015348003</td><td style='text-align: left;'>480</td></tr><tr><td style='text-align: left;'>2022-09-24 14:43:00</td><td style='text-align: left;'>2022-09-24 15:08:00</td><td style='text-align: left;'>V378 Vul</td><td style='text-align: left;'>00034826034</td><td style='text-align: left;'>1500</td></tr><tr><td style='text-align: left;'>2022-09-24 15:08:00</td><td style='text-align: left;'>2022-09-24 15:26:00</td><td style='text-align: left;'>Orion_162</td><td style='text-align: left;'>03111389002</td><td style='text-align: left;'>1080</td></tr><tr><td style='text-align: left;'>2022-09-24 15:26:00</td><td style='text-align: left;'>2022-09-24 15:49:00</td><td style='text-align: left;'>MCG+11-11-032</td><td style='text-align: left;'>00034134041</td><td style='text-align: left;'>1380</td></tr><tr><td style='text-align: left;'>2022-09-24 15:49:00</td><td style='text-align: left;'>2022-09-24 16:15:00</td><td style='text-align: left;'>saa-cold-267-7</td><td style='text-align: left;'>00074590074</td><td style='text-align: left;'>1560</td></tr><tr><td style='text-align: left;'>2022-09-24 16:15:00</td><td style='text-align: left;'>2022-09-24 16:44:00</td><td style='text-align: left;'>V378 Vul</td><td style='text-align: left;'>00034826034</td><td style='text-align: left;'>1740</td></tr><tr><td style='text-align: left;'>2022-09-24 16:44:00</td><td style='text-align: left;'>2022-09-24 16:57:00</td><td style='text-align: left;'>RX J0324.6+3410</td><td style='text-align: left;'>03111698005</td><td style='text-align: left;'>780</td></tr><tr><td style='text-align: left;'>2022-09-24 16:57:00</td><td style='text-align: left;'>2022-09-24 17:23:00</td><td style='text-align: left;'>BZQ_J0839p5112</td><td style='text-align: left;'>00089476001</td><td style='text-align: left;'>1560</td></tr><tr><td style='text-align: left;'>2022-09-24 17:23:00</td><td style='text-align: left;'>2022-09-24 17:28:00</td><td style='text-align: left;'>OGP_5387</td><td style='text-align: left;'>03104132001</td><td style='text-align: left;'>300</td></tr><tr><td style='text-align: left;'>2022-09-24 17:28:00</td><td style='text-align: left;'>2022-09-24 17:55:00</td><td style='text-align: left;'>saa-cold-267-05</td><td style='text-align: left;'>00076054001</td><td style='text-align: left;'>1620</td></tr><tr><td style='text-align: left;'>2022-09-24 17:55:00</td><td style='text-align: left;'>2022-09-24 18:17:00</td><td style='text-align: left;'>NGC 6814</td><td style='text-align: left;'>00015314069</td><td style='text-align: left;'>1320</td></tr><tr><td style='text-align: left;'>2022-09-24 18:17:00</td><td style='text-align: left;'>2022-09-24 18:22:00</td><td style='text-align: left;'>Tycho_500_100</td><td style='text-align: left;'>00059152050</td><td style='text-align: left;'>300</td></tr><tr><td style='text-align: left;'>2022-09-24 18:22:00</td><td style='text-align: left;'>2022-09-24 18:42:00</td><td style='text-align: left;'>Tycho_500_100</td><td style='text-align: left;'>00059152051</td><td style='text-align: left;'>1200</td></tr><tr><td style='text-align: left;'>2022-09-24 18:42:00</td><td style='text-align: left;'>2022-09-24 18:52:00</td><td style='text-align: left;'>OGP_4369</td><td style='text-align: left;'>03103643003</td><td style='text-align: left;'>600</td></tr><tr><td style='text-align: left;'>2022-09-24 18:52:00</td><td style='text-align: left;'>2022-09-24 19:09:00</td><td style='text-align: left;'>OGP_5690</td><td style='text-align: left;'>03104428002</td><td style='text-align: left;'>1020</td></tr><tr><td style='text-align: left;'>2022-09-24 19:09:00</td><td style='text-align: left;'>2022-09-24 19:35:00</td><td style='text-align: left;'>saa-cold-252-7</td><td style='text-align: left;'>00075276029</td><td style='text-align: left;'>1560</td></tr><tr><td style='text-align: left;'>2022-09-24 19:35:00</td><td style='text-align: left;'>2022-09-24 19:42:00</td><td style='text-align: left;'>XTE J1829-098</td><td style='text-align: left;'>00010806012</td><td style='text-align: left;'>420</td></tr><tr><td style='text-align: left;'>2022-09-24 19:42:00</td><td style='text-align: left;'>2022-09-24 20:12:00</td><td style='text-align: left;'>FRB180916.J0158+65</td><td style='text-align: left;'>00015299014</td><td style='text-align: left;'>1800</td></tr><tr><td style='text-align: left;'>2022-09-24 20:12:00</td><td style='text-align: left;'>2022-09-24 20:40:00</td><td style='text-align: left;'>ZTF22aagyuao</td><td style='text-align: left;'>00015164011</td><td style='text-align: left;'>1680</td></tr><tr><td style='text-align: left;'>2022-09-24 20:40:00</td><td style='text-align: left;'>2022-09-24 20:45:00</td><td style='text-align: left;'>4FGL J1532.9-0313</td><td style='text-align: left;'>03111837006</td><td style='text-align: left;'>300</td></tr><tr><td style='text-align: left;'>2022-09-24 20:45:00</td><td style='text-align: left;'>2022-09-24 20:51:00</td><td style='text-align: left;'>XTE J1829-098</td><td style='text-align: left;'>00010806012</td><td style='text-align: left;'>360</td></tr><tr><td style='text-align: left;'>2022-09-24 20:51:00</td><td style='text-align: left;'>2022-09-24 21:14:00</td><td style='text-align: left;'>saa-cold-258-6</td><td style='text-align: left;'>00074600042</td><td style='text-align: left;'>1380</td></tr><tr><td style='text-align: left;'>2022-09-24 21:14:00</td><td style='text-align: left;'>2022-09-24 21:31:00</td><td style='text-align: left;'>1ES 1959+650</td><td style='text-align: left;'>00013906067</td><td style='text-align: left;'>1020</td></tr><tr><td style='text-align: left;'>2022-09-24 21:31:00</td><td style='text-align: left;'>2022-09-24 21:51:00</td><td style='text-align: left;'>Swift J023017.0+283603</td><td style='text-align: left;'>00015231062</td><td style='text-align: left;'>1200</td></tr><tr><td style='text-align: left;'>2022-09-24 21:51:00</td><td style='text-align: left;'>2022-09-24 22:05:00</td><td style='text-align: left;'>ZTF22aagyuao</td><td style='text-align: left;'>00015164011</td><td style='text-align: left;'>840</td></tr><tr><td style='text-align: left;'>2022-09-24 22:05:00</td><td style='text-align: left;'>2022-09-24 22:22:00</td><td style='text-align: left;'>3FGL J0838.8-2829</td><td style='text-align: left;'>00096555003</td><td style='text-align: left;'>1020</td></tr><tr><td style='text-align: left;'>2022-09-24 22:22:00</td><td style='text-align: left;'>2022-09-24 22:33:00</td><td style='text-align: left;'>SAXJ1808.4-3658</td><td style='text-align: left;'>00030034158</td><td style='text-align: left;'>660</td></tr><tr><td style='text-align: left;'>2022-09-24 22:33:00</td><td style='text-align: left;'>2022-09-24 22:54:00</td><td style='text-align: left;'>saa-cold-252-7</td><td style='text-align: left;'>00075276029</td><td style='text-align: left;'>1260</td></tr><tr><td style='text-align: left;'>2022-09-24 22:54:00</td><td style='text-align: left;'>2022-09-24 23:07:00</td><td style='text-align: left;'>RX J0134.2-4258</td><td style='text-align: left;'>00036528070</td><td style='text-align: left;'>780</td></tr><tr><td style='text-align: left;'>2022-09-24 23:07:00</td><td style='text-align: left;'>2022-09-24 23:29:00</td><td style='text-align: left;'>WISEA J045649.80-203748.0</td><td style='text-align: left;'>00014135059</td><td style='text-align: left;'>1320</td></tr><tr><td style='text-align: left;'>2022-09-24 23:29:00</td><td style='text-align: left;'>2022-09-24 23:43:00</td><td style='text-align: left;'>OJ 287</td><td style='text-align: left;'>00035011006</td><td style='text-align: left;'>840</td></tr><tr><td style='text-align: left;'>2022-09-24 23:43:00</td><td style='text-align: left;'>2022-09-25 00:00:00</td><td style='text-align: left;'>SGWGS-3754</td><td style='text-align: left;'>03108545003</td><td style='text-align: left;'>1020</td></tr></table>"
      ],
      "text/plain": [
       "Swift_PPST(username='anonymous',begin='2022-09-24 00:00:00',end='2022-09-25 00:00:00',radius='0.19666666666666668')"
      ]
     },
     "execution_count": 5,
     "metadata": {},
     "output_type": "execute_result"
    }
   ],
   "source": [
    "dayplan = PlanQuery(begin=plan.ppstmax - timedelta(days=1), end=plan.ppstmax)\n",
    "dayplan"
   ]
  },
  {
   "cell_type": "markdown",
   "metadata": {},
   "source": [
    "That's a lot of targets! Note that like Swift_ObsQuery it's showing you all the individual snapshots during the day. If you want to group these into observations, you can do that. Remember the `observations` method returns a dictionary, with obsid as the key, and the total observation details as the value. You can display it as a table in Jupyter Notebooks simply:"
   ]
  },
  {
   "cell_type": "code",
   "execution_count": 6,
   "metadata": {
    "scrolled": false
   },
   "outputs": [
    {
     "data": {
      "text/html": [
       "<table><thead><th style='text-align: left;'>Begin Time</th><th style='text-align: left;'>End Time</th><th style='text-align: left;'>Target Name</th><th style='text-align: left;'>Observation Number</th><th style='text-align: left;'>Exposure (s)</th></thead><tr><td style='text-align: left;'>2022-09-23 23:56:00</td><td style='text-align: left;'>2022-09-24 00:06:00</td><td style='text-align: left;'>SGWGS-3730</td><td style='text-align: left;'>03108521005</td><td style='text-align: left;'>600</td><td style='text-align: left;'>0</td></tr><tr><td style='text-align: left;'>2022-09-24 00:06:00</td><td style='text-align: left;'>2022-09-24 00:23:00</td><td style='text-align: left;'>Mrk501</td><td style='text-align: left;'>00011184247</td><td style='text-align: left;'>1020</td><td style='text-align: left;'>0</td></tr><tr><td style='text-align: left;'>2022-09-24 00:23:00</td><td style='text-align: left;'>2022-09-24 00:42:00</td><td style='text-align: left;'>saa-cold-199-0</td><td style='text-align: left;'>00074924063</td><td style='text-align: left;'>1140</td><td style='text-align: left;'>0</td></tr><tr><td style='text-align: left;'>2022-09-24 00:42:00</td><td style='text-align: left;'>2022-09-24 00:47:00</td><td style='text-align: left;'>4FGL_J0159.0+3313</td><td style='text-align: left;'>03111906023</td><td style='text-align: left;'>300</td><td style='text-align: left;'>0</td></tr><tr><td style='text-align: left;'>2022-09-24 00:47:00</td><td style='text-align: left;'>2022-09-24 23:29:00</td><td style='text-align: left;'>WISEA J045649.80-203748.0</td><td style='text-align: left;'>00014135059</td><td style='text-align: left;'>2880</td><td style='text-align: left;'>0</td></tr><tr><td style='text-align: left;'>2022-09-24 01:13:00</td><td style='text-align: left;'>2022-09-24 01:30:00</td><td style='text-align: left;'>M81</td><td style='text-align: left;'>00096886077</td><td style='text-align: left;'>1020</td><td style='text-align: left;'>0</td></tr><tr><td style='text-align: left;'>2022-09-24 01:30:00</td><td style='text-align: left;'>2022-09-24 11:11:00</td><td style='text-align: left;'>SDSSJ140027.4+410138.3</td><td style='text-align: left;'>00037952008</td><td style='text-align: left;'>2460</td><td style='text-align: left;'>0</td></tr><tr><td style='text-align: left;'>2022-09-24 01:35:00</td><td style='text-align: left;'>2022-09-24 11:24:00</td><td style='text-align: left;'>U Sco</td><td style='text-align: left;'>00031417174</td><td style='text-align: left;'>3420</td><td style='text-align: left;'>0</td></tr><tr><td style='text-align: left;'>2022-09-24 01:56:00</td><td style='text-align: left;'>2022-09-24 02:13:00</td><td style='text-align: left;'>GX 339-4</td><td style='text-align: left;'>00014052107</td><td style='text-align: left;'>1020</td><td style='text-align: left;'>0</td></tr><tr><td style='text-align: left;'>2022-09-24 02:13:00</td><td style='text-align: left;'>2022-09-24 16:44:00</td><td style='text-align: left;'>V378 Vul</td><td style='text-align: left;'>00034826034</td><td style='text-align: left;'>4980</td><td style='text-align: left;'>0</td></tr><tr><td style='text-align: left;'>2022-09-24 02:18:00</td><td style='text-align: left;'>2022-09-24 18:22:00</td><td style='text-align: left;'>Tycho_500_100</td><td style='text-align: left;'>00059152050</td><td style='text-align: left;'>1500</td><td style='text-align: left;'>0</td></tr><tr><td style='text-align: left;'>2022-09-24 02:23:00</td><td style='text-align: left;'>2022-09-24 18:42:00</td><td style='text-align: left;'>Tycho_500_100</td><td style='text-align: left;'>00059152051</td><td style='text-align: left;'>7200</td><td style='text-align: left;'>0</td></tr><tr><td style='text-align: left;'>2022-09-24 02:48:00</td><td style='text-align: left;'>2022-09-24 11:02:00</td><td style='text-align: left;'>M82 Transient</td><td style='text-align: left;'>00031201004</td><td style='text-align: left;'>1740</td><td style='text-align: left;'>0</td></tr><tr><td style='text-align: left;'>2022-09-24 03:33:00</td><td style='text-align: left;'>2022-09-24 03:42:00</td><td style='text-align: left;'>M5</td><td style='text-align: left;'>00096751038</td><td style='text-align: left;'>540</td><td style='text-align: left;'>0</td></tr><tr><td style='text-align: left;'>2022-09-24 03:42:00</td><td style='text-align: left;'>2022-09-24 03:59:00</td><td style='text-align: left;'>NGC 6814</td><td style='text-align: left;'>00015314064</td><td style='text-align: left;'>1020</td><td style='text-align: left;'>0</td></tr><tr><td style='text-align: left;'>2022-09-24 03:59:00</td><td style='text-align: left;'>2022-09-24 04:26:00</td><td style='text-align: left;'>NGC 925</td><td style='text-align: left;'>00014387032</td><td style='text-align: left;'>1620</td><td style='text-align: left;'>0</td></tr><tr><td style='text-align: left;'>2022-09-24 04:26:00</td><td style='text-align: left;'>2022-09-24 23:43:00</td><td style='text-align: left;'>OJ 287</td><td style='text-align: left;'>00035011006</td><td style='text-align: left;'>1800</td><td style='text-align: left;'>0</td></tr><tr><td style='text-align: left;'>2022-09-24 04:49:00</td><td style='text-align: left;'>2022-09-24 08:18:00</td><td style='text-align: left;'>ZTF22abgwgsv</td><td style='text-align: left;'>00015351003</td><td style='text-align: left;'>1500</td><td style='text-align: left;'>0</td></tr><tr><td style='text-align: left;'>2022-09-24 04:59:00</td><td style='text-align: left;'>2022-09-24 05:10:00</td><td style='text-align: left;'>Nova Her 2021</td><td style='text-align: left;'>00014398015</td><td style='text-align: left;'>660</td><td style='text-align: left;'>0</td></tr><tr><td style='text-align: left;'>2022-09-24 05:10:00</td><td style='text-align: left;'>2022-09-24 05:24:00</td><td style='text-align: left;'>GALACTIC CENTER</td><td style='text-align: left;'>00096721158</td><td style='text-align: left;'>840</td><td style='text-align: left;'>0</td></tr><tr><td style='text-align: left;'>2022-09-24 05:59:00</td><td style='text-align: left;'>2022-09-24 06:11:00</td><td style='text-align: left;'>OGP_4569</td><td style='text-align: left;'>03103365001</td><td style='text-align: left;'>720</td><td style='text-align: left;'>0</td></tr><tr><td style='text-align: left;'>2022-09-24 06:11:00</td><td style='text-align: left;'>2022-09-24 06:27:00</td><td style='text-align: left;'>SGWGS-3228</td><td style='text-align: left;'>03108019003</td><td style='text-align: left;'>960</td><td style='text-align: left;'>0</td></tr><tr><td style='text-align: left;'>2022-09-24 06:27:00</td><td style='text-align: left;'>2022-09-24 22:33:00</td><td style='text-align: left;'>SAXJ1808.4-3658</td><td style='text-align: left;'>00030034158</td><td style='text-align: left;'>1020</td><td style='text-align: left;'>0</td></tr><tr><td style='text-align: left;'>2022-09-24 06:33:00</td><td style='text-align: left;'>2022-09-24 06:49:00</td><td style='text-align: left;'>PSR J1417-4402</td><td style='text-align: left;'>00096549003</td><td style='text-align: left;'>960</td><td style='text-align: left;'>0</td></tr><tr><td style='text-align: left;'>2022-09-24 06:49:00</td><td style='text-align: left;'>2022-09-24 07:02:00</td><td style='text-align: left;'>AT2022exr</td><td style='text-align: left;'>00015348004</td><td style='text-align: left;'>780</td><td style='text-align: left;'>0</td></tr><tr><td style='text-align: left;'>2022-09-24 07:02:00</td><td style='text-align: left;'>2022-09-24 07:22:00</td><td style='text-align: left;'>BL Lacertae</td><td style='text-align: left;'>00014925017</td><td style='text-align: left;'>1200</td><td style='text-align: left;'>0</td></tr><tr><td style='text-align: left;'>2022-09-24 07:22:00</td><td style='text-align: left;'>2022-09-24 15:49:00</td><td style='text-align: left;'>MCG+11-11-032</td><td style='text-align: left;'>00034134041</td><td style='text-align: left;'>4800</td><td style='text-align: left;'>0</td></tr><tr><td style='text-align: left;'>2022-09-24 07:52:00</td><td style='text-align: left;'>2022-09-24 08:03:00</td><td style='text-align: left;'>PG 1448+273</td><td style='text-align: left;'>03111761003</td><td style='text-align: left;'>660</td><td style='text-align: left;'>0</td></tr><tr><td style='text-align: left;'>2022-09-24 08:29:00</td><td style='text-align: left;'>2022-09-24 08:46:00</td><td style='text-align: left;'>NGC 6814</td><td style='text-align: left;'>00015314063</td><td style='text-align: left;'>1020</td><td style='text-align: left;'>0</td></tr><tr><td style='text-align: left;'>2022-09-24 08:46:00</td><td style='text-align: left;'>2022-09-24 08:51:00</td><td style='text-align: left;'>MRC B2331-416</td><td style='text-align: left;'>03111887011</td><td style='text-align: left;'>300</td><td style='text-align: left;'>0</td></tr><tr><td style='text-align: left;'>2022-09-24 08:51:00</td><td style='text-align: left;'>2022-09-24 08:57:00</td><td style='text-align: left;'>OGP_3981</td><td style='text-align: left;'>03103547002</td><td style='text-align: left;'>360</td><td style='text-align: left;'>0</td></tr><tr><td style='text-align: left;'>2022-09-24 09:39:00</td><td style='text-align: left;'>2022-09-24 11:44:00</td><td style='text-align: left;'>FBQS J1644+2619</td><td style='text-align: left;'>00014979042</td><td style='text-align: left;'>3000</td><td style='text-align: left;'>0</td></tr><tr><td style='text-align: left;'>2022-09-24 10:09:00</td><td style='text-align: left;'>2022-09-24 10:15:00</td><td style='text-align: left;'>4FGLJ2353.2+3135</td><td style='text-align: left;'>03112000031</td><td style='text-align: left;'>360</td><td style='text-align: left;'>0</td></tr><tr><td style='text-align: left;'>2022-09-24 10:45:00</td><td style='text-align: left;'>2022-09-24 14:01:00</td><td style='text-align: left;'>SWIFT J0805.1-0609</td><td style='text-align: left;'>03111959011</td><td style='text-align: left;'>900</td><td style='text-align: left;'>0</td></tr><tr><td style='text-align: left;'>2022-09-24 11:44:00</td><td style='text-align: left;'>2022-09-24 20:51:00</td><td style='text-align: left;'>XTE J1829-098</td><td style='text-align: left;'>00010806012</td><td style='text-align: left;'>1680</td><td style='text-align: left;'>0</td></tr><tr><td style='text-align: left;'>2022-09-24 11:49:00</td><td style='text-align: left;'>2022-09-24 12:15:00</td><td style='text-align: left;'>IRAS F01004-2237</td><td style='text-align: left;'>00014990018</td><td style='text-align: left;'>1560</td><td style='text-align: left;'>0</td></tr><tr><td style='text-align: left;'>2022-09-24 12:15:00</td><td style='text-align: left;'>2022-09-24 12:32:00</td><td style='text-align: left;'>SWIFT J0717.0+0029</td><td style='text-align: left;'>03111957017</td><td style='text-align: left;'>720</td><td style='text-align: left;'>0</td></tr><tr><td style='text-align: left;'>2022-09-24 12:32:00</td><td style='text-align: left;'>2022-09-24 12:41:00</td><td style='text-align: left;'>saa-cold-267-5</td><td style='text-align: left;'>00074303123</td><td style='text-align: left;'>540</td><td style='text-align: left;'>0</td></tr><tr><td style='text-align: left;'>2022-09-24 12:41:00</td><td style='text-align: left;'>2022-09-24 16:15:00</td><td style='text-align: left;'>saa-cold-267-7</td><td style='text-align: left;'>00074590074</td><td style='text-align: left;'>3660</td><td style='text-align: left;'>0</td></tr><tr><td style='text-align: left;'>2022-09-24 12:51:00</td><td style='text-align: left;'>2022-09-24 20:45:00</td><td style='text-align: left;'>4FGL J1532.9-0313</td><td style='text-align: left;'>03111837006</td><td style='text-align: left;'>600</td><td style='text-align: left;'>0</td></tr><tr><td style='text-align: left;'>2022-09-24 13:06:00</td><td style='text-align: left;'>2022-09-24 13:18:00</td><td style='text-align: left;'>NGC 6814</td><td style='text-align: left;'>00015314062</td><td style='text-align: left;'>720</td><td style='text-align: left;'>0</td></tr><tr><td style='text-align: left;'>2022-09-24 14:01:00</td><td style='text-align: left;'>2022-09-24 19:09:00</td><td style='text-align: left;'>OGP_5690</td><td style='text-align: left;'>03104428002</td><td style='text-align: left;'>1560</td><td style='text-align: left;'>0</td></tr><tr><td style='text-align: left;'>2022-09-24 14:35:00</td><td style='text-align: left;'>2022-09-24 14:43:00</td><td style='text-align: left;'>AT2022exr</td><td style='text-align: left;'>00015348003</td><td style='text-align: left;'>480</td><td style='text-align: left;'>0</td></tr><tr><td style='text-align: left;'>2022-09-24 15:08:00</td><td style='text-align: left;'>2022-09-24 15:26:00</td><td style='text-align: left;'>Orion_162</td><td style='text-align: left;'>03111389002</td><td style='text-align: left;'>1080</td><td style='text-align: left;'>0</td></tr><tr><td style='text-align: left;'>2022-09-24 16:44:00</td><td style='text-align: left;'>2022-09-24 16:57:00</td><td style='text-align: left;'>RX J0324.6+3410</td><td style='text-align: left;'>03111698005</td><td style='text-align: left;'>780</td><td style='text-align: left;'>0</td></tr><tr><td style='text-align: left;'>2022-09-24 16:57:00</td><td style='text-align: left;'>2022-09-24 17:23:00</td><td style='text-align: left;'>BZQ_J0839p5112</td><td style='text-align: left;'>00089476001</td><td style='text-align: left;'>1560</td><td style='text-align: left;'>0</td></tr><tr><td style='text-align: left;'>2022-09-24 17:23:00</td><td style='text-align: left;'>2022-09-24 17:28:00</td><td style='text-align: left;'>OGP_5387</td><td style='text-align: left;'>03104132001</td><td style='text-align: left;'>300</td><td style='text-align: left;'>0</td></tr><tr><td style='text-align: left;'>2022-09-24 17:28:00</td><td style='text-align: left;'>2022-09-24 17:55:00</td><td style='text-align: left;'>saa-cold-267-05</td><td style='text-align: left;'>00076054001</td><td style='text-align: left;'>1620</td><td style='text-align: left;'>0</td></tr><tr><td style='text-align: left;'>2022-09-24 17:55:00</td><td style='text-align: left;'>2022-09-24 18:17:00</td><td style='text-align: left;'>NGC 6814</td><td style='text-align: left;'>00015314069</td><td style='text-align: left;'>1320</td><td style='text-align: left;'>0</td></tr><tr><td style='text-align: left;'>2022-09-24 18:42:00</td><td style='text-align: left;'>2022-09-24 18:52:00</td><td style='text-align: left;'>OGP_4369</td><td style='text-align: left;'>03103643003</td><td style='text-align: left;'>600</td><td style='text-align: left;'>0</td></tr><tr><td style='text-align: left;'>2022-09-24 19:09:00</td><td style='text-align: left;'>2022-09-24 22:54:00</td><td style='text-align: left;'>saa-cold-252-7</td><td style='text-align: left;'>00075276029</td><td style='text-align: left;'>2820</td><td style='text-align: left;'>0</td></tr><tr><td style='text-align: left;'>2022-09-24 19:42:00</td><td style='text-align: left;'>2022-09-24 20:12:00</td><td style='text-align: left;'>FRB180916.J0158+65</td><td style='text-align: left;'>00015299014</td><td style='text-align: left;'>1800</td><td style='text-align: left;'>0</td></tr><tr><td style='text-align: left;'>2022-09-24 20:12:00</td><td style='text-align: left;'>2022-09-24 22:05:00</td><td style='text-align: left;'>ZTF22aagyuao</td><td style='text-align: left;'>00015164011</td><td style='text-align: left;'>2520</td><td style='text-align: left;'>0</td></tr><tr><td style='text-align: left;'>2022-09-24 20:51:00</td><td style='text-align: left;'>2022-09-24 21:14:00</td><td style='text-align: left;'>saa-cold-258-6</td><td style='text-align: left;'>00074600042</td><td style='text-align: left;'>1380</td><td style='text-align: left;'>0</td></tr><tr><td style='text-align: left;'>2022-09-24 21:14:00</td><td style='text-align: left;'>2022-09-24 21:31:00</td><td style='text-align: left;'>1ES 1959+650</td><td style='text-align: left;'>00013906067</td><td style='text-align: left;'>1020</td><td style='text-align: left;'>0</td></tr><tr><td style='text-align: left;'>2022-09-24 21:31:00</td><td style='text-align: left;'>2022-09-24 21:51:00</td><td style='text-align: left;'>Swift J023017.0+283603</td><td style='text-align: left;'>00015231062</td><td style='text-align: left;'>1200</td><td style='text-align: left;'>0</td></tr><tr><td style='text-align: left;'>2022-09-24 22:05:00</td><td style='text-align: left;'>2022-09-24 22:22:00</td><td style='text-align: left;'>3FGL J0838.8-2829</td><td style='text-align: left;'>00096555003</td><td style='text-align: left;'>1020</td><td style='text-align: left;'>0</td></tr><tr><td style='text-align: left;'>2022-09-24 22:54:00</td><td style='text-align: left;'>2022-09-24 23:07:00</td><td style='text-align: left;'>RX J0134.2-4258</td><td style='text-align: left;'>00036528070</td><td style='text-align: left;'>780</td><td style='text-align: left;'>0</td></tr><tr><td style='text-align: left;'>2022-09-24 23:43:00</td><td style='text-align: left;'>2022-09-25 00:00:00</td><td style='text-align: left;'>SGWGS-3754</td><td style='text-align: left;'>03108545003</td><td style='text-align: left;'>1020</td><td style='text-align: left;'>0</td></tr></table>"
      ],
      "text/plain": [
       "{'03108521005': Swift_Observation(begin='2022-09-23 23:56:00',end='2022-09-24 00:06:00',targname='SGWGS-3730',targetid='3108521',seg='5',xrt='PC',uvot='0x207f',bat='0x0000',entries='+---------------------+---------------------+-------------+--------------------+--------------+\n",
       " |          Begin Time |            End Time | Target Name | Observation Number | Exposure (s) |\n",
       " +---------------------+---------------------+-------------+--------------------+--------------+\n",
       " | 2022-09-23 23:56:00 | 2022-09-24 00:06:00 |  SGWGS-3730 |        03108521005 |          600 |\n",
       " +---------------------+---------------------+-------------+--------------------+--------------+'),\n",
       " '00011184247': Swift_Observation(begin='2022-09-24 00:06:00',end='2022-09-24 00:23:00',targname='Mrk501',targetid='11184',seg='247',xrt='WT',uvot='0x30ed',bat='0x0000',entries='+---------------------+---------------------+-------------+--------------------+--------------+\n",
       " |          Begin Time |            End Time | Target Name | Observation Number | Exposure (s) |\n",
       " +---------------------+---------------------+-------------+--------------------+--------------+\n",
       " | 2022-09-24 00:06:00 | 2022-09-24 00:23:00 |      Mrk501 |        00011184247 |         1020 |\n",
       " +---------------------+---------------------+-------------+--------------------+--------------+'),\n",
       " '00074924063': Swift_Observation(begin='2022-09-24 00:23:00',end='2022-09-24 00:42:00',targname='saa-cold-199-0',targetid='74924',seg='63',xrt='Auto',uvot='0x0009',bat='0x0000',entries='+---------------------+---------------------+----------------+--------------------+--------------+\n",
       " |          Begin Time |            End Time |    Target Name | Observation Number | Exposure (s) |\n",
       " +---------------------+---------------------+----------------+--------------------+--------------+\n",
       " | 2022-09-24 00:23:00 | 2022-09-24 00:42:00 | saa-cold-199-0 |        00074924063 |         1140 |\n",
       " +---------------------+---------------------+----------------+--------------------+--------------+'),\n",
       " '03111906023': Swift_Observation(begin='2022-09-24 00:42:00',end='2022-09-24 00:47:00',targname='4FGL_J0159.0+3313',targetid='3111906',seg='23',xrt='PC',uvot='0x015a',bat='0x0000',entries='+---------------------+---------------------+-------------------+--------------------+--------------+\n",
       " |          Begin Time |            End Time |       Target Name | Observation Number | Exposure (s) |\n",
       " +---------------------+---------------------+-------------------+--------------------+--------------+\n",
       " | 2022-09-24 00:42:00 | 2022-09-24 00:47:00 | 4FGL_J0159.0+3313 |        03111906023 |          300 |\n",
       " +---------------------+---------------------+-------------------+--------------------+--------------+'),\n",
       " '00014135059': Swift_Observation(begin='2022-09-24 00:47:00',end='2022-09-24 23:29:00',targname='WISEA J045649.80-203748.0',targetid='14135',seg='59',xrt='PC',uvot='0x015a',bat='0x0000',entries='+---------------------+---------------------+---------------------------+--------------------+--------------+\n",
       " |          Begin Time |            End Time |               Target Name | Observation Number | Exposure (s) |\n",
       " +---------------------+---------------------+---------------------------+--------------------+--------------+\n",
       " | 2022-09-24 00:47:00 | 2022-09-24 01:13:00 | WISEA J045649.80-203748.0 |        00014135059 |         1560 |\n",
       " | 2022-09-24 23:07:00 | 2022-09-24 23:29:00 | WISEA J045649.80-203748.0 |        00014135059 |         1320 |\n",
       " +---------------------+---------------------+---------------------------+--------------------+--------------+'),\n",
       " '00096886077': Swift_Observation(begin='2022-09-24 01:13:00',end='2022-09-24 01:30:00',targname='M81',targetid='96886',seg='77',xrt='PC',uvot='0x011e',bat='0x0000',entries='+---------------------+---------------------+-------------+--------------------+--------------+\n",
       " |          Begin Time |            End Time | Target Name | Observation Number | Exposure (s) |\n",
       " +---------------------+---------------------+-------------+--------------------+--------------+\n",
       " | 2022-09-24 01:13:00 | 2022-09-24 01:30:00 |         M81 |        00096886077 |         1020 |\n",
       " +---------------------+---------------------+-------------+--------------------+--------------+'),\n",
       " '00037952008': Swift_Observation(begin='2022-09-24 01:30:00',end='2022-09-24 11:11:00',targname='SDSSJ140027.4+410138.3',targetid='37952',seg='8',xrt='PC',uvot='0x015a',bat='0x0000',entries='+---------------------+---------------------+------------------------+--------------------+--------------+\n",
       " |          Begin Time |            End Time |            Target Name | Observation Number | Exposure (s) |\n",
       " +---------------------+---------------------+------------------------+--------------------+--------------+\n",
       " | 2022-09-24 01:30:00 | 2022-09-24 01:35:00 | SDSSJ140027.4+410138.3 |        00037952008 |          300 |\n",
       " | 2022-09-24 03:05:00 | 2022-09-24 03:10:00 | SDSSJ140027.4+410138.3 |        00037952008 |          300 |\n",
       " | 2022-09-24 04:42:00 | 2022-09-24 04:49:00 | SDSSJ140027.4+410138.3 |        00037952008 |          420 |\n",
       " | 2022-09-24 09:24:00 | 2022-09-24 09:39:00 | SDSSJ140027.4+410138.3 |        00037952008 |          900 |\n",
       " | 2022-09-24 11:02:00 | 2022-09-24 11:11:00 | SDSSJ140027.4+410138.3 |        00037952008 |          540 |\n",
       " +---------------------+---------------------+------------------------+--------------------+--------------+'),\n",
       " '00031417174': Swift_Observation(begin='2022-09-24 01:35:00',end='2022-09-24 11:24:00',targname='U Sco',targetid='31417',seg='174',xrt='PC',uvot='0x30ed',bat='0x0000',entries='+---------------------+---------------------+-------------+--------------------+--------------+\n",
       " |          Begin Time |            End Time | Target Name | Observation Number | Exposure (s) |\n",
       " +---------------------+---------------------+-------------+--------------------+--------------+\n",
       " | 2022-09-24 01:35:00 | 2022-09-24 01:56:00 |       U Sco |        00031417174 |         1260 |\n",
       " | 2022-09-24 03:10:00 | 2022-09-24 03:33:00 |       U Sco |        00031417174 |         1380 |\n",
       " | 2022-09-24 11:11:00 | 2022-09-24 11:24:00 |       U Sco |        00031417174 |          780 |\n",
       " +---------------------+---------------------+-------------+--------------------+--------------+'),\n",
       " '00014052107': Swift_Observation(begin='2022-09-24 01:56:00',end='2022-09-24 02:13:00',targname='GX 339-4',targetid='14052',seg='107',xrt='PC',uvot='0x015a',bat='0x0000',entries='+---------------------+---------------------+-------------+--------------------+--------------+\n",
       " |          Begin Time |            End Time | Target Name | Observation Number | Exposure (s) |\n",
       " +---------------------+---------------------+-------------+--------------------+--------------+\n",
       " | 2022-09-24 01:56:00 | 2022-09-24 02:13:00 |    GX 339-4 |        00014052107 |         1020 |\n",
       " +---------------------+---------------------+-------------+--------------------+--------------+'),\n",
       " '00034826034': Swift_Observation(begin='2022-09-24 02:13:00',end='2022-09-24 16:44:00',targname='V378 Vul',targetid='34826',seg='34',xrt='PC',uvot='0x015a',bat='0x0000',entries='+---------------------+---------------------+-------------+--------------------+--------------+\n",
       " |          Begin Time |            End Time | Target Name | Observation Number | Exposure (s) |\n",
       " +---------------------+---------------------+-------------+--------------------+--------------+\n",
       " | 2022-09-24 02:13:00 | 2022-09-24 02:18:00 |    V378 Vul |        00034826034 |          300 |\n",
       " | 2022-09-24 05:24:00 | 2022-09-24 05:29:00 |    V378 Vul |        00034826034 |          300 |\n",
       " | 2022-09-24 08:18:00 | 2022-09-24 08:29:00 |    V378 Vul |        00034826034 |          660 |\n",
       " | 2022-09-24 13:18:00 | 2022-09-24 13:26:00 |    V378 Vul |        00034826034 |          480 |\n",
       " | 2022-09-24 14:43:00 | 2022-09-24 15:08:00 |    V378 Vul |        00034826034 |         1500 |\n",
       " | 2022-09-24 16:15:00 | 2022-09-24 16:44:00 |    V378 Vul |        00034826034 |         1740 |\n",
       " +---------------------+---------------------+-------------+--------------------+--------------+'),\n",
       " '00059152050': Swift_Observation(begin='2022-09-24 02:18:00',end='2022-09-24 18:22:00',targname='Tycho_500_100',targetid='59152',seg='50',xrt='PC',uvot='0x015a',bat='0x0000',entries='+---------------------+---------------------+---------------+--------------------+--------------+\n",
       " |          Begin Time |            End Time |   Target Name | Observation Number | Exposure (s) |\n",
       " +---------------------+---------------------+---------------+--------------------+--------------+\n",
       " | 2022-09-24 02:18:00 | 2022-09-24 02:23:00 | Tycho_500_100 |        00059152050 |          300 |\n",
       " | 2022-09-24 05:29:00 | 2022-09-24 05:34:00 | Tycho_500_100 |        00059152050 |          300 |\n",
       " | 2022-09-24 10:15:00 | 2022-09-24 10:20:00 | Tycho_500_100 |        00059152050 |          300 |\n",
       " | 2022-09-24 13:26:00 | 2022-09-24 13:31:00 | Tycho_500_100 |        00059152050 |          300 |\n",
       " | 2022-09-24 18:17:00 | 2022-09-24 18:22:00 | Tycho_500_100 |        00059152050 |          300 |\n",
       " +---------------------+---------------------+---------------+--------------------+--------------+'),\n",
       " '00059152051': Swift_Observation(begin='2022-09-24 02:23:00',end='2022-09-24 18:42:00',targname='Tycho_500_100',targetid='59152',seg='51',xrt='PC',uvot='0x015a',bat='0x0000',entries='+---------------------+---------------------+---------------+--------------------+--------------+\n",
       " |          Begin Time |            End Time |   Target Name | Observation Number | Exposure (s) |\n",
       " +---------------------+---------------------+---------------+--------------------+--------------+\n",
       " | 2022-09-24 02:23:00 | 2022-09-24 02:48:00 | Tycho_500_100 |        00059152051 |         1500 |\n",
       " | 2022-09-24 05:34:00 | 2022-09-24 05:59:00 | Tycho_500_100 |        00059152051 |         1500 |\n",
       " | 2022-09-24 10:20:00 | 2022-09-24 10:45:00 | Tycho_500_100 |        00059152051 |         1500 |\n",
       " | 2022-09-24 13:31:00 | 2022-09-24 13:56:00 | Tycho_500_100 |        00059152051 |         1500 |\n",
       " | 2022-09-24 18:22:00 | 2022-09-24 18:42:00 | Tycho_500_100 |        00059152051 |         1200 |\n",
       " +---------------------+---------------------+---------------+--------------------+--------------+'),\n",
       " '00031201004': Swift_Observation(begin='2022-09-24 02:48:00',end='2022-09-24 11:02:00',targname='M82 Transient',targetid='31201',seg='4',xrt='PC',uvot='0x015a',bat='0x0000',entries='+---------------------+---------------------+---------------+--------------------+--------------+\n",
       " |          Begin Time |            End Time |   Target Name | Observation Number | Exposure (s) |\n",
       " +---------------------+---------------------+---------------+--------------------+--------------+\n",
       " | 2022-09-24 02:48:00 | 2022-09-24 03:05:00 | M82 Transient |        00031201004 |         1020 |\n",
       " | 2022-09-24 10:50:00 | 2022-09-24 11:02:00 | M82 Transient |        00031201004 |          720 |\n",
       " +---------------------+---------------------+---------------+--------------------+--------------+'),\n",
       " '00096751038': Swift_Observation(begin='2022-09-24 03:33:00',end='2022-09-24 03:42:00',targname='M5',targetid='96751',seg='38',xrt='Auto',uvot='0x015a',bat='0x0000',entries='+---------------------+---------------------+-------------+--------------------+--------------+\n",
       " |          Begin Time |            End Time | Target Name | Observation Number | Exposure (s) |\n",
       " +---------------------+---------------------+-------------+--------------------+--------------+\n",
       " | 2022-09-24 03:33:00 | 2022-09-24 03:42:00 |          M5 |        00096751038 |          540 |\n",
       " +---------------------+---------------------+-------------+--------------------+--------------+'),\n",
       " '00015314064': Swift_Observation(begin='2022-09-24 03:42:00',end='2022-09-24 03:59:00',targname='NGC 6814',targetid='15314',seg='64',xrt='PC',uvot='0x30ed',bat='0x0000',entries='+---------------------+---------------------+-------------+--------------------+--------------+\n",
       " |          Begin Time |            End Time | Target Name | Observation Number | Exposure (s) |\n",
       " +---------------------+---------------------+-------------+--------------------+--------------+\n",
       " | 2022-09-24 03:42:00 | 2022-09-24 03:59:00 |    NGC 6814 |        00015314064 |         1020 |\n",
       " +---------------------+---------------------+-------------+--------------------+--------------+'),\n",
       " '00014387032': Swift_Observation(begin='2022-09-24 03:59:00',end='2022-09-24 04:26:00',targname='NGC 925',targetid='14387',seg='32',xrt='PC',uvot='0x015a',bat='0x0000',entries='+---------------------+---------------------+-------------+--------------------+--------------+\n",
       " |          Begin Time |            End Time | Target Name | Observation Number | Exposure (s) |\n",
       " +---------------------+---------------------+-------------+--------------------+--------------+\n",
       " | 2022-09-24 03:59:00 | 2022-09-24 04:26:00 |     NGC 925 |        00014387032 |         1620 |\n",
       " +---------------------+---------------------+-------------+--------------------+--------------+'),\n",
       " '00035011006': Swift_Observation(begin='2022-09-24 04:26:00',end='2022-09-24 23:43:00',targname='OJ 287',targetid='35011',seg='6',xrt='PC',uvot='0x30ed',bat='0x0000',entries='+---------------------+---------------------+-------------+--------------------+--------------+\n",
       " |          Begin Time |            End Time | Target Name | Observation Number | Exposure (s) |\n",
       " +---------------------+---------------------+-------------+--------------------+--------------+\n",
       " | 2022-09-24 04:26:00 | 2022-09-24 04:42:00 |      OJ 287 |        00035011006 |          960 |\n",
       " | 2022-09-24 23:29:00 | 2022-09-24 23:43:00 |      OJ 287 |        00035011006 |          840 |\n",
       " +---------------------+---------------------+-------------+--------------------+--------------+'),\n",
       " '00015351003': Swift_Observation(begin='2022-09-24 04:49:00',end='2022-09-24 08:18:00',targname='ZTF22abgwgsv',targetid='15351',seg='3',xrt='PC',uvot='0x223f',bat='0x0000',entries='+---------------------+---------------------+--------------+--------------------+--------------+\n",
       " |          Begin Time |            End Time |  Target Name | Observation Number | Exposure (s) |\n",
       " +---------------------+---------------------+--------------+--------------------+--------------+\n",
       " | 2022-09-24 04:49:00 | 2022-09-24 04:59:00 | ZTF22abgwgsv |        00015351003 |          600 |\n",
       " | 2022-09-24 08:03:00 | 2022-09-24 08:18:00 | ZTF22abgwgsv |        00015351003 |          900 |\n",
       " +---------------------+---------------------+--------------+--------------------+--------------+'),\n",
       " '00014398015': Swift_Observation(begin='2022-09-24 04:59:00',end='2022-09-24 05:10:00',targname='Nova Her 2021',targetid='14398',seg='15',xrt='PC',uvot='0x015a',bat='0x0000',entries='+---------------------+---------------------+---------------+--------------------+--------------+\n",
       " |          Begin Time |            End Time |   Target Name | Observation Number | Exposure (s) |\n",
       " +---------------------+---------------------+---------------+--------------------+--------------+\n",
       " | 2022-09-24 04:59:00 | 2022-09-24 05:10:00 | Nova Her 2021 |        00014398015 |          660 |\n",
       " +---------------------+---------------------+---------------+--------------------+--------------+'),\n",
       " '00096721158': Swift_Observation(begin='2022-09-24 05:10:00',end='2022-09-24 05:24:00',targname='GALACTIC CENTER',targetid='96721',seg='158',xrt='PC',uvot='0x015a',bat='0x0000',entries='+---------------------+---------------------+-----------------+--------------------+--------------+\n",
       " |          Begin Time |            End Time |     Target Name | Observation Number | Exposure (s) |\n",
       " +---------------------+---------------------+-----------------+--------------------+--------------+\n",
       " | 2022-09-24 05:10:00 | 2022-09-24 05:24:00 | GALACTIC CENTER |        00096721158 |          840 |\n",
       " +---------------------+---------------------+-----------------+--------------------+--------------+'),\n",
       " '03103365001': Swift_Observation(begin='2022-09-24 05:59:00',end='2022-09-24 06:11:00',targname='OGP_4569',targetid='3103365',seg='1',xrt='Auto',uvot='0x015a',bat='0x0000',entries='+---------------------+---------------------+-------------+--------------------+--------------+\n",
       " |          Begin Time |            End Time | Target Name | Observation Number | Exposure (s) |\n",
       " +---------------------+---------------------+-------------+--------------------+--------------+\n",
       " | 2022-09-24 05:59:00 | 2022-09-24 06:11:00 |    OGP_4569 |        03103365001 |          720 |\n",
       " +---------------------+---------------------+-------------+--------------------+--------------+'),\n",
       " '03108019003': Swift_Observation(begin='2022-09-24 06:11:00',end='2022-09-24 06:27:00',targname='SGWGS-3228',targetid='3108019',seg='3',xrt='PC',uvot='0x207f',bat='0x0000',entries='+---------------------+---------------------+-------------+--------------------+--------------+\n",
       " |          Begin Time |            End Time | Target Name | Observation Number | Exposure (s) |\n",
       " +---------------------+---------------------+-------------+--------------------+--------------+\n",
       " | 2022-09-24 06:11:00 | 2022-09-24 06:27:00 |  SGWGS-3228 |        03108019003 |          960 |\n",
       " +---------------------+---------------------+-------------+--------------------+--------------+'),\n",
       " '00030034158': Swift_Observation(begin='2022-09-24 06:27:00',end='2022-09-24 22:33:00',targname='SAXJ1808.4-3658',targetid='30034',seg='158',xrt='WT',uvot='0x015a',bat='0x0000',entries='+---------------------+---------------------+-----------------+--------------------+--------------+\n",
       " |          Begin Time |            End Time |     Target Name | Observation Number | Exposure (s) |\n",
       " +---------------------+---------------------+-----------------+--------------------+--------------+\n",
       " | 2022-09-24 06:27:00 | 2022-09-24 06:33:00 | SAXJ1808.4-3658 |        00030034158 |          360 |\n",
       " | 2022-09-24 22:22:00 | 2022-09-24 22:33:00 | SAXJ1808.4-3658 |        00030034158 |          660 |\n",
       " +---------------------+---------------------+-----------------+--------------------+--------------+'),\n",
       " '00096549003': Swift_Observation(begin='2022-09-24 06:33:00',end='2022-09-24 06:49:00',targname='PSR J1417-4402',targetid='96549',seg='3',xrt='PC',uvot='0x015a',bat='0x0000',entries='+---------------------+---------------------+----------------+--------------------+--------------+\n",
       " |          Begin Time |            End Time |    Target Name | Observation Number | Exposure (s) |\n",
       " +---------------------+---------------------+----------------+--------------------+--------------+\n",
       " | 2022-09-24 06:33:00 | 2022-09-24 06:49:00 | PSR J1417-4402 |        00096549003 |          960 |\n",
       " +---------------------+---------------------+----------------+--------------------+--------------+'),\n",
       " '00015348004': Swift_Observation(begin='2022-09-24 06:49:00',end='2022-09-24 07:02:00',targname='AT2022exr',targetid='15348',seg='4',xrt='PC',uvot='0x308f',bat='0x0000',entries='+---------------------+---------------------+-------------+--------------------+--------------+\n",
       " |          Begin Time |            End Time | Target Name | Observation Number | Exposure (s) |\n",
       " +---------------------+---------------------+-------------+--------------------+--------------+\n",
       " | 2022-09-24 06:49:00 | 2022-09-24 07:02:00 |   AT2022exr |        00015348004 |          780 |\n",
       " +---------------------+---------------------+-------------+--------------------+--------------+'),\n",
       " '00014925017': Swift_Observation(begin='2022-09-24 07:02:00',end='2022-09-24 07:22:00',targname='BL Lacertae',targetid='14925',seg='17',xrt='Auto',uvot='0x30ed',bat='0x0000',entries='+---------------------+---------------------+-------------+--------------------+--------------+\n",
       " |          Begin Time |            End Time | Target Name | Observation Number | Exposure (s) |\n",
       " +---------------------+---------------------+-------------+--------------------+--------------+\n",
       " | 2022-09-24 07:02:00 | 2022-09-24 07:22:00 | BL Lacertae |        00014925017 |         1200 |\n",
       " +---------------------+---------------------+-------------+--------------------+--------------+'),\n",
       " '00034134041': Swift_Observation(begin='2022-09-24 07:22:00',end='2022-09-24 15:49:00',targname='MCG+11-11-032',targetid='34134',seg='41',xrt='PC',uvot='0x015a',bat='0x0000',entries='+---------------------+---------------------+---------------+--------------------+--------------+\n",
       " |          Begin Time |            End Time |   Target Name | Observation Number | Exposure (s) |\n",
       " +---------------------+---------------------+---------------+--------------------+--------------+\n",
       " | 2022-09-24 07:22:00 | 2022-09-24 07:52:00 | MCG+11-11-032 |        00034134041 |         1800 |\n",
       " | 2022-09-24 08:57:00 | 2022-09-24 09:24:00 | MCG+11-11-032 |        00034134041 |         1620 |\n",
       " | 2022-09-24 15:26:00 | 2022-09-24 15:49:00 | MCG+11-11-032 |        00034134041 |         1380 |\n",
       " +---------------------+---------------------+---------------+--------------------+--------------+'),\n",
       " '03111761003': Swift_Observation(begin='2022-09-24 07:52:00',end='2022-09-24 08:03:00',targname='PG 1448+273',targetid='3111761',seg='3',xrt='PC',uvot='0x30ed',bat='0x0000',entries='+---------------------+---------------------+-------------+--------------------+--------------+\n",
       " |          Begin Time |            End Time | Target Name | Observation Number | Exposure (s) |\n",
       " +---------------------+---------------------+-------------+--------------------+--------------+\n",
       " | 2022-09-24 07:52:00 | 2022-09-24 08:03:00 | PG 1448+273 |        03111761003 |          660 |\n",
       " +---------------------+---------------------+-------------+--------------------+--------------+'),\n",
       " '00015314063': Swift_Observation(begin='2022-09-24 08:29:00',end='2022-09-24 08:46:00',targname='NGC 6814',targetid='15314',seg='63',xrt='PC',uvot='0x30ed',bat='0x0000',entries='+---------------------+---------------------+-------------+--------------------+--------------+\n",
       " |          Begin Time |            End Time | Target Name | Observation Number | Exposure (s) |\n",
       " +---------------------+---------------------+-------------+--------------------+--------------+\n",
       " | 2022-09-24 08:29:00 | 2022-09-24 08:46:00 |    NGC 6814 |        00015314063 |         1020 |\n",
       " +---------------------+---------------------+-------------+--------------------+--------------+'),\n",
       " '03111887011': Swift_Observation(begin='2022-09-24 08:46:00',end='2022-09-24 08:51:00',targname='MRC B2331-416',targetid='3111887',seg='11',xrt='PC',uvot='0x015a',bat='0x0000',entries='+---------------------+---------------------+---------------+--------------------+--------------+\n",
       " |          Begin Time |            End Time |   Target Name | Observation Number | Exposure (s) |\n",
       " +---------------------+---------------------+---------------+--------------------+--------------+\n",
       " | 2022-09-24 08:46:00 | 2022-09-24 08:51:00 | MRC B2331-416 |        03111887011 |          300 |\n",
       " +---------------------+---------------------+---------------+--------------------+--------------+'),\n",
       " '03103547002': Swift_Observation(begin='2022-09-24 08:51:00',end='2022-09-24 08:57:00',targname='OGP_3981',targetid='3103547',seg='2',xrt='Auto',uvot='0x0ff3',bat='0x0000',entries='+---------------------+---------------------+-------------+--------------------+--------------+\n",
       " |          Begin Time |            End Time | Target Name | Observation Number | Exposure (s) |\n",
       " +---------------------+---------------------+-------------+--------------------+--------------+\n",
       " | 2022-09-24 08:51:00 | 2022-09-24 08:57:00 |    OGP_3981 |        03103547002 |          360 |\n",
       " +---------------------+---------------------+-------------+--------------------+--------------+'),\n",
       " '00014979042': Swift_Observation(begin='2022-09-24 09:39:00',end='2022-09-24 11:44:00',targname='FBQS J1644+2619',targetid='14979',seg='42',xrt='Auto',uvot='0x30ed',bat='0x0000',entries='+---------------------+---------------------+-----------------+--------------------+--------------+\n",
       " |          Begin Time |            End Time |     Target Name | Observation Number | Exposure (s) |\n",
       " +---------------------+---------------------+-----------------+--------------------+--------------+\n",
       " | 2022-09-24 09:39:00 | 2022-09-24 10:09:00 | FBQS J1644+2619 |        00014979042 |         1800 |\n",
       " | 2022-09-24 11:24:00 | 2022-09-24 11:44:00 | FBQS J1644+2619 |        00014979042 |         1200 |\n",
       " +---------------------+---------------------+-----------------+--------------------+--------------+'),\n",
       " '03112000031': Swift_Observation(begin='2022-09-24 10:09:00',end='2022-09-24 10:15:00',targname='4FGLJ2353.2+3135',targetid='3112000',seg='31',xrt='Auto',uvot='0x015a',bat='0x0000',entries='+---------------------+---------------------+------------------+--------------------+--------------+\n",
       " |          Begin Time |            End Time |      Target Name | Observation Number | Exposure (s) |\n",
       " +---------------------+---------------------+------------------+--------------------+--------------+\n",
       " | 2022-09-24 10:09:00 | 2022-09-24 10:15:00 | 4FGLJ2353.2+3135 |        03112000031 |          360 |\n",
       " +---------------------+---------------------+------------------+--------------------+--------------+'),\n",
       " '03111959011': Swift_Observation(begin='2022-09-24 10:45:00',end='2022-09-24 14:01:00',targname='SWIFT J0805.1-0609',targetid='3111959',seg='11',xrt='PC',uvot='0x015a',bat='0x0000',entries='+---------------------+---------------------+--------------------+--------------------+--------------+\n",
       " |          Begin Time |            End Time |        Target Name | Observation Number | Exposure (s) |\n",
       " +---------------------+---------------------+--------------------+--------------------+--------------+\n",
       " | 2022-09-24 10:45:00 | 2022-09-24 10:50:00 | SWIFT J0805.1-0609 |        03111959011 |          300 |\n",
       " | 2022-09-24 12:20:00 | 2022-09-24 12:25:00 | SWIFT J0805.1-0609 |        03111959011 |          300 |\n",
       " | 2022-09-24 13:56:00 | 2022-09-24 14:01:00 | SWIFT J0805.1-0609 |        03111959011 |          300 |\n",
       " +---------------------+---------------------+--------------------+--------------------+--------------+'),\n",
       " '00010806012': Swift_Observation(begin='2022-09-24 11:44:00',end='2022-09-24 20:51:00',targname='XTE J1829-098',targetid='10806',seg='12',xrt='Auto',uvot='0x015a',bat='0x0000',entries='+---------------------+---------------------+---------------+--------------------+--------------+\n",
       " |          Begin Time |            End Time |   Target Name | Observation Number | Exposure (s) |\n",
       " +---------------------+---------------------+---------------+--------------------+--------------+\n",
       " | 2022-09-24 11:44:00 | 2022-09-24 11:49:00 | XTE J1829-098 |        00010806012 |          300 |\n",
       " | 2022-09-24 12:56:00 | 2022-09-24 13:06:00 | XTE J1829-098 |        00010806012 |          600 |\n",
       " | 2022-09-24 19:35:00 | 2022-09-24 19:42:00 | XTE J1829-098 |        00010806012 |          420 |\n",
       " | 2022-09-24 20:45:00 | 2022-09-24 20:51:00 | XTE J1829-098 |        00010806012 |          360 |\n",
       " +---------------------+---------------------+---------------+--------------------+--------------+'),\n",
       " '00014990018': Swift_Observation(begin='2022-09-24 11:49:00',end='2022-09-24 12:15:00',targname='IRAS F01004-2237',targetid='14990',seg='18',xrt='PC',uvot='0x011e',bat='0x0000',entries='+---------------------+---------------------+------------------+--------------------+--------------+\n",
       " |          Begin Time |            End Time |      Target Name | Observation Number | Exposure (s) |\n",
       " +---------------------+---------------------+------------------+--------------------+--------------+\n",
       " | 2022-09-24 11:49:00 | 2022-09-24 12:15:00 | IRAS F01004-2237 |        00014990018 |         1560 |\n",
       " +---------------------+---------------------+------------------+--------------------+--------------+'),\n",
       " '03111957017': Swift_Observation(begin='2022-09-24 12:15:00',end='2022-09-24 12:32:00',targname='SWIFT J0717.0+0029',targetid='3111957',seg='17',xrt='PC',uvot='0x015a',bat='0x0000',entries='+---------------------+---------------------+--------------------+--------------------+--------------+\n",
       " |          Begin Time |            End Time |        Target Name | Observation Number | Exposure (s) |\n",
       " +---------------------+---------------------+--------------------+--------------------+--------------+\n",
       " | 2022-09-24 12:15:00 | 2022-09-24 12:20:00 | SWIFT J0717.0+0029 |        03111957017 |          300 |\n",
       " | 2022-09-24 12:25:00 | 2022-09-24 12:32:00 | SWIFT J0717.0+0029 |        03111957017 |          420 |\n",
       " +---------------------+---------------------+--------------------+--------------------+--------------+'),\n",
       " '00074303123': Swift_Observation(begin='2022-09-24 12:32:00',end='2022-09-24 12:41:00',targname='saa-cold-267-5',targetid='74303',seg='123',xrt='Auto',uvot='0x0009',bat='0x0000',entries='+---------------------+---------------------+----------------+--------------------+--------------+\n",
       " |          Begin Time |            End Time |    Target Name | Observation Number | Exposure (s) |\n",
       " +---------------------+---------------------+----------------+--------------------+--------------+\n",
       " | 2022-09-24 12:32:00 | 2022-09-24 12:41:00 | saa-cold-267-5 |        00074303123 |          540 |\n",
       " +---------------------+---------------------+----------------+--------------------+--------------+'),\n",
       " '00074590074': Swift_Observation(begin='2022-09-24 12:41:00',end='2022-09-24 16:15:00',targname='saa-cold-267-7',targetid='74590',seg='74',xrt='Auto',uvot='0x0009',bat='0x0000',entries='+---------------------+---------------------+----------------+--------------------+--------------+\n",
       " |          Begin Time |            End Time |    Target Name | Observation Number | Exposure (s) |\n",
       " +---------------------+---------------------+----------------+--------------------+--------------+\n",
       " | 2022-09-24 12:41:00 | 2022-09-24 12:51:00 | saa-cold-267-7 |        00074590074 |          600 |\n",
       " | 2022-09-24 14:10:00 | 2022-09-24 14:35:00 | saa-cold-267-7 |        00074590074 |         1500 |\n",
       " | 2022-09-24 15:49:00 | 2022-09-24 16:15:00 | saa-cold-267-7 |        00074590074 |         1560 |\n",
       " +---------------------+---------------------+----------------+--------------------+--------------+'),\n",
       " '03111837006': Swift_Observation(begin='2022-09-24 12:51:00',end='2022-09-24 20:45:00',targname='4FGL J1532.9-0313',targetid='3111837',seg='6',xrt='PC',uvot='0x015a',bat='0x0000',entries='+---------------------+---------------------+-------------------+--------------------+--------------+\n",
       " |          Begin Time |            End Time |       Target Name | Observation Number | Exposure (s) |\n",
       " +---------------------+---------------------+-------------------+--------------------+--------------+\n",
       " | 2022-09-24 12:51:00 | 2022-09-24 12:56:00 | 4FGL J1532.9-0313 |        03111837006 |          300 |\n",
       " | 2022-09-24 20:40:00 | 2022-09-24 20:45:00 | 4FGL J1532.9-0313 |        03111837006 |          300 |\n",
       " +---------------------+---------------------+-------------------+--------------------+--------------+'),\n",
       " '00015314062': Swift_Observation(begin='2022-09-24 13:06:00',end='2022-09-24 13:18:00',targname='NGC 6814',targetid='15314',seg='62',xrt='PC',uvot='0x30ed',bat='0x0000',entries='+---------------------+---------------------+-------------+--------------------+--------------+\n",
       " |          Begin Time |            End Time | Target Name | Observation Number | Exposure (s) |\n",
       " +---------------------+---------------------+-------------+--------------------+--------------+\n",
       " | 2022-09-24 13:06:00 | 2022-09-24 13:18:00 |    NGC 6814 |        00015314062 |          720 |\n",
       " +---------------------+---------------------+-------------+--------------------+--------------+'),\n",
       " '03104428002': Swift_Observation(begin='2022-09-24 14:01:00',end='2022-09-24 19:09:00',targname='OGP_5690',targetid='3104428',seg='2',xrt='Auto',uvot='0x015a',bat='0x0000',entries='+---------------------+---------------------+-------------+--------------------+--------------+\n",
       " |          Begin Time |            End Time | Target Name | Observation Number | Exposure (s) |\n",
       " +---------------------+---------------------+-------------+--------------------+--------------+\n",
       " | 2022-09-24 14:01:00 | 2022-09-24 14:10:00 |    OGP_5690 |        03104428002 |          540 |\n",
       " | 2022-09-24 18:52:00 | 2022-09-24 19:09:00 |    OGP_5690 |        03104428002 |         1020 |\n",
       " +---------------------+---------------------+-------------+--------------------+--------------+'),\n",
       " '00015348003': Swift_Observation(begin='2022-09-24 14:35:00',end='2022-09-24 14:43:00',targname='AT2022exr',targetid='15348',seg='3',xrt='PC',uvot='0x308f',bat='0x0000',entries='+---------------------+---------------------+-------------+--------------------+--------------+\n",
       " |          Begin Time |            End Time | Target Name | Observation Number | Exposure (s) |\n",
       " +---------------------+---------------------+-------------+--------------------+--------------+\n",
       " | 2022-09-24 14:35:00 | 2022-09-24 14:43:00 |   AT2022exr |        00015348003 |          480 |\n",
       " +---------------------+---------------------+-------------+--------------------+--------------+'),\n",
       " '03111389002': Swift_Observation(begin='2022-09-24 15:08:00',end='2022-09-24 15:26:00',targname='Orion_162',targetid='3111389',seg='2',xrt='PC',uvot='0x015a',bat='0x0000',entries='+---------------------+---------------------+-------------+--------------------+--------------+\n",
       " |          Begin Time |            End Time | Target Name | Observation Number | Exposure (s) |\n",
       " +---------------------+---------------------+-------------+--------------------+--------------+\n",
       " | 2022-09-24 15:08:00 | 2022-09-24 15:26:00 |   Orion_162 |        03111389002 |         1080 |\n",
       " +---------------------+---------------------+-------------+--------------------+--------------+'),\n",
       " '03111698005': Swift_Observation(begin='2022-09-24 16:44:00',end='2022-09-24 16:57:00',targname='RX J0324.6+3410',targetid='3111698',seg='5',xrt='PC',uvot='0x30ed',bat='0x0000',entries='+---------------------+---------------------+-----------------+--------------------+--------------+\n",
       " |          Begin Time |            End Time |     Target Name | Observation Number | Exposure (s) |\n",
       " +---------------------+---------------------+-----------------+--------------------+--------------+\n",
       " | 2022-09-24 16:44:00 | 2022-09-24 16:57:00 | RX J0324.6+3410 |        03111698005 |          780 |\n",
       " +---------------------+---------------------+-----------------+--------------------+--------------+'),\n",
       " '00089476001': Swift_Observation(begin='2022-09-24 16:57:00',end='2022-09-24 17:23:00',targname='BZQ_J0839p5112',targetid='89476',seg='1',xrt='Auto',uvot='0x30ed',bat='0x0000',entries='+---------------------+---------------------+----------------+--------------------+--------------+\n",
       " |          Begin Time |            End Time |    Target Name | Observation Number | Exposure (s) |\n",
       " +---------------------+---------------------+----------------+--------------------+--------------+\n",
       " | 2022-09-24 16:57:00 | 2022-09-24 17:23:00 | BZQ_J0839p5112 |        00089476001 |         1560 |\n",
       " +---------------------+---------------------+----------------+--------------------+--------------+'),\n",
       " '03104132001': Swift_Observation(begin='2022-09-24 17:23:00',end='2022-09-24 17:28:00',targname='OGP_5387',targetid='3104132',seg='1',xrt='Auto',uvot='0x015a',bat='0x0000',entries='+---------------------+---------------------+-------------+--------------------+--------------+\n",
       " |          Begin Time |            End Time | Target Name | Observation Number | Exposure (s) |\n",
       " +---------------------+---------------------+-------------+--------------------+--------------+\n",
       " | 2022-09-24 17:23:00 | 2022-09-24 17:28:00 |    OGP_5387 |        03104132001 |          300 |\n",
       " +---------------------+---------------------+-------------+--------------------+--------------+'),\n",
       " '00076054001': Swift_Observation(begin='2022-09-24 17:28:00',end='2022-09-24 17:55:00',targname='saa-cold-267-05',targetid='76054',seg='1',xrt='Auto',uvot='0x0009',bat='0x0000',entries='+---------------------+---------------------+-----------------+--------------------+--------------+\n",
       " |          Begin Time |            End Time |     Target Name | Observation Number | Exposure (s) |\n",
       " +---------------------+---------------------+-----------------+--------------------+--------------+\n",
       " | 2022-09-24 17:28:00 | 2022-09-24 17:55:00 | saa-cold-267-05 |        00076054001 |         1620 |\n",
       " +---------------------+---------------------+-----------------+--------------------+--------------+'),\n",
       " '00015314069': Swift_Observation(begin='2022-09-24 17:55:00',end='2022-09-24 18:17:00',targname='NGC 6814',targetid='15314',seg='69',xrt='PC',uvot='0x30ed',bat='0x0000',entries='+---------------------+---------------------+-------------+--------------------+--------------+\n",
       " |          Begin Time |            End Time | Target Name | Observation Number | Exposure (s) |\n",
       " +---------------------+---------------------+-------------+--------------------+--------------+\n",
       " | 2022-09-24 17:55:00 | 2022-09-24 18:17:00 |    NGC 6814 |        00015314069 |         1320 |\n",
       " +---------------------+---------------------+-------------+--------------------+--------------+'),\n",
       " '03103643003': Swift_Observation(begin='2022-09-24 18:42:00',end='2022-09-24 18:52:00',targname='OGP_4369',targetid='3103643',seg='3',xrt='Auto',uvot='0x015a',bat='0x0000',entries='+---------------------+---------------------+-------------+--------------------+--------------+\n",
       " |          Begin Time |            End Time | Target Name | Observation Number | Exposure (s) |\n",
       " +---------------------+---------------------+-------------+--------------------+--------------+\n",
       " | 2022-09-24 18:42:00 | 2022-09-24 18:52:00 |    OGP_4369 |        03103643003 |          600 |\n",
       " +---------------------+---------------------+-------------+--------------------+--------------+'),\n",
       " '00075276029': Swift_Observation(begin='2022-09-24 19:09:00',end='2022-09-24 22:54:00',targname='saa-cold-252-7',targetid='75276',seg='29',xrt='Auto',uvot='0x0009',bat='0x0000',entries='+---------------------+---------------------+----------------+--------------------+--------------+\n",
       " |          Begin Time |            End Time |    Target Name | Observation Number | Exposure (s) |\n",
       " +---------------------+---------------------+----------------+--------------------+--------------+\n",
       " | 2022-09-24 19:09:00 | 2022-09-24 19:35:00 | saa-cold-252-7 |        00075276029 |         1560 |\n",
       " | 2022-09-24 22:33:00 | 2022-09-24 22:54:00 | saa-cold-252-7 |        00075276029 |         1260 |\n",
       " +---------------------+---------------------+----------------+--------------------+--------------+'),\n",
       " '00015299014': Swift_Observation(begin='2022-09-24 19:42:00',end='2022-09-24 20:12:00',targname='FRB180916.J0158+65',targetid='15299',seg='14',xrt='WT',uvot='0x015c',bat='0x0000',entries='+---------------------+---------------------+--------------------+--------------------+--------------+\n",
       " |          Begin Time |            End Time |        Target Name | Observation Number | Exposure (s) |\n",
       " +---------------------+---------------------+--------------------+--------------------+--------------+\n",
       " | 2022-09-24 19:42:00 | 2022-09-24 20:12:00 | FRB180916.J0158+65 |        00015299014 |         1800 |\n",
       " +---------------------+---------------------+--------------------+--------------------+--------------+'),\n",
       " '00015164011': Swift_Observation(begin='2022-09-24 20:12:00',end='2022-09-24 22:05:00',targname='ZTF22aagyuao',targetid='15164',seg='11',xrt='PC',uvot='0x30d5',bat='0x0000',entries='+---------------------+---------------------+--------------+--------------------+--------------+\n",
       " |          Begin Time |            End Time |  Target Name | Observation Number | Exposure (s) |\n",
       " +---------------------+---------------------+--------------+--------------------+--------------+\n",
       " | 2022-09-24 20:12:00 | 2022-09-24 20:40:00 | ZTF22aagyuao |        00015164011 |         1680 |\n",
       " | 2022-09-24 21:51:00 | 2022-09-24 22:05:00 | ZTF22aagyuao |        00015164011 |          840 |\n",
       " +---------------------+---------------------+--------------+--------------------+--------------+'),\n",
       " '00074600042': Swift_Observation(begin='2022-09-24 20:51:00',end='2022-09-24 21:14:00',targname='saa-cold-258-6',targetid='74600',seg='42',xrt='Auto',uvot='0x0009',bat='0x0000',entries='+---------------------+---------------------+----------------+--------------------+--------------+\n",
       " |          Begin Time |            End Time |    Target Name | Observation Number | Exposure (s) |\n",
       " +---------------------+---------------------+----------------+--------------------+--------------+\n",
       " | 2022-09-24 20:51:00 | 2022-09-24 21:14:00 | saa-cold-258-6 |        00074600042 |         1380 |\n",
       " +---------------------+---------------------+----------------+--------------------+--------------+'),\n",
       " '00013906067': Swift_Observation(begin='2022-09-24 21:14:00',end='2022-09-24 21:31:00',targname='1ES 1959+650',targetid='13906',seg='67',xrt='WT',uvot='0x30ed',bat='0x0000',entries='+---------------------+---------------------+--------------+--------------------+--------------+\n",
       " |          Begin Time |            End Time |  Target Name | Observation Number | Exposure (s) |\n",
       " +---------------------+---------------------+--------------+--------------------+--------------+\n",
       " | 2022-09-24 21:14:00 | 2022-09-24 21:31:00 | 1ES 1959+650 |        00013906067 |         1020 |\n",
       " +---------------------+---------------------+--------------+--------------------+--------------+'),\n",
       " '00015231062': Swift_Observation(begin='2022-09-24 21:31:00',end='2022-09-24 21:51:00',targname='Swift J023017.0+283603',targetid='15231',seg='62',xrt='PC',uvot='0x015a',bat='0x0000',entries='+---------------------+---------------------+------------------------+--------------------+--------------+\n",
       " |          Begin Time |            End Time |            Target Name | Observation Number | Exposure (s) |\n",
       " +---------------------+---------------------+------------------------+--------------------+--------------+\n",
       " | 2022-09-24 21:31:00 | 2022-09-24 21:51:00 | Swift J023017.0+283603 |        00015231062 |         1200 |\n",
       " +---------------------+---------------------+------------------------+--------------------+--------------+'),\n",
       " '00096555003': Swift_Observation(begin='2022-09-24 22:05:00',end='2022-09-24 22:22:00',targname='3FGL J0838.8-2829',targetid='96555',seg='3',xrt='PC',uvot='0x015a',bat='0x0000',entries='+---------------------+---------------------+-------------------+--------------------+--------------+\n",
       " |          Begin Time |            End Time |       Target Name | Observation Number | Exposure (s) |\n",
       " +---------------------+---------------------+-------------------+--------------------+--------------+\n",
       " | 2022-09-24 22:05:00 | 2022-09-24 22:22:00 | 3FGL J0838.8-2829 |        00096555003 |         1020 |\n",
       " +---------------------+---------------------+-------------------+--------------------+--------------+'),\n",
       " '00036528070': Swift_Observation(begin='2022-09-24 22:54:00',end='2022-09-24 23:07:00',targname='RX J0134.2-4258',targetid='36528',seg='70',xrt='PC',uvot='0x224c',bat='0x0000',entries='+---------------------+---------------------+-----------------+--------------------+--------------+\n",
       " |          Begin Time |            End Time |     Target Name | Observation Number | Exposure (s) |\n",
       " +---------------------+---------------------+-----------------+--------------------+--------------+\n",
       " | 2022-09-24 22:54:00 | 2022-09-24 23:07:00 | RX J0134.2-4258 |        00036528070 |          780 |\n",
       " +---------------------+---------------------+-----------------+--------------------+--------------+'),\n",
       " '03108545003': Swift_Observation(begin='2022-09-24 23:43:00',end='2022-09-25 00:00:00',targname='SGWGS-3754',targetid='3108545',seg='3',xrt='PC',uvot='0x207f',bat='0x0000',entries='+---------------------+---------------------+-------------+--------------------+--------------+\n",
       " |          Begin Time |            End Time | Target Name | Observation Number | Exposure (s) |\n",
       " +---------------------+---------------------+-------------+--------------------+--------------+\n",
       " | 2022-09-24 23:43:00 | 2022-09-25 00:00:00 |  SGWGS-3754 |        03108545003 |         1020 |\n",
       " +---------------------+---------------------+-------------+--------------------+--------------+')}"
      ]
     },
     "execution_count": 6,
     "metadata": {},
     "output_type": "execute_result"
    }
   ],
   "source": [
    "dayplan.observations"
   ]
  },
  {
   "cell_type": "markdown",
   "metadata": {},
   "source": [
    "### A note about time formats\n",
    "\n",
    "#### New features in `swifttools` 2.4\n",
    "\n",
    "All times returned by `PlanQuery` come out in a time system that is derived from Swift's internal clock. The problem with this is that this clock, although close to UTC, is not actually UTC, due to the lack of handling of leap seconds, and also a slow drift in the clock itself. However, you can now correct this using the `clock_correct()` method. Let's do that:"
   ]
  },
  {
   "cell_type": "code",
   "execution_count": 7,
   "metadata": {},
   "outputs": [
    {
     "data": {
      "text/html": [
       "<table><thead><th style='text-align: left;'>Begin Time (UTC)</th><th style='text-align: left;'>End Time (UTC)</th><th style='text-align: left;'>Target Name</th><th style='text-align: left;'>Observation Number</th><th style='text-align: left;'>Exposure (s)</th></thead><tr><td style='text-align: left;'>2022-03-27 01:56:31.146785</td><td style='text-align: left;'>2022-03-27 02:02:31.146761</td><td style='text-align: left;'>OGP_2623</td><td style='text-align: left;'>03102995005</td><td style='text-align: left;'>359</td></tr><tr><td style='text-align: left;'>2022-03-28 19:25:31.136685</td><td style='text-align: left;'>2022-03-28 19:30:31.136665</td><td style='text-align: left;'>OGP_2623</td><td style='text-align: left;'>03102995005</td><td style='text-align: left;'>299</td></tr></table>"
      ],
      "text/plain": [
       "Swift_PPST(username='anonymous',radius='0.19666666666666668',targetid='3102995',obsnum='03102995005')"
      ]
     },
     "execution_count": 7,
     "metadata": {},
     "output_type": "execute_result"
    }
   ],
   "source": [
    "query = PlanQuery(obsid='03102995005')\n",
    "query.clock_correct()\n",
    "query"
   ]
  },
  {
   "cell_type": "markdown",
   "metadata": {},
   "source": [
    "So the table above now shows times that are specifically labelled as UTC. You'll note that the times now have fractions of a second, which is due to the clock correction that is applied. You can see the value of this clock correction (which includes both leap seconds and clock drift corrections), by looking at one of the date values, e.g.:"
   ]
  },
  {
   "cell_type": "code",
   "execution_count": 8,
   "metadata": {},
   "outputs": [
    {
     "data": {
      "text/html": [
       "<table><thead><th style='text-align: left;'>MET (s)</th><th style='text-align: left;'>Swift Time</th><th style='text-align: left;'>UTC Time (default)</th><th style='text-align: left;'>UTCF (s)</th></thead><tr><td style='text-align: left;'>670039020.0</td><td style='text-align: left;'>2022-03-27 01:57:00</td><td style='text-align: left;'>2022-03-27 01:56:31.146785</td><td style='text-align: left;'>-28.853215</td></tr></table>"
      ],
      "text/plain": [
       "swiftdatetime(2022, 3, 27, 1, 56, 31, 146785, isutc=True, utcf=-28.853215)"
      ]
     },
     "execution_count": 8,
     "metadata": {},
     "output_type": "execute_result"
    }
   ],
   "source": [
    "query[0].begin"
   ]
  },
  {
   "cell_type": "markdown",
   "metadata": {},
   "source": [
    "So for this observation, the UT Correction Factor (UTCF) is -24.012318s. For more detail on this correction, please take a look at the `Swift_Clock` and the notebook explaining that."
   ]
  }
 ],
 "metadata": {
  "kernelspec": {
   "display_name": "Python 3 (ipykernel)",
   "language": "python",
   "name": "python3"
  },
  "language_info": {
   "codemirror_mode": {
    "name": "ipython",
    "version": 3
   },
   "file_extension": ".py",
   "mimetype": "text/x-python",
   "name": "python",
   "nbconvert_exporter": "python",
   "pygments_lexer": "ipython3",
   "version": "3.9.14"
  }
 },
 "nbformat": 4,
 "nbformat_minor": 4
}
