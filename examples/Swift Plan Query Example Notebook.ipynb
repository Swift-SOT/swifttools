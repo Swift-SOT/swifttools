{
 "cells": [
  {
   "cell_type": "markdown",
   "metadata": {},
   "source": [
    "# `swift_too` module\n",
    "\n",
    "## Swift_PlanQuery example - querying planned *Swift* observations\n",
    "\n",
    "### API version = 1.2\n",
    "\n",
    "#### Author: Jamie A. Kennea (Penn State)\n",
    "\n",
    "The Swift_PlanQuery class allows for querying the database of observations have have been planned for observation by Swift, otherwise known as the \"Pre-Planned Science Timeline\" (PPST). This allows the user to find out not only what was planned, but what will be observed by Swift in the future.\n",
    "\n",
    "Two important caveats:\n",
    "\n",
    "1. For past observations, what should have been down is mostly an academic exercise, as due to TOO uploads and GRBs, Swift's pre-planned observations can be obliterated. If you want to know what Swift *did* observe, do a Swift_ObsQuery\n",
    "\n",
    "2. Swift's planning is only done days into the future, so if you want to know what is going to happen weeks from now, you're out of luck.\n",
    "\n",
    "This therefore is mostly useful if you want to know what Swift is observing *today* and *tomorrow*."
   ]
  },
  {
   "cell_type": "code",
   "execution_count": 1,
   "metadata": {},
   "outputs": [],
   "source": [
    "from swifttools.swift_too import Swift_PlanQuery\n",
    "from datetime import datetime,timedelta"
   ]
  },
  {
   "cell_type": "markdown",
   "metadata": {},
   "source": [
    "### Setting up our username and secret key\n",
    "\n",
    "Set up the class, giving our username and shared secret. These can be set up [on the Swift TOO website](https://www.swift.psu.edu/toop/too.php). After you log in, you will find your shared secret, and can modify it as necessary under the [Update Account Info](https://www.swift.psu.edu/toop/account_info.php) link. "
   ]
  },
  {
   "cell_type": "code",
   "execution_count": 2,
   "metadata": {},
   "outputs": [],
   "source": [
    "username = 'myuser'\n",
    "shared_secret = 'mysharedsecret'"
   ]
  },
  {
   "cell_type": "markdown",
   "metadata": {},
   "source": [
    "### First Query\n",
    "\n",
    "First query example: What is Swift planned to observe now? Quite easy to construct. Here it is:"
   ]
  },
  {
   "cell_type": "code",
   "execution_count": 3,
   "metadata": {},
   "outputs": [
    {
     "data": {
      "text/html": [
       "<table>\n",
       "<thead>\n",
       "<tr><th style=\"text-align: left;\">              Begin</th><th style=\"text-align: left;\">                End</th><th style=\"text-align: left;\">        Name</th><th style=\"text-align: left;\">  Obs Number</th><th style=\"text-align: left;\">  Exposure (s)</th></tr>\n",
       "</thead>\n",
       "<tbody>\n",
       "<tr><td style=\"text-align: left;\">2021-07-06 18:34:00</td><td style=\"text-align: left;\">2021-07-06 19:04:00</td><td style=\"text-align: left;\">ZTF21abdmevk</td><td style=\"text-align: left;\"> 00014349008</td><td style=\"text-align: left;\">          1800</td></tr>\n",
       "</tbody>\n",
       "</table>"
      ],
      "text/plain": [
       "<+---------------------+---------------------+--------------+-------------+--------------+\n",
       "|               Begin |                 End |         Name |  Obs Number | Exposure (s) |\n",
       "+---------------------+---------------------+--------------+-------------+--------------+\n",
       "| 2021-07-06 18:34:00 | 2021-07-06 19:04:00 | ZTF21abdmevk | 00014349008 |         1800 |\n",
       "+---------------------+---------------------+--------------+-------------+--------------+>"
      ]
     },
     "execution_count": 3,
     "metadata": {},
     "output_type": "execute_result"
    }
   ],
   "source": [
    "plan = Swift_PlanQuery(username,shared_secret,begin=datetime.utcnow())\n",
    "plan"
   ]
  },
  {
   "cell_type": "markdown",
   "metadata": {},
   "source": [
    "So the above should have reported back a single target. When you just give `start` with no `end`, it simply returns the observation which is taking place at the time given. So what is happening at this time tomorrow?"
   ]
  },
  {
   "cell_type": "code",
   "execution_count": 4,
   "metadata": {},
   "outputs": [
    {
     "data": {
      "text/html": [
       "<table>\n",
       "<thead>\n",
       "<tr><th style=\"text-align: left;\">              Begin</th><th style=\"text-align: left;\">                End</th><th style=\"text-align: left;\">                 Name</th><th style=\"text-align: left;\">  Obs Number</th><th style=\"text-align: left;\">  Exposure (s)</th></tr>\n",
       "</thead>\n",
       "<tbody>\n",
       "<tr><td style=\"text-align: left;\">2021-07-07 18:57:00</td><td style=\"text-align: left;\">2021-07-07 19:22:00</td><td style=\"text-align: left;\">XMMU J001528.9-391319</td><td style=\"text-align: left;\"> 00032619042</td><td style=\"text-align: left;\">          1500</td></tr>\n",
       "</tbody>\n",
       "</table>"
      ],
      "text/plain": [
       "<+---------------------+---------------------+-----------------------+-------------+--------------+\n",
       "|               Begin |                 End |                  Name |  Obs Number | Exposure (s) |\n",
       "+---------------------+---------------------+-----------------------+-------------+--------------+\n",
       "| 2021-07-07 18:57:00 | 2021-07-07 19:22:00 | XMMU J001528.9-391319 | 00032619042 |         1500 |\n",
       "+---------------------+---------------------+-----------------------+-------------+--------------+>"
      ]
     },
     "execution_count": 4,
     "metadata": {},
     "output_type": "execute_result"
    }
   ],
   "source": [
    "plan = Swift_PlanQuery(username,shared_secret,begin=datetime.utcnow()+timedelta(days=1))\n",
    "plan"
   ]
  },
  {
   "cell_type": "markdown",
   "metadata": {},
   "source": [
    "Did the above query return anything? If not, then there simply isn't a plan for tomorrow. So how can we determine how far into the future Swift has a plan for? The `ppstmax` parameter. Let's check it out:"
   ]
  },
  {
   "cell_type": "code",
   "execution_count": 5,
   "metadata": {},
   "outputs": [
    {
     "data": {
      "text/plain": [
       "'PPSTs available up to 2021-07-08 00:00:00'"
      ]
     },
     "execution_count": 5,
     "metadata": {},
     "output_type": "execute_result"
    }
   ],
   "source": [
    "f\"PPSTs available up to {plan.ppstmax}\""
   ]
  },
  {
   "cell_type": "markdown",
   "metadata": {},
   "source": [
    "This gives the date of the last planned target. If the query for what Swift is observing this time tomorrow didn't return anything, this date is probably the end of the UT day today. If the time you're running this is before midday on a Monday-Thursday, this is as expected. Typically the plan for tomorrow is submitted for upload around 12pm Eastern time. The exception to this rule is for the weekend plan. Typically on Thursday at 12pm we submit a plan for Friday and Saturday, and on Friday at 12pm we submit a plan for Sunday-Monday. This allows us to cover the weekend, while working a 5 day week."
   ]
  },
  {
   "cell_type": "markdown",
   "metadata": {},
   "source": [
    "### Second query example\n",
    "\n",
    "Seeing a whole day's PPST. So let's see the whole day's Plan that goes farthest into the future."
   ]
  },
  {
   "cell_type": "code",
   "execution_count": 6,
   "metadata": {
    "scrolled": false
   },
   "outputs": [
    {
     "data": {
      "text/html": [
       "<table>\n",
       "<thead>\n",
       "<tr><th style=\"text-align: left;\">              Begin</th><th style=\"text-align: left;\">                End</th><th style=\"text-align: left;\">                   Name</th><th style=\"text-align: left;\">  Obs Number</th><th style=\"text-align: left;\">  Exposure (s)</th></tr>\n",
       "</thead>\n",
       "<tbody>\n",
       "<tr><td style=\"text-align: left;\">2021-07-06 23:40:00</td><td style=\"text-align: left;\">2021-07-07 00:00:00</td><td style=\"text-align: left;\">          SGR 1830-0645</td><td style=\"text-align: left;\"> 00013840016</td><td style=\"text-align: left;\">          1200</td></tr>\n",
       "<tr><td style=\"text-align: left;\">2021-07-07 00:00:00</td><td style=\"text-align: left;\">2021-07-07 00:08:00</td><td style=\"text-align: left;\">          M31N 1923-12c</td><td style=\"text-align: left;\"> 00014412005</td><td style=\"text-align: left;\">           480</td></tr>\n",
       "<tr><td style=\"text-align: left;\">2021-07-07 00:08:00</td><td style=\"text-align: left;\">2021-07-07 00:18:00</td><td style=\"text-align: left;\">                 SC1825</td><td style=\"text-align: left;\"> 00013984048</td><td style=\"text-align: left;\">           600</td></tr>\n",
       "<tr><td style=\"text-align: left;\">2021-07-07 00:18:00</td><td style=\"text-align: left;\">2021-07-07 00:26:00</td><td style=\"text-align: left;\">               OGP_5183</td><td style=\"text-align: left;\"> 00086994002</td><td style=\"text-align: left;\">           480</td></tr>\n",
       "<tr><td style=\"text-align: left;\">2021-07-07 00:26:00</td><td style=\"text-align: left;\">2021-07-07 00:56:00</td><td style=\"text-align: left;\">          SGR 0755-2933</td><td style=\"text-align: left;\"> 00095967013</td><td style=\"text-align: left;\">          1800</td></tr>\n",
       "<tr><td style=\"text-align: left;\">2021-07-07 00:56:00</td><td style=\"text-align: left;\">2021-07-07 01:06:00</td><td style=\"text-align: left;\">            PROXIMA CEN</td><td style=\"text-align: left;\"> 00096044014</td><td style=\"text-align: left;\">           600</td></tr>\n",
       "<tr><td style=\"text-align: left;\">2021-07-07 01:06:00</td><td style=\"text-align: left;\">2021-07-07 01:17:00</td><td style=\"text-align: left;\">           ZTF21abioeyq</td><td style=\"text-align: left;\"> 00014408010</td><td style=\"text-align: left;\">           660</td></tr>\n",
       "<tr><td style=\"text-align: left;\">2021-07-07 01:17:00</td><td style=\"text-align: left;\">2021-07-07 01:34:00</td><td style=\"text-align: left;\">                 Mrk501</td><td style=\"text-align: left;\"> 00011184135</td><td style=\"text-align: left;\">          1020</td></tr>\n",
       "<tr><td style=\"text-align: left;\">2021-07-07 01:34:00</td><td style=\"text-align: left;\">2021-07-07 01:59:00</td><td style=\"text-align: left;\">          M31N 1923-12c</td><td style=\"text-align: left;\"> 00014412005</td><td style=\"text-align: left;\">          1500</td></tr>\n",
       "<tr><td style=\"text-align: left;\">2021-07-07 01:59:00</td><td style=\"text-align: left;\">2021-07-07 02:13:00</td><td style=\"text-align: left;\">               OGP_5247</td><td style=\"text-align: left;\"> 03100787004</td><td style=\"text-align: left;\">           840</td></tr>\n",
       "<tr><td style=\"text-align: left;\">2021-07-07 02:13:00</td><td style=\"text-align: left;\">2021-07-07 02:43:00</td><td style=\"text-align: left;\">            GRB 210702A</td><td style=\"text-align: left;\"> 01058804007</td><td style=\"text-align: left;\">          1800</td></tr>\n",
       "<tr><td style=\"text-align: left;\">2021-07-07 02:43:00</td><td style=\"text-align: left;\">2021-07-07 02:54:00</td><td style=\"text-align: left;\">           ZTF21abioeyq</td><td style=\"text-align: left;\"> 00014408010</td><td style=\"text-align: left;\">           660</td></tr>\n",
       "<tr><td style=\"text-align: left;\">2021-07-07 02:54:00</td><td style=\"text-align: left;\">2021-07-07 03:24:00</td><td style=\"text-align: left;\">                    M31</td><td style=\"text-align: left;\"> 00013977010</td><td style=\"text-align: left;\">          1800</td></tr>\n",
       "<tr><td style=\"text-align: left;\">2021-07-07 03:24:00</td><td style=\"text-align: left;\">2021-07-07 03:37:00</td><td style=\"text-align: left;\">2MASS J06282325-6534456</td><td style=\"text-align: left;\"> 00014162028</td><td style=\"text-align: left;\">           780</td></tr>\n",
       "<tr><td style=\"text-align: left;\">2021-07-07 03:37:00</td><td style=\"text-align: left;\">2021-07-07 03:46:00</td><td style=\"text-align: left;\">               OGP_5266</td><td style=\"text-align: left;\"> 03102384001</td><td style=\"text-align: left;\">           540</td></tr>\n",
       "<tr><td style=\"text-align: left;\">2021-07-07 03:46:00</td><td style=\"text-align: left;\">2021-07-07 04:03:00</td><td style=\"text-align: left;\">         MAXI J0903-531</td><td style=\"text-align: left;\"> 00014281013</td><td style=\"text-align: left;\">          1020</td></tr>\n",
       "<tr><td style=\"text-align: left;\">2021-07-07 04:03:00</td><td style=\"text-align: left;\">2021-07-07 04:33:00</td><td style=\"text-align: left;\">               NGC 5055</td><td style=\"text-align: left;\"> 00014386003</td><td style=\"text-align: left;\">          1800</td></tr>\n",
       "<tr><td style=\"text-align: left;\">2021-07-07 04:33:00</td><td style=\"text-align: left;\">2021-07-07 04:50:00</td><td style=\"text-align: left;\">             AT 2021qvr</td><td style=\"text-align: left;\"> 00014396006</td><td style=\"text-align: left;\">          1020</td></tr>\n",
       "<tr><td style=\"text-align: left;\">2021-07-07 04:50:00</td><td style=\"text-align: left;\">2021-07-07 05:07:00</td><td style=\"text-align: left;\">               WPVS 007</td><td style=\"text-align: left;\"> 00010905122</td><td style=\"text-align: left;\">          1020</td></tr>\n",
       "<tr><td style=\"text-align: left;\">2021-07-07 05:07:00</td><td style=\"text-align: left;\">2021-07-07 05:24:00</td><td style=\"text-align: left;\">               OGP_5331</td><td style=\"text-align: left;\"> 03100573002</td><td style=\"text-align: left;\">          1020</td></tr>\n",
       "<tr><td style=\"text-align: left;\">2021-07-07 05:24:00</td><td style=\"text-align: left;\">2021-07-07 05:54:00</td><td style=\"text-align: left;\">            GRB 210702A</td><td style=\"text-align: left;\"> 01058804007</td><td style=\"text-align: left;\">          1800</td></tr>\n",
       "<tr><td style=\"text-align: left;\">2021-07-07 05:54:00</td><td style=\"text-align: left;\">2021-07-07 06:06:00</td><td style=\"text-align: left;\">           ZTF21abioeyq</td><td style=\"text-align: left;\"> 00014408010</td><td style=\"text-align: left;\">           720</td></tr>\n",
       "<tr><td style=\"text-align: left;\">2021-07-07 06:06:00</td><td style=\"text-align: left;\">2021-07-07 06:11:00</td><td style=\"text-align: left;\">             SGWGS-2593</td><td style=\"text-align: left;\"> 03107384003</td><td style=\"text-align: left;\">           300</td></tr>\n",
       "<tr><td style=\"text-align: left;\">2021-07-07 06:11:00</td><td style=\"text-align: left;\">2021-07-07 06:41:00</td><td style=\"text-align: left;\">         NGC 247 ULX -1</td><td style=\"text-align: left;\"> 00013995010</td><td style=\"text-align: left;\">          1800</td></tr>\n",
       "<tr><td style=\"text-align: left;\">2021-07-07 06:41:00</td><td style=\"text-align: left;\">2021-07-07 06:58:00</td><td style=\"text-align: left;\">               OGP_5299</td><td style=\"text-align: left;\"> 03100319005</td><td style=\"text-align: left;\">          1020</td></tr>\n",
       "<tr><td style=\"text-align: left;\">2021-07-07 06:58:00</td><td style=\"text-align: left;\">2021-07-07 07:16:00</td><td style=\"text-align: left;\">          BZBJ1012+0630</td><td style=\"text-align: left;\"> 00040549008</td><td style=\"text-align: left;\">          1080</td></tr>\n",
       "<tr><td style=\"text-align: left;\">2021-07-07 07:16:00</td><td style=\"text-align: left;\">2021-07-07 07:33:00</td><td style=\"text-align: left;\">            PROXIMA CEN</td><td style=\"text-align: left;\"> 00096044014</td><td style=\"text-align: left;\">          1020</td></tr>\n",
       "<tr><td style=\"text-align: left;\">2021-07-07 07:33:00</td><td style=\"text-align: left;\">2021-07-07 07:50:00</td><td style=\"text-align: left;\">               Ross 733</td><td style=\"text-align: left;\"> 00014409001</td><td style=\"text-align: left;\">          1020</td></tr>\n",
       "<tr><td style=\"text-align: left;\">2021-07-07 07:50:00</td><td style=\"text-align: left;\">2021-07-07 08:07:00</td><td style=\"text-align: left;\">          M31N 1960-12a</td><td style=\"text-align: left;\"> 00032159021</td><td style=\"text-align: left;\">          1020</td></tr>\n",
       "<tr><td style=\"text-align: left;\">2021-07-07 08:07:00</td><td style=\"text-align: left;\">2021-07-07 08:12:00</td><td style=\"text-align: left;\">         saa-cold-67-08</td><td style=\"text-align: left;\"> 00075029023</td><td style=\"text-align: left;\">           300</td></tr>\n",
       "<tr><td style=\"text-align: left;\">2021-07-07 08:12:00</td><td style=\"text-align: left;\">2021-07-07 08:42:00</td><td style=\"text-align: left;\">2MASS J06282325-6534456</td><td style=\"text-align: left;\"> 00014162028</td><td style=\"text-align: left;\">          1800</td></tr>\n",
       "<tr><td style=\"text-align: left;\">2021-07-07 08:42:00</td><td style=\"text-align: left;\">2021-07-07 09:05:00</td><td style=\"text-align: left;\">            GRB 210702A</td><td style=\"text-align: left;\"> 01058804007</td><td style=\"text-align: left;\">          1380</td></tr>\n",
       "<tr><td style=\"text-align: left;\">2021-07-07 09:05:00</td><td style=\"text-align: left;\">2021-07-07 09:15:00</td><td style=\"text-align: left;\">           ZTF21abioeyq</td><td style=\"text-align: left;\"> 00014408010</td><td style=\"text-align: left;\">           600</td></tr>\n",
       "<tr><td style=\"text-align: left;\">2021-07-07 09:15:00</td><td style=\"text-align: left;\">2021-07-07 09:30:00</td><td style=\"text-align: left;\">        GALACTIC CENTER</td><td style=\"text-align: left;\"> 00096134079</td><td style=\"text-align: left;\">           900</td></tr>\n",
       "<tr><td style=\"text-align: left;\">2021-07-07 09:30:00</td><td style=\"text-align: left;\">2021-07-07 09:44:00</td><td style=\"text-align: left;\">         NGC 247 ULX -1</td><td style=\"text-align: left;\"> 00013995010</td><td style=\"text-align: left;\">           840</td></tr>\n",
       "<tr><td style=\"text-align: left;\">2021-07-07 09:44:00</td><td style=\"text-align: left;\">2021-07-07 10:05:00</td><td style=\"text-align: left;\">         saa-cold-166-2</td><td style=\"text-align: left;\"> 00074987058</td><td style=\"text-align: left;\">          1260</td></tr>\n",
       "<tr><td style=\"text-align: left;\">2021-07-07 10:05:00</td><td style=\"text-align: left;\">2021-07-07 10:24:00</td><td style=\"text-align: left;\"> SDSSJ095859.0-001221.9</td><td style=\"text-align: left;\"> 00037963007</td><td style=\"text-align: left;\">          1140</td></tr>\n",
       "<tr><td style=\"text-align: left;\">2021-07-07 10:24:00</td><td style=\"text-align: left;\">2021-07-07 10:44:00</td><td style=\"text-align: left;\">            PROXIMA CEN</td><td style=\"text-align: left;\"> 00096044014</td><td style=\"text-align: left;\">          1200</td></tr>\n",
       "<tr><td style=\"text-align: left;\">2021-07-07 10:44:00</td><td style=\"text-align: left;\">2021-07-07 10:49:00</td><td style=\"text-align: left;\">      4FGL J1526.6-2743</td><td style=\"text-align: left;\"> 03109901007</td><td style=\"text-align: left;\">           300</td></tr>\n",
       "<tr><td style=\"text-align: left;\">2021-07-07 10:49:00</td><td style=\"text-align: left;\">2021-07-07 11:14:00</td><td style=\"text-align: left;\">          Nova Her 2021</td><td style=\"text-align: left;\"> 00014375019</td><td style=\"text-align: left;\">          1500</td></tr>\n",
       "<tr><td style=\"text-align: left;\">2021-07-07 11:14:00</td><td style=\"text-align: left;\">2021-07-07 11:22:00</td><td style=\"text-align: left;\">            1H 0323+342</td><td style=\"text-align: left;\"> 00096107001</td><td style=\"text-align: left;\">           480</td></tr>\n",
       "<tr><td style=\"text-align: left;\">2021-07-07 11:22:00</td><td style=\"text-align: left;\">2021-07-07 11:47:00</td><td style=\"text-align: left;\">         saa-cold-166-2</td><td style=\"text-align: left;\"> 00074987058</td><td style=\"text-align: left;\">          1500</td></tr>\n",
       "<tr><td style=\"text-align: left;\">2021-07-07 11:47:00</td><td style=\"text-align: left;\">2021-07-07 11:52:00</td><td style=\"text-align: left;\">          BZBJ1012+0630</td><td style=\"text-align: left;\"> 00040549008</td><td style=\"text-align: left;\">           300</td></tr>\n",
       "<tr><td style=\"text-align: left;\">2021-07-07 11:52:00</td><td style=\"text-align: left;\">2021-07-07 12:12:00</td><td style=\"text-align: left;\">          2cmXB1156+295</td><td style=\"text-align: left;\"> 00036381066</td><td style=\"text-align: left;\">          1200</td></tr>\n",
       "<tr><td style=\"text-align: left;\">2021-07-07 12:12:00</td><td style=\"text-align: left;\">2021-07-07 12:42:00</td><td style=\"text-align: left;\">                PDS 456</td><td style=\"text-align: left;\"> 00010383062</td><td style=\"text-align: left;\">          1800</td></tr>\n",
       "<tr><td style=\"text-align: left;\">2021-07-07 12:42:00</td><td style=\"text-align: left;\">2021-07-07 12:53:00</td><td style=\"text-align: left;\">                Mrk 335</td><td style=\"text-align: left;\"> 00013544130</td><td style=\"text-align: left;\">           660</td></tr>\n",
       "<tr><td style=\"text-align: left;\">2021-07-07 12:53:00</td><td style=\"text-align: left;\">2021-07-07 13:01:00</td><td style=\"text-align: left;\">  XMMU J001528.9-391319</td><td style=\"text-align: left;\"> 00032619042</td><td style=\"text-align: left;\">           480</td></tr>\n",
       "<tr><td style=\"text-align: left;\">2021-07-07 13:01:00</td><td style=\"text-align: left;\">2021-07-07 13:15:00</td><td style=\"text-align: left;\">         saa-cold-166-2</td><td style=\"text-align: left;\"> 00074987058</td><td style=\"text-align: left;\">           840</td></tr>\n",
       "<tr><td style=\"text-align: left;\">2021-07-07 13:15:00</td><td style=\"text-align: left;\">2021-07-07 13:28:00</td><td style=\"text-align: left;\">        saa-cold-260-07</td><td style=\"text-align: left;\"> 00076021005</td><td style=\"text-align: left;\">           780</td></tr>\n",
       "<tr><td style=\"text-align: left;\">2021-07-07 13:28:00</td><td style=\"text-align: left;\">2021-07-07 13:50:00</td><td style=\"text-align: left;\">              AT2021blu</td><td style=\"text-align: left;\"> 00014063013</td><td style=\"text-align: left;\">          1320</td></tr>\n",
       "<tr><td style=\"text-align: left;\">2021-07-07 13:50:00</td><td style=\"text-align: left;\">2021-07-07 14:20:00</td><td style=\"text-align: left;\">                GX 13+1</td><td style=\"text-align: left;\"> 00036688023</td><td style=\"text-align: left;\">          1800</td></tr>\n",
       "<tr><td style=\"text-align: left;\">2021-07-07 14:20:00</td><td style=\"text-align: left;\">2021-07-07 14:30:00</td><td style=\"text-align: left;\">                Mrk 335</td><td style=\"text-align: left;\"> 00013544130</td><td style=\"text-align: left;\">           600</td></tr>\n",
       "<tr><td style=\"text-align: left;\">2021-07-07 14:30:00</td><td style=\"text-align: left;\">2021-07-07 14:41:00</td><td style=\"text-align: left;\">                 SC1825</td><td style=\"text-align: left;\"> 00013984048</td><td style=\"text-align: left;\">           660</td></tr>\n",
       "<tr><td style=\"text-align: left;\">2021-07-07 14:41:00</td><td style=\"text-align: left;\">2021-07-07 15:08:00</td><td style=\"text-align: left;\">        saa-cold-260-07</td><td style=\"text-align: left;\"> 00076021005</td><td style=\"text-align: left;\">          1620</td></tr>\n",
       "<tr><td style=\"text-align: left;\">2021-07-07 15:08:00</td><td style=\"text-align: left;\">2021-07-07 15:14:00</td><td style=\"text-align: left;\">               NGC 3773</td><td style=\"text-align: left;\"> 03110922005</td><td style=\"text-align: left;\">           360</td></tr>\n",
       "<tr><td style=\"text-align: left;\">2021-07-07 15:14:00</td><td style=\"text-align: left;\">2021-07-07 15:26:00</td><td style=\"text-align: left;\">              AT2021blu</td><td style=\"text-align: left;\"> 00014063013</td><td style=\"text-align: left;\">           720</td></tr>\n",
       "<tr><td style=\"text-align: left;\">2021-07-07 15:26:00</td><td style=\"text-align: left;\">2021-07-07 15:56:00</td><td style=\"text-align: left;\">                GX 13+1</td><td style=\"text-align: left;\"> 00036688023</td><td style=\"text-align: left;\">          1800</td></tr>\n",
       "<tr><td style=\"text-align: left;\">2021-07-07 15:56:00</td><td style=\"text-align: left;\">2021-07-07 16:04:00</td><td style=\"text-align: left;\">          M31N 1960-12a</td><td style=\"text-align: left;\"> 00032159021</td><td style=\"text-align: left;\">           480</td></tr>\n",
       "<tr><td style=\"text-align: left;\">2021-07-07 16:04:00</td><td style=\"text-align: left;\">2021-07-07 16:22:00</td><td style=\"text-align: left;\">                 SC1825</td><td style=\"text-align: left;\"> 00013984048</td><td style=\"text-align: left;\">          1080</td></tr>\n",
       "<tr><td style=\"text-align: left;\">2021-07-07 16:22:00</td><td style=\"text-align: left;\">2021-07-07 16:47:00</td><td style=\"text-align: left;\">        saa-cold-260-07</td><td style=\"text-align: left;\"> 00076021005</td><td style=\"text-align: left;\">          1500</td></tr>\n",
       "<tr><td style=\"text-align: left;\">2021-07-07 16:47:00</td><td style=\"text-align: left;\">2021-07-07 16:57:00</td><td style=\"text-align: left;\">              SN2021qwq</td><td style=\"text-align: left;\"> 00014407001</td><td style=\"text-align: left;\">           600</td></tr>\n",
       "<tr><td style=\"text-align: left;\">2021-07-07 16:57:00</td><td style=\"text-align: left;\">2021-07-07 17:18:00</td><td style=\"text-align: left;\">                  CDF-N</td><td style=\"text-align: left;\"> 00095929022</td><td style=\"text-align: left;\">          1260</td></tr>\n",
       "<tr><td style=\"text-align: left;\">2021-07-07 17:18:00</td><td style=\"text-align: left;\">2021-07-07 17:23:00</td><td style=\"text-align: left;\">          CYGNUSCOCOON7</td><td style=\"text-align: left;\"> 00095938009</td><td style=\"text-align: left;\">           300</td></tr>\n",
       "<tr><td style=\"text-align: left;\">2021-07-07 17:23:00</td><td style=\"text-align: left;\">2021-07-07 17:40:00</td><td style=\"text-align: left;\">         NGC 247 ULX -1</td><td style=\"text-align: left;\"> 00013995010</td><td style=\"text-align: left;\">          1020</td></tr>\n",
       "<tr><td style=\"text-align: left;\">2021-07-07 17:40:00</td><td style=\"text-align: left;\">2021-07-07 17:50:00</td><td style=\"text-align: left;\">                 SC1825</td><td style=\"text-align: left;\"> 00013984048</td><td style=\"text-align: left;\">           600</td></tr>\n",
       "<tr><td style=\"text-align: left;\">2021-07-07 17:50:00</td><td style=\"text-align: left;\">2021-07-07 18:04:00</td><td style=\"text-align: left;\">             SN_2018HTI</td><td style=\"text-align: left;\"> 00089324001</td><td style=\"text-align: left;\">           840</td></tr>\n",
       "<tr><td style=\"text-align: left;\">2021-07-07 18:04:00</td><td style=\"text-align: left;\">2021-07-07 18:27:00</td><td style=\"text-align: left;\">        saa-cold-260-07</td><td style=\"text-align: left;\"> 00076021005</td><td style=\"text-align: left;\">          1380</td></tr>\n",
       "<tr><td style=\"text-align: left;\">2021-07-07 18:27:00</td><td style=\"text-align: left;\">2021-07-07 18:40:00</td><td style=\"text-align: left;\">              SN2021qwq</td><td style=\"text-align: left;\"> 00014407001</td><td style=\"text-align: left;\">           780</td></tr>\n",
       "<tr><td style=\"text-align: left;\">2021-07-07 18:40:00</td><td style=\"text-align: left;\">2021-07-07 18:57:00</td><td style=\"text-align: left;\">                MRK 817</td><td style=\"text-align: left;\"> 00096066096</td><td style=\"text-align: left;\">          1020</td></tr>\n",
       "<tr><td style=\"text-align: left;\">2021-07-07 18:57:00</td><td style=\"text-align: left;\">2021-07-07 19:22:00</td><td style=\"text-align: left;\">  XMMU J001528.9-391319</td><td style=\"text-align: left;\"> 00032619042</td><td style=\"text-align: left;\">          1500</td></tr>\n",
       "<tr><td style=\"text-align: left;\">2021-07-07 19:22:00</td><td style=\"text-align: left;\">2021-07-07 19:46:00</td><td style=\"text-align: left;\">2MASS J06282325-6534456</td><td style=\"text-align: left;\"> 00014162028</td><td style=\"text-align: left;\">          1440</td></tr>\n",
       "<tr><td style=\"text-align: left;\">2021-07-07 19:46:00</td><td style=\"text-align: left;\">2021-07-07 20:07:00</td><td style=\"text-align: left;\">        saa-cold-260-07</td><td style=\"text-align: left;\"> 00076021005</td><td style=\"text-align: left;\">          1260</td></tr>\n",
       "<tr><td style=\"text-align: left;\">2021-07-07 20:07:00</td><td style=\"text-align: left;\">2021-07-07 20:29:00</td><td style=\"text-align: left;\">           ZTF21abjcjmc</td><td style=\"text-align: left;\"> 00014413006</td><td style=\"text-align: left;\">          1320</td></tr>\n",
       "<tr><td style=\"text-align: left;\">2021-07-07 20:29:00</td><td style=\"text-align: left;\">2021-07-07 20:44:00</td><td style=\"text-align: left;\">                GX 13+1</td><td style=\"text-align: left;\"> 00036688023</td><td style=\"text-align: left;\">           900</td></tr>\n",
       "<tr><td style=\"text-align: left;\">2021-07-07 20:44:00</td><td style=\"text-align: left;\">2021-07-07 20:49:00</td><td style=\"text-align: left;\">          CYGNUSCOCOON7</td><td style=\"text-align: left;\"> 00095938009</td><td style=\"text-align: left;\">           300</td></tr>\n",
       "<tr><td style=\"text-align: left;\">2021-07-07 20:49:00</td><td style=\"text-align: left;\">2021-07-07 21:09:00</td><td style=\"text-align: left;\">             SN_2018HTI</td><td style=\"text-align: left;\"> 00089324001</td><td style=\"text-align: left;\">          1200</td></tr>\n",
       "<tr><td style=\"text-align: left;\">2021-07-07 21:09:00</td><td style=\"text-align: left;\">2021-07-07 21:19:00</td><td style=\"text-align: left;\">2MASS J06282325-6534456</td><td style=\"text-align: left;\"> 00014162028</td><td style=\"text-align: left;\">           600</td></tr>\n",
       "<tr><td style=\"text-align: left;\">2021-07-07 21:19:00</td><td style=\"text-align: left;\">2021-07-07 21:29:00</td><td style=\"text-align: left;\">            PROXIMA CEN</td><td style=\"text-align: left;\"> 00096044014</td><td style=\"text-align: left;\">           600</td></tr>\n",
       "<tr><td style=\"text-align: left;\">2021-07-07 21:29:00</td><td style=\"text-align: left;\">2021-07-07 21:43:00</td><td style=\"text-align: left;\">        saa-cold-145-06</td><td style=\"text-align: left;\"> 00074951006</td><td style=\"text-align: left;\">           840</td></tr>\n",
       "<tr><td style=\"text-align: left;\">2021-07-07 21:43:00</td><td style=\"text-align: left;\">2021-07-07 21:48:00</td><td style=\"text-align: left;\">         J154824+333500</td><td style=\"text-align: left;\"> 03111055007</td><td style=\"text-align: left;\">           300</td></tr>\n",
       "<tr><td style=\"text-align: left;\">2021-07-07 21:48:00</td><td style=\"text-align: left;\">2021-07-07 22:18:00</td><td style=\"text-align: left;\">                GX 13+1</td><td style=\"text-align: left;\"> 00036688023</td><td style=\"text-align: left;\">          1800</td></tr>\n",
       "<tr><td style=\"text-align: left;\">2021-07-07 22:18:00</td><td style=\"text-align: left;\">2021-07-07 22:23:00</td><td style=\"text-align: left;\">          CYGNUSCOCOON7</td><td style=\"text-align: left;\"> 00095938009</td><td style=\"text-align: left;\">           300</td></tr>\n",
       "<tr><td style=\"text-align: left;\">2021-07-07 22:23:00</td><td style=\"text-align: left;\">2021-07-07 22:53:00</td><td style=\"text-align: left;\">            ASASSN-20qc</td><td style=\"text-align: left;\"> 00014062030</td><td style=\"text-align: left;\">          1800</td></tr>\n",
       "<tr><td style=\"text-align: left;\">2021-07-07 22:53:00</td><td style=\"text-align: left;\">2021-07-07 23:03:00</td><td style=\"text-align: left;\">          SGR 0755-2933</td><td style=\"text-align: left;\"> 00095967013</td><td style=\"text-align: left;\">           600</td></tr>\n",
       "<tr><td style=\"text-align: left;\">2021-07-07 23:03:00</td><td style=\"text-align: left;\">2021-07-07 23:31:00</td><td style=\"text-align: left;\">           ZTF21aaaokyp</td><td style=\"text-align: left;\"> 00014207005</td><td style=\"text-align: left;\">          1680</td></tr>\n",
       "<tr><td style=\"text-align: left;\">2021-07-07 23:31:00</td><td style=\"text-align: left;\">2021-07-07 23:41:00</td><td style=\"text-align: left;\">           ZTF21abjcjmc</td><td style=\"text-align: left;\"> 00014413006</td><td style=\"text-align: left;\">           600</td></tr>\n",
       "<tr><td style=\"text-align: left;\">2021-07-07 23:41:00</td><td style=\"text-align: left;\">2021-07-08 00:00:00</td><td style=\"text-align: left;\">          M31N 1960-12a</td><td style=\"text-align: left;\"> 00032159021</td><td style=\"text-align: left;\">          1140</td></tr>\n",
       "</tbody>\n",
       "</table>"
      ],
      "text/plain": [
       "<+---------------------+---------------------+-------------------------+-------------+--------------+\n",
       "|               Begin |                 End |                    Name |  Obs Number | Exposure (s) |\n",
       "+---------------------+---------------------+-------------------------+-------------+--------------+\n",
       "| 2021-07-06 23:40:00 | 2021-07-07 00:00:00 |           SGR 1830-0645 | 00013840016 |         1200 |\n",
       "| 2021-07-07 00:00:00 | 2021-07-07 00:08:00 |           M31N 1923-12c | 00014412005 |          480 |\n",
       "| 2021-07-07 00:08:00 | 2021-07-07 00:18:00 |                  SC1825 | 00013984048 |          600 |\n",
       "| 2021-07-07 00:18:00 | 2021-07-07 00:26:00 |                OGP_5183 | 00086994002 |          480 |\n",
       "| 2021-07-07 00:26:00 | 2021-07-07 00:56:00 |           SGR 0755-2933 | 00095967013 |         1800 |\n",
       "| 2021-07-07 00:56:00 | 2021-07-07 01:06:00 |             PROXIMA CEN | 00096044014 |          600 |\n",
       "| 2021-07-07 01:06:00 | 2021-07-07 01:17:00 |            ZTF21abioeyq | 00014408010 |          660 |\n",
       "| 2021-07-07 01:17:00 | 2021-07-07 01:34:00 |                  Mrk501 | 00011184135 |         1020 |\n",
       "| 2021-07-07 01:34:00 | 2021-07-07 01:59:00 |           M31N 1923-12c | 00014412005 |         1500 |\n",
       "| 2021-07-07 01:59:00 | 2021-07-07 02:13:00 |                OGP_5247 | 03100787004 |          840 |\n",
       "| 2021-07-07 02:13:00 | 2021-07-07 02:43:00 |             GRB 210702A | 01058804007 |         1800 |\n",
       "| 2021-07-07 02:43:00 | 2021-07-07 02:54:00 |            ZTF21abioeyq | 00014408010 |          660 |\n",
       "| 2021-07-07 02:54:00 | 2021-07-07 03:24:00 |                     M31 | 00013977010 |         1800 |\n",
       "| 2021-07-07 03:24:00 | 2021-07-07 03:37:00 | 2MASS J06282325-6534456 | 00014162028 |          780 |\n",
       "| 2021-07-07 03:37:00 | 2021-07-07 03:46:00 |                OGP_5266 | 03102384001 |          540 |\n",
       "| 2021-07-07 03:46:00 | 2021-07-07 04:03:00 |          MAXI J0903-531 | 00014281013 |         1020 |\n",
       "| 2021-07-07 04:03:00 | 2021-07-07 04:33:00 |                NGC 5055 | 00014386003 |         1800 |\n",
       "| 2021-07-07 04:33:00 | 2021-07-07 04:50:00 |              AT 2021qvr | 00014396006 |         1020 |\n",
       "| 2021-07-07 04:50:00 | 2021-07-07 05:07:00 |                WPVS 007 | 00010905122 |         1020 |\n",
       "| 2021-07-07 05:07:00 | 2021-07-07 05:24:00 |                OGP_5331 | 03100573002 |         1020 |\n",
       "| 2021-07-07 05:24:00 | 2021-07-07 05:54:00 |             GRB 210702A | 01058804007 |         1800 |\n",
       "| 2021-07-07 05:54:00 | 2021-07-07 06:06:00 |            ZTF21abioeyq | 00014408010 |          720 |\n",
       "| 2021-07-07 06:06:00 | 2021-07-07 06:11:00 |              SGWGS-2593 | 03107384003 |          300 |\n",
       "| 2021-07-07 06:11:00 | 2021-07-07 06:41:00 |          NGC 247 ULX -1 | 00013995010 |         1800 |\n",
       "| 2021-07-07 06:41:00 | 2021-07-07 06:58:00 |                OGP_5299 | 03100319005 |         1020 |\n",
       "| 2021-07-07 06:58:00 | 2021-07-07 07:16:00 |           BZBJ1012+0630 | 00040549008 |         1080 |\n",
       "| 2021-07-07 07:16:00 | 2021-07-07 07:33:00 |             PROXIMA CEN | 00096044014 |         1020 |\n",
       "| 2021-07-07 07:33:00 | 2021-07-07 07:50:00 |                Ross 733 | 00014409001 |         1020 |\n",
       "| 2021-07-07 07:50:00 | 2021-07-07 08:07:00 |           M31N 1960-12a | 00032159021 |         1020 |\n",
       "| 2021-07-07 08:07:00 | 2021-07-07 08:12:00 |          saa-cold-67-08 | 00075029023 |          300 |\n",
       "| 2021-07-07 08:12:00 | 2021-07-07 08:42:00 | 2MASS J06282325-6534456 | 00014162028 |         1800 |\n",
       "| 2021-07-07 08:42:00 | 2021-07-07 09:05:00 |             GRB 210702A | 01058804007 |         1380 |\n",
       "| 2021-07-07 09:05:00 | 2021-07-07 09:15:00 |            ZTF21abioeyq | 00014408010 |          600 |\n",
       "| 2021-07-07 09:15:00 | 2021-07-07 09:30:00 |         GALACTIC CENTER | 00096134079 |          900 |\n",
       "| 2021-07-07 09:30:00 | 2021-07-07 09:44:00 |          NGC 247 ULX -1 | 00013995010 |          840 |\n",
       "| 2021-07-07 09:44:00 | 2021-07-07 10:05:00 |          saa-cold-166-2 | 00074987058 |         1260 |\n",
       "| 2021-07-07 10:05:00 | 2021-07-07 10:24:00 |  SDSSJ095859.0-001221.9 | 00037963007 |         1140 |\n",
       "| 2021-07-07 10:24:00 | 2021-07-07 10:44:00 |             PROXIMA CEN | 00096044014 |         1200 |\n",
       "| 2021-07-07 10:44:00 | 2021-07-07 10:49:00 |       4FGL J1526.6-2743 | 03109901007 |          300 |\n",
       "| 2021-07-07 10:49:00 | 2021-07-07 11:14:00 |           Nova Her 2021 | 00014375019 |         1500 |\n",
       "| 2021-07-07 11:14:00 | 2021-07-07 11:22:00 |             1H 0323+342 | 00096107001 |          480 |\n",
       "| 2021-07-07 11:22:00 | 2021-07-07 11:47:00 |          saa-cold-166-2 | 00074987058 |         1500 |\n",
       "| 2021-07-07 11:47:00 | 2021-07-07 11:52:00 |           BZBJ1012+0630 | 00040549008 |          300 |\n",
       "| 2021-07-07 11:52:00 | 2021-07-07 12:12:00 |           2cmXB1156+295 | 00036381066 |         1200 |\n",
       "| 2021-07-07 12:12:00 | 2021-07-07 12:42:00 |                 PDS 456 | 00010383062 |         1800 |\n",
       "| 2021-07-07 12:42:00 | 2021-07-07 12:53:00 |                 Mrk 335 | 00013544130 |          660 |\n",
       "| 2021-07-07 12:53:00 | 2021-07-07 13:01:00 |   XMMU J001528.9-391319 | 00032619042 |          480 |\n",
       "| 2021-07-07 13:01:00 | 2021-07-07 13:15:00 |          saa-cold-166-2 | 00074987058 |          840 |\n",
       "| 2021-07-07 13:15:00 | 2021-07-07 13:28:00 |         saa-cold-260-07 | 00076021005 |          780 |\n",
       "| 2021-07-07 13:28:00 | 2021-07-07 13:50:00 |               AT2021blu | 00014063013 |         1320 |\n",
       "| 2021-07-07 13:50:00 | 2021-07-07 14:20:00 |                 GX 13+1 | 00036688023 |         1800 |\n",
       "| 2021-07-07 14:20:00 | 2021-07-07 14:30:00 |                 Mrk 335 | 00013544130 |          600 |\n",
       "| 2021-07-07 14:30:00 | 2021-07-07 14:41:00 |                  SC1825 | 00013984048 |          660 |\n",
       "| 2021-07-07 14:41:00 | 2021-07-07 15:08:00 |         saa-cold-260-07 | 00076021005 |         1620 |\n",
       "| 2021-07-07 15:08:00 | 2021-07-07 15:14:00 |                NGC 3773 | 03110922005 |          360 |\n",
       "| 2021-07-07 15:14:00 | 2021-07-07 15:26:00 |               AT2021blu | 00014063013 |          720 |\n",
       "| 2021-07-07 15:26:00 | 2021-07-07 15:56:00 |                 GX 13+1 | 00036688023 |         1800 |\n",
       "| 2021-07-07 15:56:00 | 2021-07-07 16:04:00 |           M31N 1960-12a | 00032159021 |          480 |\n",
       "| 2021-07-07 16:04:00 | 2021-07-07 16:22:00 |                  SC1825 | 00013984048 |         1080 |\n",
       "| 2021-07-07 16:22:00 | 2021-07-07 16:47:00 |         saa-cold-260-07 | 00076021005 |         1500 |\n",
       "| 2021-07-07 16:47:00 | 2021-07-07 16:57:00 |               SN2021qwq | 00014407001 |          600 |\n",
       "| 2021-07-07 16:57:00 | 2021-07-07 17:18:00 |                   CDF-N | 00095929022 |         1260 |\n",
       "| 2021-07-07 17:18:00 | 2021-07-07 17:23:00 |           CYGNUSCOCOON7 | 00095938009 |          300 |\n",
       "| 2021-07-07 17:23:00 | 2021-07-07 17:40:00 |          NGC 247 ULX -1 | 00013995010 |         1020 |\n",
       "| 2021-07-07 17:40:00 | 2021-07-07 17:50:00 |                  SC1825 | 00013984048 |          600 |\n",
       "| 2021-07-07 17:50:00 | 2021-07-07 18:04:00 |              SN_2018HTI | 00089324001 |          840 |\n",
       "| 2021-07-07 18:04:00 | 2021-07-07 18:27:00 |         saa-cold-260-07 | 00076021005 |         1380 |\n",
       "| 2021-07-07 18:27:00 | 2021-07-07 18:40:00 |               SN2021qwq | 00014407001 |          780 |\n",
       "| 2021-07-07 18:40:00 | 2021-07-07 18:57:00 |                 MRK 817 | 00096066096 |         1020 |\n",
       "| 2021-07-07 18:57:00 | 2021-07-07 19:22:00 |   XMMU J001528.9-391319 | 00032619042 |         1500 |\n",
       "| 2021-07-07 19:22:00 | 2021-07-07 19:46:00 | 2MASS J06282325-6534456 | 00014162028 |         1440 |\n",
       "| 2021-07-07 19:46:00 | 2021-07-07 20:07:00 |         saa-cold-260-07 | 00076021005 |         1260 |\n",
       "| 2021-07-07 20:07:00 | 2021-07-07 20:29:00 |            ZTF21abjcjmc | 00014413006 |         1320 |\n",
       "| 2021-07-07 20:29:00 | 2021-07-07 20:44:00 |                 GX 13+1 | 00036688023 |          900 |\n",
       "| 2021-07-07 20:44:00 | 2021-07-07 20:49:00 |           CYGNUSCOCOON7 | 00095938009 |          300 |\n",
       "| 2021-07-07 20:49:00 | 2021-07-07 21:09:00 |              SN_2018HTI | 00089324001 |         1200 |\n",
       "| 2021-07-07 21:09:00 | 2021-07-07 21:19:00 | 2MASS J06282325-6534456 | 00014162028 |          600 |\n",
       "| 2021-07-07 21:19:00 | 2021-07-07 21:29:00 |             PROXIMA CEN | 00096044014 |          600 |\n",
       "| 2021-07-07 21:29:00 | 2021-07-07 21:43:00 |         saa-cold-145-06 | 00074951006 |          840 |\n",
       "| 2021-07-07 21:43:00 | 2021-07-07 21:48:00 |          J154824+333500 | 03111055007 |          300 |\n",
       "| 2021-07-07 21:48:00 | 2021-07-07 22:18:00 |                 GX 13+1 | 00036688023 |         1800 |\n",
       "| 2021-07-07 22:18:00 | 2021-07-07 22:23:00 |           CYGNUSCOCOON7 | 00095938009 |          300 |\n",
       "| 2021-07-07 22:23:00 | 2021-07-07 22:53:00 |             ASASSN-20qc | 00014062030 |         1800 |\n",
       "| 2021-07-07 22:53:00 | 2021-07-07 23:03:00 |           SGR 0755-2933 | 00095967013 |          600 |\n",
       "| 2021-07-07 23:03:00 | 2021-07-07 23:31:00 |            ZTF21aaaokyp | 00014207005 |         1680 |\n",
       "| 2021-07-07 23:31:00 | 2021-07-07 23:41:00 |            ZTF21abjcjmc | 00014413006 |          600 |\n",
       "| 2021-07-07 23:41:00 | 2021-07-08 00:00:00 |           M31N 1960-12a | 00032159021 |         1140 |\n",
       "+---------------------+---------------------+-------------------------+-------------+--------------+>"
      ]
     },
     "execution_count": 6,
     "metadata": {},
     "output_type": "execute_result"
    }
   ],
   "source": [
    "dayplan = Swift_PlanQuery(username,shared_secret,begin=plan.ppstmax-timedelta(days=1),end=plan.ppstmax)\n",
    "dayplan"
   ]
  },
  {
   "cell_type": "markdown",
   "metadata": {},
   "source": [
    "That's a lot of targets! Note that like Swift_ObsQuery it's showing you all the individual snapshots during the day. If you want to group these into observations, you can do that. Remember the `observations` method returns a dictionary, with obsid as the key, and the total observation details as the value. You can display it as a table in Jupyter Notebooks simply:"
   ]
  },
  {
   "cell_type": "code",
   "execution_count": 7,
   "metadata": {
    "scrolled": false
   },
   "outputs": [
    {
     "data": {
      "text/html": [
       "<table>\n",
       "<thead>\n",
       "<tr><th style=\"text-align: left;\">              Begin</th><th style=\"text-align: left;\">                End</th><th style=\"text-align: left;\">                   Name</th><th style=\"text-align: left;\">  Obs Number</th><th style=\"text-align: left;\">  Exposure (s)</th></tr>\n",
       "</thead>\n",
       "<tbody>\n",
       "<tr><td style=\"text-align: left;\">2021-07-06 23:40:00</td><td style=\"text-align: left;\">2021-07-07 00:00:00</td><td style=\"text-align: left;\">          SGR 1830-0645</td><td style=\"text-align: left;\"> 00013840016</td><td style=\"text-align: left;\">          1200</td></tr>\n",
       "<tr><td style=\"text-align: left;\">2021-07-07 00:00:00</td><td style=\"text-align: left;\">2021-07-07 01:59:00</td><td style=\"text-align: left;\">          M31N 1923-12c</td><td style=\"text-align: left;\"> 00014412005</td><td style=\"text-align: left;\">          1980</td></tr>\n",
       "<tr><td style=\"text-align: left;\">2021-07-07 00:08:00</td><td style=\"text-align: left;\">2021-07-07 17:50:00</td><td style=\"text-align: left;\">                 SC1825</td><td style=\"text-align: left;\"> 00013984048</td><td style=\"text-align: left;\">          2940</td></tr>\n",
       "<tr><td style=\"text-align: left;\">2021-07-07 00:18:00</td><td style=\"text-align: left;\">2021-07-07 00:26:00</td><td style=\"text-align: left;\">               OGP_5183</td><td style=\"text-align: left;\"> 00086994002</td><td style=\"text-align: left;\">           480</td></tr>\n",
       "<tr><td style=\"text-align: left;\">2021-07-07 00:26:00</td><td style=\"text-align: left;\">2021-07-07 23:03:00</td><td style=\"text-align: left;\">          SGR 0755-2933</td><td style=\"text-align: left;\"> 00095967013</td><td style=\"text-align: left;\">          2400</td></tr>\n",
       "<tr><td style=\"text-align: left;\">2021-07-07 00:56:00</td><td style=\"text-align: left;\">2021-07-07 21:29:00</td><td style=\"text-align: left;\">            PROXIMA CEN</td><td style=\"text-align: left;\"> 00096044014</td><td style=\"text-align: left;\">          3420</td></tr>\n",
       "<tr><td style=\"text-align: left;\">2021-07-07 01:06:00</td><td style=\"text-align: left;\">2021-07-07 09:15:00</td><td style=\"text-align: left;\">           ZTF21abioeyq</td><td style=\"text-align: left;\"> 00014408010</td><td style=\"text-align: left;\">          2640</td></tr>\n",
       "<tr><td style=\"text-align: left;\">2021-07-07 01:17:00</td><td style=\"text-align: left;\">2021-07-07 01:34:00</td><td style=\"text-align: left;\">                 Mrk501</td><td style=\"text-align: left;\"> 00011184135</td><td style=\"text-align: left;\">          1020</td></tr>\n",
       "<tr><td style=\"text-align: left;\">2021-07-07 01:59:00</td><td style=\"text-align: left;\">2021-07-07 02:13:00</td><td style=\"text-align: left;\">               OGP_5247</td><td style=\"text-align: left;\"> 03100787004</td><td style=\"text-align: left;\">           840</td></tr>\n",
       "<tr><td style=\"text-align: left;\">2021-07-07 02:13:00</td><td style=\"text-align: left;\">2021-07-07 09:05:00</td><td style=\"text-align: left;\">            GRB 210702A</td><td style=\"text-align: left;\"> 01058804007</td><td style=\"text-align: left;\">          4980</td></tr>\n",
       "<tr><td style=\"text-align: left;\">2021-07-07 02:54:00</td><td style=\"text-align: left;\">2021-07-07 03:24:00</td><td style=\"text-align: left;\">                    M31</td><td style=\"text-align: left;\"> 00013977010</td><td style=\"text-align: left;\">          1800</td></tr>\n",
       "<tr><td style=\"text-align: left;\">2021-07-07 03:24:00</td><td style=\"text-align: left;\">2021-07-07 21:19:00</td><td style=\"text-align: left;\">2MASS J06282325-6534456</td><td style=\"text-align: left;\"> 00014162028</td><td style=\"text-align: left;\">          4620</td></tr>\n",
       "<tr><td style=\"text-align: left;\">2021-07-07 03:37:00</td><td style=\"text-align: left;\">2021-07-07 03:46:00</td><td style=\"text-align: left;\">               OGP_5266</td><td style=\"text-align: left;\"> 03102384001</td><td style=\"text-align: left;\">           540</td></tr>\n",
       "<tr><td style=\"text-align: left;\">2021-07-07 03:46:00</td><td style=\"text-align: left;\">2021-07-07 04:03:00</td><td style=\"text-align: left;\">         MAXI J0903-531</td><td style=\"text-align: left;\"> 00014281013</td><td style=\"text-align: left;\">          1020</td></tr>\n",
       "<tr><td style=\"text-align: left;\">2021-07-07 04:03:00</td><td style=\"text-align: left;\">2021-07-07 04:33:00</td><td style=\"text-align: left;\">               NGC 5055</td><td style=\"text-align: left;\"> 00014386003</td><td style=\"text-align: left;\">          1800</td></tr>\n",
       "<tr><td style=\"text-align: left;\">2021-07-07 04:33:00</td><td style=\"text-align: left;\">2021-07-07 04:50:00</td><td style=\"text-align: left;\">             AT 2021qvr</td><td style=\"text-align: left;\"> 00014396006</td><td style=\"text-align: left;\">          1020</td></tr>\n",
       "<tr><td style=\"text-align: left;\">2021-07-07 04:50:00</td><td style=\"text-align: left;\">2021-07-07 05:07:00</td><td style=\"text-align: left;\">               WPVS 007</td><td style=\"text-align: left;\"> 00010905122</td><td style=\"text-align: left;\">          1020</td></tr>\n",
       "<tr><td style=\"text-align: left;\">2021-07-07 05:07:00</td><td style=\"text-align: left;\">2021-07-07 05:24:00</td><td style=\"text-align: left;\">               OGP_5331</td><td style=\"text-align: left;\"> 03100573002</td><td style=\"text-align: left;\">          1020</td></tr>\n",
       "<tr><td style=\"text-align: left;\">2021-07-07 06:06:00</td><td style=\"text-align: left;\">2021-07-07 06:11:00</td><td style=\"text-align: left;\">             SGWGS-2593</td><td style=\"text-align: left;\"> 03107384003</td><td style=\"text-align: left;\">           300</td></tr>\n",
       "<tr><td style=\"text-align: left;\">2021-07-07 06:11:00</td><td style=\"text-align: left;\">2021-07-07 17:40:00</td><td style=\"text-align: left;\">         NGC 247 ULX -1</td><td style=\"text-align: left;\"> 00013995010</td><td style=\"text-align: left;\">          3660</td></tr>\n",
       "<tr><td style=\"text-align: left;\">2021-07-07 06:41:00</td><td style=\"text-align: left;\">2021-07-07 06:58:00</td><td style=\"text-align: left;\">               OGP_5299</td><td style=\"text-align: left;\"> 03100319005</td><td style=\"text-align: left;\">          1020</td></tr>\n",
       "<tr><td style=\"text-align: left;\">2021-07-07 06:58:00</td><td style=\"text-align: left;\">2021-07-07 11:52:00</td><td style=\"text-align: left;\">          BZBJ1012+0630</td><td style=\"text-align: left;\"> 00040549008</td><td style=\"text-align: left;\">          1380</td></tr>\n",
       "<tr><td style=\"text-align: left;\">2021-07-07 07:33:00</td><td style=\"text-align: left;\">2021-07-07 07:50:00</td><td style=\"text-align: left;\">               Ross 733</td><td style=\"text-align: left;\"> 00014409001</td><td style=\"text-align: left;\">          1020</td></tr>\n",
       "<tr><td style=\"text-align: left;\">2021-07-07 07:50:00</td><td style=\"text-align: left;\">2021-07-08 00:00:00</td><td style=\"text-align: left;\">          M31N 1960-12a</td><td style=\"text-align: left;\"> 00032159021</td><td style=\"text-align: left;\">          2640</td></tr>\n",
       "<tr><td style=\"text-align: left;\">2021-07-07 08:07:00</td><td style=\"text-align: left;\">2021-07-07 08:12:00</td><td style=\"text-align: left;\">         saa-cold-67-08</td><td style=\"text-align: left;\"> 00075029023</td><td style=\"text-align: left;\">           300</td></tr>\n",
       "<tr><td style=\"text-align: left;\">2021-07-07 09:15:00</td><td style=\"text-align: left;\">2021-07-07 09:30:00</td><td style=\"text-align: left;\">        GALACTIC CENTER</td><td style=\"text-align: left;\"> 00096134079</td><td style=\"text-align: left;\">           900</td></tr>\n",
       "<tr><td style=\"text-align: left;\">2021-07-07 09:44:00</td><td style=\"text-align: left;\">2021-07-07 13:15:00</td><td style=\"text-align: left;\">         saa-cold-166-2</td><td style=\"text-align: left;\"> 00074987058</td><td style=\"text-align: left;\">          3600</td></tr>\n",
       "<tr><td style=\"text-align: left;\">2021-07-07 10:05:00</td><td style=\"text-align: left;\">2021-07-07 10:24:00</td><td style=\"text-align: left;\"> SDSSJ095859.0-001221.9</td><td style=\"text-align: left;\"> 00037963007</td><td style=\"text-align: left;\">          1140</td></tr>\n",
       "<tr><td style=\"text-align: left;\">2021-07-07 10:44:00</td><td style=\"text-align: left;\">2021-07-07 10:49:00</td><td style=\"text-align: left;\">      4FGL J1526.6-2743</td><td style=\"text-align: left;\"> 03109901007</td><td style=\"text-align: left;\">           300</td></tr>\n",
       "<tr><td style=\"text-align: left;\">2021-07-07 10:49:00</td><td style=\"text-align: left;\">2021-07-07 11:14:00</td><td style=\"text-align: left;\">          Nova Her 2021</td><td style=\"text-align: left;\"> 00014375019</td><td style=\"text-align: left;\">          1500</td></tr>\n",
       "<tr><td style=\"text-align: left;\">2021-07-07 11:14:00</td><td style=\"text-align: left;\">2021-07-07 11:22:00</td><td style=\"text-align: left;\">            1H 0323+342</td><td style=\"text-align: left;\"> 00096107001</td><td style=\"text-align: left;\">           480</td></tr>\n",
       "<tr><td style=\"text-align: left;\">2021-07-07 11:52:00</td><td style=\"text-align: left;\">2021-07-07 12:12:00</td><td style=\"text-align: left;\">          2cmXB1156+295</td><td style=\"text-align: left;\"> 00036381066</td><td style=\"text-align: left;\">          1200</td></tr>\n",
       "<tr><td style=\"text-align: left;\">2021-07-07 12:12:00</td><td style=\"text-align: left;\">2021-07-07 12:42:00</td><td style=\"text-align: left;\">                PDS 456</td><td style=\"text-align: left;\"> 00010383062</td><td style=\"text-align: left;\">          1800</td></tr>\n",
       "<tr><td style=\"text-align: left;\">2021-07-07 12:42:00</td><td style=\"text-align: left;\">2021-07-07 14:30:00</td><td style=\"text-align: left;\">                Mrk 335</td><td style=\"text-align: left;\"> 00013544130</td><td style=\"text-align: left;\">          1260</td></tr>\n",
       "<tr><td style=\"text-align: left;\">2021-07-07 12:53:00</td><td style=\"text-align: left;\">2021-07-07 19:22:00</td><td style=\"text-align: left;\">  XMMU J001528.9-391319</td><td style=\"text-align: left;\"> 00032619042</td><td style=\"text-align: left;\">          1980</td></tr>\n",
       "<tr><td style=\"text-align: left;\">2021-07-07 13:15:00</td><td style=\"text-align: left;\">2021-07-07 20:07:00</td><td style=\"text-align: left;\">        saa-cold-260-07</td><td style=\"text-align: left;\"> 00076021005</td><td style=\"text-align: left;\">          6540</td></tr>\n",
       "<tr><td style=\"text-align: left;\">2021-07-07 13:28:00</td><td style=\"text-align: left;\">2021-07-07 15:26:00</td><td style=\"text-align: left;\">              AT2021blu</td><td style=\"text-align: left;\"> 00014063013</td><td style=\"text-align: left;\">          2040</td></tr>\n",
       "<tr><td style=\"text-align: left;\">2021-07-07 13:50:00</td><td style=\"text-align: left;\">2021-07-07 22:18:00</td><td style=\"text-align: left;\">                GX 13+1</td><td style=\"text-align: left;\"> 00036688023</td><td style=\"text-align: left;\">          6300</td></tr>\n",
       "<tr><td style=\"text-align: left;\">2021-07-07 15:08:00</td><td style=\"text-align: left;\">2021-07-07 15:14:00</td><td style=\"text-align: left;\">               NGC 3773</td><td style=\"text-align: left;\"> 03110922005</td><td style=\"text-align: left;\">           360</td></tr>\n",
       "<tr><td style=\"text-align: left;\">2021-07-07 16:47:00</td><td style=\"text-align: left;\">2021-07-07 18:40:00</td><td style=\"text-align: left;\">              SN2021qwq</td><td style=\"text-align: left;\"> 00014407001</td><td style=\"text-align: left;\">          1380</td></tr>\n",
       "<tr><td style=\"text-align: left;\">2021-07-07 16:57:00</td><td style=\"text-align: left;\">2021-07-07 17:18:00</td><td style=\"text-align: left;\">                  CDF-N</td><td style=\"text-align: left;\"> 00095929022</td><td style=\"text-align: left;\">          1260</td></tr>\n",
       "<tr><td style=\"text-align: left;\">2021-07-07 17:18:00</td><td style=\"text-align: left;\">2021-07-07 22:23:00</td><td style=\"text-align: left;\">          CYGNUSCOCOON7</td><td style=\"text-align: left;\"> 00095938009</td><td style=\"text-align: left;\">           900</td></tr>\n",
       "<tr><td style=\"text-align: left;\">2021-07-07 17:50:00</td><td style=\"text-align: left;\">2021-07-07 21:09:00</td><td style=\"text-align: left;\">             SN_2018HTI</td><td style=\"text-align: left;\"> 00089324001</td><td style=\"text-align: left;\">          2040</td></tr>\n",
       "<tr><td style=\"text-align: left;\">2021-07-07 18:40:00</td><td style=\"text-align: left;\">2021-07-07 18:57:00</td><td style=\"text-align: left;\">                MRK 817</td><td style=\"text-align: left;\"> 00096066096</td><td style=\"text-align: left;\">          1020</td></tr>\n",
       "<tr><td style=\"text-align: left;\">2021-07-07 20:07:00</td><td style=\"text-align: left;\">2021-07-07 23:41:00</td><td style=\"text-align: left;\">           ZTF21abjcjmc</td><td style=\"text-align: left;\"> 00014413006</td><td style=\"text-align: left;\">          1920</td></tr>\n",
       "<tr><td style=\"text-align: left;\">2021-07-07 21:29:00</td><td style=\"text-align: left;\">2021-07-07 21:43:00</td><td style=\"text-align: left;\">        saa-cold-145-06</td><td style=\"text-align: left;\"> 00074951006</td><td style=\"text-align: left;\">           840</td></tr>\n",
       "<tr><td style=\"text-align: left;\">2021-07-07 21:43:00</td><td style=\"text-align: left;\">2021-07-07 21:48:00</td><td style=\"text-align: left;\">         J154824+333500</td><td style=\"text-align: left;\"> 03111055007</td><td style=\"text-align: left;\">           300</td></tr>\n",
       "<tr><td style=\"text-align: left;\">2021-07-07 22:23:00</td><td style=\"text-align: left;\">2021-07-07 22:53:00</td><td style=\"text-align: left;\">            ASASSN-20qc</td><td style=\"text-align: left;\"> 00014062030</td><td style=\"text-align: left;\">          1800</td></tr>\n",
       "<tr><td style=\"text-align: left;\">2021-07-07 23:03:00</td><td style=\"text-align: left;\">2021-07-07 23:31:00</td><td style=\"text-align: left;\">           ZTF21aaaokyp</td><td style=\"text-align: left;\"> 00014207005</td><td style=\"text-align: left;\">          1680</td></tr>\n",
       "</tbody>\n",
       "</table>"
      ],
      "text/plain": [
       "<swift_too.swift_obsquery.Swift_Observations at 0x10b89f370>"
      ]
     },
     "execution_count": 7,
     "metadata": {},
     "output_type": "execute_result"
    }
   ],
   "source": [
    "dayplan.observations"
   ]
  }
 ],
 "metadata": {
  "kernelspec": {
   "display_name": "Python 3",
   "language": "python",
   "name": "python3"
  },
  "language_info": {
   "codemirror_mode": {
    "name": "ipython",
    "version": 3
   },
   "file_extension": ".py",
   "mimetype": "text/x-python",
   "name": "python",
   "nbconvert_exporter": "python",
   "pygments_lexer": "ipython3",
   "version": "3.9.5"
  }
 },
 "nbformat": 4,
 "nbformat_minor": 4
}
