{
 "cells": [
  {
   "cell_type": "markdown",
   "metadata": {},
   "source": [
    "# `swift_too` module\n",
    "\n",
    "## Swift_PlanQuery example - querying planned *Swift* observations\n",
    "\n",
    "### API version = 1.2\n",
    "\n",
    "#### Author: Jamie A. Kennea (Penn State)\n",
    "\n",
    "The Swift_PlanQuery class allows for querying the database of observations have have been planned for observation by Swift, otherwise known as the \"Pre-Planned Science Timeline\" (PPST). This allows the user to find out not only what was planned, but what will be observed by Swift in the future.\n",
    "\n",
    "Two important caveats:\n",
    "\n",
    "1. For past observations, what should have been down is mostly an academic exercise, as due to TOO uploads and GRBs, Swift's pre-planned observations can be obliterated. If you want to know what Swift *did* observe, do a Swift_ObsQuery\n",
    "\n",
    "2. Swift's planning is only done days into the future, so if you want to know what is going to happen weeks from now, you're out of luck.\n",
    "\n",
    "This therefore is mostly useful if you want to know what Swift is observing *today* and *tomorrow*."
   ]
  },
  {
   "cell_type": "code",
   "execution_count": 1,
   "metadata": {},
   "outputs": [],
   "source": [
    "from swifttools.swift_too import Swift_PlanQuery\n",
    "from datetime import datetime,timedelta"
   ]
  },
  {
   "cell_type": "markdown",
   "metadata": {},
   "source": [
    "### Setting up our username and secret key\n",
    "\n",
    "Set up the class, giving our username and shared secret. These can be set up [on the Swift TOO website](https://www.swift.psu.edu/toop/too.php). After you log in, you will find your shared secret, and can modify it as necessary under the [Update Account Info](https://www.swift.psu.edu/toop/account_info.php) link. "
   ]
  },
  {
   "cell_type": "code",
   "execution_count": 2,
   "metadata": {},
   "outputs": [],
   "source": [
    "username = 'myuser'\n",
    "shared_secret = 'mysharedsecret'"
   ]
  },
  {
   "cell_type": "markdown",
   "metadata": {},
   "source": [
    "However, if you don't have a user or just don't want to use it, you can submit this request anonymously. In this case you just give the username and shared secret as \"anonymous\""
   ]
  },
  {
   "cell_type": "code",
   "execution_count": 3,
   "metadata": {},
   "outputs": [],
   "source": [
    "username = 'anonymous'\n",
    "shared_secret = 'anonymous'"
   ]
  },
  {
   "cell_type": "markdown",
   "metadata": {},
   "source": [
    "### First Query\n",
    "\n",
    "First query example: What is Swift planned to observe now? Quite easy to construct. Here it is:"
   ]
  },
  {
   "cell_type": "code",
   "execution_count": 4,
   "metadata": {},
   "outputs": [
    {
     "data": {
      "text/html": [
       "<table>\n",
       "<thead>\n",
       "<tr><th style=\"text-align: left;\">              Begin</th><th style=\"text-align: left;\">                End</th><th style=\"text-align: left;\">         Name</th><th style=\"text-align: left;\">  Obs Number</th><th style=\"text-align: left;\">  Exposure (s)</th></tr>\n",
       "</thead>\n",
       "<tbody>\n",
       "<tr><td style=\"text-align: left;\">2021-11-14 14:57:00</td><td style=\"text-align: left;\">2021-11-14 15:22:00</td><td style=\"text-align: left;\">Tycho_200_200</td><td style=\"text-align: left;\"> 00059158044</td><td style=\"text-align: left;\">          1500</td></tr>\n",
       "</tbody>\n",
       "</table>"
      ],
      "text/plain": [
       "<+---------------------+---------------------+---------------+-------------+--------------+\n",
       "|               Begin |                 End |          Name |  Obs Number | Exposure (s) |\n",
       "+---------------------+---------------------+---------------+-------------+--------------+\n",
       "| 2021-11-14 14:57:00 | 2021-11-14 15:22:00 | Tycho_200_200 | 00059158044 |         1500 |\n",
       "+---------------------+---------------------+---------------+-------------+--------------+>"
      ]
     },
     "execution_count": 4,
     "metadata": {},
     "output_type": "execute_result"
    }
   ],
   "source": [
    "plan = Swift_PlanQuery(username,shared_secret,begin=datetime.utcnow())\n",
    "plan"
   ]
  },
  {
   "cell_type": "markdown",
   "metadata": {},
   "source": [
    "So the above should have reported back a single target. When you just give `start` with no `end`, it simply returns the observation which is taking place at the time given. So what is happening at this time tomorrow?"
   ]
  },
  {
   "cell_type": "code",
   "execution_count": 5,
   "metadata": {},
   "outputs": [
    {
     "data": {
      "text/html": [
       "<table>\n",
       "<thead>\n",
       "<tr><th style=\"text-align: left;\">              Begin</th><th style=\"text-align: left;\">                End</th><th style=\"text-align: left;\">    Name</th><th style=\"text-align: left;\">  Obs Number</th><th style=\"text-align: left;\">  Exposure (s)</th></tr>\n",
       "</thead>\n",
       "<tbody>\n",
       "<tr><td style=\"text-align: left;\">2021-11-15 14:43:00</td><td style=\"text-align: left;\">2021-11-15 15:02:00</td><td style=\"text-align: left;\">OGP_2008</td><td style=\"text-align: left;\"> 03103668007</td><td style=\"text-align: left;\">          1140</td></tr>\n",
       "</tbody>\n",
       "</table>"
      ],
      "text/plain": [
       "<+---------------------+---------------------+----------+-------------+--------------+\n",
       "|               Begin |                 End |     Name |  Obs Number | Exposure (s) |\n",
       "+---------------------+---------------------+----------+-------------+--------------+\n",
       "| 2021-11-15 14:43:00 | 2021-11-15 15:02:00 | OGP_2008 | 03103668007 |         1140 |\n",
       "+---------------------+---------------------+----------+-------------+--------------+>"
      ]
     },
     "execution_count": 5,
     "metadata": {},
     "output_type": "execute_result"
    }
   ],
   "source": [
    "plan = Swift_PlanQuery(username,shared_secret,begin=datetime.utcnow()+timedelta(days=1))\n",
    "plan"
   ]
  },
  {
   "cell_type": "markdown",
   "metadata": {},
   "source": [
    "Did the above query return anything? If not, then there simply isn't a plan for tomorrow. So how can we determine how far into the future Swift has a plan for? The `ppstmax` parameter. Let's check it out:"
   ]
  },
  {
   "cell_type": "code",
   "execution_count": 6,
   "metadata": {},
   "outputs": [
    {
     "data": {
      "text/plain": [
       "'PPSTs available up to 2021-11-16 00:00:00'"
      ]
     },
     "execution_count": 6,
     "metadata": {},
     "output_type": "execute_result"
    }
   ],
   "source": [
    "f\"PPSTs available up to {plan.ppstmax}\""
   ]
  },
  {
   "cell_type": "markdown",
   "metadata": {},
   "source": [
    "This gives the date of the last planned target. If the query for what Swift is observing this time tomorrow didn't return anything, this date is probably the end of the UT day today. If the time you're running this is before midday on a Monday-Thursday, this is as expected. Typically the plan for tomorrow is submitted for upload around 12pm Eastern time. The exception to this rule is for the weekend plan. Typically on Thursday at 12pm we submit a plan for Friday and Saturday, and on Friday at 12pm we submit a plan for Sunday-Monday. This allows us to cover the weekend, while working a 5 day week."
   ]
  },
  {
   "cell_type": "markdown",
   "metadata": {},
   "source": [
    "### Second query example\n",
    "\n",
    "Seeing a whole day's PPST. So let's see the whole day's Plan that goes farthest into the future."
   ]
  },
  {
   "cell_type": "code",
   "execution_count": 7,
   "metadata": {
    "scrolled": false
   },
   "outputs": [
    {
     "data": {
      "text/html": [
       "<table>\n",
       "<thead>\n",
       "<tr><th style=\"text-align: left;\">              Begin</th><th style=\"text-align: left;\">                End</th><th style=\"text-align: left;\">                    Name</th><th style=\"text-align: left;\">  Obs Number</th><th style=\"text-align: left;\">  Exposure (s)</th></tr>\n",
       "</thead>\n",
       "<tbody>\n",
       "<tr><td style=\"text-align: left;\">2021-11-14 23:47:00</td><td style=\"text-align: left;\">2021-11-15 00:02:00</td><td style=\"text-align: left;\">       4FGL J1840.4-1139</td><td style=\"text-align: left;\"> 03109925005</td><td style=\"text-align: left;\">           900</td></tr>\n",
       "<tr><td style=\"text-align: left;\">2021-11-15 00:02:00</td><td style=\"text-align: left;\">2021-11-15 00:17:00</td><td style=\"text-align: left;\">              SGWGS-2856</td><td style=\"text-align: left;\"> 03107647009</td><td style=\"text-align: left;\">           900</td></tr>\n",
       "<tr><td style=\"text-align: left;\">2021-11-15 00:17:00</td><td style=\"text-align: left;\">2021-11-15 00:31:00</td><td style=\"text-align: left;\">         saa-cold-357-08</td><td style=\"text-align: left;\"> 00075098022</td><td style=\"text-align: left;\">           840</td></tr>\n",
       "<tr><td style=\"text-align: left;\">2021-11-15 00:31:00</td><td style=\"text-align: left;\">2021-11-15 00:43:00</td><td style=\"text-align: left;\">               IC 10 X-1</td><td style=\"text-align: left;\"> 00030835119</td><td style=\"text-align: left;\">           720</td></tr>\n",
       "<tr><td style=\"text-align: left;\">2021-11-15 00:43:00</td><td style=\"text-align: left;\">2021-11-15 00:57:00</td><td style=\"text-align: left;\">   1RXS_J065558.4+290731</td><td style=\"text-align: left;\"> 00049293004</td><td style=\"text-align: left;\">           840</td></tr>\n",
       "<tr><td style=\"text-align: left;\">2021-11-15 00:57:00</td><td style=\"text-align: left;\">2021-11-15 01:27:00</td><td style=\"text-align: left;\">                 MRK 477</td><td style=\"text-align: left;\"> 00095968009</td><td style=\"text-align: left;\">          1800</td></tr>\n",
       "<tr><td style=\"text-align: left;\">2021-11-15 01:27:00</td><td style=\"text-align: left;\">2021-11-15 01:36:00</td><td style=\"text-align: left;\">       4FGL J1853.8-1107</td><td style=\"text-align: left;\"> 03110350007</td><td style=\"text-align: left;\">           540</td></tr>\n",
       "<tr><td style=\"text-align: left;\">2021-11-15 01:36:00</td><td style=\"text-align: left;\">2021-11-15 01:42:00</td><td style=\"text-align: left;\">          PSR J1835-1106</td><td style=\"text-align: left;\"> 00036698006</td><td style=\"text-align: left;\">           360</td></tr>\n",
       "<tr><td style=\"text-align: left;\">2021-11-15 01:42:00</td><td style=\"text-align: left;\">2021-11-15 02:00:00</td><td style=\"text-align: left;\">              SGWGS-2397</td><td style=\"text-align: left;\"> 03107188004</td><td style=\"text-align: left;\">          1080</td></tr>\n",
       "<tr><td style=\"text-align: left;\">2021-11-15 02:00:00</td><td style=\"text-align: left;\">2021-11-15 02:26:00</td><td style=\"text-align: left;\">                 MRK 590</td><td style=\"text-align: left;\"> 00095662051</td><td style=\"text-align: left;\">          1560</td></tr>\n",
       "<tr><td style=\"text-align: left;\">2021-11-15 02:26:00</td><td style=\"text-align: left;\">2021-11-15 02:31:00</td><td style=\"text-align: left;\">                OGP_4315</td><td style=\"text-align: left;\"> 03102899010</td><td style=\"text-align: left;\">           300</td></tr>\n",
       "<tr><td style=\"text-align: left;\">2021-11-15 02:31:00</td><td style=\"text-align: left;\">2021-11-15 02:36:00</td><td style=\"text-align: left;\">                OGP_4275</td><td style=\"text-align: left;\"> 03103184007</td><td style=\"text-align: left;\">           300</td></tr>\n",
       "<tr><td style=\"text-align: left;\">2021-11-15 02:36:00</td><td style=\"text-align: left;\">2021-11-15 03:03:00</td><td style=\"text-align: left;\">                 MRK 477</td><td style=\"text-align: left;\"> 00095968009</td><td style=\"text-align: left;\">          1620</td></tr>\n",
       "<tr><td style=\"text-align: left;\">2021-11-15 03:03:00</td><td style=\"text-align: left;\">2021-11-15 03:18:00</td><td style=\"text-align: left;\">       4FGL J1838.4-0545</td><td style=\"text-align: left;\"> 03109816006</td><td style=\"text-align: left;\">           900</td></tr>\n",
       "<tr><td style=\"text-align: left;\">2021-11-15 03:18:00</td><td style=\"text-align: left;\">2021-11-15 03:23:00</td><td style=\"text-align: left;\">       4FGL J1840.4-1705</td><td style=\"text-align: left;\"> 03109934005</td><td style=\"text-align: left;\">           300</td></tr>\n",
       "<tr><td style=\"text-align: left;\">2021-11-15 03:23:00</td><td style=\"text-align: left;\">2021-11-15 03:40:00</td><td style=\"text-align: left;\">           XTE J1946+274</td><td style=\"text-align: left;\"> 00031888017</td><td style=\"text-align: left;\">          1020</td></tr>\n",
       "<tr><td style=\"text-align: left;\">2021-11-15 03:40:00</td><td style=\"text-align: left;\">2021-11-15 03:55:00</td><td style=\"text-align: left;\">               SN2021yky</td><td style=\"text-align: left;\"> 00014868005</td><td style=\"text-align: left;\">           900</td></tr>\n",
       "<tr><td style=\"text-align: left;\">2021-11-15 03:55:00</td><td style=\"text-align: left;\">2021-11-15 04:09:00</td><td style=\"text-align: left;\">                AT2018zd</td><td style=\"text-align: left;\"> 00010592020</td><td style=\"text-align: left;\">           840</td></tr>\n",
       "<tr><td style=\"text-align: left;\">2021-11-15 04:09:00</td><td style=\"text-align: left;\">2021-11-15 04:26:00</td><td style=\"text-align: left;\">                 MRK 477</td><td style=\"text-align: left;\"> 00095968009</td><td style=\"text-align: left;\">          1020</td></tr>\n",
       "<tr><td style=\"text-align: left;\">2021-11-15 04:26:00</td><td style=\"text-align: left;\">2021-11-15 04:40:00</td><td style=\"text-align: left;\">            SBS 1527+564</td><td style=\"text-align: left;\"> 00095899002</td><td style=\"text-align: left;\">           840</td></tr>\n",
       "<tr><td style=\"text-align: left;\">2021-11-15 04:40:00</td><td style=\"text-align: left;\">2021-11-15 05:10:00</td><td style=\"text-align: left;\">                 HR 6819</td><td style=\"text-align: left;\"> 00014894002</td><td style=\"text-align: left;\">          1800</td></tr>\n",
       "<tr><td style=\"text-align: left;\">2021-11-15 05:10:00</td><td style=\"text-align: left;\">2021-11-15 05:21:00</td><td style=\"text-align: left;\">                 MRK 590</td><td style=\"text-align: left;\"> 00095662051</td><td style=\"text-align: left;\">           660</td></tr>\n",
       "<tr><td style=\"text-align: left;\">2021-11-15 05:21:00</td><td style=\"text-align: left;\">2021-11-15 05:38:00</td><td style=\"text-align: left;\">             ASASSN-20qc</td><td style=\"text-align: left;\"> 00014062044</td><td style=\"text-align: left;\">          1020</td></tr>\n",
       "<tr><td style=\"text-align: left;\">2021-11-15 05:38:00</td><td style=\"text-align: left;\">2021-11-15 05:44:00</td><td style=\"text-align: left;\">                OGP_3826</td><td style=\"text-align: left;\"> 03104682003</td><td style=\"text-align: left;\">           360</td></tr>\n",
       "<tr><td style=\"text-align: left;\">2021-11-15 05:44:00</td><td style=\"text-align: left;\">2021-11-15 06:14:00</td><td style=\"text-align: left;\">                 MRK 477</td><td style=\"text-align: left;\"> 00095968009</td><td style=\"text-align: left;\">          1800</td></tr>\n",
       "<tr><td style=\"text-align: left;\">2021-11-15 06:14:00</td><td style=\"text-align: left;\">2021-11-15 06:29:00</td><td style=\"text-align: left;\">    3HSPJ171248.8+293116</td><td style=\"text-align: left;\"> 03110957018</td><td style=\"text-align: left;\">           900</td></tr>\n",
       "<tr><td style=\"text-align: left;\">2021-11-15 06:29:00</td><td style=\"text-align: left;\">2021-11-15 06:49:00</td><td style=\"text-align: left;\">                OGP_0437</td><td style=\"text-align: left;\"> 03103215007</td><td style=\"text-align: left;\">          1200</td></tr>\n",
       "<tr><td style=\"text-align: left;\">2021-11-15 06:49:00</td><td style=\"text-align: left;\">2021-11-15 07:06:00</td><td style=\"text-align: left;\">              ESO 243-49</td><td style=\"text-align: left;\"> 00014249030</td><td style=\"text-align: left;\">          1020</td></tr>\n",
       "<tr><td style=\"text-align: left;\">2021-11-15 07:06:00</td><td style=\"text-align: left;\">2021-11-15 07:13:00</td><td style=\"text-align: left;\">                OGP_3477</td><td style=\"text-align: left;\"> 03104379017</td><td style=\"text-align: left;\">           420</td></tr>\n",
       "<tr><td style=\"text-align: left;\">2021-11-15 07:13:00</td><td style=\"text-align: left;\">2021-11-15 07:42:00</td><td style=\"text-align: left;\">                 Mrk 279</td><td style=\"text-align: left;\"> 00037591113</td><td style=\"text-align: left;\">          1740</td></tr>\n",
       "<tr><td style=\"text-align: left;\">2021-11-15 07:42:00</td><td style=\"text-align: left;\">2021-11-15 07:57:00</td><td style=\"text-align: left;\">SDSS J135625.55+251523.7</td><td style=\"text-align: left;\"> 00046178007</td><td style=\"text-align: left;\">           900</td></tr>\n",
       "<tr><td style=\"text-align: left;\">2021-11-15 07:57:00</td><td style=\"text-align: left;\">2021-11-15 08:12:00</td><td style=\"text-align: left;\">                OGP_0086</td><td style=\"text-align: left;\"> 03103176005</td><td style=\"text-align: left;\">           900</td></tr>\n",
       "<tr><td style=\"text-align: left;\">2021-11-15 08:12:00</td><td style=\"text-align: left;\">2021-11-15 08:25:00</td><td style=\"text-align: left;\">                OGP_1228</td><td style=\"text-align: left;\"> 03104275008</td><td style=\"text-align: left;\">           780</td></tr>\n",
       "<tr><td style=\"text-align: left;\">2021-11-15 08:25:00</td><td style=\"text-align: left;\">2021-11-15 08:55:00</td><td style=\"text-align: left;\">             PKS 0346-27</td><td style=\"text-align: left;\"> 00038373044</td><td style=\"text-align: left;\">          1800</td></tr>\n",
       "<tr><td style=\"text-align: left;\">2021-11-15 08:55:00</td><td style=\"text-align: left;\">2021-11-15 09:25:00</td><td style=\"text-align: left;\">                 MRK 477</td><td style=\"text-align: left;\"> 00095968009</td><td style=\"text-align: left;\">          1800</td></tr>\n",
       "<tr><td style=\"text-align: left;\">2021-11-15 09:25:00</td><td style=\"text-align: left;\">2021-11-15 09:40:00</td><td style=\"text-align: left;\">       4FGL J1844.8-3248</td><td style=\"text-align: left;\"> 03109743009</td><td style=\"text-align: left;\">           900</td></tr>\n",
       "<tr><td style=\"text-align: left;\">2021-11-15 09:40:00</td><td style=\"text-align: left;\">2021-11-15 10:00:00</td><td style=\"text-align: left;\">                OGP_0437</td><td style=\"text-align: left;\"> 03103215007</td><td style=\"text-align: left;\">          1200</td></tr>\n",
       "<tr><td style=\"text-align: left;\">2021-11-15 10:00:00</td><td style=\"text-align: left;\">2021-11-15 10:30:00</td><td style=\"text-align: left;\">             ESO253-G003</td><td style=\"text-align: left;\"> 00013499111</td><td style=\"text-align: left;\">          1800</td></tr>\n",
       "<tr><td style=\"text-align: left;\">2021-11-15 10:30:00</td><td style=\"text-align: left;\">2021-11-15 10:47:00</td><td style=\"text-align: left;\">                NGC 3265</td><td style=\"text-align: left;\"> 03110932011</td><td style=\"text-align: left;\">          1020</td></tr>\n",
       "<tr><td style=\"text-align: left;\">2021-11-15 10:47:00</td><td style=\"text-align: left;\">2021-11-15 10:59:00</td><td style=\"text-align: left;\">         saa-cold-365-08</td><td style=\"text-align: left;\"> 00075371015</td><td style=\"text-align: left;\">           720</td></tr>\n",
       "<tr><td style=\"text-align: left;\">2021-11-15 10:59:00</td><td style=\"text-align: left;\">2021-11-15 11:14:00</td><td style=\"text-align: left;\">       4FGL J1901.5-2208</td><td style=\"text-align: left;\"> 03110133013</td><td style=\"text-align: left;\">           900</td></tr>\n",
       "<tr><td style=\"text-align: left;\">2021-11-15 11:14:00</td><td style=\"text-align: left;\">2021-11-15 11:35:00</td><td style=\"text-align: left;\">              SGWGS-2391</td><td style=\"text-align: left;\"> 03107182010</td><td style=\"text-align: left;\">          1260</td></tr>\n",
       "<tr><td style=\"text-align: left;\">2021-11-15 11:35:00</td><td style=\"text-align: left;\">2021-11-15 11:47:00</td><td style=\"text-align: left;\">             ESO253-G003</td><td style=\"text-align: left;\"> 00013499111</td><td style=\"text-align: left;\">           720</td></tr>\n",
       "<tr><td style=\"text-align: left;\">2021-11-15 11:47:00</td><td style=\"text-align: left;\">2021-11-15 11:52:00</td><td style=\"text-align: left;\">                OGP_2785</td><td style=\"text-align: left;\"> 03104433010</td><td style=\"text-align: left;\">           300</td></tr>\n",
       "<tr><td style=\"text-align: left;\">2021-11-15 11:52:00</td><td style=\"text-align: left;\">2021-11-15 12:17:00</td><td style=\"text-align: left;\">                AT2018zd</td><td style=\"text-align: left;\"> 00010592020</td><td style=\"text-align: left;\">          1500</td></tr>\n",
       "<tr><td style=\"text-align: left;\">2021-11-15 12:17:00</td><td style=\"text-align: left;\">2021-11-15 12:24:00</td><td style=\"text-align: left;\">                NGC 4321</td><td style=\"text-align: left;\"> 03110933008</td><td style=\"text-align: left;\">           420</td></tr>\n",
       "<tr><td style=\"text-align: left;\">2021-11-15 12:24:00</td><td style=\"text-align: left;\">2021-11-15 12:40:00</td><td style=\"text-align: left;\">         saa-cold-241-08</td><td style=\"text-align: left;\"> 00075971004</td><td style=\"text-align: left;\">           960</td></tr>\n",
       "<tr><td style=\"text-align: left;\">2021-11-15 12:40:00</td><td style=\"text-align: left;\">2021-11-15 12:47:00</td><td style=\"text-align: left;\">         saa-cold-357-08</td><td style=\"text-align: left;\"> 00075098022</td><td style=\"text-align: left;\">           420</td></tr>\n",
       "<tr><td style=\"text-align: left;\">2021-11-15 12:47:00</td><td style=\"text-align: left;\">2021-11-15 13:02:00</td><td style=\"text-align: left;\">                OGP_0159</td><td style=\"text-align: left;\"> 03103728007</td><td style=\"text-align: left;\">           900</td></tr>\n",
       "<tr><td style=\"text-align: left;\">2021-11-15 13:02:00</td><td style=\"text-align: left;\">2021-11-15 13:25:00</td><td style=\"text-align: left;\">                OGP_1438</td><td style=\"text-align: left;\"> 03104260006</td><td style=\"text-align: left;\">          1380</td></tr>\n",
       "<tr><td style=\"text-align: left;\">2021-11-15 13:25:00</td><td style=\"text-align: left;\">2021-11-15 13:55:00</td><td style=\"text-align: left;\">SDSS J094310.12+604559.1</td><td style=\"text-align: left;\"> 00014905001</td><td style=\"text-align: left;\">          1800</td></tr>\n",
       "<tr><td style=\"text-align: left;\">2021-11-15 13:55:00</td><td style=\"text-align: left;\">2021-11-15 14:03:00</td><td style=\"text-align: left;\">SDSS J124511.25+335610.1</td><td style=\"text-align: left;\"> 03110974008</td><td style=\"text-align: left;\">           480</td></tr>\n",
       "<tr><td style=\"text-align: left;\">2021-11-15 14:03:00</td><td style=\"text-align: left;\">2021-11-15 14:28:00</td><td style=\"text-align: left;\">         saa-cold-365-08</td><td style=\"text-align: left;\"> 00075371015</td><td style=\"text-align: left;\">          1500</td></tr>\n",
       "<tr><td style=\"text-align: left;\">2021-11-15 14:28:00</td><td style=\"text-align: left;\">2021-11-15 14:43:00</td><td style=\"text-align: left;\">                OGP_0823</td><td style=\"text-align: left;\"> 03103746006</td><td style=\"text-align: left;\">           900</td></tr>\n",
       "<tr><td style=\"text-align: left;\">2021-11-15 14:43:00</td><td style=\"text-align: left;\">2021-11-15 15:02:00</td><td style=\"text-align: left;\">                OGP_2008</td><td style=\"text-align: left;\"> 03103668007</td><td style=\"text-align: left;\">          1140</td></tr>\n",
       "<tr><td style=\"text-align: left;\">2021-11-15 15:02:00</td><td style=\"text-align: left;\">2021-11-15 15:19:00</td><td style=\"text-align: left;\">                NGC 3516</td><td style=\"text-align: left;\"> 00035462107</td><td style=\"text-align: left;\">          1020</td></tr>\n",
       "<tr><td style=\"text-align: left;\">2021-11-15 15:19:00</td><td style=\"text-align: left;\">2021-11-15 15:41:00</td><td style=\"text-align: left;\">                NGC 3773</td><td style=\"text-align: left;\"> 03110922018</td><td style=\"text-align: left;\">          1320</td></tr>\n",
       "<tr><td style=\"text-align: left;\">2021-11-15 15:41:00</td><td style=\"text-align: left;\">2021-11-15 16:09:00</td><td style=\"text-align: left;\">         saa-cold-302-06</td><td style=\"text-align: left;\"> 00075363014</td><td style=\"text-align: left;\">          1680</td></tr>\n",
       "<tr><td style=\"text-align: left;\">2021-11-15 16:09:00</td><td style=\"text-align: left;\">2021-11-15 16:21:00</td><td style=\"text-align: left;\">                OGP_0823</td><td style=\"text-align: left;\"> 03103746006</td><td style=\"text-align: left;\">           720</td></tr>\n",
       "<tr><td style=\"text-align: left;\">2021-11-15 16:21:00</td><td style=\"text-align: left;\">2021-11-15 16:26:00</td><td style=\"text-align: left;\">           Tycho_200_200</td><td style=\"text-align: left;\"> 00059158043</td><td style=\"text-align: left;\">           300</td></tr>\n",
       "<tr><td style=\"text-align: left;\">2021-11-15 16:26:00</td><td style=\"text-align: left;\">2021-11-15 16:51:00</td><td style=\"text-align: left;\">           Tycho_200_200</td><td style=\"text-align: left;\"> 00059158044</td><td style=\"text-align: left;\">          1500</td></tr>\n",
       "<tr><td style=\"text-align: left;\">2021-11-15 16:51:00</td><td style=\"text-align: left;\">2021-11-15 17:06:00</td><td style=\"text-align: left;\">                OGP_4538</td><td style=\"text-align: left;\"> 03100000015</td><td style=\"text-align: left;\">           900</td></tr>\n",
       "<tr><td style=\"text-align: left;\">2021-11-15 17:06:00</td><td style=\"text-align: left;\">2021-11-15 17:22:00</td><td style=\"text-align: left;\">                NGC 5055</td><td style=\"text-align: left;\"> 03110927024</td><td style=\"text-align: left;\">           960</td></tr>\n",
       "<tr><td style=\"text-align: left;\">2021-11-15 17:22:00</td><td style=\"text-align: left;\">2021-11-15 17:49:00</td><td style=\"text-align: left;\">         saa-cold-318-07</td><td style=\"text-align: left;\"> 00076193006</td><td style=\"text-align: left;\">          1620</td></tr>\n",
       "<tr><td style=\"text-align: left;\">2021-11-15 17:49:00</td><td style=\"text-align: left;\">2021-11-15 18:04:00</td><td style=\"text-align: left;\">                OGP_1228</td><td style=\"text-align: left;\"> 03104275008</td><td style=\"text-align: left;\">           900</td></tr>\n",
       "<tr><td style=\"text-align: left;\">2021-11-15 18:04:00</td><td style=\"text-align: left;\">2021-11-15 18:19:00</td><td style=\"text-align: left;\">                OGP_2486</td><td style=\"text-align: left;\"> 03103737010</td><td style=\"text-align: left;\">           900</td></tr>\n",
       "<tr><td style=\"text-align: left;\">2021-11-15 18:19:00</td><td style=\"text-align: left;\">2021-11-15 18:44:00</td><td style=\"text-align: left;\">                   CDF-N</td><td style=\"text-align: left;\"> 00095928052</td><td style=\"text-align: left;\">          1500</td></tr>\n",
       "<tr><td style=\"text-align: left;\">2021-11-15 18:44:00</td><td style=\"text-align: left;\">2021-11-15 19:04:00</td><td style=\"text-align: left;\">              SGWGS-4472</td><td style=\"text-align: left;\"> 03109263002</td><td style=\"text-align: left;\">          1200</td></tr>\n",
       "<tr><td style=\"text-align: left;\">2021-11-15 19:04:00</td><td style=\"text-align: left;\">2021-11-15 19:28:00</td><td style=\"text-align: left;\">          saa-cold-42-06</td><td style=\"text-align: left;\"> 00074819012</td><td style=\"text-align: left;\">          1440</td></tr>\n",
       "<tr><td style=\"text-align: left;\">2021-11-15 19:28:00</td><td style=\"text-align: left;\">2021-11-15 19:43:00</td><td style=\"text-align: left;\">                OGP_1617</td><td style=\"text-align: left;\"> 03103274004</td><td style=\"text-align: left;\">           900</td></tr>\n",
       "<tr><td style=\"text-align: left;\">2021-11-15 19:43:00</td><td style=\"text-align: left;\">2021-11-15 20:04:00</td><td style=\"text-align: left;\">                OGP_3490</td><td style=\"text-align: left;\"> 03104358008</td><td style=\"text-align: left;\">          1260</td></tr>\n",
       "<tr><td style=\"text-align: left;\">2021-11-15 20:04:00</td><td style=\"text-align: left;\">2021-11-15 20:34:00</td><td style=\"text-align: left;\">                 MRK 477</td><td style=\"text-align: left;\"> 00095968009</td><td style=\"text-align: left;\">          1800</td></tr>\n",
       "<tr><td style=\"text-align: left;\">2021-11-15 20:34:00</td><td style=\"text-align: left;\">2021-11-15 20:46:00</td><td style=\"text-align: left;\">       4FGL J1858.3-1318</td><td style=\"text-align: left;\"> 03110621009</td><td style=\"text-align: left;\">           720</td></tr>\n",
       "<tr><td style=\"text-align: left;\">2021-11-15 20:46:00</td><td style=\"text-align: left;\">2021-11-15 21:08:00</td><td style=\"text-align: left;\">         saa-cold-325-05</td><td style=\"text-align: left;\"> 00076086008</td><td style=\"text-align: left;\">          1320</td></tr>\n",
       "<tr><td style=\"text-align: left;\">2021-11-15 21:08:00</td><td style=\"text-align: left;\">2021-11-15 21:23:00</td><td style=\"text-align: left;\">                OGP_1654</td><td style=\"text-align: left;\"> 03103607006</td><td style=\"text-align: left;\">           900</td></tr>\n",
       "<tr><td style=\"text-align: left;\">2021-11-15 21:23:00</td><td style=\"text-align: left;\">2021-11-15 21:39:00</td><td style=\"text-align: left;\">                OGP_3496</td><td style=\"text-align: left;\"> 03103682006</td><td style=\"text-align: left;\">           960</td></tr>\n",
       "<tr><td style=\"text-align: left;\">2021-11-15 21:39:00</td><td style=\"text-align: left;\">2021-11-15 21:56:00</td><td style=\"text-align: left;\">                 MRK 817</td><td style=\"text-align: left;\"> 00096066221</td><td style=\"text-align: left;\">          1020</td></tr>\n",
       "<tr><td style=\"text-align: left;\">2021-11-15 21:56:00</td><td style=\"text-align: left;\">2021-11-15 22:11:00</td><td style=\"text-align: left;\">     MASER 123408.5+0239</td><td style=\"text-align: left;\"> 00037263002</td><td style=\"text-align: left;\">           900</td></tr>\n",
       "<tr><td style=\"text-align: left;\">2021-11-15 22:11:00</td><td style=\"text-align: left;\">2021-11-15 22:28:00</td><td style=\"text-align: left;\">         RX J1618.1+3619</td><td style=\"text-align: left;\"> 00095902004</td><td style=\"text-align: left;\">          1020</td></tr>\n",
       "<tr><td style=\"text-align: left;\">2021-11-15 22:28:00</td><td style=\"text-align: left;\">2021-11-15 22:47:00</td><td style=\"text-align: left;\">          saa-cold-237-9</td><td style=\"text-align: left;\"> 00074161027</td><td style=\"text-align: left;\">          1140</td></tr>\n",
       "<tr><td style=\"text-align: left;\">2021-11-15 22:47:00</td><td style=\"text-align: left;\">2021-11-15 22:57:00</td><td style=\"text-align: left;\">                OGP_2348</td><td style=\"text-align: left;\"> 03103098003</td><td style=\"text-align: left;\">           600</td></tr>\n",
       "<tr><td style=\"text-align: left;\">2021-11-15 22:57:00</td><td style=\"text-align: left;\">2021-11-15 23:10:00</td><td style=\"text-align: left;\">                AT2018zd</td><td style=\"text-align: left;\"> 00010592020</td><td style=\"text-align: left;\">           780</td></tr>\n",
       "<tr><td style=\"text-align: left;\">2021-11-15 23:10:00</td><td style=\"text-align: left;\">2021-11-15 23:15:00</td><td style=\"text-align: left;\">                OGP_3935</td><td style=\"text-align: left;\"> 03103930010</td><td style=\"text-align: left;\">           300</td></tr>\n",
       "<tr><td style=\"text-align: left;\">2021-11-15 23:15:00</td><td style=\"text-align: left;\">2021-11-15 23:45:00</td><td style=\"text-align: left;\">              J1348+2650</td><td style=\"text-align: left;\"> 00014800001</td><td style=\"text-align: left;\">          1800</td></tr>\n",
       "<tr><td style=\"text-align: left;\">2021-11-15 23:45:00</td><td style=\"text-align: left;\">2021-11-16 00:00:00</td><td style=\"text-align: left;\">       4FGL J1834.7-0724</td><td style=\"text-align: left;\"> 03109860006</td><td style=\"text-align: left;\">           900</td></tr>\n",
       "</tbody>\n",
       "</table>"
      ],
      "text/plain": [
       "<+---------------------+---------------------+--------------------------+-------------+--------------+\n",
       "|               Begin |                 End |                     Name |  Obs Number | Exposure (s) |\n",
       "+---------------------+---------------------+--------------------------+-------------+--------------+\n",
       "| 2021-11-14 23:47:00 | 2021-11-15 00:02:00 |        4FGL J1840.4-1139 | 03109925005 |          900 |\n",
       "| 2021-11-15 00:02:00 | 2021-11-15 00:17:00 |               SGWGS-2856 | 03107647009 |          900 |\n",
       "| 2021-11-15 00:17:00 | 2021-11-15 00:31:00 |          saa-cold-357-08 | 00075098022 |          840 |\n",
       "| 2021-11-15 00:31:00 | 2021-11-15 00:43:00 |                IC 10 X-1 | 00030835119 |          720 |\n",
       "| 2021-11-15 00:43:00 | 2021-11-15 00:57:00 |    1RXS_J065558.4+290731 | 00049293004 |          840 |\n",
       "| 2021-11-15 00:57:00 | 2021-11-15 01:27:00 |                  MRK 477 | 00095968009 |         1800 |\n",
       "| 2021-11-15 01:27:00 | 2021-11-15 01:36:00 |        4FGL J1853.8-1107 | 03110350007 |          540 |\n",
       "| 2021-11-15 01:36:00 | 2021-11-15 01:42:00 |           PSR J1835-1106 | 00036698006 |          360 |\n",
       "| 2021-11-15 01:42:00 | 2021-11-15 02:00:00 |               SGWGS-2397 | 03107188004 |         1080 |\n",
       "| 2021-11-15 02:00:00 | 2021-11-15 02:26:00 |                  MRK 590 | 00095662051 |         1560 |\n",
       "| 2021-11-15 02:26:00 | 2021-11-15 02:31:00 |                 OGP_4315 | 03102899010 |          300 |\n",
       "| 2021-11-15 02:31:00 | 2021-11-15 02:36:00 |                 OGP_4275 | 03103184007 |          300 |\n",
       "| 2021-11-15 02:36:00 | 2021-11-15 03:03:00 |                  MRK 477 | 00095968009 |         1620 |\n",
       "| 2021-11-15 03:03:00 | 2021-11-15 03:18:00 |        4FGL J1838.4-0545 | 03109816006 |          900 |\n",
       "| 2021-11-15 03:18:00 | 2021-11-15 03:23:00 |        4FGL J1840.4-1705 | 03109934005 |          300 |\n",
       "| 2021-11-15 03:23:00 | 2021-11-15 03:40:00 |            XTE J1946+274 | 00031888017 |         1020 |\n",
       "| 2021-11-15 03:40:00 | 2021-11-15 03:55:00 |                SN2021yky | 00014868005 |          900 |\n",
       "| 2021-11-15 03:55:00 | 2021-11-15 04:09:00 |                 AT2018zd | 00010592020 |          840 |\n",
       "| 2021-11-15 04:09:00 | 2021-11-15 04:26:00 |                  MRK 477 | 00095968009 |         1020 |\n",
       "| 2021-11-15 04:26:00 | 2021-11-15 04:40:00 |             SBS 1527+564 | 00095899002 |          840 |\n",
       "| 2021-11-15 04:40:00 | 2021-11-15 05:10:00 |                  HR 6819 | 00014894002 |         1800 |\n",
       "| 2021-11-15 05:10:00 | 2021-11-15 05:21:00 |                  MRK 590 | 00095662051 |          660 |\n",
       "| 2021-11-15 05:21:00 | 2021-11-15 05:38:00 |              ASASSN-20qc | 00014062044 |         1020 |\n",
       "| 2021-11-15 05:38:00 | 2021-11-15 05:44:00 |                 OGP_3826 | 03104682003 |          360 |\n",
       "| 2021-11-15 05:44:00 | 2021-11-15 06:14:00 |                  MRK 477 | 00095968009 |         1800 |\n",
       "| 2021-11-15 06:14:00 | 2021-11-15 06:29:00 |     3HSPJ171248.8+293116 | 03110957018 |          900 |\n",
       "| 2021-11-15 06:29:00 | 2021-11-15 06:49:00 |                 OGP_0437 | 03103215007 |         1200 |\n",
       "| 2021-11-15 06:49:00 | 2021-11-15 07:06:00 |               ESO 243-49 | 00014249030 |         1020 |\n",
       "| 2021-11-15 07:06:00 | 2021-11-15 07:13:00 |                 OGP_3477 | 03104379017 |          420 |\n",
       "| 2021-11-15 07:13:00 | 2021-11-15 07:42:00 |                  Mrk 279 | 00037591113 |         1740 |\n",
       "| 2021-11-15 07:42:00 | 2021-11-15 07:57:00 | SDSS J135625.55+251523.7 | 00046178007 |          900 |\n",
       "| 2021-11-15 07:57:00 | 2021-11-15 08:12:00 |                 OGP_0086 | 03103176005 |          900 |\n",
       "| 2021-11-15 08:12:00 | 2021-11-15 08:25:00 |                 OGP_1228 | 03104275008 |          780 |\n",
       "| 2021-11-15 08:25:00 | 2021-11-15 08:55:00 |              PKS 0346-27 | 00038373044 |         1800 |\n",
       "| 2021-11-15 08:55:00 | 2021-11-15 09:25:00 |                  MRK 477 | 00095968009 |         1800 |\n",
       "| 2021-11-15 09:25:00 | 2021-11-15 09:40:00 |        4FGL J1844.8-3248 | 03109743009 |          900 |\n",
       "| 2021-11-15 09:40:00 | 2021-11-15 10:00:00 |                 OGP_0437 | 03103215007 |         1200 |\n",
       "| 2021-11-15 10:00:00 | 2021-11-15 10:30:00 |              ESO253-G003 | 00013499111 |         1800 |\n",
       "| 2021-11-15 10:30:00 | 2021-11-15 10:47:00 |                 NGC 3265 | 03110932011 |         1020 |\n",
       "| 2021-11-15 10:47:00 | 2021-11-15 10:59:00 |          saa-cold-365-08 | 00075371015 |          720 |\n",
       "| 2021-11-15 10:59:00 | 2021-11-15 11:14:00 |        4FGL J1901.5-2208 | 03110133013 |          900 |\n",
       "| 2021-11-15 11:14:00 | 2021-11-15 11:35:00 |               SGWGS-2391 | 03107182010 |         1260 |\n",
       "| 2021-11-15 11:35:00 | 2021-11-15 11:47:00 |              ESO253-G003 | 00013499111 |          720 |\n",
       "| 2021-11-15 11:47:00 | 2021-11-15 11:52:00 |                 OGP_2785 | 03104433010 |          300 |\n",
       "| 2021-11-15 11:52:00 | 2021-11-15 12:17:00 |                 AT2018zd | 00010592020 |         1500 |\n",
       "| 2021-11-15 12:17:00 | 2021-11-15 12:24:00 |                 NGC 4321 | 03110933008 |          420 |\n",
       "| 2021-11-15 12:24:00 | 2021-11-15 12:40:00 |          saa-cold-241-08 | 00075971004 |          960 |\n",
       "| 2021-11-15 12:40:00 | 2021-11-15 12:47:00 |          saa-cold-357-08 | 00075098022 |          420 |\n",
       "| 2021-11-15 12:47:00 | 2021-11-15 13:02:00 |                 OGP_0159 | 03103728007 |          900 |\n",
       "| 2021-11-15 13:02:00 | 2021-11-15 13:25:00 |                 OGP_1438 | 03104260006 |         1380 |\n",
       "| 2021-11-15 13:25:00 | 2021-11-15 13:55:00 | SDSS J094310.12+604559.1 | 00014905001 |         1800 |\n",
       "| 2021-11-15 13:55:00 | 2021-11-15 14:03:00 | SDSS J124511.25+335610.1 | 03110974008 |          480 |\n",
       "| 2021-11-15 14:03:00 | 2021-11-15 14:28:00 |          saa-cold-365-08 | 00075371015 |         1500 |\n",
       "| 2021-11-15 14:28:00 | 2021-11-15 14:43:00 |                 OGP_0823 | 03103746006 |          900 |\n",
       "| 2021-11-15 14:43:00 | 2021-11-15 15:02:00 |                 OGP_2008 | 03103668007 |         1140 |\n",
       "| 2021-11-15 15:02:00 | 2021-11-15 15:19:00 |                 NGC 3516 | 00035462107 |         1020 |\n",
       "| 2021-11-15 15:19:00 | 2021-11-15 15:41:00 |                 NGC 3773 | 03110922018 |         1320 |\n",
       "| 2021-11-15 15:41:00 | 2021-11-15 16:09:00 |          saa-cold-302-06 | 00075363014 |         1680 |\n",
       "| 2021-11-15 16:09:00 | 2021-11-15 16:21:00 |                 OGP_0823 | 03103746006 |          720 |\n",
       "| 2021-11-15 16:21:00 | 2021-11-15 16:26:00 |            Tycho_200_200 | 00059158043 |          300 |\n",
       "| 2021-11-15 16:26:00 | 2021-11-15 16:51:00 |            Tycho_200_200 | 00059158044 |         1500 |\n",
       "| 2021-11-15 16:51:00 | 2021-11-15 17:06:00 |                 OGP_4538 | 03100000015 |          900 |\n",
       "| 2021-11-15 17:06:00 | 2021-11-15 17:22:00 |                 NGC 5055 | 03110927024 |          960 |\n",
       "| 2021-11-15 17:22:00 | 2021-11-15 17:49:00 |          saa-cold-318-07 | 00076193006 |         1620 |\n",
       "| 2021-11-15 17:49:00 | 2021-11-15 18:04:00 |                 OGP_1228 | 03104275008 |          900 |\n",
       "| 2021-11-15 18:04:00 | 2021-11-15 18:19:00 |                 OGP_2486 | 03103737010 |          900 |\n",
       "| 2021-11-15 18:19:00 | 2021-11-15 18:44:00 |                    CDF-N | 00095928052 |         1500 |\n",
       "| 2021-11-15 18:44:00 | 2021-11-15 19:04:00 |               SGWGS-4472 | 03109263002 |         1200 |\n",
       "| 2021-11-15 19:04:00 | 2021-11-15 19:28:00 |           saa-cold-42-06 | 00074819012 |         1440 |\n",
       "| 2021-11-15 19:28:00 | 2021-11-15 19:43:00 |                 OGP_1617 | 03103274004 |          900 |\n",
       "| 2021-11-15 19:43:00 | 2021-11-15 20:04:00 |                 OGP_3490 | 03104358008 |         1260 |\n",
       "| 2021-11-15 20:04:00 | 2021-11-15 20:34:00 |                  MRK 477 | 00095968009 |         1800 |\n",
       "| 2021-11-15 20:34:00 | 2021-11-15 20:46:00 |        4FGL J1858.3-1318 | 03110621009 |          720 |\n",
       "| 2021-11-15 20:46:00 | 2021-11-15 21:08:00 |          saa-cold-325-05 | 00076086008 |         1320 |\n",
       "| 2021-11-15 21:08:00 | 2021-11-15 21:23:00 |                 OGP_1654 | 03103607006 |          900 |\n",
       "| 2021-11-15 21:23:00 | 2021-11-15 21:39:00 |                 OGP_3496 | 03103682006 |          960 |\n",
       "| 2021-11-15 21:39:00 | 2021-11-15 21:56:00 |                  MRK 817 | 00096066221 |         1020 |\n",
       "| 2021-11-15 21:56:00 | 2021-11-15 22:11:00 |      MASER 123408.5+0239 | 00037263002 |          900 |\n",
       "| 2021-11-15 22:11:00 | 2021-11-15 22:28:00 |          RX J1618.1+3619 | 00095902004 |         1020 |\n",
       "| 2021-11-15 22:28:00 | 2021-11-15 22:47:00 |           saa-cold-237-9 | 00074161027 |         1140 |\n",
       "| 2021-11-15 22:47:00 | 2021-11-15 22:57:00 |                 OGP_2348 | 03103098003 |          600 |\n",
       "| 2021-11-15 22:57:00 | 2021-11-15 23:10:00 |                 AT2018zd | 00010592020 |          780 |\n",
       "| 2021-11-15 23:10:00 | 2021-11-15 23:15:00 |                 OGP_3935 | 03103930010 |          300 |\n",
       "| 2021-11-15 23:15:00 | 2021-11-15 23:45:00 |               J1348+2650 | 00014800001 |         1800 |\n",
       "| 2021-11-15 23:45:00 | 2021-11-16 00:00:00 |        4FGL J1834.7-0724 | 03109860006 |          900 |\n",
       "+---------------------+---------------------+--------------------------+-------------+--------------+>"
      ]
     },
     "execution_count": 7,
     "metadata": {},
     "output_type": "execute_result"
    }
   ],
   "source": [
    "dayplan = Swift_PlanQuery(username,shared_secret,begin=plan.ppstmax-timedelta(days=1),end=plan.ppstmax)\n",
    "dayplan"
   ]
  },
  {
   "cell_type": "markdown",
   "metadata": {},
   "source": [
    "That's a lot of targets! Note that like Swift_ObsQuery it's showing you all the individual snapshots during the day. If you want to group these into observations, you can do that. Remember the `observations` method returns a dictionary, with obsid as the key, and the total observation details as the value. You can display it as a table in Jupyter Notebooks simply:"
   ]
  },
  {
   "cell_type": "code",
   "execution_count": 8,
   "metadata": {
    "scrolled": false
   },
   "outputs": [
    {
     "data": {
      "text/html": [
       "<table>\n",
       "<thead>\n",
       "<tr><th style=\"text-align: left;\">              Begin</th><th style=\"text-align: left;\">                End</th><th style=\"text-align: left;\">                    Name</th><th style=\"text-align: left;\">  Obs Number</th><th style=\"text-align: left;\">  Exposure (s)</th><th style=\"text-align: left;\">  Slewtime (s)</th></tr>\n",
       "</thead>\n",
       "<tbody>\n",
       "<tr><td style=\"text-align: left;\">2021-11-14 23:47:00</td><td style=\"text-align: left;\">2021-11-15 00:02:00</td><td style=\"text-align: left;\">       4FGL J1840.4-1139</td><td style=\"text-align: left;\"> 03109925005</td><td style=\"text-align: left;\">           900</td><td style=\"text-align: left;\">             0</td></tr>\n",
       "<tr><td style=\"text-align: left;\">2021-11-15 00:02:00</td><td style=\"text-align: left;\">2021-11-15 00:17:00</td><td style=\"text-align: left;\">              SGWGS-2856</td><td style=\"text-align: left;\"> 03107647009</td><td style=\"text-align: left;\">           900</td><td style=\"text-align: left;\">             0</td></tr>\n",
       "<tr><td style=\"text-align: left;\">2021-11-15 00:17:00</td><td style=\"text-align: left;\">2021-11-15 12:47:00</td><td style=\"text-align: left;\">         saa-cold-357-08</td><td style=\"text-align: left;\"> 00075098022</td><td style=\"text-align: left;\">          1260</td><td style=\"text-align: left;\">             0</td></tr>\n",
       "<tr><td style=\"text-align: left;\">2021-11-15 00:31:00</td><td style=\"text-align: left;\">2021-11-15 00:43:00</td><td style=\"text-align: left;\">               IC 10 X-1</td><td style=\"text-align: left;\"> 00030835119</td><td style=\"text-align: left;\">           720</td><td style=\"text-align: left;\">             0</td></tr>\n",
       "<tr><td style=\"text-align: left;\">2021-11-15 00:43:00</td><td style=\"text-align: left;\">2021-11-15 00:57:00</td><td style=\"text-align: left;\">   1RXS_J065558.4+290731</td><td style=\"text-align: left;\"> 00049293004</td><td style=\"text-align: left;\">           840</td><td style=\"text-align: left;\">             0</td></tr>\n",
       "<tr><td style=\"text-align: left;\">2021-11-15 00:57:00</td><td style=\"text-align: left;\">2021-11-15 20:34:00</td><td style=\"text-align: left;\">                 MRK 477</td><td style=\"text-align: left;\"> 00095968009</td><td style=\"text-align: left;\">          9840</td><td style=\"text-align: left;\">             0</td></tr>\n",
       "<tr><td style=\"text-align: left;\">2021-11-15 01:27:00</td><td style=\"text-align: left;\">2021-11-15 01:36:00</td><td style=\"text-align: left;\">       4FGL J1853.8-1107</td><td style=\"text-align: left;\"> 03110350007</td><td style=\"text-align: left;\">           540</td><td style=\"text-align: left;\">             0</td></tr>\n",
       "<tr><td style=\"text-align: left;\">2021-11-15 01:36:00</td><td style=\"text-align: left;\">2021-11-15 01:42:00</td><td style=\"text-align: left;\">          PSR J1835-1106</td><td style=\"text-align: left;\"> 00036698006</td><td style=\"text-align: left;\">           360</td><td style=\"text-align: left;\">             0</td></tr>\n",
       "<tr><td style=\"text-align: left;\">2021-11-15 01:42:00</td><td style=\"text-align: left;\">2021-11-15 02:00:00</td><td style=\"text-align: left;\">              SGWGS-2397</td><td style=\"text-align: left;\"> 03107188004</td><td style=\"text-align: left;\">          1080</td><td style=\"text-align: left;\">             0</td></tr>\n",
       "<tr><td style=\"text-align: left;\">2021-11-15 02:00:00</td><td style=\"text-align: left;\">2021-11-15 05:21:00</td><td style=\"text-align: left;\">                 MRK 590</td><td style=\"text-align: left;\"> 00095662051</td><td style=\"text-align: left;\">          2220</td><td style=\"text-align: left;\">             0</td></tr>\n",
       "<tr><td style=\"text-align: left;\">2021-11-15 02:26:00</td><td style=\"text-align: left;\">2021-11-15 02:31:00</td><td style=\"text-align: left;\">                OGP_4315</td><td style=\"text-align: left;\"> 03102899010</td><td style=\"text-align: left;\">           300</td><td style=\"text-align: left;\">             0</td></tr>\n",
       "<tr><td style=\"text-align: left;\">2021-11-15 02:31:00</td><td style=\"text-align: left;\">2021-11-15 02:36:00</td><td style=\"text-align: left;\">                OGP_4275</td><td style=\"text-align: left;\"> 03103184007</td><td style=\"text-align: left;\">           300</td><td style=\"text-align: left;\">             0</td></tr>\n",
       "<tr><td style=\"text-align: left;\">2021-11-15 03:03:00</td><td style=\"text-align: left;\">2021-11-15 03:18:00</td><td style=\"text-align: left;\">       4FGL J1838.4-0545</td><td style=\"text-align: left;\"> 03109816006</td><td style=\"text-align: left;\">           900</td><td style=\"text-align: left;\">             0</td></tr>\n",
       "<tr><td style=\"text-align: left;\">2021-11-15 03:18:00</td><td style=\"text-align: left;\">2021-11-15 03:23:00</td><td style=\"text-align: left;\">       4FGL J1840.4-1705</td><td style=\"text-align: left;\"> 03109934005</td><td style=\"text-align: left;\">           300</td><td style=\"text-align: left;\">             0</td></tr>\n",
       "<tr><td style=\"text-align: left;\">2021-11-15 03:23:00</td><td style=\"text-align: left;\">2021-11-15 03:40:00</td><td style=\"text-align: left;\">           XTE J1946+274</td><td style=\"text-align: left;\"> 00031888017</td><td style=\"text-align: left;\">          1020</td><td style=\"text-align: left;\">             0</td></tr>\n",
       "<tr><td style=\"text-align: left;\">2021-11-15 03:40:00</td><td style=\"text-align: left;\">2021-11-15 03:55:00</td><td style=\"text-align: left;\">               SN2021yky</td><td style=\"text-align: left;\"> 00014868005</td><td style=\"text-align: left;\">           900</td><td style=\"text-align: left;\">             0</td></tr>\n",
       "<tr><td style=\"text-align: left;\">2021-11-15 03:55:00</td><td style=\"text-align: left;\">2021-11-15 23:10:00</td><td style=\"text-align: left;\">                AT2018zd</td><td style=\"text-align: left;\"> 00010592020</td><td style=\"text-align: left;\">          3120</td><td style=\"text-align: left;\">             0</td></tr>\n",
       "<tr><td style=\"text-align: left;\">2021-11-15 04:26:00</td><td style=\"text-align: left;\">2021-11-15 04:40:00</td><td style=\"text-align: left;\">            SBS 1527+564</td><td style=\"text-align: left;\"> 00095899002</td><td style=\"text-align: left;\">           840</td><td style=\"text-align: left;\">             0</td></tr>\n",
       "<tr><td style=\"text-align: left;\">2021-11-15 04:40:00</td><td style=\"text-align: left;\">2021-11-15 05:10:00</td><td style=\"text-align: left;\">                 HR 6819</td><td style=\"text-align: left;\"> 00014894002</td><td style=\"text-align: left;\">          1800</td><td style=\"text-align: left;\">             0</td></tr>\n",
       "<tr><td style=\"text-align: left;\">2021-11-15 05:21:00</td><td style=\"text-align: left;\">2021-11-15 05:38:00</td><td style=\"text-align: left;\">             ASASSN-20qc</td><td style=\"text-align: left;\"> 00014062044</td><td style=\"text-align: left;\">          1020</td><td style=\"text-align: left;\">             0</td></tr>\n",
       "<tr><td style=\"text-align: left;\">2021-11-15 05:38:00</td><td style=\"text-align: left;\">2021-11-15 05:44:00</td><td style=\"text-align: left;\">                OGP_3826</td><td style=\"text-align: left;\"> 03104682003</td><td style=\"text-align: left;\">           360</td><td style=\"text-align: left;\">             0</td></tr>\n",
       "<tr><td style=\"text-align: left;\">2021-11-15 06:14:00</td><td style=\"text-align: left;\">2021-11-15 06:29:00</td><td style=\"text-align: left;\">    3HSPJ171248.8+293116</td><td style=\"text-align: left;\"> 03110957018</td><td style=\"text-align: left;\">           900</td><td style=\"text-align: left;\">             0</td></tr>\n",
       "<tr><td style=\"text-align: left;\">2021-11-15 06:29:00</td><td style=\"text-align: left;\">2021-11-15 10:00:00</td><td style=\"text-align: left;\">                OGP_0437</td><td style=\"text-align: left;\"> 03103215007</td><td style=\"text-align: left;\">          2400</td><td style=\"text-align: left;\">             0</td></tr>\n",
       "<tr><td style=\"text-align: left;\">2021-11-15 06:49:00</td><td style=\"text-align: left;\">2021-11-15 07:06:00</td><td style=\"text-align: left;\">              ESO 243-49</td><td style=\"text-align: left;\"> 00014249030</td><td style=\"text-align: left;\">          1020</td><td style=\"text-align: left;\">             0</td></tr>\n",
       "<tr><td style=\"text-align: left;\">2021-11-15 07:06:00</td><td style=\"text-align: left;\">2021-11-15 07:13:00</td><td style=\"text-align: left;\">                OGP_3477</td><td style=\"text-align: left;\"> 03104379017</td><td style=\"text-align: left;\">           420</td><td style=\"text-align: left;\">             0</td></tr>\n",
       "<tr><td style=\"text-align: left;\">2021-11-15 07:13:00</td><td style=\"text-align: left;\">2021-11-15 07:42:00</td><td style=\"text-align: left;\">                 Mrk 279</td><td style=\"text-align: left;\"> 00037591113</td><td style=\"text-align: left;\">          1740</td><td style=\"text-align: left;\">             0</td></tr>\n",
       "<tr><td style=\"text-align: left;\">2021-11-15 07:42:00</td><td style=\"text-align: left;\">2021-11-15 07:57:00</td><td style=\"text-align: left;\">SDSS J135625.55+251523.7</td><td style=\"text-align: left;\"> 00046178007</td><td style=\"text-align: left;\">           900</td><td style=\"text-align: left;\">             0</td></tr>\n",
       "<tr><td style=\"text-align: left;\">2021-11-15 07:57:00</td><td style=\"text-align: left;\">2021-11-15 08:12:00</td><td style=\"text-align: left;\">                OGP_0086</td><td style=\"text-align: left;\"> 03103176005</td><td style=\"text-align: left;\">           900</td><td style=\"text-align: left;\">             0</td></tr>\n",
       "<tr><td style=\"text-align: left;\">2021-11-15 08:12:00</td><td style=\"text-align: left;\">2021-11-15 18:04:00</td><td style=\"text-align: left;\">                OGP_1228</td><td style=\"text-align: left;\"> 03104275008</td><td style=\"text-align: left;\">          1680</td><td style=\"text-align: left;\">             0</td></tr>\n",
       "<tr><td style=\"text-align: left;\">2021-11-15 08:25:00</td><td style=\"text-align: left;\">2021-11-15 08:55:00</td><td style=\"text-align: left;\">             PKS 0346-27</td><td style=\"text-align: left;\"> 00038373044</td><td style=\"text-align: left;\">          1800</td><td style=\"text-align: left;\">             0</td></tr>\n",
       "<tr><td style=\"text-align: left;\">2021-11-15 09:25:00</td><td style=\"text-align: left;\">2021-11-15 09:40:00</td><td style=\"text-align: left;\">       4FGL J1844.8-3248</td><td style=\"text-align: left;\"> 03109743009</td><td style=\"text-align: left;\">           900</td><td style=\"text-align: left;\">             0</td></tr>\n",
       "<tr><td style=\"text-align: left;\">2021-11-15 10:00:00</td><td style=\"text-align: left;\">2021-11-15 11:47:00</td><td style=\"text-align: left;\">             ESO253-G003</td><td style=\"text-align: left;\"> 00013499111</td><td style=\"text-align: left;\">          2520</td><td style=\"text-align: left;\">             0</td></tr>\n",
       "<tr><td style=\"text-align: left;\">2021-11-15 10:30:00</td><td style=\"text-align: left;\">2021-11-15 10:47:00</td><td style=\"text-align: left;\">                NGC 3265</td><td style=\"text-align: left;\"> 03110932011</td><td style=\"text-align: left;\">          1020</td><td style=\"text-align: left;\">             0</td></tr>\n",
       "<tr><td style=\"text-align: left;\">2021-11-15 10:47:00</td><td style=\"text-align: left;\">2021-11-15 14:28:00</td><td style=\"text-align: left;\">         saa-cold-365-08</td><td style=\"text-align: left;\"> 00075371015</td><td style=\"text-align: left;\">          2220</td><td style=\"text-align: left;\">             0</td></tr>\n",
       "<tr><td style=\"text-align: left;\">2021-11-15 10:59:00</td><td style=\"text-align: left;\">2021-11-15 11:14:00</td><td style=\"text-align: left;\">       4FGL J1901.5-2208</td><td style=\"text-align: left;\"> 03110133013</td><td style=\"text-align: left;\">           900</td><td style=\"text-align: left;\">             0</td></tr>\n",
       "<tr><td style=\"text-align: left;\">2021-11-15 11:14:00</td><td style=\"text-align: left;\">2021-11-15 11:35:00</td><td style=\"text-align: left;\">              SGWGS-2391</td><td style=\"text-align: left;\"> 03107182010</td><td style=\"text-align: left;\">          1260</td><td style=\"text-align: left;\">             0</td></tr>\n",
       "<tr><td style=\"text-align: left;\">2021-11-15 11:47:00</td><td style=\"text-align: left;\">2021-11-15 11:52:00</td><td style=\"text-align: left;\">                OGP_2785</td><td style=\"text-align: left;\"> 03104433010</td><td style=\"text-align: left;\">           300</td><td style=\"text-align: left;\">             0</td></tr>\n",
       "<tr><td style=\"text-align: left;\">2021-11-15 12:17:00</td><td style=\"text-align: left;\">2021-11-15 12:24:00</td><td style=\"text-align: left;\">                NGC 4321</td><td style=\"text-align: left;\"> 03110933008</td><td style=\"text-align: left;\">           420</td><td style=\"text-align: left;\">             0</td></tr>\n",
       "<tr><td style=\"text-align: left;\">2021-11-15 12:24:00</td><td style=\"text-align: left;\">2021-11-15 12:40:00</td><td style=\"text-align: left;\">         saa-cold-241-08</td><td style=\"text-align: left;\"> 00075971004</td><td style=\"text-align: left;\">           960</td><td style=\"text-align: left;\">             0</td></tr>\n",
       "<tr><td style=\"text-align: left;\">2021-11-15 12:47:00</td><td style=\"text-align: left;\">2021-11-15 13:02:00</td><td style=\"text-align: left;\">                OGP_0159</td><td style=\"text-align: left;\"> 03103728007</td><td style=\"text-align: left;\">           900</td><td style=\"text-align: left;\">             0</td></tr>\n",
       "<tr><td style=\"text-align: left;\">2021-11-15 13:02:00</td><td style=\"text-align: left;\">2021-11-15 13:25:00</td><td style=\"text-align: left;\">                OGP_1438</td><td style=\"text-align: left;\"> 03104260006</td><td style=\"text-align: left;\">          1380</td><td style=\"text-align: left;\">             0</td></tr>\n",
       "<tr><td style=\"text-align: left;\">2021-11-15 13:25:00</td><td style=\"text-align: left;\">2021-11-15 13:55:00</td><td style=\"text-align: left;\">SDSS J094310.12+604559.1</td><td style=\"text-align: left;\"> 00014905001</td><td style=\"text-align: left;\">          1800</td><td style=\"text-align: left;\">             0</td></tr>\n",
       "<tr><td style=\"text-align: left;\">2021-11-15 13:55:00</td><td style=\"text-align: left;\">2021-11-15 14:03:00</td><td style=\"text-align: left;\">SDSS J124511.25+335610.1</td><td style=\"text-align: left;\"> 03110974008</td><td style=\"text-align: left;\">           480</td><td style=\"text-align: left;\">             0</td></tr>\n",
       "<tr><td style=\"text-align: left;\">2021-11-15 14:28:00</td><td style=\"text-align: left;\">2021-11-15 16:21:00</td><td style=\"text-align: left;\">                OGP_0823</td><td style=\"text-align: left;\"> 03103746006</td><td style=\"text-align: left;\">          1620</td><td style=\"text-align: left;\">             0</td></tr>\n",
       "<tr><td style=\"text-align: left;\">2021-11-15 14:43:00</td><td style=\"text-align: left;\">2021-11-15 15:02:00</td><td style=\"text-align: left;\">                OGP_2008</td><td style=\"text-align: left;\"> 03103668007</td><td style=\"text-align: left;\">          1140</td><td style=\"text-align: left;\">             0</td></tr>\n",
       "<tr><td style=\"text-align: left;\">2021-11-15 15:02:00</td><td style=\"text-align: left;\">2021-11-15 15:19:00</td><td style=\"text-align: left;\">                NGC 3516</td><td style=\"text-align: left;\"> 00035462107</td><td style=\"text-align: left;\">          1020</td><td style=\"text-align: left;\">             0</td></tr>\n",
       "<tr><td style=\"text-align: left;\">2021-11-15 15:19:00</td><td style=\"text-align: left;\">2021-11-15 15:41:00</td><td style=\"text-align: left;\">                NGC 3773</td><td style=\"text-align: left;\"> 03110922018</td><td style=\"text-align: left;\">          1320</td><td style=\"text-align: left;\">             0</td></tr>\n",
       "<tr><td style=\"text-align: left;\">2021-11-15 15:41:00</td><td style=\"text-align: left;\">2021-11-15 16:09:00</td><td style=\"text-align: left;\">         saa-cold-302-06</td><td style=\"text-align: left;\"> 00075363014</td><td style=\"text-align: left;\">          1680</td><td style=\"text-align: left;\">             0</td></tr>\n",
       "<tr><td style=\"text-align: left;\">2021-11-15 16:21:00</td><td style=\"text-align: left;\">2021-11-15 16:26:00</td><td style=\"text-align: left;\">           Tycho_200_200</td><td style=\"text-align: left;\"> 00059158043</td><td style=\"text-align: left;\">           300</td><td style=\"text-align: left;\">             0</td></tr>\n",
       "<tr><td style=\"text-align: left;\">2021-11-15 16:26:00</td><td style=\"text-align: left;\">2021-11-15 16:51:00</td><td style=\"text-align: left;\">           Tycho_200_200</td><td style=\"text-align: left;\"> 00059158044</td><td style=\"text-align: left;\">          1500</td><td style=\"text-align: left;\">             0</td></tr>\n",
       "<tr><td style=\"text-align: left;\">2021-11-15 16:51:00</td><td style=\"text-align: left;\">2021-11-15 17:06:00</td><td style=\"text-align: left;\">                OGP_4538</td><td style=\"text-align: left;\"> 03100000015</td><td style=\"text-align: left;\">           900</td><td style=\"text-align: left;\">             0</td></tr>\n",
       "<tr><td style=\"text-align: left;\">2021-11-15 17:06:00</td><td style=\"text-align: left;\">2021-11-15 17:22:00</td><td style=\"text-align: left;\">                NGC 5055</td><td style=\"text-align: left;\"> 03110927024</td><td style=\"text-align: left;\">           960</td><td style=\"text-align: left;\">             0</td></tr>\n",
       "<tr><td style=\"text-align: left;\">2021-11-15 17:22:00</td><td style=\"text-align: left;\">2021-11-15 17:49:00</td><td style=\"text-align: left;\">         saa-cold-318-07</td><td style=\"text-align: left;\"> 00076193006</td><td style=\"text-align: left;\">          1620</td><td style=\"text-align: left;\">             0</td></tr>\n",
       "<tr><td style=\"text-align: left;\">2021-11-15 18:04:00</td><td style=\"text-align: left;\">2021-11-15 18:19:00</td><td style=\"text-align: left;\">                OGP_2486</td><td style=\"text-align: left;\"> 03103737010</td><td style=\"text-align: left;\">           900</td><td style=\"text-align: left;\">             0</td></tr>\n",
       "<tr><td style=\"text-align: left;\">2021-11-15 18:19:00</td><td style=\"text-align: left;\">2021-11-15 18:44:00</td><td style=\"text-align: left;\">                   CDF-N</td><td style=\"text-align: left;\"> 00095928052</td><td style=\"text-align: left;\">          1500</td><td style=\"text-align: left;\">             0</td></tr>\n",
       "<tr><td style=\"text-align: left;\">2021-11-15 18:44:00</td><td style=\"text-align: left;\">2021-11-15 19:04:00</td><td style=\"text-align: left;\">              SGWGS-4472</td><td style=\"text-align: left;\"> 03109263002</td><td style=\"text-align: left;\">          1200</td><td style=\"text-align: left;\">             0</td></tr>\n",
       "<tr><td style=\"text-align: left;\">2021-11-15 19:04:00</td><td style=\"text-align: left;\">2021-11-15 19:28:00</td><td style=\"text-align: left;\">          saa-cold-42-06</td><td style=\"text-align: left;\"> 00074819012</td><td style=\"text-align: left;\">          1440</td><td style=\"text-align: left;\">             0</td></tr>\n",
       "<tr><td style=\"text-align: left;\">2021-11-15 19:28:00</td><td style=\"text-align: left;\">2021-11-15 19:43:00</td><td style=\"text-align: left;\">                OGP_1617</td><td style=\"text-align: left;\"> 03103274004</td><td style=\"text-align: left;\">           900</td><td style=\"text-align: left;\">             0</td></tr>\n",
       "<tr><td style=\"text-align: left;\">2021-11-15 19:43:00</td><td style=\"text-align: left;\">2021-11-15 20:04:00</td><td style=\"text-align: left;\">                OGP_3490</td><td style=\"text-align: left;\"> 03104358008</td><td style=\"text-align: left;\">          1260</td><td style=\"text-align: left;\">             0</td></tr>\n",
       "<tr><td style=\"text-align: left;\">2021-11-15 20:34:00</td><td style=\"text-align: left;\">2021-11-15 20:46:00</td><td style=\"text-align: left;\">       4FGL J1858.3-1318</td><td style=\"text-align: left;\"> 03110621009</td><td style=\"text-align: left;\">           720</td><td style=\"text-align: left;\">             0</td></tr>\n",
       "<tr><td style=\"text-align: left;\">2021-11-15 20:46:00</td><td style=\"text-align: left;\">2021-11-15 21:08:00</td><td style=\"text-align: left;\">         saa-cold-325-05</td><td style=\"text-align: left;\"> 00076086008</td><td style=\"text-align: left;\">          1320</td><td style=\"text-align: left;\">             0</td></tr>\n",
       "<tr><td style=\"text-align: left;\">2021-11-15 21:08:00</td><td style=\"text-align: left;\">2021-11-15 21:23:00</td><td style=\"text-align: left;\">                OGP_1654</td><td style=\"text-align: left;\"> 03103607006</td><td style=\"text-align: left;\">           900</td><td style=\"text-align: left;\">             0</td></tr>\n",
       "<tr><td style=\"text-align: left;\">2021-11-15 21:23:00</td><td style=\"text-align: left;\">2021-11-15 21:39:00</td><td style=\"text-align: left;\">                OGP_3496</td><td style=\"text-align: left;\"> 03103682006</td><td style=\"text-align: left;\">           960</td><td style=\"text-align: left;\">             0</td></tr>\n",
       "<tr><td style=\"text-align: left;\">2021-11-15 21:39:00</td><td style=\"text-align: left;\">2021-11-15 21:56:00</td><td style=\"text-align: left;\">                 MRK 817</td><td style=\"text-align: left;\"> 00096066221</td><td style=\"text-align: left;\">          1020</td><td style=\"text-align: left;\">             0</td></tr>\n",
       "<tr><td style=\"text-align: left;\">2021-11-15 21:56:00</td><td style=\"text-align: left;\">2021-11-15 22:11:00</td><td style=\"text-align: left;\">     MASER 123408.5+0239</td><td style=\"text-align: left;\"> 00037263002</td><td style=\"text-align: left;\">           900</td><td style=\"text-align: left;\">             0</td></tr>\n",
       "<tr><td style=\"text-align: left;\">2021-11-15 22:11:00</td><td style=\"text-align: left;\">2021-11-15 22:28:00</td><td style=\"text-align: left;\">         RX J1618.1+3619</td><td style=\"text-align: left;\"> 00095902004</td><td style=\"text-align: left;\">          1020</td><td style=\"text-align: left;\">             0</td></tr>\n",
       "<tr><td style=\"text-align: left;\">2021-11-15 22:28:00</td><td style=\"text-align: left;\">2021-11-15 22:47:00</td><td style=\"text-align: left;\">          saa-cold-237-9</td><td style=\"text-align: left;\"> 00074161027</td><td style=\"text-align: left;\">          1140</td><td style=\"text-align: left;\">             0</td></tr>\n",
       "<tr><td style=\"text-align: left;\">2021-11-15 22:47:00</td><td style=\"text-align: left;\">2021-11-15 22:57:00</td><td style=\"text-align: left;\">                OGP_2348</td><td style=\"text-align: left;\"> 03103098003</td><td style=\"text-align: left;\">           600</td><td style=\"text-align: left;\">             0</td></tr>\n",
       "<tr><td style=\"text-align: left;\">2021-11-15 23:10:00</td><td style=\"text-align: left;\">2021-11-15 23:15:00</td><td style=\"text-align: left;\">                OGP_3935</td><td style=\"text-align: left;\"> 03103930010</td><td style=\"text-align: left;\">           300</td><td style=\"text-align: left;\">             0</td></tr>\n",
       "<tr><td style=\"text-align: left;\">2021-11-15 23:15:00</td><td style=\"text-align: left;\">2021-11-15 23:45:00</td><td style=\"text-align: left;\">              J1348+2650</td><td style=\"text-align: left;\"> 00014800001</td><td style=\"text-align: left;\">          1800</td><td style=\"text-align: left;\">             0</td></tr>\n",
       "<tr><td style=\"text-align: left;\">2021-11-15 23:45:00</td><td style=\"text-align: left;\">2021-11-16 00:00:00</td><td style=\"text-align: left;\">       4FGL J1834.7-0724</td><td style=\"text-align: left;\"> 03109860006</td><td style=\"text-align: left;\">           900</td><td style=\"text-align: left;\">             0</td></tr>\n",
       "</tbody>\n",
       "</table>"
      ],
      "text/plain": [
       "{'03109925005': <swifttools.swift_too.swift_obsquery.Swift_Observation at 0x10bebbd60>,\n",
       " '03107647009': <swifttools.swift_too.swift_obsquery.Swift_Observation at 0x10bebbbb0>,\n",
       " '00075098022': <swifttools.swift_too.swift_obsquery.Swift_Observation at 0x10bedc220>,\n",
       " '00030835119': <swifttools.swift_too.swift_obsquery.Swift_Observation at 0x10bebb040>,\n",
       " '00049293004': <swifttools.swift_too.swift_obsquery.Swift_Observation at 0x10bebb850>,\n",
       " '00095968009': <swifttools.swift_too.swift_obsquery.Swift_Observation at 0x10bef46d0>,\n",
       " '03110350007': <swifttools.swift_too.swift_obsquery.Swift_Observation at 0x10bebbb50>,\n",
       " '00036698006': <swifttools.swift_too.swift_obsquery.Swift_Observation at 0x10bebb130>,\n",
       " '03107188004': <swifttools.swift_too.swift_obsquery.Swift_Observation at 0x10bebb1c0>,\n",
       " '00095662051': <swifttools.swift_too.swift_obsquery.Swift_Observation at 0x10bed28b0>,\n",
       " '03102899010': <swifttools.swift_too.swift_obsquery.Swift_Observation at 0x10bebb2e0>,\n",
       " '03103184007': <swifttools.swift_too.swift_obsquery.Swift_Observation at 0x10bebb790>,\n",
       " '03109816006': <swifttools.swift_too.swift_obsquery.Swift_Observation at 0x10bebbc40>,\n",
       " '03109934005': <swifttools.swift_too.swift_obsquery.Swift_Observation at 0x10bebb670>,\n",
       " '00031888017': <swifttools.swift_too.swift_obsquery.Swift_Observation at 0x10bebbcd0>,\n",
       " '00014868005': <swifttools.swift_too.swift_obsquery.Swift_Observation at 0x10bed2370>,\n",
       " '00010592020': <swifttools.swift_too.swift_obsquery.Swift_Observation at 0x10bef4d30>,\n",
       " '00095899002': <swifttools.swift_too.swift_obsquery.Swift_Observation at 0x10bebb700>,\n",
       " '00014894002': <swifttools.swift_too.swift_obsquery.Swift_Observation at 0x10bed2310>,\n",
       " '00014062044': <swifttools.swift_too.swift_obsquery.Swift_Observation at 0x10bebb250>,\n",
       " '03104682003': <swifttools.swift_too.swift_obsquery.Swift_Observation at 0x10bed20d0>,\n",
       " '03110957018': <swifttools.swift_too.swift_obsquery.Swift_Observation at 0x10bed20a0>,\n",
       " '03103215007': <swifttools.swift_too.swift_obsquery.Swift_Observation at 0x10bedc070>,\n",
       " '00014249030': <swifttools.swift_too.swift_obsquery.Swift_Observation at 0x10bef5af0>,\n",
       " '03104379017': <swifttools.swift_too.swift_obsquery.Swift_Observation at 0x10bef5a00>,\n",
       " '00037591113': <swifttools.swift_too.swift_obsquery.Swift_Observation at 0x10bedc5b0>,\n",
       " '00046178007': <swifttools.swift_too.swift_obsquery.Swift_Observation at 0x10bedc820>,\n",
       " '03103176005': <swifttools.swift_too.swift_obsquery.Swift_Observation at 0x10bedc7c0>,\n",
       " '03104275008': <swifttools.swift_too.swift_obsquery.Swift_Observation at 0x10bef4910>,\n",
       " '00038373044': <swifttools.swift_too.swift_obsquery.Swift_Observation at 0x10bedc580>,\n",
       " '03109743009': <swifttools.swift_too.swift_obsquery.Swift_Observation at 0x10bed2d00>,\n",
       " '00013499111': <swifttools.swift_too.swift_obsquery.Swift_Observation at 0x10bedcee0>,\n",
       " '03110932011': <swifttools.swift_too.swift_obsquery.Swift_Observation at 0x10bedc430>,\n",
       " '00075371015': <swifttools.swift_too.swift_obsquery.Swift_Observation at 0x10bedc9d0>,\n",
       " '03110133013': <swifttools.swift_too.swift_obsquery.Swift_Observation at 0x10bedc490>,\n",
       " '03107182010': <swifttools.swift_too.swift_obsquery.Swift_Observation at 0x10bedc8e0>,\n",
       " '03104433010': <swifttools.swift_too.swift_obsquery.Swift_Observation at 0x10bed2a60>,\n",
       " '03110933008': <swifttools.swift_too.swift_obsquery.Swift_Observation at 0x10bed2490>,\n",
       " '00075971004': <swifttools.swift_too.swift_obsquery.Swift_Observation at 0x10bedcc70>,\n",
       " '03103728007': <swifttools.swift_too.swift_obsquery.Swift_Observation at 0x10bebb520>,\n",
       " '03104260006': <swifttools.swift_too.swift_obsquery.Swift_Observation at 0x10bedc190>,\n",
       " '00014905001': <swifttools.swift_too.swift_obsquery.Swift_Observation at 0x10bedc700>,\n",
       " '03110974008': <swifttools.swift_too.swift_obsquery.Swift_Observation at 0x10bedc130>,\n",
       " '03103746006': <swifttools.swift_too.swift_obsquery.Swift_Observation at 0x10bef4cd0>,\n",
       " '03103668007': <swifttools.swift_too.swift_obsquery.Swift_Observation at 0x10bedcb50>,\n",
       " '00035462107': <swifttools.swift_too.swift_obsquery.Swift_Observation at 0x10bedc2b0>,\n",
       " '03110922018': <swifttools.swift_too.swift_obsquery.Swift_Observation at 0x10bedc340>,\n",
       " '00075363014': <swifttools.swift_too.swift_obsquery.Swift_Observation at 0x10bef4370>,\n",
       " '00059158043': <swifttools.swift_too.swift_obsquery.Swift_Observation at 0x10bedc3a0>,\n",
       " '00059158044': <swifttools.swift_too.swift_obsquery.Swift_Observation at 0x10bef4eb0>,\n",
       " '03100000015': <swifttools.swift_too.swift_obsquery.Swift_Observation at 0x10bef44f0>,\n",
       " '03110927024': <swifttools.swift_too.swift_obsquery.Swift_Observation at 0x10bef4430>,\n",
       " '00076193006': <swifttools.swift_too.swift_obsquery.Swift_Observation at 0x10bef43a0>,\n",
       " '03103737010': <swifttools.swift_too.swift_obsquery.Swift_Observation at 0x10bedc610>,\n",
       " '00095928052': <swifttools.swift_too.swift_obsquery.Swift_Observation at 0x10bef4850>,\n",
       " '03109263002': <swifttools.swift_too.swift_obsquery.Swift_Observation at 0x10bef4c40>,\n",
       " '00074819012': <swifttools.swift_too.swift_obsquery.Swift_Observation at 0x10bef4940>,\n",
       " '03103274004': <swifttools.swift_too.swift_obsquery.Swift_Observation at 0x10bef4d00>,\n",
       " '03104358008': <swifttools.swift_too.swift_obsquery.Swift_Observation at 0x10bef4a00>,\n",
       " '03110621009': <swifttools.swift_too.swift_obsquery.Swift_Observation at 0x10bedc100>,\n",
       " '00076086008': <swifttools.swift_too.swift_obsquery.Swift_Observation at 0x10bef4250>,\n",
       " '03103607006': <swifttools.swift_too.swift_obsquery.Swift_Observation at 0x10bef4970>,\n",
       " '03103682006': <swifttools.swift_too.swift_obsquery.Swift_Observation at 0x10bef4310>,\n",
       " '00096066221': <swifttools.swift_too.swift_obsquery.Swift_Observation at 0x10bef4f40>,\n",
       " '00037263002': <swifttools.swift_too.swift_obsquery.Swift_Observation at 0x10bef4820>,\n",
       " '00095902004': <swifttools.swift_too.swift_obsquery.Swift_Observation at 0x10bef4b20>,\n",
       " '00074161027': <swifttools.swift_too.swift_obsquery.Swift_Observation at 0x10bef4a90>,\n",
       " '03103098003': <swifttools.swift_too.swift_obsquery.Swift_Observation at 0x10bef4be0>,\n",
       " '03103930010': <swifttools.swift_too.swift_obsquery.Swift_Observation at 0x10bedcdc0>,\n",
       " '00014800001': <swifttools.swift_too.swift_obsquery.Swift_Observation at 0x10bef40a0>,\n",
       " '03109860006': <swifttools.swift_too.swift_obsquery.Swift_Observation at 0x10bef4220>}"
      ]
     },
     "execution_count": 8,
     "metadata": {},
     "output_type": "execute_result"
    }
   ],
   "source": [
    "dayplan.observations"
   ]
  }
 ],
 "metadata": {
  "kernelspec": {
   "display_name": "Python 3 (ipykernel)",
   "language": "python",
   "name": "python3"
  },
  "language_info": {
   "codemirror_mode": {
    "name": "ipython",
    "version": 3
   },
   "file_extension": ".py",
   "mimetype": "text/x-python",
   "name": "python",
   "nbconvert_exporter": "python",
   "pygments_lexer": "ipython3",
   "version": "3.9.8"
  }
 },
 "nbformat": 4,
 "nbformat_minor": 4
}
