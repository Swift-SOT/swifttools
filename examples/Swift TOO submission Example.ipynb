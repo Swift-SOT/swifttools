{
 "cells": [
  {
   "cell_type": "markdown",
   "metadata": {},
   "source": [
    "# `swift_too` module\n",
    "\n",
    "## Swift_TOO example - Swift Target of Opportunity Submission Example\n",
    "\n",
    "### API version = 1.1\n",
    "\n",
    "#### Author: Jamie A. Kennea (Penn State)\n",
    "\n",
    "The Swift_TOO class is used to submit Target of Opportunity Requests for the Swift mission. Before this required manual filling out of a web based form, but given the requirements to trigger Swift using algorithmically determined criteria, this can now be automated through the Swift TOO API, and this class. Here we give a simple example of how to submit a TOO request with this class. Note that we will enable debug mode here, so that the submission will actually complete, but importantly it will not submit an *actual* Swift TOO!"
   ]
  },
  {
   "cell_type": "code",
   "execution_count": 1,
   "metadata": {},
   "outputs": [],
   "source": [
    "from swift_too import Swift_TOO\n",
    "from time import sleep\n",
    "import numpy as np"
   ]
  },
  {
   "cell_type": "markdown",
   "metadata": {},
   "source": [
    "### Setting up the class\n",
    "We start by initializing the class and giving our username and shared secret. These can be set up [on the Swift TOO website](https://www.swift.psu.edu/toop/too.php). After you log in, you will find your shared secret, and can modify it as necessary under the [Update Account Info](https://www.swift.psu.edu/toop/account_info.php) link. Also we're setting debug mode here."
   ]
  },
  {
   "cell_type": "code",
   "execution_count": 2,
   "metadata": {},
   "outputs": [],
   "source": [
    "too = Swift_TOO()\n",
    "too.username = 'myuser'\n",
    "too.shared_secret = 'mysharedsecret'\n",
    "too.debug = True"
   ]
  },
  {
   "cell_type": "markdown",
   "metadata": {},
   "source": [
    "### Source details\n",
    "\n",
    "OK, so what are we going to observe, let's start with a name, oh say, SMC X-3, that's a cool object. However, darn, I can't remember the coordinates, but thankfully we have a thing called \"Simbad\" for looking these up."
   ]
  },
  {
   "cell_type": "code",
   "execution_count": 3,
   "metadata": {},
   "outputs": [],
   "source": [
    "too.source_name = \"SMC X-3\"\n",
    "from astroquery.simbad import Simbad\n",
    "table = Simbad.query_object(too.source_name)"
   ]
  },
  {
   "cell_type": "markdown",
   "metadata": {},
   "source": [
    "So simbad returns a table with some text based RA/Dec in it. Let's import that into the Swift_TOO class as a astropy SkyCoord."
   ]
  },
  {
   "cell_type": "code",
   "execution_count": 4,
   "metadata": {},
   "outputs": [],
   "source": [
    "from astropy.coordinates import SkyCoord\n",
    "import astropy.units as u\n",
    "\n",
    "too.skycoord = SkyCoord(f\"{table['RA'][0]} {table['DEC'][0]}\",frame=\"icrs\",unit=(u.hourangle, u.deg))"
   ]
  },
  {
   "cell_type": "markdown",
   "metadata": {},
   "source": [
    "Note that although the Swift TOO API doesn't depend on astropy (i.e. it's not required for use), you can pass it a SkyCoord, which means you can also use more esoteric coordinates. Internally all Swift TOOs are stored as decimal RA/Dec in J2000, as this is what Swift uses. Let's check what the values are."
   ]
  },
  {
   "cell_type": "code",
   "execution_count": 5,
   "metadata": {},
   "outputs": [
    {
     "name": "stdout",
     "output_type": "stream",
     "text": [
      "RA/Dec (J2000) = 13.0234, -72.4345\n"
     ]
    }
   ],
   "source": [
    "print(f\"RA/Dec (J2000) = {too.ra:.4f}, {too.dec:.4f}\")"
   ]
  },
  {
   "cell_type": "markdown",
   "metadata": {},
   "source": [
    "For those who don't want to use astroquery or simbad, you can just do this. Note you can give any number of decimal places, but 4 gives accuracy to less than an arc-second, and Swift isn't that accurate itself."
   ]
  },
  {
   "cell_type": "code",
   "execution_count": 6,
   "metadata": {},
   "outputs": [],
   "source": [
    "too.ra, too.dec = 11.0234, -72.4345"
   ]
  },
  {
   "cell_type": "markdown",
   "metadata": {},
   "source": [
    "Finally, what kind of source is SMC X-3? "
   ]
  },
  {
   "cell_type": "code",
   "execution_count": 7,
   "metadata": {},
   "outputs": [],
   "source": [
    "too.source_type = \"Be/X-ray Binary\""
   ]
  },
  {
   "cell_type": "markdown",
   "metadata": {},
   "source": [
    "### Observing time request\n",
    "\n",
    "OK, now we've determined what we're looking at, and the coordinates, let's decide what we want to do with this TOO. Well, our object SMC X-3 seems to have gone into outburst again, that's pretty interesting. It's pretty bright also, and evolves quickly, so let's say, oh, we're going to look at it for 1ks per day, every other day for two weeks. Sounds good."
   ]
  },
  {
   "cell_type": "code",
   "execution_count": 8,
   "metadata": {},
   "outputs": [],
   "source": [
    "too.exp_time_per_visit = 1000\n",
    "too.monitoring_freq = \"2 days\"\n",
    "too.num_of_visits = 7"
   ]
  },
  {
   "cell_type": "markdown",
   "metadata": {},
   "source": [
    "Need to justify that exposure time. Not too many words."
   ]
  },
  {
   "cell_type": "code",
   "execution_count": 9,
   "metadata": {},
   "outputs": [],
   "source": [
    "too.exp_time_just = \"1ks to measure flux and period\""
   ]
  },
  {
   "cell_type": "markdown",
   "metadata": {},
   "source": [
    "### Justification\n",
    "\n",
    "We also need to explain briefly why we're requesting this. One sentence version..."
   ]
  },
  {
   "cell_type": "code",
   "execution_count": 10,
   "metadata": {},
   "outputs": [],
   "source": [
    "too.immediate_objective = \"Track the X-ray evolution and pulsar period in this new outburst of SMC X-3\""
   ]
  },
  {
   "cell_type": "markdown",
   "metadata": {},
   "source": [
    "### Urgency\n",
    "\n",
    "How quickly should Swift respond to this. We have 4 options.\n",
    "\n",
    "* Urgency 1: We need observations within 4 hours. This'll wake people up if it's in the middle of the night for the Swift Team\n",
    "* Urgency 2: Observations should start within the next 24 hours. Most typical for new transients, however not to be used if you forgot to submit a TOO request to continue observations of a previous TOO, as that makes people grumpy. \n",
    "* Urgency 3: Observations should start in the next few days. Most common when observations aren't super urgent, but you still want to start in a few days.\n",
    "* Urgency 4: Weeks to a month. This is for when a TOO isn't really urgent, but you'd like Swift to observe the source in the coming few weeks.\n",
    "\n",
    "So in our case, SMC X-3 just got detected as in outburst, so we'd like observations ASAP, but 4 hour doesn't really make sense, so...."
   ]
  },
  {
   "cell_type": "code",
   "execution_count": 11,
   "metadata": {},
   "outputs": [],
   "source": [
    "too.urgency = 2"
   ]
  },
  {
   "cell_type": "markdown",
   "metadata": {},
   "source": [
    "### Observing type\n",
    "\n",
    "OK, now we have to define what sort of observation type we're doing here, i.e. what is the primary objective of the observation. There are four options."
   ]
  },
  {
   "cell_type": "code",
   "execution_count": 12,
   "metadata": {},
   "outputs": [
    {
     "name": "stdout",
     "output_type": "stream",
     "text": [
      "0: Spectroscopy\n",
      "1: Light Curve\n",
      "2: Position\n",
      "3: Timing\n"
     ]
    }
   ],
   "source": [
    "_ = [print(f\"{t[0]}: {t[1]}\") for t in enumerate(too.obs_types)]"
   ]
  },
  {
   "cell_type": "markdown",
   "metadata": {},
   "source": [
    "We're interested primarily in the light curve here, so we'll select that."
   ]
  },
  {
   "cell_type": "code",
   "execution_count": 13,
   "metadata": {},
   "outputs": [],
   "source": [
    "too.obs_type = too.obs_types[1]"
   ]
  },
  {
   "cell_type": "markdown",
   "metadata": {},
   "source": [
    "### Instruments configuration\n",
    "\n",
    "OK, now we've told the TOO_API what we're looking at, what it is, how long and often we want to look at it, and how quickly. What next? Instrument set-up.\n",
    "\n",
    "Swift has three telescopes on-board, the UV/Optical Telescope (UVOT), X-ray Telescope (XRT) and Burst Alert Telescope (BAT). Typically TOOs are going to be focused on the first two, as BAT has an extremely large field of view. First step is to pick a primary instrument, this doesn't mean you don't use both, but it helps the teams focus on what you really want here. If you can't decide, roll a dice."
   ]
  },
  {
   "cell_type": "code",
   "execution_count": 14,
   "metadata": {},
   "outputs": [],
   "source": [
    "too.instrument = 'XRT'"
   ]
  },
  {
   "cell_type": "markdown",
   "metadata": {},
   "source": [
    "As we're saying XRT is our primary instrument, we should give an important detail for that instrument, in this case brightness."
   ]
  },
  {
   "cell_type": "code",
   "execution_count": 15,
   "metadata": {},
   "outputs": [],
   "source": [
    "too.xrt_countrate = 20"
   ]
  },
  {
   "cell_type": "markdown",
   "metadata": {},
   "source": [
    "OK, so we're observing with XRT. This is a very simple instrument to configure, as it only has three options: Windowed Timing (WT), Photon Counting (WT) and 'Auto'. Here our choice is driven by source brightness, and at our estimated countrate of 20, we'll going to need WT mode to avoid pile-up. 'Auto' picks the mode based on source brightness, but if we know the brightness, it's best to pick ourselves."
   ]
  },
  {
   "cell_type": "code",
   "execution_count": 16,
   "metadata": {},
   "outputs": [],
   "source": [
    "too.xrt_mode = 'WT'"
   ]
  },
  {
   "cell_type": "markdown",
   "metadata": {},
   "source": [
    "Note that XRT modes are internally converted to numbers, Auto = 0, PC = 7 and WT = 6. You can use these if you like."
   ]
  },
  {
   "cell_type": "code",
   "execution_count": 17,
   "metadata": {},
   "outputs": [
    {
     "data": {
      "text/plain": [
       "'WT'"
      ]
     },
     "execution_count": 17,
     "metadata": {},
     "output_type": "execute_result"
    }
   ],
   "source": [
    "too.xrt_mode = 6\n",
    "too.xrt_mode"
   ]
  },
  {
   "cell_type": "markdown",
   "metadata": {},
   "source": [
    "Basic validation of mode is done internally, so we can't set the mode to something wrong. The next two commands should return errors."
   ]
  },
  {
   "cell_type": "code",
   "execution_count": 18,
   "metadata": {},
   "outputs": [
    {
     "ename": "NameError",
     "evalue": "Unknown mode, should be PC, WT or Auto",
     "output_type": "error",
     "traceback": [
      "\u001b[0;31m---------------------------------------------------------------------------\u001b[0m",
      "\u001b[0;31mNameError\u001b[0m                                 Traceback (most recent call last)",
      "\u001b[0;32m<ipython-input-18-1b0b22f21c35>\u001b[0m in \u001b[0;36m<module>\u001b[0;34m\u001b[0m\n\u001b[0;32m----> 1\u001b[0;31m \u001b[0mtoo\u001b[0m\u001b[0;34m.\u001b[0m\u001b[0mxrt_mode\u001b[0m \u001b[0;34m=\u001b[0m \u001b[0;34m\"Bananas\"\u001b[0m\u001b[0;34m\u001b[0m\u001b[0;34m\u001b[0m\u001b[0m\n\u001b[0m",
      "\u001b[0;32m~/Dropbox/TOO_API/swift-too/examples/swift_too/too_client.py\u001b[0m in \u001b[0;36mxrt_mode\u001b[0;34m(self, mode)\u001b[0m\n\u001b[1;32m    135\u001b[0m                 \u001b[0mself\u001b[0m\u001b[0;34m.\u001b[0m\u001b[0m_xrt_mode\u001b[0m \u001b[0;34m=\u001b[0m \u001b[0mmodesxrt\u001b[0m\u001b[0;34m[\u001b[0m\u001b[0mmode\u001b[0m\u001b[0;34m]\u001b[0m\u001b[0;34m\u001b[0m\u001b[0;34m\u001b[0m\u001b[0m\n\u001b[1;32m    136\u001b[0m             \u001b[0;32melse\u001b[0m\u001b[0;34m:\u001b[0m\u001b[0;34m\u001b[0m\u001b[0;34m\u001b[0m\u001b[0m\n\u001b[0;32m--> 137\u001b[0;31m                 \u001b[0;32mraise\u001b[0m \u001b[0mNameError\u001b[0m\u001b[0;34m(\u001b[0m\u001b[0;34m\"Unknown mode, should be PC, WT or Auto\"\u001b[0m\u001b[0;34m)\u001b[0m\u001b[0;34m\u001b[0m\u001b[0;34m\u001b[0m\u001b[0m\n\u001b[0m\u001b[1;32m    138\u001b[0m         \u001b[0;32melse\u001b[0m\u001b[0;34m:\u001b[0m\u001b[0;34m\u001b[0m\u001b[0;34m\u001b[0m\u001b[0m\n\u001b[1;32m    139\u001b[0m             \u001b[0;32mif\u001b[0m \u001b[0mmode\u001b[0m \u001b[0;32min\u001b[0m \u001b[0mxrtmodes\u001b[0m\u001b[0;34m.\u001b[0m\u001b[0mkeys\u001b[0m\u001b[0;34m(\u001b[0m\u001b[0;34m)\u001b[0m\u001b[0;34m:\u001b[0m\u001b[0;34m\u001b[0m\u001b[0;34m\u001b[0m\u001b[0m\n",
      "\u001b[0;31mNameError\u001b[0m: Unknown mode, should be PC, WT or Auto"
     ]
    }
   ],
   "source": [
    "too.xrt_mode = \"Bananas\""
   ]
  },
  {
   "cell_type": "code",
   "execution_count": 19,
   "metadata": {},
   "outputs": [
    {
     "ename": "ValueError",
     "evalue": "Unknown mode, should be PC (7), WT (6) or Auto (0)",
     "output_type": "error",
     "traceback": [
      "\u001b[0;31m---------------------------------------------------------------------------\u001b[0m",
      "\u001b[0;31mValueError\u001b[0m                                Traceback (most recent call last)",
      "\u001b[0;32m<ipython-input-19-7962fa848d08>\u001b[0m in \u001b[0;36m<module>\u001b[0;34m\u001b[0m\n\u001b[0;32m----> 1\u001b[0;31m \u001b[0mtoo\u001b[0m\u001b[0;34m.\u001b[0m\u001b[0mxrt_mode\u001b[0m \u001b[0;34m=\u001b[0m \u001b[0;36m96\u001b[0m\u001b[0;34m\u001b[0m\u001b[0;34m\u001b[0m\u001b[0m\n\u001b[0m",
      "\u001b[0;32m~/Dropbox/TOO_API/swift-too/examples/swift_too/too_client.py\u001b[0m in \u001b[0;36mxrt_mode\u001b[0;34m(self, mode)\u001b[0m\n\u001b[1;32m    140\u001b[0m                 \u001b[0mself\u001b[0m\u001b[0;34m.\u001b[0m\u001b[0m_xrt_mode\u001b[0m \u001b[0;34m=\u001b[0m \u001b[0mmode\u001b[0m\u001b[0;34m\u001b[0m\u001b[0;34m\u001b[0m\u001b[0m\n\u001b[1;32m    141\u001b[0m             \u001b[0;32melse\u001b[0m\u001b[0;34m:\u001b[0m\u001b[0;34m\u001b[0m\u001b[0;34m\u001b[0m\u001b[0m\n\u001b[0;32m--> 142\u001b[0;31m                 \u001b[0;32mraise\u001b[0m \u001b[0mValueError\u001b[0m\u001b[0;34m(\u001b[0m\u001b[0;34m\"Unknown mode, should be PC (7), WT (6) or Auto (0)\"\u001b[0m\u001b[0;34m)\u001b[0m\u001b[0;34m\u001b[0m\u001b[0;34m\u001b[0m\u001b[0m\n\u001b[0m\u001b[1;32m    143\u001b[0m \u001b[0;34m\u001b[0m\u001b[0m\n\u001b[1;32m    144\u001b[0m     \u001b[0;34m@\u001b[0m\u001b[0mproperty\u001b[0m\u001b[0;34m\u001b[0m\u001b[0;34m\u001b[0m\u001b[0m\n",
      "\u001b[0;31mValueError\u001b[0m: Unknown mode, should be PC (7), WT (6) or Auto (0)"
     ]
    }
   ],
   "source": [
    "too.xrt_mode = 96"
   ]
  },
  {
   "cell_type": "markdown",
   "metadata": {},
   "source": [
    "UVOT is a more complicated instrument to configure, having as it does a large number of combinations of filters. Default for UVOT is filter of the day, which is mode 0x9999. If you want to pick a filter, you can look up the correct mode on the [UVOT modes](https://www.swift.psu.edu/operations/mode_lookup.php) web page.\n",
    "    \n",
    "I think we should look at this guy using UVOT's *u* filter, so let's pick that. "
   ]
  },
  {
   "cell_type": "code",
   "execution_count": 20,
   "metadata": {},
   "outputs": [],
   "source": [
    "too.uvot_mode = 0x01ab"
   ]
  },
  {
   "cell_type": "markdown",
   "metadata": {},
   "source": [
    "Note that we don't do any internal validation of the UVOT mode, because the UVOT mode table is huge, so outside the scope of this. We will check the mode is valid at the server side and report back an error if it's not. Note that although we can set `uvot_mode` as an integer, when we print it, it always reports as a hex string."
   ]
  },
  {
   "cell_type": "code",
   "execution_count": 21,
   "metadata": {},
   "outputs": [
    {
     "data": {
      "text/plain": [
       "'0x01ab'"
      ]
     },
     "execution_count": 21,
     "metadata": {},
     "output_type": "execute_result"
    }
   ],
   "source": [
    "too.uvot_mode"
   ]
  },
  {
   "cell_type": "markdown",
   "metadata": {},
   "source": [
    "### Validation of request\n",
    "\n",
    "OK, one last sanity check before submission, do this pass the internal checks for submission?"
   ]
  },
  {
   "cell_type": "code",
   "execution_count": 22,
   "metadata": {},
   "outputs": [
    {
     "name": "stdout",
     "output_type": "stream",
     "text": [
      "ERROR: Missing key: science_just\n"
     ]
    }
   ],
   "source": [
    "if too.validate():\n",
    "    print(\"Good to go!\")"
   ]
  },
  {
   "cell_type": "markdown",
   "metadata": {},
   "source": [
    "Looks like we forgot something, so we should figure that out! science_just is the clue here, we didn't enter a science justification. \n",
    "\n",
    "OK, let's write a science justification for this request. This should be persuasive as to why this object requires both rapid observations, and the interest of the Swift mission. Think of writing a proposal, but in a paragraph or two. Let's give it a go..."
   ]
  },
  {
   "cell_type": "code",
   "execution_count": 23,
   "metadata": {},
   "outputs": [],
   "source": [
    "too.science_just =  \"SMC X-3 has been detected to be entering it's 3rd outburst since discovery.\"\\\n",
    "                    \"We wish to monitor the flux and pulsar period in order to track the evolution \"\\\n",
    "                    \"of this Be/XRB which has previously shown to enter a Super-Eddington level outburst. \"\\\n",
    "                    \"As the outburst has been detected in it's early stages, we request observations begin \"\\\n",
    "                    \"ASAP, and request an initial 2 week monitoring period to accurately sample flux rise \"\\\n",
    "                    \"and pulsar period evolution.\"\\\n",
    "                    f\" {np.random.random()}\""
   ]
  },
  {
   "cell_type": "code",
   "execution_count": 24,
   "metadata": {},
   "outputs": [
    {
     "name": "stdout",
     "output_type": "stream",
     "text": [
      "INFO: Total exposure time does not match total of individuals. Correcting.\n",
      "Good to go!\n"
     ]
    }
   ],
   "source": [
    "if too.validate():\n",
    "    print(\"Good to go!\")"
   ]
  },
  {
   "cell_type": "markdown",
   "metadata": {},
   "source": [
    "One last thing to note, there should have been an warning here, we never entered the total exposure time for the request, but as we gave the individual exposure time, and number of observations, so it calculated it itself. Let's check it real quick, should be 7 exposure x 1000s each...."
   ]
  },
  {
   "cell_type": "markdown",
   "metadata": {},
   "source": [
    "### Server side validation\n",
    "\n",
    "As a final step before submission, an optional step is to perform a server-side validation of the request. This essentially submits the TOO request, and returns any warnings and errors on the server side, but importantly, *without submitting the request*. This is helpful for making sure everything is OK."
   ]
  },
  {
   "cell_type": "code",
   "execution_count": 25,
   "metadata": {},
   "outputs": [
    {
     "name": "stdout",
     "output_type": "stream",
     "text": [
      "Warning: Supplied coordinates 36.2 arc-minutes from Simbad position (RA/Dec = 13.0234,-72.4345).\n"
     ]
    }
   ],
   "source": [
    "too.server_validate()"
   ]
  },
  {
   "cell_type": "markdown",
   "metadata": {},
   "source": [
    "OK so a warning was thrown up by the server. Apparently the position we used doesn't agree with the Simbad position for SMC X-3. Interesting, didn't we get this value from the Simbad?\n",
    "\n",
    "Wait, no we did the following earlier after the Simbad stuff:"
   ]
  },
  {
   "cell_type": "code",
   "execution_count": 26,
   "metadata": {},
   "outputs": [],
   "source": [
    "too.ra, too.dec = 11.0234, -72.4345"
   ]
  },
  {
   "cell_type": "markdown",
   "metadata": {},
   "source": [
    "...and that introduced a typo. The RA should be 13.0234 So let's fix that and try again."
   ]
  },
  {
   "cell_type": "code",
   "execution_count": 27,
   "metadata": {},
   "outputs": [],
   "source": [
    "too.ra, too.dec = 13.0234, -72.4345\n",
    "too.server_validate()"
   ]
  },
  {
   "cell_type": "markdown",
   "metadata": {},
   "source": [
    "OK no errors that time, good! I think we're in good shape here."
   ]
  },
  {
   "cell_type": "markdown",
   "metadata": {},
   "source": [
    "### Submitting our TOO\n",
    "\n",
    "If we're good to go, then it's time to submit our TOO. Remember as we enabled debug mode, this won't submit a TOO request, but it will act like it. \n",
    "\n"
   ]
  },
  {
   "cell_type": "code",
   "execution_count": 28,
   "metadata": {},
   "outputs": [
    {
     "name": "stdout",
     "output_type": "stream",
     "text": [
      "Submitted TOO ID = 13705\n"
     ]
    }
   ],
   "source": [
    "if too.submit():\n",
    "    print(f\"Submitted TOO ID = {too.status.too_id}\")\n",
    "else:\n",
    "    print(f\"{too.status.status}. Errors: {too.status.errors}\")"
   ]
  },
  {
   "cell_type": "markdown",
   "metadata": {},
   "source": [
    "If the above is reports all good then you're good. You should get an email saying you submitted a TOO (yes even in debug mode). Let's check the status of the TOO anyway, this will give us the TOO ID number assigned to our TOO.\n",
    "\n",
    "However, this is SMC X-3 we're talking about here, it's declination is -72.4345 degrees. That is pretty close to *Swift*'s pole constraint, and we're submitting at `urgency = 2`, observations in 24 hours. If you happen to be running this notebook during a period when SMC X-3 is in pole constraint, then you'll see that the request has been rejected, and you'll see an error like this:\n",
    "\n",
    "```\n",
    "Rejected. Errors: ['ERROR: Object currently constrained until 2021-03-20 06:36:00, so 24-hour response TOO rejected.']\n",
    "```\n",
    "\n",
    "If this happens, you can always try resubmitting as Urgency 3 or 4 instead, depending on how long it will be until it comes out of constraint. This will essentially ask the *Swift* team to please observe it when it becomes visible. \n",
    "\n",
    "**Note:** If you want to resubmit a Rejected TOO after modification, you need to clear the current status. This can be done with the `status.clear()` method, example below:"
   ]
  },
  {
   "cell_type": "code",
   "execution_count": 29,
   "metadata": {},
   "outputs": [
    {
     "name": "stdout",
     "output_type": "stream",
     "text": [
      "TOO was already accepted, so no need for modification.\n"
     ]
    }
   ],
   "source": [
    "if not too.status:\n",
    "    too.urgency = 4 # Change urgency to weeks to months\n",
    "    too.status.clear() # Clear the 'Rejected' status of the previous attempt to submit\n",
    "    \n",
    "    # Go ahead and submit again with the revised parameter\n",
    "    if too.submit():\n",
    "        print(f\"Submitted TOO ID = {too.status.too_id}\")\n",
    "    else:\n",
    "        print(f\"{too.status.status}. Errors: {too.status.errors}\")\n",
    "else:\n",
    "    print(\"TOO was already accepted, so no need for modification.\")\n"
   ]
  },
  {
   "cell_type": "markdown",
   "metadata": {},
   "source": [
    "You might have noticed a little trick here. You can check if a TOO is accepted by simple checking the truth value of `too.status`. So if the TOO has been accepted `too.status == True` will be return `True`. \n",
    "\n",
    "There is another method for checking if a TOO has been accepted, `complete` which is invoked as such:"
   ]
  },
  {
   "cell_type": "code",
   "execution_count": 30,
   "metadata": {},
   "outputs": [
    {
     "data": {
      "text/plain": [
       "True"
      ]
     },
     "execution_count": 30,
     "metadata": {},
     "output_type": "execute_result"
    }
   ],
   "source": [
    "too.complete"
   ]
  },
  {
   "cell_type": "markdown",
   "metadata": {},
   "source": [
    "Note that this is different, as it actually queries the TOO API server every time it is called to query if the TOO was accepted. Generally the former method is preferred."
   ]
  },
  {
   "cell_type": "code",
   "execution_count": 31,
   "metadata": {},
   "outputs": [
    {
     "name": "stdout",
     "output_type": "stream",
     "text": [
      "We are done here.\n"
     ]
    }
   ],
   "source": [
    "if too.status:\n",
    "    print(\"We are done here.\")\n",
    "else:\n",
    "    print(\"You shouldn't see this message.\")"
   ]
  },
  {
   "cell_type": "markdown",
   "metadata": {},
   "source": [
    "That is it! There are more configuration options, but this is a simple case. Look at the documentation for more options."
   ]
  }
 ],
 "metadata": {
  "kernelspec": {
   "display_name": "Python 3",
   "language": "python",
   "name": "python3"
  },
  "language_info": {
   "codemirror_mode": {
    "name": "ipython",
    "version": 3
   },
   "file_extension": ".py",
   "mimetype": "text/x-python",
   "name": "python",
   "nbconvert_exporter": "python",
   "pygments_lexer": "ipython3",
   "version": "3.8.8"
  }
 },
 "nbformat": 4,
 "nbformat_minor": 2
}
