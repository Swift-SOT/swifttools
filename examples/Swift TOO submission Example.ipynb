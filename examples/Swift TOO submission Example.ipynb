{
 "cells": [
  {
   "cell_type": "markdown",
   "metadata": {},
   "source": [
    "# `swift_too` module\n",
    "\n",
    "## Swift_TOO example - Swift Target of Opportunity Submission Example\n",
    "\n",
    "### API version = 1.2, `swifttools` version = 3.0.8\n",
    "\n",
    "#### Author: Jamie A. Kennea (Penn State)\n",
    "\n",
    "The Swift_TOO class is used to submit Target of Opportunity Requests for the Swift mission. Before this required manual filling out of a web based form, but given the requirements to trigger Swift using algorithmically determined criteria, this can now be automated through the Swift TOO API, and this class. Here we give a simple example of how to submit a TOO request with this class. Note that we will enable debug mode here, so that the submission will actually complete, but importantly it will not submit an *actual* Swift TOO!"
   ]
  },
  {
   "cell_type": "code",
   "execution_count": 1,
   "metadata": {},
   "outputs": [],
   "source": [
    "from swifttools.swift_too import TOO"
   ]
  },
  {
   "cell_type": "markdown",
   "metadata": {},
   "source": [
    "We start by initializing the class and giving our username and shared secret. These can be set up [on the Swift TOO website](https://www.swift.psu.edu/toop/too.php). After you log in, you will find your shared secret, and can modify it as necessary under the [Update Account Info](https://www.swift.psu.edu/toop/account_info.php) link. Note that unlike other TOO API classes, you cannot use anonymous login to submit a TOO request."
   ]
  },
  {
   "cell_type": "code",
   "execution_count": 2,
   "metadata": {},
   "outputs": [],
   "source": [
    "username = \"myuser\"\n",
    "shared_secret = \"mysharedsecret\""
   ]
  },
  {
   "cell_type": "markdown",
   "metadata": {},
   "source": [
    "OK let's set up the `Swift_TOO` request (in this case we'll use the `swifttools` 2.3 shorthand, `TOO`. Also we're setting debug mode here. Note that I'm not passing my `shared_secret` here, because my computer supports `keyring`. This records your `shared_secret` the first time that you use it, so it's not necessary to include it in later requests."
   ]
  },
  {
   "cell_type": "code",
   "execution_count": 3,
   "metadata": {},
   "outputs": [],
   "source": [
    "too = TOO()\n",
    "too.username = username\n",
    "too.shared_secret = shared_secret\n",
    "too.debug = True"
   ]
  },
  {
   "cell_type": "markdown",
   "metadata": {},
   "source": [
    "OK, so what are we going to observe, let's start with a name, oh say, SMC X-3, that's a cool object. But I don't recall it's coordinates. Starting with `swifttools 3.0.8` just giving the name is enough, as it will automatically resolve to coordinates."
   ]
  },
  {
   "cell_type": "code",
   "execution_count": 4,
   "metadata": {},
   "outputs": [
    {
     "name": "stdout",
     "output_type": "stream",
     "text": [
      "RA/Dec (J2000) = 13.0234,-72.4345\n"
     ]
    }
   ],
   "source": [
    "too.source_name = \"SMC X-3\"\n",
    "print(f\"RA/Dec (J2000) = {too.ra:.4f},{too.dec:.4f}\")"
   ]
  },
  {
   "cell_type": "markdown",
   "metadata": {},
   "source": [
    "This happened because assigning `source_name` a value automatically invoked a call to `Swift_Resolve`, which reported back `ra` and `dec`. It also reports back as a `SkyCoord` using the `skycoord` property if you have `astropy` installed. "
   ]
  },
  {
   "cell_type": "code",
   "execution_count": 5,
   "metadata": {},
   "outputs": [
    {
     "data": {
      "text/plain": [
       "<SkyCoord (FK5: equinox=J2000.000): (ra, dec) in deg\n",
       "    (13.02343792, -72.43450778)>"
      ]
     },
     "execution_count": 5,
     "metadata": {},
     "output_type": "execute_result"
    }
   ],
   "source": [
    "too.skycoord"
   ]
  },
  {
   "cell_type": "markdown",
   "metadata": {},
   "source": [
    "You can check the provenance of this position by looking at the `resolve` property:"
   ]
  },
  {
   "cell_type": "code",
   "execution_count": 6,
   "metadata": {},
   "outputs": [
    {
     "data": {
      "text/html": [
       "<table><thead><th style='text-align: left;'>Name</th><th style='text-align: left;'>RA (J2000)</th><th style='text-align: left;'>Dec (J2000)</th><th style='text-align: left;'>Resolver</th></thead><tr><td style='text-align: left;'>SMC X-3</td><td style='text-align: left;'>13.02344</td><td style='text-align: left;'>-72.43451</td><td style='text-align: left;'>Simbad</td></tr></table>"
      ],
      "text/plain": [
       "Swift_Resolve(username='anonymous',name='SMC X-3')"
      ]
     },
     "execution_count": 6,
     "metadata": {},
     "output_type": "execute_result"
    }
   ],
   "source": [
    "too.resolve"
   ]
  },
  {
   "cell_type": "markdown",
   "metadata": {},
   "source": [
    "So in this case the position of SMC X-3 was resolved by Simbad. **Please note: Check your coordinates are valid!**\n",
    "\n",
    "For those who want to give coordinates manually, you can just do the following. Note you can give any number of decimal places, but 4 gives accuracy to less than an arc-second, and Swift isn't that accurate itself."
   ]
  },
  {
   "cell_type": "code",
   "execution_count": 7,
   "metadata": {},
   "outputs": [],
   "source": [
    "too.ra, too.dec = 13.0234, -72.4345"
   ]
  },
  {
   "cell_type": "markdown",
   "metadata": {},
   "source": [
    "Alternatively, you can give coordinates using a `SkyCoord`, which means you can also use other coordinate systems or formats, rather than just J2000 decimal degrees. For example, let's give the coordinates of SMC X-3 in Galactic."
   ]
  },
  {
   "cell_type": "code",
   "execution_count": 8,
   "metadata": {},
   "outputs": [],
   "source": [
    "from astropy.coordinates import SkyCoord\n",
    "too.skycoord = SkyCoord(l=302.86232855, b=-44.69366259, frame='galactic', unit='deg')"
   ]
  },
  {
   "cell_type": "markdown",
   "metadata": {},
   "source": [
    "#### `swifttools 3.0.8` update: astropy units support\n",
    "\n",
    "You can even give RA/Dec using `astropy` units, the following example gives in RA in hours and declination in degrees."
   ]
  },
  {
   "cell_type": "code",
   "execution_count": 9,
   "metadata": {},
   "outputs": [],
   "source": [
    "import astropy.units as u\n",
    "too.ra = 0.868226666 * u.hourangle\n",
    "too.dec = -72.4345 * u.deg"
   ]
  },
  {
   "cell_type": "markdown",
   "metadata": {},
   "source": [
    "Internally all Swift TOOs are stored as decimal RA/Dec in J2000, as this is what Swift uses. Let's check what the values are."
   ]
  },
  {
   "cell_type": "code",
   "execution_count": 10,
   "metadata": {},
   "outputs": [
    {
     "name": "stdout",
     "output_type": "stream",
     "text": [
      "RA/Dec (J2000) = 13.0234, -72.4345\n"
     ]
    }
   ],
   "source": [
    "print(f\"RA/Dec (J2000) = {too.ra:.4f}, {too.dec:.4f}\")"
   ]
  },
  {
   "cell_type": "markdown",
   "metadata": {},
   "source": [
    "Finally, what kind of source is SMC X-3? "
   ]
  },
  {
   "cell_type": "code",
   "execution_count": 11,
   "metadata": {},
   "outputs": [],
   "source": [
    "too.source_type = \"Be/X-ray Binary\""
   ]
  },
  {
   "cell_type": "markdown",
   "metadata": {},
   "source": [
    "OK, now we've determined what we're looking at, and the coordinates, let's decide what we want to do with this TOO. Well, our object SMC X-3 seems to have gone into outburst again, that's pretty interesting. It's pretty bright also, and evolves quickly, so let's say, oh, we're going to look at it for 1ks per day, every other day for two weeks. Sounds good."
   ]
  },
  {
   "cell_type": "code",
   "execution_count": 12,
   "metadata": {},
   "outputs": [],
   "source": [
    "too.exp_time_per_visit = 1000\n",
    "too.monitoring_freq = \"2 days\"\n",
    "too.num_of_visits = 7"
   ]
  },
  {
   "cell_type": "markdown",
   "metadata": {},
   "source": [
    "#### `swifttools 3.0.8` update: astropy units support\n",
    "\n",
    "Note as of `3.0.8` you can use `astropy` `units` to define the monitoring frequency, so this also works:"
   ]
  },
  {
   "cell_type": "code",
   "execution_count": 13,
   "metadata": {},
   "outputs": [],
   "source": [
    "import astropy.units as u\n",
    "\n",
    "too.monitoring_freq = 2 * u.day"
   ]
  },
  {
   "cell_type": "markdown",
   "metadata": {},
   "source": [
    "Need to justify that exposure time. Not too many words."
   ]
  },
  {
   "cell_type": "code",
   "execution_count": 14,
   "metadata": {},
   "outputs": [],
   "source": [
    "too.exp_time_just = \"1ks to measure flux and period\""
   ]
  },
  {
   "cell_type": "markdown",
   "metadata": {},
   "source": [
    "We also need to explain briefly why we're requesting this. One sentence version..."
   ]
  },
  {
   "cell_type": "code",
   "execution_count": 15,
   "metadata": {},
   "outputs": [],
   "source": [
    "too.immediate_objective = (\n",
    "    \"Track the X-ray evolution and pulsar period in this new outburst of SMC X-3\"\n",
    ")"
   ]
  },
  {
   "cell_type": "markdown",
   "metadata": {},
   "source": [
    "How quickly should Swift respond to this. We have 4 options.\n",
    "\n",
    "* Urgency 1: We need observations within 4 hours. This'll wake people up if it's in the middle of the night for the Swift Team\n",
    "* Urgency 2: Observations should start within the next 24 hours. Most typical for new transients, however not to be used if you forgot to submit a TOO request to continue observations of a previous TOO, as that makes people grumpy. \n",
    "* Urgency 3: Observations should start in the next few days. Most common when observations aren't super urgent, but you still want to start in a few days.\n",
    "* Urgency 4: Weeks to a month. This is for when a TOO isn't really urgent, but you'd like Swift to observe the source in the coming few weeks.\n",
    "\n",
    "So in our case, SMC X-3 just got detected as in outburst, so we'd like observations ASAP, but 4 hour doesn't really make sense, so...."
   ]
  },
  {
   "cell_type": "code",
   "execution_count": 16,
   "metadata": {},
   "outputs": [],
   "source": [
    "too.urgency = 2"
   ]
  },
  {
   "cell_type": "markdown",
   "metadata": {},
   "source": [
    "OK, now we have to define what sort of observation type we're doing here, i.e. what is the primary objective of the observation. There are four options."
   ]
  },
  {
   "cell_type": "code",
   "execution_count": 17,
   "metadata": {},
   "outputs": [
    {
     "name": "stdout",
     "output_type": "stream",
     "text": [
      "0: Spectroscopy\n",
      "1: Light Curve\n",
      "2: Position\n",
      "3: Timing\n"
     ]
    }
   ],
   "source": [
    "_ = [print(f\"{t[0]}: {t[1]}\") for t in enumerate(too.obs_types)]"
   ]
  },
  {
   "cell_type": "markdown",
   "metadata": {},
   "source": [
    "We're interested primarily in the light curve here, so we'll select that."
   ]
  },
  {
   "cell_type": "code",
   "execution_count": 18,
   "metadata": {},
   "outputs": [],
   "source": [
    "too.obs_type = too.obs_types[1]"
   ]
  },
  {
   "cell_type": "markdown",
   "metadata": {},
   "source": [
    "OK, now we've told the TOO_API what we're looking at, what it is, how long and often we want to look at it, and how quickly. What next? Instrument set-up.\n",
    "\n",
    "Swift has three telescopes on-board, the UV/Optical Telescope (UVOT), X-ray Telescope (XRT) and Burst Alert Telescope (BAT). Typically TOOs are going to be focused on the first two, as BAT has an extremely large field of view. First step is to pick a primary instrument, this doesn't mean you don't use both, but it helps the teams focus on what you really want here. If you can't decide, roll a dice."
   ]
  },
  {
   "cell_type": "code",
   "execution_count": 19,
   "metadata": {},
   "outputs": [],
   "source": [
    "too.instrument = \"XRT\""
   ]
  },
  {
   "cell_type": "markdown",
   "metadata": {},
   "source": [
    "As we're saying XRT is our primary instrument, we should give an important detail for that instrument, in this case brightness."
   ]
  },
  {
   "cell_type": "code",
   "execution_count": 20,
   "metadata": {},
   "outputs": [],
   "source": [
    "too.xrt_countrate = 20"
   ]
  },
  {
   "cell_type": "markdown",
   "metadata": {},
   "source": [
    "OK, so we're observing with XRT. This is a very simple instrument to configure, as it only has three options: Windowed Timing (WT), Photon Counting (WT) and 'Auto'. Here our choice is driven by source brightness, and at our estimated countrate of 20, we'll going to need WT mode to avoid pile-up. 'Auto' picks the mode based on source brightness, but if we know the brightness, it's best to pick ourselves."
   ]
  },
  {
   "cell_type": "code",
   "execution_count": 21,
   "metadata": {},
   "outputs": [],
   "source": [
    "too.xrt_mode = \"WT\""
   ]
  },
  {
   "cell_type": "markdown",
   "metadata": {},
   "source": [
    "Note that XRT modes are internally converted to numbers, Auto = 0, PC = 7 and WT = 6. You can use these if you like."
   ]
  },
  {
   "cell_type": "code",
   "execution_count": 22,
   "metadata": {},
   "outputs": [
    {
     "data": {
      "text/plain": [
       "'WT'"
      ]
     },
     "execution_count": 22,
     "metadata": {},
     "output_type": "execute_result"
    }
   ],
   "source": [
    "too.xrt_mode = 6\n",
    "too.xrt_mode"
   ]
  },
  {
   "cell_type": "markdown",
   "metadata": {},
   "source": [
    "Basic validation of mode is done internally, so we can't set the mode to something wrong. The next two commands should return errors."
   ]
  },
  {
   "cell_type": "code",
   "execution_count": 23,
   "metadata": {},
   "outputs": [
    {
     "ename": "NameError",
     "evalue": "Unknown mode (Bananas), should be PC, WT or Auto",
     "output_type": "error",
     "traceback": [
      "\u001b[0;31m---------------------------------------------------------------------------\u001b[0m",
      "\u001b[0;31mNameError\u001b[0m                                 Traceback (most recent call last)",
      "Cell \u001b[0;32mIn [23], line 1\u001b[0m\n\u001b[0;32m----> 1\u001b[0m \u001b[43mtoo\u001b[49m\u001b[38;5;241;43m.\u001b[39;49m\u001b[43mxrt_mode\u001b[49m \u001b[38;5;241m=\u001b[39m \u001b[38;5;124m\"\u001b[39m\u001b[38;5;124mBananas\u001b[39m\u001b[38;5;124m\"\u001b[39m\n",
      "File \u001b[0;32m~/TOO_API/release/1.2/swift-too/examples/swift_too/swift_instruments.py:80\u001b[0m, in \u001b[0;36mTOOAPI_Instruments.xrt\u001b[0;34m(self, mode)\u001b[0m\n\u001b[1;32m     78\u001b[0m \u001b[38;5;129m@xrt\u001b[39m\u001b[38;5;241m.\u001b[39msetter\n\u001b[1;32m     79\u001b[0m \u001b[38;5;28;01mdef\u001b[39;00m \u001b[38;5;21mxrt\u001b[39m(\u001b[38;5;28mself\u001b[39m, mode):\n\u001b[0;32m---> 80\u001b[0m     \u001b[38;5;28;43mself\u001b[39;49m\u001b[38;5;241;43m.\u001b[39;49m\u001b[43mxrt_mode_setter\u001b[49m\u001b[43m(\u001b[49m\u001b[38;5;124;43m\"\u001b[39;49m\u001b[38;5;124;43mxrt\u001b[39;49m\u001b[38;5;124;43m\"\u001b[39;49m\u001b[43m,\u001b[49m\u001b[43m \u001b[49m\u001b[43mmode\u001b[49m\u001b[43m)\u001b[49m\n",
      "File \u001b[0;32m~/TOO_API/release/1.2/swift-too/examples/swift_too/swift_instruments.py:61\u001b[0m, in \u001b[0;36mTOOAPI_Instruments.xrt_mode_setter\u001b[0;34m(self, attr, mode)\u001b[0m\n\u001b[1;32m     59\u001b[0m         \u001b[38;5;28msetattr\u001b[39m(\u001b[38;5;28mself\u001b[39m, \u001b[38;5;124mf\u001b[39m\u001b[38;5;124m\"\u001b[39m\u001b[38;5;124m_\u001b[39m\u001b[38;5;132;01m{\u001b[39;00mattr\u001b[38;5;132;01m}\u001b[39;00m\u001b[38;5;124m\"\u001b[39m, MODESXRT[mode])\n\u001b[1;32m     60\u001b[0m     \u001b[38;5;28;01melse\u001b[39;00m:\n\u001b[0;32m---> 61\u001b[0m         \u001b[38;5;28;01mraise\u001b[39;00m \u001b[38;5;167;01mNameError\u001b[39;00m(\u001b[38;5;124mf\u001b[39m\u001b[38;5;124m\"\u001b[39m\u001b[38;5;124mUnknown mode (\u001b[39m\u001b[38;5;132;01m{\u001b[39;00mmode\u001b[38;5;132;01m}\u001b[39;00m\u001b[38;5;124m), should be PC, WT or Auto\u001b[39m\u001b[38;5;124m\"\u001b[39m)\n\u001b[1;32m     62\u001b[0m \u001b[38;5;28;01melif\u001b[39;00m mode \u001b[38;5;129;01mis\u001b[39;00m \u001b[38;5;28;01mNone\u001b[39;00m:\n\u001b[1;32m     63\u001b[0m     \u001b[38;5;28msetattr\u001b[39m(\u001b[38;5;28mself\u001b[39m, \u001b[38;5;124mf\u001b[39m\u001b[38;5;124m\"\u001b[39m\u001b[38;5;124m_\u001b[39m\u001b[38;5;132;01m{\u001b[39;00mattr\u001b[38;5;132;01m}\u001b[39;00m\u001b[38;5;124m\"\u001b[39m, mode)\n",
      "\u001b[0;31mNameError\u001b[0m: Unknown mode (Bananas), should be PC, WT or Auto"
     ]
    }
   ],
   "source": [
    "too.xrt_mode = \"Bananas\""
   ]
  },
  {
   "cell_type": "code",
   "execution_count": 24,
   "metadata": {},
   "outputs": [
    {
     "ename": "ValueError",
     "evalue": "Unknown mode (96), should be PC (7), WT (6) or Auto (0)",
     "output_type": "error",
     "traceback": [
      "\u001b[0;31m---------------------------------------------------------------------------\u001b[0m",
      "\u001b[0;31mValueError\u001b[0m                                Traceback (most recent call last)",
      "Cell \u001b[0;32mIn [24], line 1\u001b[0m\n\u001b[0;32m----> 1\u001b[0m \u001b[43mtoo\u001b[49m\u001b[38;5;241;43m.\u001b[39;49m\u001b[43mxrt_mode\u001b[49m \u001b[38;5;241m=\u001b[39m \u001b[38;5;241m96\u001b[39m\n",
      "File \u001b[0;32m~/TOO_API/release/1.2/swift-too/examples/swift_too/swift_instruments.py:80\u001b[0m, in \u001b[0;36mTOOAPI_Instruments.xrt\u001b[0;34m(self, mode)\u001b[0m\n\u001b[1;32m     78\u001b[0m \u001b[38;5;129m@xrt\u001b[39m\u001b[38;5;241m.\u001b[39msetter\n\u001b[1;32m     79\u001b[0m \u001b[38;5;28;01mdef\u001b[39;00m \u001b[38;5;21mxrt\u001b[39m(\u001b[38;5;28mself\u001b[39m, mode):\n\u001b[0;32m---> 80\u001b[0m     \u001b[38;5;28;43mself\u001b[39;49m\u001b[38;5;241;43m.\u001b[39;49m\u001b[43mxrt_mode_setter\u001b[49m\u001b[43m(\u001b[49m\u001b[38;5;124;43m\"\u001b[39;49m\u001b[38;5;124;43mxrt\u001b[39;49m\u001b[38;5;124;43m\"\u001b[39;49m\u001b[43m,\u001b[49m\u001b[43m \u001b[49m\u001b[43mmode\u001b[49m\u001b[43m)\u001b[49m\n",
      "File \u001b[0;32m~/TOO_API/release/1.2/swift-too/examples/swift_too/swift_instruments.py:68\u001b[0m, in \u001b[0;36mTOOAPI_Instruments.xrt_mode_setter\u001b[0;34m(self, attr, mode)\u001b[0m\n\u001b[1;32m     66\u001b[0m     \u001b[38;5;28msetattr\u001b[39m(\u001b[38;5;28mself\u001b[39m, \u001b[38;5;124mf\u001b[39m\u001b[38;5;124m\"\u001b[39m\u001b[38;5;124m_\u001b[39m\u001b[38;5;132;01m{\u001b[39;00mattr\u001b[38;5;132;01m}\u001b[39;00m\u001b[38;5;124m\"\u001b[39m, mode)\n\u001b[1;32m     67\u001b[0m \u001b[38;5;28;01melse\u001b[39;00m:\n\u001b[0;32m---> 68\u001b[0m     \u001b[38;5;28;01mraise\u001b[39;00m \u001b[38;5;167;01mValueError\u001b[39;00m(\n\u001b[1;32m     69\u001b[0m         \u001b[38;5;124mf\u001b[39m\u001b[38;5;124m\"\u001b[39m\u001b[38;5;124mUnknown mode (\u001b[39m\u001b[38;5;132;01m{\u001b[39;00mmode\u001b[38;5;132;01m}\u001b[39;00m\u001b[38;5;124m), should be PC (7), WT (6) or Auto (0)\u001b[39m\u001b[38;5;124m\"\u001b[39m\n\u001b[1;32m     70\u001b[0m     )\n",
      "\u001b[0;31mValueError\u001b[0m: Unknown mode (96), should be PC (7), WT (6) or Auto (0)"
     ]
    }
   ],
   "source": [
    "too.xrt_mode = 96"
   ]
  },
  {
   "cell_type": "markdown",
   "metadata": {},
   "source": [
    "UVOT is a more complicated instrument to configure, having as it does a large number of combinations of filters. Default for UVOT is filter of the day, which is mode 0x9999. If you want to pick a filter, you can look up the correct mode on the [UVOT modes](https://www.swift.psu.edu/operations/mode_lookup.php) web page.\n",
    "    \n",
    "I think we should look at this guy using UVOT's *u* filter, so let's pick that. "
   ]
  },
  {
   "cell_type": "code",
   "execution_count": 25,
   "metadata": {},
   "outputs": [],
   "source": [
    "too.uvot_mode = 0x01AB"
   ]
  },
  {
   "cell_type": "markdown",
   "metadata": {},
   "source": [
    "Note that we don't do any internal validation of the UVOT mode, because the UVOT mode table is huge, so outside the scope of this. We will check the mode is valid at the server side and report back an error if it's not. Note that although we can set `uvot_mode` as an integer, when we print it, it always reports as a hex string."
   ]
  },
  {
   "cell_type": "code",
   "execution_count": 26,
   "metadata": {},
   "outputs": [
    {
     "data": {
      "text/plain": [
       "'0x01ab'"
      ]
     },
     "execution_count": 26,
     "metadata": {},
     "output_type": "execute_result"
    }
   ],
   "source": [
    "too.uvot_mode"
   ]
  },
  {
   "cell_type": "markdown",
   "metadata": {},
   "source": [
    "Sanity check time, is this UVOT mode the one we want? We can always check with the `UVOTMode` class."
   ]
  },
  {
   "cell_type": "code",
   "execution_count": 27,
   "metadata": {},
   "outputs": [
    {
     "data": {
      "text/html": [
       "<h2>UVOT Mode: 0x01ab</h2><p>The following table summarizes this mode, ordered by the filter sequence:</p><table id=\"modelist\" cellpadding=4 cellspacing=0><tr><th>Filter</th><th>Event FOV</th><th>Image FOV</th><th>Bin Size</th><th>Max. Exp. Time</th><th>Weighting</th><th>Comments</th></tr><tr\"><td>u</td><td>None</td><td>17</td><td>1</td><td>3000</td><td>3000</td><td>FILL THE SNAPSHOT</td></tr></table><p id=\"terms\"><small><b>Filter: </b>The particular filter in the sequence.<br><b>Event FOV: </b>The size of the FOV (in arc-minutes) for UVOT event data.<br><b>Image FOV: </b>The size of the FOV (in arc-minutes) for UVOT image data.<br><b>Max. Exp. Time: </b>The maximum amount of time the snapshot will spend on the particular filter in the sequence.<br><b>Weighting: </b>Ratio of time spent on the particular filter in the sequence.<br><b>Comments: </b>Additional notes that may be useful to know.<br></small></p>"
      ],
      "text/plain": [
       "UVOT_mode(username='anonymous',uvotmode='0x01ab')"
      ]
     },
     "execution_count": 27,
     "metadata": {},
     "output_type": "execute_result"
    }
   ],
   "source": [
    "from swifttools.swift_too import UVOTMode\n",
    "\n",
    "UVOTMode(too.uvot_mode)"
   ]
  },
  {
   "cell_type": "markdown",
   "metadata": {},
   "source": [
    "Note if you don't know what UVOT mode you want, you can just put some text in there."
   ]
  },
  {
   "cell_type": "code",
   "execution_count": 28,
   "metadata": {},
   "outputs": [],
   "source": [
    "too.uvot_mode = (\n",
    "    \"I think I want all UV filters for this, whatever the UVOT team recommends.\"\n",
    ")"
   ]
  },
  {
   "cell_type": "markdown",
   "metadata": {},
   "source": [
    "OK, one last sanity check before submission, do this pass the internal checks for submission?"
   ]
  },
  {
   "cell_type": "code",
   "execution_count": 29,
   "metadata": {},
   "outputs": [
    {
     "name": "stdout",
     "output_type": "stream",
     "text": [
      "Something is wrong! ['Missing key: science_just']\n"
     ]
    }
   ],
   "source": [
    "if too.validate():\n",
    "    print(\"Good to go!\")\n",
    "else:\n",
    "    print(f\"Something is wrong! {[e for e in too.status.errors]}\")\n"
   ]
  },
  {
   "cell_type": "markdown",
   "metadata": {},
   "source": [
    "Looks like we forgot something, so we should figure that out! science_just is the clue here, we didn't enter a science justification. \n",
    "\n",
    "OK, let's write a science justification for this request. This should be persuasive as to why this object requires both rapid observations, and the interest of the Swift mission. Think of writing a proposal, but in a paragraph or two. Let's give it a go..."
   ]
  },
  {
   "cell_type": "code",
   "execution_count": 30,
   "metadata": {},
   "outputs": [],
   "source": [
    "too.science_just = (\n",
    "    \"SMC X-3 has been detected to be entering it's 3rd outburst since discovery.\"\n",
    "    \"We wish to monitor the flux and pulsar period in order to track the evolution \"\n",
    "    \"of this Be/XRB which has previously shown to enter a Super-Eddington level outburst. \"\n",
    "    \"As the outburst has been detected in it's early stages, we request observations begin \"\n",
    "    \"ASAP, and request an initial 2 week monitoring period to accurately sample flux rise \"\n",
    "    \"and pulsar period evolution.\"\n",
    ")"
   ]
  },
  {
   "cell_type": "code",
   "execution_count": 31,
   "metadata": {},
   "outputs": [
    {
     "name": "stdout",
     "output_type": "stream",
     "text": [
      "Good to go!\n"
     ]
    }
   ],
   "source": [
    "if too.validate():\n",
    "    print(\"Good to go!\")"
   ]
  },
  {
   "cell_type": "markdown",
   "metadata": {},
   "source": [
    "One thing to note, there should have been an warning here, we never entered the total exposure time for the request, but as we gave the individual exposure time, and number of observations, so it calculated it itself. Let's check it real quick, should be 7 exposure x 1000s each...."
   ]
  },
  {
   "cell_type": "markdown",
   "metadata": {},
   "source": [
    "You can also validate on the server side, this means that the TOO will be checked for any additional issues before submission. Here we go..."
   ]
  },
  {
   "cell_type": "code",
   "execution_count": 32,
   "metadata": {},
   "outputs": [],
   "source": [
    "if too.server_validate():\n",
    "    print(\"Good to go! (server side edition)\")"
   ]
  },
  {
   "cell_type": "markdown",
   "metadata": {},
   "source": [
    "If the server side validation passes with no errors or warnings, we can guarantee that there are no problems with our TOO.\n",
    "\n",
    "Let's just look at our TOO before we submit it."
   ]
  },
  {
   "cell_type": "code",
   "execution_count": 33,
   "metadata": {},
   "outputs": [
    {
     "data": {
      "text/html": [
       "<table><thead><th style='text-align: left;'>Parameter</th><th style='text-align: left;'>Value</th></thead><tr><td style='text-align: left;'>Requester</td><td style='text-align: left;'>myuser</td></tr><tr><td style='text-align: left;'>Object Name</td><td style='text-align: left;'>SMC X-3</td></tr><tr><td style='text-align: left;'>Type or Classification</td><td style='text-align: left;'>Be/X-ray Binary</td></tr><tr><td style='text-align: left;'>Right Ascenscion (J2000)</td><td style='text-align: left;'>13.023399989999998</td></tr><tr><td style='text-align: left;'>Declination (J2000)</td><td style='text-align: left;'>-72.4345</td></tr><tr><td style='text-align: left;'>Position Error (90% confidence - arcminutes)</td><td style='text-align: left;'>0.0</td></tr><tr><td style='text-align: left;'>Instrument</td><td style='text-align: left;'>XRT</td></tr><tr><td style='text-align: left;'>Urgency</td><td style='text-align: left;'>2</td></tr><tr><td style='text-align: left;'>XRT Estimated Rate (c/s)</td><td style='text-align: left;'>20</td></tr><tr><td style='text-align: left;'>Immediate Objective</td><td style='text-align: left;'>Track the X-ray evolution and pulsar period in this new outburst of SMC X-3</td></tr><tr><td style='text-align: left;'>Science Justification</td><td style='text-align: left;'>SMC X-3 has been detected to be entering it's 3rd outburst since discovery.We wish to monitor the flux and pulsar period in order to track the evolution of this Be/XRB which has previously shown to enter a Super-Eddington level outburst. As the outburst has been detected in it's early stages, we request observations begin ASAP, and request an initial 2 week monitoring period to accurately sample flux rise and pulsar period evolution.</td></tr><tr><td style='text-align: left;'>Exposure Time (seconds)</td><td style='text-align: left;'>7000.0</td></tr><tr><td style='text-align: left;'>Exposure Time Justification</td><td style='text-align: left;'>1ks to measure flux and period</td></tr><tr><td style='text-align: left;'>Exposure Time per Visit (seconds)</td><td style='text-align: left;'>1000</td></tr><tr><td style='text-align: left;'>Number of Visits</td><td style='text-align: left;'>7</td></tr><tr><td style='text-align: left;'>Monitoring Cadence</td><td style='text-align: left;'>2.0 days</td></tr><tr><td style='text-align: left;'>XRT Mode</td><td style='text-align: left;'>WT</td></tr><tr><td style='text-align: left;'>UVOT Mode</td><td style='text-align: left;'>I think I want all UV filters for this, whatever the UVOT team recommends.</td></tr><tr><td style='text-align: left;'>Observation Strategy</td><td style='text-align: left;'>multiple</td></tr><tr><td style='text-align: left;'>What is Driving the Exposure Time?</td><td style='text-align: left;'>Light Curve</td></tr><tr><td style='text-align: left;'>Debug mode</td><td style='text-align: left;'>True</td></tr><tr><td style='text-align: left;'>Quiet mode</td><td style='text-align: left;'>False</td></tr></table>"
      ],
      "text/plain": [
       "Swift_TOO_Request(username='myuser',source_name='SMC X-3',source_type='Be/X-ray Binary',poserr='0.0',instrument='XRT',urgency='2',xrt_countrate='20',immediate_objective='Track the X-ray evolution and pulsar period in this new outburst of SMC X-3',science_just='SMC X-3 has been detected to be entering it's 3rd outburst since discovery.We wish to monitor the flux and pulsar period in order to track the evolution of this Be/XRB which has previously shown to enter a Super-Eddington level outburst. As the outburst has been detected in it's early stages, we request observations begin ASAP, and request an initial 2 week monitoring period to accurately sample flux rise and pulsar period evolution.',exposure='7000.0',exp_time_just='1ks to measure flux and period',exp_time_per_visit='1000',num_of_visits='7',monitoring_freq='2.0 days',xrt_mode='WT',uvot_mode='I think I want all UV filters for this, whatever the UVOT team recommends.',obs_n='multiple',obs_type='Light Curve',debug='True',quiet='False')"
      ]
     },
     "execution_count": 33,
     "metadata": {},
     "output_type": "execute_result"
    }
   ],
   "source": [
    "too"
   ]
  },
  {
   "cell_type": "markdown",
   "metadata": {},
   "source": [
    "Now it's time to submit our TOO. Remember as we enabled debug mode, this won't submit a TOO request, but it will act like it, including sending you emails saying it's been recieved. "
   ]
  },
  {
   "cell_type": "code",
   "execution_count": 34,
   "metadata": {},
   "outputs": [
    {
     "name": "stdout",
     "output_type": "stream",
     "text": [
      "Submitted TOO ID = 13860\n"
     ]
    }
   ],
   "source": [
    "if too.submit():\n",
    "    print(f\"Submitted TOO ID = {too.status.too_id}\")\n",
    "else:\n",
    "    print(f\"{too.status.status}. Errors: {too.status.errors}\")"
   ]
  },
  {
   "cell_type": "code",
   "execution_count": 35,
   "metadata": {},
   "outputs": [
    {
     "name": "stdout",
     "output_type": "stream",
     "text": [
      "Yes\n"
     ]
    }
   ],
   "source": [
    "if too.status:\n",
    "    print(\"Yes\")\n",
    "else:\n",
    "    print(\"No\")"
   ]
  },
  {
   "cell_type": "markdown",
   "metadata": {},
   "source": [
    "If the above is reports all good then you're good. You should get an email saying you submitted a TOO (yes even in debug mode). Let's check the status of the TOO anyway, this will give us the TOO ID number assigned to our TOO.\n",
    "\n",
    "However, this is SMC X-3 we're talking about here, it's declination is -72.4345 degrees. That is pretty close to *Swift*'s pole constraint, and we're submitting at `urgency = 2`, observations in 24 hours. If you happen to be running this notebook during a period when SMC X-3 is in pole constraint, then you'll see that the request has been rejected, and you'll see an error like this:\n",
    "\n",
    "```\n",
    "Rejected. Errors: ['ERROR: Object currently constrained until 2021-03-20 06:36:00, so 24-hour response TOO rejected.']\n",
    "```\n",
    "\n",
    "If this happens, you can always try resubmitting as Urgency 3 or 4 instead, depending on how long it will be until it comes out of constraint. This will essentially ask the *Swift* team to please observe it when it becomes visible. \n",
    "\n",
    "**Note:** If you want to resubmit a Rejected TOO after modification, you need to clear the current status. This can be done with the `status.clear()` method, example below:"
   ]
  },
  {
   "cell_type": "code",
   "execution_count": 36,
   "metadata": {},
   "outputs": [
    {
     "name": "stdout",
     "output_type": "stream",
     "text": [
      "TOO was already accepted, so no need for modification.\n"
     ]
    }
   ],
   "source": [
    "if not too.status:\n",
    "    too.urgency = 4  # Change urgency to weeks to months\n",
    "    too.status.clear()  # Clear the 'Rejected' status of the previous attempt to submit\n",
    "\n",
    "    # Go ahead and submit again with the revised parameter\n",
    "    if too.submit():\n",
    "        print(f\"Submitted TOO ID = {too.status.too_id}\")\n",
    "    else:\n",
    "        print(f\"{too.status.status}. Errors: {too.status.errors}\")\n",
    "else:\n",
    "    print(\"TOO was already accepted, so no need for modification.\")"
   ]
  },
  {
   "cell_type": "markdown",
   "metadata": {},
   "source": [
    "You might have noticed a little trick here. You can check if a TOO is accepted by simple checking the truth value of `too.status`. So if the TOO has been accepted `too.status == True` will be return `True`. \n",
    "\n",
    "There is another method for checking if a TOO has been accepted, `complete` which is invoked as such:"
   ]
  },
  {
   "cell_type": "code",
   "execution_count": 37,
   "metadata": {},
   "outputs": [
    {
     "data": {
      "text/plain": [
       "True"
      ]
     },
     "execution_count": 37,
     "metadata": {},
     "output_type": "execute_result"
    }
   ],
   "source": [
    "too.complete"
   ]
  },
  {
   "cell_type": "markdown",
   "metadata": {},
   "source": [
    "Note that this is different, as it actually queries the TOO API server every time it is called to query if the TOO was accepted. Generally the former method is preferred."
   ]
  },
  {
   "cell_type": "code",
   "execution_count": 38,
   "metadata": {},
   "outputs": [
    {
     "name": "stdout",
     "output_type": "stream",
     "text": [
      "We are done here.\n"
     ]
    }
   ],
   "source": [
    "if too.status:\n",
    "    print(\"We are done here.\")\n",
    "else:\n",
    "    print(\"You shouldn't see this message.\")"
   ]
  },
  {
   "cell_type": "markdown",
   "metadata": {},
   "source": [
    "That is it! There are more configuration options, but this is a simple case. Look at the documentation for more options."
   ]
  }
 ],
 "metadata": {
  "kernelspec": {
   "display_name": "Python 3 (ipykernel)",
   "language": "python",
   "name": "python3"
  },
  "language_info": {
   "codemirror_mode": {
    "name": "ipython",
    "version": 3
   },
   "file_extension": ".py",
   "mimetype": "text/x-python",
   "name": "python",
   "nbconvert_exporter": "python",
   "pygments_lexer": "ipython3",
   "version": "3.9.14"
  }
 },
 "nbformat": 4,
 "nbformat_minor": 2
}
