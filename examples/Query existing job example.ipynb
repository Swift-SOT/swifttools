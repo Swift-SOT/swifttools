{
 "cells": [
  {
   "cell_type": "markdown",
   "id": "stainless-pathology",
   "metadata": {},
   "source": [
    "# `swift_too` module\n",
    "\n",
    "## Swift_QueryJob example - Querying and fetching the results of an existing job\n",
    "\n",
    "### API version = 1.2, `swifttools` version 3.0\n",
    "\n",
    "#### Author: Jamie A. Kennea (Penn State)\n",
    "\n",
    "If you wish to retrieve the results of a previously job, this is the task of the QueryJob class. All you need for this class is your username, shared secret and the job number which is reported back when the job is submitted either with `submit()` or `queue()` methods. The jobnumber can be found in the property `jobnumber`."
   ]
  },
  {
   "cell_type": "code",
   "execution_count": 1,
   "id": "legendary-deficit",
   "metadata": {},
   "outputs": [],
   "source": [
    "from swifttools.swift_too import QueryJob, VisQuery\n",
    "from time import sleep"
   ]
  },
  {
   "cell_type": "markdown",
   "id": "portable-recovery",
   "metadata": {},
   "source": [
    "Previously we would have defined here our username and shared_secret, however in `swifttools 2.2`, for most requests you can skip this and they will default to an anonymous user. For this notebook we'll use the anonymous login to make things simpler."
   ]
  },
  {
   "cell_type": "markdown",
   "id": "latest-fluid",
   "metadata": {},
   "source": [
    "First let's submit a simple job so we can get an example jobnumber. In this case I'm just going to do something that isn't too strenuous on the system, let's see if Sgr A* is currently visible, or when it is next visible."
   ]
  },
  {
   "cell_type": "code",
   "execution_count": 2,
   "id": "cardiac-conservation",
   "metadata": {},
   "outputs": [
    {
     "name": "stdout",
     "output_type": "stream",
     "text": [
      "Queued job successfully! Jobnumber = 578328\n"
     ]
    }
   ],
   "source": [
    "vq = VisQuery()\n",
    "vq.name = \"Crab\"\n",
    "vq.hires = (True,)\n",
    "vq.length = 1\n",
    "if vq.queue():\n",
    "    print(f\"Queued job successfully! Jobnumber = {vq.status.jobnumber}\")\n",
    "else:\n",
    "    print(f\"Error: {vq.status.errors}\")"
   ]
  },
  {
   "cell_type": "markdown",
   "id": "another-soundtrack",
   "metadata": {},
   "source": [
    "Note that the job has been submitted, but because we used the `queue()` method, it may not have completed yet. If you wait a bit, it will be, but the next step can be run straight away to demonstrate what happens if processing isn't complete."
   ]
  },
  {
   "cell_type": "markdown",
   "id": "compressed-compression",
   "metadata": {},
   "source": [
    "\n",
    "\n",
    "OK let's see how our job is doing, because the purpose of the QueryJob class is to allow us to fetch a job later, or maybe ASAP. Maybe you don't want to hang around waiting for a bunch of jobs to complete, submit some, have some coffee, come back and fetch, or just want to query the result of an existing job."
   ]
  },
  {
   "cell_type": "code",
   "execution_count": 3,
   "id": "dying-animal",
   "metadata": {
    "scrolled": false
   },
   "outputs": [
    {
     "name": "stdout",
     "output_type": "stream",
     "text": [
      "Current status of job #578328: Queued\n"
     ]
    }
   ],
   "source": [
    "qj = QueryJob()\n",
    "qj.jobnumber = vq.status.jobnumber\n",
    "qj.queue()\n",
    "\n",
    "print(f\"Current status of job #{vq.status.jobnumber}: {qj.status}\")"
   ]
  },
  {
   "cell_type": "markdown",
   "id": "informed-advertiser",
   "metadata": {},
   "source": [
    "Note that for the class `QueryJob`, as it does not take many parameters, you can also pass parameters as arguments. If you do this, then the request will be submitted on invokation, so there's no need use the `submit()` method."
   ]
  },
  {
   "cell_type": "code",
   "execution_count": 4,
   "id": "handy-concern",
   "metadata": {
    "scrolled": false
   },
   "outputs": [
    {
     "name": "stdout",
     "output_type": "stream",
     "text": [
      "Current status of job #578328: Accepted\n"
     ]
    }
   ],
   "source": [
    "while not qj:\n",
    "    qj = QueryJob(jobnumber=vq.status.jobnumber)\n",
    "    print(f\"Current status of job #{vq.status.jobnumber}: {qj.status}\")\n",
    "    sleep(1)"
   ]
  },
  {
   "cell_type": "markdown",
   "id": "british-firewall",
   "metadata": {},
   "source": [
    "The `submit` (or argument form) should return `True` if the job has been fetched. It'll return `False` for a number of reasons, firstly if the job is still *Queued* (waiting to be processed) or *Processing*, the status will indicate this. Also the status can be *Rejected*, in the case where you have given bad parameters, or the job no longer exists.\n",
    "\n",
    "\n",
    "The above \"while\" will keep polling the job until it is complete. We put in the sleep between requests so as to not over spam the TOO_API server.\n",
    "\n",
    "OK let's assume that the above now reports \"Current status of job #XXX: Accepted\", which indicates a successful `QueryJob` call of a completed job. Let's see what our QueryJob class data now looks like."
   ]
  },
  {
   "cell_type": "code",
   "execution_count": 5,
   "id": "unexpected-boating",
   "metadata": {},
   "outputs": [
    {
     "data": {
      "text/html": [
       "<table><thead><th style='text-align: left;'>Parameter</th><th style='text-align: left;'>Value</th></thead><tr><td style='text-align: left;'>username</td><td style='text-align: left;'>anonymous</td></tr><tr><td style='text-align: left;'>jobnumber</td><td style='text-align: left;'>578328</td></tr><tr><td style='text-align: left;'>fetchresult</td><td style='text-align: left;'>True</td></tr><tr><td style='text-align: left;'>status</td><td style='text-align: left;'>Accepted</td></tr><tr><td style='text-align: left;'>errors</td><td style='text-align: left;'>[]</td></tr><tr><td style='text-align: left;'>warnings</td><td style='text-align: left;'>[]</td></tr><tr><td style='text-align: left;'>timestamp</td><td style='text-align: left;'>2022-09-23 10:27:11</td></tr><tr><td style='text-align: left;'>began</td><td style='text-align: left;'>2022-09-23 10:27:11</td></tr><tr><td style='text-align: left;'>completed</td><td style='text-align: left;'>2022-09-23 10:27:11</td></tr><tr><td style='text-align: left;'>result</td><td style='text-align: left;'>Swift_VisQuery object</td></tr></table>"
      ],
      "text/plain": [
       "QueryJob(username='anonymous',jobnumber='578328',fetchresult='True')"
      ]
     },
     "execution_count": 5,
     "metadata": {},
     "output_type": "execute_result"
    }
   ],
   "source": [
    "qj"
   ]
  },
  {
   "cell_type": "markdown",
   "id": "intellectual-fetish",
   "metadata": {},
   "source": [
    "You can see the data inside the class here presented in table form. The the more useful value here is `result`, which contains the result of the job. In the Python api, this will be a `Swift_VisQuery` object. You can display the result of the job like this:"
   ]
  },
  {
   "cell_type": "code",
   "execution_count": 6,
   "id": "induced-sunday",
   "metadata": {
    "scrolled": false
   },
   "outputs": [
    {
     "data": {
      "text/html": [
       "<table><thead><th style='text-align: left;'>Begin Time</th><th style='text-align: left;'>End Time</th><th style='text-align: left;'>Window length</th></thead><tr><td style='text-align: left;'>2022-09-23 10:27:00</td><td style='text-align: left;'>2022-09-23 11:08:00</td><td style='text-align: left;'>0:41:00</td></tr><tr><td style='text-align: left;'>2022-09-23 12:03:00</td><td style='text-align: left;'>2022-09-23 12:42:00</td><td style='text-align: left;'>0:39:00</td></tr><tr><td style='text-align: left;'>2022-09-23 13:38:00</td><td style='text-align: left;'>2022-09-23 14:19:00</td><td style='text-align: left;'>0:41:00</td></tr><tr><td style='text-align: left;'>2022-09-23 15:14:00</td><td style='text-align: left;'>2022-09-23 15:55:00</td><td style='text-align: left;'>0:41:00</td></tr><tr><td style='text-align: left;'>2022-09-23 16:49:00</td><td style='text-align: left;'>2022-09-23 17:30:00</td><td style='text-align: left;'>0:41:00</td></tr><tr><td style='text-align: left;'>2022-09-23 18:24:00</td><td style='text-align: left;'>2022-09-23 19:06:00</td><td style='text-align: left;'>0:42:00</td></tr><tr><td style='text-align: left;'>2022-09-23 20:00:00</td><td style='text-align: left;'>2022-09-23 20:41:00</td><td style='text-align: left;'>0:41:00</td></tr><tr><td style='text-align: left;'>2022-09-23 21:35:00</td><td style='text-align: left;'>2022-09-23 22:17:00</td><td style='text-align: left;'>0:42:00</td></tr><tr><td style='text-align: left;'>2022-09-23 23:11:00</td><td style='text-align: left;'>2022-09-23 23:52:00</td><td style='text-align: left;'>0:41:00</td></tr><tr><td style='text-align: left;'>2022-09-24 00:46:00</td><td style='text-align: left;'>2022-09-24 01:27:00</td><td style='text-align: left;'>0:41:00</td></tr><tr><td style='text-align: left;'>2022-09-24 02:22:00</td><td style='text-align: left;'>2022-09-24 03:03:00</td><td style='text-align: left;'>0:41:00</td></tr><tr><td style='text-align: left;'>2022-09-24 03:57:00</td><td style='text-align: left;'>2022-09-24 04:38:00</td><td style='text-align: left;'>0:41:00</td></tr><tr><td style='text-align: left;'>2022-09-24 05:33:00</td><td style='text-align: left;'>2022-09-24 06:14:00</td><td style='text-align: left;'>0:41:00</td></tr><tr><td style='text-align: left;'>2022-09-24 07:08:00</td><td style='text-align: left;'>2022-09-24 07:49:00</td><td style='text-align: left;'>0:41:00</td></tr><tr><td style='text-align: left;'>2022-09-24 08:43:00</td><td style='text-align: left;'>2022-09-24 09:25:00</td><td style='text-align: left;'>0:42:00</td></tr><tr><td style='text-align: left;'>2022-09-24 10:19:00</td><td style='text-align: left;'>2022-09-24 10:27:00</td><td style='text-align: left;'>0:08:00</td></tr></table>"
      ],
      "text/plain": [
       "Swift_VisQuery(username='anonymous',ra='83.633114166667',dec='22.014486944444',length='1',begin='2022-09-23 10:27:00',hires='['True']')"
      ]
     },
     "execution_count": 6,
     "metadata": {},
     "output_type": "execute_result"
    }
   ],
   "source": [
    "qj.result"
   ]
  },
  {
   "cell_type": "markdown",
   "id": "incredible-sculpture",
   "metadata": {},
   "source": [
    "Other parameters that might be of interest are the `timestamp`, `began` and `completed` values, which allow you to find out when the job was submitted, when it started processing and when it finished. For example:"
   ]
  },
  {
   "cell_type": "code",
   "execution_count": 7,
   "id": "incident-discount",
   "metadata": {
    "scrolled": false
   },
   "outputs": [
    {
     "name": "stdout",
     "output_type": "stream",
     "text": [
      "Job was submitted at 2022-09-23 10:27:11, was queued for 0s and took 0s to process.\n"
     ]
    }
   ],
   "source": [
    "print(\n",
    "    f\"Job was submitted at {qj.timestamp}, was queued for {(qj.began - qj.timestamp).seconds}s and took {(qj.completed - qj.began).seconds}s to process.\"\n",
    ")"
   ]
  },
  {
   "cell_type": "markdown",
   "id": "formed-smooth",
   "metadata": {},
   "source": [
    "As usual, times reported back are UT. That is it! If all is correct, then the following show the upcoming or current *Swift* visibility window for Sgr A*!"
   ]
  },
  {
   "cell_type": "code",
   "execution_count": 8,
   "id": "stopped-september",
   "metadata": {},
   "outputs": [
    {
     "name": "stdout",
     "output_type": "stream",
     "text": [
      "2022-09-23 10:27:00 - 2022-09-23 11:08:00 (0:41:00)\n",
      "2022-09-23 12:03:00 - 2022-09-23 12:42:00 (0:39:00)\n",
      "2022-09-23 13:38:00 - 2022-09-23 14:19:00 (0:41:00)\n",
      "2022-09-23 15:14:00 - 2022-09-23 15:55:00 (0:41:00)\n",
      "2022-09-23 16:49:00 - 2022-09-23 17:30:00 (0:41:00)\n",
      "2022-09-23 18:24:00 - 2022-09-23 19:06:00 (0:42:00)\n",
      "2022-09-23 20:00:00 - 2022-09-23 20:41:00 (0:41:00)\n",
      "2022-09-23 21:35:00 - 2022-09-23 22:17:00 (0:42:00)\n",
      "2022-09-23 23:11:00 - 2022-09-23 23:52:00 (0:41:00)\n",
      "2022-09-24 00:46:00 - 2022-09-24 01:27:00 (0:41:00)\n",
      "2022-09-24 02:22:00 - 2022-09-24 03:03:00 (0:41:00)\n",
      "2022-09-24 03:57:00 - 2022-09-24 04:38:00 (0:41:00)\n",
      "2022-09-24 05:33:00 - 2022-09-24 06:14:00 (0:41:00)\n",
      "2022-09-24 07:08:00 - 2022-09-24 07:49:00 (0:41:00)\n",
      "2022-09-24 08:43:00 - 2022-09-24 09:25:00 (0:42:00)\n",
      "2022-09-24 10:19:00 - 2022-09-24 10:27:00 (0:08:00)\n"
     ]
    }
   ],
   "source": [
    "_ = [print(win) for win in qj.result]"
   ]
  },
  {
   "cell_type": "markdown",
   "id": "invisible-thumb",
   "metadata": {},
   "source": [
    "That first date is going to be the first visibility date, which if the target is visible now should be essentially the same as `timestamp` in `QueryJob`, or sometime in the future if the target was constrained when the job was submitted. "
   ]
  },
  {
   "cell_type": "code",
   "execution_count": 9,
   "id": "chronic-theorem",
   "metadata": {},
   "outputs": [
    {
     "name": "stdout",
     "output_type": "stream",
     "text": [
      "-1 day, 23:59:49\n"
     ]
    }
   ],
   "source": [
    "print(qj.result[0][0] - qj.timestamp)"
   ]
  },
  {
   "cell_type": "markdown",
   "id": "simple-brush",
   "metadata": {},
   "source": [
    "Note due to the weird way datetime displays negative timediffs, you might see something like `-1 day, 23:59:19` if the value is negative!"
   ]
  }
 ],
 "metadata": {
  "kernelspec": {
   "display_name": "Python 3 (ipykernel)",
   "language": "python",
   "name": "python3"
  },
  "language_info": {
   "codemirror_mode": {
    "name": "ipython",
    "version": 3
   },
   "file_extension": ".py",
   "mimetype": "text/x-python",
   "name": "python",
   "nbconvert_exporter": "python",
   "pygments_lexer": "ipython3",
   "version": "3.9.14"
  }
 },
 "nbformat": 4,
 "nbformat_minor": 5
}
