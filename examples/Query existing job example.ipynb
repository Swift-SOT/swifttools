{
 "cells": [
  {
   "cell_type": "markdown",
   "id": "stainless-pathology",
   "metadata": {},
   "source": [
    "# `swift_too` module\n",
    "\n",
    "## Swift_QueryJob example - Querying and fetching the results of an existing job\n",
    "\n",
    "### API version = 1.2\n",
    "\n",
    "#### Author: Jamie A. Kennea (Penn State)\n",
    "\n",
    "If you wish to retrieve the results of a previously job, this is the task of the QueryJob class. All you need for this class is your username, shared secret and the job number which is reported back when the job is submitted either with `submit()` or `queue()` methods. The jobnumber can be found in the property `jobnumber`."
   ]
  },
  {
   "cell_type": "code",
   "execution_count": 1,
   "id": "legendary-deficit",
   "metadata": {},
   "outputs": [],
   "source": [
    "from swifttools.swift_too import QueryJob, Swift_VisQuery\n",
    "from time import sleep"
   ]
  },
  {
   "cell_type": "markdown",
   "id": "portable-recovery",
   "metadata": {},
   "source": [
    "I'll define our username and shared secret next because we'll use them twice in this notebook"
   ]
  },
  {
   "cell_type": "code",
   "execution_count": 2,
   "id": "behavioral-treasurer",
   "metadata": {},
   "outputs": [],
   "source": [
    "username = 'myuser'\n",
    "shared_secret = 'mysharedsecret'"
   ]
  },
  {
   "cell_type": "markdown",
   "id": "latest-fluid",
   "metadata": {},
   "source": [
    "First let's submit a simple job so we can get an example jobnumber. In this case I'm just going to do something that isn't too strenuous on the system, let's see if Sgr A* is currently visible, or when it is next visible."
   ]
  },
  {
   "cell_type": "code",
   "execution_count": 3,
   "id": "cardiac-conservation",
   "metadata": {},
   "outputs": [
    {
     "name": "stdout",
     "output_type": "stream",
     "text": [
      "Queued job successfully! Jobnumber = 47836\n"
     ]
    }
   ],
   "source": [
    "vq = Swift_VisQuery()\n",
    "vq.username = username\n",
    "vq.shared_secret = shared_secret\n",
    "vq.ra,vq.dec = 266.4168, -29.0078\n",
    "vq.length = 1\n",
    "vq.hires = True\n",
    "if vq.queue():\n",
    "    print(f\"Queued job successfully! Jobnumber = {vq.status.jobnumber}\")\n",
    "else:\n",
    "    print(f\"Error: {vq.status.errors}\")"
   ]
  },
  {
   "cell_type": "markdown",
   "id": "another-soundtrack",
   "metadata": {},
   "source": [
    "Note that the job has been submitted, but because we used the `queue()` method, it may not have completed yet. If you wait a bit, it will be, but the next step can be run straight away to demonstrate what happens if processing isn't complete."
   ]
  },
  {
   "cell_type": "markdown",
   "id": "compressed-compression",
   "metadata": {},
   "source": [
    "\n",
    "\n",
    "OK let's see how our job is doing, because the purpose of the QueryJob class is to allow us to fetch a job later, or maybe ASAP. Maybe you don't want to hang around waiting for a bunch of jobs to complete, submit some, have some coffee, come back and fetch, or just want to query the result of an existing job."
   ]
  },
  {
   "cell_type": "code",
   "execution_count": 4,
   "id": "dying-animal",
   "metadata": {},
   "outputs": [
    {
     "name": "stdout",
     "output_type": "stream",
     "text": [
      "Current status of job #47836: Processing\n"
     ]
    }
   ],
   "source": [
    "qj = QueryJob()\n",
    "qj.username = username\n",
    "qj.shared_secret = shared_secret\n",
    "qj.jobnumber = vq.status.jobnumber\n",
    "qj.submit()\n",
    "\n",
    "print(f\"Current status of job #{vq.status.jobnumber}: {qj.status}\")\n"
   ]
  },
  {
   "cell_type": "markdown",
   "id": "informed-advertiser",
   "metadata": {},
   "source": [
    "Note that for the class `QueryJob`, as it does not take many parameters, you can also pass parameters as arguments. If you do this, then the request will be submitted on invokation, so there's no need use the `submit()` method."
   ]
  },
  {
   "cell_type": "code",
   "execution_count": 5,
   "id": "handy-concern",
   "metadata": {},
   "outputs": [
    {
     "name": "stdout",
     "output_type": "stream",
     "text": [
      "Current status of job #47836: Accepted\n"
     ]
    }
   ],
   "source": [
    "while(not qj):\n",
    "    qj = QueryJob(username,shared_secret,vq.status.jobnumber)\n",
    "    print(f\"Current status of job #{vq.status.jobnumber}: {qj.status}\")\n",
    "    sleep(1)"
   ]
  },
  {
   "cell_type": "markdown",
   "id": "british-firewall",
   "metadata": {},
   "source": [
    "The `submit` (or argument form) should return `True` if the job has been fetched. It'll return `False` for a number of reasons, firstly if the job is still *Queued* (waiting to be processed) or *Processing*, the status will indicate this. Also the status can be *Rejected*, in the case where you have given bad parameters, or the job no longer exists.\n",
    "\n",
    "\n",
    "The above \"while\" will keep polling the job until it is complete. We put in the sleep between requests so as to not over spam the TOO_API server.\n",
    "\n",
    "OK let's assume that the above now reports \"Current status of job #XXX: Accepted\", which indicates a successful `QueryJob` call of a completed job. Let's see what our QueryJob class data now looks like."
   ]
  },
  {
   "cell_type": "code",
   "execution_count": 6,
   "id": "unexpected-boating",
   "metadata": {},
   "outputs": [
    {
     "data": {
      "text/html": [
       "<table>\n",
       "<thead>\n",
       "<tr><th style=\"text-align: left;\">  Parameter</th><th style=\"text-align: left;\">                Value</th></tr>\n",
       "</thead>\n",
       "<tbody>\n",
       "<tr><td style=\"text-align: left;\">   username</td><td style=\"text-align: left;\">                myuser</td></tr>\n",
       "<tr><td style=\"text-align: left;\">     status</td><td style=\"text-align: left;\">             Accepted</td></tr>\n",
       "<tr><td style=\"text-align: left;\">  jobnumber</td><td style=\"text-align: left;\">                47836</td></tr>\n",
       "<tr><td style=\"text-align: left;\">     errors</td><td style=\"text-align: left;\">                   []</td></tr>\n",
       "<tr><td style=\"text-align: left;\">   warnings</td><td style=\"text-align: left;\">                   []</td></tr>\n",
       "<tr><td style=\"text-align: left;\">  timestamp</td><td style=\"text-align: left;\">  2021-07-08 19:58:40</td></tr>\n",
       "<tr><td style=\"text-align: left;\">      began</td><td style=\"text-align: left;\">  2021-07-08 19:58:40</td></tr>\n",
       "<tr><td style=\"text-align: left;\">  completed</td><td style=\"text-align: left;\">  2021-07-08 19:58:41</td></tr>\n",
       "<tr><td style=\"text-align: left;\">fetchresult</td><td style=\"text-align: left;\">                 True</td></tr>\n",
       "<tr><td style=\"text-align: left;\">     result</td><td style=\"text-align: left;\">Swift_VisQuery object</td></tr>\n",
       "</tbody>\n",
       "</table>"
      ],
      "text/plain": [
       "<swift_too.query_job.QueryJob at 0x1138518b0>"
      ]
     },
     "execution_count": 6,
     "metadata": {},
     "output_type": "execute_result"
    }
   ],
   "source": [
    "qj"
   ]
  },
  {
   "cell_type": "markdown",
   "id": "intellectual-fetish",
   "metadata": {},
   "source": [
    "You can see the data inside the class here presented in table form. The the more useful value here is `result`, which contains the result of the job. In the Python api, this will be a `Swift_VisQuery` object. You can display the result of the job like this:"
   ]
  },
  {
   "cell_type": "code",
   "execution_count": 7,
   "id": "induced-sunday",
   "metadata": {},
   "outputs": [
    {
     "data": {
      "text/html": [
       "<table>\n",
       "<thead>\n",
       "<tr><th style=\"text-align: left;\">              Begin</th><th style=\"text-align: left;\">                End</th><th style=\"text-align: left;\">  Length</th></tr>\n",
       "</thead>\n",
       "<tbody>\n",
       "<tr><td style=\"text-align: left;\">2021-07-08 20:03:00</td><td style=\"text-align: left;\">2021-07-08 20:33:00</td><td style=\"text-align: left;\"> 0:30:00</td></tr>\n",
       "<tr><td style=\"text-align: left;\">2021-07-08 21:30:00</td><td style=\"text-align: left;\">2021-07-08 21:39:00</td><td style=\"text-align: left;\"> 0:09:00</td></tr>\n",
       "<tr><td style=\"text-align: left;\">2021-07-08 21:44:00</td><td style=\"text-align: left;\">2021-07-08 22:09:00</td><td style=\"text-align: left;\"> 0:25:00</td></tr>\n",
       "<tr><td style=\"text-align: left;\">2021-07-08 23:05:00</td><td style=\"text-align: left;\">2021-07-08 23:22:00</td><td style=\"text-align: left;\"> 0:17:00</td></tr>\n",
       "<tr><td style=\"text-align: left;\">2021-07-08 23:26:00</td><td style=\"text-align: left;\">2021-07-08 23:44:00</td><td style=\"text-align: left;\"> 0:18:00</td></tr>\n",
       "<tr><td style=\"text-align: left;\">2021-07-09 00:41:00</td><td style=\"text-align: left;\">2021-07-09 01:04:00</td><td style=\"text-align: left;\"> 0:23:00</td></tr>\n",
       "<tr><td style=\"text-align: left;\">2021-07-09 01:08:00</td><td style=\"text-align: left;\">2021-07-09 01:20:00</td><td style=\"text-align: left;\"> 0:12:00</td></tr>\n",
       "<tr><td style=\"text-align: left;\">2021-07-09 02:17:00</td><td style=\"text-align: left;\">2021-07-09 02:46:00</td><td style=\"text-align: left;\"> 0:29:00</td></tr>\n",
       "<tr><td style=\"text-align: left;\">2021-07-09 02:50:00</td><td style=\"text-align: left;\">2021-07-09 02:55:00</td><td style=\"text-align: left;\"> 0:05:00</td></tr>\n",
       "<tr><td style=\"text-align: left;\">2021-07-09 03:52:00</td><td style=\"text-align: left;\">2021-07-09 04:28:00</td><td style=\"text-align: left;\"> 0:36:00</td></tr>\n",
       "<tr><td style=\"text-align: left;\">2021-07-09 05:28:00</td><td style=\"text-align: left;\">2021-07-09 06:07:00</td><td style=\"text-align: left;\"> 0:39:00</td></tr>\n",
       "<tr><td style=\"text-align: left;\">2021-07-09 07:03:00</td><td style=\"text-align: left;\">2021-07-09 07:42:00</td><td style=\"text-align: left;\"> 0:39:00</td></tr>\n",
       "<tr><td style=\"text-align: left;\">2021-07-09 08:39:00</td><td style=\"text-align: left;\">2021-07-09 09:18:00</td><td style=\"text-align: left;\"> 0:39:00</td></tr>\n",
       "<tr><td style=\"text-align: left;\">2021-07-09 10:15:00</td><td style=\"text-align: left;\">2021-07-09 10:54:00</td><td style=\"text-align: left;\"> 0:39:00</td></tr>\n",
       "<tr><td style=\"text-align: left;\">2021-07-09 11:50:00</td><td style=\"text-align: left;\">2021-07-09 12:29:00</td><td style=\"text-align: left;\"> 0:39:00</td></tr>\n",
       "<tr><td style=\"text-align: left;\">2021-07-09 13:26:00</td><td style=\"text-align: left;\">2021-07-09 14:05:00</td><td style=\"text-align: left;\"> 0:39:00</td></tr>\n",
       "<tr><td style=\"text-align: left;\">2021-07-09 15:02:00</td><td style=\"text-align: left;\">2021-07-09 15:40:00</td><td style=\"text-align: left;\"> 0:38:00</td></tr>\n",
       "<tr><td style=\"text-align: left;\">2021-07-09 16:37:00</td><td style=\"text-align: left;\">2021-07-09 17:16:00</td><td style=\"text-align: left;\"> 0:39:00</td></tr>\n",
       "<tr><td style=\"text-align: left;\">2021-07-09 18:14:00</td><td style=\"text-align: left;\">2021-07-09 18:52:00</td><td style=\"text-align: left;\"> 0:38:00</td></tr>\n",
       "<tr><td style=\"text-align: left;\">2021-07-09 19:48:00</td><td style=\"text-align: left;\">2021-07-09 19:50:00</td><td style=\"text-align: left;\"> 0:02:00</td></tr>\n",
       "<tr><td style=\"text-align: left;\">2021-07-09 19:56:00</td><td style=\"text-align: left;\">2021-07-09 19:58:00</td><td style=\"text-align: left;\"> 0:02:00</td></tr>\n",
       "</tbody>\n",
       "</table>"
      ],
      "text/plain": [
       "<swift_too.swift_visquery.Swift_VisQuery at 0x113851340>"
      ]
     },
     "execution_count": 7,
     "metadata": {},
     "output_type": "execute_result"
    }
   ],
   "source": [
    "qj.result"
   ]
  },
  {
   "cell_type": "markdown",
   "id": "incredible-sculpture",
   "metadata": {},
   "source": [
    "Other parameters that might be of interest are the `timestamp`, `began` and `completed` values, which allow you to find out when the job was submitted, when it started processing and when it finished. For example:"
   ]
  },
  {
   "cell_type": "code",
   "execution_count": 8,
   "id": "incident-discount",
   "metadata": {
    "scrolled": false
   },
   "outputs": [
    {
     "name": "stdout",
     "output_type": "stream",
     "text": [
      "Job was submitted at 2021-07-08 19:58:40, was queued for 0s and took 1s to process.\n"
     ]
    }
   ],
   "source": [
    "print(f\"Job was submitted at {qj.timestamp}, was queued for {(qj.began - qj.timestamp).seconds}s and took {(qj.completed - qj.began).seconds}s to process.\")"
   ]
  },
  {
   "cell_type": "markdown",
   "id": "formed-smooth",
   "metadata": {},
   "source": [
    "As usual, times reported back are UT. That is it! If all is correct, then the following show the upcoming or current *Swift* visibility window for Sgr A*!"
   ]
  },
  {
   "cell_type": "code",
   "execution_count": 9,
   "id": "stopped-september",
   "metadata": {},
   "outputs": [
    {
     "name": "stdout",
     "output_type": "stream",
     "text": [
      "2021-07-08 20:03:00 - 2021-07-08 20:33:00 (0:30:00)\n",
      "2021-07-08 21:30:00 - 2021-07-08 21:39:00 (0:09:00)\n",
      "2021-07-08 21:44:00 - 2021-07-08 22:09:00 (0:25:00)\n",
      "2021-07-08 23:05:00 - 2021-07-08 23:22:00 (0:17:00)\n",
      "2021-07-08 23:26:00 - 2021-07-08 23:44:00 (0:18:00)\n",
      "2021-07-09 00:41:00 - 2021-07-09 01:04:00 (0:23:00)\n",
      "2021-07-09 01:08:00 - 2021-07-09 01:20:00 (0:12:00)\n",
      "2021-07-09 02:17:00 - 2021-07-09 02:46:00 (0:29:00)\n",
      "2021-07-09 02:50:00 - 2021-07-09 02:55:00 (0:05:00)\n",
      "2021-07-09 03:52:00 - 2021-07-09 04:28:00 (0:36:00)\n",
      "2021-07-09 05:28:00 - 2021-07-09 06:07:00 (0:39:00)\n",
      "2021-07-09 07:03:00 - 2021-07-09 07:42:00 (0:39:00)\n",
      "2021-07-09 08:39:00 - 2021-07-09 09:18:00 (0:39:00)\n",
      "2021-07-09 10:15:00 - 2021-07-09 10:54:00 (0:39:00)\n",
      "2021-07-09 11:50:00 - 2021-07-09 12:29:00 (0:39:00)\n",
      "2021-07-09 13:26:00 - 2021-07-09 14:05:00 (0:39:00)\n",
      "2021-07-09 15:02:00 - 2021-07-09 15:40:00 (0:38:00)\n",
      "2021-07-09 16:37:00 - 2021-07-09 17:16:00 (0:39:00)\n",
      "2021-07-09 18:14:00 - 2021-07-09 18:52:00 (0:38:00)\n",
      "2021-07-09 19:48:00 - 2021-07-09 19:50:00 (0:02:00)\n",
      "2021-07-09 19:56:00 - 2021-07-09 19:58:00 (0:02:00)\n"
     ]
    }
   ],
   "source": [
    "_ = [print(win) for win in qj.result]"
   ]
  },
  {
   "cell_type": "markdown",
   "id": "invisible-thumb",
   "metadata": {},
   "source": [
    "That first date is going to be the first visibility date, which if the target is visible now should be essentially the same as `timestamp` in `QueryJob`, or sometime in the future if the target was constrained when the job was submitted. "
   ]
  },
  {
   "cell_type": "code",
   "execution_count": 10,
   "id": "chronic-theorem",
   "metadata": {},
   "outputs": [
    {
     "name": "stdout",
     "output_type": "stream",
     "text": [
      "0:04:20\n"
     ]
    }
   ],
   "source": [
    "print(qj.result[0][0] - qj.timestamp)"
   ]
  },
  {
   "cell_type": "markdown",
   "id": "simple-brush",
   "metadata": {},
   "source": [
    "Note due to the weird way datetime displays negative timediffs, you might see something like `-1 day, 23:59:19` if the value is negative!"
   ]
  }
 ],
 "metadata": {
  "kernelspec": {
   "display_name": "Python 3 (ipykernel)",
   "language": "python",
   "name": "python3"
  },
  "language_info": {
   "codemirror_mode": {
    "name": "ipython",
    "version": 3
   },
   "file_extension": ".py",
   "mimetype": "text/x-python",
   "name": "python",
   "nbconvert_exporter": "python",
   "pygments_lexer": "ipython3",
   "version": "3.9.5"
  }
 },
 "nbformat": 4,
 "nbformat_minor": 5
}
