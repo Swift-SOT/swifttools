{
 "cells": [
  {
   "cell_type": "markdown",
   "id": "stainless-pathology",
   "metadata": {},
   "source": [
    "# `swift_too` module\n",
    "\n",
    "## Swift_QueryJob example - Querying and fetching the results of an existing job\n",
    "\n",
    "### API version = 1.2\n",
    "\n",
    "#### Author: Jamie A. Kennea (Penn State)\n",
    "\n",
    "If you wish to retrieve the results of a previously job, this is the task of the QueryJob class. All you need for this class is your username, shared secret and the job number which is reported back when the job is submitted either with `submit()` or `queue()` methods. The jobnumber can be found in the property `jobnumber`."
   ]
  },
  {
   "cell_type": "code",
   "execution_count": 1,
   "id": "legendary-deficit",
   "metadata": {},
   "outputs": [],
   "source": [
    "from swifttools.swift_too import QueryJob, Swift_VisQuery\n",
    "from time import sleep"
   ]
  },
  {
   "cell_type": "markdown",
   "id": "portable-recovery",
   "metadata": {},
   "source": [
    "I'll define our username and shared secret next because we'll use them twice in this notebook"
   ]
  },
  {
   "cell_type": "code",
   "execution_count": 2,
   "id": "behavioral-treasurer",
   "metadata": {},
   "outputs": [],
   "source": [
    "username = 'myuser'\n",
    "shared_secret = 'mysharedsecret'"
   ]
  },
  {
   "cell_type": "markdown",
   "id": "latest-fluid",
   "metadata": {},
   "source": [
    "First let's submit a simple job so we can get an example jobnumber. In this case I'm just going to do something that isn't too strenuous on the system, let's see if Sgr A* is currently visible, or when it is next visible."
   ]
  },
  {
   "cell_type": "code",
   "execution_count": 3,
   "id": "cardiac-conservation",
   "metadata": {},
   "outputs": [
    {
     "name": "stdout",
     "output_type": "stream",
     "text": [
      "Queued job successfully! Jobnumber = 50181\n"
     ]
    }
   ],
   "source": [
    "vq = Swift_VisQuery()\n",
    "vq.username = username\n",
    "vq.shared_secret = shared_secret\n",
    "vq.ra,vq.dec = 266.4168, -29.0078\n",
    "vq.length = 1\n",
    "vq.hires = True\n",
    "if vq.queue():\n",
    "    print(f\"Queued job successfully! Jobnumber = {vq.status.jobnumber}\")\n",
    "else:\n",
    "    print(f\"Error: {vq.status.errors}\")"
   ]
  },
  {
   "cell_type": "markdown",
   "id": "another-soundtrack",
   "metadata": {},
   "source": [
    "Note that the job has been submitted, but because we used the `queue()` method, it may not have completed yet. If you wait a bit, it will be, but the next step can be run straight away to demonstrate what happens if processing isn't complete."
   ]
  },
  {
   "cell_type": "markdown",
   "id": "compressed-compression",
   "metadata": {},
   "source": [
    "\n",
    "\n",
    "OK let's see how our job is doing, because the purpose of the QueryJob class is to allow us to fetch a job later, or maybe ASAP. Maybe you don't want to hang around waiting for a bunch of jobs to complete, submit some, have some coffee, come back and fetch, or just want to query the result of an existing job."
   ]
  },
  {
   "cell_type": "code",
   "execution_count": 4,
   "id": "dying-animal",
   "metadata": {},
   "outputs": [
    {
     "name": "stdout",
     "output_type": "stream",
     "text": [
      "Current status of job #50181: Processing\n"
     ]
    }
   ],
   "source": [
    "qj = QueryJob()\n",
    "qj.username = username\n",
    "qj.shared_secret = shared_secret\n",
    "qj.jobnumber = vq.status.jobnumber\n",
    "qj.submit()\n",
    "\n",
    "print(f\"Current status of job #{vq.status.jobnumber}: {qj.status}\")\n"
   ]
  },
  {
   "cell_type": "markdown",
   "id": "informed-advertiser",
   "metadata": {},
   "source": [
    "Note that for the class `QueryJob`, as it does not take many parameters, you can also pass parameters as arguments. If you do this, then the request will be submitted on invokation, so there's no need use the `submit()` method."
   ]
  },
  {
   "cell_type": "code",
   "execution_count": 5,
   "id": "handy-concern",
   "metadata": {},
   "outputs": [
    {
     "name": "stdout",
     "output_type": "stream",
     "text": [
      "Current status of job #50181: Accepted\n"
     ]
    }
   ],
   "source": [
    "while(not qj):\n",
    "    qj = QueryJob(username,shared_secret,vq.status.jobnumber)\n",
    "    print(f\"Current status of job #{vq.status.jobnumber}: {qj.status}\")\n",
    "    sleep(1)"
   ]
  },
  {
   "cell_type": "markdown",
   "id": "british-firewall",
   "metadata": {},
   "source": [
    "The `submit` (or argument form) should return `True` if the job has been fetched. It'll return `False` for a number of reasons, firstly if the job is still *Queued* (waiting to be processed) or *Processing*, the status will indicate this. Also the status can be *Rejected*, in the case where you have given bad parameters, or the job no longer exists.\n",
    "\n",
    "\n",
    "The above \"while\" will keep polling the job until it is complete. We put in the sleep between requests so as to not over spam the TOO_API server.\n",
    "\n",
    "OK let's assume that the above now reports \"Current status of job #XXX: Accepted\", which indicates a successful `QueryJob` call of a completed job. Let's see what our QueryJob class data now looks like."
   ]
  },
  {
   "cell_type": "code",
   "execution_count": 6,
   "id": "unexpected-boating",
   "metadata": {},
   "outputs": [
    {
     "data": {
      "text/html": [
       "<table>\n",
       "<thead>\n",
       "<tr><th style=\"text-align: left;\">  Parameter</th><th style=\"text-align: left;\">                Value</th></tr>\n",
       "</thead>\n",
       "<tbody>\n",
       "<tr><td style=\"text-align: left;\">   username</td><td style=\"text-align: left;\">                myuser</td></tr>\n",
       "<tr><td style=\"text-align: left;\">     status</td><td style=\"text-align: left;\">             Accepted</td></tr>\n",
       "<tr><td style=\"text-align: left;\">  jobnumber</td><td style=\"text-align: left;\">                50181</td></tr>\n",
       "<tr><td style=\"text-align: left;\">     errors</td><td style=\"text-align: left;\">                   []</td></tr>\n",
       "<tr><td style=\"text-align: left;\">   warnings</td><td style=\"text-align: left;\">                   []</td></tr>\n",
       "<tr><td style=\"text-align: left;\">  timestamp</td><td style=\"text-align: left;\">  2021-08-23 20:42:58</td></tr>\n",
       "<tr><td style=\"text-align: left;\">      began</td><td style=\"text-align: left;\">  2021-08-23 20:42:58</td></tr>\n",
       "<tr><td style=\"text-align: left;\">  completed</td><td style=\"text-align: left;\">  2021-08-23 20:42:59</td></tr>\n",
       "<tr><td style=\"text-align: left;\">fetchresult</td><td style=\"text-align: left;\">                 True</td></tr>\n",
       "<tr><td style=\"text-align: left;\">     result</td><td style=\"text-align: left;\">Swift_VisQuery object</td></tr>\n",
       "</tbody>\n",
       "</table>"
      ],
      "text/plain": [
       "<swifttools.swift_too.query_job.QueryJob at 0x10ef281c0>"
      ]
     },
     "execution_count": 6,
     "metadata": {},
     "output_type": "execute_result"
    }
   ],
   "source": [
    "qj"
   ]
  },
  {
   "cell_type": "markdown",
   "id": "intellectual-fetish",
   "metadata": {},
   "source": [
    "You can see the data inside the class here presented in table form. The the more useful value here is `result`, which contains the result of the job. In the Python api, this will be a `Swift_VisQuery` object. You can display the result of the job like this:"
   ]
  },
  {
   "cell_type": "code",
   "execution_count": 7,
   "id": "induced-sunday",
   "metadata": {},
   "outputs": [
    {
     "data": {
      "text/html": [
       "<table>\n",
       "<thead>\n",
       "<tr><th style=\"text-align: left;\">              Begin</th><th style=\"text-align: left;\">                End</th><th style=\"text-align: left;\">  Length</th></tr>\n",
       "</thead>\n",
       "<tbody>\n",
       "<tr><td style=\"text-align: left;\">2021-08-23 21:23:00</td><td style=\"text-align: left;\">2021-08-23 22:03:00</td><td style=\"text-align: left;\"> 0:40:00</td></tr>\n",
       "<tr><td style=\"text-align: left;\">2021-08-23 22:58:00</td><td style=\"text-align: left;\">2021-08-23 23:38:00</td><td style=\"text-align: left;\"> 0:40:00</td></tr>\n",
       "<tr><td style=\"text-align: left;\">2021-08-24 00:34:00</td><td style=\"text-align: left;\">2021-08-24 01:14:00</td><td style=\"text-align: left;\"> 0:40:00</td></tr>\n",
       "<tr><td style=\"text-align: left;\">2021-08-24 02:10:00</td><td style=\"text-align: left;\">2021-08-24 02:50:00</td><td style=\"text-align: left;\"> 0:40:00</td></tr>\n",
       "<tr><td style=\"text-align: left;\">2021-08-24 03:45:00</td><td style=\"text-align: left;\">2021-08-24 04:25:00</td><td style=\"text-align: left;\"> 0:40:00</td></tr>\n",
       "<tr><td style=\"text-align: left;\">2021-08-24 05:21:00</td><td style=\"text-align: left;\">2021-08-24 06:01:00</td><td style=\"text-align: left;\"> 0:40:00</td></tr>\n",
       "<tr><td style=\"text-align: left;\">2021-08-24 06:56:00</td><td style=\"text-align: left;\">2021-08-24 07:36:00</td><td style=\"text-align: left;\"> 0:40:00</td></tr>\n",
       "<tr><td style=\"text-align: left;\">2021-08-24 08:32:00</td><td style=\"text-align: left;\">2021-08-24 09:12:00</td><td style=\"text-align: left;\"> 0:40:00</td></tr>\n",
       "<tr><td style=\"text-align: left;\">2021-08-24 10:08:00</td><td style=\"text-align: left;\">2021-08-24 10:47:00</td><td style=\"text-align: left;\"> 0:39:00</td></tr>\n",
       "<tr><td style=\"text-align: left;\">2021-08-24 11:43:00</td><td style=\"text-align: left;\">2021-08-24 12:23:00</td><td style=\"text-align: left;\"> 0:40:00</td></tr>\n",
       "<tr><td style=\"text-align: left;\">2021-08-24 13:21:00</td><td style=\"text-align: left;\">2021-08-24 13:59:00</td><td style=\"text-align: left;\"> 0:38:00</td></tr>\n",
       "<tr><td style=\"text-align: left;\">2021-08-24 15:00:00</td><td style=\"text-align: left;\">2021-08-24 15:34:00</td><td style=\"text-align: left;\"> 0:34:00</td></tr>\n",
       "<tr><td style=\"text-align: left;\">2021-08-24 16:40:00</td><td style=\"text-align: left;\">2021-08-24 17:10:00</td><td style=\"text-align: left;\"> 0:30:00</td></tr>\n",
       "<tr><td style=\"text-align: left;\">2021-08-24 18:20:00</td><td style=\"text-align: left;\">2021-08-24 18:45:00</td><td style=\"text-align: left;\"> 0:25:00</td></tr>\n",
       "<tr><td style=\"text-align: left;\">2021-08-24 19:57:00</td><td style=\"text-align: left;\">2021-08-24 20:21:00</td><td style=\"text-align: left;\"> 0:24:00</td></tr>\n",
       "</tbody>\n",
       "</table>"
      ],
      "text/plain": [
       "<swifttools.swift_too.swift_visquery.Swift_VisQuery at 0x10ef28d30>"
      ]
     },
     "execution_count": 7,
     "metadata": {},
     "output_type": "execute_result"
    }
   ],
   "source": [
    "qj.result"
   ]
  },
  {
   "cell_type": "markdown",
   "id": "formed-smooth",
   "metadata": {},
   "source": [
    "As usual, times reported back are UT. That is it! If all is correct, then the above shows the upcoming or current *Swift* visibility window for Sgr A*!"
   ]
  },
  {
   "cell_type": "markdown",
   "id": "incredible-sculpture",
   "metadata": {},
   "source": [
    "Other parameters that might be of interest are the `timestamp`, `began` and `completed` values, which allow you to find out when the job was submitted, when it started processing and when it finished. For example:"
   ]
  },
  {
   "cell_type": "code",
   "execution_count": 8,
   "id": "incident-discount",
   "metadata": {
    "scrolled": false
   },
   "outputs": [
    {
     "name": "stdout",
     "output_type": "stream",
     "text": [
      "Job was submitted at 2021-08-23 20:42:58, was queued for 0s and took 1s to process.\n"
     ]
    }
   ],
   "source": [
    "print(f\"Job was submitted at {qj.timestamp}, was queued for {(qj.began - qj.timestamp).seconds}s and took {(qj.completed - qj.began).seconds}s to process.\")"
   ]
  },
  {
   "cell_type": "markdown",
   "id": "invisible-thumb",
   "metadata": {},
   "source": [
    "That first date is going to be the first visibility date, which if the target is visible now should be essentially the same as `timestamp` in `QueryJob`, or sometime in the future if the target was constrained when the job was submitted. "
   ]
  },
  {
   "cell_type": "code",
   "execution_count": 9,
   "id": "chronic-theorem",
   "metadata": {},
   "outputs": [
    {
     "name": "stdout",
     "output_type": "stream",
     "text": [
      "0:40:02\n"
     ]
    }
   ],
   "source": [
    "print(qj.result[0][0] - qj.timestamp)"
   ]
  },
  {
   "cell_type": "markdown",
   "id": "simple-brush",
   "metadata": {},
   "source": [
    "Note due to the weird way datetime displays negative timediffs, you might see something like `-1 day, 23:59:19` if the value is negative!"
   ]
  }
 ],
 "metadata": {
  "kernelspec": {
   "display_name": "Python 3 (ipykernel)",
   "language": "python",
   "name": "python3"
  },
  "language_info": {
   "codemirror_mode": {
    "name": "ipython",
    "version": 3
   },
   "file_extension": ".py",
   "mimetype": "text/x-python",
   "name": "python",
   "nbconvert_exporter": "python",
   "pygments_lexer": "ipython3",
   "version": "3.9.6"
  }
 },
 "nbformat": 4,
 "nbformat_minor": 5
}
