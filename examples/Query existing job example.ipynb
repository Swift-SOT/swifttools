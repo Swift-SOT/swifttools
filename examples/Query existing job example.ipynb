{
 "cells": [
  {
   "cell_type": "markdown",
   "id": "stainless-pathology",
   "metadata": {},
   "source": [
    "# `swift_too` module\n",
    "\n",
    "## Swift_QueryJob example - Querying and fetching the results of an existing job\n",
    "\n",
    "### API version = 1.0\n",
    "\n",
    "#### Author: Jamie A. Kennea (Penn State)\n",
    "\n",
    "### Introduction\n",
    "If you wish to retrieve the results of a previously job, this is the task of the QueryJob class. All you need for this class is your username, shared secret and the job number which is reported back when the job is submitted either with `submit()` or `queue()` methods. The jobnumber can be found in the property `jobnumber`."
   ]
  },
  {
   "cell_type": "code",
   "execution_count": 1,
   "id": "legendary-deficit",
   "metadata": {},
   "outputs": [],
   "source": [
    "from swifttools.swift_too import QueryJob, Swift_VisQuery\n",
    "from time import sleep"
   ]
  },
  {
   "cell_type": "markdown",
   "id": "portable-recovery",
   "metadata": {},
   "source": [
    "I'll define our username and shared secret next because we'll use them twice in this notebook"
   ]
  },
  {
   "cell_type": "code",
   "execution_count": 2,
   "id": "behavioral-treasurer",
   "metadata": {},
   "outputs": [],
   "source": [
    "username = 'myuser'\n",
    "shared_secret = 'mysharedsecret'"
   ]
  },
  {
   "cell_type": "markdown",
   "id": "latest-fluid",
   "metadata": {},
   "source": [
    "### Generating a job to query\n",
    "\n",
    "First let's submit a simple job so we can get an example jobnumber. In this case I'm just going to do something that isn't too strenuous on the system, let's see if Sgr A* is currently visible, or when it is next visible."
   ]
  },
  {
   "cell_type": "code",
   "execution_count": 3,
   "id": "cardiac-conservation",
   "metadata": {},
   "outputs": [
    {
     "name": "stdout",
     "output_type": "stream",
     "text": [
      "Queued job successfully! Jobnumber = 3052\n"
     ]
    }
   ],
   "source": [
    "vq = Swift_VisQuery()\n",
    "vq.username = username\n",
    "vq.shared_secret = shared_secret\n",
    "vq.ra,vq.dec = 266.4168, -29.0078\n",
    "vq.length = 1\n",
    "if vq.queue():\n",
    "    print(f\"Queued job successfully! Jobnumber = {vq.status.jobnumber}\")\n",
    "else:\n",
    "    print(f\"Error: {vq.status.errors}\")"
   ]
  },
  {
   "cell_type": "markdown",
   "id": "another-soundtrack",
   "metadata": {},
   "source": [
    "Note that the job has been submitted, but because we used the `queue()` method, it may not have completed yet. If you wait a bit, it will be, but the next step can be run straight away to demonstrate what happens if processing isn't complete."
   ]
  },
  {
   "cell_type": "markdown",
   "id": "compressed-compression",
   "metadata": {},
   "source": [
    "### Querying job status\n",
    "\n",
    "OK let's see how our job is doing, because the purpose of the QueryJob class is to allow us to fetch a job later, or maybe ASAP. Maybe you don't want to hang around waiting for a bunch of jobs to complete, submit some, have some coffee, come back and fetch, or just want to query the result of an existing job."
   ]
  },
  {
   "cell_type": "code",
   "execution_count": 4,
   "id": "dying-animal",
   "metadata": {},
   "outputs": [
    {
     "name": "stdout",
     "output_type": "stream",
     "text": [
      "Current status of job #3052: Queued\n"
     ]
    }
   ],
   "source": [
    "qj = QueryJob()\n",
    "qj.username = username\n",
    "qj.shared_secret = shared_secret\n",
    "qj.jobnumber = vq.status.jobnumber\n",
    "if qj.submit():\n",
    "    print(f\"Current status of job #{qj.jobnumber}: {qj.status}\")\n",
    "else:\n",
    "    print(f\"Request {qj.status}. Errors: {qj.errors}\")"
   ]
  },
  {
   "cell_type": "markdown",
   "id": "british-firewall",
   "metadata": {},
   "source": [
    "The `submit` should return `True` if the job status has been fetched. It'll return `False` only in the case where any of the given parameters are incorrect, for example a wrong `username` and `shared_secret` combo, or a non-existant `jobnumber`. \n",
    "\n",
    "The current `status` can have several return values. Firstly if the job is still *Queued* (waiting to be processed) or *Processing*, the status will indicate this. Also the status can be *Rejected*, in the case where you have given bad parameters, or the job no longer exists.\n",
    "\n",
    "\n",
    "Note that for the class `QueryJob`, as it does not take many parameters, you can also pass parameters as arguments. If you do this, then the request will be submitted on invokation, so there's no need use the `submit()` method. \n",
    "\n",
    "The next code entry demonstrates this usage, and also acts to make sure that the job is marked as *Accepted*. It also demonstrates the boolean usage of the class, which can be used to determine if a job is *Accepted*, and is false if *Rejected*, *Queued* or *Processing*. "
   ]
  },
  {
   "cell_type": "code",
   "execution_count": 5,
   "id": "handy-concern",
   "metadata": {},
   "outputs": [
    {
     "name": "stdout",
     "output_type": "stream",
     "text": [
      "Current status of job #3052: Accepted\n"
     ]
    }
   ],
   "source": [
    "qj = False\n",
    "while(not qj):\n",
    "    sleep(1)\n",
    "    qj = QueryJob(username,shared_secret,vq.status.jobnumber)\n",
    "\n",
    "print(f\"Current status of job #{qj.jobnumber}: {qj.status}\")"
   ]
  },
  {
   "cell_type": "markdown",
   "id": "saving-bikini",
   "metadata": {},
   "source": [
    "note that if you were using Python 3.8 or later, you could simplify the above status using the := operator, example given below."
   ]
  },
  {
   "cell_type": "code",
   "execution_count": 6,
   "id": "changed-workplace",
   "metadata": {},
   "outputs": [
    {
     "name": "stdout",
     "output_type": "stream",
     "text": [
      "Current status of job #3052: Accepted\n"
     ]
    }
   ],
   "source": [
    "while(not (qj := QueryJob(username,shared_secret,vq.status.jobnumber))):\n",
    "    sleep(1)\n",
    "\n",
    "print(f\"Current status of job #{qj.jobnumber}: {qj.status}\")"
   ]
  },
  {
   "cell_type": "markdown",
   "id": "dutch-swift",
   "metadata": {},
   "source": [
    "OK now the above should report \"Current status of job #XXX: Accepted\", which indicates a successful `QueryJob` fetching of a completed job. \n",
    "\n",
    "### Examining the results of a QueryJob\n",
    "\n",
    "Let's see what our QueryJob class data now looks like."
   ]
  },
  {
   "cell_type": "code",
   "execution_count": 7,
   "id": "unexpected-boating",
   "metadata": {},
   "outputs": [
    {
     "data": {
      "text/plain": [
       "{'username': 'myuser',\n",
       " 'status': 'Accepted',\n",
       " 'jobnumber': 3052,\n",
       " 'errors': [],\n",
       " 'warnings': [],\n",
       " 'timestamp': '2021-03-14 13:37:16',\n",
       " 'began': '2021-03-14 13:37:17',\n",
       " 'completed': '2021-03-14 13:37:17',\n",
       " 'fetchresult': True,\n",
       " 'result': {'api_name': 'Swift_VisQuery',\n",
       "  'api_version': '1.0',\n",
       "  'api_data': {'username': 'myuser',\n",
       "   'ra': 266.4168,\n",
       "   'dec': -29.0078,\n",
       "   'begin': '2021-03-14 13:37:14.526523',\n",
       "   'length': 1,\n",
       "   'hires': False,\n",
       "   'windows': [{'api_name': 'Swift_VisWindow',\n",
       "     'api_version': '1.0',\n",
       "     'api_data': {'begin': '2021-03-14 13:37:00',\n",
       "      'end': '2021-03-15 13:37:00'}}]}}}"
      ]
     },
     "execution_count": 7,
     "metadata": {},
     "output_type": "execute_result"
    }
   ],
   "source": [
    "qj.api_data"
   ]
  },
  {
   "cell_type": "markdown",
   "id": "intellectual-fetish",
   "metadata": {},
   "source": [
    "You can see the data inside the class here as dict. The the mode useful value here is `result`, which contains the result of the job. In the Python api, this will be a `Swift_VisQuery` object."
   ]
  },
  {
   "cell_type": "code",
   "execution_count": 8,
   "id": "induced-sunday",
   "metadata": {},
   "outputs": [
    {
     "data": {
      "text/plain": [
       "<Swift_VisQuery: ['username=myuser', 'ra=266.4168', 'dec=-29.0078', 'begin=2021-03-14 13:37:14.526523', 'length=1', 'hires=False']>"
      ]
     },
     "execution_count": 8,
     "metadata": {},
     "output_type": "execute_result"
    }
   ],
   "source": [
    "qj.result"
   ]
  },
  {
   "cell_type": "markdown",
   "id": "incredible-sculpture",
   "metadata": {},
   "source": [
    "Other parameters that might be of interest are the `timestamp`, `began` and `completed` values, which allow you to find out when the job was submitted, when it started processing and when it finished. For example:"
   ]
  },
  {
   "cell_type": "code",
   "execution_count": 9,
   "id": "incident-discount",
   "metadata": {
    "scrolled": false
   },
   "outputs": [
    {
     "name": "stdout",
     "output_type": "stream",
     "text": [
      "Job was submitted at 2021-03-14 13:37:16, was queued for 1s and took 0s to process.\n"
     ]
    }
   ],
   "source": [
    "print(f\"Job was submitted at {qj.timestamp}, was queued for {(qj.began - qj.timestamp).seconds}s and took {(qj.completed - qj.began).seconds}s to process.\")"
   ]
  },
  {
   "cell_type": "markdown",
   "id": "formed-smooth",
   "metadata": {},
   "source": [
    "As usual, times reported back are UT. That is it! If all is correct, then the following show the upcoming or current *Swift* visibility window for Sgr A*!"
   ]
  },
  {
   "cell_type": "code",
   "execution_count": 10,
   "id": "stopped-september",
   "metadata": {},
   "outputs": [
    {
     "name": "stdout",
     "output_type": "stream",
     "text": [
      "2021-03-14 13:37:00 - 2021-03-15 13:37:00\n"
     ]
    }
   ],
   "source": [
    "_ = [print(win) for win in qj.result]"
   ]
  },
  {
   "cell_type": "markdown",
   "id": "invisible-thumb",
   "metadata": {},
   "source": [
    "That first date is going to be the first visibility date, which if the target is visible now should be essentially the same as `timestamp` in `QueryJob`, but rounded down to the nearest minute, or sometime in the future if the target was constrained when the job was submitted. "
   ]
  },
  {
   "cell_type": "code",
   "execution_count": 11,
   "id": "chronic-theorem",
   "metadata": {},
   "outputs": [
    {
     "data": {
      "text/plain": [
       "datetime.timedelta(days=-1, seconds=86384)"
      ]
     },
     "execution_count": 11,
     "metadata": {},
     "output_type": "execute_result"
    }
   ],
   "source": [
    "(qj.result[0][0] - qj.timestamp)"
   ]
  }
 ],
 "metadata": {
  "kernelspec": {
   "display_name": "Python 3",
   "language": "python",
   "name": "python3"
  },
  "language_info": {
   "codemirror_mode": {
    "name": "ipython",
    "version": 3
   },
   "file_extension": ".py",
   "mimetype": "text/x-python",
   "name": "python",
   "nbconvert_exporter": "python",
   "pygments_lexer": "ipython3",
   "version": "3.8.8"
  }
 },
 "nbformat": 4,
 "nbformat_minor": 5
}
