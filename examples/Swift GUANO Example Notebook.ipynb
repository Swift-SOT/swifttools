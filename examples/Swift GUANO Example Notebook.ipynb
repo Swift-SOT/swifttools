{
 "cells": [
  {
   "cell_type": "markdown",
   "id": "66b35ec5",
   "metadata": {},
   "source": [
    "# `swift_too` module\n",
    "\n",
    "## Swift_GUANO example - querying GUANO data, i.e. dumps of BAT event data\n",
    "\n",
    "### API version = 1.2, `swifttools` = 3.0.6\n",
    "\n",
    "#### Author: Jamie A. Kennea (Penn State)\n",
    "\n",
    "What is GUANO? It is the Gamma-ray Urgent Archive for Novel Opportunities. GUANO is fully explained in the paper by [Tohuvavohu et al. (2020)](https://ui.adsabs.harvard.edu/abs/2020ApJ...900...35T/abstract). Essentially it is this, the Swift Burst Alert Telescope (BAT) is a coded mask telesope, which records individual X-ray photons as events. These events are then processed onboard to look for GRB triggers. However, sometimes the onboard trigger algorithm fails to find a GRB that is present in the BAT field of view. In these cases, it would be best to look at the event data on the ground to do a more detailed analysis to look for GRB events, however, because of telemetery limitations, the event data is only held onboard for around 25-30 mins before it is deleted. \n",
    "\n",
    "The GUANO program seeks to solve this problem, but proactively commanding Swift to keep and downlink BAT event data for times of interest. Right now this includes times at which other instruments trigger, such as Fermi/GBM, INTEGRAL, CALET and other GRB missions, as well as multi-messenger observatories such as IceCube and LIGO/Virgo/Kagra. \n",
    "\n",
    "The `Swift_GUANO` API allows you to query when these dumps occurred and were successful, and where to look for the BAT event data that were dump. We're going to use the shorthand for this class, simply `GUANO`.\n"
   ]
  },
  {
   "cell_type": "code",
   "execution_count": 1,
   "id": "00f74726",
   "metadata": {},
   "outputs": [],
   "source": [
    "from swifttools.swift_too import GUANO"
   ]
  },
  {
   "cell_type": "markdown",
   "id": "77fcdadb",
   "metadata": {},
   "source": [
    "First a simple example, let's look for the most recent 10 successful GUANO dumps. "
   ]
  },
  {
   "cell_type": "code",
   "execution_count": 2,
   "id": "fadc5e1f",
   "metadata": {
    "scrolled": false
   },
   "outputs": [],
   "source": [
    "guano = GUANO(limit=10)"
   ]
  },
  {
   "cell_type": "markdown",
   "id": "f97fc5f9",
   "metadata": {},
   "source": [
    "In a Jupyter Notebook, we can just type the object name now to see the results, like so:"
   ]
  },
  {
   "cell_type": "code",
   "execution_count": 3,
   "id": "aa52ac5c",
   "metadata": {},
   "outputs": [
    {
     "data": {
      "text/html": [
       "<table><thead><th style='text-align: left;'>Trigger Type</th><th style='text-align: left;'>Trigger Time</th><th style='text-align: left;'>Offset (s)</th><th style='text-align: left;'>Window Duration (s)</th><th style='text-align: left;'>Observation ID</th></thead><tr><td style='text-align: left;'>GECAM GRB</td><td style='text-align: left;'>2022-09-23 03:02:56.650000</td><td style='text-align: left;'>50</td><td style='text-align: left;'>200</td><td style='text-align: left;'>00049835006</td></tr><tr><td style='text-align: left;'>GECAM GRB</td><td style='text-align: left;'>2022-09-22 06:12:47.650000</td><td style='text-align: left;'>50</td><td style='text-align: left;'>200</td><td style='text-align: left;'>00059152049</td></tr><tr><td style='text-align: left;'>GBM GRB</td><td style='text-align: left;'>2022-09-21 23:25:29.370000</td><td style='text-align: left;'>50</td><td style='text-align: left;'>200</td><td style='text-align: left;'>00021519001</td></tr><tr><td style='text-align: left;'>GBM GRB</td><td style='text-align: left;'>2022-09-19 02:26:56.010000</td><td style='text-align: left;'>50</td><td style='text-align: left;'>200</td><td style='text-align: left;'>00015327001</td></tr><tr><td style='text-align: left;'>GBM GRB</td><td style='text-align: left;'>2022-09-18 16:13:25.760000</td><td style='text-align: left;'>50</td><td style='text-align: left;'>200</td><td style='text-align: left;'>00015231056</td></tr><tr><td style='text-align: left;'>GBM GRB</td><td style='text-align: left;'>2022-09-18 13:00:33.190000</td><td style='text-align: left;'>50</td><td style='text-align: left;'>200</td><td style='text-align: left;'>03111325001</td></tr><tr><td style='text-align: left;'>Neutrino</td><td style='text-align: left;'>2022-09-18 12:46:05</td><td style='text-align: left;'>0</td><td style='text-align: left;'>90</td><td style='text-align: left;'>00014925015</td></tr><tr><td style='text-align: left;'>GBM GRB</td><td style='text-align: left;'>2022-09-17 20:35:02.610000</td><td style='text-align: left;'>50</td><td style='text-align: left;'>200</td><td style='text-align: left;'>00075276027</td></tr><tr><td style='text-align: left;'>GBM GRB</td><td style='text-align: left;'>2022-09-17 14:44:25.600000</td><td style='text-align: left;'>50</td><td style='text-align: left;'>200</td><td style='text-align: left;'>00059072116</td></tr><tr><td style='text-align: left;'>GBM GRB</td><td style='text-align: left;'>2022-09-17 09:04:30.470000</td><td style='text-align: left;'>50</td><td style='text-align: left;'>200</td><td style='text-align: left;'>00096723001</td></tr></table>"
      ],
      "text/plain": [
       "Swift_GUANO(username='anonymous',limit='10',subthreshold='False',successful='True')"
      ]
     },
     "execution_count": 3,
     "metadata": {},
     "output_type": "execute_result"
    }
   ],
   "source": [
    "guano"
   ]
  },
  {
   "cell_type": "markdown",
   "id": "3a64d8fc",
   "metadata": {},
   "source": [
    "Basic information given here is the source of the trigger, usually a GRB detector, but also FRB and GW detectors. The trigger time is given, along with an offset and window duration. The offset is how much the window start is biased towards the trigger time. So for offset zero, and window duration of 200s, the trigger will be in the center of the window, at 100s. For offset 50, the window is moved 50 later, so the trigger will be at 50s and the window ends at T+150s. \n",
    "\n",
    "Note if the Window Duration has a number in brackets after it, this means that the actual length of the dump is different from that requested. This can happen due to either the dump skimming the South Atlantic Anomaly (where no data is collected), or sometimes if the dump is commanded too late, and some of the data have been lost. Alternatively this can be due to the fact that the data has not been fully processed yet, so if the dump is recent, this may resolve itself in a few hours. \n",
    "\n",
    "In some cases where the number is larger than the requested duration, this can mean that other nearby trigger was merged to create a larger dump, or in extreme cases, that the dump time overlaps a BAT detected GRB. The latter case is rare as we try to filter these out on the ground.\n",
    "\n",
    "Finally the Observation ID shows us where the BAT event data lives. If you go the Swift archive or quick-look site (recent data), e.g. here: https://swift.gsfc.nasa.gov/sdc/ql/\n",
    "\n",
    "And look for the given observation ID, you should be able to find the BAT event data for that GUANO dump. \n",
    "\n",
    "### Looking at an individual GUANO dump\n",
    "\n",
    "Let's look at an individual GUANO dump, to see what information we have."
   ]
  },
  {
   "cell_type": "code",
   "execution_count": 4,
   "id": "75fd7920",
   "metadata": {},
   "outputs": [
    {
     "data": {
      "text/html": [
       "<table><thead><th style='text-align: left;'>Parameter</th><th style='text-align: left;'>Value</th></thead><tr><td style='text-align: left;'>triggertime</td><td style='text-align: left;'>2022-09-19 02:26:56.010000</td></tr><tr><td style='text-align: left;'>triggertype</td><td style='text-align: left;'>GBM GRB</td></tr><tr><td style='text-align: left;'>offset</td><td style='text-align: left;'>50</td></tr><tr><td style='text-align: left;'>duration</td><td style='text-align: left;'>200</td></tr><tr><td style='text-align: left;'>quadsaway</td><td style='text-align: left;'>10526284</td></tr><tr><td style='text-align: left;'>obsnum</td><td style='text-align: left;'>00015327001</td></tr><tr><td style='text-align: left;'>data</td><td style='text-align: left;'>200.1s of BAT event data</td></tr></table>"
      ],
      "text/plain": [
       "Swift_GUANO_Entry(triggertime='2022-09-19 02:26:56.010000')"
      ]
     },
     "execution_count": 4,
     "metadata": {},
     "output_type": "execute_result"
    }
   ],
   "source": [
    "guano[3]"
   ]
  },
  {
   "cell_type": "markdown",
   "id": "0d600dfb",
   "metadata": {},
   "source": [
    "So here we see more detail on the event itself. In addition to what we see in the summary table, there are a few more parameters. `quadsaway` is perhaps the most complicated to understand, but perhaps also not necessary. Essentially the BAT event data live in a ring buffer, this ring buffer overwrites itself, with events living around ~25 mins in the buffer before they are overwritten. `quadsaway` gives the number of quadbytes between the dump and the buffer pointer at the time of dump. If this value is positive, it means that no data was overwritten. If the value is negative, it means that some data will have been lost, this should be seen in the difference between the requested dump `duration`, and the number of seconds of BAT event data in `data`.\n",
    "\n",
    "Also if the trigger associated with the GUANO dump had an RA/Dec, these are given. \n",
    "\n",
    "### Looking at the data\n",
    "\n",
    "The final parameter, `data` has more detail, so lets look at that."
   ]
  },
  {
   "cell_type": "code",
   "execution_count": 5,
   "id": "1d87a3b6",
   "metadata": {},
   "outputs": [
    {
     "data": {
      "text/html": [
       "<table><thead><th style='text-align: left;'>Parameter</th><th style='text-align: left;'>Value</th></thead><tr><td style='text-align: left;'>obsid</td><td style='text-align: left;'>00015327001</td></tr><tr><td style='text-align: left;'>triggertime</td><td style='text-align: left;'>2022-09-19 02:26:56.010000</td></tr><tr><td style='text-align: left;'>begin</td><td style='text-align: left;'>2022-09-19 02:26:07.115789</td></tr><tr><td style='text-align: left;'>end</td><td style='text-align: left;'>2022-09-19 02:29:27.194675</td></tr><tr><td style='text-align: left;'>exposure</td><td style='text-align: left;'>200.078886</td></tr><tr><td style='text-align: left;'>filenames</td><td style='text-align: left;'>sw00015327001bevshsl_uf.evt<br>sw00015327001bevshpo_uf.evt</td></tr><tr><td style='text-align: left;'>gti</td><td style='text-align: left;'>2022-09-19 02:26:07.115789 - 2022-09-19 02:29:27.194675 (0:03:20)</td></tr><tr><td style='text-align: left;'>all_gtis</td><td style='text-align: left;'>2022-09-19 02:26:07.115789 - 2022-09-19 02:28:30.516079 (0:02:23)<br>2022-09-19 02:28:30.516279 - 2022-09-19 02:29:27.194675 (0:00:56)</td></tr><tr><td style='text-align: left;'>acs</td><td style='text-align: left;'>mixed</td></tr><tr><td style='text-align: left;'>utcf</td><td style='text-align: left;'>-29.884559631347656</td></tr><tr><td style='text-align: left;'>subthresh</td><td style='text-align: left;'>False</td></tr></table>"
      ],
      "text/plain": [
       "Swift_GUANO_Data(obsid='00015327001',triggertime='2022-09-19 02:26:56.010000')"
      ]
     },
     "execution_count": 5,
     "metadata": {},
     "output_type": "execute_result"
    }
   ],
   "source": [
    "guano[3].data"
   ]
  },
  {
   "cell_type": "markdown",
   "id": "e40b0417",
   "metadata": {},
   "source": [
    "So this is essentially metadata from a simple processing the BAT event data. Important information here, `begin` and `end` give the start and end of the event data. `exposure` is the amount of event data in seconds. `filenames` is the names of the BAT event files processed for this trigger. The different filenames represent the state of swift while the data was being taken, which is encoded into the final characters of the filename. \n",
    "\n",
    "A simple breakdown of the filename:\n",
    "\n",
    "- \"sw\" for Swift\n",
    "- The 10 character long obsid in SDC format\n",
    "- \"bev\" = BAT event data\n",
    "- \"sl\"/\"po\" or sometimes \"sp\", this indicates if Swift was slewing (\"sl\"), pointing (\"po\") or in some rare cases, both (\"sp\") for the data in that file.\n",
    "- \"_uf.evt\" = this is unfiltered event data\n",
    "\n",
    "If you see more than one filename, then this means that the event data for this GUANO dump is spread across multiple files, typically because Swift was slewing at some point during the dump. Note that the parameter `acs` shows if the data is slewing, pointed or mixed.\n",
    "\n",
    "Next `gti` is an object that defines the Good Time Interval (GTI) of the GUANO dump. In this table, it is show and `begin` and `end` times of the GTI with `exposure` in brackets.\n",
    "\n",
    "`gti` is a merged GTI, merging all the different GTIs given in `all_gtis` if they overlap. Typically `all_gtis` shows 2 GTIs if there are two `filenames`. However if there are gaps in the data, `all_gtis` can show more GTIs.\n",
    "\n",
    "`gti` importantly only covers the continuous GTI that includes `triggertime`. Let's take a look at that.\n"
   ]
  },
  {
   "cell_type": "code",
   "execution_count": 6,
   "id": "b51a76a5",
   "metadata": {},
   "outputs": [
    {
     "data": {
      "text/html": [
       "<table><thead><th style='text-align: left;'>Parameter</th><th style='text-align: left;'>Value</th></thead><tr><td style='text-align: left;'>begin</td><td style='text-align: left;'>2022-09-23 03:02:08.092101</td></tr><tr><td style='text-align: left;'>end</td><td style='text-align: left;'>2022-09-23 03:05:28.191888</td></tr><tr><td style='text-align: left;'>exposure</td><td style='text-align: left;'>0:03:20</td></tr><tr><td style='text-align: left;'>utcf</td><td style='text-align: left;'>-29.908180236816406</td></tr><tr><td style='text-align: left;'>acs</td><td style='text-align: left;'>pointing</td></tr><tr><td style='text-align: left;'>filename</td><td style='text-align: left;'>sw00049835006bevshpo_uf.evt</td></tr></table>"
      ],
      "text/plain": [
       "Swift_GUANO_GTI()"
      ]
     },
     "execution_count": 6,
     "metadata": {},
     "output_type": "execute_result"
    }
   ],
   "source": [
    "guano[0].data.gti"
   ]
  },
  {
   "cell_type": "markdown",
   "id": "91011008",
   "metadata": {},
   "source": [
    "So here we see the usual information, `begin`, `end` and `exposure`. In addition `acs` for this GTI is reported, along with the filename(s) associated with the BAT event data processed.\n",
    "\n",
    "### Note on UT Correction Factor \n",
    "Also you'll note `utcf`, which is a negative number of seconds. This is the Univeral Time Correction Factor (UTCF), which corrects time that Swift reports to actual UT. This includes both correction for drift in the Swift clock, and leap seconds. GUANO trigger times and `begin` and `end` times are corrected using this `utcf` value, as it is important that the reported times match a common time system when comparing with other missions. \n",
    "\n",
    "Other times, such as those reported by Swift_ObsQuery for when Swift observations occur, are not at this time corrected to UTC, as the absolute timing for these is are not critical. UTCF corrections are typically performed during data analysis, for example when performing barycentric correction using the standard HEAsoft `barycorr` tool.\n",
    "\n",
    "Swift times can also be corrected to UT using the HEAsoft `swifttime` analysis tool. If you use this, make sure that your Swift calibration files are upto date as the clock correction is updated regularly. \n",
    "\n",
    "#### Update for `swifttools` 2.4\n",
    "\n",
    "As noted elsewhere, clock correction can now be performed on results from a class using the `clock_correct` method.\n",
    "\n",
    "As of `swifttools` 2.4, all recorded dates in the `GUANO` class and its subclasses are automatically clock corrected. By default, all dates are UTC, not Swift time, and dates are stored in the `swiftdatetime` format, which is an extended version of Python's `datetime`, which supports clock correction, and MET conversion. So as an example, the trigger time for the above trigger:"
   ]
  },
  {
   "cell_type": "code",
   "execution_count": 7,
   "id": "ff849532",
   "metadata": {},
   "outputs": [
    {
     "data": {
      "text/html": [
       "<table><thead><th style='text-align: left;'>MET (s)</th><th style='text-align: left;'>Swift Time</th><th style='text-align: left;'>UTC Time (default)</th><th style='text-align: left;'>UTCF (s)</th></thead><tr><td style='text-align: left;'>685595006.558007</td><td style='text-align: left;'>2022-09-23 03:03:26.558007</td><td style='text-align: left;'>2022-09-23 03:02:56.650000</td><td style='text-align: left;'>-29.908007</td></tr></table>"
      ],
      "text/plain": [
       "swiftdatetime(2022, 9, 23, 3, 2, 56, 650000, isutc=True, utcf=-29.908007)"
      ]
     },
     "execution_count": 7,
     "metadata": {},
     "output_type": "execute_result"
    }
   ],
   "source": [
    "guano[0].triggertime"
   ]
  },
  {
   "cell_type": "markdown",
   "id": "0fc82223",
   "metadata": {},
   "source": [
    "So this time is record in datetime by default, but you can access the time as MET by using the `met` attribute, or the time as recorded by the Swift clock using the `swifttime` attribute. E.g."
   ]
  },
  {
   "cell_type": "code",
   "execution_count": 8,
   "id": "a8c3ad2b",
   "metadata": {},
   "outputs": [
    {
     "name": "stdout",
     "output_type": "stream",
     "text": [
      "Trigger MET        = 685595006.558007\n",
      "Trigger Swift Time = 2022-09-23 03:03:26.558007\n",
      "Trigger UTC Time   = 2022-09-23 03:02:56.650000\n"
     ]
    }
   ],
   "source": [
    "print(f\"Trigger MET        = {guano[0].triggertime.met}\")\n",
    "print(f\"Trigger Swift Time = {guano[0].triggertime.swifttime}\")\n",
    "print(f\"Trigger UTC Time   = {guano[0].triggertime.utctime}\")"
   ]
  },
  {
   "cell_type": "markdown",
   "id": "969e51aa",
   "metadata": {},
   "source": [
    "### Fetching GUANO data for a specific triggers or date ranges\n",
    "\n",
    "The above example show fetching recent triggers, what about for date ranges, or specific times. Here we'll give a few examples of how to search for GUANO triggers using time searches. Firstly, let's see what GUANO dumps occrred during Jan 1st, 2022:"
   ]
  },
  {
   "cell_type": "code",
   "execution_count": 9,
   "id": "f5484cf9",
   "metadata": {},
   "outputs": [
    {
     "data": {
      "text/html": [
       "<table><thead><th style='text-align: left;'>Trigger Type</th><th style='text-align: left;'>Trigger Time</th><th style='text-align: left;'>Offset (s)</th><th style='text-align: left;'>Window Duration (s)</th><th style='text-align: left;'>Observation ID</th></thead><tr><td style='text-align: left;'>GBM GRB</td><td style='text-align: left;'>2022-01-01 08:57:39</td><td style='text-align: left;'>50</td><td style='text-align: left;'>200</td><td style='text-align: left;'>00014979001</td></tr><tr><td style='text-align: left;'>GBM GRB</td><td style='text-align: left;'>2022-01-01 07:16:20</td><td style='text-align: left;'>50</td><td style='text-align: left;'>200</td><td style='text-align: left;'>00031306080</td></tr><tr><td style='text-align: left;'>INTEGRAL_GRB</td><td style='text-align: left;'>2022-01-01 05:11:22</td><td style='text-align: left;'>0</td><td style='text-align: left;'>90 (1202)</td><td style='text-align: left;'>01091527000</td></tr></table>"
      ],
      "text/plain": [
       "Swift_GUANO(username='anonymous',begin='2022-01-01 00:00:00',end='2022-01-02 00:00:00',limit='100',subthreshold='False',successful='True')"
      ]
     },
     "execution_count": 9,
     "metadata": {},
     "output_type": "execute_result"
    }
   ],
   "source": [
    "guano = GUANO(begin=\"2022-01-01\", end=\"2022-01-02\", limit=100)\n",
    "guano"
   ]
  },
  {
   "cell_type": "markdown",
   "id": "0bde242a",
   "metadata": {},
   "source": [
    "So on Jan 1st, 2022 there were three GUANO dumps, 2 Fermi/GBM detected GRBs and one INTEGRAL GRB. By default, GBM GRBs are dumped for 200s and INTEGRAL GRBs are dumped for 90s. However, in this case you can see that the actual amount of event data for the INTEGRAL GRB was 1202s. Let's look into why, by taking a look at the `Swift_GUANO_Data` object associated with that trigger."
   ]
  },
  {
   "cell_type": "code",
   "execution_count": 10,
   "id": "e7c78b02",
   "metadata": {},
   "outputs": [
    {
     "data": {
      "text/html": [
       "<table><thead><th style='text-align: left;'>Parameter</th><th style='text-align: left;'>Value</th></thead><tr><td style='text-align: left;'>obsid</td><td style='text-align: left;'>01091527000</td></tr><tr><td style='text-align: left;'>triggertime</td><td style='text-align: left;'>2022-01-01 05:11:22</td></tr><tr><td style='text-align: left;'>begin</td><td style='text-align: left;'>2022-01-01 05:06:11.642350</td></tr><tr><td style='text-align: left;'>end</td><td style='text-align: left;'>2022-01-01 05:26:13.749165</td></tr><tr><td style='text-align: left;'>exposure</td><td style='text-align: left;'>1202.106814</td></tr><tr><td style='text-align: left;'>filenames</td><td style='text-align: left;'>sw01091527000bevshsp_uf.evt</td></tr><tr><td style='text-align: left;'>gti</td><td style='text-align: left;'>2022-01-01 05:06:11.642350 - 2022-01-01 05:26:13.749165 (0:20:02)</td></tr><tr><td style='text-align: left;'>all_gtis</td><td style='text-align: left;'>2022-01-01 05:06:11.642350 - 2022-01-01 05:26:13.749070 (0:20:02)<br>2022-01-01 05:06:11.642365 - 2022-01-01 05:26:13.749165 (0:20:02)</td></tr><tr><td style='text-align: left;'>utcf</td><td style='text-align: left;'>-28.357940673828125</td></tr><tr><td style='text-align: left;'>subthresh</td><td style='text-align: left;'>False</td></tr></table>"
      ],
      "text/plain": [
       "Swift_GUANO_Data(obsid='01091527000',triggertime='2022-01-01 05:11:22')"
      ]
     },
     "execution_count": 10,
     "metadata": {},
     "output_type": "execute_result"
    }
   ],
   "source": [
    "guano[-1].data"
   ]
  },
  {
   "cell_type": "markdown",
   "id": "ce60f7ae",
   "metadata": {},
   "source": [
    "So it looks like around 20 minutes of event data were dumped during starting more than 5 minutes before the trigger time. Why did this happen? Well, if you notice the filename, the slew type here is \"sp\" which means \"slewing and pointing\". Why not two files like we see in others - the reason is that this event data was dumped not due to a GUANO request, but because there was a BAT triggered GRB at the same time. \n",
    "\n",
    "In this case, GRB 220101A. Looking at GCN #31347 this GRB triggered BAT at 05:09:55UT, over a minute before the INTEGRAL trigger. However, it's likely that the INTEGRAL trigger was the same GRB. \n",
    "\n",
    "### Fetching the data\n",
    "\n",
    "OK, so what if we want to process these data? Well, a full BAT analysis tutorial isn't the aim here, but a good start is to download the data associated with this trigger. We can do this with the `Swift_Data` class. We'll set `bat = True`, the auxil data will come down, and we'll download it our Downloads directory."
   ]
  },
  {
   "cell_type": "code",
   "execution_count": 11,
   "id": "59615e89",
   "metadata": {},
   "outputs": [
    {
     "data": {
      "application/vnd.jupyter.widget-view+json": {
       "model_id": "4a6768c4468a4e40974ccea73eb9b849",
       "version_major": 2,
       "version_minor": 0
      },
      "text/plain": [
       "Downloading files:   0%|          | 0/29 [00:00<?, ?files/s]"
      ]
     },
     "metadata": {},
     "output_type": "display_data"
    }
   ],
   "source": [
    "from swifttools.swift_too import Data\n",
    "\n",
    "data = Data(obsid=guano[-2].obsid, bat=True, outdir=\"~/Downloads/\", clobber=True)"
   ]
  },
  {
   "cell_type": "markdown",
   "id": "d3ff155b",
   "metadata": {},
   "source": [
    "Let's look to see what we got. As this was the data for a GRB, it will be quite a lot as this was a BAT triggered GRB."
   ]
  },
  {
   "cell_type": "code",
   "execution_count": 12,
   "id": "e848c1b1",
   "metadata": {},
   "outputs": [
    {
     "data": {
      "text/html": [
       "<table><thead><th style='text-align: left;'>Path</th><th style='text-align: left;'>Filename</th><th style='text-align: left;'>Description</th></thead><tr><td style='text-align: left;'>00031306080/auxil</td><td style='text-align: left;'>SWIFT_TLE_ARCHIVE.txt.22010.15512555.gz</td><td style='text-align: left;'>Auxillary TLE file</td></tr><tr><td style='text-align: left;'>''</td><td style='text-align: left;'>sw00031306080pat.fits.gz</td><td style='text-align: left;'>Auxillary attitude file</td></tr><tr><td style='text-align: left;'>''</td><td style='text-align: left;'>sw00031306080pjb.par.gz</td><td style='text-align: left;'>Auxillary file</td></tr><tr><td style='text-align: left;'>''</td><td style='text-align: left;'>sw00031306080pob.cat.gz</td><td style='text-align: left;'>Auxillary catalog</td></tr><tr><td style='text-align: left;'>''</td><td style='text-align: left;'>sw00031306080ppr.par.gz</td><td style='text-align: left;'>Auxillary file</td></tr><tr><td style='text-align: left;'>''</td><td style='text-align: left;'>sw00031306080s.mkf.gz</td><td style='text-align: left;'>Auxillary file</td></tr><tr><td style='text-align: left;'>''</td><td style='text-align: left;'>sw00031306080sao.fits.gz</td><td style='text-align: left;'>Auxillary file</td></tr><tr><td style='text-align: left;'>''</td><td style='text-align: left;'>sw00031306080sat.fits.gz</td><td style='text-align: left;'>Auxillary attitude file</td></tr><tr><td style='text-align: left;'>''</td><td style='text-align: left;'>sw00031306080sen.hk.gz</td><td style='text-align: left;'>Auxillary housekeeping</td></tr><tr><td style='text-align: left;'>''</td><td style='text-align: left;'>sw00031306080sti.fits.gz</td><td style='text-align: left;'>Auxillary file</td></tr><tr><td style='text-align: left;'>''</td><td style='text-align: left;'>sw00031306080uat.fits.gz</td><td style='text-align: left;'>Auxillary attitude file</td></tr><tr><td style='text-align: left;'>''</td><td style='text-align: left;'>sw00031306080x.mkf.gz</td><td style='text-align: left;'>Auxillary file</td></tr><tr><td style='text-align: left;'>00031306080/bat/event</td><td style='text-align: left;'>sw00031306080bevshpo_uf.evt.gz</td><td style='text-align: left;'>BAT pointed unfiltered event event file</td></tr><tr><td style='text-align: left;'>00031306080/bat/hk</td><td style='text-align: left;'>sw00031306080bdecb.hk.gz</td><td style='text-align: left;'>BAT housekeeping file</td></tr><tr><td style='text-align: left;'>''</td><td style='text-align: left;'>sw00031306080bdp.hk.gz</td><td style='text-align: left;'>BAT housekeeping file</td></tr><tr><td style='text-align: left;'>''</td><td style='text-align: left;'>sw00031306080bdqcb.hk.gz</td><td style='text-align: left;'>BAT housekeeping file</td></tr><tr><td style='text-align: left;'>''</td><td style='text-align: left;'>sw00031306080ben.hk.gz</td><td style='text-align: left;'>BAT housekeeping file</td></tr><tr><td style='text-align: left;'>''</td><td style='text-align: left;'>sw00031306080bevtlsp.hk.gz</td><td style='text-align: left;'>BAT housekeeping file</td></tr><tr><td style='text-align: left;'>''</td><td style='text-align: left;'>sw00031306080bevtssp.hk.gz</td><td style='text-align: left;'>BAT housekeeping file</td></tr><tr><td style='text-align: left;'>''</td><td style='text-align: left;'>sw00031306080bgocb.hk.gz</td><td style='text-align: left;'>BAT housekeeping file</td></tr><tr><td style='text-align: left;'>''</td><td style='text-align: left;'>sw00031306080bhd.hk.gz</td><td style='text-align: left;'>BAT housekeeping file</td></tr><tr><td style='text-align: left;'>00031306080/bat/masktag</td><td style='text-align: left;'>sw00031306080bmt00010005.lc.gz</td><td style='text-align: left;'>BAT mask tagged lightcurve</td></tr><tr><td style='text-align: left;'>''</td><td style='text-align: left;'>sw00031306080bmt00010005_rw.lc.gz</td><td style='text-align: left;'>BAT raw mask tagged lightcurve</td></tr><tr><td style='text-align: left;'>00031306080/bat/rate</td><td style='text-align: left;'>sw00031306080brt1s.lc.gz</td><td style='text-align: left;'>BAT rate lightcurve</td></tr><tr><td style='text-align: left;'>''</td><td style='text-align: left;'>sw00031306080brtmc.lc.gz</td><td style='text-align: left;'>BAT rate lightcurve</td></tr><tr><td style='text-align: left;'>''</td><td style='text-align: left;'>sw00031306080brtms.lc.gz</td><td style='text-align: left;'>BAT rate lightcurve</td></tr><tr><td style='text-align: left;'>''</td><td style='text-align: left;'>sw00031306080brtqd.lc.gz</td><td style='text-align: left;'>BAT rate lightcurve</td></tr><tr><td style='text-align: left;'>00031306080/bat/survey</td><td style='text-align: left;'>sw00031306080bsvpbo2a52g08e5.dph.gz</td><td style='text-align: left;'>BAT survey DPH</td></tr><tr><td style='text-align: left;'>''</td><td style='text-align: left;'>sw00031306080bsvpbo2a54g08e5.dph.gz</td><td style='text-align: left;'>BAT survey DPH</td></tr></table>"
      ],
      "text/plain": [
       "Swift_Data(username='anonymous',obsid='00031306080',quicklook='False',auxil='True',bat='True')"
      ]
     },
     "execution_count": 12,
     "metadata": {},
     "output_type": "execute_result"
    }
   ],
   "source": [
    "data"
   ]
  },
  {
   "cell_type": "markdown",
   "id": "e2a923d5",
   "metadata": {},
   "source": [
    "You can see that the all important file `sw00031306080bevshpo_uf.evt.gz` is up there in the bat/event directory. Here is the file details for the event files:"
   ]
  },
  {
   "cell_type": "code",
   "execution_count": 13,
   "id": "cdc5a141",
   "metadata": {},
   "outputs": [
    {
     "data": {
      "text/html": [
       "<table><thead><th style='text-align: left;'>Parameter</th><th style='text-align: left;'>Value</th></thead><tr><td style='text-align: left;'>filename</td><td style='text-align: left;'>sw00031306080bevshpo_uf.evt.gz</td></tr><tr><td style='text-align: left;'>path</td><td style='text-align: left;'>00031306080/bat/event</td></tr><tr><td style='text-align: left;'>url</td><td style='text-align: left;'>https://heasarc.gsfc.nasa.gov/FTP/swift/data/obs/2022_01/00031306080/b<br>at/event/sw00031306080bevshpo_uf.evt.gz</td></tr><tr><td style='text-align: left;'>quicklook</td><td style='text-align: left;'>False</td></tr><tr><td style='text-align: left;'>type</td><td style='text-align: left;'>BAT pointed unfiltered event event file</td></tr><tr><td style='text-align: left;'>size</td><td style='text-align: left;'>14008411</td></tr><tr><td style='text-align: left;'>localpath</td><td style='text-align: left;'>/Users/myuser/Downloads/00031306080/bat/event/sw00031306080bevshpo_uf.e<br>vt.gz</td></tr></table>"
      ],
      "text/plain": [
       "Swift_Data_File(filename='sw00031306080bevshpo_uf.evt.gz',path='00031306080/bat/event',url='https://heasarc.gsfc.nasa.gov/FTP/swift/data/obs/2022_01/00031306080/bat/event/sw00031306080bevshpo_uf.evt.gz',quicklook='False',type='BAT pointed unfiltered event event file')"
      ]
     },
     "execution_count": 13,
     "metadata": {},
     "output_type": "execute_result"
    }
   ],
   "source": [
    "data[12]"
   ]
  },
  {
   "cell_type": "markdown",
   "id": "466393ce",
   "metadata": {},
   "source": [
    "You can see that now the file is downloaded, `localpath` gives the full path to where the data lives.\n",
    "\n",
    "#### `swifttools 3.0.6` added `download` method.\n",
    "\n",
    "Note that you can also use the `download` method to download data, as of `swifttools` version 3.0.6. This means you don't have to start a seperate Data instance to download data, but the end result is the dame. Here is an example:\n"
   ]
  },
  {
   "cell_type": "code",
   "execution_count": 14,
   "id": "cbb36fe3",
   "metadata": {},
   "outputs": [
    {
     "data": {
      "application/vnd.jupyter.widget-view+json": {
       "model_id": "c2e97b25253d40dcbbe353b54eedf992",
       "version_major": 2,
       "version_minor": 0
      },
      "text/plain": [
       "Downloading files:   0%|          | 0/29 [00:00<?, ?files/s]"
      ]
     },
     "metadata": {},
     "output_type": "display_data"
    },
    {
     "data": {
      "text/html": [
       "<table><thead><th style='text-align: left;'>Path</th><th style='text-align: left;'>Filename</th><th style='text-align: left;'>Description</th></thead><tr><td style='text-align: left;'>00031306080/auxil</td><td style='text-align: left;'>SWIFT_TLE_ARCHIVE.txt.22010.15512555.gz</td><td style='text-align: left;'>Auxillary TLE file</td></tr><tr><td style='text-align: left;'>''</td><td style='text-align: left;'>sw00031306080pat.fits.gz</td><td style='text-align: left;'>Auxillary attitude file</td></tr><tr><td style='text-align: left;'>''</td><td style='text-align: left;'>sw00031306080pjb.par.gz</td><td style='text-align: left;'>Auxillary file</td></tr><tr><td style='text-align: left;'>''</td><td style='text-align: left;'>sw00031306080pob.cat.gz</td><td style='text-align: left;'>Auxillary catalog</td></tr><tr><td style='text-align: left;'>''</td><td style='text-align: left;'>sw00031306080ppr.par.gz</td><td style='text-align: left;'>Auxillary file</td></tr><tr><td style='text-align: left;'>''</td><td style='text-align: left;'>sw00031306080s.mkf.gz</td><td style='text-align: left;'>Auxillary file</td></tr><tr><td style='text-align: left;'>''</td><td style='text-align: left;'>sw00031306080sao.fits.gz</td><td style='text-align: left;'>Auxillary file</td></tr><tr><td style='text-align: left;'>''</td><td style='text-align: left;'>sw00031306080sat.fits.gz</td><td style='text-align: left;'>Auxillary attitude file</td></tr><tr><td style='text-align: left;'>''</td><td style='text-align: left;'>sw00031306080sen.hk.gz</td><td style='text-align: left;'>Auxillary housekeeping</td></tr><tr><td style='text-align: left;'>''</td><td style='text-align: left;'>sw00031306080sti.fits.gz</td><td style='text-align: left;'>Auxillary file</td></tr><tr><td style='text-align: left;'>''</td><td style='text-align: left;'>sw00031306080uat.fits.gz</td><td style='text-align: left;'>Auxillary attitude file</td></tr><tr><td style='text-align: left;'>''</td><td style='text-align: left;'>sw00031306080x.mkf.gz</td><td style='text-align: left;'>Auxillary file</td></tr><tr><td style='text-align: left;'>00031306080/bat/event</td><td style='text-align: left;'>sw00031306080bevshpo_uf.evt.gz</td><td style='text-align: left;'>BAT pointed unfiltered event event file</td></tr><tr><td style='text-align: left;'>00031306080/bat/hk</td><td style='text-align: left;'>sw00031306080bdecb.hk.gz</td><td style='text-align: left;'>BAT housekeeping file</td></tr><tr><td style='text-align: left;'>''</td><td style='text-align: left;'>sw00031306080bdp.hk.gz</td><td style='text-align: left;'>BAT housekeeping file</td></tr><tr><td style='text-align: left;'>''</td><td style='text-align: left;'>sw00031306080bdqcb.hk.gz</td><td style='text-align: left;'>BAT housekeeping file</td></tr><tr><td style='text-align: left;'>''</td><td style='text-align: left;'>sw00031306080ben.hk.gz</td><td style='text-align: left;'>BAT housekeeping file</td></tr><tr><td style='text-align: left;'>''</td><td style='text-align: left;'>sw00031306080bevtlsp.hk.gz</td><td style='text-align: left;'>BAT housekeeping file</td></tr><tr><td style='text-align: left;'>''</td><td style='text-align: left;'>sw00031306080bevtssp.hk.gz</td><td style='text-align: left;'>BAT housekeeping file</td></tr><tr><td style='text-align: left;'>''</td><td style='text-align: left;'>sw00031306080bgocb.hk.gz</td><td style='text-align: left;'>BAT housekeeping file</td></tr><tr><td style='text-align: left;'>''</td><td style='text-align: left;'>sw00031306080bhd.hk.gz</td><td style='text-align: left;'>BAT housekeeping file</td></tr><tr><td style='text-align: left;'>00031306080/bat/masktag</td><td style='text-align: left;'>sw00031306080bmt00010005.lc.gz</td><td style='text-align: left;'>BAT mask tagged lightcurve</td></tr><tr><td style='text-align: left;'>''</td><td style='text-align: left;'>sw00031306080bmt00010005_rw.lc.gz</td><td style='text-align: left;'>BAT raw mask tagged lightcurve</td></tr><tr><td style='text-align: left;'>00031306080/bat/rate</td><td style='text-align: left;'>sw00031306080brt1s.lc.gz</td><td style='text-align: left;'>BAT rate lightcurve</td></tr><tr><td style='text-align: left;'>''</td><td style='text-align: left;'>sw00031306080brtmc.lc.gz</td><td style='text-align: left;'>BAT rate lightcurve</td></tr><tr><td style='text-align: left;'>''</td><td style='text-align: left;'>sw00031306080brtms.lc.gz</td><td style='text-align: left;'>BAT rate lightcurve</td></tr><tr><td style='text-align: left;'>''</td><td style='text-align: left;'>sw00031306080brtqd.lc.gz</td><td style='text-align: left;'>BAT rate lightcurve</td></tr><tr><td style='text-align: left;'>00031306080/bat/survey</td><td style='text-align: left;'>sw00031306080bsvpbo2a52g08e5.dph.gz</td><td style='text-align: left;'>BAT survey DPH</td></tr><tr><td style='text-align: left;'>''</td><td style='text-align: left;'>sw00031306080bsvpbo2a54g08e5.dph.gz</td><td style='text-align: left;'>BAT survey DPH</td></tr></table>"
      ],
      "text/plain": [
       "Swift_Data(username='anonymous',obsid='00031306080',quicklook='False',auxil='True',bat='True')"
      ]
     },
     "execution_count": 14,
     "metadata": {},
     "output_type": "execute_result"
    }
   ],
   "source": [
    "guano[-2].download(bat=True, outdir=\"~/Downloads/\", clobber=True)"
   ]
  },
  {
   "cell_type": "markdown",
   "id": "ed8f1ab6",
   "metadata": {},
   "source": [
    "That's all folks!"
   ]
  }
 ],
 "metadata": {
  "kernelspec": {
   "display_name": "Python 3 (ipykernel)",
   "language": "python",
   "name": "python3"
  },
  "language_info": {
   "codemirror_mode": {
    "name": "ipython",
    "version": 3
   },
   "file_extension": ".py",
   "mimetype": "text/x-python",
   "name": "python",
   "nbconvert_exporter": "python",
   "pygments_lexer": "ipython3",
   "version": "3.9.14"
  }
 },
 "nbformat": 4,
 "nbformat_minor": 5
}
