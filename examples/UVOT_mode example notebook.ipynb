{
 "cells": [
  {
   "cell_type": "markdown",
   "id": "vocational-occasions",
   "metadata": {},
   "source": [
    "# `swift_too` module\n",
    "\n",
    "## `UVOTMode` example - querying UVOT mode table\n",
    "\n",
    "### API version = 1.2, `swifttools` version = 3.0.8\n",
    "\n",
    "#### Author: Jamie A. Kennea (Penn State)\n",
    "\n",
    "For a given UVOT mode hex value, find out exactly what it does."
   ]
  },
  {
   "cell_type": "markdown",
   "id": "efficient-journalism",
   "metadata": {},
   "source": [
    "# Initialization \n",
    "\n",
    "First we import the UVOTMode class. Note: As of `swifttools 3.0.8` we have changed the name of this class to a more [PEP8](https://peps.python.org/pep-0008/#class-names) compliant `UVOTMode`. The old `UVOT_Mode` still works!"
   ]
  },
  {
   "cell_type": "code",
   "execution_count": 1,
   "id": "reasonable-allocation",
   "metadata": {},
   "outputs": [],
   "source": [
    "from swifttools.swift_too import UVOTMode"
   ]
  },
  {
   "cell_type": "markdown",
   "id": "therapeutic-collectible",
   "metadata": {},
   "source": [
    "# Submit the query\n",
    "\n",
    "Now submit the query using the function call form of the class. Note that as of `swifttools 2.2` the default login is anonymous, so we don't have to give that as a parameter. Note that you can give the requested UVOT mode as an argument either by passing `uvotmode = 0x30ed` or simply by passing `0x30ed` as `uvotmode` is the default first argument."
   ]
  },
  {
   "cell_type": "code",
   "execution_count": 2,
   "id": "involved-penny",
   "metadata": {},
   "outputs": [],
   "source": [
    "query = UVOTMode(0x30ED)"
   ]
  },
  {
   "cell_type": "markdown",
   "id": "speaking-gross",
   "metadata": {},
   "source": [
    "Now check the query was accepted and worked."
   ]
  },
  {
   "cell_type": "code",
   "execution_count": 3,
   "id": "ordered-consumption",
   "metadata": {},
   "outputs": [
    {
     "name": "stdout",
     "output_type": "stream",
     "text": [
      "Status: Accepted\n"
     ]
    }
   ],
   "source": [
    "if query.status == \"Accepted\":\n",
    "    print(f\"Status: {query.status.status}\")\n",
    "else:\n",
    "    print(f\"Errors in query: {[error for error in query.status.errors]}\")"
   ]
  },
  {
   "cell_type": "markdown",
   "id": "enabling-slovakia",
   "metadata": {},
   "source": [
    "# Display Results\n",
    "\n",
    "Now the query has been accepted, we can display the results by simply typing in the name of the query object into the command line."
   ]
  },
  {
   "cell_type": "code",
   "execution_count": 4,
   "id": "informal-franklin",
   "metadata": {},
   "outputs": [
    {
     "data": {
      "text/html": [
       "<h2>UVOT Mode: 0x30ed</h2><p>The following table summarizes this mode, ordered by the filter sequence:</p><table id=\"modelist\" cellpadding=4 cellspacing=0><tr><th>Filter</th><th>Event FOV</th><th>Image FOV</th><th>Bin Size</th><th>Max. Exp. Time</th><th>Weighting</th><th>Comments</th></tr><tr\"><td>uvw1</td><td>None</td><td>17</td><td>2</td><td>540</td><td>1500</td><td>BLUE WEIGHTING</td></tr><tr\"><td>u</td><td>None</td><td>17</td><td>2</td><td>270</td><td>750</td><td>BLUE WEIGHTING</td></tr><tr\"><td>b</td><td>None</td><td>17</td><td>2</td><td>270</td><td>750</td><td>BLUE WEIGHTING</td></tr><tr\"><td>uvw2</td><td>None</td><td>17</td><td>2</td><td>1000</td><td>3000</td><td>BLUE WEIGHTING</td></tr><tr\"><td>v</td><td>None</td><td>17</td><td>2</td><td>270</td><td>750</td><td>BLUE WEIGHTING</td></tr><tr\"><td>uvm2</td><td>None</td><td>17</td><td>2</td><td>1000</td><td>2250</td><td>BLUE WEIGHTING</td></tr></table><p id=\"terms\"><small><b>Filter: </b>The particular filter in the sequence.<br><b>Event FOV: </b>The size of the FOV (in arc-minutes) for UVOT event data.<br><b>Image FOV: </b>The size of the FOV (in arc-minutes) for UVOT image data.<br><b>Max. Exp. Time: </b>The maximum amount of time the snapshot will spend on the particular filter in the sequence.<br><b>Weighting: </b>Ratio of time spent on the particular filter in the sequence.<br><b>Comments: </b>Additional notes that may be useful to know.<br></small></p>"
      ],
      "text/plain": [
       "UVOT_mode(username='anonymous',uvotmode='0x30ed')"
      ]
     },
     "execution_count": 4,
     "metadata": {},
     "output_type": "execute_result"
    }
   ],
   "source": [
    "query"
   ]
  },
  {
   "cell_type": "markdown",
   "id": "temporal-indicator",
   "metadata": {},
   "source": [
    "This is formatted as a pretty table for Jupyter Notebooks, but also formatted for fixed-width font text if run on the command line Python or printed, e.g.:"
   ]
  },
  {
   "cell_type": "code",
   "execution_count": 5,
   "id": "simple-rebate",
   "metadata": {},
   "outputs": [
    {
     "name": "stdout",
     "output_type": "stream",
     "text": [
      "UVOT Mode: 0x30ed\n",
      "The following table summarizes this mode, ordered by the filter sequence:\n",
      "+--------+-----------+-----------+----------+----------------+-----------+----------------+\n",
      "| Filter | Event FOV | Image FOV | Bin Size | Max. Exp. Time | Weighting |    Comments    |\n",
      "|  uvw1  |           |    17     |    2     |      540       |   1500    | BLUE WEIGHTING |\n",
      "|   u    |           |    17     |    2     |      270       |    750    | BLUE WEIGHTING |\n",
      "|   b    |           |    17     |    2     |      270       |    750    | BLUE WEIGHTING |\n",
      "|  uvw2  |           |    17     |    2     |      1000      |   3000    | BLUE WEIGHTING |\n",
      "|   v    |           |    17     |    2     |      270       |    750    | BLUE WEIGHTING |\n",
      "|  uvm2  |           |    17     |    2     |      1000      |   2250    | BLUE WEIGHTING |\n",
      "+--------+-----------+-----------+----------+----------------+-----------+----------------+\n",
      "Filter: The particular filter in the sequence.\n",
      "Event FOV: The size of the FOV (in arc-minutes) for UVOT event data.\n",
      "Image FOV: The size of the FOV (in arc-minutes) for UVOT image data.\n",
      "Max. Exp. Time: The maximum amount of time the snapshot will spend on the particular filter in the sequence.\n",
      "Weighting: Ratio of time spent on the particular filter in the sequence.\n",
      "Comments: Additional notes that may be useful to know.\n",
      "\n"
     ]
    }
   ],
   "source": [
    "print(query)"
   ]
  },
  {
   "cell_type": "markdown",
   "id": "impaired-baking",
   "metadata": {},
   "source": [
    "Of course all the data from this table is included in the class, and some data also that is not in the table."
   ]
  },
  {
   "cell_type": "code",
   "execution_count": 6,
   "id": "illegal-international",
   "metadata": {},
   "outputs": [
    {
     "data": {
      "text/html": [
       "<table><thead><th style='text-align: left;'>Parameter</th><th style='text-align: left;'>Value</th></thead><tr><td style='text-align: left;'>uvotmode</td><td style='text-align: left;'>12525</td></tr><tr><td style='text-align: left;'>filter_num</td><td style='text-align: left;'>6</td></tr><tr><td style='text-align: left;'>min_exposure</td><td style='text-align: left;'>600</td></tr><tr><td style='text-align: left;'>filter_name</td><td style='text-align: left;'>uvw1</td></tr><tr><td style='text-align: left;'>filter_pos</td><td style='text-align: left;'>6</td></tr><tr><td style='text-align: left;'>filter_seqid</td><td style='text-align: left;'>1</td></tr><tr><td style='text-align: left;'>field_of_view</td><td style='text-align: left;'>17</td></tr><tr><td style='text-align: left;'>binning</td><td style='text-align: left;'>2</td></tr><tr><td style='text-align: left;'>max_exposure</td><td style='text-align: left;'>540</td></tr><tr><td style='text-align: left;'>weight</td><td style='text-align: left;'>1500</td></tr><tr><td style='text-align: left;'>comment</td><td style='text-align: left;'>BLUE WEIGHTING</td></tr></table>"
      ],
      "text/plain": [
       "UVOT_mode_entry(uvotmode='12525',filter_num='6',min_exposure='600',filter_name='uvw1',filter_pos='6',filter_seqid='1',field_of_view='17',binning='2',max_exposure='540',weight='1500',special='',comment='BLUE WEIGHTING')"
      ]
     },
     "execution_count": 6,
     "metadata": {},
     "output_type": "execute_result"
    }
   ],
   "source": [
    "query.entries[0]"
   ]
  },
  {
   "cell_type": "markdown",
   "id": "b976424c",
   "metadata": {},
   "source": [
    "### Bright Star Checking\n",
    "\n",
    "As of `swifttools 3.0.6` if you pass the coordinates of an object to `UVOTMode`, a check if this is a valid mode for that area of sky is made. For some regions around bright stars, UVOT modes are excluded. If any filter in the selected mode is not allowed, UVOTMode will return an error. Here's an example, looking at a very bright star:"
   ]
  },
  {
   "cell_type": "code",
   "execution_count": 7,
   "id": "c43f4456",
   "metadata": {},
   "outputs": [
    {
     "data": {
      "text/html": [
       "<b>Rejected with the following error(s): </b>The following UVOT filters are not allowed due to a bright star: uvw1, u, b, uvw2, v, uvm2."
      ],
      "text/plain": [
       "UVOT_mode(username='anonymous',uvotmode='0x30ed',ra='279.23473458333336',dec='38.78368888888889')"
      ]
     },
     "execution_count": 7,
     "metadata": {},
     "output_type": "execute_result"
    }
   ],
   "source": [
    "UVOTMode(name='Vega',uvotmode=0x30ed)"
   ]
  },
  {
   "cell_type": "markdown",
   "id": "7b8a85b9",
   "metadata": {},
   "source": [
    "The error reported here shows that all 6 filters are not allow, in fact as Vega is a 0th magntude star, you can't look at it with UVOT. \n",
    "\n",
    "More detailed bright star checking is planned for a future API update. Please discuss UVOT filter choices with the Swift team!"
   ]
  }
 ],
 "metadata": {
  "kernelspec": {
   "display_name": "Python 3 (ipykernel)",
   "language": "python",
   "name": "python3"
  },
  "language_info": {
   "codemirror_mode": {
    "name": "ipython",
    "version": 3
   },
   "file_extension": ".py",
   "mimetype": "text/x-python",
   "name": "python",
   "nbconvert_exporter": "python",
   "pygments_lexer": "ipython3",
   "version": "3.9.14"
  }
 },
 "nbformat": 4,
 "nbformat_minor": 5
}
